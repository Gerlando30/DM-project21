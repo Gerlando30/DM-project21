{
 "cells": [
  {
   "cell_type": "markdown",
   "metadata": {},
   "source": [
    "## Loading Data and Data integration\n",
    "in this notebook we load and create our dataset that we'll use for the rest of the project"
   ]
  },
  {
   "cell_type": "code",
   "execution_count": 1,
   "metadata": {},
   "outputs": [],
   "source": [
    "import pandas as pd"
   ]
  },
  {
   "cell_type": "markdown",
   "metadata": {},
   "source": [
    "## Loading the data set\n",
    "\n",
    "Read the .csv file containing the data. The first line contains the list of attributes. The data is assigned to a Pandas dataframe."
   ]
  },
  {
   "cell_type": "code",
   "execution_count": 2,
   "metadata": {
    "scrolled": true
   },
   "outputs": [
    {
     "name": "stdout",
     "output_type": "stream",
     "text": [
      "  tourney_id tourney_name surface  draw_size tourney_level  tourney_date  \\\n",
      "0  2019-M020     Brisbane    Hard       32.0             A    20181231.0   \n",
      "1  2019-M020     Brisbane    Hard       32.0             A    20181231.0   \n",
      "2  2019-M020     Brisbane    Hard       32.0             A    20181231.0   \n",
      "3  2019-M020     Brisbane    Hard       32.0             A    20181231.0   \n",
      "4  2019-M020     Brisbane    Hard       32.0             A    20181231.0   \n",
      "\n",
      "   match_num  winner_id winner_entry         winner_name  ... l_2ndWon  \\\n",
      "0      300.0   105453.0          NaN       Kei Nishikori  ...     20.0   \n",
      "1      299.0   106421.0          NaN     Daniil Medvedev  ...      7.0   \n",
      "2      298.0   105453.0          NaN       Kei Nishikori  ...      6.0   \n",
      "3      297.0   104542.0           PR  Jo-Wilfried Tsonga  ...      9.0   \n",
      "4      296.0   106421.0          NaN     Daniil Medvedev  ...     19.0   \n",
      "\n",
      "   l_SvGms l_bpSaved  l_bpFaced  winner_rank winner_rank_points loser_rank  \\\n",
      "0     14.0      10.0       15.0          9.0             3590.0       16.0   \n",
      "1     10.0      10.0       13.0         16.0             1977.0      239.0   \n",
      "2      8.0       1.0        5.0          9.0             3590.0       40.0   \n",
      "3     11.0       4.0        6.0        239.0              200.0       31.0   \n",
      "4     15.0       2.0        4.0         16.0             1977.0       18.0   \n",
      "\n",
      "  loser_rank_points  tourney_spectators tourney_revenue  \n",
      "0            1977.0              3928.0       742618.69  \n",
      "1             200.0              3928.0       742618.69  \n",
      "2            1050.0              3928.0       742618.69  \n",
      "3            1298.0              3928.0       742618.69  \n",
      "4            1855.0              3928.0       742618.69  \n",
      "\n",
      "[5 rows x 49 columns]\n"
     ]
    }
   ],
   "source": [
    "df = pd.read_csv('tennis_matches.csv', index_col = 0)#, sep=',', index_col=0) #alternative in case of json source df.to_json('filename.json')\n",
    "print(df.head()) #print the first records of a df, \n",
    "# print()\n",
    "# print(df.tail()) #print the last records of a df."
   ]
  },
  {
   "cell_type": "markdown",
   "metadata": {},
   "source": [
    "# Data Integration\n",
    "We load another table containing the name and surname of male and female people, we eliminate duplicates, mark NaN genders as 'U' and concatenate Female and Male tables in a unique table called table_gender"
   ]
  },
  {
   "cell_type": "code",
   "execution_count": 3,
   "metadata": {},
   "outputs": [],
   "source": [
    "df_male = pd.read_csv('male_players.csv')#, sep=',') \n",
    "df_male.dropna(inplace=True)\n",
    "df_male_names = pd.DataFrame()\n",
    "df_male_names['Name'] = df_male['name'].astype(str) + \" \" + df_male['surname'].astype(str)\n",
    "df_male_names.drop_duplicates(inplace=True)\n",
    "\n",
    "#print(df_male_names.isna().sum())\n",
    "#print(df_male_names.isnull().sum())\n",
    "#print(df_male_names.describe())\n",
    "#print(df_male_names)\n",
    "\n",
    "df_male_names.insert(1, 'gender', 'M', allow_duplicates=True)\n",
    "#print(df_male_names)\n",
    "\n",
    "df_female = pd.read_csv('female_players.csv')#, sep=',') \n",
    "df_female.dropna(inplace=True)\n",
    "df_female_names = pd.DataFrame()\n",
    "df_female_names['Name'] = df_female['name'].astype(str) + \" \" + df_female['surname'].astype(str)\n",
    "df_female_names.drop_duplicates(inplace=True)\n",
    "df_female_names.insert(1, 'gender', 'F', allow_duplicates=True)\n",
    "#print(df_female_names)\n",
    "\n",
    "\n",
    "result = pd.concat([df_male_names, df_female_names]) #we create a new table to have the global view\n",
    "#print(result.duplicated(subset=['Name']).any())\n",
    "#print(result.describe())\n",
    "\n",
    "pd.options.mode.chained_assignment = None \n",
    "\n",
    "duplicateDFRow = result[result.duplicated(['Name'], keep=False)]\n",
    "duplicateDFRow.drop_duplicates(subset=['Name'], inplace=True)\n",
    "duplicateDFRow['gender'].replace({\"M\": 'U'},inplace=True)\n",
    "\n",
    "#print(result.describe())\n",
    "#print(duplicateDFRow.describe())\n",
    "\n",
    "table_gender = pd.concat([result, duplicateDFRow]) \n",
    "\n",
    "table_gender.drop_duplicates(subset=['Name'], keep='last', inplace=True)\n",
    "\n",
    "#print(table_gender['gender'].describe())"
   ]
  },
  {
   "cell_type": "markdown",
   "metadata": {},
   "source": [
    "Then we join the matchs's table with the table_gender"
   ]
  },
  {
   "cell_type": "code",
   "execution_count": 4,
   "metadata": {},
   "outputs": [],
   "source": [
    "#df.drop_duplicates(inplace = True)\n",
    "matches = df\n",
    "#print(tmp.info())\n",
    "matches = matches.join(table_gender.set_index('Name'), on='winner_name')\n",
    "matches.rename(columns={'gender': 'winner_gender'}, inplace = True)\n",
    "#print(tmp['winner_name'].head(), tmp['gender'].head())\n",
    "matches = matches.join(table_gender.set_index('Name'), on='loser_name')\n",
    "matches.rename(columns={'gender': 'loser_gender'}, inplace = True)\n",
    "matches.to_csv('matches_with_gender.csv')\n",
    "#print(tmp.head())\n",
    "#print(tmp.info())"
   ]
  },
  {
   "cell_type": "code",
   "execution_count": null,
   "metadata": {},
   "outputs": [],
   "source": []
  },
  {
   "cell_type": "code",
   "execution_count": null,
   "metadata": {},
   "outputs": [],
   "source": []
  },
  {
   "cell_type": "code",
   "execution_count": null,
   "metadata": {},
   "outputs": [],
   "source": []
  }
 ],
 "metadata": {
  "kernelspec": {
   "display_name": "Python 3",
   "language": "python",
   "name": "python3"
  },
  "language_info": {
   "codemirror_mode": {
    "name": "ipython",
    "version": 3
   },
   "file_extension": ".py",
   "mimetype": "text/x-python",
   "name": "python",
   "nbconvert_exporter": "python",
   "pygments_lexer": "ipython3",
   "version": "3.8.3"
  }
 },
 "nbformat": 4,
 "nbformat_minor": 4
}
