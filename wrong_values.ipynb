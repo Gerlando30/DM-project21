{
 "cells": [
  {
   "cell_type": "code",
   "execution_count": 1,
   "id": "86ff33b4",
   "metadata": {},
   "outputs": [],
   "source": [
    "import pandas as pd\n",
    "import pycountry \n",
    "import math\n",
    "import numpy as np\n",
    "import difflib\n",
    "#import scipy.stats as stats\n",
    "import matplotlib.pyplot as plt\n",
    "from collections import defaultdict\n",
    "#from scipy.stats.stats import pearsonr"
   ]
  },
  {
   "cell_type": "code",
   "execution_count": 2,
   "id": "376d7731",
   "metadata": {},
   "outputs": [
    {
     "name": "stdout",
     "output_type": "stream",
     "text": [
      "<class 'pandas.core.frame.DataFrame'>\n",
      "Int64Index: 186128 entries, 0 to 186127\n",
      "Data columns (total 51 columns):\n",
      " #   Column              Non-Null Count   Dtype  \n",
      "---  ------              --------------   -----  \n",
      " 0   tourney_id          186073 non-null  object \n",
      " 1   tourney_name        186103 non-null  object \n",
      " 2   surface             185940 non-null  object \n",
      " 3   draw_size           186099 non-null  float64\n",
      " 4   tourney_level       186099 non-null  object \n",
      " 5   tourney_date        186100 non-null  float64\n",
      " 6   match_num           186101 non-null  float64\n",
      " 7   winner_id           186073 non-null  float64\n",
      " 8   winner_entry        25827 non-null   object \n",
      " 9   winner_name         186101 non-null  object \n",
      " 10  winner_hand         186082 non-null  object \n",
      " 11  winner_ht           49341 non-null   float64\n",
      " 12  winner_ioc          186099 non-null  object \n",
      " 13  winner_age          183275 non-null  float64\n",
      " 14  loser_id            186100 non-null  float64\n",
      " 15  loser_entry         44154 non-null   object \n",
      " 16  loser_name          186097 non-null  object \n",
      " 17  loser_hand          186030 non-null  object \n",
      " 18  loser_ht            38348 non-null   float64\n",
      " 19  loser_ioc           186102 non-null  object \n",
      " 20  loser_age           179590 non-null  float64\n",
      " 21  score               185929 non-null  object \n",
      " 22  best_of             186099 non-null  float64\n",
      " 23  round               186098 non-null  object \n",
      " 24  minutes             81660 non-null   float64\n",
      " 25  w_ace               82310 non-null   float64\n",
      " 26  w_df                82312 non-null   float64\n",
      " 27  w_svpt              82310 non-null   float64\n",
      " 28  w_1stIn             82310 non-null   float64\n",
      " 29  w_1stWon            82312 non-null   float64\n",
      " 30  w_2ndWon            82309 non-null   float64\n",
      " 31  w_SvGms             82311 non-null   float64\n",
      " 32  w_bpSaved           82315 non-null   float64\n",
      " 33  w_bpFaced           82312 non-null   float64\n",
      " 34  l_ace               82313 non-null   float64\n",
      " 35  l_df                82319 non-null   float64\n",
      " 36  l_svpt              82315 non-null   float64\n",
      " 37  l_1stIn             82304 non-null   float64\n",
      " 38  l_1stWon            82311 non-null   float64\n",
      " 39  l_2ndWon            82312 non-null   float64\n",
      " 40  l_SvGms             82318 non-null   float64\n",
      " 41  l_bpSaved           82311 non-null   float64\n",
      " 42  l_bpFaced           82306 non-null   float64\n",
      " 43  winner_rank         166719 non-null  float64\n",
      " 44  winner_rank_points  166701 non-null  float64\n",
      " 45  loser_rank          150845 non-null  float64\n",
      " 46  loser_rank_points   150828 non-null  float64\n",
      " 47  tourney_spectators  186101 non-null  float64\n",
      " 48  tourney_revenue     186102 non-null  float64\n",
      " 49  winner_gender       183424 non-null  object \n",
      " 50  loser_gender        183999 non-null  object \n",
      "dtypes: float64(35), object(16)\n",
      "memory usage: 73.8+ MB\n"
     ]
    }
   ],
   "source": [
    "df = df = pd.read_csv('matches_with_gender.csv', index_col = 0)\n",
    "df.info()"
   ]
  },
  {
   "cell_type": "markdown",
   "id": "9ac4d062",
   "metadata": {},
   "source": [
    "## wrong values check"
   ]
  },
  {
   "cell_type": "markdown",
   "id": "d094e278",
   "metadata": {},
   "source": [
    "### tourney_name"
   ]
  },
  {
   "cell_type": "markdown",
   "id": "0178a4b0",
   "metadata": {},
   "source": [
    "id con più nomi associati"
   ]
  },
  {
   "cell_type": "code",
   "execution_count": 3,
   "id": "c4e6026e",
   "metadata": {},
   "outputs": [
    {
     "data": {
      "text/plain": [
       "53"
      ]
     },
     "execution_count": 3,
     "metadata": {},
     "output_type": "execute_result"
    }
   ],
   "source": [
    "df['tourney_name']=df['tourney_name'].str.upper()\n",
    "df['tourney_id']= df['tourney_id'].str[5:]\n",
    "df['tourney_name']=df['tourney_name'].replace({' CH': '', '  CH': '', \"'\": '', \"-\": '', ' MASTERS':'','  ':' ','  ':' '}, regex=True)\n",
    "TourneyId_name = df.groupby(['tourney_id']).tourney_name.nunique() # it contains each value of TourneyId and the number of Tourneyname values it is associated with \n",
    "TourneyId_name = TourneyId_name[TourneyId_name > 1] # it contains the TourneyId values associated with more than one Tourneyname value\n",
    "\n",
    "df[df.tourney_id.isin(TourneyId_name.index)].groupby(['tourney_id']).tourney_name.unique().count()\n",
    "\n"
   ]
  },
  {
   "cell_type": "code",
   "execution_count": 4,
   "id": "8aa370b5",
   "metadata": {},
   "outputs": [
    {
     "data": {
      "text/plain": [
       "26"
      ]
     },
     "execution_count": 4,
     "metadata": {},
     "output_type": "execute_result"
    }
   ],
   "source": [
    "df['tourney_name']=df['tourney_name'].replace({ \n",
    "                                                'JAPAN OPEN TOKYO': 'TOKYO',\n",
    "                                                'HIROSHIMA' : 'TOKYO',\n",
    "                                                'ST. PETERSBURG': 'ST PETERSBURG',\n",
    "                                                'CHAMPAIGN': 'CHAMPAIGNURBANA',\n",
    "                                                'STANFORD': 'SAN JOSE',\n",
    "                                                'EASTBOURNE': 'NOTTINGHAM',\n",
    "                                                'SEVILLE': 'SEVILLA',\n",
    "                                                'TORONTO': 'MONTREAL',\n",
    "                                                'MONTREAL': 'TORONTO ',\n",
    "                                                'SHENZHEN FINALS': 'SINGAPORE',\n",
    "                                                'PUNE': 'CHENNAI',\n",
    "                                                'TOKYO': 'OSAKA',\n",
    "                                                'CALVIA': 'MALLORCA',\n",
    "                                                'GSTAAD': 'LAUSANNE',\n",
    "                                                'TAIPEI': 'HUA HIN',\n",
    "                                                'ST. BRIEUC': 'SAINT BRIEUC',\n",
    "                                                'SAINT BRIEUC': 'ST.BRIEUC',\n",
    "                                                'CHICAGO': 'CHICAGO5',\n",
    "                                                'ROME': 'ROME ',\n",
    "                                                'ASTANA': 'NURSULTAN',\n",
    "                                                'TODI': 'LAQUILA',\n",
    "                                                'SAN BENEDETTO DEL TRONTO': 'SAN BENEDETTO',\n",
    "                                                'TASHKENT': 'TASHKENT ',\n",
    "                                                'BUCARAMANGA': 'FLORIDABLANCA',\n",
    "                                                'BANGKOK': 'BANGKOK ',\n",
    "                                                'ROME': 'ROME ',\n",
    "                                                'SARASOTA': 'BRADENTON',\n",
    "                                                'DOHA AUS OPEN QUALIES': 'DUBAI AUS OPEN QUALIES',\n",
    "                                                'LIBEREC': 'LIBEREC ',\n",
    "                                                'MORELOS': 'CUERNAVACA',\n",
    "                                                'AIX EN PROVENCE': 'AIXENPROVENCE',\n",
    "                                                'COLUMBUS': 'ANN ARBOR',\n",
    "                                                'HOI MINH': 'HOI MINH CITY',\n",
    "                                                'NONGBO': 'NINGBO',\n",
    "                                                'CANBERRA': 'BENDIGO',\n",
    "                                                'BUENOS AIRES': 'TIGRE',\n",
    "                                                'LYON': 'LYON ',\n",
    "                                                'CANBERRA': 'PLAYFORD',\n",
    "                                                'KOBLENZ': 'KOBLENZ ',\n",
    "                                                'LISBON': 'LISBOA',\n",
    "                                                'VANCOUVER': 'VANCOUVER ',\n",
    "                                                'BANGALORE': 'BENGALURU',\n",
    "                                                'BENDIGO': 'PLAYFORD',\n",
    "                                                'ALICANTE': 'VILLENA',\n",
    "                                                'NURSULTAN ': 'NURSULTAN',\n",
    "                                                'POPRAD': 'POPRADTATRY',\n",
    "                                                'POPRADTATRY': 'BRATISLAVA',\n",
    "                                                'BRATISLAVA': 'POPRAD TATRY',\n",
    "                                                'NEW HAVEN': 'CHICAGO',\n",
    "                                                'FLORENCE': 'FLORENCE ',\n",
    "                                                'CALGARY': 'CALGARY ',\n",
    "                                                'S HERTOGENBOSCH': 'SHERTOGENBOSCH',\n",
    "                                                'BEIJING': 'BEIJING ',\n",
    "                                                'OLYMPICS': 'RIO OLYMPICS',\n",
    "                                                'CHAMPAIGNURBANA': 'CHAMPAIGNURBANAURBANA',                          \n",
    "                                                'MONTREAL': 'TORONTO ',\n",
    "                                                'TORONTO ': 'MONTREAL ',\n",
    "                                                'SAINT BRIEUC': 'ST.BRIEUC',\n",
    "                                                'CHICAGO5': 'CHICAGO55',\n",
    "                                                'ROME ': 'ROME  ',\n",
    "                                                'TASHKENT ': 'TASHKENT  ',\n",
    "                                                'BANGKOK ': 'BANGKOK  ',\n",
    "                                                'ROME ': 'ROME  ',\n",
    "                                                'LIBEREC ': 'LIBEREC  ',\n",
    "                                                'HOI MINH CITY': 'HOI MINH CITY CITY',\n",
    "                                                'LYON ': 'LYON  ',\n",
    "                                                'KOBLENZ ': 'KOBLENZ  ',\n",
    "                                                'VANCOUVER ': 'VANCOUVER  ',\n",
    "                                                'POPRADTATRY': 'BRATISLAVATATRY',\n",
    "                                                'BRATISLAVATATRY': 'POPRAD TATRY',\n",
    "                                                'POPRAD TATRY': 'P...',\n",
    "                                                'CHICAGO': 'CHICAGO5',\n",
    "                                                'FLORENCE ': 'FLORENCE  ',\n",
    "                                                'CALGARY ': 'CALGARY  ',\n",
    "                                                'BEIJING ': 'BEIJING  ',\n",
    "                                                  \n",
    "        'RIO OLYMPICS': 'RIO RIO OLYMPICS',}, regex=True)\n",
    "\n",
    "#df['tourney_name']=df['tourney_name'].replace({ ' 1':'', '125':'', '2':''}, regex=True)\n",
    "\n",
    "TourneyId_name = df.groupby(['tourney_id']).tourney_name.nunique() # it contains each value of TourneyId and the number of Tourneyname values it is associated with \n",
    "TourneyId_name = TourneyId_name[TourneyId_name > 1] # it contains the TourneyId values associated with more than one Tourneyname value\n",
    "\n",
    "df[df.tourney_id.isin(TourneyId_name.index)].groupby(['tourney_id']).tourney_name.unique().count()\n",
    "\n"
   ]
  },
  {
   "cell_type": "markdown",
   "id": "46dc38f7",
   "metadata": {},
   "source": [
    "nomi dei tornei con più id"
   ]
  },
  {
   "cell_type": "code",
   "execution_count": 5,
   "id": "9d151488",
   "metadata": {},
   "outputs": [
    {
     "name": "stdout",
     "output_type": "stream",
     "text": [
      "tourney_name\n",
      "ANTALYA $15K     65\n",
      "HAMMAMET $15K    59\n",
      "W15 ANTALYA      72\n",
      "W15 MONASTIR     70\n",
      "Name: tourney_id, dtype: int64\n"
     ]
    }
   ],
   "source": [
    "TourneyId_name = df.groupby(['tourney_name']).tourney_id.nunique() # it contains each value of TourneyId and the number of Tourneyname values it is associated with \n",
    "TourneyId_name = TourneyId_name[TourneyId_name > 50] # it contains the TourneyId values associated with more than one Tourneyname value\n",
    "\n",
    "print(TourneyId_name)\n",
    "\n"
   ]
  },
  {
   "cell_type": "markdown",
   "id": "2b3ca66b",
   "metadata": {},
   "source": [
    "## winner_name and loser_name\n",
    "\n",
    "\n",
    "cocatenare senza spazio "
   ]
  },
  {
   "cell_type": "code",
   "execution_count": 6,
   "id": "90a51812",
   "metadata": {},
   "outputs": [
    {
     "data": {
      "text/plain": [
       "winner_name\n",
       "ASTRID CIROTTE             [236980.0, 223401.0]\n",
       "FITRIANI SABATINI          [221189.0, 239429.0]\n",
       "KUAN YI LEE                [134120.0, 221745.0]\n",
       "LIISA VARUL                [222914.0, 222915.0]\n",
       "MARIA FERNANDA NAVARRO     [223367.0, 223287.0]\n",
       "NANA KAWAGISHI             [221771.0, 244078.0]\n",
       "SOFIA NAHIARA GARCIA       [220928.0, 236977.0]\n",
       "STANISLAVA BOBROVNIKOVA    [221347.0, 225865.0]\n",
       "VALENTINA LIA              [220334.0, 239415.0]\n",
       "Name: winner_id, dtype: object"
      ]
     },
     "execution_count": 6,
     "metadata": {},
     "output_type": "execute_result"
    }
   ],
   "source": [
    "df['winner_name']=df['winner_name'].str.upper()\n",
    "#df['winner_name']=df['winner_name'].replace({' ':'','  ':''}, regex=True)\n",
    "WinnerId_name = df.groupby(['winner_name']).winner_id.nunique() # it contains each value of TourneyId and the number of Tourneyname values it is associated with \n",
    "WinnerId_name = WinnerId_name[WinnerId_name > 1] # it contains the TourneyId values associated with more than one Tourneyname value\n",
    "\n",
    "df[df.winner_name.isin(WinnerId_name.index)].groupby(['winner_name']).winner_id.unique()\n",
    "\n"
   ]
  },
  {
   "cell_type": "code",
   "execution_count": 7,
   "id": "49e6ec34",
   "metadata": {},
   "outputs": [
    {
     "data": {
      "text/plain": [
       "loser_name\n",
       "ASTRID CIROTTE             [223401.0, 236980.0]\n",
       "EKATERINA MAKAROVA         [201505.0, 223126.0]\n",
       "ELENI FASOULA              [222942.0, 222943.0]\n",
       "ELLIE MYERS                [222407.0, 240168.0]\n",
       "EMILSE LUJAN RUIZ          [222646.0, 236974.0]\n",
       "FITRIANI SABATINI          [221189.0, 239429.0]\n",
       "GIUSEPPE TRESCA            [206834.0, 207982.0]\n",
       "GUY STOKMAN                [206883.0, 207142.0]\n",
       "HEI CHING CLAUDIA NG       [219835.0, 216586.0]\n",
       "HOLLY FISCHER              [221142.0, 222228.0]\n",
       "KUAN YI LEE                [134120.0, 221745.0]\n",
       "LARA ONAL                  [224486.0, 223215.0]\n",
       "LIISA VARUL                [222915.0, 222914.0]\n",
       "MARIA FERNANDA NAVARRO     [223367.0, 223287.0]\n",
       "MATYLDA BURYLO             [222845.0, 222066.0]\n",
       "NANA KAWAGISHI             [221771.0, 244078.0]\n",
       "SOFIA NAHIARA GARCIA       [220928.0, 236977.0]\n",
       "STANISLAVA BOBROVNIKOVA    [221347.0, 225865.0]\n",
       "VALENTINA LIA              [220334.0, 239415.0]\n",
       "Name: loser_id, dtype: object"
      ]
     },
     "execution_count": 7,
     "metadata": {},
     "output_type": "execute_result"
    }
   ],
   "source": [
    "df['loser_name']=df['loser_name'].str.upper()\n",
    "#df['loser_name']=df['loser_name'].replace({' ':'','  ':''}, regex=True)\n",
    "LoserId_name = df.groupby(['loser_name']).loser_id.nunique() # it contains each value of TourneyId and the number of Tourneyname values it is associated with \n",
    "LoserId_name = LoserId_name[LoserId_name > 1] # it contains the TourneyId values associated with more than one Tourneyname value\n",
    "\n",
    "df[df.loser_name.isin(LoserId_name.index)].groupby(['loser_name']).loser_id.unique()\n",
    "\n"
   ]
  },
  {
   "cell_type": "markdown",
   "id": "53ef2109",
   "metadata": {},
   "source": [
    "questi sono i nomi dei giocatori in cui ho associato più di un id per ciascuno/a\n",
    "    \n",
    "    ASTRID CIROTTE             [223401.0, 236980.0]\n",
    "    EKATERINA MAKAROVA         [201505.0, 223126.0]   \n",
    "    FITRIANI SABATINI          [221189.0, 239429.0]\n",
    "    ELENI FASOULA              [222942.0, 222943.0]\n",
    "    ELLIE MYERS                [222407.0, 240168.0]\n",
    "    EMILSE LUJAN RUIZ          [222646.0, 236974.0]\n",
    "    GIUSEPPE TRESCA            [206834.0, 207982.0]\n",
    "    GUY STOKMAN                [206883.0, 207142.0]\n",
    "    HEI CHING CLAUDIA NG       [219835.0, 216586.0]\n",
    "    HOLLY FISCHER              [221142.0, 222228.0]\n",
    "    KUAN YI LEE                [134120.0, 221745.0]\n",
    "    LARA ONAL                  [224486.0, 223215.0]\n",
    "    LIISA VARUL                [222915.0, 222914.0]\n",
    "    MARIA FERNANDA NAVARRO     [223367.0, 223287.0]\n",
    "    MATYLDA BURYLO             [222845.0, 222066.0]\n",
    "    NANA KAWAGISHI             [221771.0, 244078.0]\n",
    "    SOFIA NAHIARA GARCIA       [220928.0, 236977.0]\n",
    "    STANISLAVA BOBROVNIKOVA    [221347.0, 225865.0]\n",
    "    VALENTINA LIA              [220334.0, 239415.0]\n",
    "\n",
    "adesso tra questi trovo quello con id più frequente"
   ]
  },
  {
   "cell_type": "code",
   "execution_count": 8,
   "id": "16b538e1",
   "metadata": {},
   "outputs": [],
   "source": [
    "def compareAndSum(first,second):\n",
    "    dd=df\n",
    "    a=dd[dd['loser_id'] == first]['loser_id'].count()+dd[dd['winner_id'] == first]['winner_id'].count()\n",
    "    b=dd[dd['loser_id'] == second]['loser_id'].count()+dd[dd['winner_id'] == second]['winner_id'].count()\n",
    "    \n",
    "    if a<b:\n",
    "        return second\n",
    "    else:\n",
    "        return first\n",
    "\n",
    "def changevalue(x,y,v):\n",
    "    dd['loser_id']=dd['loser_id'].replace({x:v}, regex=True)\n",
    "    dd['winner_id']=dd['winner_id'].replace({x:v}, regex=True)\n",
    "    dd['loser_id']=dd['loser_id'].replace({y:v}, regex=True)\n",
    "    dd['winner_id']=dd['winner_id'].replace({y:v}, regex=True)\n",
    "    return dd\n",
    "    "
   ]
  },
  {
   "cell_type": "code",
   "execution_count": 9,
   "id": "f5333919",
   "metadata": {},
   "outputs": [],
   "source": [
    "dd=df\n",
    "\n",
    "#ASTRID CIROTTE             [223401.0, 236980.0]\n",
    "values=compareAndSum(223401.0,236980.0)\n",
    "dd=changevalue(223401.0,236980.0,values)\n",
    "\n",
    "#EKATERINA MAKAROVA         [201505.0, 223126.0]\n",
    "values=compareAndSum(201505.0,223126.0)\n",
    "dd=changevalue(201505.0,223126.0,values)\n",
    "\n",
    "#ELENI FASOULA              [222942.0, 222943.0]\n",
    "values=compareAndSum(222942.0,222943.0)\n",
    "dd=changevalue(222942.0,222943.0,values)\n",
    "\n",
    "#FITRIANI SABATINI          [221189.0, 239429.0]\n",
    "values=compareAndSum(221189.0,239429.0)\n",
    "dd=changevalue(221189.0,239429.0,values)\n",
    "\n",
    "##ELLIE MYERS                [222407.0, 240168.0]\n",
    "values=compareAndSum(222407.0,240168.0)\n",
    "dd=changevalue(222407.0,240168.0,values)\n",
    "\n",
    "#EMILSE LUJAN RUIZ          [222646.0, 236974.0]\n",
    "values=compareAndSum(222646.0,236974.0)\n",
    "dd=changevalue(222646.0,236974.0,values)\n",
    "\n",
    "#GIUSEPPE TRESCA            [206834.0, 207982.0]\n",
    "values=compareAndSum(206834.0,207982.0)\n",
    "dd=changevalue(206834.0,207982.0,values)\n",
    "\n",
    "#GUY STOKMAN                [206883.0, 207142.0]\n",
    "values=compareAndSum(206883.0,207142.0)\n",
    "dd=changevalue(206883.0,207142.0,values)\n",
    "\n",
    "#HEI CHING CLAUDIA NG       [219835.0, 216586.0]\n",
    "values=compareAndSum(219835.0,216586.0)\n",
    "dd=changevalue(219835.0,216586.0,values)\n",
    "\n",
    "#HOLLY FISCHER              [221142.0, 222228.0]\n",
    "values=compareAndSum(221142.0,222228.0)\n",
    "dd=changevalue(221142.0,222228.0,values)\n",
    "\n",
    "#KUAN YI LEE                [134120.0, 221745.0]\n",
    "values=compareAndSum(134120.0,221745.0)\n",
    "dd=changevalue(134120.0,221745.0,values)\n",
    "\n",
    "#LARA ONAL                  [224486.0, 223215.0]\n",
    "values=compareAndSum(224486.0,223215.0)\n",
    "dd=changevalue(224486.0,223215.0,values)\n",
    "\n",
    "#LIISA VARUL                [222915.0, 222914.0]\n",
    "values=compareAndSum(222915.0,222914.0)\n",
    "dd=changevalue(222915.0,222914.0,values)\n",
    "\n",
    "#MARIA FERNANDA NAVARRO     [223367.0, 223287.0]\n",
    "values=compareAndSum(223367.0,223287.0)\n",
    "dd=changevalue(223367.0,223287.0,values)\n",
    "\n",
    "#MATYLDA BURYLO             [222845.0, 222066.0]\n",
    "values=compareAndSum(222845.0,222066.0)\n",
    "dd=changevalue(222845.0,222066.0,values)\n",
    "\n",
    "#NANA KAWAGISHI             [221771.0, 244078.0]\n",
    "values=compareAndSum(221771.0,244078.0)\n",
    "dd=changevalue(221771.0,244078.0,values)\n",
    "\n",
    "#SOFIA NAHIARA GARCIA       [220928.0, 236977.0]\n",
    "values=compareAndSum(220928.0,236977.0)\n",
    "dd=changevalue(220928.0,236977.0,values)\n",
    "\n",
    "#STANISLAVA BOBROVNIKOVA    [221347.0, 225865.0]\n",
    "values=compareAndSum(221347.0,225865.0)\n",
    "dd=changevalue(221347.0,225865.0,values)\n",
    "\n",
    "#VALENTINA LIA              [220334.0, 239415.0]\n",
    "values=compareAndSum(220334.0,239415.0)\n",
    "dd=changevalue(220334.0,239415.0,values)\n"
   ]
  },
  {
   "cell_type": "code",
   "execution_count": 19,
   "id": "6f5d3ffa",
   "metadata": {},
   "outputs": [
    {
     "data": {
      "text/plain": [
       "Series([], Name: loser_id, dtype: float64)"
      ]
     },
     "execution_count": 19,
     "metadata": {},
     "output_type": "execute_result"
    }
   ],
   "source": [
    "\n",
    "LoserId_name = df.groupby(['loser_name']).loser_id.nunique() # it contains each value of TourneyId and the number of Tourneyname values it is associated with \n",
    "LoserId_name = LoserId_name[LoserId_name > 1] # it contains the TourneyId values associated with more than one Tourneyname value\n",
    "\n",
    "df[df.loser_name.isin(LoserId_name.index)].groupby(['loser_name']).loser_id.unique()\n",
    "\n"
   ]
  },
  {
   "cell_type": "code",
   "execution_count": 17,
   "id": "4001e6a0",
   "metadata": {},
   "outputs": [
    {
     "data": {
      "text/plain": [
       "48"
      ]
     },
     "execution_count": 17,
     "metadata": {},
     "output_type": "execute_result"
    }
   ],
   "source": [
    "\n",
    "LoserId_name = df.groupby(['loser_id']).loser_name.nunique() # it contains each value of TourneyId and the number of Tourneyname values it is associated with \n",
    "LoserId_name = LoserId_name[LoserId_name > 1] # it contains the TourneyId values associated with more than one Tourneyname value\n",
    "\n",
    "df[df.loser_id.isin(LoserId_name.index)].groupby(['loser_id']).loser_name.unique().count()\n",
    "\n",
    "\n"
   ]
  },
  {
   "cell_type": "code",
   "execution_count": 18,
   "id": "690b3cd6",
   "metadata": {},
   "outputs": [
    {
     "data": {
      "text/plain": [
       "Series([], Name: winner_id, dtype: float64)"
      ]
     },
     "execution_count": 18,
     "metadata": {},
     "output_type": "execute_result"
    }
   ],
   "source": [
    "\n",
    "WinnerId_name = df.groupby(['winner_name']).winner_id.nunique() # it contains each value of TourneyId and the number of Tourneyname values it is associated with \n",
    "WinnerId_name = WinnerId_name[WinnerId_name > 1] # it contains the TourneyId values associated with more than one Tourneyname value\n",
    "\n",
    "df[df.winner_name.isin(WinnerId_name.index)].groupby(['winner_name']).winner_id.unique()"
   ]
  },
  {
   "cell_type": "code",
   "execution_count": 20,
   "id": "38addb48",
   "metadata": {},
   "outputs": [
    {
     "data": {
      "text/plain": [
       "48"
      ]
     },
     "execution_count": 20,
     "metadata": {},
     "output_type": "execute_result"
    }
   ],
   "source": [
    "\n",
    "WinnerId_name = df.groupby(['winner_id']).winner_name.nunique() # it contains each value of TourneyId and the number of Tourneyname values it is associated with \n",
    "WinnerId_name = LoserId_name[LoserId_name > 1] # it contains the TourneyId values associated with more than one Tourneyname value\n",
    "\n",
    "df[df.loser_id.isin(LoserId_name.index)].groupby(['loser_id']).loser_name.unique().count()\n",
    "\n",
    "\n"
   ]
  },
  {
   "cell_type": "markdown",
   "id": "917fe462",
   "metadata": {},
   "source": [
    "## winner_ioc\n",
    "\n",
    "Analisi: tutte le nazioni esistono correttamente"
   ]
  },
  {
   "cell_type": "code",
   "execution_count": 12,
   "id": "c5cd0a63",
   "metadata": {},
   "outputs": [
    {
     "name": "stdout",
     "output_type": "stream",
     "text": [
      "nan\n",
      "no: 1\n"
     ]
    }
   ],
   "source": [
    "#numero di nazioni diverse e numero di volte che si ripetono\n",
    "country_winner_dim=df.groupby(df.winner_ioc,as_index=False).size()\n",
    "#country_loser_dim=df.groupby(df.loser_ioc,as_index=False).size()\n",
    "\n",
    "nation=np.concatenate((df.winner_ioc.unique(), df.loser_ioc.unique()),0)\n",
    "country = pd.DataFrame(nation)\n",
    "country = country.drop_duplicates()\n",
    "\n",
    "no=0\n",
    "\n",
    "for i in country[0]:\n",
    "    try:\n",
    "        pycountry.countries.get(alpha_3=i)\n",
    "    except:\n",
    "        no+=1\n",
    "        print(i)\n",
    "        \n",
    "print(\"no:\",no)\n"
   ]
  },
  {
   "cell_type": "code",
   "execution_count": null,
   "id": "786c6922",
   "metadata": {},
   "outputs": [],
   "source": []
  }
 ],
 "metadata": {
  "kernelspec": {
   "display_name": "Python 3 (ipykernel)",
   "language": "python",
   "name": "python3"
  },
  "language_info": {
   "codemirror_mode": {
    "name": "ipython",
    "version": 3
   },
   "file_extension": ".py",
   "mimetype": "text/x-python",
   "name": "python",
   "nbconvert_exporter": "python",
   "pygments_lexer": "ipython3",
   "version": "3.8.2"
  }
 },
 "nbformat": 4,
 "nbformat_minor": 5
}
