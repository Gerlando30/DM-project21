{
 "cells": [
  {
   "cell_type": "code",
   "execution_count": 1,
   "id": "86ff33b4",
   "metadata": {},
   "outputs": [],
   "source": [
    "import pandas as pd\n",
    "import pycountry \n",
    "import math\n",
    "import numpy as np\n",
    "import difflib\n",
    "#import scipy.stats as stats\n",
    "import matplotlib.pyplot as plt\n",
    "from collections import defaultdict\n",
    "#from scipy.stats.stats import pearsonr"
   ]
  },
  {
   "cell_type": "code",
   "execution_count": 2,
   "id": "376d7731",
   "metadata": {},
   "outputs": [
    {
     "name": "stdout",
     "output_type": "stream",
     "text": [
      "<class 'pandas.core.frame.DataFrame'>\n",
      "Int64Index: 186128 entries, 0 to 186127\n",
      "Data columns (total 51 columns):\n",
      " #   Column              Non-Null Count   Dtype  \n",
      "---  ------              --------------   -----  \n",
      " 0   tourney_id          186073 non-null  object \n",
      " 1   tourney_name        186103 non-null  object \n",
      " 2   surface             185940 non-null  object \n",
      " 3   draw_size           186099 non-null  float64\n",
      " 4   tourney_level       186099 non-null  object \n",
      " 5   tourney_date        186100 non-null  float64\n",
      " 6   match_num           186101 non-null  float64\n",
      " 7   winner_id           186073 non-null  float64\n",
      " 8   winner_entry        25827 non-null   object \n",
      " 9   winner_name         186101 non-null  object \n",
      " 10  winner_hand         186082 non-null  object \n",
      " 11  winner_ht           49341 non-null   float64\n",
      " 12  winner_ioc          186099 non-null  object \n",
      " 13  winner_age          183275 non-null  float64\n",
      " 14  loser_id            186100 non-null  float64\n",
      " 15  loser_entry         44154 non-null   object \n",
      " 16  loser_name          186097 non-null  object \n",
      " 17  loser_hand          186030 non-null  object \n",
      " 18  loser_ht            38348 non-null   float64\n",
      " 19  loser_ioc           186102 non-null  object \n",
      " 20  loser_age           179590 non-null  float64\n",
      " 21  score               185929 non-null  object \n",
      " 22  best_of             186099 non-null  float64\n",
      " 23  round               186098 non-null  object \n",
      " 24  minutes             81660 non-null   float64\n",
      " 25  w_ace               82310 non-null   float64\n",
      " 26  w_df                82312 non-null   float64\n",
      " 27  w_svpt              82310 non-null   float64\n",
      " 28  w_1stIn             82310 non-null   float64\n",
      " 29  w_1stWon            82312 non-null   float64\n",
      " 30  w_2ndWon            82309 non-null   float64\n",
      " 31  w_SvGms             82311 non-null   float64\n",
      " 32  w_bpSaved           82315 non-null   float64\n",
      " 33  w_bpFaced           82312 non-null   float64\n",
      " 34  l_ace               82313 non-null   float64\n",
      " 35  l_df                82319 non-null   float64\n",
      " 36  l_svpt              82315 non-null   float64\n",
      " 37  l_1stIn             82304 non-null   float64\n",
      " 38  l_1stWon            82311 non-null   float64\n",
      " 39  l_2ndWon            82312 non-null   float64\n",
      " 40  l_SvGms             82318 non-null   float64\n",
      " 41  l_bpSaved           82311 non-null   float64\n",
      " 42  l_bpFaced           82306 non-null   float64\n",
      " 43  winner_rank         166719 non-null  float64\n",
      " 44  winner_rank_points  166701 non-null  float64\n",
      " 45  loser_rank          150845 non-null  float64\n",
      " 46  loser_rank_points   150828 non-null  float64\n",
      " 47  tourney_spectators  186101 non-null  float64\n",
      " 48  tourney_revenue     186102 non-null  float64\n",
      " 49  winner_gender       183424 non-null  object \n",
      " 50  loser_gender        183999 non-null  object \n",
      "dtypes: float64(35), object(16)\n",
      "memory usage: 73.8+ MB\n"
     ]
    }
   ],
   "source": [
    "df = df = pd.read_csv('matches_with_gender.csv', index_col = 0)\n",
    "df.info()"
   ]
  },
  {
   "cell_type": "markdown",
   "id": "9ac4d062",
   "metadata": {},
   "source": [
    "## wrong values check"
   ]
  },
  {
   "cell_type": "markdown",
   "id": "d094e278",
   "metadata": {},
   "source": [
    "### tourney_name"
   ]
  },
  {
   "cell_type": "markdown",
   "id": "e9fd19d8",
   "metadata": {},
   "source": [
    "id con più nomi associati"
   ]
  },
  {
   "cell_type": "code",
   "execution_count": 3,
   "id": "c4e6026e",
   "metadata": {
    "scrolled": true
   },
   "outputs": [
    {
     "data": {
      "text/plain": [
       "tourney_id\n",
       "2016-O16                            [OLYMPICS, RIO OLYMPICS]\n",
       "2017-M015                                [BEIJING , BEIJING]\n",
       "2018-M010                  [S HERTOGENBOSCH, SHERTOGENBOSCH]\n",
       "2019-M010                  [S HERTOGENBOSCH, SHERTOGENBOSCH]\n",
       "2021-581     [DOHA AUS OPEN QUALIES, DUBAI AUS OPEN QUALIES]\n",
       "Name: tourney_name, dtype: object"
      ]
     },
     "execution_count": 3,
     "metadata": {},
     "output_type": "execute_result"
    }
   ],
   "source": [
    "df['tourney_name']=df['tourney_name'].str.upper()\n",
    "#df['tourney_id']= df['tourney_id'].str[5:]\n",
    "df['tourney_name']=df['tourney_name'].replace({' CH': '', '  CH': '', \"'\": '', \"-\": '', ' MASTERS':'','  ':' ','  ':' '}, regex=True)\n",
    "TourneyId_name = df.groupby(['tourney_id']).tourney_name.nunique() # it contains each value of TourneyId and the number of Tourneyname values it is associated with \n",
    "TourneyId_name = TourneyId_name[TourneyId_name > 1] # it contains the TourneyId values associated with more than one Tourneyname value\n",
    "\n",
    "df[df.tourney_id.isin(TourneyId_name.index)].groupby(['tourney_id']).tourney_name.unique()\n",
    "\n"
   ]
  },
  {
   "cell_type": "code",
   "execution_count": 4,
   "id": "a20d58fe",
   "metadata": {},
   "outputs": [
    {
     "data": {
      "text/html": [
       "<div>\n",
       "<style scoped>\n",
       "    .dataframe tbody tr th:only-of-type {\n",
       "        vertical-align: middle;\n",
       "    }\n",
       "\n",
       "    .dataframe tbody tr th {\n",
       "        vertical-align: top;\n",
       "    }\n",
       "\n",
       "    .dataframe thead th {\n",
       "        text-align: right;\n",
       "    }\n",
       "</style>\n",
       "<table border=\"1\" class=\"dataframe\">\n",
       "  <thead>\n",
       "    <tr style=\"text-align: right;\">\n",
       "      <th></th>\n",
       "      <th></th>\n",
       "      <th>surface</th>\n",
       "      <th>draw_size</th>\n",
       "      <th>tourney_level</th>\n",
       "      <th>tourney_date</th>\n",
       "      <th>match_num</th>\n",
       "      <th>winner_id</th>\n",
       "      <th>winner_entry</th>\n",
       "      <th>winner_name</th>\n",
       "      <th>winner_hand</th>\n",
       "      <th>winner_ht</th>\n",
       "      <th>...</th>\n",
       "      <th>l_bpSaved</th>\n",
       "      <th>l_bpFaced</th>\n",
       "      <th>winner_rank</th>\n",
       "      <th>winner_rank_points</th>\n",
       "      <th>loser_rank</th>\n",
       "      <th>loser_rank_points</th>\n",
       "      <th>tourney_spectators</th>\n",
       "      <th>tourney_revenue</th>\n",
       "      <th>winner_gender</th>\n",
       "      <th>loser_gender</th>\n",
       "    </tr>\n",
       "    <tr>\n",
       "      <th>tourney_id</th>\n",
       "      <th>tourney_name</th>\n",
       "      <th></th>\n",
       "      <th></th>\n",
       "      <th></th>\n",
       "      <th></th>\n",
       "      <th></th>\n",
       "      <th></th>\n",
       "      <th></th>\n",
       "      <th></th>\n",
       "      <th></th>\n",
       "      <th></th>\n",
       "      <th></th>\n",
       "      <th></th>\n",
       "      <th></th>\n",
       "      <th></th>\n",
       "      <th></th>\n",
       "      <th></th>\n",
       "      <th></th>\n",
       "      <th></th>\n",
       "      <th></th>\n",
       "      <th></th>\n",
       "      <th></th>\n",
       "    </tr>\n",
       "  </thead>\n",
       "  <tbody>\n",
       "  </tbody>\n",
       "</table>\n",
       "<p>0 rows × 49 columns</p>\n",
       "</div>"
      ],
      "text/plain": [
       "Empty DataFrame\n",
       "Columns: [surface, draw_size, tourney_level, tourney_date, match_num, winner_id, winner_entry, winner_name, winner_hand, winner_ht, winner_ioc, winner_age, loser_id, loser_entry, loser_name, loser_hand, loser_ht, loser_ioc, loser_age, score, best_of, round, minutes, w_ace, w_df, w_svpt, w_1stIn, w_1stWon, w_2ndWon, w_SvGms, w_bpSaved, w_bpFaced, l_ace, l_df, l_svpt, l_1stIn, l_1stWon, l_2ndWon, l_SvGms, l_bpSaved, l_bpFaced, winner_rank, winner_rank_points, loser_rank, loser_rank_points, tourney_spectators, tourney_revenue, winner_gender, loser_gender]\n",
       "Index: []\n",
       "\n",
       "[0 rows x 49 columns]"
      ]
     },
     "execution_count": 4,
     "metadata": {},
     "output_type": "execute_result"
    }
   ],
   "source": [
    "df['tourney_name'] = df['tourney_name'].str.normalize('NFKD')\\\n",
    "       .str.encode('ascii', errors='ignore')\\\n",
    "       .str.decode('utf-8')\n",
    "\n",
    "df['tourney_name']=df['tourney_name'].replace( {\n",
    "    'DOHA AUS OPEN QUALIES': 'AUS OPEN QUALIES',\n",
    "    'DUBAI AUS OPEN QUALIES': 'AUS OPEN QUALIES',\n",
    "    'SHERTOGENBOSCH': 'S HERTOGENBOSCH',\n",
    "    'BEIJING ': 'BEIJING',\n",
    "    'RIO OLYMPICS':'OLYMPICS'\n",
    "}, regex=True)\n",
    "\n",
    "\n",
    "\n",
    "TourneyId_name = df.groupby(['tourney_id']).tourney_name.nunique() # it contains each value of TourneyId and the number of Tourneyname values it is associated with \n",
    "TourneyId_name = TourneyId_name[TourneyId_name > 1] # it contains the TourneyId values associated with more than one Tourneyname value\n",
    "\n",
    "df[df.tourney_id.isin(TourneyId_name.index)].groupby(['tourney_id','tourney_name']).count()\n"
   ]
  },
  {
   "cell_type": "code",
   "execution_count": 5,
   "id": "db083f98",
   "metadata": {},
   "outputs": [
    {
     "data": {
      "text/plain": [
       "tourney_id\n",
       "0405              [TOKYO , JAPAN OPEN TOKYO, HIROSHIMA]\n",
       "0568                    [ST. PETERSBURG, ST PETERSBURG]\n",
       "0637                       [CHAMPAIGN, CHAMPAIGNURBANA]\n",
       "0703                               [STANFORD, SAN JOSE]\n",
       "0741                           [EASTBOURNE, NOTTINGHAM]\n",
       "0784                                 [SEVILLE, SEVILLA]\n",
       "0806                      [TORONTO, MONTREAL, TORONTO ]\n",
       "0808                       [SINGAPORE, SHENZHEN FINALS]\n",
       "0891                                    [PUNE, CHENNAI]\n",
       "1056                                     [TOKYO, OSAKA]\n",
       "1091                                 [CALVIA, MALLORCA]\n",
       "1094                                 [GSTAAD, LAUSANNE]\n",
       "1096                                  [TAIPEI, HUA HIN]\n",
       "1796              [ST. BRIEUC, SAINT BRIEUC, ST.BRIEUC]\n",
       "2000                             [CHICAGO, CHICAGO 125]\n",
       "2151                              [ROME, ROME , ROME 1]\n",
       "3618                   [ASTANA, NURSULTAN, NURSULTAN 1]\n",
       "3627                                    [TODI, LAQUILA]\n",
       "3945          [SAN BENEDETTO DEL TRONTO, SAN BENEDETTO]\n",
       "4012                              [TASHKENT, TASHKENT ]\n",
       "5016                       [BUCARAMANGA, FLORIDABLANCA]\n",
       "5047                                [BANGKOK, BANGKOK ]\n",
       "5057                                     [ROME, ROME 2]\n",
       "5069                              [SARASOTA, BRADENTON]\n",
       "6239                               [QUIMPER, QUIMPER 1]\n",
       "6795                                [LIBEREC, LIBEREC ]\n",
       "6963                              [MORELOS, CUERNAVACA]\n",
       "7009                   [AIX EN PROVENCE, AIXENPROVENCE]\n",
       "7085                                 [BIELLA, BIELLA 1]\n",
       "7318                              [COLUMBUS, ANN ARBOR]\n",
       "7333                          [HOI MINH, HOI MINH CITY]\n",
       "7343                                   [NONGBO, NINGBO]\n",
       "7393                                [CANBERRA, BENDIGO]\n",
       "7440                              [BUENOS AIRES, TIGRE]\n",
       "7536                                      [LYON, LYON ]\n",
       "7586                               [CANBERRA, PLAYFORD]\n",
       "7652                                [KOBLENZ, KOBLENZ ]\n",
       "7742                                   [LISBON, LISBOA]\n",
       "7774                            [VANCOUVER, VANCOUVER ]\n",
       "7808                             [BANGALORE, BENGALURU]\n",
       "7841                                [BENDIGO, PLAYFORD]\n",
       "7909                                [ALICANTE, VILLENA]\n",
       "8285                           [NURSULTAN 2, NURSULTAN]\n",
       "8371                   [POTCHEFSTROOM, POTCHEFSTROOM 1]\n",
       "8388                                   [SPLIT, SPLIT 1]\n",
       "9003    [POPRAD, POPRADTATRY, BRATISLAVA, POPRAD TATRY]\n",
       "9118                               [NEW HAVEN, CHICAGO]\n",
       "9124                              [FLORENCE, FLORENCE ]\n",
       "9128                                [CALGARY, CALGARY ]\n",
       "Name: tourney_name, dtype: object"
      ]
     },
     "execution_count": 5,
     "metadata": {},
     "output_type": "execute_result"
    }
   ],
   "source": [
    "df['tourney_id']= df['tourney_id'].str[5:]\n",
    "TourneyId_name = df.groupby(['tourney_id']).tourney_name.nunique() # it contains each value of TourneyId and the number of Tourneyname values it is associated with \n",
    "TourneyId_name = TourneyId_name[TourneyId_name > 1] # it contains the TourneyId values associated with more than one Tourneyname value\n",
    "\n",
    "df[df.tourney_id.isin(TourneyId_name.index)].groupby(['tourney_id']).tourney_name.unique()"
   ]
  },
  {
   "cell_type": "code",
   "execution_count": 20,
   "id": "eb324d9d",
   "metadata": {},
   "outputs": [
    {
     "name": "stdout",
     "output_type": "stream",
     "text": [
      "tourney_id\n",
      "0405              [TOKYO , JAPAN OPEN TOKYO, HIROSHIMA]\n",
      "0637                       [CHAMPAIGN, CHAMPAIGNURBANA]\n",
      "0703                               [STANFORD, ST. JOSE]\n",
      "0741                           [EASTBOURNE, NOTTINGHAM]\n",
      "0784                                 [SEVILLE, SEVILLA]\n",
      "0806                      [TORONTO, MONTREAL, TORONTO ]\n",
      "0808                             [SINGAPORE, SHENZHEN ]\n",
      "0891                                    [PUNE, CHENNAI]\n",
      "1056                                     [TOKYO, OSAKA]\n",
      "1091                                 [CALVIA, MALLORCA]\n",
      "1094                                 [GSTAAD, LAUSANNE]\n",
      "1096                                  [TAIPEI, HUA HIN]\n",
      "1796                            [ST. BRIEUC, ST.BRIEUC]\n",
      "2151                                      [ROME, ROME ]\n",
      "3618                                [ASTANA, NURSULTAN]\n",
      "3627                                    [TODI, LAQUILA]\n",
      "3945          [ST. BENEDETTO DEL TRONTO, ST. BENEDETTO]\n",
      "4012                              [TASHKENT, TASHKENT ]\n",
      "5016                       [BUCARAMANGA, FLORIDABLANCA]\n",
      "5047                                [BANGKOK, BANGKOK ]\n",
      "5069                              [SARASOTA, BRADENTON]\n",
      "6795                                [LIBEREC, LIBEREC ]\n",
      "6963                              [MORELOS, CUERNAVACA]\n",
      "7009                   [AIX EN PROVENCE, AIXENPROVENCE]\n",
      "7318                              [COLUMBUS, ANN ARBOR]\n",
      "7333                          [HOI MINH, HOI MINH CITY]\n",
      "7343                                   [NONGBO, NINGBO]\n",
      "7393                                [CANBERRA, BENDIGO]\n",
      "7440                              [BUENOS AIRES, TIGRE]\n",
      "7536                                      [LYON, LYON ]\n",
      "7586                               [CANBERRA, PLAYFORD]\n",
      "7652                                [KOBLENZ, KOBLENZ ]\n",
      "7742                                   [LISBON, LISBOA]\n",
      "7774                            [VANCOUVER, VANCOUVER ]\n",
      "7808                             [BANGALORE, BENGALURU]\n",
      "7841                                [BENDIGO, PLAYFORD]\n",
      "7909                                [ALICANTE, VILLENA]\n",
      "9003    [POPRAD, POPRADTATRY, BRATISLAVA, POPRAD TATRY]\n",
      "9118                               [NEW HAVEN, CHICAGO]\n",
      "9124                              [FLORENCE, FLORENCE ]\n",
      "9128                                [CALGARY, CALGARY ]\n",
      "Name: tourney_name, dtype: object\n",
      "41\n"
     ]
    }
   ],
   "source": [
    "\n",
    "df['tourney_name']=df['tourney_name'].replace( {\n",
    "    ' 1': '',\n",
    "    ' 2': '',\n",
    "    ' 125': '',\n",
    "    '25':'',\n",
    "    'MASTERS ':'',\n",
    "    'MASTERS  ':'',\n",
    "    ' MASTERS ':'',\n",
    "#    \" \":\"\",\n",
    "    'CH ':'',\n",
    "    'FINALS':'',\n",
    "    'SAN ':'ST. ',\n",
    "    'SAINT ':'ST. ',\n",
    "    'ST ':'ST. ',\n",
    " #   '[.]':''\n",
    "    \n",
    "}, regex=True)\n",
    "\n",
    "\n",
    "#df['tourney_name']=df['tourney_name'].replace(to_replace=''/^[a-z]+$/i', value='', regex=True)\n",
    "\n",
    "TourneyId_name = df.groupby(['tourney_id']).tourney_name.nunique() # it contains each value of TourneyId and the number of Tourneyname values it is associated with \n",
    "TourneyId_name = TourneyId_name[TourneyId_name > 1] # it contains the TourneyId values associated with more than one Tourneyname value\n",
    "\n",
    "print(df[df.tourney_id.isin(TourneyId_name.index)].groupby(['tourney_id']).tourney_name.unique())\n",
    "print(df[df.tourney_id.isin(TourneyId_name.index)].groupby(['tourney_id']).tourney_name.unique().count())"
   ]
  },
  {
   "cell_type": "markdown",
   "id": "bcab6a89",
   "metadata": {},
   "source": [
    "nomi dei tornei con più id"
   ]
  },
  {
   "cell_type": "code",
   "execution_count": 7,
   "id": "635f8c64",
   "metadata": {},
   "outputs": [
    {
     "data": {
      "text/plain": [
       "68786     1796\n",
       "68787     1796\n",
       "68788     1796\n",
       "68789     1796\n",
       "68790     1796\n",
       "          ... \n",
       "102143    1796\n",
       "102144    1796\n",
       "102145    1796\n",
       "102146    1796\n",
       "102147    1796\n",
       "Name: tourney_id, Length: 108, dtype: object"
      ]
     },
     "execution_count": 7,
     "metadata": {},
     "output_type": "execute_result"
    }
   ],
   "source": [
    "TourneyId_name = df.groupby(['tourney_name']).tourney_id.nunique() # it contains each value of TourneyId and the number of Tourneyname values it is associated with \n",
    "#TourneyId_name.loc[TourneyId_name['tourney_name' == \"OBIDOS $25K\"]] # it contains the TourneyId values associated with more than one Tourneyname value\n",
    "\n",
    "#print(TourneyId_name)\n",
    "\n",
    "df.loc[df['tourney_name'] == 'ST. BRIEUC', 'tourney_id']\n",
    "\n"
   ]
  },
  {
   "cell_type": "markdown",
   "id": "2b3ca66b",
   "metadata": {},
   "source": [
    "## winner_name and loser_name\n",
    "\n",
    "\n",
    "cocatenare senza spazio "
   ]
  },
  {
   "cell_type": "code",
   "execution_count": 8,
   "id": "90a51812",
   "metadata": {},
   "outputs": [
    {
     "data": {
      "text/plain": [
       "winner_name\n",
       "ASTRID CIROTTE             [236980.0, 223401.0]\n",
       "FITRIANI SABATINI          [221189.0, 239429.0]\n",
       "KUAN YI LEE                [134120.0, 221745.0]\n",
       "LIISA VARUL                [222914.0, 222915.0]\n",
       "MARIA FERNANDA NAVARRO     [223367.0, 223287.0]\n",
       "NANA KAWAGISHI             [221771.0, 244078.0]\n",
       "SOFIA NAHIARA GARCIA       [220928.0, 236977.0]\n",
       "STANISLAVA BOBROVNIKOVA    [221347.0, 225865.0]\n",
       "VALENTINA LIA              [220334.0, 239415.0]\n",
       "Name: winner_id, dtype: object"
      ]
     },
     "execution_count": 8,
     "metadata": {},
     "output_type": "execute_result"
    }
   ],
   "source": [
    "df['winner_name']=df['winner_name'].str.upper()\n",
    "#df['winner_name']=df['winner_name'].replace({' ':'','  ':''}, regex=True)\n",
    "WinnerId_name = df.groupby(['winner_name']).winner_id.nunique() # it contains each value of TourneyId and the number of Tourneyname values it is associated with \n",
    "WinnerId_name = WinnerId_name[WinnerId_name > 1] # it contains the TourneyId values associated with more than one Tourneyname value\n",
    "\n",
    "df[df.winner_name.isin(WinnerId_name.index)].groupby(['winner_name']).winner_id.unique()\n",
    "\n"
   ]
  },
  {
   "cell_type": "code",
   "execution_count": 9,
   "id": "49e6ec34",
   "metadata": {},
   "outputs": [
    {
     "data": {
      "text/plain": [
       "loser_name\n",
       "ASTRID CIROTTE             [223401.0, 236980.0]\n",
       "EKATERINA MAKAROVA         [201505.0, 223126.0]\n",
       "ELENI FASOULA              [222942.0, 222943.0]\n",
       "ELLIE MYERS                [222407.0, 240168.0]\n",
       "EMILSE LUJAN RUIZ          [222646.0, 236974.0]\n",
       "FITRIANI SABATINI          [221189.0, 239429.0]\n",
       "GIUSEPPE TRESCA            [206834.0, 207982.0]\n",
       "GUY STOKMAN                [206883.0, 207142.0]\n",
       "HEI CHING CLAUDIA NG       [219835.0, 216586.0]\n",
       "HOLLY FISCHER              [221142.0, 222228.0]\n",
       "KUAN YI LEE                [134120.0, 221745.0]\n",
       "LARA ONAL                  [224486.0, 223215.0]\n",
       "LIISA VARUL                [222915.0, 222914.0]\n",
       "MARIA FERNANDA NAVARRO     [223367.0, 223287.0]\n",
       "MATYLDA BURYLO             [222845.0, 222066.0]\n",
       "NANA KAWAGISHI             [221771.0, 244078.0]\n",
       "SOFIA NAHIARA GARCIA       [220928.0, 236977.0]\n",
       "STANISLAVA BOBROVNIKOVA    [221347.0, 225865.0]\n",
       "VALENTINA LIA              [220334.0, 239415.0]\n",
       "Name: loser_id, dtype: object"
      ]
     },
     "execution_count": 9,
     "metadata": {},
     "output_type": "execute_result"
    }
   ],
   "source": [
    "df['loser_name']=df['loser_name'].str.upper()\n",
    "#df['loser_name']=df['loser_name'].replace({' ':'','  ':''}, regex=True)\n",
    "LoserId_name = df.groupby(['loser_name']).loser_id.nunique() # it contains each value of TourneyId and the number of Tourneyname values it is associated with \n",
    "LoserId_name = LoserId_name[LoserId_name > 1] # it contains the TourneyId values associated with more than one Tourneyname value\n",
    "\n",
    "df[df.loser_name.isin(LoserId_name.index)].groupby(['loser_name']).loser_id.unique()\n",
    "\n"
   ]
  },
  {
   "cell_type": "markdown",
   "id": "f140b54a",
   "metadata": {},
   "source": [
    "questi sono i nomi dei giocatori in cui ho associato più di un id per ciascuno/a\n",
    "    \n",
    "    ASTRID CIROTTE             [223401.0, 236980.0]\n",
    "    EKATERINA MAKAROVA         [201505.0, 223126.0]   \n",
    "    FITRIANI SABATINI          [221189.0, 239429.0]\n",
    "    ELENI FASOULA              [222942.0, 222943.0]\n",
    "    ELLIE MYERS                [222407.0, 240168.0]\n",
    "    EMILSE LUJAN RUIZ          [222646.0, 236974.0]\n",
    "    GIUSEPPE TRESCA            [206834.0, 207982.0]\n",
    "    GUY STOKMAN                [206883.0, 207142.0]\n",
    "    HEI CHING CLAUDIA NG       [219835.0, 216586.0]\n",
    "    HOLLY FISCHER              [221142.0, 222228.0]\n",
    "    KUAN YI LEE                [134120.0, 221745.0]\n",
    "    LARA ONAL                  [224486.0, 223215.0]\n",
    "    LIISA VARUL                [222915.0, 222914.0]\n",
    "    MARIA FERNANDA NAVARRO     [223367.0, 223287.0]\n",
    "    MATYLDA BURYLO             [222845.0, 222066.0]\n",
    "    NANA KAWAGISHI             [221771.0, 244078.0]\n",
    "    SOFIA NAHIARA GARCIA       [220928.0, 236977.0]\n",
    "    STANISLAVA BOBROVNIKOVA    [221347.0, 225865.0]\n",
    "    VALENTINA LIA              [220334.0, 239415.0]\n",
    "\n",
    "adesso tra questi trovo quello con id più frequente"
   ]
  },
  {
   "cell_type": "code",
   "execution_count": 10,
   "id": "2fc9b203",
   "metadata": {},
   "outputs": [],
   "source": [
    "def compareAndSum(first,second):\n",
    "    a=df[df['loser_id'] == first]['loser_id'].count()+df[df['winner_id'] == first]['winner_id'].count()\n",
    "    b=df[df['loser_id'] == second]['loser_id'].count()+df[df['winner_id'] == second]['winner_id'].count()\n",
    "    \n",
    "    if a<b:\n",
    "        return second\n",
    "    else:\n",
    "        return first\n",
    "\n",
    "def changevalue(x,y,v):\n",
    "    df['loser_id']=df['loser_id'].replace({x:v}, regex=True)\n",
    "    df['winner_id']=df['winner_id'].replace({x:v}, regex=True)\n",
    "    df['loser_id']=df['loser_id'].replace({y:v}, regex=True)\n",
    "    df['winner_id']=df['winner_id'].replace({y:v}, regex=True)\n",
    "    "
   ]
  },
  {
   "cell_type": "code",
   "execution_count": 11,
   "id": "5bd9a51f",
   "metadata": {},
   "outputs": [],
   "source": [
    "#ASTRID CIROTTE             [223401.0, 236980.0]\n",
    "values=compareAndSum(223401.0,236980.0)\n",
    "changevalue(223401.0,236980.0,values)\n",
    "\n",
    "#EKATERINA MAKAROVA         [201505.0, 223126.0]\n",
    "values=compareAndSum(201505.0,223126.0)\n",
    "changevalue(201505.0,223126.0,values)\n",
    "\n",
    "#ELENI FASOULA              [222942.0, 222943.0]\n",
    "values=compareAndSum(222942.0,222943.0)\n",
    "changevalue(222942.0,222943.0,values)\n",
    "\n",
    "#FITRIANI SABATINI          [221189.0, 239429.0]\n",
    "values=compareAndSum(221189.0,239429.0)\n",
    "changevalue(221189.0,239429.0,values)\n",
    "\n",
    "##ELLIE MYERS                [222407.0, 240168.0]\n",
    "values=compareAndSum(222407.0,240168.0)\n",
    "changevalue(222407.0,240168.0,values)\n",
    "\n",
    "#EMILSE LUJAN RUIZ          [222646.0, 236974.0]\n",
    "values=compareAndSum(222646.0,236974.0)\n",
    "changevalue(222646.0,236974.0,values)\n",
    "\n",
    "#GIUSEPPE TRESCA            [206834.0, 207982.0]\n",
    "values=compareAndSum(206834.0,207982.0)\n",
    "changevalue(206834.0,207982.0,values)\n",
    "\n",
    "#GUY STOKMAN                [206883.0, 207142.0]\n",
    "values=compareAndSum(206883.0,207142.0)\n",
    "changevalue(206883.0,207142.0,values)\n",
    "\n",
    "#HEI CHING CLAUDIA NG       [219835.0, 216586.0]\n",
    "values=compareAndSum(219835.0,216586.0)\n",
    "changevalue(219835.0,216586.0,values)\n",
    "\n",
    "#HOLLY FISCHER              [221142.0, 222228.0]\n",
    "values=compareAndSum(221142.0,222228.0)\n",
    "changevalue(221142.0,222228.0,values)\n",
    "\n",
    "#KUAN YI LEE                [134120.0, 221745.0]\n",
    "values=compareAndSum(134120.0,221745.0)\n",
    "changevalue(134120.0,221745.0,values)\n",
    "\n",
    "#LARA ONAL                  [224486.0, 223215.0]\n",
    "values=compareAndSum(224486.0,223215.0)\n",
    "changevalue(224486.0,223215.0,values)\n",
    "\n",
    "#LIISA VARUL                [222915.0, 222914.0]\n",
    "values=compareAndSum(222915.0,222914.0)\n",
    "changevalue(222915.0,222914.0,values)\n",
    "\n",
    "#MARIA FERNANDA NAVARRO     [223367.0, 223287.0]\n",
    "values=compareAndSum(223367.0,223287.0)\n",
    "changevalue(223367.0,223287.0,values)\n",
    "\n",
    "#MATYLDA BURYLO             [222845.0, 222066.0]\n",
    "values=compareAndSum(222845.0,222066.0)\n",
    "changevalue(222845.0,222066.0,values)\n",
    "\n",
    "#NANA KAWAGISHI             [221771.0, 244078.0]\n",
    "values=compareAndSum(221771.0,244078.0)\n",
    "changevalue(221771.0,244078.0,values)\n",
    "\n",
    "#SOFIA NAHIARA GARCIA       [220928.0, 236977.0]\n",
    "values=compareAndSum(220928.0,236977.0)\n",
    "changevalue(220928.0,236977.0,values)\n",
    "\n",
    "#STANISLAVA BOBROVNIKOVA    [221347.0, 225865.0]\n",
    "values=compareAndSum(221347.0,225865.0)\n",
    "changevalue(221347.0,225865.0,values)\n",
    "\n",
    "#VALENTINA LIA              [220334.0, 239415.0]\n",
    "values=compareAndSum(220334.0,239415.0)\n",
    "changevalue(220334.0,239415.0,values)\n"
   ]
  },
  {
   "cell_type": "code",
   "execution_count": 12,
   "id": "b49dfbe4",
   "metadata": {},
   "outputs": [
    {
     "data": {
      "text/plain": [
       "Series([], Name: loser_id, dtype: float64)"
      ]
     },
     "execution_count": 12,
     "metadata": {},
     "output_type": "execute_result"
    }
   ],
   "source": [
    "\n",
    "LoserId_name = df.groupby(['loser_name']).loser_id.nunique() # it contains each value of TourneyId and the number of Tourneyname values it is associated with \n",
    "LoserId_name = LoserId_name[LoserId_name > 1] # it contains the TourneyId values associated with more than one Tourneyname value\n",
    "\n",
    "df[df.loser_name.isin(LoserId_name.index)].groupby(['loser_name']).loser_id.unique()\n",
    "\n"
   ]
  },
  {
   "cell_type": "code",
   "execution_count": 13,
   "id": "cdfa7a12",
   "metadata": {},
   "outputs": [
    {
     "data": {
      "text/plain": [
       "Series([], Name: winner_id, dtype: float64)"
      ]
     },
     "execution_count": 13,
     "metadata": {},
     "output_type": "execute_result"
    }
   ],
   "source": [
    "WinnerId_name = df.groupby(['winner_name']).winner_id.nunique() # it contains each value of TourneyId and the number of Tourneyname values it is associated with \n",
    "WinnerId_name = WinnerId_name[WinnerId_name > 1] # it contains the TourneyId values associated with more than one Tourneyname value\n",
    "\n",
    "df[df.winner_name.isin(WinnerId_name.index)].groupby(['winner_name']).winner_id.unique()\n"
   ]
  },
  {
   "cell_type": "code",
   "execution_count": 14,
   "id": "5cfa2dbe",
   "metadata": {},
   "outputs": [
    {
     "data": {
      "text/plain": [
       "48"
      ]
     },
     "execution_count": 14,
     "metadata": {},
     "output_type": "execute_result"
    }
   ],
   "source": [
    "\n",
    "LoserId_name = df.groupby(['loser_id']).loser_name.nunique() # it contains each value of TourneyId and the number of Tourneyname values it is associated with \n",
    "LoserId_name = LoserId_name[LoserId_name > 1] # it contains the TourneyId values associated with more than one Tourneyname value\n",
    "\n",
    "df[df.loser_id.isin(LoserId_name.index)].groupby(['loser_id']).loser_name.unique().count()\n",
    "\n",
    "\n",
    "\n"
   ]
  },
  {
   "cell_type": "code",
   "execution_count": 15,
   "id": "2e501a6b",
   "metadata": {},
   "outputs": [
    {
     "data": {
      "text/plain": [
       "13"
      ]
     },
     "execution_count": 15,
     "metadata": {},
     "output_type": "execute_result"
    }
   ],
   "source": [
    "\n",
    "WinnerId_name = df.groupby(['winner_id']).winner_name.nunique() # it contains each value of TourneyId and the number of Tourneyname values it is associated with \n",
    "WinnerId_name = WinnerId_name[WinnerId_name > 1] # it contains the TourneyId values associated with more than one Tourneyname value\n",
    "\n",
    "df[df.winner_id.isin(WinnerId_name.index)].groupby(['winner_id']).winner_name.unique().count()\n",
    "\n",
    "\n"
   ]
  },
  {
   "cell_type": "markdown",
   "id": "917fe462",
   "metadata": {},
   "source": [
    "## winner_ioc\n",
    "\n",
    "Analisi: tutte le nazioni esistono correttamente"
   ]
  },
  {
   "cell_type": "code",
   "execution_count": 16,
   "id": "c5cd0a63",
   "metadata": {},
   "outputs": [
    {
     "name": "stdout",
     "output_type": "stream",
     "text": [
      "nan\n",
      "no: 1\n"
     ]
    }
   ],
   "source": [
    "#numero di nazioni diverse e numero di volte che si ripetono\n",
    "country_winner_dim=df.groupby(df.winner_ioc,as_index=False).size()\n",
    "#country_loser_dim=df.groupby(df.loser_ioc,as_index=False).size()\n",
    "\n",
    "nation=np.concatenate((df.winner_ioc.unique(), df.loser_ioc.unique()),0)\n",
    "country = pd.DataFrame(nation)\n",
    "country = country.drop_duplicates()\n",
    "\n",
    "no=0\n",
    "\n",
    "for i in country[0]:\n",
    "    try:\n",
    "        pycountry.countries.get(alpha_3=i)\n",
    "    except:\n",
    "        no+=1\n",
    "        print(i)\n",
    "        \n",
    "print(\"no:\",no)\n"
   ]
  },
  {
   "cell_type": "code",
   "execution_count": null,
   "id": "786c6922",
   "metadata": {},
   "outputs": [],
   "source": []
  }
 ],
 "metadata": {
  "kernelspec": {
   "display_name": "Python 3",
   "language": "python",
   "name": "python3"
  },
  "language_info": {
   "codemirror_mode": {
    "name": "ipython",
    "version": 3
   },
   "file_extension": ".py",
   "mimetype": "text/x-python",
   "name": "python",
   "nbconvert_exporter": "python",
   "pygments_lexer": "ipython3",
   "version": "3.8.8"
  }
 },
 "nbformat": 4,
 "nbformat_minor": 5
}
