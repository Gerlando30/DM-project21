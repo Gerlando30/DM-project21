{
 "cells": [
  {
   "cell_type": "code",
   "execution_count": null,
   "metadata": {},
   "outputs": [],
   "source": [
    "import pandas as pd\n",
    "import matplotlib.pyplot as plt\n",
    "from scipy import stats\n",
    "df = pd.read_csv('matches_with_gender.csv', index_col = 0)"
   ]
  },
  {
   "cell_type": "code",
   "execution_count": null,
   "metadata": {},
   "outputs": [],
   "source": [
    "def players(df):\n",
    "    return df[['winner_id', 'winner_name', 'winner_ioc', 'winner_ht', 'winner_age', 'loser_age', 'winner_hand', 'loser_hand', 'winner_entry', 'loser_entry', 'winner_rank']]"
   ]
  },
  {
   "cell_type": "code",
   "execution_count": null,
   "metadata": {},
   "outputs": [],
   "source": [
    "df.winner_age = round(df.winner_age, 0)\n",
    "df.loser_age = round(df.loser_age, 0)"
   ]
  },
  {
   "cell_type": "markdown",
   "metadata": {},
   "source": [
    "## Outliers\n",
    "\n",
    "We have just seen some outliers in previous analysis. In this section we're going into deep and we try to discover outliers in each attributes and handle its. To estabilish the value of each outliers we use."
   ]
  },
  {
   "cell_type": "code",
   "execution_count": null,
   "metadata": {},
   "outputs": [],
   "source": [
    "def detecting_outliers(attr):\n",
    "    q1 = attr.quantile(0.25)\n",
    "    q3 = attr.quantile(0.75)\n",
    "    iqr = q3 - q1\n",
    "    L = q1 - 1.5*iqr\n",
    "    R = q3 + 1.5*iqr\n",
    "    return L, R"
   ]
  },
  {
   "cell_type": "code",
   "execution_count": null,
   "metadata": {},
   "outputs": [],
   "source": [
    "def detecting_outliers_numerical(df, attr, substitute):\n",
    "    print(\"BEFORE\")\n",
    "    #df.hist(attr) \n",
    "    plt.show()\n",
    "    df.boxplot(attr) \n",
    "    plt.show()\n",
    "    \n",
    "    L, R = detecting_outliers(df[attr])\n",
    "    print(\"L, R\", L, R)\n",
    "    if L < 0:\n",
    "        L = 0\n",
    "\n",
    "    df_outliers = df[(df[attr]< L) | (df[attr] > R)]\n",
    "    new_df = df.drop(df_outliers.index)\n",
    "\n",
    "    if substitute == 'median':\n",
    "        median = df[attr].median()\n",
    "        print(\"facciamo la mediana\", median)\n",
    "        df_outliers.loc[(df_outliers[attr] < L), attr] = median \n",
    "        df_outliers.loc[(df_outliers[attr] > R), attr] = median\n",
    "    else:\n",
    "        df_outliers.loc[(df_outliers[attr] < L), attr] = L\n",
    "        df_outliers.loc[(df_outliers[attr] > R), attr] = R\n",
    "    \n",
    "    print(\"AFTER\")\n",
    "    new_df.append(df_outliers)\n",
    "    #new_df[attr].plot.hist()\n",
    "    plt.show()\n",
    "    new_df[attr].plot.box()\n",
    "    plt.show()\n",
    "    \n",
    "    return new_df "
   ]
  },
  {
   "cell_type": "markdown",
   "metadata": {},
   "source": [
    "### Players"
   ]
  },
  {
   "cell_type": "markdown",
   "metadata": {},
   "source": [
    "##### winner and loser ht"
   ]
  },
  {
   "cell_type": "markdown",
   "metadata": {},
   "source": [
    "As first analysis we plot the boxplot to visualize if there are some outliers inside attributes. Because players with an \"outlier ht\" are very few, we use external sources to find the correct values of this attribute. We verify that not all values are outliers, some of them are the real value of corresponding attribute. It could be useful to see player's age to verify if the player could grow up in ht or not.\n",
    "The only wrong value are:\n",
    "Ilija Vucic:       145 --> 188\n",
    "Kamilla Rakhimova: 2.0 --> 174\n",
    "Ivo Karlovic:      208 --> 211"
   ]
  },
  {
   "cell_type": "code",
   "execution_count": null,
   "metadata": {},
   "outputs": [],
   "source": [
    "df.winner_ht.plot.box()\n",
    "plt.show()\n",
    "\n",
    "L, R = detecting_outliers(df.winner_ht)\n",
    "print(L, R)\n",
    "df_outliers = df[(df.winner_ht < L) | (df.winner_ht > R)]\n",
    "new_df = df.drop(df_outliers.index)\n",
    "\n",
    "print(\"print players with possibly wrong ht\\n\", df_outliers.groupby(['winner_name', 'winner_ht']).winner_age.unique())\n",
    "\n",
    "df_outliers.loc[df_outliers['winner_name'] == 'Kamilla Rakhimova', 'winner_ht'] = 174 \n",
    "df_outliers.loc[df_outliers['winner_name'] == 'Ilija Vucic', 'winner_ht'] = 188 \n",
    "df_outliers.loc[df_outliers['winner_name'] == 'Ivo Karlovic', 'winner_ht'] = 211 \n",
    "\n",
    "print(\"Players with correct value ht\\n\",df_outliers.groupby('winner_name').winner_ht.unique())\n",
    "\n",
    "new_df.append(df_outliers)\n",
    "df = new_df\n",
    "new_df.winner_ht.plot.box()\n",
    "plt.show()\n",
    "#df_outliers.groupby('winner_name').winner_ht.unique()\n",
    "#new_df = df.loc[df['winner_name'] == 'Kamilla Rakhimova']\n",
    "#new_df.groupby(['winner_name', 'winner_ht']).winner_age.unique()"
   ]
  },
  {
   "cell_type": "markdown",
   "metadata": {},
   "source": [
    "The same thing we do for losers"
   ]
  },
  {
   "cell_type": "code",
   "execution_count": null,
   "metadata": {},
   "outputs": [],
   "source": [
    "df.loser_ht.plot.box()\n",
    "plt.show()\n",
    "\n",
    "L, R = detecting_outliers(df.loser_ht)\n",
    "print(L, R)\n",
    "df_outliers = df[(df.loser_ht < L) | (df.loser_ht > R)]\n",
    "new_df = df.drop(df_outliers.index)\n",
    "\n",
    "print(\"print players with possibly wrong ht\\n\", df_outliers.groupby(['loser_name', 'loser_ht']).loser_age.unique())\n",
    "\n",
    "df_outliers.loc[df_outliers['loser_name'] == 'Kamilla Rakhimova', 'loser_ht'] = 174 \n",
    "df_outliers.loc[df_outliers['loser_name'] == 'Ilija Vucic', 'loser_ht'] = 188 \n",
    "df_outliers.loc[df_outliers['loser_name'] == 'Ivo Karlovic', 'loser_ht'] = 211 \n",
    "\n",
    "print(\"Players with correct value ht\\n\",df_outliers.groupby('loser_name').loser_ht.unique())\n",
    "\n",
    "new_df.append(df_outliers)\n",
    "df = new_df\n",
    "new_df.winner_ht.plot.box()\n",
    "plt.show()\n"
   ]
  },
  {
   "cell_type": "markdown",
   "metadata": {},
   "source": [
    "#### winner_age and loser_age\n",
    "Ho cambiato solo quelli che hanno un valore molto alto (come età = 95) perché tra gli altri ce ne sono molti che sono comunque corretti"
   ]
  },
  {
   "cell_type": "code",
   "execution_count": null,
   "metadata": {},
   "outputs": [],
   "source": [
    "df.loser_age.plot.box() \n",
    "plt.show()\n",
    "df.winner_age.plot.box() \n",
    "plt.show()\n",
    "\n",
    "L, R = detecting_outliers(df.winner_age)\n",
    "print(L, R)\n",
    "\n",
    "df.loc[df['winner_age'] > 60, 'winner_age'] = R\n",
    "df.loc[df['loser_age'] > 60, 'loser_age'] = R\n",
    "\n",
    "df.loser_age.plot.box() \n",
    "plt.show()\n",
    "df.winner_age.plot.box() \n",
    "plt.show()\n",
    "#df_outliers = df[(df.winner_age < L) | (df.winner_age > R)]\n",
    "#df_outliers.groupby('winner_age').winner_name.unique()\n",
    "#df_outliers.winner_age.plot.hist() \n",
    "#plt.show()"
   ]
  },
  {
   "cell_type": "markdown",
   "metadata": {},
   "source": [
    "#### winner_rank and loser_rank"
   ]
  },
  {
   "cell_type": "code",
   "execution_count": null,
   "metadata": {},
   "outputs": [],
   "source": [
    "#outliers_rank = df['winner_rank']\n",
    "#outliers_rank.dropna(inplace = True)\n",
    "#z_outliers_rank = stats.zscore(outliers_rank)\n",
    "#z_outliers_rank = z_outliers_rank[(z_outliers_rank < -3.29) | (z_outliers_rank > 3.29)]\n",
    "#z_outliers_rank\n",
    "#outliers_rank"
   ]
  },
  {
   "cell_type": "code",
   "execution_count": null,
   "metadata": {},
   "outputs": [],
   "source": [
    "df.winner_rank.plot.box() \n",
    "plt.show()\n",
    "df.loser_rank.plot.box() \n",
    "plt.show()\n",
    "#L, R = detecting_outliers(df.winner_rank)\n",
    "#print(L, R)\n",
    "#df_outliers = df[(df.winner_rank < L) | (df.winner_rank > R)]\n",
    "#new_df = df.drop(df_outliers.index)\n",
    "\n",
    "\n",
    "#new_df.winner_rank.plot.box()"
   ]
  },
  {
   "cell_type": "markdown",
   "metadata": {},
   "source": [
    "#### winner_rank_point and loser_rank_point"
   ]
  },
  {
   "cell_type": "code",
   "execution_count": null,
   "metadata": {},
   "outputs": [],
   "source": [
    "df.winner_rank_points.plot.box() \n",
    "plt.show()\n",
    "df.loser_rank_points.plot.box() \n",
    "plt.show()"
   ]
  },
  {
   "cell_type": "markdown",
   "metadata": {},
   "source": [
    "#### w_ace and l_ace"
   ]
  },
  {
   "cell_type": "code",
   "execution_count": null,
   "metadata": {},
   "outputs": [],
   "source": [
    "new_df = detecting_outliers_numerical(df, 'w_ace', 'bound')"
   ]
  },
  {
   "cell_type": "code",
   "execution_count": null,
   "metadata": {},
   "outputs": [],
   "source": [
    "new_df = detecting_outliers_numerical(df, 'l_ace', 'bound')"
   ]
  },
  {
   "cell_type": "markdown",
   "metadata": {},
   "source": [
    "#### w_df and l_df"
   ]
  },
  {
   "cell_type": "code",
   "execution_count": null,
   "metadata": {},
   "outputs": [],
   "source": [
    "new_df = detecting_outliers_numerical(df, 'w_df', 'bound')"
   ]
  },
  {
   "cell_type": "code",
   "execution_count": null,
   "metadata": {},
   "outputs": [],
   "source": [
    "new_df = detecting_outliers_numerical(df, 'l_df', 'bound')"
   ]
  },
  {
   "cell_type": "markdown",
   "metadata": {},
   "source": [
    "#### w_svpt and l_svpt"
   ]
  },
  {
   "cell_type": "code",
   "execution_count": null,
   "metadata": {},
   "outputs": [],
   "source": [
    "#new_df = detecting_outliers_numerical(df, 'w_svpt')\n",
    "new_df = detecting_outliers_numerical(df, 'w_svpt', 'median')"
   ]
  },
  {
   "cell_type": "code",
   "execution_count": null,
   "metadata": {},
   "outputs": [],
   "source": [
    "#new_df = detecting_outliers_numerical(df, 'l_svpt', 'bound')\n",
    "new_df = detecting_outliers_numerical(df, 'l_svpt', 'median')"
   ]
  },
  {
   "cell_type": "markdown",
   "metadata": {},
   "source": [
    "#### w_1stIn and l_1stIn"
   ]
  },
  {
   "cell_type": "code",
   "execution_count": null,
   "metadata": {},
   "outputs": [],
   "source": [
    "new_df = detecting_outliers_numerical(df, 'w_1stIn', 'bound')"
   ]
  },
  {
   "cell_type": "code",
   "execution_count": null,
   "metadata": {},
   "outputs": [],
   "source": [
    "new_df = detecting_outliers_numerical(df, 'l_1stIn', 'median')"
   ]
  },
  {
   "cell_type": "markdown",
   "metadata": {},
   "source": [
    "#### w_1stWon w_2stWon and l_1stWon l_2stWon  "
   ]
  },
  {
   "cell_type": "code",
   "execution_count": null,
   "metadata": {},
   "outputs": [],
   "source": [
    "new_df = detecting_outliers_numerical(df, 'w_1stWon', 'median')\n",
    "new_df = detecting_outliers_numerical(df, 'w_2ndWon', 'median')"
   ]
  },
  {
   "cell_type": "code",
   "execution_count": null,
   "metadata": {},
   "outputs": [],
   "source": [
    "new_df = detecting_outliers_numerical(df, 'l_1stWon', 'median')\n",
    "new_df = detecting_outliers_numerical(df, 'l_2ndWon', 'median')"
   ]
  },
  {
   "cell_type": "markdown",
   "metadata": {},
   "source": [
    "#### w_SvGms and l_SvGms"
   ]
  },
  {
   "cell_type": "code",
   "execution_count": null,
   "metadata": {},
   "outputs": [],
   "source": [
    "new_df = detecting_outliers_numerical(df, 'w_SvGms', 'median')\n",
    "new_df = detecting_outliers_numerical(df, 'l_SvGms', 'median')"
   ]
  },
  {
   "cell_type": "markdown",
   "metadata": {},
   "source": [
    "#### w_bpSaved w_bpFaced and l_bpSaved l_bpFaced"
   ]
  },
  {
   "cell_type": "code",
   "execution_count": null,
   "metadata": {},
   "outputs": [],
   "source": [
    "new_df = detecting_outliers_numerical(df, 'w_bpSaved', 'median')\n",
    "new_df = detecting_outliers_numerical(df, 'w_bpFaced', 'median')"
   ]
  },
  {
   "cell_type": "code",
   "execution_count": null,
   "metadata": {},
   "outputs": [],
   "source": [
    "new_df = detecting_outliers_numerical(df, 'l_bpSaved', 'median')\n",
    "new_df = detecting_outliers_numerical(df, 'l_bpFaced', 'median')"
   ]
  },
  {
   "cell_type": "markdown",
   "metadata": {},
   "source": [
    "#### winner_name and loser_name"
   ]
  },
  {
   "cell_type": "markdown",
   "metadata": {},
   "source": [
    "To discover if a player's name is an outlier we must count the name's occurences both in winner_name and loser_name, if its occurrences are very low then we consider it as an outlier. We assume this, also because if we have few statistics about a player then we don't have the sufficient known about him to costruct an exaustive profile. "
   ]
  },
  {
   "cell_type": "code",
   "execution_count": null,
   "metadata": {},
   "outputs": [],
   "source": [
    "winner_names = df.groupby(df.winner_name, as_index = False).size()\n",
    "winner_names= pd.DataFrame(winner_names)\n",
    "winner_names.reset_index(level=0, inplace=True)\n",
    "\n",
    "loser_names = df.groupby(df.loser_name, as_index = False).size()\n",
    "loser_names= pd.DataFrame(loser_names)\n",
    "loser_names.reset_index(level=0, inplace=True)\n",
    "\n",
    "winner_names.rename( columns={'winner_name' : 'name', 0 :'freq'}, inplace = True)\n",
    "loser_names.rename( columns={'loser_name' : 'name', 0 :'freq'}, inplace = True)\n",
    "#print(winner_names, loser_names)\n",
    "names = pd.concat([winner_names, loser_names])\n",
    "#names = pd.DataFrame(names)\n",
    "names = names.groupby(names.name, as_index = False).sum()\n",
    "names = pd.DataFrame(names)\n",
    "#print(names)\n",
    "#names = names.groupby(names, as_index = False).size()\n",
    "#names.set_axis(['name', 'freq'])\n",
    "outliers_name = names[names['freq']<3]\n",
    "outliers_name\n"
   ]
  }
 ],
 "metadata": {
  "kernelspec": {
   "display_name": "Python 3",
   "language": "python",
   "name": "python3"
  },
  "language_info": {
   "codemirror_mode": {
    "name": "ipython",
    "version": 3
   },
   "file_extension": ".py",
   "mimetype": "text/x-python",
   "name": "python",
   "nbconvert_exporter": "python",
   "pygments_lexer": "ipython3",
   "version": "3.8.8"
  }
 },
 "nbformat": 4,
 "nbformat_minor": 4
}
