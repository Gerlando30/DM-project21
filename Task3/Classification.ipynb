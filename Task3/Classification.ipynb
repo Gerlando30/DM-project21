{
 "cells": [
  {
   "cell_type": "markdown",
   "id": "2babcba5",
   "metadata": {},
   "source": [
    "# Import library"
   ]
  },
  {
   "cell_type": "code",
   "execution_count": 1,
   "id": "bf4f855d-9a01-417c-a23f-f5b8a8c42b41",
   "metadata": {},
   "outputs": [],
   "source": [
    "import time\n",
    "\n",
    "import statistics \n",
    "import pandas as pd\n",
    "import numpy as np\n",
    "import math\n",
    "import matplotlib.pyplot as plt\n",
    "from sklearn import metrics\n",
    "from scipy.stats import randint as sp_randint\n",
    "from sklearn.model_selection import train_test_split, cross_validate\n",
    "from sklearn.model_selection import GridSearchCV, RandomizedSearchCV\n",
    "from sklearn.metrics import classification_report, make_scorer\n",
    "from sklearn.metrics import accuracy_score, precision_score, recall_score, f1_score, roc_auc_score\n",
    "import scikitplot as skplt\n",
    "\n",
    "#confusion matrix\n",
    "from sklearn.metrics import confusion_matrix,ConfusionMatrixDisplay\n",
    "\n",
    "\n",
    "import graphviz\n",
    "from sklearn.tree import export_graphviz"
   ]
  },
  {
   "cell_type": "code",
   "execution_count": 2,
   "id": "32ee823e-e512-4e51-9b95-99711fd0c57e",
   "metadata": {},
   "outputs": [],
   "source": [
    "import warnings\n",
    "warnings.simplefilter(action='ignore', category=FutureWarning)\n"
   ]
  },
  {
   "cell_type": "markdown",
   "id": "ee1c0e5d",
   "metadata": {
    "tags": []
   },
   "source": [
    "## Load dataset"
   ]
  },
  {
   "cell_type": "code",
   "execution_count": 3,
   "id": "54535855",
   "metadata": {},
   "outputs": [
    {
     "name": "stdout",
     "output_type": "stream",
     "text": [
      "<class 'pandas.core.frame.DataFrame'>\n",
      "Int64Index: 2097 entries, 0 to 3906\n",
      "Data columns (total 20 columns):\n",
      " #   Column                 Non-Null Count  Dtype  \n",
      "---  ------                 --------------  -----  \n",
      " 0   name                   2097 non-null   object \n",
      " 1   ratio                  2097 non-null   float64\n",
      " 2   num_matches_2016-2019  2097 non-null   float64\n",
      " 3   ratio_2016-2019        2097 non-null   float64\n",
      " 4   num_matches_2020-2021  2097 non-null   float64\n",
      " 5   ratio_2020-2021        2097 non-null   float64\n",
      " 6   hand                   2097 non-null   object \n",
      " 7   gender                 2097 non-null   object \n",
      " 8   ioc                    2097 non-null   object \n",
      " 9   birth                  2097 non-null   float64\n",
      " 10  ht                     2097 non-null   float64\n",
      " 11  minutes                2097 non-null   float64\n",
      " 12  perc_ace               2097 non-null   float64\n",
      " 13  serv_won_tot_seve      2097 non-null   float64\n",
      " 14  bpFaced                2097 non-null   float64\n",
      " 15  perc_df                2097 non-null   float64\n",
      " 16  perc_2ndwon            2097 non-null   float64\n",
      " 17  perc_v_ace             2097 non-null   float64\n",
      " 18  perc_v_df              2097 non-null   float64\n",
      " 19  perc_v_1stwon          2097 non-null   float64\n",
      "dtypes: float64(16), object(4)\n",
      "memory usage: 344.0+ KB\n"
     ]
    }
   ],
   "source": [
    "df = pd.read_csv(\"dataset/tennis_players.csv\", skipinitialspace=True, sep=',', index_col=0)\n",
    "df.info()"
   ]
  },
  {
   "cell_type": "markdown",
   "id": "becoming-instruction",
   "metadata": {},
   "source": [
    "### Adding player's rank on tennis player's profile"
   ]
  },
  {
   "cell_type": "code",
   "execution_count": 4,
   "id": "creative-hughes",
   "metadata": {},
   "outputs": [
    {
     "name": "stderr",
     "output_type": "stream",
     "text": [
      "C:\\Users\\Gerlando\\AppData\\Roaming\\Python\\Python39\\site-packages\\IPython\\core\\interactiveshell.py:3437: DtypeWarning: Columns (5) have mixed types.Specify dtype option on import or set low_memory=False.\n",
      "  exec(code_obj, self.user_global_ns, self.user_ns)\n"
     ]
    },
    {
     "name": "stdout",
     "output_type": "stream",
     "text": [
      "<class 'pandas.core.frame.DataFrame'>\n",
      "Int64Index: 185750 entries, 0 to 185749\n",
      "Data columns (total 49 columns):\n",
      " #   Column              Non-Null Count   Dtype  \n",
      "---  ------              --------------   -----  \n",
      " 0   tourney_id          185750 non-null  object \n",
      " 1   tourney_name        185750 non-null  object \n",
      " 2   surface             185588 non-null  object \n",
      " 3   draw_size           185750 non-null  float64\n",
      " 4   tourney_level       185750 non-null  object \n",
      " 5   tourney_date        185750 non-null  object \n",
      " 6   match_num           185750 non-null  float64\n",
      " 7   winner_id           185750 non-null  float64\n",
      " 8   winner_name         185750 non-null  object \n",
      " 9   winner_hand         185750 non-null  object \n",
      " 10  winner_ioc          185750 non-null  object \n",
      " 11  loser_id            185750 non-null  float64\n",
      " 12  loser_name          185750 non-null  object \n",
      " 13  loser_hand          185750 non-null  object \n",
      " 14  loser_ioc           185750 non-null  object \n",
      " 15  score               185581 non-null  object \n",
      " 16  best_of             185750 non-null  float64\n",
      " 17  round               185750 non-null  object \n",
      " 18  minutes             185750 non-null  float64\n",
      " 19  w_ace               130608 non-null  float64\n",
      " 20  w_df                130608 non-null  float64\n",
      " 21  w_svpt              185750 non-null  float64\n",
      " 22  w_1stIn             185750 non-null  float64\n",
      " 23  w_1stWon            130608 non-null  float64\n",
      " 24  w_2ndWon            130608 non-null  float64\n",
      " 25  w_bpSaved           130608 non-null  float64\n",
      " 26  w_bpFaced           130608 non-null  float64\n",
      " 27  l_ace               128925 non-null  float64\n",
      " 28  l_df                128925 non-null  float64\n",
      " 29  l_svpt              185750 non-null  float64\n",
      " 30  l_1stIn             185750 non-null  float64\n",
      " 31  l_1stWon            128925 non-null  float64\n",
      " 32  l_2ndWon            128925 non-null  float64\n",
      " 33  l_bpSaved           128925 non-null  float64\n",
      " 34  l_bpFaced           128925 non-null  float64\n",
      " 35  winner_rank         166378 non-null  float64\n",
      " 36  winner_rank_points  166362 non-null  float64\n",
      " 37  loser_rank          150519 non-null  float64\n",
      " 38  loser_rank_points   150503 non-null  float64\n",
      " 39  tourney_spectators  185750 non-null  float64\n",
      " 40  tourney_revenue     185750 non-null  float64\n",
      " 41  winner_gender       185750 non-null  object \n",
      " 42  loser_gender        185750 non-null  object \n",
      " 43  SvGms               185750 non-null  float64\n",
      " 44  winner_ht           185750 non-null  float64\n",
      " 45  loser_ht            185750 non-null  float64\n",
      " 46  tourney_year        185750 non-null  int64  \n",
      " 47  winner_birth        182941 non-null  float64\n",
      " 48  loser_birth         179282 non-null  float64\n",
      "dtypes: float64(33), int64(1), object(15)\n",
      "memory usage: 70.9+ MB\n"
     ]
    }
   ],
   "source": [
    "df_rank = pd.read_csv('../Task1/dataset/matches_datacleaning.csv', index_col = 0)\n",
    "pd.set_option('display.max_columns', None) # to visualize all the columns\n",
    "df_rank.info()"
   ]
  },
  {
   "cell_type": "code",
   "execution_count": 5,
   "id": "broadband-ecology",
   "metadata": {},
   "outputs": [
    {
     "name": "stdout",
     "output_type": "stream",
     "text": [
      "                   name    rank\n",
      "0         AARON ADDISON  1037.0\n",
      "1         AARON ADDISON  1254.0\n",
      "2         AARON ADDISON  1255.0\n",
      "3         AARON ADDISON  1047.0\n",
      "4         AARON ADDISON  1055.0\n",
      "...                 ...     ...\n",
      "266164  ZUZANA ZLOCHOVA   343.0\n",
      "266165  ZUZANA ZLOCHOVA   335.0\n",
      "266166  ZUZANA ZLOCHOVA   316.0\n",
      "266167  ZUZANA ZLOCHOVA   318.0\n",
      "266168  ZUZANA ZLOCHOVA   316.0\n",
      "\n",
      "[266169 rows x 2 columns] \n",
      "# of nan: 7721\n"
     ]
    }
   ],
   "source": [
    "winner_rank = df_rank[['winner_name', 'winner_rank']]\n",
    "winner_rank.set_axis(['name', 'rank'], axis=1, inplace=True)\n",
    "\n",
    "loser_rank = df_rank[['loser_name', 'loser_rank']]\n",
    "loser_rank.set_axis(['name', 'rank'], axis=1, inplace=True)\n",
    "\n",
    "player_rank = loser_rank.append(winner_rank)\n",
    "player = df[['name']]\n",
    "player = pd.merge(player, player_rank, how='left', on='name')\n",
    "print(player, '\\n# of nan:', player['rank'].isna().sum())"
   ]
  },
  {
   "cell_type": "code",
   "execution_count": 6,
   "id": "together-analysis",
   "metadata": {},
   "outputs": [
    {
     "data": {
      "text/plain": [
       "770"
      ]
     },
     "execution_count": 6,
     "metadata": {},
     "output_type": "execute_result"
    }
   ],
   "source": [
    "#osserviamo quanti giocatori hanno QUALCHE nan\n",
    "nan_name = player[player['rank'].isna()]\n",
    "nan_name['name'].nunique()"
   ]
  },
  {
   "cell_type": "code",
   "execution_count": 7,
   "id": "surprised-killer",
   "metadata": {},
   "outputs": [
    {
     "data": {
      "text/plain": [
       "count    2062.000000\n",
       "mean      492.236178\n",
       "std       329.499585\n",
       "min         3.000000\n",
       "25%       242.250000\n",
       "50%       423.500000\n",
       "75%       686.750000\n",
       "max      1908.000000\n",
       "Name: rank, dtype: float64"
      ]
     },
     "execution_count": 7,
     "metadata": {},
     "output_type": "execute_result"
    }
   ],
   "source": [
    "#prendiamo la media del rank e vediamo se sono rimasti nan (per quelli che avranno nan come rank vuol dire che nel db originale \n",
    "# non era presente nessun valore di rank per quel giocatore)\n",
    "player = player.groupby('name').mean()\n",
    "player['rank']=player['rank'].round(0)\n",
    "player['rank'].describe()"
   ]
  },
  {
   "cell_type": "code",
   "execution_count": 8,
   "id": "1151f5f4",
   "metadata": {},
   "outputs": [
    {
     "data": {
      "text/plain": [
       "rank    35\n",
       "dtype: int64"
      ]
     },
     "execution_count": 8,
     "metadata": {},
     "output_type": "execute_result"
    }
   ],
   "source": [
    "#stampo il numero di giocatori che non hanno nemmeno un valore associato al rank\n",
    "player.isna().sum()"
   ]
  },
  {
   "cell_type": "code",
   "execution_count": 9,
   "id": "67e6b110",
   "metadata": {},
   "outputs": [
    {
     "data": {
      "text/plain": [
       "940"
      ]
     },
     "execution_count": 9,
     "metadata": {},
     "output_type": "execute_result"
    }
   ],
   "source": [
    "player['rank'].nunique()"
   ]
  },
  {
   "cell_type": "code",
   "execution_count": 10,
   "id": "5893908d",
   "metadata": {},
   "outputs": [
    {
     "data": {
      "text/html": [
       "<div>\n",
       "<style scoped>\n",
       "    .dataframe tbody tr th:only-of-type {\n",
       "        vertical-align: middle;\n",
       "    }\n",
       "\n",
       "    .dataframe tbody tr th {\n",
       "        vertical-align: top;\n",
       "    }\n",
       "\n",
       "    .dataframe thead th {\n",
       "        text-align: right;\n",
       "    }\n",
       "</style>\n",
       "<table border=\"1\" class=\"dataframe\">\n",
       "  <thead>\n",
       "    <tr style=\"text-align: right;\">\n",
       "      <th></th>\n",
       "      <th>name</th>\n",
       "      <th>rank</th>\n",
       "    </tr>\n",
       "  </thead>\n",
       "  <tbody>\n",
       "    <tr>\n",
       "      <th>0</th>\n",
       "      <td>AARON ADDISON</td>\n",
       "      <td>1131.0</td>\n",
       "    </tr>\n",
       "    <tr>\n",
       "      <th>1</th>\n",
       "      <td>ABBIE MYERS</td>\n",
       "      <td>475.0</td>\n",
       "    </tr>\n",
       "    <tr>\n",
       "      <th>2</th>\n",
       "      <td>ABHINAV SANJEEV SHANMUGAM</td>\n",
       "      <td>1233.0</td>\n",
       "    </tr>\n",
       "    <tr>\n",
       "      <th>3</th>\n",
       "      <td>ABIGAIL TERE APISAH</td>\n",
       "      <td>422.0</td>\n",
       "    </tr>\n",
       "    <tr>\n",
       "      <th>4</th>\n",
       "      <td>ABIR EL FAHIMI</td>\n",
       "      <td>NaN</td>\n",
       "    </tr>\n",
       "    <tr>\n",
       "      <th>...</th>\n",
       "      <td>...</td>\n",
       "      <td>...</td>\n",
       "    </tr>\n",
       "    <tr>\n",
       "      <th>2092</th>\n",
       "      <td>ZIZOU BERGS</td>\n",
       "      <td>369.0</td>\n",
       "    </tr>\n",
       "    <tr>\n",
       "      <th>2093</th>\n",
       "      <td>ZOE HIVES</td>\n",
       "      <td>319.0</td>\n",
       "    </tr>\n",
       "    <tr>\n",
       "      <th>2094</th>\n",
       "      <td>ZOE KRUGER</td>\n",
       "      <td>750.0</td>\n",
       "    </tr>\n",
       "    <tr>\n",
       "      <th>2095</th>\n",
       "      <td>ZSOMBOR PIROS</td>\n",
       "      <td>453.0</td>\n",
       "    </tr>\n",
       "    <tr>\n",
       "      <th>2096</th>\n",
       "      <td>ZUZANA ZLOCHOVA</td>\n",
       "      <td>461.0</td>\n",
       "    </tr>\n",
       "  </tbody>\n",
       "</table>\n",
       "<p>2097 rows × 2 columns</p>\n",
       "</div>"
      ],
      "text/plain": [
       "                           name    rank\n",
       "0                 AARON ADDISON  1131.0\n",
       "1                   ABBIE MYERS   475.0\n",
       "2     ABHINAV SANJEEV SHANMUGAM  1233.0\n",
       "3           ABIGAIL TERE APISAH   422.0\n",
       "4                ABIR EL FAHIMI     NaN\n",
       "...                         ...     ...\n",
       "2092                ZIZOU BERGS   369.0\n",
       "2093                  ZOE HIVES   319.0\n",
       "2094                 ZOE KRUGER   750.0\n",
       "2095              ZSOMBOR PIROS   453.0\n",
       "2096            ZUZANA ZLOCHOVA   461.0\n",
       "\n",
       "[2097 rows x 2 columns]"
      ]
     },
     "execution_count": 10,
     "metadata": {},
     "output_type": "execute_result"
    }
   ],
   "source": [
    "player.reset_index(inplace = True)\n",
    "player"
   ]
  },
  {
   "cell_type": "code",
   "execution_count": 11,
   "id": "cbec8ac9",
   "metadata": {},
   "outputs": [
    {
     "data": {
      "text/html": [
       "<div>\n",
       "<style scoped>\n",
       "    .dataframe tbody tr th:only-of-type {\n",
       "        vertical-align: middle;\n",
       "    }\n",
       "\n",
       "    .dataframe tbody tr th {\n",
       "        vertical-align: top;\n",
       "    }\n",
       "\n",
       "    .dataframe thead th {\n",
       "        text-align: right;\n",
       "    }\n",
       "</style>\n",
       "<table border=\"1\" class=\"dataframe\">\n",
       "  <thead>\n",
       "    <tr style=\"text-align: right;\">\n",
       "      <th></th>\n",
       "      <th>ratio</th>\n",
       "      <th>num_matches_2016-2019</th>\n",
       "      <th>ratio_2016-2019</th>\n",
       "      <th>num_matches_2020-2021</th>\n",
       "      <th>ratio_2020-2021</th>\n",
       "      <th>birth</th>\n",
       "      <th>ht</th>\n",
       "      <th>minutes</th>\n",
       "      <th>perc_ace</th>\n",
       "      <th>serv_won_tot_seve</th>\n",
       "      <th>bpFaced</th>\n",
       "      <th>perc_df</th>\n",
       "      <th>perc_2ndwon</th>\n",
       "      <th>perc_v_ace</th>\n",
       "      <th>perc_v_df</th>\n",
       "      <th>perc_v_1stwon</th>\n",
       "      <th>rank</th>\n",
       "    </tr>\n",
       "  </thead>\n",
       "  <tbody>\n",
       "    <tr>\n",
       "      <th>count</th>\n",
       "      <td>2097.000000</td>\n",
       "      <td>2097.000000</td>\n",
       "      <td>2097.000000</td>\n",
       "      <td>2097.000000</td>\n",
       "      <td>2097.000000</td>\n",
       "      <td>2097.000000</td>\n",
       "      <td>2097.000000</td>\n",
       "      <td>2097.000000</td>\n",
       "      <td>2097.000000</td>\n",
       "      <td>2097.000000</td>\n",
       "      <td>2097.000000</td>\n",
       "      <td>2097.000000</td>\n",
       "      <td>2097.000000</td>\n",
       "      <td>2097.000000</td>\n",
       "      <td>2097.000000</td>\n",
       "      <td>2097.000000</td>\n",
       "      <td>2062.000000</td>\n",
       "    </tr>\n",
       "    <tr>\n",
       "      <th>mean</th>\n",
       "      <td>0.485469</td>\n",
       "      <td>102.867907</td>\n",
       "      <td>0.477087</td>\n",
       "      <td>24.060563</td>\n",
       "      <td>0.308706</td>\n",
       "      <td>1993.783500</td>\n",
       "      <td>179.181167</td>\n",
       "      <td>81.005501</td>\n",
       "      <td>6.753925</td>\n",
       "      <td>0.518591</td>\n",
       "      <td>902.097282</td>\n",
       "      <td>7.481683</td>\n",
       "      <td>43.027139</td>\n",
       "      <td>6.755632</td>\n",
       "      <td>6.384015</td>\n",
       "      <td>53.884816</td>\n",
       "      <td>492.236178</td>\n",
       "    </tr>\n",
       "    <tr>\n",
       "      <th>std</th>\n",
       "      <td>0.114080</td>\n",
       "      <td>80.423273</td>\n",
       "      <td>0.133781</td>\n",
       "      <td>27.037076</td>\n",
       "      <td>0.264359</td>\n",
       "      <td>5.087836</td>\n",
       "      <td>8.142602</td>\n",
       "      <td>16.358880</td>\n",
       "      <td>5.476795</td>\n",
       "      <td>0.145589</td>\n",
       "      <td>754.170294</td>\n",
       "      <td>3.484798</td>\n",
       "      <td>12.209689</td>\n",
       "      <td>4.643672</td>\n",
       "      <td>1.978579</td>\n",
       "      <td>19.529147</td>\n",
       "      <td>329.499585</td>\n",
       "    </tr>\n",
       "    <tr>\n",
       "      <th>min</th>\n",
       "      <td>0.133333</td>\n",
       "      <td>0.000000</td>\n",
       "      <td>0.000000</td>\n",
       "      <td>0.000000</td>\n",
       "      <td>0.000000</td>\n",
       "      <td>1977.000000</td>\n",
       "      <td>155.000000</td>\n",
       "      <td>49.409091</td>\n",
       "      <td>0.000000</td>\n",
       "      <td>0.037581</td>\n",
       "      <td>0.000000</td>\n",
       "      <td>0.000000</td>\n",
       "      <td>0.000000</td>\n",
       "      <td>0.070000</td>\n",
       "      <td>0.000000</td>\n",
       "      <td>0.910000</td>\n",
       "      <td>3.000000</td>\n",
       "    </tr>\n",
       "    <tr>\n",
       "      <th>25%</th>\n",
       "      <td>0.421875</td>\n",
       "      <td>28.000000</td>\n",
       "      <td>0.413793</td>\n",
       "      <td>0.000000</td>\n",
       "      <td>0.000000</td>\n",
       "      <td>1990.000000</td>\n",
       "      <td>173.000000</td>\n",
       "      <td>62.852773</td>\n",
       "      <td>2.400000</td>\n",
       "      <td>0.495810</td>\n",
       "      <td>233.000000</td>\n",
       "      <td>5.210000</td>\n",
       "      <td>40.690000</td>\n",
       "      <td>2.550000</td>\n",
       "      <td>5.420000</td>\n",
       "      <td>37.820000</td>\n",
       "      <td>242.250000</td>\n",
       "    </tr>\n",
       "    <tr>\n",
       "      <th>50%</th>\n",
       "      <td>0.500000</td>\n",
       "      <td>82.000000</td>\n",
       "      <td>0.500000</td>\n",
       "      <td>12.000000</td>\n",
       "      <td>0.375000</td>\n",
       "      <td>1994.000000</td>\n",
       "      <td>178.000000</td>\n",
       "      <td>82.777778</td>\n",
       "      <td>5.740000</td>\n",
       "      <td>0.575210</td>\n",
       "      <td>661.000000</td>\n",
       "      <td>6.970000</td>\n",
       "      <td>47.180000</td>\n",
       "      <td>6.150000</td>\n",
       "      <td>6.610000</td>\n",
       "      <td>64.330000</td>\n",
       "      <td>423.500000</td>\n",
       "    </tr>\n",
       "    <tr>\n",
       "      <th>75%</th>\n",
       "      <td>0.562500</td>\n",
       "      <td>174.000000</td>\n",
       "      <td>0.564103</td>\n",
       "      <td>46.000000</td>\n",
       "      <td>0.533333</td>\n",
       "      <td>1998.000000</td>\n",
       "      <td>185.705882</td>\n",
       "      <td>94.812500</td>\n",
       "      <td>9.840000</td>\n",
       "      <td>0.611270</td>\n",
       "      <td>1505.000000</td>\n",
       "      <td>9.180000</td>\n",
       "      <td>50.000000</td>\n",
       "      <td>10.390000</td>\n",
       "      <td>7.590000</td>\n",
       "      <td>69.650000</td>\n",
       "      <td>686.750000</td>\n",
       "    </tr>\n",
       "    <tr>\n",
       "      <th>max</th>\n",
       "      <td>0.834395</td>\n",
       "      <td>316.000000</td>\n",
       "      <td>1.000000</td>\n",
       "      <td>108.000000</td>\n",
       "      <td>1.000000</td>\n",
       "      <td>2006.000000</td>\n",
       "      <td>211.000000</td>\n",
       "      <td>132.724084</td>\n",
       "      <td>40.000000</td>\n",
       "      <td>0.777251</td>\n",
       "      <td>3868.000000</td>\n",
       "      <td>29.930000</td>\n",
       "      <td>94.180000</td>\n",
       "      <td>23.170000</td>\n",
       "      <td>17.890000</td>\n",
       "      <td>80.790000</td>\n",
       "      <td>1908.000000</td>\n",
       "    </tr>\n",
       "  </tbody>\n",
       "</table>\n",
       "</div>"
      ],
      "text/plain": [
       "             ratio  num_matches_2016-2019  ratio_2016-2019  \\\n",
       "count  2097.000000            2097.000000      2097.000000   \n",
       "mean      0.485469             102.867907         0.477087   \n",
       "std       0.114080              80.423273         0.133781   \n",
       "min       0.133333               0.000000         0.000000   \n",
       "25%       0.421875              28.000000         0.413793   \n",
       "50%       0.500000              82.000000         0.500000   \n",
       "75%       0.562500             174.000000         0.564103   \n",
       "max       0.834395             316.000000         1.000000   \n",
       "\n",
       "       num_matches_2020-2021  ratio_2020-2021        birth           ht  \\\n",
       "count            2097.000000      2097.000000  2097.000000  2097.000000   \n",
       "mean               24.060563         0.308706  1993.783500   179.181167   \n",
       "std                27.037076         0.264359     5.087836     8.142602   \n",
       "min                 0.000000         0.000000  1977.000000   155.000000   \n",
       "25%                 0.000000         0.000000  1990.000000   173.000000   \n",
       "50%                12.000000         0.375000  1994.000000   178.000000   \n",
       "75%                46.000000         0.533333  1998.000000   185.705882   \n",
       "max               108.000000         1.000000  2006.000000   211.000000   \n",
       "\n",
       "           minutes     perc_ace  serv_won_tot_seve      bpFaced      perc_df  \\\n",
       "count  2097.000000  2097.000000        2097.000000  2097.000000  2097.000000   \n",
       "mean     81.005501     6.753925           0.518591   902.097282     7.481683   \n",
       "std      16.358880     5.476795           0.145589   754.170294     3.484798   \n",
       "min      49.409091     0.000000           0.037581     0.000000     0.000000   \n",
       "25%      62.852773     2.400000           0.495810   233.000000     5.210000   \n",
       "50%      82.777778     5.740000           0.575210   661.000000     6.970000   \n",
       "75%      94.812500     9.840000           0.611270  1505.000000     9.180000   \n",
       "max     132.724084    40.000000           0.777251  3868.000000    29.930000   \n",
       "\n",
       "       perc_2ndwon   perc_v_ace    perc_v_df  perc_v_1stwon         rank  \n",
       "count  2097.000000  2097.000000  2097.000000    2097.000000  2062.000000  \n",
       "mean     43.027139     6.755632     6.384015      53.884816   492.236178  \n",
       "std      12.209689     4.643672     1.978579      19.529147   329.499585  \n",
       "min       0.000000     0.070000     0.000000       0.910000     3.000000  \n",
       "25%      40.690000     2.550000     5.420000      37.820000   242.250000  \n",
       "50%      47.180000     6.150000     6.610000      64.330000   423.500000  \n",
       "75%      50.000000    10.390000     7.590000      69.650000   686.750000  \n",
       "max      94.180000    23.170000    17.890000      80.790000  1908.000000  "
      ]
     },
     "execution_count": 11,
     "metadata": {},
     "output_type": "execute_result"
    }
   ],
   "source": [
    "#unisco le due tabelle\n",
    "df = pd.merge(df, player, how='left', on='name')\n",
    "df.describe()"
   ]
  },
  {
   "cell_type": "markdown",
   "id": "e013b6f7",
   "metadata": {},
   "source": [
    "## Transform categorical features into numerical ones"
   ]
  },
  {
   "cell_type": "code",
   "execution_count": 12,
   "id": "3f12acc8",
   "metadata": {
    "tags": []
   },
   "outputs": [],
   "source": [
    "#function to discretize the variables\n",
    "#input: the dataset and the list of variables' names to discretize\n",
    "def discretize_data(dataset, variables):\n",
    "    for variable in variables:\n",
    "        #get the unique variable's values\n",
    "        var = sorted(dataset[variable].unique())\n",
    "        \n",
    "        #generate a mapping from the variable's values to the number representation  \n",
    "        mapping = dict(zip(var, range(0, len(var) + 1)))\n",
    "\n",
    "        #add a new colum with the number representation of the variable\n",
    "        dataset[variable+'_num'] = dataset[variable].map(mapping).astype(int)\n",
    "    return dataset"
   ]
  },
  {
   "cell_type": "code",
   "execution_count": 13,
   "id": "17ba9a20",
   "metadata": {},
   "outputs": [],
   "source": [
    "#discretize the categorical variables\n",
    "variables = ['hand', 'gender', 'ioc']\n",
    "df = discretize_data(df, variables)"
   ]
  },
  {
   "cell_type": "code",
   "execution_count": 14,
   "id": "2253efc6",
   "metadata": {},
   "outputs": [],
   "source": [
    "#drop the categorical variables since we don't need them anymore \n",
    "df.drop(columns=['name','hand', 'gender', 'ioc'], axis=1,inplace=True)\n"
   ]
  },
  {
   "cell_type": "code",
   "execution_count": 15,
   "id": "5d940dd6",
   "metadata": {},
   "outputs": [
    {
     "name": "stdout",
     "output_type": "stream",
     "text": [
      "<class 'pandas.core.frame.DataFrame'>\n",
      "Int64Index: 2097 entries, 0 to 2096\n",
      "Data columns (total 20 columns):\n",
      " #   Column                 Non-Null Count  Dtype  \n",
      "---  ------                 --------------  -----  \n",
      " 0   ratio                  2097 non-null   float64\n",
      " 1   num_matches_2016-2019  2097 non-null   float64\n",
      " 2   ratio_2016-2019        2097 non-null   float64\n",
      " 3   num_matches_2020-2021  2097 non-null   float64\n",
      " 4   ratio_2020-2021        2097 non-null   float64\n",
      " 5   birth                  2097 non-null   float64\n",
      " 6   ht                     2097 non-null   float64\n",
      " 7   minutes                2097 non-null   float64\n",
      " 8   perc_ace               2097 non-null   float64\n",
      " 9   serv_won_tot_seve      2097 non-null   float64\n",
      " 10  bpFaced                2097 non-null   float64\n",
      " 11  perc_df                2097 non-null   float64\n",
      " 12  perc_2ndwon            2097 non-null   float64\n",
      " 13  perc_v_ace             2097 non-null   float64\n",
      " 14  perc_v_df              2097 non-null   float64\n",
      " 15  perc_v_1stwon          2097 non-null   float64\n",
      " 16  rank                   2062 non-null   float64\n",
      " 17  hand_num               2097 non-null   int32  \n",
      " 18  gender_num             2097 non-null   int32  \n",
      " 19  ioc_num                2097 non-null   int32  \n",
      "dtypes: float64(17), int32(3)\n",
      "memory usage: 319.5 KB\n"
     ]
    }
   ],
   "source": [
    "df.info()"
   ]
  },
  {
   "cell_type": "markdown",
   "id": "f7fe8db7",
   "metadata": {},
   "source": [
    "### Write to csv before classification"
   ]
  },
  {
   "cell_type": "code",
   "execution_count": 16,
   "id": "5871f233",
   "metadata": {},
   "outputs": [],
   "source": [
    "df.to_csv('dataset/players_classification.csv')"
   ]
  },
  {
   "cell_type": "markdown",
   "id": "cd15428b",
   "metadata": {
    "jp-MarkdownHeadingCollapsed": true,
    "tags": []
   },
   "source": [
    "## Labels\n",
    "\n",
    "Abbiamo bisogno di capire qual'è il target associato ad ogni insieme per fare il processo di classificazione, un idea potrebbe essere utilizzando un attributo specifico che tiene tratta delle \"performance\" di ogni giocatore, in modo da poter contraddistingure i giocatori più forti da quelli più deboli. Nel nostro caso ci siamo basati sul rank. \n",
    "\n",
    "Nota: questa non è una metrica efficace perchè il vero label del giocatore viene calcolato in base a diversi parametri come ad esempio il punteggio realizzato derivante dalla vincita dei vari tornei ma dato che esso risulta difficile stimarlo utilizzare le informazioni sui rank potrebbe essere la soluzione più efficente \n",
    "\n",
    "Quindi possiamo usare i percentili o i quartili per contraddistinguere i due tipi di giocatori, in paticolare consideriamo i giocatori più forti quelli che compaiono nei primi 25% del dataset in ordine di rank decrescente, mentre i rimanenti risultano di basso livello"
   ]
  },
  {
   "cell_type": "code",
   "execution_count": 17,
   "id": "d100a709",
   "metadata": {},
   "outputs": [
    {
     "data": {
      "text/html": [
       "<div>\n",
       "<style scoped>\n",
       "    .dataframe tbody tr th:only-of-type {\n",
       "        vertical-align: middle;\n",
       "    }\n",
       "\n",
       "    .dataframe tbody tr th {\n",
       "        vertical-align: top;\n",
       "    }\n",
       "\n",
       "    .dataframe thead th {\n",
       "        text-align: right;\n",
       "    }\n",
       "</style>\n",
       "<table border=\"1\" class=\"dataframe\">\n",
       "  <thead>\n",
       "    <tr style=\"text-align: right;\">\n",
       "      <th></th>\n",
       "      <th>ratio</th>\n",
       "      <th>num_matches_2016-2019</th>\n",
       "      <th>ratio_2016-2019</th>\n",
       "      <th>num_matches_2020-2021</th>\n",
       "      <th>ratio_2020-2021</th>\n",
       "      <th>birth</th>\n",
       "      <th>ht</th>\n",
       "      <th>minutes</th>\n",
       "      <th>perc_ace</th>\n",
       "      <th>serv_won_tot_seve</th>\n",
       "      <th>bpFaced</th>\n",
       "      <th>perc_df</th>\n",
       "      <th>perc_2ndwon</th>\n",
       "      <th>perc_v_ace</th>\n",
       "      <th>perc_v_df</th>\n",
       "      <th>perc_v_1stwon</th>\n",
       "      <th>rank</th>\n",
       "      <th>hand_num</th>\n",
       "      <th>gender_num</th>\n",
       "      <th>ioc_num</th>\n",
       "    </tr>\n",
       "  </thead>\n",
       "  <tbody>\n",
       "    <tr>\n",
       "      <th>1805</th>\n",
       "      <td>0.740614</td>\n",
       "      <td>247.0</td>\n",
       "      <td>0.736842</td>\n",
       "      <td>46.0</td>\n",
       "      <td>0.760870</td>\n",
       "      <td>1991.0</td>\n",
       "      <td>168.000000</td>\n",
       "      <td>89.320671</td>\n",
       "      <td>4.20</td>\n",
       "      <td>0.587154</td>\n",
       "      <td>2016.0</td>\n",
       "      <td>5.47</td>\n",
       "      <td>47.88</td>\n",
       "      <td>4.45</td>\n",
       "      <td>7.11</td>\n",
       "      <td>58.31</td>\n",
       "      <td>3.0</td>\n",
       "      <td>1</td>\n",
       "      <td>0</td>\n",
       "      <td>71</td>\n",
       "    </tr>\n",
       "    <tr>\n",
       "      <th>1639</th>\n",
       "      <td>0.834395</td>\n",
       "      <td>251.0</td>\n",
       "      <td>0.840637</td>\n",
       "      <td>63.0</td>\n",
       "      <td>0.809524</td>\n",
       "      <td>1986.0</td>\n",
       "      <td>185.000000</td>\n",
       "      <td>128.560922</td>\n",
       "      <td>7.25</td>\n",
       "      <td>0.676923</td>\n",
       "      <td>1571.0</td>\n",
       "      <td>3.77</td>\n",
       "      <td>57.67</td>\n",
       "      <td>12.01</td>\n",
       "      <td>5.74</td>\n",
       "      <td>64.40</td>\n",
       "      <td>3.0</td>\n",
       "      <td>0</td>\n",
       "      <td>1</td>\n",
       "      <td>26</td>\n",
       "    </tr>\n",
       "    <tr>\n",
       "      <th>1695</th>\n",
       "      <td>0.829694</td>\n",
       "      <td>209.0</td>\n",
       "      <td>0.842105</td>\n",
       "      <td>20.0</td>\n",
       "      <td>0.700000</td>\n",
       "      <td>1981.0</td>\n",
       "      <td>185.000000</td>\n",
       "      <td>114.490553</td>\n",
       "      <td>17.45</td>\n",
       "      <td>0.710146</td>\n",
       "      <td>918.0</td>\n",
       "      <td>3.40</td>\n",
       "      <td>58.37</td>\n",
       "      <td>10.95</td>\n",
       "      <td>5.59</td>\n",
       "      <td>67.99</td>\n",
       "      <td>4.0</td>\n",
       "      <td>1</td>\n",
       "      <td>1</td>\n",
       "      <td>80</td>\n",
       "    </tr>\n",
       "    <tr>\n",
       "      <th>1037</th>\n",
       "      <td>0.698276</td>\n",
       "      <td>280.0</td>\n",
       "      <td>0.710714</td>\n",
       "      <td>68.0</td>\n",
       "      <td>0.647059</td>\n",
       "      <td>1992.0</td>\n",
       "      <td>184.000000</td>\n",
       "      <td>96.256908</td>\n",
       "      <td>15.73</td>\n",
       "      <td>0.614620</td>\n",
       "      <td>2310.0</td>\n",
       "      <td>7.82</td>\n",
       "      <td>45.45</td>\n",
       "      <td>7.39</td>\n",
       "      <td>8.47</td>\n",
       "      <td>63.61</td>\n",
       "      <td>7.0</td>\n",
       "      <td>1</td>\n",
       "      <td>0</td>\n",
       "      <td>20</td>\n",
       "    </tr>\n",
       "    <tr>\n",
       "      <th>506</th>\n",
       "      <td>0.693182</td>\n",
       "      <td>300.0</td>\n",
       "      <td>0.700000</td>\n",
       "      <td>52.0</td>\n",
       "      <td>0.653846</td>\n",
       "      <td>1993.0</td>\n",
       "      <td>185.000000</td>\n",
       "      <td>112.975258</td>\n",
       "      <td>12.23</td>\n",
       "      <td>0.662438</td>\n",
       "      <td>2041.0</td>\n",
       "      <td>5.81</td>\n",
       "      <td>53.33</td>\n",
       "      <td>9.89</td>\n",
       "      <td>5.06</td>\n",
       "      <td>69.16</td>\n",
       "      <td>8.0</td>\n",
       "      <td>1</td>\n",
       "      <td>1</td>\n",
       "      <td>4</td>\n",
       "    </tr>\n",
       "    <tr>\n",
       "      <th>...</th>\n",
       "      <td>...</td>\n",
       "      <td>...</td>\n",
       "      <td>...</td>\n",
       "      <td>...</td>\n",
       "      <td>...</td>\n",
       "      <td>...</td>\n",
       "      <td>...</td>\n",
       "      <td>...</td>\n",
       "      <td>...</td>\n",
       "      <td>...</td>\n",
       "      <td>...</td>\n",
       "      <td>...</td>\n",
       "      <td>...</td>\n",
       "      <td>...</td>\n",
       "      <td>...</td>\n",
       "      <td>...</td>\n",
       "      <td>...</td>\n",
       "      <td>...</td>\n",
       "      <td>...</td>\n",
       "      <td>...</td>\n",
       "    </tr>\n",
       "    <tr>\n",
       "      <th>1571</th>\n",
       "      <td>0.133333</td>\n",
       "      <td>15.0</td>\n",
       "      <td>0.133333</td>\n",
       "      <td>0.0</td>\n",
       "      <td>0.000000</td>\n",
       "      <td>1999.0</td>\n",
       "      <td>172.137868</td>\n",
       "      <td>97.307692</td>\n",
       "      <td>3.15</td>\n",
       "      <td>0.391993</td>\n",
       "      <td>159.0</td>\n",
       "      <td>9.15</td>\n",
       "      <td>36.12</td>\n",
       "      <td>2.83</td>\n",
       "      <td>5.98</td>\n",
       "      <td>54.02</td>\n",
       "      <td>NaN</td>\n",
       "      <td>2</td>\n",
       "      <td>0</td>\n",
       "      <td>49</td>\n",
       "    </tr>\n",
       "    <tr>\n",
       "      <th>1724</th>\n",
       "      <td>0.379310</td>\n",
       "      <td>8.0</td>\n",
       "      <td>0.375000</td>\n",
       "      <td>21.0</td>\n",
       "      <td>0.380952</td>\n",
       "      <td>2002.0</td>\n",
       "      <td>177.500000</td>\n",
       "      <td>61.904040</td>\n",
       "      <td>3.20</td>\n",
       "      <td>0.409342</td>\n",
       "      <td>305.0</td>\n",
       "      <td>12.49</td>\n",
       "      <td>31.81</td>\n",
       "      <td>0.08</td>\n",
       "      <td>0.49</td>\n",
       "      <td>5.00</td>\n",
       "      <td>NaN</td>\n",
       "      <td>2</td>\n",
       "      <td>0</td>\n",
       "      <td>27</td>\n",
       "    </tr>\n",
       "    <tr>\n",
       "      <th>1856</th>\n",
       "      <td>0.500000</td>\n",
       "      <td>16.0</td>\n",
       "      <td>0.500000</td>\n",
       "      <td>0.0</td>\n",
       "      <td>0.000000</td>\n",
       "      <td>1994.0</td>\n",
       "      <td>173.363636</td>\n",
       "      <td>59.750000</td>\n",
       "      <td>0.00</td>\n",
       "      <td>0.130994</td>\n",
       "      <td>72.0</td>\n",
       "      <td>5.81</td>\n",
       "      <td>13.16</td>\n",
       "      <td>1.44</td>\n",
       "      <td>2.89</td>\n",
       "      <td>11.19</td>\n",
       "      <td>NaN</td>\n",
       "      <td>2</td>\n",
       "      <td>0</td>\n",
       "      <td>29</td>\n",
       "    </tr>\n",
       "    <tr>\n",
       "      <th>1889</th>\n",
       "      <td>0.391304</td>\n",
       "      <td>23.0</td>\n",
       "      <td>0.391304</td>\n",
       "      <td>0.0</td>\n",
       "      <td>0.000000</td>\n",
       "      <td>1994.0</td>\n",
       "      <td>172.137868</td>\n",
       "      <td>76.420635</td>\n",
       "      <td>0.75</td>\n",
       "      <td>0.481198</td>\n",
       "      <td>177.0</td>\n",
       "      <td>11.65</td>\n",
       "      <td>42.18</td>\n",
       "      <td>1.68</td>\n",
       "      <td>8.79</td>\n",
       "      <td>28.04</td>\n",
       "      <td>NaN</td>\n",
       "      <td>2</td>\n",
       "      <td>0</td>\n",
       "      <td>52</td>\n",
       "    </tr>\n",
       "    <tr>\n",
       "      <th>1961</th>\n",
       "      <td>0.342857</td>\n",
       "      <td>16.0</td>\n",
       "      <td>0.250000</td>\n",
       "      <td>19.0</td>\n",
       "      <td>0.421053</td>\n",
       "      <td>2000.0</td>\n",
       "      <td>165.000000</td>\n",
       "      <td>60.239130</td>\n",
       "      <td>0.00</td>\n",
       "      <td>0.229478</td>\n",
       "      <td>276.0</td>\n",
       "      <td>8.14</td>\n",
       "      <td>26.14</td>\n",
       "      <td>0.07</td>\n",
       "      <td>0.07</td>\n",
       "      <td>0.91</td>\n",
       "      <td>NaN</td>\n",
       "      <td>2</td>\n",
       "      <td>0</td>\n",
       "      <td>4</td>\n",
       "    </tr>\n",
       "  </tbody>\n",
       "</table>\n",
       "<p>2097 rows × 20 columns</p>\n",
       "</div>"
      ],
      "text/plain": [
       "         ratio  num_matches_2016-2019  ratio_2016-2019  num_matches_2020-2021  \\\n",
       "1805  0.740614                  247.0         0.736842                   46.0   \n",
       "1639  0.834395                  251.0         0.840637                   63.0   \n",
       "1695  0.829694                  209.0         0.842105                   20.0   \n",
       "1037  0.698276                  280.0         0.710714                   68.0   \n",
       "506   0.693182                  300.0         0.700000                   52.0   \n",
       "...        ...                    ...              ...                    ...   \n",
       "1571  0.133333                   15.0         0.133333                    0.0   \n",
       "1724  0.379310                    8.0         0.375000                   21.0   \n",
       "1856  0.500000                   16.0         0.500000                    0.0   \n",
       "1889  0.391304                   23.0         0.391304                    0.0   \n",
       "1961  0.342857                   16.0         0.250000                   19.0   \n",
       "\n",
       "      ratio_2020-2021   birth          ht     minutes  perc_ace  \\\n",
       "1805         0.760870  1991.0  168.000000   89.320671      4.20   \n",
       "1639         0.809524  1986.0  185.000000  128.560922      7.25   \n",
       "1695         0.700000  1981.0  185.000000  114.490553     17.45   \n",
       "1037         0.647059  1992.0  184.000000   96.256908     15.73   \n",
       "506          0.653846  1993.0  185.000000  112.975258     12.23   \n",
       "...               ...     ...         ...         ...       ...   \n",
       "1571         0.000000  1999.0  172.137868   97.307692      3.15   \n",
       "1724         0.380952  2002.0  177.500000   61.904040      3.20   \n",
       "1856         0.000000  1994.0  173.363636   59.750000      0.00   \n",
       "1889         0.000000  1994.0  172.137868   76.420635      0.75   \n",
       "1961         0.421053  2000.0  165.000000   60.239130      0.00   \n",
       "\n",
       "      serv_won_tot_seve  bpFaced  perc_df  perc_2ndwon  perc_v_ace  perc_v_df  \\\n",
       "1805           0.587154   2016.0     5.47        47.88        4.45       7.11   \n",
       "1639           0.676923   1571.0     3.77        57.67       12.01       5.74   \n",
       "1695           0.710146    918.0     3.40        58.37       10.95       5.59   \n",
       "1037           0.614620   2310.0     7.82        45.45        7.39       8.47   \n",
       "506            0.662438   2041.0     5.81        53.33        9.89       5.06   \n",
       "...                 ...      ...      ...          ...         ...        ...   \n",
       "1571           0.391993    159.0     9.15        36.12        2.83       5.98   \n",
       "1724           0.409342    305.0    12.49        31.81        0.08       0.49   \n",
       "1856           0.130994     72.0     5.81        13.16        1.44       2.89   \n",
       "1889           0.481198    177.0    11.65        42.18        1.68       8.79   \n",
       "1961           0.229478    276.0     8.14        26.14        0.07       0.07   \n",
       "\n",
       "      perc_v_1stwon  rank  hand_num  gender_num  ioc_num  \n",
       "1805          58.31   3.0         1           0       71  \n",
       "1639          64.40   3.0         0           1       26  \n",
       "1695          67.99   4.0         1           1       80  \n",
       "1037          63.61   7.0         1           0       20  \n",
       "506           69.16   8.0         1           1        4  \n",
       "...             ...   ...       ...         ...      ...  \n",
       "1571          54.02   NaN         2           0       49  \n",
       "1724           5.00   NaN         2           0       27  \n",
       "1856          11.19   NaN         2           0       29  \n",
       "1889          28.04   NaN         2           0       52  \n",
       "1961           0.91   NaN         2           0        4  \n",
       "\n",
       "[2097 rows x 20 columns]"
      ]
     },
     "execution_count": 17,
     "metadata": {},
     "output_type": "execute_result"
    }
   ],
   "source": [
    "df.sort_values(by=['rank'])"
   ]
  },
  {
   "cell_type": "code",
   "execution_count": 18,
   "id": "31f658d6",
   "metadata": {},
   "outputs": [],
   "source": [
    "# primo quartile (25%)\n",
    "quantile_a = df['rank'].quantile(0.25)\n"
   ]
  },
  {
   "cell_type": "code",
   "execution_count": 19,
   "id": "e3436b2f",
   "metadata": {},
   "outputs": [],
   "source": [
    "blindtest=df[df['rank'].isna()]\n",
    "del blindtest['rank']"
   ]
  },
  {
   "cell_type": "code",
   "execution_count": 20,
   "id": "19326c76",
   "metadata": {},
   "outputs": [],
   "source": [
    "#faccio un drop dei null perchè saranno quelli con cui poi andrò a stimarne il valore\n",
    "df = df.drop(df[df['rank'].isna()].index)"
   ]
  },
  {
   "cell_type": "code",
   "execution_count": 21,
   "id": "21be1e8e",
   "metadata": {},
   "outputs": [],
   "source": [
    "labels = []\n",
    "for index, rank in df['rank'].items():\n",
    "    if rank <= quantile_a:\n",
    "        labels.append(0)\n",
    "    else:\n",
    "        labels.append(1)"
   ]
  },
  {
   "cell_type": "code",
   "execution_count": 22,
   "id": "1df4bd83",
   "metadata": {},
   "outputs": [],
   "source": [
    "class_names = ['high-level', 'low-level']"
   ]
  },
  {
   "cell_type": "code",
   "execution_count": 23,
   "id": "5d41935f",
   "metadata": {},
   "outputs": [
    {
     "data": {
      "text/plain": [
       "1    0.749758\n",
       "0    0.250242\n",
       "Name: labels, dtype: float64"
      ]
     },
     "execution_count": 23,
     "metadata": {},
     "output_type": "execute_result"
    }
   ],
   "source": [
    "classes = pd.DataFrame()\n",
    "classes['labels'] = labels\n",
    "classes.labels.value_counts(True)"
   ]
  },
  {
   "cell_type": "markdown",
   "id": "cf97ac76",
   "metadata": {},
   "source": [
    "### Prepare dataset (splitting)"
   ]
  },
  {
   "cell_type": "code",
   "execution_count": 24,
   "id": "459c7c56",
   "metadata": {},
   "outputs": [],
   "source": [
    "del df['rank']"
   ]
  },
  {
   "cell_type": "code",
   "execution_count": 25,
   "id": "005100a6",
   "metadata": {},
   "outputs": [],
   "source": [
    "#use stratify because database contain unbalanced label, in this way it's possible to mantain this percentage \n",
    "#of label in train and test set \n",
    "train_set, test_set, train_label, test_label = train_test_split(df, labels, stratify=labels, test_size=0.25)"
   ]
  },
  {
   "cell_type": "code",
   "execution_count": 26,
   "id": "af61c82c",
   "metadata": {},
   "outputs": [
    {
     "data": {
      "text/plain": [
       "1546"
      ]
     },
     "execution_count": 26,
     "metadata": {},
     "output_type": "execute_result"
    }
   ],
   "source": [
    "np.size(train_label)"
   ]
  },
  {
   "cell_type": "markdown",
   "id": "95e13c0e",
   "metadata": {},
   "source": [
    "# Classification "
   ]
  },
  {
   "cell_type": "markdown",
   "id": "3046343f",
   "metadata": {},
   "source": [
    "Abbiamo usato 9 metodi di classificazione diversi al fine di selezionare il migliore in particolare:\n",
    "\n",
    "**Tree-based classifiers**\n",
    "- Decision Tree\n",
    "\n",
    "**Naive Bayes classifiers**\n",
    "- Bayesian classifier\n",
    "\n",
    "**Machine Learning classifiers**\n",
    "- Neural Network\n",
    "\n",
    "**Neighbors-based classifiers**\n",
    "- KNN\n",
    "- Radius-Neighbors \n",
    "\n",
    "**Support Vector Machine**\n",
    "- SVM\n",
    "\n",
    "**Rule based classifiers**\n",
    "- Rule based\n",
    "\n",
    "**Ensemble Method**\n",
    "- AdaBoosting\n",
    "- Random forest"
   ]
  },
  {
   "cell_type": "markdown",
   "id": "053ccbf7-d71c-453d-a238-f3590ff231e4",
   "metadata": {},
   "source": [
    "# Function for print report, ROC, confusion matrix"
   ]
  },
  {
   "cell_type": "code",
   "execution_count": 27,
   "id": "f9778172-6a0f-4535-bb32-a3868f4a3722",
   "metadata": {},
   "outputs": [],
   "source": [
    "def print_all(models, training , training_pred, test, test_pred, roc=\"yes\"):\n",
    "    #print all classification report\n",
    "    print(\"TRAINING:\\n\",classification_report(train_label, training_pred, target_names=class_names))\n",
    "    print(\"TEST:\\n\",classification_report(test_label, test_pred, target_names=class_names))\n",
    "    \n",
    "    #plot confusion matrix\n",
    "    cm = confusion_matrix(test_label, test_pred)\n",
    "    disp = ConfusionMatrixDisplay(confusion_matrix=cm)\n",
    "    disp.plot()\n",
    "    \n",
    "    #plot ROC\n",
    "    if(roc==\"yes\"):\n",
    "        test_pred_proba = models.predict_proba(test)\n",
    "        skplt.metrics.plot_roc(test_label, test_pred_proba)"
   ]
  },
  {
   "cell_type": "markdown",
   "id": "8b9b2af6",
   "metadata": {
    "tags": []
   },
   "source": [
    "## Classfication with decision tree"
   ]
  },
  {
   "cell_type": "code",
   "execution_count": 28,
   "id": "transsexual-cleveland",
   "metadata": {},
   "outputs": [],
   "source": [
    "#Library for decision tree\n",
    "from sklearn import tree\n",
    "from sklearn.metrics import classification_report\n",
    "import pydotplus \n",
    "from IPython.display import Image"
   ]
  },
  {
   "cell_type": "markdown",
   "id": "25a733cb",
   "metadata": {},
   "source": [
    "### Grid Search"
   ]
  },
  {
   "cell_type": "code",
   "execution_count": 29,
   "id": "62241b88",
   "metadata": {},
   "outputs": [],
   "source": [
    "dt_max_depth = [2,3,5,6,7,10,12,None]\n",
    "dt_min_samples_split = sp_randint(2, 51)\n",
    "min_samples_leaf = sp_randint(1, 51)\n",
    "criterion = [\"entropy\", \"gini\"]\n",
    "splitter = [\"best\", \"random\"]\n",
    "max_features = [None, 2, 3, 4, 5]\n",
    "\n",
    "dt_param_grid = {\n",
    "    \"max_depth\": dt_max_depth,\n",
    "    \"min_samples_split\": dt_min_samples_split.rvs(5),\n",
    "    \"min_samples_leaf\": min_samples_leaf.rvs(5),\n",
    "    \"criterion\": criterion,\n",
    "    \"splitter\": splitter,\n",
    "    \"max_features\": max_features,\n",
    "    \"class_weight\":[None, {0: 0.65, 1: 0.25}]\n",
    "    }\n",
    "\n",
    "\n",
    "#define the grid search\n",
    "dt_grid = GridSearchCV(tree.DecisionTreeClassifier(), param_grid=dt_param_grid, n_jobs=-1,\n",
    "                            scoring=make_scorer(f1_score))"
   ]
  },
  {
   "cell_type": "code",
   "execution_count": 30,
   "id": "ffbb8ee7",
   "metadata": {},
   "outputs": [
    {
     "name": "stdout",
     "output_type": "stream",
     "text": [
      "{'class_weight': None, 'criterion': 'entropy', 'max_depth': 5, 'max_features': None, 'min_samples_leaf': 13, 'min_samples_split': 33, 'splitter': 'best'}\n"
     ]
    }
   ],
   "source": [
    "best_model = dt_grid.fit(train_set, train_label)\n",
    "print(dt_grid.best_params_)\n",
    "train_pred_dt = dt_grid.predict(train_set)\n",
    "test_pred_dt = dt_grid.predict(test_set)"
   ]
  },
  {
   "cell_type": "code",
   "execution_count": 31,
   "id": "plain-tourism",
   "metadata": {},
   "outputs": [],
   "source": [
    "blind_pred_dt = dt_grid.predict(blindtest)"
   ]
  },
  {
   "cell_type": "code",
   "execution_count": 32,
   "id": "greater-patient",
   "metadata": {},
   "outputs": [],
   "source": [
    "dot_data = export_graphviz(best_model.best_estimator_, out_file=None, \n",
    "            filled=True, rounded=True, class_names=['0','1'])"
   ]
  },
  {
   "cell_type": "code",
   "execution_count": 33,
   "id": "minor-nickel",
   "metadata": {},
   "outputs": [
    {
     "name": "stdout",
     "output_type": "stream",
     "text": [
      "digraph Tree {\n",
      "node [color=\"black\", fontname=\"helvetica\", shape=box, style=\"filled, rounded\"];\n",
      "edge [fontname=\"helvetica\"];\n",
      "0 [fillcolor=\"#7bbeee\", label=\"X[1] <= 149.5\\nentropy = 0.812\\nsamples = 1546\\nvalue = [387, 1159]\\nclass = 1\"];\n",
      "1 [fillcolor=\"#48a5e7\", label=\"X[10] <= 509.5\\nentropy = 0.371\\nsamples = 1050\\nvalue = [75, 975]\\nclass = 1\"];\n",
      "0 -> 1  [headlabel=\"True\", labelangle=45, labeldistance=\"2.5\"];\n",
      "2 [fillcolor=\"#3d9fe6\", label=\"X[5] <= 1986.5\\nentropy = 0.14\\nsamples = 657\\nvalue = [13, 644]\\nclass = 1\"];\n",
      "1 -> 2;\n",
      "3 [fillcolor=\"#66b3eb\", label=\"X[10] <= 310.0\\nentropy = 0.691\\nsamples = 54\\nvalue = [10, 44]\\nclass = 1\"];\n",
      "2 -> 3;\n",
      "4 [fillcolor=\"#4aa5e7\", label=\"X[5] <= 1983.5\\nentropy = 0.398\\nsamples = 38\\nvalue = [3, 35]\\nclass = 1\"];\n",
      "3 -> 4;\n",
      "5 [fillcolor=\"#399de5\", label=\"entropy = 0.0\\nsamples = 18\\nvalue = [0, 18]\\nclass = 1\"];\n",
      "4 -> 5;\n",
      "6 [fillcolor=\"#5caeea\", label=\"entropy = 0.61\\nsamples = 20\\nvalue = [3, 17]\\nclass = 1\"];\n",
      "4 -> 6;\n",
      "7 [fillcolor=\"#d3e9f9\", label=\"entropy = 0.989\\nsamples = 16\\nvalue = [7, 9]\\nclass = 1\"];\n",
      "3 -> 7;\n",
      "8 [fillcolor=\"#3a9de5\", label=\"X[5] <= 1990.5\\nentropy = 0.045\\nsamples = 603\\nvalue = [3, 600]\\nclass = 1\"];\n",
      "2 -> 8;\n",
      "9 [fillcolor=\"#3ea0e6\", label=\"X[13] <= 4.07\\nentropy = 0.172\\nsamples = 117\\nvalue = [3, 114]\\nclass = 1\"];\n",
      "8 -> 9;\n",
      "10 [fillcolor=\"#67b4eb\", label=\"entropy = 0.696\\nsamples = 16\\nvalue = [3, 13]\\nclass = 1\"];\n",
      "9 -> 10;\n",
      "11 [fillcolor=\"#399de5\", label=\"entropy = 0.0\\nsamples = 101\\nvalue = [0, 101]\\nclass = 1\"];\n",
      "9 -> 11;\n",
      "12 [fillcolor=\"#399de5\", label=\"entropy = 0.0\\nsamples = 486\\nvalue = [0, 486]\\nclass = 1\"];\n",
      "8 -> 12;\n",
      "13 [fillcolor=\"#5eafea\", label=\"X[7] <= 68.481\\nentropy = 0.629\\nsamples = 393\\nvalue = [62, 331]\\nclass = 1\"];\n",
      "1 -> 13;\n",
      "14 [fillcolor=\"#399de5\", label=\"entropy = 0.0\\nsamples = 174\\nvalue = [0, 174]\\nclass = 1\"];\n",
      "13 -> 14;\n",
      "15 [fillcolor=\"#87c4ef\", label=\"X[17] <= 0.5\\nentropy = 0.86\\nsamples = 219\\nvalue = [62, 157]\\nclass = 1\"];\n",
      "13 -> 15;\n",
      "16 [fillcolor=\"#f8dfcc\", label=\"X[7] <= 81.226\\nentropy = 0.984\\nsamples = 61\\nvalue = [35, 26]\\nclass = 0\"];\n",
      "15 -> 16;\n",
      "17 [fillcolor=\"#7ebfee\", label=\"entropy = 0.822\\nsamples = 35\\nvalue = [9, 26]\\nclass = 1\"];\n",
      "16 -> 17;\n",
      "18 [fillcolor=\"#e58139\", label=\"entropy = 0.0\\nsamples = 26\\nvalue = [26, 0]\\nclass = 0\"];\n",
      "16 -> 18;\n",
      "19 [fillcolor=\"#62b1ea\", label=\"X[0] <= 0.592\\nentropy = 0.66\\nsamples = 158\\nvalue = [27, 131]\\nclass = 1\"];\n",
      "15 -> 19;\n",
      "20 [fillcolor=\"#53aae8\", label=\"entropy = 0.521\\nsamples = 145\\nvalue = [17, 128]\\nclass = 1\"];\n",
      "19 -> 20;\n",
      "21 [fillcolor=\"#eda774\", label=\"entropy = 0.779\\nsamples = 13\\nvalue = [10, 3]\\nclass = 0\"];\n",
      "19 -> 21;\n",
      "22 [fillcolor=\"#f4cbae\", label=\"X[7] <= 67.725\\nentropy = 0.951\\nsamples = 496\\nvalue = [312, 184]\\nclass = 0\"];\n",
      "0 -> 22  [headlabel=\"False\", labelangle=\"-45\", labeldistance=\"2.5\"];\n",
      "23 [fillcolor=\"#399de5\", label=\"entropy = 0.0\\nsamples = 124\\nvalue = [0, 124]\\nclass = 1\"];\n",
      "22 -> 23;\n",
      "24 [fillcolor=\"#ea995f\", label=\"X[15] <= 51.195\\nentropy = 0.637\\nsamples = 372\\nvalue = [312, 60]\\nclass = 0\"];\n",
      "22 -> 24;\n",
      "25 [fillcolor=\"#bddef6\", label=\"X[1] <= 199.0\\nentropy = 0.971\\nsamples = 40\\nvalue = [16, 24]\\nclass = 1\"];\n",
      "24 -> 25;\n",
      "26 [fillcolor=\"#6db7ec\", label=\"entropy = 0.738\\nsamples = 24\\nvalue = [5, 19]\\nclass = 1\"];\n",
      "25 -> 26;\n",
      "27 [fillcolor=\"#f1ba93\", label=\"entropy = 0.896\\nsamples = 16\\nvalue = [11, 5]\\nclass = 0\"];\n",
      "25 -> 27;\n",
      "28 [fillcolor=\"#e89051\", label=\"X[2] <= 0.471\\nentropy = 0.495\\nsamples = 332\\nvalue = [296, 36]\\nclass = 0\"];\n",
      "24 -> 28;\n",
      "29 [fillcolor=\"#a4d2f3\", label=\"entropy = 0.934\\nsamples = 20\\nvalue = [7, 13]\\nclass = 1\"];\n",
      "28 -> 29;\n",
      "30 [fillcolor=\"#e78b49\", label=\"X[0] <= 0.532\\nentropy = 0.38\\nsamples = 312\\nvalue = [289, 23]\\nclass = 0\"];\n",
      "28 -> 30;\n",
      "31 [fillcolor=\"#e99559\", label=\"entropy = 0.583\\nsamples = 122\\nvalue = [105, 17]\\nclass = 0\"];\n",
      "30 -> 31;\n",
      "32 [fillcolor=\"#e6853f\", label=\"entropy = 0.202\\nsamples = 190\\nvalue = [184, 6]\\nclass = 0\"];\n",
      "30 -> 32;\n",
      "\"\\n\";\n",
      "}\n",
      "\n"
     ]
    }
   ],
   "source": [
    "graph = pydotplus.graph_from_dot_data(dot_data)\n",
    "print(graph.to_string())\n",
    "#Image(graph.create_png())\n"
   ]
  },
  {
   "cell_type": "markdown",
   "id": "4473325a",
   "metadata": {},
   "source": [
    "### Evaluation of the decision tree"
   ]
  },
  {
   "cell_type": "code",
   "execution_count": 34,
   "id": "f48496d3-ea0b-4689-9970-01913f420d60",
   "metadata": {},
   "outputs": [
    {
     "name": "stdout",
     "output_type": "stream",
     "text": [
      "TRAINING:\n",
      "               precision    recall  f1-score   support\n",
      "\n",
      "  high-level       0.92      0.87      0.89       387\n",
      "   low-level       0.96      0.97      0.96      1159\n",
      "\n",
      "    accuracy                           0.95      1546\n",
      "   macro avg       0.94      0.92      0.93      1546\n",
      "weighted avg       0.95      0.95      0.95      1546\n",
      "\n",
      "TEST:\n",
      "               precision    recall  f1-score   support\n",
      "\n",
      "  high-level       0.85      0.80      0.82       129\n",
      "   low-level       0.93      0.95      0.94       387\n",
      "\n",
      "    accuracy                           0.91       516\n",
      "   macro avg       0.89      0.88      0.88       516\n",
      "weighted avg       0.91      0.91      0.91       516\n",
      "\n"
     ]
    },
    {
     "data": {
      "image/png": "[encoded data removed]",
      "text/plain": [
       "<Figure size 432x288 with 2 Axes>"
      ]
     },
     "metadata": {
      "needs_background": "light"
     },
     "output_type": "display_data"
    },
    {
     "data": {
      "image/png": "[encoded data removed]",
      "text/plain": [
       "<Figure size 432x288 with 1 Axes>"
      ]
     },
     "metadata": {
      "needs_background": "light"
     },
     "output_type": "display_data"
    }
   ],
   "source": [
    "print_all(dt_grid,train_set,train_pred_dt,test_set,test_pred_dt)"
   ]
  },
  {
   "cell_type": "markdown",
   "id": "483e3b9e",
   "metadata": {
    "tags": []
   },
   "source": [
    "## Bayesian classifier"
   ]
  },
  {
   "cell_type": "code",
   "execution_count": 35,
   "id": "furnished-march",
   "metadata": {},
   "outputs": [],
   "source": [
    "from sklearn.naive_bayes import GaussianNB, MultinomialNB"
   ]
  },
  {
   "cell_type": "code",
   "execution_count": 36,
   "id": "79696835",
   "metadata": {},
   "outputs": [],
   "source": [
    "gnb = GaussianNB()\n",
    "gnb.fit(train_set, train_label)\n",
    "train_pred_gnb = gnb.predict(train_set)\n",
    "#predict on the test set\n",
    "test_pred_gnb = gnb.predict(test_set)"
   ]
  },
  {
   "cell_type": "markdown",
   "id": "c7c14cdb-082c-4c90-a5be-bc8e2fd6ed1e",
   "metadata": {},
   "source": [
    "### Evaluation"
   ]
  },
  {
   "cell_type": "code",
   "execution_count": 37,
   "id": "56f11385-e7e2-4582-bbba-b68f346c8b21",
   "metadata": {},
   "outputs": [
    {
     "name": "stdout",
     "output_type": "stream",
     "text": [
      "TRAINING:\n",
      "               precision    recall  f1-score   support\n",
      "\n",
      "  high-level       0.68      0.91      0.78       387\n",
      "   low-level       0.97      0.85      0.91      1159\n",
      "\n",
      "    accuracy                           0.87      1546\n",
      "   macro avg       0.82      0.88      0.84      1546\n",
      "weighted avg       0.89      0.87      0.87      1546\n",
      "\n",
      "TEST:\n",
      "               precision    recall  f1-score   support\n",
      "\n",
      "  high-level       0.69      0.93      0.79       129\n",
      "   low-level       0.97      0.86      0.91       387\n",
      "\n",
      "    accuracy                           0.88       516\n",
      "   macro avg       0.83      0.89      0.85       516\n",
      "weighted avg       0.90      0.88      0.88       516\n",
      "\n"
     ]
    },
    {
     "data": {
      "image/png": "[encoded data removed]",
      "text/plain": [
       "<Figure size 432x288 with 2 Axes>"
      ]
     },
     "metadata": {
      "needs_background": "light"
     },
     "output_type": "display_data"
    },
    {
     "data": {
      "image/png": "[encoded data removed]",
      "text/plain": [
       "<Figure size 432x288 with 1 Axes>"
      ]
     },
     "metadata": {
      "needs_background": "light"
     },
     "output_type": "display_data"
    }
   ],
   "source": [
    "print_all(gnb,train_set,train_pred_gnb,test_set,test_pred_gnb)"
   ]
  },
  {
   "cell_type": "markdown",
   "id": "bdb06a33",
   "metadata": {},
   "source": [
    "## Neural Network"
   ]
  },
  {
   "cell_type": "code",
   "execution_count": 38,
   "id": "068cc0f5-1b14-4447-9f4c-701cead0cd5d",
   "metadata": {},
   "outputs": [],
   "source": [
    "import tensorflow as tf\n",
    "from tensorflow.keras.wrappers.scikit_learn import KerasClassifier\n",
    "from tensorflow.keras.models import Sequential\n",
    "from tensorflow.keras.layers import Dense, Dropout"
   ]
  },
  {
   "cell_type": "code",
   "execution_count": 39,
   "id": "respective-grenada",
   "metadata": {},
   "outputs": [],
   "source": [
    "def create_model(n_neurons1, activation1, n_neurons2, activation2, optimizer, activation_out, loss): \n",
    "    # create model\n",
    "    model = Sequential()\n",
    "    model.add(Dense(n_neurons1, kernel_initializer='uniform', input_dim=19, activation=activation1)) \n",
    "    model.add(Dense(1,  kernel_initializer='uniform', activation=activation_out))\n",
    "    # Compile model\n",
    "    model.compile(loss=loss, optimizer=optimizer, metrics=[\"accuracy\"])\n",
    "    return model"
   ]
  },
  {
   "cell_type": "code",
   "execution_count": 40,
   "id": "concerned-brunswick",
   "metadata": {},
   "outputs": [
    {
     "name": "stderr",
     "output_type": "stream",
     "text": [
      "<ipython-input-40-4987c134f2e2>:13: DeprecationWarning: KerasClassifier is deprecated, use Sci-Keras (https://github.com/adriangb/scikeras) instead.\n",
      "  nn = KerasClassifier(build_fn=create_model, epochs=150, batch_size=32)\n"
     ]
    }
   ],
   "source": [
    "grid_param = {\n",
    "    \"n_neurons1\":[20],\n",
    "    \"activation1\":[\"relu\"],\n",
    "    \"n_neurons2\":[20],\n",
    "    \"activation2\":[\"softmax\"],\n",
    "    \"optimizer\": ['adam'],\n",
    "#     \"activation_out\":[\"softmax\",\"relu\",\"sigmoid\"],\n",
    "#    \"dropout_rate\" : [0.2],\n",
    "    \"activation_out\":[\"linear\"],\n",
    "    \"loss\":[\"mean_squared_error\"]\n",
    "}\n",
    "\n",
    "nn = KerasClassifier(build_fn=create_model, epochs=150, batch_size=32)\n",
    "nn_grid = GridSearchCV(nn, param_grid=grid_param, n_jobs=-1, cv=8, scoring=make_scorer(f1_score))\n"
   ]
  },
  {
   "cell_type": "code",
   "execution_count": 41,
   "id": "b9771803-84c9-412f-a1a7-08d9be7daa1f",
   "metadata": {
    "collapsed": true
   },
   "outputs": [
    {
     "name": "stdout",
     "output_type": "stream",
     "text": [
      "Epoch 1/150\n",
      "49/49 [==============================] - 0s 1ms/step - loss: 10.3672 - accuracy: 0.5873\n",
      "Epoch 2/150\n",
      "49/49 [==============================] - 0s 1ms/step - loss: 0.2265 - accuracy: 0.6850\n",
      "Epoch 3/150\n",
      "49/49 [==============================] - 0s 1ms/step - loss: 0.1698 - accuracy: 0.7141\n",
      "Epoch 4/150\n",
      "49/49 [==============================] - 0s 1ms/step - loss: 0.1512 - accuracy: 0.7536\n",
      "Epoch 5/150\n",
      "49/49 [==============================] - 0s 1ms/step - loss: 0.1385 - accuracy: 0.7762\n",
      "Epoch 6/150\n",
      "49/49 [==============================] - 0s 980us/step - loss: 0.1305 - accuracy: 0.7982\n",
      "Epoch 7/150\n",
      "49/49 [==============================] - 0s 1ms/step - loss: 0.1221 - accuracy: 0.8234\n",
      "Epoch 8/150\n",
      "49/49 [==============================] - 0s 1ms/step - loss: 0.1164 - accuracy: 0.8299\n",
      "Epoch 9/150\n",
      "49/49 [==============================] - 0s 1ms/step - loss: 0.1112 - accuracy: 0.8441\n",
      "Epoch 10/150\n",
      "49/49 [==============================] - 0s 1ms/step - loss: 0.1078 - accuracy: 0.8532\n",
      "Epoch 11/150\n",
      "49/49 [==============================] - 0s 1ms/step - loss: 0.1047 - accuracy: 0.8616\n",
      "Epoch 12/150\n",
      "49/49 [==============================] - 0s 1ms/step - loss: 0.1023 - accuracy: 0.8719\n",
      "Epoch 13/150\n",
      "49/49 [==============================] - 0s 1ms/step - loss: 0.1009 - accuracy: 0.8700\n",
      "Epoch 14/150\n",
      "49/49 [==============================] - 0s 1ms/step - loss: 0.0985 - accuracy: 0.8752\n",
      "Epoch 15/150\n",
      "49/49 [==============================] - 0s 1ms/step - loss: 0.0995 - accuracy: 0.8758\n",
      "Epoch 16/150\n",
      "49/49 [==============================] - 0s 1ms/step - loss: 0.0958 - accuracy: 0.8816\n",
      "Epoch 17/150\n",
      "49/49 [==============================] - 0s 1ms/step - loss: 0.0939 - accuracy: 0.8842\n",
      "Epoch 18/150\n",
      "49/49 [==============================] - 0s 1ms/step - loss: 0.0994 - accuracy: 0.8765\n",
      "Epoch 19/150\n",
      "49/49 [==============================] - 0s 1ms/step - loss: 0.0950 - accuracy: 0.8823\n",
      "Epoch 20/150\n",
      "49/49 [==============================] - 0s 1ms/step - loss: 0.0918 - accuracy: 0.8881\n",
      "Epoch 21/150\n",
      "49/49 [==============================] - 0s 1ms/step - loss: 0.0916 - accuracy: 0.8829\n",
      "Epoch 22/150\n",
      "49/49 [==============================] - 0s 1ms/step - loss: 0.0958 - accuracy: 0.8816\n",
      "Epoch 23/150\n",
      "49/49 [==============================] - 0s 1ms/step - loss: 0.0903 - accuracy: 0.8836\n",
      "Epoch 24/150\n",
      "49/49 [==============================] - 0s 1ms/step - loss: 0.0921 - accuracy: 0.8842\n",
      "Epoch 25/150\n",
      "49/49 [==============================] - 0s 1ms/step - loss: 0.0913 - accuracy: 0.8900\n",
      "Epoch 26/150\n",
      "49/49 [==============================] - 0s 1ms/step - loss: 0.0879 - accuracy: 0.8933\n",
      "Epoch 27/150\n",
      "49/49 [==============================] - 0s 1ms/step - loss: 0.0867 - accuracy: 0.8926\n",
      "Epoch 28/150\n",
      "49/49 [==============================] - 0s 1ms/step - loss: 0.0884 - accuracy: 0.8862\n",
      "Epoch 29/150\n",
      "49/49 [==============================] - 0s 1ms/step - loss: 0.0850 - accuracy: 0.8997\n",
      "Epoch 30/150\n",
      "49/49 [==============================] - 0s 1ms/step - loss: 0.0862 - accuracy: 0.8952\n",
      "Epoch 31/150\n",
      "49/49 [==============================] - 0s 1ms/step - loss: 0.0863 - accuracy: 0.8997\n",
      "Epoch 32/150\n",
      "49/49 [==============================] - 0s 1ms/step - loss: 0.0881 - accuracy: 0.8933\n",
      "Epoch 33/150\n",
      "49/49 [==============================] - 0s 1ms/step - loss: 0.0921 - accuracy: 0.8939\n",
      "Epoch 34/150\n",
      "49/49 [==============================] - 0s 1ms/step - loss: 0.0820 - accuracy: 0.9043\n",
      "Epoch 35/150\n",
      "49/49 [==============================] - 0s 1ms/step - loss: 0.0825 - accuracy: 0.9075\n",
      "Epoch 36/150\n",
      "49/49 [==============================] - 0s 1ms/step - loss: 0.0834 - accuracy: 0.8972\n",
      "Epoch 37/150\n",
      "49/49 [==============================] - 0s 1ms/step - loss: 0.0858 - accuracy: 0.8997\n",
      "Epoch 38/150\n",
      "49/49 [==============================] - 0s 1ms/step - loss: 0.0832 - accuracy: 0.8959\n",
      "Epoch 39/150\n",
      "49/49 [==============================] - 0s 1ms/step - loss: 0.0828 - accuracy: 0.9043\n",
      "Epoch 40/150\n",
      "49/49 [==============================] - 0s 1ms/step - loss: 0.0790 - accuracy: 0.9101\n",
      "Epoch 41/150\n",
      "49/49 [==============================] - 0s 1ms/step - loss: 0.0803 - accuracy: 0.9082\n",
      "Epoch 42/150\n",
      "49/49 [==============================] - 0s 1ms/step - loss: 0.0813 - accuracy: 0.8997\n",
      "Epoch 43/150\n",
      "49/49 [==============================] - 0s 1ms/step - loss: 0.0832 - accuracy: 0.8997\n",
      "Epoch 44/150\n",
      "49/49 [==============================] - 0s 1ms/step - loss: 0.0786 - accuracy: 0.9082\n",
      "Epoch 45/150\n",
      "49/49 [==============================] - 0s 1ms/step - loss: 0.0785 - accuracy: 0.9082\n",
      "Epoch 46/150\n",
      "49/49 [==============================] - 0s 1ms/step - loss: 0.0969 - accuracy: 0.8959\n",
      "Epoch 47/150\n",
      "49/49 [==============================] - 0s 941us/step - loss: 0.0848 - accuracy: 0.8978\n",
      "Epoch 48/150\n",
      "49/49 [==============================] - 0s 1ms/step - loss: 0.0809 - accuracy: 0.9049\n",
      "Epoch 49/150\n",
      "49/49 [==============================] - 0s 990us/step - loss: 0.0780 - accuracy: 0.9082\n",
      "Epoch 50/150\n",
      "49/49 [==============================] - 0s 988us/step - loss: 0.0794 - accuracy: 0.9017\n",
      "Epoch 51/150\n",
      "49/49 [==============================] - 0s 1ms/step - loss: 0.0783 - accuracy: 0.9023\n",
      "Epoch 52/150\n",
      "49/49 [==============================] - 0s 1ms/step - loss: 0.0765 - accuracy: 0.9043\n",
      "Epoch 53/150\n",
      "49/49 [==============================] - 0s 1ms/step - loss: 0.0819 - accuracy: 0.9030\n",
      "Epoch 54/150\n",
      "49/49 [==============================] - 0s 1ms/step - loss: 0.0744 - accuracy: 0.9082\n",
      "Epoch 55/150\n",
      "49/49 [==============================] - 0s 1ms/step - loss: 0.0869 - accuracy: 0.9036\n",
      "Epoch 56/150\n",
      "49/49 [==============================] - 0s 1ms/step - loss: 0.0759 - accuracy: 0.9075\n",
      "Epoch 57/150\n",
      "49/49 [==============================] - 0s 963us/step - loss: 0.0785 - accuracy: 0.9056\n",
      "Epoch 58/150\n",
      "49/49 [==============================] - 0s 1ms/step - loss: 0.0798 - accuracy: 0.9049\n",
      "Epoch 59/150\n",
      "49/49 [==============================] - 0s 970us/step - loss: 0.0847 - accuracy: 0.9049\n",
      "Epoch 60/150\n",
      "49/49 [==============================] - 0s 973us/step - loss: 0.0785 - accuracy: 0.9082\n",
      "Epoch 61/150\n",
      "49/49 [==============================] - 0s 1ms/step - loss: 0.0827 - accuracy: 0.9049\n",
      "Epoch 62/150\n",
      "49/49 [==============================] - 0s 1ms/step - loss: 0.0756 - accuracy: 0.9062\n",
      "Epoch 63/150\n",
      "49/49 [==============================] - 0s 1ms/step - loss: 0.0913 - accuracy: 0.8926\n",
      "Epoch 64/150\n",
      "49/49 [==============================] - 0s 981us/step - loss: 0.0857 - accuracy: 0.8965\n",
      "Epoch 65/150\n",
      "49/49 [==============================] - 0s 1ms/step - loss: 0.0824 - accuracy: 0.9023\n",
      "Epoch 66/150\n",
      "49/49 [==============================] - 0s 950us/step - loss: 0.1011 - accuracy: 0.8933\n",
      "Epoch 67/150\n",
      "49/49 [==============================] - 0s 1ms/step - loss: 0.0800 - accuracy: 0.9030\n",
      "Epoch 68/150\n",
      "49/49 [==============================] - 0s 1ms/step - loss: 0.0819 - accuracy: 0.9017\n",
      "Epoch 69/150\n",
      "49/49 [==============================] - 0s 1ms/step - loss: 0.0813 - accuracy: 0.9094\n",
      "Epoch 70/150\n",
      "49/49 [==============================] - 0s 2ms/step - loss: 0.0778 - accuracy: 0.9088\n",
      "Epoch 71/150\n",
      "49/49 [==============================] - 0s 1ms/step - loss: 0.0880 - accuracy: 0.8965\n",
      "Epoch 72/150\n",
      "49/49 [==============================] - 0s 825us/step - loss: 0.0794 - accuracy: 0.9062\n",
      "Epoch 73/150\n",
      "49/49 [==============================] - 0s 1ms/step - loss: 0.0918 - accuracy: 0.8952\n",
      "Epoch 74/150\n",
      "49/49 [==============================] - 0s 1ms/step - loss: 0.0849 - accuracy: 0.9036\n",
      "Epoch 75/150\n",
      "49/49 [==============================] - 0s 987us/step - loss: 0.0923 - accuracy: 0.8972\n",
      "Epoch 76/150\n",
      "49/49 [==============================] - 0s 940us/step - loss: 0.0753 - accuracy: 0.9082\n",
      "Epoch 77/150\n",
      "49/49 [==============================] - 0s 1ms/step - loss: 0.0800 - accuracy: 0.9017\n",
      "Epoch 78/150\n",
      "49/49 [==============================] - 0s 972us/step - loss: 0.0739 - accuracy: 0.9140\n",
      "Epoch 79/150\n",
      "49/49 [==============================] - 0s 959us/step - loss: 0.0800 - accuracy: 0.9036\n",
      "Epoch 80/150\n",
      "49/49 [==============================] - 0s 961us/step - loss: 0.0864 - accuracy: 0.8972\n",
      "Epoch 81/150\n",
      "49/49 [==============================] - 0s 995us/step - loss: 0.0878 - accuracy: 0.9036\n",
      "Epoch 82/150\n"
     ]
    },
    {
     "name": "stdout",
     "output_type": "stream",
     "text": [
      "49/49 [==============================] - 0s 1ms/step - loss: 0.0873 - accuracy: 0.9030\n",
      "Epoch 83/150\n",
      "49/49 [==============================] - 0s 942us/step - loss: 0.0872 - accuracy: 0.9075\n",
      "Epoch 84/150\n",
      "49/49 [==============================] - 0s 907us/step - loss: 0.0726 - accuracy: 0.9114\n",
      "Epoch 85/150\n",
      "49/49 [==============================] - 0s 890us/step - loss: 0.0743 - accuracy: 0.9140\n",
      "Epoch 86/150\n",
      "49/49 [==============================] - 0s 891us/step - loss: 0.0742 - accuracy: 0.9133\n",
      "Epoch 87/150\n",
      "49/49 [==============================] - 0s 932us/step - loss: 0.0748 - accuracy: 0.9120\n",
      "Epoch 88/150\n",
      "49/49 [==============================] - 0s 972us/step - loss: 0.0803 - accuracy: 0.9069\n",
      "Epoch 89/150\n",
      "49/49 [==============================] - 0s 970us/step - loss: 0.0793 - accuracy: 0.9062\n",
      "Epoch 90/150\n",
      "49/49 [==============================] - 0s 986us/step - loss: 0.0861 - accuracy: 0.9036\n",
      "Epoch 91/150\n",
      "49/49 [==============================] - 0s 943us/step - loss: 0.0803 - accuracy: 0.9049\n",
      "Epoch 92/150\n",
      "49/49 [==============================] - 0s 1ms/step - loss: 0.0833 - accuracy: 0.9043\n",
      "Epoch 93/150\n",
      "49/49 [==============================] - 0s 960us/step - loss: 0.0858 - accuracy: 0.9023\n",
      "Epoch 94/150\n",
      "49/49 [==============================] - 0s 939us/step - loss: 0.0750 - accuracy: 0.9133\n",
      "Epoch 95/150\n",
      "49/49 [==============================] - 0s 914us/step - loss: 0.0748 - accuracy: 0.9107\n",
      "Epoch 96/150\n",
      "49/49 [==============================] - 0s 915us/step - loss: 0.0769 - accuracy: 0.9114\n",
      "Epoch 97/150\n",
      "49/49 [==============================] - 0s 898us/step - loss: 0.0874 - accuracy: 0.8984\n",
      "Epoch 98/150\n",
      "49/49 [==============================] - 0s 903us/step - loss: 0.0802 - accuracy: 0.9062\n",
      "Epoch 99/150\n",
      "49/49 [==============================] - 0s 910us/step - loss: 0.0801 - accuracy: 0.9036\n",
      "Epoch 100/150\n",
      "49/49 [==============================] - 0s 873us/step - loss: 0.0756 - accuracy: 0.9075\n",
      "Epoch 101/150\n",
      "49/49 [==============================] - 0s 852us/step - loss: 0.0774 - accuracy: 0.9075\n",
      "Epoch 102/150\n",
      "49/49 [==============================] - 0s 846us/step - loss: 0.0842 - accuracy: 0.8946\n",
      "Epoch 103/150\n",
      "49/49 [==============================] - 0s 856us/step - loss: 0.0828 - accuracy: 0.9062\n",
      "Epoch 104/150\n",
      "49/49 [==============================] - 0s 845us/step - loss: 0.0794 - accuracy: 0.9127\n",
      "Epoch 105/150\n",
      "49/49 [==============================] - 0s 885us/step - loss: 0.0847 - accuracy: 0.9023\n",
      "Epoch 106/150\n",
      "49/49 [==============================] - 0s 922us/step - loss: 0.0857 - accuracy: 0.8997\n",
      "Epoch 107/150\n",
      "49/49 [==============================] - 0s 1ms/step - loss: 0.0752 - accuracy: 0.9114\n",
      "Epoch 108/150\n",
      "49/49 [==============================] - 0s 933us/step - loss: 0.0773 - accuracy: 0.9101\n",
      "Epoch 109/150\n",
      "49/49 [==============================] - 0s 937us/step - loss: 0.0767 - accuracy: 0.9088\n",
      "Epoch 110/150\n",
      "49/49 [==============================] - 0s 915us/step - loss: 0.0695 - accuracy: 0.9133\n",
      "Epoch 111/150\n",
      "49/49 [==============================] - 0s 963us/step - loss: 0.0726 - accuracy: 0.9075\n",
      "Epoch 112/150\n",
      "49/49 [==============================] - 0s 930us/step - loss: 0.0809 - accuracy: 0.9023\n",
      "Epoch 113/150\n",
      "49/49 [==============================] - 0s 930us/step - loss: 0.0779 - accuracy: 0.9056\n",
      "Epoch 114/150\n",
      "49/49 [==============================] - 0s 870us/step - loss: 0.0729 - accuracy: 0.9120\n",
      "Epoch 115/150\n",
      "49/49 [==============================] - 0s 866us/step - loss: 0.0792 - accuracy: 0.9101\n",
      "Epoch 116/150\n",
      "49/49 [==============================] - 0s 860us/step - loss: 0.0831 - accuracy: 0.9043\n",
      "Epoch 117/150\n",
      "49/49 [==============================] - 0s 969us/step - loss: 0.0878 - accuracy: 0.8978\n",
      "Epoch 118/150\n",
      "49/49 [==============================] - 0s 876us/step - loss: 0.0774 - accuracy: 0.9082\n",
      "Epoch 119/150\n",
      "49/49 [==============================] - 0s 903us/step - loss: 0.0762 - accuracy: 0.9114\n",
      "Epoch 120/150\n",
      "49/49 [==============================] - 0s 923us/step - loss: 0.0943 - accuracy: 0.8978\n",
      "Epoch 121/150\n",
      "49/49 [==============================] - 0s 883us/step - loss: 0.0716 - accuracy: 0.9120\n",
      "Epoch 122/150\n",
      "49/49 [==============================] - 0s 891us/step - loss: 0.0713 - accuracy: 0.9056\n",
      "Epoch 123/150\n",
      "49/49 [==============================] - 0s 934us/step - loss: 0.0869 - accuracy: 0.9036\n",
      "Epoch 124/150\n",
      "49/49 [==============================] - 0s 946us/step - loss: 0.0746 - accuracy: 0.9127\n",
      "Epoch 125/150\n",
      "49/49 [==============================] - 0s 958us/step - loss: 0.0730 - accuracy: 0.9159\n",
      "Epoch 126/150\n",
      "49/49 [==============================] - 0s 889us/step - loss: 0.0748 - accuracy: 0.9094\n",
      "Epoch 127/150\n",
      "49/49 [==============================] - 0s 927us/step - loss: 0.0729 - accuracy: 0.9082\n",
      "Epoch 128/150\n",
      "49/49 [==============================] - 0s 952us/step - loss: 0.0791 - accuracy: 0.9056\n",
      "Epoch 129/150\n",
      "49/49 [==============================] - 0s 1ms/step - loss: 0.0733 - accuracy: 0.9114\n",
      "Epoch 130/150\n",
      "49/49 [==============================] - 0s 1ms/step - loss: 0.0705 - accuracy: 0.9120\n",
      "Epoch 131/150\n",
      "49/49 [==============================] - 0s 1ms/step - loss: 0.0768 - accuracy: 0.9120\n",
      "Epoch 132/150\n",
      "49/49 [==============================] - 0s 945us/step - loss: 0.0766 - accuracy: 0.9043\n",
      "Epoch 133/150\n",
      "49/49 [==============================] - 0s 952us/step - loss: 0.0694 - accuracy: 0.9133\n",
      "Epoch 134/150\n",
      "49/49 [==============================] - 0s 927us/step - loss: 0.0723 - accuracy: 0.9140\n",
      "Epoch 135/150\n",
      "49/49 [==============================] - 0s 916us/step - loss: 0.0702 - accuracy: 0.9127\n",
      "Epoch 136/150\n",
      "49/49 [==============================] - 0s 915us/step - loss: 0.0756 - accuracy: 0.9075\n",
      "Epoch 137/150\n",
      "49/49 [==============================] - 0s 941us/step - loss: 0.0753 - accuracy: 0.9094\n",
      "Epoch 138/150\n",
      "49/49 [==============================] - 0s 905us/step - loss: 0.0998 - accuracy: 0.8933\n",
      "Epoch 139/150\n",
      "49/49 [==============================] - 0s 942us/step - loss: 0.0838 - accuracy: 0.9010\n",
      "Epoch 140/150\n",
      "49/49 [==============================] - 0s 952us/step - loss: 0.0944 - accuracy: 0.8881\n",
      "Epoch 141/150\n",
      "49/49 [==============================] - 0s 951us/step - loss: 0.0728 - accuracy: 0.9082\n",
      "Epoch 142/150\n",
      "49/49 [==============================] - 0s 896us/step - loss: 0.0791 - accuracy: 0.9043\n",
      "Epoch 143/150\n",
      "49/49 [==============================] - 0s 949us/step - loss: 0.0736 - accuracy: 0.9069\n",
      "Epoch 144/150\n",
      "49/49 [==============================] - 0s 978us/step - loss: 0.0735 - accuracy: 0.9088\n",
      "Epoch 145/150\n",
      "49/49 [==============================] - 0s 911us/step - loss: 0.0701 - accuracy: 0.9153\n",
      "Epoch 146/150\n",
      "49/49 [==============================] - 0s 900us/step - loss: 0.0716 - accuracy: 0.9120\n",
      "Epoch 147/150\n",
      "49/49 [==============================] - 0s 970us/step - loss: 0.0848 - accuracy: 0.9004\n",
      "Epoch 148/150\n",
      "49/49 [==============================] - 0s 907us/step - loss: 0.0759 - accuracy: 0.9204\n",
      "Epoch 149/150\n",
      "49/49 [==============================] - 0s 971us/step - loss: 0.0720 - accuracy: 0.9107\n",
      "Epoch 150/150\n",
      "49/49 [==============================] - 0s 912us/step - loss: 0.0787 - accuracy: 0.9114\n",
      "{'activation1': 'relu', 'activation2': 'softmax', 'activation_out': 'linear', 'loss': 'mean_squared_error', 'n_neurons1': 20, 'n_neurons2': 20, 'optimizer': 'adam'}\n",
      "Time taken for fit: 39.565367460250854 sec\n",
      "\n"
     ]
    }
   ],
   "source": [
    "start = time.time()\n",
    "best_model = nn_grid.fit(train_set, train_label)\n",
    "print(nn_grid.best_params_)\n",
    "train_pred_nn = nn_grid.predict(train_set)\n",
    "test_pred_nn = nn_grid.predict(test_set)\n",
    "print('Time taken for fit: {} sec\\n'.format(time.time() - start))"
   ]
  },
  {
   "cell_type": "markdown",
   "id": "disabled-settlement",
   "metadata": {},
   "source": [
    "### Evaluation"
   ]
  },
  {
   "cell_type": "code",
   "execution_count": 42,
   "id": "e8709f91",
   "metadata": {},
   "outputs": [
    {
     "name": "stdout",
     "output_type": "stream",
     "text": [
      "Epoch 1/120\n",
      "2/2 [==============================] - 1s 500ms/step - loss: 0.9788 - accuracy: 0.6688 - val_loss: 0.6292 - val_accuracy: 0.7205\n",
      "Epoch 2/120\n",
      "2/2 [==============================] - 0s 161ms/step - loss: 0.5814 - accuracy: 0.6785 - val_loss: 0.4274 - val_accuracy: 0.6769\n",
      "Epoch 3/120\n",
      "2/2 [==============================] - 0s 22ms/step - loss: 0.4814 - accuracy: 0.6127 - val_loss: 0.3888 - val_accuracy: 0.6010\n",
      "Epoch 4/120\n",
      "2/2 [==============================] - 0s 26ms/step - loss: 0.3100 - accuracy: 0.6872 - val_loss: 0.2084 - val_accuracy: 0.7302\n",
      "Epoch 5/120\n",
      "2/2 [==============================] - 0s 23ms/step - loss: 0.2861 - accuracy: 0.7184 - val_loss: 0.2678 - val_accuracy: 0.7738\n",
      "Epoch 6/120\n",
      "2/2 [==============================] - 0s 25ms/step - loss: 0.2679 - accuracy: 0.7195 - val_loss: 0.1807 - val_accuracy: 0.7803\n",
      "Epoch 7/120\n",
      "2/2 [==============================] - 0s 25ms/step - loss: 0.1914 - accuracy: 0.7799 - val_loss: 0.2815 - val_accuracy: 0.7674\n",
      "Epoch 8/120\n",
      "2/2 [==============================] - 0s 24ms/step - loss: 0.2473 - accuracy: 0.7799 - val_loss: 0.2041 - val_accuracy: 0.7948\n",
      "Epoch 9/120\n",
      "2/2 [==============================] - 0s 25ms/step - loss: 0.1783 - accuracy: 0.8004 - val_loss: 0.1943 - val_accuracy: 0.7512\n",
      "Epoch 10/120\n",
      "2/2 [==============================] - 0s 26ms/step - loss: 0.2063 - accuracy: 0.7594 - val_loss: 0.1942 - val_accuracy: 0.7496\n",
      "Epoch 11/120\n",
      "2/2 [==============================] - 0s 24ms/step - loss: 0.1817 - accuracy: 0.7616 - val_loss: 0.1779 - val_accuracy: 0.7706\n",
      "Epoch 12/120\n",
      "2/2 [==============================] - 0s 24ms/step - loss: 0.1718 - accuracy: 0.8037 - val_loss: 0.2126 - val_accuracy: 0.7932\n",
      "Epoch 13/120\n",
      "2/2 [==============================] - 0s 23ms/step - loss: 0.1794 - accuracy: 0.8080 - val_loss: 0.1634 - val_accuracy: 0.7690\n",
      "Epoch 14/120\n",
      "2/2 [==============================] - 0s 24ms/step - loss: 0.1498 - accuracy: 0.8015 - val_loss: 0.1670 - val_accuracy: 0.7609\n",
      "Epoch 15/120\n",
      "2/2 [==============================] - 0s 23ms/step - loss: 0.1647 - accuracy: 0.7789 - val_loss: 0.1598 - val_accuracy: 0.7625\n",
      "Epoch 16/120\n",
      "2/2 [==============================] - 0s 23ms/step - loss: 0.1488 - accuracy: 0.8069 - val_loss: 0.1655 - val_accuracy: 0.7900\n",
      "Epoch 17/120\n",
      "2/2 [==============================] - 0s 23ms/step - loss: 0.1532 - accuracy: 0.7983 - val_loss: 0.1657 - val_accuracy: 0.7948\n",
      "Epoch 18/120\n",
      "2/2 [==============================] - 0s 23ms/step - loss: 0.1469 - accuracy: 0.8080 - val_loss: 0.1462 - val_accuracy: 0.7641\n",
      "Epoch 19/120\n",
      "2/2 [==============================] - 0s 25ms/step - loss: 0.1419 - accuracy: 0.7886 - val_loss: 0.1467 - val_accuracy: 0.7658\n",
      "Epoch 20/120\n",
      "2/2 [==============================] - 0s 25ms/step - loss: 0.1424 - accuracy: 0.7853 - val_loss: 0.1418 - val_accuracy: 0.7658\n",
      "Epoch 21/120\n",
      "2/2 [==============================] - 0s 25ms/step - loss: 0.1353 - accuracy: 0.8274 - val_loss: 0.1489 - val_accuracy: 0.8045\n",
      "Epoch 22/120\n",
      "2/2 [==============================] - 0s 24ms/step - loss: 0.1365 - accuracy: 0.8220 - val_loss: 0.1392 - val_accuracy: 0.7997\n",
      "Epoch 23/120\n",
      "2/2 [==============================] - 0s 23ms/step - loss: 0.1303 - accuracy: 0.8296 - val_loss: 0.1374 - val_accuracy: 0.7754\n",
      "Epoch 24/120\n",
      "2/2 [==============================] - 0s 26ms/step - loss: 0.1319 - accuracy: 0.8177 - val_loss: 0.1338 - val_accuracy: 0.7948\n",
      "Epoch 25/120\n",
      "2/2 [==============================] - 0s 23ms/step - loss: 0.1272 - accuracy: 0.8328 - val_loss: 0.1371 - val_accuracy: 0.8174\n",
      "Epoch 26/120\n",
      "2/2 [==============================] - 0s 23ms/step - loss: 0.1275 - accuracy: 0.8393 - val_loss: 0.1319 - val_accuracy: 0.8158\n",
      "Epoch 27/120\n",
      "2/2 [==============================] - 0s 25ms/step - loss: 0.1255 - accuracy: 0.8285 - val_loss: 0.1274 - val_accuracy: 0.7964\n",
      "Epoch 28/120\n",
      "2/2 [==============================] - 0s 25ms/step - loss: 0.1240 - accuracy: 0.8263 - val_loss: 0.1256 - val_accuracy: 0.8142\n",
      "Epoch 29/120\n",
      "2/2 [==============================] - 0s 24ms/step - loss: 0.1201 - accuracy: 0.8393 - val_loss: 0.1274 - val_accuracy: 0.8271\n",
      "Epoch 30/120\n",
      "2/2 [==============================] - 0s 24ms/step - loss: 0.1207 - accuracy: 0.8436 - val_loss: 0.1241 - val_accuracy: 0.8239\n",
      "Epoch 31/120\n",
      "2/2 [==============================] - 0s 25ms/step - loss: 0.1178 - accuracy: 0.8457 - val_loss: 0.1205 - val_accuracy: 0.8304\n",
      "Epoch 32/120\n",
      "2/2 [==============================] - 0s 22ms/step - loss: 0.1174 - accuracy: 0.8425 - val_loss: 0.1184 - val_accuracy: 0.8288\n",
      "Epoch 33/120\n",
      "2/2 [==============================] - 0s 23ms/step - loss: 0.1148 - accuracy: 0.8501 - val_loss: 0.1192 - val_accuracy: 0.8336\n",
      "Epoch 34/120\n",
      "2/2 [==============================] - 0s 21ms/step - loss: 0.1147 - accuracy: 0.8490 - val_loss: 0.1158 - val_accuracy: 0.8401\n",
      "Epoch 35/120\n",
      "2/2 [==============================] - 0s 26ms/step - loss: 0.1127 - accuracy: 0.8479 - val_loss: 0.1135 - val_accuracy: 0.8368\n",
      "Epoch 36/120\n",
      "2/2 [==============================] - 0s 24ms/step - loss: 0.1122 - accuracy: 0.8522 - val_loss: 0.1131 - val_accuracy: 0.8433\n",
      "Epoch 37/120\n",
      "2/2 [==============================] - 0s 20ms/step - loss: 0.1103 - accuracy: 0.8490 - val_loss: 0.1150 - val_accuracy: 0.8368\n",
      "Epoch 38/120\n",
      "2/2 [==============================] - 0s 24ms/step - loss: 0.1097 - accuracy: 0.8490 - val_loss: 0.1117 - val_accuracy: 0.8417\n",
      "Epoch 39/120\n",
      "2/2 [==============================] - 0s 23ms/step - loss: 0.1079 - accuracy: 0.8533 - val_loss: 0.1107 - val_accuracy: 0.8417\n",
      "Epoch 40/120\n",
      "2/2 [==============================] - 0s 24ms/step - loss: 0.1075 - accuracy: 0.8544 - val_loss: 0.1105 - val_accuracy: 0.8498\n",
      "Epoch 41/120\n",
      "2/2 [==============================] - 0s 24ms/step - loss: 0.1057 - accuracy: 0.8544 - val_loss: 0.1098 - val_accuracy: 0.8530\n",
      "Epoch 42/120\n",
      "2/2 [==============================] - 0s 23ms/step - loss: 0.1046 - accuracy: 0.8598 - val_loss: 0.1080 - val_accuracy: 0.8481\n",
      "Epoch 43/120\n",
      "2/2 [==============================] - 0s 24ms/step - loss: 0.1036 - accuracy: 0.8598 - val_loss: 0.1076 - val_accuracy: 0.8498\n",
      "Epoch 44/120\n",
      "2/2 [==============================] - 0s 24ms/step - loss: 0.1023 - accuracy: 0.8619 - val_loss: 0.1070 - val_accuracy: 0.8514\n",
      "Epoch 45/120\n",
      "2/2 [==============================] - 0s 24ms/step - loss: 0.1013 - accuracy: 0.8619 - val_loss: 0.1063 - val_accuracy: 0.8530\n",
      "Epoch 46/120\n",
      "2/2 [==============================] - 0s 29ms/step - loss: 0.1011 - accuracy: 0.8652 - val_loss: 0.1055 - val_accuracy: 0.8546\n",
      "Epoch 47/120\n",
      "2/2 [==============================] - 0s 23ms/step - loss: 0.0995 - accuracy: 0.8641 - val_loss: 0.1059 - val_accuracy: 0.8611\n",
      "Epoch 48/120\n",
      "2/2 [==============================] - 0s 24ms/step - loss: 0.0993 - accuracy: 0.8695 - val_loss: 0.1043 - val_accuracy: 0.8611\n",
      "Epoch 49/120\n",
      "2/2 [==============================] - 0s 28ms/step - loss: 0.0983 - accuracy: 0.8673 - val_loss: 0.1038 - val_accuracy: 0.8611\n",
      "Epoch 50/120\n",
      "2/2 [==============================] - 0s 21ms/step - loss: 0.0977 - accuracy: 0.8716 - val_loss: 0.1034 - val_accuracy: 0.8611\n",
      "Epoch 51/120\n",
      "2/2 [==============================] - 0s 27ms/step - loss: 0.0974 - accuracy: 0.8716 - val_loss: 0.1031 - val_accuracy: 0.8611\n",
      "Epoch 52/120\n",
      "2/2 [==============================] - 0s 25ms/step - loss: 0.0966 - accuracy: 0.8738 - val_loss: 0.1026 - val_accuracy: 0.8627\n",
      "Epoch 53/120\n",
      "2/2 [==============================] - 0s 23ms/step - loss: 0.0970 - accuracy: 0.8716 - val_loss: 0.1028 - val_accuracy: 0.8595\n",
      "Epoch 54/120\n",
      "2/2 [==============================] - 0s 23ms/step - loss: 0.0965 - accuracy: 0.8749 - val_loss: 0.1021 - val_accuracy: 0.8627\n",
      "Epoch 55/120\n",
      "2/2 [==============================] - 0s 25ms/step - loss: 0.0951 - accuracy: 0.8781 - val_loss: 0.1035 - val_accuracy: 0.8595\n",
      "Epoch 56/120\n",
      "2/2 [==============================] - 0s 22ms/step - loss: 0.0955 - accuracy: 0.8738 - val_loss: 0.1019 - val_accuracy: 0.8562\n",
      "Epoch 57/120\n",
      "2/2 [==============================] - 0s 22ms/step - loss: 0.0952 - accuracy: 0.8781 - val_loss: 0.1016 - val_accuracy: 0.8627\n",
      "Epoch 58/120\n",
      "2/2 [==============================] - 0s 25ms/step - loss: 0.0951 - accuracy: 0.8781 - val_loss: 0.1031 - val_accuracy: 0.8562\n",
      "Epoch 59/120\n"
     ]
    },
    {
     "name": "stdout",
     "output_type": "stream",
     "text": [
      "2/2 [==============================] - 0s 22ms/step - loss: 0.0947 - accuracy: 0.8792 - val_loss: 0.1008 - val_accuracy: 0.8643\n",
      "Epoch 60/120\n",
      "2/2 [==============================] - 0s 22ms/step - loss: 0.0935 - accuracy: 0.8824 - val_loss: 0.1010 - val_accuracy: 0.8627\n",
      "Epoch 61/120\n",
      "2/2 [==============================] - 0s 22ms/step - loss: 0.0930 - accuracy: 0.8824 - val_loss: 0.1006 - val_accuracy: 0.8627\n",
      "Epoch 62/120\n",
      "2/2 [==============================] - 0s 21ms/step - loss: 0.0931 - accuracy: 0.8824 - val_loss: 0.1000 - val_accuracy: 0.8627\n",
      "Epoch 63/120\n",
      "2/2 [==============================] - 0s 24ms/step - loss: 0.0935 - accuracy: 0.8803 - val_loss: 0.1005 - val_accuracy: 0.8578\n",
      "Epoch 64/120\n",
      "2/2 [==============================] - 0s 22ms/step - loss: 0.0918 - accuracy: 0.8813 - val_loss: 0.0996 - val_accuracy: 0.8691\n",
      "Epoch 65/120\n",
      "2/2 [==============================] - 0s 22ms/step - loss: 0.0924 - accuracy: 0.8846 - val_loss: 0.0990 - val_accuracy: 0.8675\n",
      "Epoch 66/120\n",
      "2/2 [==============================] - 0s 22ms/step - loss: 0.0914 - accuracy: 0.8867 - val_loss: 0.0993 - val_accuracy: 0.8595\n",
      "Epoch 67/120\n",
      "2/2 [==============================] - 0s 22ms/step - loss: 0.0914 - accuracy: 0.8878 - val_loss: 0.0979 - val_accuracy: 0.8675\n",
      "Epoch 68/120\n",
      "2/2 [==============================] - 0s 21ms/step - loss: 0.0909 - accuracy: 0.8846 - val_loss: 0.0982 - val_accuracy: 0.8611\n",
      "Epoch 69/120\n",
      "2/2 [==============================] - 0s 24ms/step - loss: 0.0914 - accuracy: 0.8846 - val_loss: 0.0975 - val_accuracy: 0.8643\n",
      "Epoch 70/120\n",
      "2/2 [==============================] - 0s 22ms/step - loss: 0.0905 - accuracy: 0.8857 - val_loss: 0.0969 - val_accuracy: 0.8724\n",
      "Epoch 71/120\n",
      "2/2 [==============================] - 0s 22ms/step - loss: 0.0903 - accuracy: 0.8878 - val_loss: 0.0980 - val_accuracy: 0.8627\n",
      "Epoch 72/120\n",
      "2/2 [==============================] - 0s 23ms/step - loss: 0.0901 - accuracy: 0.8900 - val_loss: 0.0961 - val_accuracy: 0.8708\n",
      "Epoch 73/120\n",
      "2/2 [==============================] - 0s 23ms/step - loss: 0.0895 - accuracy: 0.8857 - val_loss: 0.0961 - val_accuracy: 0.8675\n",
      "Epoch 74/120\n",
      "2/2 [==============================] - 0s 23ms/step - loss: 0.0896 - accuracy: 0.8878 - val_loss: 0.0964 - val_accuracy: 0.8643\n",
      "Epoch 75/120\n",
      "2/2 [==============================] - 0s 27ms/step - loss: 0.0888 - accuracy: 0.8910 - val_loss: 0.0955 - val_accuracy: 0.8724\n",
      "Epoch 76/120\n",
      "2/2 [==============================] - 0s 27ms/step - loss: 0.0901 - accuracy: 0.8813 - val_loss: 0.0964 - val_accuracy: 0.8691\n",
      "Epoch 77/120\n",
      "2/2 [==============================] - 0s 21ms/step - loss: 0.0926 - accuracy: 0.8921 - val_loss: 0.0956 - val_accuracy: 0.8659\n",
      "Epoch 78/120\n",
      "2/2 [==============================] - 0s 23ms/step - loss: 0.0896 - accuracy: 0.8910 - val_loss: 0.0968 - val_accuracy: 0.8740\n",
      "Epoch 79/120\n",
      "2/2 [==============================] - 0s 21ms/step - loss: 0.0904 - accuracy: 0.8878 - val_loss: 0.0994 - val_accuracy: 0.8578\n",
      "Epoch 80/120\n",
      "2/2 [==============================] - 0s 21ms/step - loss: 0.0895 - accuracy: 0.8900 - val_loss: 0.0950 - val_accuracy: 0.8756\n",
      "Epoch 81/120\n",
      "2/2 [==============================] - 0s 21ms/step - loss: 0.0900 - accuracy: 0.8867 - val_loss: 0.0947 - val_accuracy: 0.8691\n",
      "Epoch 82/120\n",
      "2/2 [==============================] - 0s 23ms/step - loss: 0.0886 - accuracy: 0.8878 - val_loss: 0.0972 - val_accuracy: 0.8611\n",
      "Epoch 83/120\n",
      "2/2 [==============================] - 0s 22ms/step - loss: 0.0879 - accuracy: 0.8921 - val_loss: 0.0956 - val_accuracy: 0.8821\n",
      "Epoch 84/120\n",
      "2/2 [==============================] - 0s 22ms/step - loss: 0.0887 - accuracy: 0.8889 - val_loss: 0.0960 - val_accuracy: 0.8611\n",
      "Epoch 85/120\n",
      "2/2 [==============================] - 0s 21ms/step - loss: 0.0889 - accuracy: 0.8910 - val_loss: 0.0939 - val_accuracy: 0.8659\n",
      "Epoch 86/120\n",
      "2/2 [==============================] - 0s 23ms/step - loss: 0.0889 - accuracy: 0.8986 - val_loss: 0.0935 - val_accuracy: 0.8869\n",
      "Epoch 87/120\n",
      "2/2 [==============================] - 0s 23ms/step - loss: 0.0863 - accuracy: 0.8943 - val_loss: 0.0980 - val_accuracy: 0.8627\n",
      "Epoch 88/120\n",
      "2/2 [==============================] - 0s 22ms/step - loss: 0.0887 - accuracy: 0.8910 - val_loss: 0.0929 - val_accuracy: 0.8853\n",
      "Epoch 89/120\n",
      "2/2 [==============================] - 0s 21ms/step - loss: 0.0895 - accuracy: 0.8910 - val_loss: 0.0920 - val_accuracy: 0.8675\n",
      "Epoch 90/120\n",
      "2/2 [==============================] - 0s 22ms/step - loss: 0.0875 - accuracy: 0.8910 - val_loss: 0.0959 - val_accuracy: 0.8643\n",
      "Epoch 91/120\n",
      "2/2 [==============================] - 0s 22ms/step - loss: 0.0866 - accuracy: 0.8921 - val_loss: 0.0943 - val_accuracy: 0.8853\n",
      "Epoch 92/120\n",
      "2/2 [==============================] - 0s 22ms/step - loss: 0.0880 - accuracy: 0.8943 - val_loss: 0.0949 - val_accuracy: 0.8691\n",
      "Epoch 93/120\n",
      "2/2 [==============================] - 0s 22ms/step - loss: 0.0893 - accuracy: 0.8921 - val_loss: 0.0914 - val_accuracy: 0.8724\n",
      "Epoch 94/120\n",
      "2/2 [==============================] - 0s 23ms/step - loss: 0.0848 - accuracy: 0.9008 - val_loss: 0.0932 - val_accuracy: 0.8869\n",
      "Epoch 95/120\n",
      "2/2 [==============================] - 0s 24ms/step - loss: 0.0862 - accuracy: 0.8954 - val_loss: 0.0964 - val_accuracy: 0.8627\n",
      "Epoch 96/120\n",
      "2/2 [==============================] - 0s 23ms/step - loss: 0.0872 - accuracy: 0.8943 - val_loss: 0.0908 - val_accuracy: 0.8821\n",
      "Epoch 97/120\n",
      "2/2 [==============================] - 0s 22ms/step - loss: 0.0862 - accuracy: 0.8975 - val_loss: 0.0902 - val_accuracy: 0.8724\n",
      "Epoch 98/120\n",
      "2/2 [==============================] - 0s 21ms/step - loss: 0.0848 - accuracy: 0.8975 - val_loss: 0.0930 - val_accuracy: 0.8724\n",
      "Epoch 99/120\n",
      "2/2 [==============================] - 0s 24ms/step - loss: 0.0849 - accuracy: 0.8932 - val_loss: 0.0908 - val_accuracy: 0.8885\n",
      "Epoch 100/120\n",
      "2/2 [==============================] - 0s 22ms/step - loss: 0.0844 - accuracy: 0.8986 - val_loss: 0.0923 - val_accuracy: 0.8724\n",
      "Epoch 101/120\n",
      "2/2 [==============================] - 0s 23ms/step - loss: 0.0844 - accuracy: 0.8932 - val_loss: 0.0896 - val_accuracy: 0.8740\n",
      "Epoch 102/120\n",
      "2/2 [==============================] - 0s 27ms/step - loss: 0.0837 - accuracy: 0.8997 - val_loss: 0.0894 - val_accuracy: 0.8756\n",
      "Epoch 103/120\n",
      "2/2 [==============================] - 0s 23ms/step - loss: 0.0853 - accuracy: 0.8975 - val_loss: 0.0896 - val_accuracy: 0.8756\n",
      "Epoch 104/120\n",
      "2/2 [==============================] - 0s 21ms/step - loss: 0.0842 - accuracy: 0.8954 - val_loss: 0.0888 - val_accuracy: 0.8821\n",
      "Epoch 105/120\n",
      "2/2 [==============================] - 0s 27ms/step - loss: 0.0840 - accuracy: 0.8975 - val_loss: 0.0907 - val_accuracy: 0.8740\n",
      "Epoch 106/120\n",
      "2/2 [==============================] - 0s 22ms/step - loss: 0.0828 - accuracy: 0.8975 - val_loss: 0.0895 - val_accuracy: 0.8918\n",
      "Epoch 107/120\n",
      "2/2 [==============================] - 0s 21ms/step - loss: 0.0834 - accuracy: 0.8954 - val_loss: 0.0899 - val_accuracy: 0.8740\n",
      "Epoch 108/120\n",
      "2/2 [==============================] - 0s 23ms/step - loss: 0.0824 - accuracy: 0.8997 - val_loss: 0.0882 - val_accuracy: 0.8821\n",
      "Epoch 109/120\n",
      "2/2 [==============================] - 0s 21ms/step - loss: 0.0820 - accuracy: 0.8975 - val_loss: 0.0882 - val_accuracy: 0.8772\n",
      "Epoch 110/120\n",
      "2/2 [==============================] - 0s 26ms/step - loss: 0.0817 - accuracy: 0.9029 - val_loss: 0.0886 - val_accuracy: 0.8788\n",
      "Epoch 111/120\n",
      "2/2 [==============================] - 0s 29ms/step - loss: 0.0817 - accuracy: 0.8986 - val_loss: 0.0881 - val_accuracy: 0.8821\n",
      "Epoch 112/120\n",
      "2/2 [==============================] - 0s 22ms/step - loss: 0.0819 - accuracy: 0.9008 - val_loss: 0.0878 - val_accuracy: 0.8805\n",
      "Epoch 113/120\n",
      "2/2 [==============================] - 0s 23ms/step - loss: 0.0812 - accuracy: 0.9040 - val_loss: 0.0882 - val_accuracy: 0.8772\n",
      "Epoch 114/120\n",
      "2/2 [==============================] - 0s 23ms/step - loss: 0.0815 - accuracy: 0.8997 - val_loss: 0.0876 - val_accuracy: 0.8837\n",
      "Epoch 115/120\n",
      "2/2 [==============================] - 0s 21ms/step - loss: 0.0820 - accuracy: 0.8997 - val_loss: 0.0878 - val_accuracy: 0.8772\n",
      "Epoch 116/120\n",
      "2/2 [==============================] - 0s 23ms/step - loss: 0.0829 - accuracy: 0.9040 - val_loss: 0.0875 - val_accuracy: 0.8821\n",
      "Epoch 117/120\n"
     ]
    },
    {
     "name": "stdout",
     "output_type": "stream",
     "text": [
      "2/2 [==============================] - 0s 24ms/step - loss: 0.0809 - accuracy: 0.9029 - val_loss: 0.0876 - val_accuracy: 0.8885\n",
      "Epoch 118/120\n",
      "2/2 [==============================] - 0s 25ms/step - loss: 0.0809 - accuracy: 0.9018 - val_loss: 0.0902 - val_accuracy: 0.8740\n",
      "Epoch 119/120\n",
      "2/2 [==============================] - 0s 22ms/step - loss: 0.0817 - accuracy: 0.9029 - val_loss: 0.0871 - val_accuracy: 0.8885\n",
      "Epoch 120/120\n",
      "2/2 [==============================] - 0s 22ms/step - loss: 0.0811 - accuracy: 0.8997 - val_loss: 0.0871 - val_accuracy: 0.8788\n"
     ]
    }
   ],
   "source": [
    "test=best_model.best_estimator_\n",
    "history=test.fit(train_set, train_label,\n",
    "                    epochs=120,\n",
    "                    batch_size=500,\n",
    "                    validation_split=0.4)"
   ]
  },
  {
   "cell_type": "code",
   "execution_count": 43,
   "id": "69879f91",
   "metadata": {},
   "outputs": [
    {
     "name": "stderr",
     "output_type": "stream",
     "text": [
      "<ipython-input-43-6ee03a03cdca>:4: UserWarning: color is redundantly defined by the 'color' keyword argument and the fmt string \"b\" (-> color=(0.0, 0.0, 1.0, 1)). The keyword argument will take precedence.\n",
      "  plt.plot(epochs, acc, 'b', label='Training Accuracy', c='r')\n",
      "<ipython-input-43-6ee03a03cdca>:5: UserWarning: color is redundantly defined by the 'color' keyword argument and the fmt string \"b\" (-> color=(0.0, 0.0, 1.0, 1)). The keyword argument will take precedence.\n",
      "  plt.plot(epochs, val_acc, 'b', label='Validation Accuracy', c='b')\n"
     ]
    },
    {
     "data": {
      "image/png": "[encoded data removed]",
      "text/plain": [
       "<Figure size 432x288 with 1 Axes>"
      ]
     },
     "metadata": {
      "needs_background": "light"
     },
     "output_type": "display_data"
    }
   ],
   "source": [
    "acc = history.history['accuracy']\n",
    "val_acc = history.history['val_accuracy']\n",
    "epochs = range(1, len(acc) + 1)\n",
    "plt.plot(epochs, acc, 'b', label='Training Accuracy', c='r')\n",
    "plt.plot(epochs, val_acc, 'b', label='Validation Accuracy', c='b')\n",
    "plt.title('Training and validation Acc')\n",
    "plt.xlabel('Epochs')\n",
    "plt.ylabel('Accuracy')\n",
    "plt.legend()\n",
    "plt.show()"
   ]
  },
  {
   "cell_type": "code",
   "execution_count": 44,
   "id": "343dab13",
   "metadata": {},
   "outputs": [
    {
     "name": "stderr",
     "output_type": "stream",
     "text": [
      "<ipython-input-44-273a95ade490>:4: UserWarning: color is redundantly defined by the 'color' keyword argument and the fmt string \"b\" (-> color=(0.0, 0.0, 1.0, 1)). The keyword argument will take precedence.\n",
      "  plt.plot(epochs, loss, 'b', label='Training Loss', c='r')\n",
      "<ipython-input-44-273a95ade490>:5: UserWarning: color is redundantly defined by the 'color' keyword argument and the fmt string \"b\" (-> color=(0.0, 0.0, 1.0, 1)). The keyword argument will take precedence.\n",
      "  plt.plot(epochs, val_loss, 'b', label='Validation Loss', c='b')\n"
     ]
    },
    {
     "data": {
      "image/png": "[encoded data removed]",
      "text/plain": [
       "<Figure size 432x288 with 1 Axes>"
      ]
     },
     "metadata": {
      "needs_background": "light"
     },
     "output_type": "display_data"
    }
   ],
   "source": [
    "loss = history.history['loss']\n",
    "val_loss = history.history['val_loss']\n",
    "epochs = range(1, len(acc) + 1)\n",
    "plt.plot(epochs, loss, 'b', label='Training Loss', c='r')\n",
    "plt.plot(epochs, val_loss, 'b', label='Validation Loss', c='b')\n",
    "plt.title('Training and validation Loss')\n",
    "plt.xlabel('Epochs')\n",
    "plt.ylabel('Loss')\n",
    "plt.legend()\n",
    "plt.show()"
   ]
  },
  {
   "cell_type": "code",
   "execution_count": 45,
   "id": "ebb8e29d-ec21-4af7-89dd-3fe38d98097b",
   "metadata": {},
   "outputs": [
    {
     "name": "stdout",
     "output_type": "stream",
     "text": [
      "TRAINING:\n",
      "               precision    recall  f1-score   support\n",
      "\n",
      "  high-level       0.85      0.81      0.83       387\n",
      "   low-level       0.94      0.95      0.94      1159\n",
      "\n",
      "    accuracy                           0.92      1546\n",
      "   macro avg       0.89      0.88      0.89      1546\n",
      "weighted avg       0.91      0.92      0.91      1546\n",
      "\n",
      "TEST:\n",
      "               precision    recall  f1-score   support\n",
      "\n",
      "  high-level       0.86      0.79      0.82       129\n",
      "   low-level       0.93      0.96      0.94       387\n",
      "\n",
      "    accuracy                           0.91       516\n",
      "   macro avg       0.89      0.87      0.88       516\n",
      "weighted avg       0.91      0.91      0.91       516\n",
      "\n"
     ]
    },
    {
     "data": {
      "image/png": "[encoded data removed]",
      "text/plain": [
       "<Figure size 432x288 with 2 Axes>"
      ]
     },
     "metadata": {
      "needs_background": "light"
     },
     "output_type": "display_data"
    },
    {
     "data": {
      "image/png": "[encoded data removed]",
      "text/plain": [
       "<Figure size 432x288 with 1 Axes>"
      ]
     },
     "metadata": {
      "needs_background": "light"
     },
     "output_type": "display_data"
    }
   ],
   "source": [
    "print_all(nn_grid,train_set,train_pred_nn,test_set,test_pred_nn)"
   ]
  },
  {
   "cell_type": "markdown",
   "id": "conservative-sterling",
   "metadata": {},
   "source": [
    "## KNN"
   ]
  },
  {
   "cell_type": "code",
   "execution_count": 46,
   "id": "ecological-lightweight",
   "metadata": {},
   "outputs": [],
   "source": [
    "from sklearn.neighbors import KNeighborsClassifier\n",
    "from sklearn.preprocessing import MinMaxScaler"
   ]
  },
  {
   "cell_type": "code",
   "execution_count": 47,
   "id": "relevant-corpus",
   "metadata": {},
   "outputs": [],
   "source": [
    "train_set_no_cat = train_set.loc[:,~train_set.columns.str.contains('_num', case=False)] \n",
    "test_set_no_cat = test_set.loc[:,~test_set.columns.str.contains('_num', case=False)] \n",
    "\n",
    "k = math.sqrt(len(train_set))\n",
    "k = round(k, 0)\n",
    "k = int(k)\n",
    "k = k - 10\n",
    "k_range = []\n",
    "for i in range(0,20):\n",
    "    k_range.append(k)\n",
    "    k = k + 1"
   ]
  },
  {
   "cell_type": "code",
   "execution_count": 48,
   "id": "million-liechtenstein",
   "metadata": {},
   "outputs": [],
   "source": [
    "knn_param_grid = {\n",
    "    'n_neighbors': k_range,\n",
    "    'metric': ['euclidean', 'manhattan'],\n",
    "    'algorithm': ['ball_tree', 'kd_tree', 'brute'],\n",
    "    'weights': ['uniform', 'distance']\n",
    "            }\n",
    "\n",
    "knn_grid = GridSearchCV(KNeighborsClassifier(), knn_param_grid, cv=8, scoring=make_scorer(f1_score))"
   ]
  },
  {
   "cell_type": "code",
   "execution_count": 49,
   "id": "invisible-means",
   "metadata": {},
   "outputs": [
    {
     "data": {
      "text/plain": [
       "GridSearchCV(cv=8, estimator=KNeighborsClassifier(),\n",
       "             param_grid={'algorithm': ['ball_tree', 'kd_tree', 'brute'],\n",
       "                         'metric': ['euclidean', 'manhattan'],\n",
       "                         'n_neighbors': [29, 30, 31, 32, 33, 34, 35, 36, 37, 38,\n",
       "                                         39, 40, 41, 42, 43, 44, 45, 46, 47,\n",
       "                                         48],\n",
       "                         'weights': ['uniform', 'distance']},\n",
       "             scoring=make_scorer(f1_score))"
      ]
     },
     "execution_count": 49,
     "metadata": {},
     "output_type": "execute_result"
    }
   ],
   "source": [
    "knn_grid.fit(train_set_no_cat, train_label)"
   ]
  },
  {
   "cell_type": "code",
   "execution_count": 50,
   "id": "pending-conservative",
   "metadata": {},
   "outputs": [],
   "source": [
    "train_pred_knn = knn_grid.predict(train_set_no_cat)\n",
    "test_pred_knn = knn_grid.predict(test_set_no_cat)"
   ]
  },
  {
   "cell_type": "markdown",
   "id": "26e5537a-b5c1-47d6-b1ed-1aa04a3d13f0",
   "metadata": {},
   "source": [
    "### Evaluation"
   ]
  },
  {
   "cell_type": "code",
   "execution_count": 51,
   "id": "aefe3d72-a9cc-4795-b8d1-eb4f9513c7d1",
   "metadata": {},
   "outputs": [
    {
     "name": "stdout",
     "output_type": "stream",
     "text": [
      "TRAINING:\n",
      "               precision    recall  f1-score   support\n",
      "\n",
      "  high-level       1.00      1.00      1.00       387\n",
      "   low-level       1.00      1.00      1.00      1159\n",
      "\n",
      "    accuracy                           1.00      1546\n",
      "   macro avg       1.00      1.00      1.00      1546\n",
      "weighted avg       1.00      1.00      1.00      1546\n",
      "\n",
      "TEST:\n",
      "               precision    recall  f1-score   support\n",
      "\n",
      "  high-level       0.84      0.75      0.80       129\n",
      "   low-level       0.92      0.95      0.94       387\n",
      "\n",
      "    accuracy                           0.90       516\n",
      "   macro avg       0.88      0.85      0.87       516\n",
      "weighted avg       0.90      0.90      0.90       516\n",
      "\n"
     ]
    },
    {
     "data": {
      "image/png": "[encoded data removed]",
      "text/plain": [
       "<Figure size 432x288 with 2 Axes>"
      ]
     },
     "metadata": {
      "needs_background": "light"
     },
     "output_type": "display_data"
    }
   ],
   "source": [
    "print_all(knn_grid,train_set_no_cat,train_pred_knn,test_set_no_cat,test_pred_knn,roc=\"None\")"
   ]
  },
  {
   "cell_type": "markdown",
   "id": "d1be62b6",
   "metadata": {},
   "source": [
    "## Radius-Neighbors Classifier "
   ]
  },
  {
   "cell_type": "markdown",
   "id": "11d9f801",
   "metadata": {},
   "source": [
    "### Grid search"
   ]
  },
  {
   "cell_type": "code",
   "execution_count": 52,
   "id": "74aff177",
   "metadata": {},
   "outputs": [],
   "source": [
    "from sklearn.neighbors import RadiusNeighborsClassifier\n",
    "from scipy.stats import uniform\n",
    "#radius = np.arange(1.0, 100000.0, 0.1)\n",
    "radius = uniform(1.0, 10000000.0)\n",
    "radius_param_grid = {\n",
    "    'radius': radius,\n",
    "    'metric': ['euclidean', 'manhattan'],\n",
    "    'algorithm': ['ball_tree', 'kd_tree', 'brute'],\n",
    "    'weights': ['uniform', 'distance']\n",
    "            }"
   ]
  },
  {
   "cell_type": "markdown",
   "id": "0349bc0b",
   "metadata": {},
   "source": [
    "### Training"
   ]
  },
  {
   "cell_type": "code",
   "execution_count": 53,
   "id": "45338327",
   "metadata": {},
   "outputs": [
    {
     "name": "stdout",
     "output_type": "stream",
     "text": [
      "Accuracy: 0.8357092302761605\n",
      "Parameters: {'algorithm': 'brute', 'metric': 'euclidean', 'radius': 3807538.6115241577, 'weights': 'distance'}\n"
     ]
    }
   ],
   "source": [
    "radius_grid = RandomizedSearchCV(RadiusNeighborsClassifier(), radius_param_grid, n_jobs=-1, n_iter = 100, cv=8, scoring='accuracy')\n",
    "\n",
    "radius_grid.fit(train_set_no_cat, train_label)\n",
    "\n",
    "print('Accuracy: ' + str(radius_grid.best_score_))\n",
    "print('Parameters: ' + str(radius_grid.best_params_))"
   ]
  },
  {
   "cell_type": "code",
   "execution_count": 54,
   "id": "31594676",
   "metadata": {},
   "outputs": [],
   "source": [
    "radius = RadiusNeighborsClassifier(**radius_grid.best_params_).fit(train_set_no_cat, train_label)"
   ]
  },
  {
   "cell_type": "code",
   "execution_count": 55,
   "id": "994d8d06-1c8d-457c-ac46-8f1a45803cd1",
   "metadata": {},
   "outputs": [],
   "source": [
    "train_pred_radius = radius.predict(train_set_no_cat)"
   ]
  },
  {
   "cell_type": "code",
   "execution_count": 56,
   "id": "27f6f647-498e-478a-b550-c27c14aa9a4b",
   "metadata": {},
   "outputs": [],
   "source": [
    "test_pred_radius = radius.predict(test_set_no_cat)"
   ]
  },
  {
   "cell_type": "markdown",
   "id": "9f1f22d3",
   "metadata": {},
   "source": [
    "### Evaluation"
   ]
  },
  {
   "cell_type": "code",
   "execution_count": 57,
   "id": "537446aa-dbfa-405d-a15d-e9f2a59dbfc0",
   "metadata": {},
   "outputs": [
    {
     "name": "stdout",
     "output_type": "stream",
     "text": [
      "TRAINING:\n",
      "               precision    recall  f1-score   support\n",
      "\n",
      "  high-level       1.00      1.00      1.00       387\n",
      "   low-level       1.00      1.00      1.00      1159\n",
      "\n",
      "    accuracy                           1.00      1546\n",
      "   macro avg       1.00      1.00      1.00      1546\n",
      "weighted avg       1.00      1.00      1.00      1546\n",
      "\n",
      "TEST:\n",
      "               precision    recall  f1-score   support\n",
      "\n",
      "  high-level       0.84      0.52      0.64       129\n",
      "   low-level       0.86      0.97      0.91       387\n",
      "\n",
      "    accuracy                           0.85       516\n",
      "   macro avg       0.85      0.74      0.78       516\n",
      "weighted avg       0.85      0.85      0.84       516\n",
      "\n"
     ]
    },
    {
     "data": {
      "image/png": "[encoded data removed]",
      "text/plain": [
       "<Figure size 432x288 with 2 Axes>"
      ]
     },
     "metadata": {
      "needs_background": "light"
     },
     "output_type": "display_data"
    }
   ],
   "source": [
    "print_all(radius,train_set_no_cat,train_pred_radius,test_set_no_cat,test_pred_radius,roc=\"None\")"
   ]
  },
  {
   "cell_type": "markdown",
   "id": "sensitive-functionality",
   "metadata": {},
   "source": [
    "## SVM"
   ]
  },
  {
   "cell_type": "code",
   "execution_count": 58,
   "id": "tired-kitty",
   "metadata": {},
   "outputs": [],
   "source": [
    "from sklearn.svm import SVC"
   ]
  },
  {
   "cell_type": "code",
   "execution_count": 59,
   "id": "defined-editor",
   "metadata": {},
   "outputs": [],
   "source": [
    "svm_param_grid = {\n",
    "    'C' : [0.5, 2.0],\n",
    "    'kernel' : ['rbf', 'linear'] \n",
    "    }\n",
    "svm_grid = GridSearchCV(SVC(probability=True), svm_param_grid, n_jobs=-1, cv=8, scoring=make_scorer(f1_score))"
   ]
  },
  {
   "cell_type": "code",
   "execution_count": 60,
   "id": "through-judge",
   "metadata": {},
   "outputs": [
    {
     "data": {
      "text/plain": [
       "GridSearchCV(cv=8, estimator=SVC(probability=True), n_jobs=-1,\n",
       "             param_grid={'C': [0.5, 2.0], 'kernel': ['rbf', 'linear']},\n",
       "             scoring=make_scorer(f1_score))"
      ]
     },
     "execution_count": 60,
     "metadata": {},
     "output_type": "execute_result"
    }
   ],
   "source": [
    "svm_grid.fit(train_set, train_label)"
   ]
  },
  {
   "cell_type": "code",
   "execution_count": 61,
   "id": "terminal-hypothetical",
   "metadata": {},
   "outputs": [],
   "source": [
    "train_pred_svm = svm_grid.predict(train_set)\n",
    "test_pred_svm = svm_grid.predict(test_set)"
   ]
  },
  {
   "cell_type": "markdown",
   "id": "af82e3cd-8c92-46bc-ae15-0d8e1431ca70",
   "metadata": {},
   "source": [
    "### Evaluation"
   ]
  },
  {
   "cell_type": "code",
   "execution_count": 62,
   "id": "54157b74-0166-4055-b32d-5d066203090c",
   "metadata": {},
   "outputs": [
    {
     "name": "stdout",
     "output_type": "stream",
     "text": [
      "TRAINING:\n",
      "               precision    recall  f1-score   support\n",
      "\n",
      "  high-level       0.88      0.87      0.88       387\n",
      "   low-level       0.96      0.96      0.96      1159\n",
      "\n",
      "    accuracy                           0.94      1546\n",
      "   macro avg       0.92      0.91      0.92      1546\n",
      "weighted avg       0.94      0.94      0.94      1546\n",
      "\n",
      "TEST:\n",
      "               precision    recall  f1-score   support\n",
      "\n",
      "  high-level       0.84      0.88      0.86       129\n",
      "   low-level       0.96      0.95      0.95       387\n",
      "\n",
      "    accuracy                           0.93       516\n",
      "   macro avg       0.90      0.91      0.91       516\n",
      "weighted avg       0.93      0.93      0.93       516\n",
      "\n"
     ]
    },
    {
     "data": {
      "image/png": "[encoded data removed]",
      "text/plain": [
       "<Figure size 432x288 with 2 Axes>"
      ]
     },
     "metadata": {
      "needs_background": "light"
     },
     "output_type": "display_data"
    },
    {
     "data": {
      "image/png": "[encoded data removed]",
      "text/plain": [
       "<Figure size 432x288 with 1 Axes>"
      ]
     },
     "metadata": {
      "needs_background": "light"
     },
     "output_type": "display_data"
    }
   ],
   "source": [
    "print_all(svm_grid,train_set,train_pred_svm,test_set,test_pred_svm)"
   ]
  },
  {
   "cell_type": "markdown",
   "id": "coordinated-segment",
   "metadata": {},
   "source": [
    "## Rule Based Classifier"
   ]
  },
  {
   "cell_type": "code",
   "execution_count": 63,
   "id": "warming-spoke",
   "metadata": {},
   "outputs": [],
   "source": [
    "import wittgenstein as lw\n",
    "param_grid = {\n",
    "    \"prune_size\": [0.1, 0.2, 0.5, 0.6], \n",
    "    \"k\": [1, 3, 7, 10]\n",
    "}\n",
    "rb_grid = GridSearchCV(lw.RIPPER(), param_grid=param_grid, n_jobs=10)"
   ]
  },
  {
   "cell_type": "code",
   "execution_count": 64,
   "id": "dramatic-throat",
   "metadata": {},
   "outputs": [
    {
     "data": {
      "text/plain": [
       "GridSearchCV(estimator=<RIPPER(max_rules=None, random_state=None, k=2, prune_size=0.33, verbosity=0, max_rule_conds=None, dl_allowance=64, n_discretize_bins=10, max_total_conds=None)>,\n",
       "             n_jobs=10,\n",
       "             param_grid={'k': [1, 3, 7, 10],\n",
       "                         'prune_size': [0.1, 0.2, 0.5, 0.6]})"
      ]
     },
     "execution_count": 64,
     "metadata": {},
     "output_type": "execute_result"
    }
   ],
   "source": [
    "rb_grid.fit(train_set, train_label)"
   ]
  },
  {
   "cell_type": "code",
   "execution_count": 65,
   "id": "expressed-turner",
   "metadata": {},
   "outputs": [
    {
     "name": "stdout",
     "output_type": "stream",
     "text": [
      "[[hand_num=2] V\n",
      "[ratio_2020-2021=<0.22 ^ bpFaced=121.0-194.0] V\n",
      "[ratio_2020-2021=<0.22 ^ bpFaced=<121.0] V\n",
      "[ratio_2020-2021=<0.22 ^ bpFaced=194.0-305.0] V\n",
      "[minutes=61.86-66.12] V\n",
      "[bpFaced=305.0-450.0 ^ gender_num=0] V\n",
      "[minutes=60.51-61.86] V\n",
      "[bpFaced=305.0-450.0 ^ serv_won_tot_seve=0.59-0.61] V\n",
      "[num_matches_2016-2019=<14.0] V\n",
      "[bpFaced=686.0-957.0 ^ ratio_2016-2019=0.43-0.47] V\n",
      "[bpFaced=957.0-1316.0 ^ ratio_2020-2021=0.22-0.38] V\n",
      "[bpFaced=305.0-450.0 ^ perc_v_df=7.35-7.83] V\n",
      "[minutes=<60.51] V\n",
      "[num_matches_2016-2019=85.0-118.0 ^ gender_num=1 ^ serv_won_tot_seve=0.59-0.61] V\n",
      "[bpFaced=305.0-450.0] V\n",
      "[ratio=0.4-0.44] V\n",
      "[minutes=66.12-76.39 ^ birth=>2000.0] V\n",
      "[gender_num=1 ^ num_matches_2016-2019=85.0-118.0] V\n",
      "[minutes=66.12-76.39 ^ num_matches_2016-2019=56.0-85.0] V\n",
      "[num_matches_2020-2021=1.0-4.0 ^ serv_won_tot_seve=0.59-0.61] V\n",
      "[perc_v_df=6.97-7.35 ^ ratio_2016-2019=0.5-0.52] V\n",
      "[num_matches_2016-2019=14.0-23.0] V\n",
      "[num_matches_2016-2019=23.0-37.5] V\n",
      "[ratio_2016-2019=0.47-0.5 ^ ratio_2020-2021=0.5-0.56]]\n"
     ]
    }
   ],
   "source": [
    "rb = rb_grid.best_estimator_\n",
    "rb.out_model()"
   ]
  },
  {
   "cell_type": "code",
   "execution_count": 66,
   "id": "oriented-dylan",
   "metadata": {},
   "outputs": [],
   "source": [
    "train_pred_rb = rb_grid.predict(train_set)\n",
    "test_pred_rb = rb_grid.predict(test_set)"
   ]
  },
  {
   "cell_type": "markdown",
   "id": "8c958138-b591-44e7-a92f-0eb648a73a56",
   "metadata": {},
   "source": [
    "### Evaluation"
   ]
  },
  {
   "cell_type": "code",
   "execution_count": 67,
   "id": "e2520b22-9955-44d2-8992-e46eafb2b97c",
   "metadata": {},
   "outputs": [
    {
     "name": "stdout",
     "output_type": "stream",
     "text": [
      "TRAINING:\n",
      "               precision    recall  f1-score   support\n",
      "\n",
      "  high-level       0.78      0.90      0.84       387\n",
      "   low-level       0.97      0.92      0.94      1159\n",
      "\n",
      "    accuracy                           0.91      1546\n",
      "   macro avg       0.88      0.91      0.89      1546\n",
      "weighted avg       0.92      0.91      0.92      1546\n",
      "\n",
      "TEST:\n",
      "               precision    recall  f1-score   support\n",
      "\n",
      "  high-level       0.69      0.88      0.77       129\n",
      "   low-level       0.95      0.87      0.91       387\n",
      "\n",
      "    accuracy                           0.87       516\n",
      "   macro avg       0.82      0.87      0.84       516\n",
      "weighted avg       0.89      0.87      0.87       516\n",
      "\n"
     ]
    },
    {
     "name": "stderr",
     "output_type": "stream",
     "text": [
      "base.py: .predict_proba: RuntimeWarning: \n",
      "Some examples lacked any rule with sufficient sample size to predict_proba: [27, 83, 87, 114, 123, 143, 180, 203, 204, 216, 265, 277, 283, 289, 294, 325, 349, 351, 356, 360, 417, 430, 443, 456, 470, 474, 478, 479, 488, 504]\n",
      " Consider running recalibrate_proba with smaller param min_samples, or set require_min_samples=False\n",
      "\n"
     ]
    },
    {
     "data": {
      "image/png": "[encoded data removed]",
      "text/plain": [
       "<Figure size 432x288 with 2 Axes>"
      ]
     },
     "metadata": {
      "needs_background": "light"
     },
     "output_type": "display_data"
    },
    {
     "data": {
      "image/png": "[encoded data removed]",
      "text/plain": [
       "<Figure size 432x288 with 1 Axes>"
      ]
     },
     "metadata": {
      "needs_background": "light"
     },
     "output_type": "display_data"
    }
   ],
   "source": [
    "print_all(rb_grid,train_set,train_pred_rb,test_set,test_pred_rb)"
   ]
  },
  {
   "cell_type": "markdown",
   "id": "prescription-aviation",
   "metadata": {},
   "source": [
    "## Random Forest Classifier"
   ]
  },
  {
   "cell_type": "code",
   "execution_count": 68,
   "id": "massive-species",
   "metadata": {},
   "outputs": [],
   "source": [
    "from sklearn.ensemble import RandomForestClassifier"
   ]
  },
  {
   "cell_type": "code",
   "execution_count": 69,
   "id": "portuguese-taxation",
   "metadata": {},
   "outputs": [],
   "source": [
    "param_dist = {\"max_depth\": [2,3,5,6,7,10,12,None],\n",
    "              \"max_features\": sp_randint(1, len(train_set.iloc[0]) + 1),\n",
    "              \"min_samples_split\": sp_randint(10, 51),\n",
    "              \"min_samples_leaf\": sp_randint(10, 51),\n",
    "              \"bootstrap\": [True, False],\n",
    "              \"criterion\": [\"entropy\", \"gini\"],\n",
    "              \"class_weight\":['balanced', None, {0: 0.65, 1: 0.35}]}\n",
    "\n",
    "rf_grid = RandomizedSearchCV(RandomForestClassifier(n_estimators=30), param_distributions=param_dist, \n",
    "                            n_iter=50, \n",
    "                            n_jobs=-1, \n",
    "                            scoring=make_scorer(accuracy_score))\n"
   ]
  },
  {
   "cell_type": "code",
   "execution_count": 70,
   "id": "silent-belgium",
   "metadata": {},
   "outputs": [
    {
     "data": {
      "text/plain": [
       "RandomizedSearchCV(estimator=RandomForestClassifier(n_estimators=30), n_iter=50,\n",
       "                   n_jobs=-1,\n",
       "                   param_distributions={'bootstrap': [True, False],\n",
       "                                        'class_weight': ['balanced', None,\n",
       "                                                         {0: 0.65, 1: 0.35}],\n",
       "                                        'criterion': ['entropy', 'gini'],\n",
       "                                        'max_depth': [2, 3, 5, 6, 7, 10, 12,\n",
       "                                                      None],\n",
       "                                        'max_features': <scipy.stats._distn_infrastructure.rv_frozen object at 0x000001DCAE1EB550>,\n",
       "                                        'min_samples_leaf': <scipy.stats._distn_infrastructure.rv_frozen object at 0x000001DCAE1EBEE0>,\n",
       "                                        'min_samples_split': <scipy.stats._distn_infrastructure.rv_frozen object at 0x000001DCAE612280>},\n",
       "                   scoring=make_scorer(accuracy_score))"
      ]
     },
     "execution_count": 70,
     "metadata": {},
     "output_type": "execute_result"
    }
   ],
   "source": [
    "#run the grid search\n",
    "rf_grid.fit(train_set, train_label)"
   ]
  },
  {
   "cell_type": "code",
   "execution_count": 71,
   "id": "noted-column",
   "metadata": {},
   "outputs": [],
   "source": [
    "train_pred_rf = rf_grid.predict(train_set)\n",
    "test_pred_rf = rf_grid.predict(test_set)"
   ]
  },
  {
   "cell_type": "markdown",
   "id": "80ac89ac-1ca3-47d1-aa83-d20bc16a626c",
   "metadata": {},
   "source": [
    "### Evaluation"
   ]
  },
  {
   "cell_type": "code",
   "execution_count": 72,
   "id": "098825fd-4a47-43d1-85ad-33bd2b256e3d",
   "metadata": {},
   "outputs": [
    {
     "name": "stdout",
     "output_type": "stream",
     "text": [
      "TRAINING:\n",
      "               precision    recall  f1-score   support\n",
      "\n",
      "  high-level       0.89      0.91      0.90       387\n",
      "   low-level       0.97      0.96      0.97      1159\n",
      "\n",
      "    accuracy                           0.95      1546\n",
      "   macro avg       0.93      0.93      0.93      1546\n",
      "weighted avg       0.95      0.95      0.95      1546\n",
      "\n",
      "TEST:\n",
      "               precision    recall  f1-score   support\n",
      "\n",
      "  high-level       0.87      0.86      0.86       129\n",
      "   low-level       0.95      0.96      0.95       387\n",
      "\n",
      "    accuracy                           0.93       516\n",
      "   macro avg       0.91      0.91      0.91       516\n",
      "weighted avg       0.93      0.93      0.93       516\n",
      "\n"
     ]
    },
    {
     "data": {
      "image/png": "[encoded data removed]",
      "text/plain": [
       "<Figure size 432x288 with 2 Axes>"
      ]
     },
     "metadata": {
      "needs_background": "light"
     },
     "output_type": "display_data"
    },
    {
     "data": {
      "image/png": "[encoded data removed]",
      "text/plain": [
       "<Figure size 432x288 with 1 Axes>"
      ]
     },
     "metadata": {
      "needs_background": "light"
     },
     "output_type": "display_data"
    }
   ],
   "source": [
    "print_all(rf_grid,train_set,train_pred_rf,test_set,test_pred_rf)"
   ]
  },
  {
   "cell_type": "markdown",
   "id": "0949085d",
   "metadata": {},
   "source": [
    "## AdaBoosting"
   ]
  },
  {
   "cell_type": "code",
   "execution_count": 73,
   "id": "064f2eeb",
   "metadata": {},
   "outputs": [
    {
     "data": {
      "text/plain": [
       "AdaBoostClassifier()"
      ]
     },
     "execution_count": 73,
     "metadata": {},
     "output_type": "execute_result"
    }
   ],
   "source": [
    "from sklearn.ensemble import AdaBoostClassifier\n",
    "abc = AdaBoostClassifier()\n",
    "abc.fit(train_set, train_label)"
   ]
  },
  {
   "cell_type": "code",
   "execution_count": 74,
   "id": "e37d2586",
   "metadata": {},
   "outputs": [],
   "source": [
    "test_pred_abc = abc.predict(test_set)\n",
    "train_pred_abc= abc.predict(train_set)"
   ]
  },
  {
   "cell_type": "code",
   "execution_count": 75,
   "id": "c7aa8249-5332-4bf2-9e79-e14bbb0fb6c5",
   "metadata": {},
   "outputs": [
    {
     "name": "stdout",
     "output_type": "stream",
     "text": [
      "TRAINING:\n",
      "               precision    recall  f1-score   support\n",
      "\n",
      "  high-level       0.92      0.92      0.92       387\n",
      "   low-level       0.97      0.97      0.97      1159\n",
      "\n",
      "    accuracy                           0.96      1546\n",
      "   macro avg       0.95      0.95      0.95      1546\n",
      "weighted avg       0.96      0.96      0.96      1546\n",
      "\n",
      "TEST:\n",
      "               precision    recall  f1-score   support\n",
      "\n",
      "  high-level       0.85      0.89      0.87       129\n",
      "   low-level       0.96      0.95      0.96       387\n",
      "\n",
      "    accuracy                           0.93       516\n",
      "   macro avg       0.91      0.92      0.91       516\n",
      "weighted avg       0.94      0.93      0.93       516\n",
      "\n"
     ]
    },
    {
     "data": {
      "image/png": "[encoded data removed]",
      "text/plain": [
       "<Figure size 432x288 with 2 Axes>"
      ]
     },
     "metadata": {
      "needs_background": "light"
     },
     "output_type": "display_data"
    },
    {
     "data": {
      "image/png": "[encoded data removed]",
      "text/plain": [
       "<Figure size 432x288 with 1 Axes>"
      ]
     },
     "metadata": {
      "needs_background": "light"
     },
     "output_type": "display_data"
    }
   ],
   "source": [
    "print_all(abc,train_set,train_pred_abc,test_set,test_pred_abc)"
   ]
  },
  {
   "cell_type": "markdown",
   "id": "velvet-commander",
   "metadata": {},
   "source": [
    "## Global models evaluation"
   ]
  },
  {
   "cell_type": "markdown",
   "id": "frozen-ground",
   "metadata": {},
   "source": [
    "Compare results on test set of each model obtained with grid search"
   ]
  },
  {
   "cell_type": "code",
   "execution_count": 76,
   "id": "virgin-bunch",
   "metadata": {},
   "outputs": [
    {
     "data": {
      "text/html": [
       "<div>\n",
       "<style scoped>\n",
       "    .dataframe tbody tr th:only-of-type {\n",
       "        vertical-align: middle;\n",
       "    }\n",
       "\n",
       "    .dataframe tbody tr th {\n",
       "        vertical-align: top;\n",
       "    }\n",
       "\n",
       "    .dataframe thead th {\n",
       "        text-align: right;\n",
       "    }\n",
       "</style>\n",
       "<table border=\"1\" class=\"dataframe\">\n",
       "  <thead>\n",
       "    <tr style=\"text-align: right;\">\n",
       "      <th></th>\n",
       "      <th>DecisionTree</th>\n",
       "      <th>Bayesian</th>\n",
       "      <th>SVM</th>\n",
       "      <th>RuleBased</th>\n",
       "      <th>RandomForest</th>\n",
       "      <th>AdaBoosting</th>\n",
       "    </tr>\n",
       "  </thead>\n",
       "  <tbody>\n",
       "    <tr>\n",
       "      <th>0</th>\n",
       "      <td>1</td>\n",
       "      <td>1</td>\n",
       "      <td>1</td>\n",
       "      <td>True</td>\n",
       "      <td>1</td>\n",
       "      <td>1</td>\n",
       "    </tr>\n",
       "    <tr>\n",
       "      <th>1</th>\n",
       "      <td>1</td>\n",
       "      <td>1</td>\n",
       "      <td>1</td>\n",
       "      <td>True</td>\n",
       "      <td>1</td>\n",
       "      <td>1</td>\n",
       "    </tr>\n",
       "    <tr>\n",
       "      <th>2</th>\n",
       "      <td>1</td>\n",
       "      <td>1</td>\n",
       "      <td>1</td>\n",
       "      <td>True</td>\n",
       "      <td>1</td>\n",
       "      <td>1</td>\n",
       "    </tr>\n",
       "    <tr>\n",
       "      <th>3</th>\n",
       "      <td>1</td>\n",
       "      <td>1</td>\n",
       "      <td>1</td>\n",
       "      <td>True</td>\n",
       "      <td>1</td>\n",
       "      <td>1</td>\n",
       "    </tr>\n",
       "    <tr>\n",
       "      <th>4</th>\n",
       "      <td>1</td>\n",
       "      <td>1</td>\n",
       "      <td>1</td>\n",
       "      <td>True</td>\n",
       "      <td>1</td>\n",
       "      <td>1</td>\n",
       "    </tr>\n",
       "    <tr>\n",
       "      <th>5</th>\n",
       "      <td>1</td>\n",
       "      <td>1</td>\n",
       "      <td>1</td>\n",
       "      <td>True</td>\n",
       "      <td>1</td>\n",
       "      <td>1</td>\n",
       "    </tr>\n",
       "    <tr>\n",
       "      <th>6</th>\n",
       "      <td>1</td>\n",
       "      <td>1</td>\n",
       "      <td>1</td>\n",
       "      <td>True</td>\n",
       "      <td>1</td>\n",
       "      <td>1</td>\n",
       "    </tr>\n",
       "    <tr>\n",
       "      <th>7</th>\n",
       "      <td>1</td>\n",
       "      <td>1</td>\n",
       "      <td>1</td>\n",
       "      <td>True</td>\n",
       "      <td>1</td>\n",
       "      <td>1</td>\n",
       "    </tr>\n",
       "    <tr>\n",
       "      <th>8</th>\n",
       "      <td>1</td>\n",
       "      <td>1</td>\n",
       "      <td>1</td>\n",
       "      <td>True</td>\n",
       "      <td>1</td>\n",
       "      <td>1</td>\n",
       "    </tr>\n",
       "    <tr>\n",
       "      <th>9</th>\n",
       "      <td>1</td>\n",
       "      <td>1</td>\n",
       "      <td>1</td>\n",
       "      <td>True</td>\n",
       "      <td>1</td>\n",
       "      <td>1</td>\n",
       "    </tr>\n",
       "    <tr>\n",
       "      <th>10</th>\n",
       "      <td>1</td>\n",
       "      <td>1</td>\n",
       "      <td>1</td>\n",
       "      <td>True</td>\n",
       "      <td>1</td>\n",
       "      <td>1</td>\n",
       "    </tr>\n",
       "    <tr>\n",
       "      <th>11</th>\n",
       "      <td>1</td>\n",
       "      <td>1</td>\n",
       "      <td>1</td>\n",
       "      <td>True</td>\n",
       "      <td>1</td>\n",
       "      <td>1</td>\n",
       "    </tr>\n",
       "    <tr>\n",
       "      <th>12</th>\n",
       "      <td>1</td>\n",
       "      <td>1</td>\n",
       "      <td>1</td>\n",
       "      <td>True</td>\n",
       "      <td>1</td>\n",
       "      <td>1</td>\n",
       "    </tr>\n",
       "    <tr>\n",
       "      <th>13</th>\n",
       "      <td>1</td>\n",
       "      <td>1</td>\n",
       "      <td>1</td>\n",
       "      <td>True</td>\n",
       "      <td>1</td>\n",
       "      <td>1</td>\n",
       "    </tr>\n",
       "    <tr>\n",
       "      <th>14</th>\n",
       "      <td>1</td>\n",
       "      <td>1</td>\n",
       "      <td>1</td>\n",
       "      <td>True</td>\n",
       "      <td>1</td>\n",
       "      <td>1</td>\n",
       "    </tr>\n",
       "    <tr>\n",
       "      <th>15</th>\n",
       "      <td>1</td>\n",
       "      <td>1</td>\n",
       "      <td>1</td>\n",
       "      <td>True</td>\n",
       "      <td>1</td>\n",
       "      <td>1</td>\n",
       "    </tr>\n",
       "    <tr>\n",
       "      <th>16</th>\n",
       "      <td>1</td>\n",
       "      <td>1</td>\n",
       "      <td>1</td>\n",
       "      <td>True</td>\n",
       "      <td>1</td>\n",
       "      <td>1</td>\n",
       "    </tr>\n",
       "    <tr>\n",
       "      <th>17</th>\n",
       "      <td>1</td>\n",
       "      <td>1</td>\n",
       "      <td>1</td>\n",
       "      <td>True</td>\n",
       "      <td>1</td>\n",
       "      <td>1</td>\n",
       "    </tr>\n",
       "    <tr>\n",
       "      <th>18</th>\n",
       "      <td>1</td>\n",
       "      <td>1</td>\n",
       "      <td>1</td>\n",
       "      <td>True</td>\n",
       "      <td>1</td>\n",
       "      <td>1</td>\n",
       "    </tr>\n",
       "    <tr>\n",
       "      <th>19</th>\n",
       "      <td>1</td>\n",
       "      <td>1</td>\n",
       "      <td>1</td>\n",
       "      <td>True</td>\n",
       "      <td>1</td>\n",
       "      <td>1</td>\n",
       "    </tr>\n",
       "    <tr>\n",
       "      <th>20</th>\n",
       "      <td>1</td>\n",
       "      <td>1</td>\n",
       "      <td>1</td>\n",
       "      <td>True</td>\n",
       "      <td>1</td>\n",
       "      <td>1</td>\n",
       "    </tr>\n",
       "    <tr>\n",
       "      <th>21</th>\n",
       "      <td>1</td>\n",
       "      <td>1</td>\n",
       "      <td>1</td>\n",
       "      <td>True</td>\n",
       "      <td>1</td>\n",
       "      <td>1</td>\n",
       "    </tr>\n",
       "    <tr>\n",
       "      <th>22</th>\n",
       "      <td>1</td>\n",
       "      <td>1</td>\n",
       "      <td>1</td>\n",
       "      <td>True</td>\n",
       "      <td>1</td>\n",
       "      <td>1</td>\n",
       "    </tr>\n",
       "    <tr>\n",
       "      <th>23</th>\n",
       "      <td>1</td>\n",
       "      <td>1</td>\n",
       "      <td>1</td>\n",
       "      <td>True</td>\n",
       "      <td>1</td>\n",
       "      <td>1</td>\n",
       "    </tr>\n",
       "    <tr>\n",
       "      <th>24</th>\n",
       "      <td>1</td>\n",
       "      <td>1</td>\n",
       "      <td>1</td>\n",
       "      <td>True</td>\n",
       "      <td>1</td>\n",
       "      <td>1</td>\n",
       "    </tr>\n",
       "    <tr>\n",
       "      <th>25</th>\n",
       "      <td>1</td>\n",
       "      <td>1</td>\n",
       "      <td>1</td>\n",
       "      <td>True</td>\n",
       "      <td>1</td>\n",
       "      <td>1</td>\n",
       "    </tr>\n",
       "    <tr>\n",
       "      <th>26</th>\n",
       "      <td>1</td>\n",
       "      <td>1</td>\n",
       "      <td>1</td>\n",
       "      <td>True</td>\n",
       "      <td>1</td>\n",
       "      <td>1</td>\n",
       "    </tr>\n",
       "    <tr>\n",
       "      <th>27</th>\n",
       "      <td>1</td>\n",
       "      <td>1</td>\n",
       "      <td>1</td>\n",
       "      <td>True</td>\n",
       "      <td>1</td>\n",
       "      <td>1</td>\n",
       "    </tr>\n",
       "    <tr>\n",
       "      <th>28</th>\n",
       "      <td>1</td>\n",
       "      <td>1</td>\n",
       "      <td>1</td>\n",
       "      <td>True</td>\n",
       "      <td>1</td>\n",
       "      <td>1</td>\n",
       "    </tr>\n",
       "    <tr>\n",
       "      <th>29</th>\n",
       "      <td>1</td>\n",
       "      <td>1</td>\n",
       "      <td>1</td>\n",
       "      <td>True</td>\n",
       "      <td>1</td>\n",
       "      <td>1</td>\n",
       "    </tr>\n",
       "    <tr>\n",
       "      <th>30</th>\n",
       "      <td>1</td>\n",
       "      <td>1</td>\n",
       "      <td>1</td>\n",
       "      <td>True</td>\n",
       "      <td>1</td>\n",
       "      <td>1</td>\n",
       "    </tr>\n",
       "    <tr>\n",
       "      <th>31</th>\n",
       "      <td>1</td>\n",
       "      <td>1</td>\n",
       "      <td>1</td>\n",
       "      <td>True</td>\n",
       "      <td>1</td>\n",
       "      <td>1</td>\n",
       "    </tr>\n",
       "    <tr>\n",
       "      <th>32</th>\n",
       "      <td>1</td>\n",
       "      <td>1</td>\n",
       "      <td>1</td>\n",
       "      <td>True</td>\n",
       "      <td>1</td>\n",
       "      <td>1</td>\n",
       "    </tr>\n",
       "    <tr>\n",
       "      <th>33</th>\n",
       "      <td>1</td>\n",
       "      <td>1</td>\n",
       "      <td>1</td>\n",
       "      <td>True</td>\n",
       "      <td>1</td>\n",
       "      <td>1</td>\n",
       "    </tr>\n",
       "    <tr>\n",
       "      <th>34</th>\n",
       "      <td>1</td>\n",
       "      <td>1</td>\n",
       "      <td>1</td>\n",
       "      <td>True</td>\n",
       "      <td>1</td>\n",
       "      <td>1</td>\n",
       "    </tr>\n",
       "  </tbody>\n",
       "</table>\n",
       "</div>"
      ],
      "text/plain": [
       "    DecisionTree  Bayesian  SVM  RuleBased  RandomForest  AdaBoosting\n",
       "0              1         1    1       True             1            1\n",
       "1              1         1    1       True             1            1\n",
       "2              1         1    1       True             1            1\n",
       "3              1         1    1       True             1            1\n",
       "4              1         1    1       True             1            1\n",
       "5              1         1    1       True             1            1\n",
       "6              1         1    1       True             1            1\n",
       "7              1         1    1       True             1            1\n",
       "8              1         1    1       True             1            1\n",
       "9              1         1    1       True             1            1\n",
       "10             1         1    1       True             1            1\n",
       "11             1         1    1       True             1            1\n",
       "12             1         1    1       True             1            1\n",
       "13             1         1    1       True             1            1\n",
       "14             1         1    1       True             1            1\n",
       "15             1         1    1       True             1            1\n",
       "16             1         1    1       True             1            1\n",
       "17             1         1    1       True             1            1\n",
       "18             1         1    1       True             1            1\n",
       "19             1         1    1       True             1            1\n",
       "20             1         1    1       True             1            1\n",
       "21             1         1    1       True             1            1\n",
       "22             1         1    1       True             1            1\n",
       "23             1         1    1       True             1            1\n",
       "24             1         1    1       True             1            1\n",
       "25             1         1    1       True             1            1\n",
       "26             1         1    1       True             1            1\n",
       "27             1         1    1       True             1            1\n",
       "28             1         1    1       True             1            1\n",
       "29             1         1    1       True             1            1\n",
       "30             1         1    1       True             1            1\n",
       "31             1         1    1       True             1            1\n",
       "32             1         1    1       True             1            1\n",
       "33             1         1    1       True             1            1\n",
       "34             1         1    1       True             1            1"
      ]
     },
     "execution_count": 76,
     "metadata": {},
     "output_type": "execute_result"
    }
   ],
   "source": [
    "df_blind_test = pd.DataFrame()\n",
    "df_blind_test['DecisionTree'] = pd.Series(dt_grid.predict(blindtest))\n",
    "df_blind_test['Bayesian'] = pd.Series(gnb.predict(blindtest))\n",
    "#df_blind_test['NeuralNetwork'] = pd.Series(nn_grid.predict(blindtest))\n",
    "#df_blind_test['KNN'] = pd.Series(knn_grid.predict(blindtest))\n",
    "#df_blind_test['Radius-KNN'] = pd.Series(radius_grid.predict(blindtest))\n",
    "df_blind_test['SVM'] = pd.Series(svm_grid.predict(blindtest))\n",
    "df_blind_test['RuleBased'] = pd.Series(rb_grid.predict(blindtest))\n",
    "df_blind_test['RandomForest'] = pd.Series(rf_grid.predict(blindtest))\n",
    "df_blind_test['AdaBoosting'] = pd.Series(abc.predict(blindtest))\n",
    "df_blind_test"
   ]
  },
  {
   "cell_type": "code",
   "execution_count": 77,
   "id": "electric-mistake",
   "metadata": {},
   "outputs": [
    {
     "data": {
      "text/plain": [
       "<matplotlib.legend.Legend at 0x1dcb1ca1fa0>"
      ]
     },
     "execution_count": 77,
     "metadata": {},
     "output_type": "execute_result"
    },
    {
     "data": {
      "image/png": "[encoded data removed]",
      "text/plain": [
       "<Figure size 432x288 with 1 Axes>"
      ]
     },
     "metadata": {
      "needs_background": "light"
     },
     "output_type": "display_data"
    }
   ],
   "source": [
    "## aggiungi gli altri modelli sotto \n",
    "\n",
    "#decision tree \n",
    "fpr, tpr, thresh = metrics.roc_curve(test_label, test_pred_dt)\n",
    "auc = metrics.roc_auc_score(test_label, test_pred_dt)\n",
    "plt.plot(fpr,tpr,label=\"DecisionTree, auc=\"+str(auc))\n",
    "\n",
    "#bayesian classifier\n",
    "fpr, tpr, thresh = metrics.roc_curve(test_label, test_pred_gnb)\n",
    "auc = metrics.roc_auc_score(test_label, test_pred_gnb)\n",
    "plt.plot(fpr,tpr,label=\"Naive Bayes, auc=\"+str(auc))\n",
    "\n",
    "#neural network\n",
    "fpr, tpr, thresh = metrics.roc_curve(test_label, test_pred_nn)\n",
    "auc = metrics.roc_auc_score(test_label, test_pred_nn)\n",
    "plt.plot(fpr,tpr,label=\"NeuralNetwork, auc=\"+str(auc))\n",
    "\n",
    "#KNN\n",
    "fpr, tpr, thresh = metrics.roc_curve(test_label, test_pred_knn)\n",
    "auc = metrics.roc_auc_score(test_label, test_pred_knn)\n",
    "plt.plot(fpr,tpr,label=\"KNN, auc=\"+str(auc))\n",
    "\n",
    "#Radius-Neighbors\n",
    "fpr, tpr, thresh = metrics.roc_curve(test_label, test_pred_radius)\n",
    "auc = metrics.roc_auc_score(test_label, test_pred_radius)\n",
    "plt.plot(fpr,tpr,label=\"Radius-Neighbors, auc=\"+str(auc))\n",
    "\n",
    "#SVM\n",
    "fpr, tpr, thresh = metrics.roc_curve(test_label, test_pred_svm)\n",
    "auc = metrics.roc_auc_score(test_label, test_pred_svm)\n",
    "plt.plot(fpr,tpr,label=\"SVM, auc=\"+str(auc))\n",
    "\n",
    "#Rule Based Classifier\n",
    "fpr, tpr, thresh = metrics.roc_curve(test_label, test_pred_rb)\n",
    "auc = metrics.roc_auc_score(test_label, test_pred_rb)\n",
    "plt.plot(fpr,tpr,label=\"RuleBasedClassifier, auc=\"+str(auc))\n",
    "\n",
    "#RandomForest\n",
    "fpr, tpr, thresh = metrics.roc_curve(test_label, test_pred_rf)\n",
    "auc = metrics.roc_auc_score(test_label, test_pred_rf)\n",
    "plt.plot(fpr,tpr,label=\"RandomForest, auc=\"+str(auc))\n",
    "\n",
    "#AdaBoosting\n",
    "fpr, tpr, thresh = metrics.roc_curve(test_label, test_pred_abc)\n",
    "auc = metrics.roc_auc_score(test_label, test_pred_abc)\n",
    "plt.plot(fpr,tpr,label=\"AdaBoosting, auc=\"+str(auc))\n",
    "\n",
    "plt.legend(loc=0)"
   ]
  }
 ],
 "metadata": {
  "kernelspec": {
   "display_name": "Python 3 (ipykernel)",
   "language": "python",
   "name": "python3"
  },
  "language_info": {
   "codemirror_mode": {
    "name": "ipython",
    "version": 3
   },
   "file_extension": ".py",
   "mimetype": "text/x-python",
   "name": "python",
   "nbconvert_exporter": "python",
   "pygments_lexer": "ipython3",
   "version": "3.9.7"
  }
 },
 "nbformat": 4,
 "nbformat_minor": 5
}
