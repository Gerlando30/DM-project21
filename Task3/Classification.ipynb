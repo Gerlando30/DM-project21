{
 "cells": [
  {
   "cell_type": "code",
   "execution_count": 1,
   "id": "bf4f855d-9a01-417c-a23f-f5b8a8c42b41",
   "metadata": {},
   "outputs": [],
   "source": [
    "import time\n",
    "\n",
    "import statistics \n",
    "import pandas as pd\n",
    "import numpy as np\n",
    "import math\n",
    "import matplotlib.pyplot as plt\n",
    "from sklearn import metrics\n",
    "from scipy.stats import randint as sp_randint\n",
    "from sklearn.model_selection import train_test_split, cross_validate\n",
    "from sklearn.model_selection import GridSearchCV, RandomizedSearchCV\n",
    "from sklearn.metrics import classification_report, make_scorer\n",
    "from sklearn.metrics import accuracy_score, precision_score, recall_score, f1_score, roc_auc_score\n",
    "import scikitplot as skplt\n",
    "\n",
    "#confusion matrix\n",
    "from sklearn.metrics import confusion_matrix,plot_confusion_matrix\n",
    "\n",
    "\n",
    "#import graphviz\n",
    "from sklearn.tree import export_graphviz"
   ]
  },
  {
   "cell_type": "markdown",
   "id": "ee1c0e5d",
   "metadata": {
    "jp-MarkdownHeadingCollapsed": true,
    "tags": []
   },
   "source": [
    "## Load dataset"
   ]
  },
  {
   "cell_type": "code",
   "execution_count": 2,
   "id": "54535855",
   "metadata": {},
   "outputs": [
    {
     "name": "stdout",
     "output_type": "stream",
     "text": [
      "<class 'pandas.core.frame.DataFrame'>\n",
      "Int64Index: 2072 entries, 0 to 3885\n",
      "Data columns (total 20 columns):\n",
      " #   Column                 Non-Null Count  Dtype  \n",
      "---  ------                 --------------  -----  \n",
      " 0   name                   2072 non-null   object \n",
      " 1   ratio                  2072 non-null   float64\n",
      " 2   num_matches_2016-2019  2072 non-null   float64\n",
      " 3   ratio_2016-2019        2072 non-null   float64\n",
      " 4   num_matches_2020-2021  2072 non-null   float64\n",
      " 5   ratio_2020-2021        2072 non-null   float64\n",
      " 6   hand                   2072 non-null   object \n",
      " 7   gender                 2072 non-null   object \n",
      " 8   ioc                    2072 non-null   object \n",
      " 9   birth                  2072 non-null   float64\n",
      " 10  ht                     2072 non-null   float64\n",
      " 11  minutes                2072 non-null   float64\n",
      " 12  perc_ace               2072 non-null   float64\n",
      " 13  serv_won_tot_seve      2072 non-null   float64\n",
      " 14  bpFaced                2072 non-null   float64\n",
      " 15  perc_df                2072 non-null   float64\n",
      " 16  perc_2ndwon            2072 non-null   float64\n",
      " 17  perc_v_ace             2072 non-null   float64\n",
      " 18  perc_v_df              2072 non-null   float64\n",
      " 19  perc_v_1stwon          2072 non-null   float64\n",
      "dtypes: float64(16), object(4)\n",
      "memory usage: 339.9+ KB\n"
     ]
    }
   ],
   "source": [
    "df = pd.read_csv(\"dataset/tennis_players.csv\", skipinitialspace=True, sep=',', index_col=0)\n",
    "df.info()"
   ]
  },
  {
   "cell_type": "markdown",
   "id": "becoming-instruction",
   "metadata": {},
   "source": [
    "### Adding player's rank"
   ]
  },
  {
   "cell_type": "code",
   "execution_count": 3,
   "id": "creative-hughes",
   "metadata": {},
   "outputs": [
    {
     "name": "stderr",
     "output_type": "stream",
     "text": [
      "C:\\Users\\Gerlando\\AppData\\Roaming\\Python\\Python39\\site-packages\\IPython\\core\\interactiveshell.py:3437: DtypeWarning: Columns (5) have mixed types.Specify dtype option on import or set low_memory=False.\n",
      "  exec(code_obj, self.user_global_ns, self.user_ns)\n"
     ]
    },
    {
     "name": "stdout",
     "output_type": "stream",
     "text": [
      "<class 'pandas.core.frame.DataFrame'>\n",
      "Int64Index: 181501 entries, 0 to 185763\n",
      "Data columns (total 50 columns):\n",
      " #   Column              Non-Null Count   Dtype  \n",
      "---  ------              --------------   -----  \n",
      " 0   tourney_id          181501 non-null  object \n",
      " 1   tourney_name        181501 non-null  object \n",
      " 2   surface             181354 non-null  object \n",
      " 3   draw_size           181501 non-null  float64\n",
      " 4   tourney_level       181501 non-null  object \n",
      " 5   tourney_date        181501 non-null  object \n",
      " 6   match_num           181501 non-null  float64\n",
      " 7   winner_id           181501 non-null  float64\n",
      " 8   winner_entry        25298 non-null   object \n",
      " 9   winner_name         181501 non-null  object \n",
      " 10  winner_hand         181501 non-null  object \n",
      " 11  winner_ioc          181501 non-null  object \n",
      " 12  winner_age          178681 non-null  float64\n",
      " 13  loser_id            181501 non-null  float64\n",
      " 14  loser_entry         43307 non-null   object \n",
      " 15  loser_name          181501 non-null  object \n",
      " 16  loser_hand          181501 non-null  object \n",
      " 17  loser_ioc           181501 non-null  object \n",
      " 18  loser_age           175006 non-null  float64\n",
      " 19  score               181334 non-null  object \n",
      " 20  best_of             181501 non-null  float64\n",
      " 21  round               181501 non-null  object \n",
      " 22  minutes             181501 non-null  float64\n",
      " 23  w_ace               126454 non-null  float64\n",
      " 24  w_df                126454 non-null  float64\n",
      " 25  w_svpt              181501 non-null  float64\n",
      " 26  w_1stIn             181501 non-null  float64\n",
      " 27  w_1stWon            126454 non-null  float64\n",
      " 28  w_2ndWon            126454 non-null  float64\n",
      " 29  w_bpSaved           126454 non-null  float64\n",
      " 30  w_bpFaced           126454 non-null  float64\n",
      " 31  l_ace               124716 non-null  float64\n",
      " 32  l_df                124716 non-null  float64\n",
      " 33  l_svpt              181501 non-null  float64\n",
      " 34  l_1stIn             181501 non-null  float64\n",
      " 35  l_1stWon            124716 non-null  float64\n",
      " 36  l_2ndWon            124716 non-null  float64\n",
      " 37  l_bpSaved           124716 non-null  float64\n",
      " 38  l_bpFaced           124716 non-null  float64\n",
      " 39  winner_rank         162188 non-null  float64\n",
      " 40  winner_rank_points  162172 non-null  float64\n",
      " 41  loser_rank          146385 non-null  float64\n",
      " 42  loser_rank_points   146369 non-null  float64\n",
      " 43  tourney_spectators  181501 non-null  float64\n",
      " 44  tourney_revenue     181501 non-null  float64\n",
      " 45  winner_gender       181501 non-null  object \n",
      " 46  loser_gender        181501 non-null  object \n",
      " 47  SvGms               181501 non-null  float64\n",
      " 48  winner_ht           181457 non-null  float64\n",
      " 49  loser_ht            181438 non-null  float64\n",
      "dtypes: float64(33), object(17)\n",
      "memory usage: 70.6+ MB\n"
     ]
    }
   ],
   "source": [
    "df_rank = pd.read_csv('../Task1/dataset/matches_datacleaning.csv', index_col = 0)\n",
    "pd.set_option('display.max_columns', None) # to visualize all the columns\n",
    "df_rank.info()"
   ]
  },
  {
   "cell_type": "code",
   "execution_count": 4,
   "id": "broadband-ecology",
   "metadata": {},
   "outputs": [
    {
     "name": "stdout",
     "output_type": "stream",
     "text": [
      "                   name    rank\n",
      "0         AARON ADDISON  1037.0\n",
      "1         AARON ADDISON  1254.0\n",
      "2         AARON ADDISON  1255.0\n",
      "3         AARON ADDISON  1047.0\n",
      "4         AARON ADDISON  1055.0\n",
      "...                 ...     ...\n",
      "257926  ZUZANA ZLOCHOVA   343.0\n",
      "257927  ZUZANA ZLOCHOVA   335.0\n",
      "257928  ZUZANA ZLOCHOVA   316.0\n",
      "257929  ZUZANA ZLOCHOVA   318.0\n",
      "257930  ZUZANA ZLOCHOVA   316.0\n",
      "\n",
      "[257931 rows x 2 columns] \n",
      "# of nan: 7622\n"
     ]
    }
   ],
   "source": [
    "winner_rank = df_rank[['winner_name', 'winner_rank']]\n",
    "winner_rank.set_axis(['name', 'rank'], axis=1, inplace=True)\n",
    "\n",
    "loser_rank = df_rank[['loser_name', 'loser_rank']]\n",
    "loser_rank.set_axis(['name', 'rank'], axis=1, inplace=True)\n",
    "\n",
    "player_rank = loser_rank.append(winner_rank)\n",
    "player = df[['name']]\n",
    "player = pd.merge(player, player_rank, how='left', on='name')\n",
    "print(player, '\\n# of nan:', player['rank'].isna().sum())"
   ]
  },
  {
   "cell_type": "code",
   "execution_count": 5,
   "id": "together-analysis",
   "metadata": {},
   "outputs": [
    {
     "data": {
      "text/plain": [
       "763"
      ]
     },
     "execution_count": 5,
     "metadata": {},
     "output_type": "execute_result"
    }
   ],
   "source": [
    "#osserviamo quanti giocatori hanno QUALCHE nan\n",
    "nan_name = player[player['rank'].isna()]\n",
    "nan_name['name'].nunique()"
   ]
  },
  {
   "cell_type": "code",
   "execution_count": 6,
   "id": "surprised-killer",
   "metadata": {},
   "outputs": [
    {
     "data": {
      "text/plain": [
       "count    2037.000000\n",
       "mean      490.356406\n",
       "std       327.419749\n",
       "min         3.000000\n",
       "25%       243.000000\n",
       "50%       422.000000\n",
       "75%       682.000000\n",
       "max      1908.000000\n",
       "Name: rank, dtype: float64"
      ]
     },
     "execution_count": 6,
     "metadata": {},
     "output_type": "execute_result"
    }
   ],
   "source": [
    "#prendiamo la media del rank e vediamo se sono rimasti nan (per quelli che avranno nan come rank vuol dire che nel db originale \n",
    "# non era presente nessun valore di rank per quel giocatore)\n",
    "player = player.groupby('name').mean()\n",
    "player['rank']=player['rank'].round(0)\n",
    "player['rank'].describe()"
   ]
  },
  {
   "cell_type": "code",
   "execution_count": 7,
   "id": "1151f5f4",
   "metadata": {},
   "outputs": [
    {
     "data": {
      "text/plain": [
       "rank    35\n",
       "dtype: int64"
      ]
     },
     "execution_count": 7,
     "metadata": {},
     "output_type": "execute_result"
    }
   ],
   "source": [
    "player.isna().sum()"
   ]
  },
  {
   "cell_type": "code",
   "execution_count": 8,
   "id": "67e6b110",
   "metadata": {},
   "outputs": [
    {
     "data": {
      "text/plain": [
       "947"
      ]
     },
     "execution_count": 8,
     "metadata": {},
     "output_type": "execute_result"
    }
   ],
   "source": [
    "player['rank'].nunique()"
   ]
  },
  {
   "cell_type": "code",
   "execution_count": 9,
   "id": "banned-philippines",
   "metadata": {},
   "outputs": [
    {
     "data": {
      "text/html": [
       "<div>\n",
       "<style scoped>\n",
       "    .dataframe tbody tr th:only-of-type {\n",
       "        vertical-align: middle;\n",
       "    }\n",
       "\n",
       "    .dataframe tbody tr th {\n",
       "        vertical-align: top;\n",
       "    }\n",
       "\n",
       "    .dataframe thead th {\n",
       "        text-align: right;\n",
       "    }\n",
       "</style>\n",
       "<table border=\"1\" class=\"dataframe\">\n",
       "  <thead>\n",
       "    <tr style=\"text-align: right;\">\n",
       "      <th></th>\n",
       "      <th>rank</th>\n",
       "    </tr>\n",
       "    <tr>\n",
       "      <th>name</th>\n",
       "      <th></th>\n",
       "    </tr>\n",
       "  </thead>\n",
       "  <tbody>\n",
       "    <tr>\n",
       "      <th>ABIR EL FAHIMI</th>\n",
       "      <td>NaN</td>\n",
       "    </tr>\n",
       "    <tr>\n",
       "      <th>ALEX LAWSON</th>\n",
       "      <td>NaN</td>\n",
       "    </tr>\n",
       "    <tr>\n",
       "      <th>AMAL SULTANBEKOV</th>\n",
       "      <td>NaN</td>\n",
       "    </tr>\n",
       "    <tr>\n",
       "      <th>AMARNI BANKS</th>\n",
       "      <td>NaN</td>\n",
       "    </tr>\n",
       "    <tr>\n",
       "      <th>ANASTASIA IAMACHKINE</th>\n",
       "      <td>NaN</td>\n",
       "    </tr>\n",
       "    <tr>\n",
       "      <th>ANNA BOWTELL</th>\n",
       "      <td>NaN</td>\n",
       "    </tr>\n",
       "    <tr>\n",
       "      <th>BARBORA PALICOVA</th>\n",
       "      <td>NaN</td>\n",
       "    </tr>\n",
       "    <tr>\n",
       "      <th>BREANA STAMPFLI</th>\n",
       "      <td>NaN</td>\n",
       "    </tr>\n",
       "    <tr>\n",
       "      <th>CHARLOTTE KEMPENAERS POCZ</th>\n",
       "      <td>NaN</td>\n",
       "    </tr>\n",
       "    <tr>\n",
       "      <th>DANIELLE ANDREA THOMPSON</th>\n",
       "      <td>NaN</td>\n",
       "    </tr>\n",
       "    <tr>\n",
       "      <th>DARYA SHVARTSMANN</th>\n",
       "      <td>NaN</td>\n",
       "    </tr>\n",
       "    <tr>\n",
       "      <th>DAVID O'HARE</th>\n",
       "      <td>NaN</td>\n",
       "    </tr>\n",
       "    <tr>\n",
       "      <th>DONA ABO HABAGA</th>\n",
       "      <td>NaN</td>\n",
       "    </tr>\n",
       "    <tr>\n",
       "      <th>EMILY MEYER</th>\n",
       "      <td>NaN</td>\n",
       "    </tr>\n",
       "    <tr>\n",
       "      <th>EUNJI LIM</th>\n",
       "      <td>NaN</td>\n",
       "    </tr>\n",
       "    <tr>\n",
       "      <th>FLORENCIA ROSSI</th>\n",
       "      <td>NaN</td>\n",
       "    </tr>\n",
       "    <tr>\n",
       "      <th>HANNAH VILLER MOLLER</th>\n",
       "      <td>NaN</td>\n",
       "    </tr>\n",
       "    <tr>\n",
       "      <th>HSIEN YIN PENG</th>\n",
       "      <td>NaN</td>\n",
       "    </tr>\n",
       "    <tr>\n",
       "      <th>IVETA DAUJOTAITE</th>\n",
       "      <td>NaN</td>\n",
       "    </tr>\n",
       "    <tr>\n",
       "      <th>JACKSON J WITHROW</th>\n",
       "      <td>NaN</td>\n",
       "    </tr>\n",
       "    <tr>\n",
       "      <th>JESSICA FOWLER</th>\n",
       "      <td>NaN</td>\n",
       "    </tr>\n",
       "    <tr>\n",
       "      <th>LINA QOSTAL</th>\n",
       "      <td>NaN</td>\n",
       "    </tr>\n",
       "    <tr>\n",
       "      <th>LISA ZAAR</th>\n",
       "      <td>NaN</td>\n",
       "    </tr>\n",
       "    <tr>\n",
       "      <th>MARIAN JADE CAPADOCIA</th>\n",
       "      <td>NaN</td>\n",
       "    </tr>\n",
       "    <tr>\n",
       "      <th>MARK VERRYTH</th>\n",
       "      <td>NaN</td>\n",
       "    </tr>\n",
       "    <tr>\n",
       "      <th>MENG YI CHEN</th>\n",
       "      <td>NaN</td>\n",
       "    </tr>\n",
       "    <tr>\n",
       "      <th>MIA KUPRES</th>\n",
       "      <td>NaN</td>\n",
       "    </tr>\n",
       "    <tr>\n",
       "      <th>NASIBA ESPOLOVA</th>\n",
       "      <td>NaN</td>\n",
       "    </tr>\n",
       "    <tr>\n",
       "      <th>NATALIA SZABANIN</th>\n",
       "      <td>NaN</td>\n",
       "    </tr>\n",
       "    <tr>\n",
       "      <th>NETHMI HIMASHI WADUGE</th>\n",
       "      <td>NaN</td>\n",
       "    </tr>\n",
       "    <tr>\n",
       "      <th>PAULINA BAKAITE</th>\n",
       "      <td>NaN</td>\n",
       "    </tr>\n",
       "    <tr>\n",
       "      <th>SAARA ORAV</th>\n",
       "      <td>NaN</td>\n",
       "    </tr>\n",
       "    <tr>\n",
       "      <th>SYBILLE GAUVAIN</th>\n",
       "      <td>NaN</td>\n",
       "    </tr>\n",
       "    <tr>\n",
       "      <th>THEIVIYA SELVARAJOO</th>\n",
       "      <td>NaN</td>\n",
       "    </tr>\n",
       "    <tr>\n",
       "      <th>VERONIKA BOKOR</th>\n",
       "      <td>NaN</td>\n",
       "    </tr>\n",
       "  </tbody>\n",
       "</table>\n",
       "</div>"
      ],
      "text/plain": [
       "                           rank\n",
       "name                           \n",
       "ABIR EL FAHIMI              NaN\n",
       "ALEX LAWSON                 NaN\n",
       "AMAL SULTANBEKOV            NaN\n",
       "AMARNI BANKS                NaN\n",
       "ANASTASIA IAMACHKINE        NaN\n",
       "ANNA BOWTELL                NaN\n",
       "BARBORA PALICOVA            NaN\n",
       "BREANA STAMPFLI             NaN\n",
       "CHARLOTTE KEMPENAERS POCZ   NaN\n",
       "DANIELLE ANDREA THOMPSON    NaN\n",
       "DARYA SHVARTSMANN           NaN\n",
       "DAVID O'HARE                NaN\n",
       "DONA ABO HABAGA             NaN\n",
       "EMILY MEYER                 NaN\n",
       "EUNJI LIM                   NaN\n",
       "FLORENCIA ROSSI             NaN\n",
       "HANNAH VILLER MOLLER        NaN\n",
       "HSIEN YIN PENG              NaN\n",
       "IVETA DAUJOTAITE            NaN\n",
       "JACKSON J WITHROW           NaN\n",
       "JESSICA FOWLER              NaN\n",
       "LINA QOSTAL                 NaN\n",
       "LISA ZAAR                   NaN\n",
       "MARIAN JADE CAPADOCIA       NaN\n",
       "MARK VERRYTH                NaN\n",
       "MENG YI CHEN                NaN\n",
       "MIA KUPRES                  NaN\n",
       "NASIBA ESPOLOVA             NaN\n",
       "NATALIA SZABANIN            NaN\n",
       "NETHMI HIMASHI WADUGE       NaN\n",
       "PAULINA BAKAITE             NaN\n",
       "SAARA ORAV                  NaN\n",
       "SYBILLE GAUVAIN             NaN\n",
       "THEIVIYA SELVARAJOO         NaN\n",
       "VERONIKA BOKOR              NaN"
      ]
     },
     "execution_count": 9,
     "metadata": {},
     "output_type": "execute_result"
    }
   ],
   "source": [
    "player[player['rank'].isna()]"
   ]
  },
  {
   "cell_type": "code",
   "execution_count": 10,
   "id": "5893908d",
   "metadata": {},
   "outputs": [
    {
     "data": {
      "text/html": [
       "<div>\n",
       "<style scoped>\n",
       "    .dataframe tbody tr th:only-of-type {\n",
       "        vertical-align: middle;\n",
       "    }\n",
       "\n",
       "    .dataframe tbody tr th {\n",
       "        vertical-align: top;\n",
       "    }\n",
       "\n",
       "    .dataframe thead th {\n",
       "        text-align: right;\n",
       "    }\n",
       "</style>\n",
       "<table border=\"1\" class=\"dataframe\">\n",
       "  <thead>\n",
       "    <tr style=\"text-align: right;\">\n",
       "      <th></th>\n",
       "      <th>name</th>\n",
       "      <th>rank</th>\n",
       "    </tr>\n",
       "  </thead>\n",
       "  <tbody>\n",
       "    <tr>\n",
       "      <th>0</th>\n",
       "      <td>AARON ADDISON</td>\n",
       "      <td>1131.0</td>\n",
       "    </tr>\n",
       "    <tr>\n",
       "      <th>1</th>\n",
       "      <td>ABBIE MYERS</td>\n",
       "      <td>475.0</td>\n",
       "    </tr>\n",
       "    <tr>\n",
       "      <th>2</th>\n",
       "      <td>ABHINAV SANJEEV SHANMUGAM</td>\n",
       "      <td>1233.0</td>\n",
       "    </tr>\n",
       "    <tr>\n",
       "      <th>3</th>\n",
       "      <td>ABIGAIL TERE APISAH</td>\n",
       "      <td>422.0</td>\n",
       "    </tr>\n",
       "    <tr>\n",
       "      <th>4</th>\n",
       "      <td>ABIR EL FAHIMI</td>\n",
       "      <td>NaN</td>\n",
       "    </tr>\n",
       "    <tr>\n",
       "      <th>...</th>\n",
       "      <td>...</td>\n",
       "      <td>...</td>\n",
       "    </tr>\n",
       "    <tr>\n",
       "      <th>2067</th>\n",
       "      <td>ZIZOU BERGS</td>\n",
       "      <td>371.0</td>\n",
       "    </tr>\n",
       "    <tr>\n",
       "      <th>2068</th>\n",
       "      <td>ZOE HIVES</td>\n",
       "      <td>319.0</td>\n",
       "    </tr>\n",
       "    <tr>\n",
       "      <th>2069</th>\n",
       "      <td>ZOE KRUGER</td>\n",
       "      <td>750.0</td>\n",
       "    </tr>\n",
       "    <tr>\n",
       "      <th>2070</th>\n",
       "      <td>ZSOMBOR PIROS</td>\n",
       "      <td>454.0</td>\n",
       "    </tr>\n",
       "    <tr>\n",
       "      <th>2071</th>\n",
       "      <td>ZUZANA ZLOCHOVA</td>\n",
       "      <td>461.0</td>\n",
       "    </tr>\n",
       "  </tbody>\n",
       "</table>\n",
       "<p>2072 rows × 2 columns</p>\n",
       "</div>"
      ],
      "text/plain": [
       "                           name    rank\n",
       "0                 AARON ADDISON  1131.0\n",
       "1                   ABBIE MYERS   475.0\n",
       "2     ABHINAV SANJEEV SHANMUGAM  1233.0\n",
       "3           ABIGAIL TERE APISAH   422.0\n",
       "4                ABIR EL FAHIMI     NaN\n",
       "...                         ...     ...\n",
       "2067                ZIZOU BERGS   371.0\n",
       "2068                  ZOE HIVES   319.0\n",
       "2069                 ZOE KRUGER   750.0\n",
       "2070              ZSOMBOR PIROS   454.0\n",
       "2071            ZUZANA ZLOCHOVA   461.0\n",
       "\n",
       "[2072 rows x 2 columns]"
      ]
     },
     "execution_count": 10,
     "metadata": {},
     "output_type": "execute_result"
    }
   ],
   "source": [
    "player.reset_index(inplace = True)\n",
    "player"
   ]
  },
  {
   "cell_type": "code",
   "execution_count": 11,
   "id": "cbec8ac9",
   "metadata": {},
   "outputs": [
    {
     "data": {
      "text/html": [
       "<div>\n",
       "<style scoped>\n",
       "    .dataframe tbody tr th:only-of-type {\n",
       "        vertical-align: middle;\n",
       "    }\n",
       "\n",
       "    .dataframe tbody tr th {\n",
       "        vertical-align: top;\n",
       "    }\n",
       "\n",
       "    .dataframe thead th {\n",
       "        text-align: right;\n",
       "    }\n",
       "</style>\n",
       "<table border=\"1\" class=\"dataframe\">\n",
       "  <thead>\n",
       "    <tr style=\"text-align: right;\">\n",
       "      <th></th>\n",
       "      <th>ratio</th>\n",
       "      <th>num_matches_2016-2019</th>\n",
       "      <th>ratio_2016-2019</th>\n",
       "      <th>num_matches_2020-2021</th>\n",
       "      <th>ratio_2020-2021</th>\n",
       "      <th>birth</th>\n",
       "      <th>ht</th>\n",
       "      <th>minutes</th>\n",
       "      <th>perc_ace</th>\n",
       "      <th>serv_won_tot_seve</th>\n",
       "      <th>bpFaced</th>\n",
       "      <th>perc_df</th>\n",
       "      <th>perc_2ndwon</th>\n",
       "      <th>perc_v_ace</th>\n",
       "      <th>perc_v_df</th>\n",
       "      <th>perc_v_1stwon</th>\n",
       "      <th>rank</th>\n",
       "    </tr>\n",
       "  </thead>\n",
       "  <tbody>\n",
       "    <tr>\n",
       "      <th>count</th>\n",
       "      <td>2072.000000</td>\n",
       "      <td>2072.000000</td>\n",
       "      <td>2072.000000</td>\n",
       "      <td>2072.000000</td>\n",
       "      <td>2072.000000</td>\n",
       "      <td>2072.000000</td>\n",
       "      <td>2072.000000</td>\n",
       "      <td>2072.000000</td>\n",
       "      <td>2072.000000</td>\n",
       "      <td>2072.000000</td>\n",
       "      <td>2072.000000</td>\n",
       "      <td>2072.000000</td>\n",
       "      <td>2072.000000</td>\n",
       "      <td>2072.000000</td>\n",
       "      <td>2072.000000</td>\n",
       "      <td>2072.00000</td>\n",
       "      <td>2037.000000</td>\n",
       "    </tr>\n",
       "    <tr>\n",
       "      <th>mean</th>\n",
       "      <td>0.486609</td>\n",
       "      <td>100.942085</td>\n",
       "      <td>0.478162</td>\n",
       "      <td>23.541988</td>\n",
       "      <td>0.309913</td>\n",
       "      <td>1993.805502</td>\n",
       "      <td>179.104946</td>\n",
       "      <td>80.432832</td>\n",
       "      <td>6.716569</td>\n",
       "      <td>0.523839</td>\n",
       "      <td>871.927124</td>\n",
       "      <td>7.450516</td>\n",
       "      <td>43.113605</td>\n",
       "      <td>6.698571</td>\n",
       "      <td>6.355497</td>\n",
       "      <td>54.31431</td>\n",
       "      <td>490.356406</td>\n",
       "    </tr>\n",
       "    <tr>\n",
       "      <th>std</th>\n",
       "      <td>0.115073</td>\n",
       "      <td>78.005562</td>\n",
       "      <td>0.134808</td>\n",
       "      <td>26.280039</td>\n",
       "      <td>0.264866</td>\n",
       "      <td>5.063032</td>\n",
       "      <td>8.008870</td>\n",
       "      <td>16.122646</td>\n",
       "      <td>5.324856</td>\n",
       "      <td>0.146481</td>\n",
       "      <td>720.860044</td>\n",
       "      <td>3.444339</td>\n",
       "      <td>12.302156</td>\n",
       "      <td>4.583606</td>\n",
       "      <td>1.962237</td>\n",
       "      <td>19.24605</td>\n",
       "      <td>327.419749</td>\n",
       "    </tr>\n",
       "    <tr>\n",
       "      <th>min</th>\n",
       "      <td>0.133333</td>\n",
       "      <td>0.000000</td>\n",
       "      <td>0.000000</td>\n",
       "      <td>0.000000</td>\n",
       "      <td>0.000000</td>\n",
       "      <td>1977.000000</td>\n",
       "      <td>157.000000</td>\n",
       "      <td>55.472222</td>\n",
       "      <td>0.000000</td>\n",
       "      <td>0.037581</td>\n",
       "      <td>0.000000</td>\n",
       "      <td>0.000000</td>\n",
       "      <td>0.000000</td>\n",
       "      <td>0.070000</td>\n",
       "      <td>0.000000</td>\n",
       "      <td>0.91000</td>\n",
       "      <td>3.000000</td>\n",
       "    </tr>\n",
       "    <tr>\n",
       "      <th>25%</th>\n",
       "      <td>0.423077</td>\n",
       "      <td>28.000000</td>\n",
       "      <td>0.415466</td>\n",
       "      <td>0.000000</td>\n",
       "      <td>0.000000</td>\n",
       "      <td>1990.000000</td>\n",
       "      <td>173.000000</td>\n",
       "      <td>62.607850</td>\n",
       "      <td>2.400000</td>\n",
       "      <td>0.505333</td>\n",
       "      <td>230.000000</td>\n",
       "      <td>5.220000</td>\n",
       "      <td>40.770000</td>\n",
       "      <td>2.550000</td>\n",
       "      <td>5.390000</td>\n",
       "      <td>39.42750</td>\n",
       "      <td>243.000000</td>\n",
       "    </tr>\n",
       "    <tr>\n",
       "      <th>50%</th>\n",
       "      <td>0.500000</td>\n",
       "      <td>82.000000</td>\n",
       "      <td>0.500000</td>\n",
       "      <td>12.000000</td>\n",
       "      <td>0.375000</td>\n",
       "      <td>1994.000000</td>\n",
       "      <td>178.000000</td>\n",
       "      <td>82.359127</td>\n",
       "      <td>5.755000</td>\n",
       "      <td>0.580575</td>\n",
       "      <td>638.500000</td>\n",
       "      <td>6.950000</td>\n",
       "      <td>47.295000</td>\n",
       "      <td>6.155000</td>\n",
       "      <td>6.615000</td>\n",
       "      <td>64.30500</td>\n",
       "      <td>422.000000</td>\n",
       "    </tr>\n",
       "    <tr>\n",
       "      <th>75%</th>\n",
       "      <td>0.565673</td>\n",
       "      <td>170.000000</td>\n",
       "      <td>0.566866</td>\n",
       "      <td>45.000000</td>\n",
       "      <td>0.533333</td>\n",
       "      <td>1998.000000</td>\n",
       "      <td>185.705882</td>\n",
       "      <td>94.008066</td>\n",
       "      <td>9.840000</td>\n",
       "      <td>0.614162</td>\n",
       "      <td>1446.500000</td>\n",
       "      <td>9.172500</td>\n",
       "      <td>50.112500</td>\n",
       "      <td>10.312500</td>\n",
       "      <td>7.552500</td>\n",
       "      <td>69.80000</td>\n",
       "      <td>682.000000</td>\n",
       "    </tr>\n",
       "    <tr>\n",
       "      <th>max</th>\n",
       "      <td>0.845161</td>\n",
       "      <td>309.000000</td>\n",
       "      <td>1.000000</td>\n",
       "      <td>101.000000</td>\n",
       "      <td>1.000000</td>\n",
       "      <td>2006.000000</td>\n",
       "      <td>198.000000</td>\n",
       "      <td>145.073643</td>\n",
       "      <td>35.390000</td>\n",
       "      <td>0.949992</td>\n",
       "      <td>3834.000000</td>\n",
       "      <td>29.860000</td>\n",
       "      <td>94.180000</td>\n",
       "      <td>23.310000</td>\n",
       "      <td>17.890000</td>\n",
       "      <td>80.79000</td>\n",
       "      <td>1908.000000</td>\n",
       "    </tr>\n",
       "  </tbody>\n",
       "</table>\n",
       "</div>"
      ],
      "text/plain": [
       "             ratio  num_matches_2016-2019  ratio_2016-2019  \\\n",
       "count  2072.000000            2072.000000      2072.000000   \n",
       "mean      0.486609             100.942085         0.478162   \n",
       "std       0.115073              78.005562         0.134808   \n",
       "min       0.133333               0.000000         0.000000   \n",
       "25%       0.423077              28.000000         0.415466   \n",
       "50%       0.500000              82.000000         0.500000   \n",
       "75%       0.565673             170.000000         0.566866   \n",
       "max       0.845161             309.000000         1.000000   \n",
       "\n",
       "       num_matches_2020-2021  ratio_2020-2021        birth           ht  \\\n",
       "count            2072.000000      2072.000000  2072.000000  2072.000000   \n",
       "mean               23.541988         0.309913  1993.805502   179.104946   \n",
       "std                26.280039         0.264866     5.063032     8.008870   \n",
       "min                 0.000000         0.000000  1977.000000   157.000000   \n",
       "25%                 0.000000         0.000000  1990.000000   173.000000   \n",
       "50%                12.000000         0.375000  1994.000000   178.000000   \n",
       "75%                45.000000         0.533333  1998.000000   185.705882   \n",
       "max               101.000000         1.000000  2006.000000   198.000000   \n",
       "\n",
       "           minutes     perc_ace  serv_won_tot_seve      bpFaced      perc_df  \\\n",
       "count  2072.000000  2072.000000        2072.000000  2072.000000  2072.000000   \n",
       "mean     80.432832     6.716569           0.523839   871.927124     7.450516   \n",
       "std      16.122646     5.324856           0.146481   720.860044     3.444339   \n",
       "min      55.472222     0.000000           0.037581     0.000000     0.000000   \n",
       "25%      62.607850     2.400000           0.505333   230.000000     5.220000   \n",
       "50%      82.359127     5.755000           0.580575   638.500000     6.950000   \n",
       "75%      94.008066     9.840000           0.614162  1446.500000     9.172500   \n",
       "max     145.073643    35.390000           0.949992  3834.000000    29.860000   \n",
       "\n",
       "       perc_2ndwon   perc_v_ace    perc_v_df  perc_v_1stwon         rank  \n",
       "count  2072.000000  2072.000000  2072.000000     2072.00000  2037.000000  \n",
       "mean     43.113605     6.698571     6.355497       54.31431   490.356406  \n",
       "std      12.302156     4.583606     1.962237       19.24605   327.419749  \n",
       "min       0.000000     0.070000     0.000000        0.91000     3.000000  \n",
       "25%      40.770000     2.550000     5.390000       39.42750   243.000000  \n",
       "50%      47.295000     6.155000     6.615000       64.30500   422.000000  \n",
       "75%      50.112500    10.312500     7.552500       69.80000   682.000000  \n",
       "max      94.180000    23.310000    17.890000       80.79000  1908.000000  "
      ]
     },
     "execution_count": 11,
     "metadata": {},
     "output_type": "execute_result"
    }
   ],
   "source": [
    "df = pd.merge(df, player, how='left', on='name')\n",
    "\n",
    "df.describe()"
   ]
  },
  {
   "cell_type": "markdown",
   "id": "e013b6f7",
   "metadata": {},
   "source": [
    "## Transform categorical features into numerical ones"
   ]
  },
  {
   "cell_type": "code",
   "execution_count": 12,
   "id": "3f12acc8",
   "metadata": {
    "tags": []
   },
   "outputs": [],
   "source": [
    "#function to discretize the variables\n",
    "#input: the dataset and the list of variables' names to discretize\n",
    "def discretize_data(dataset, variables):\n",
    "    for variable in variables:\n",
    "        #get the unique variable's values\n",
    "        var = sorted(dataset[variable].unique())\n",
    "        \n",
    "        #generate a mapping from the variable's values to the number representation  \n",
    "        mapping = dict(zip(var, range(0, len(var) + 1)))\n",
    "\n",
    "        #add a new colum with the number representation of the variable\n",
    "        dataset[variable+'_num'] = dataset[variable].map(mapping).astype(int)\n",
    "    return dataset"
   ]
  },
  {
   "cell_type": "code",
   "execution_count": 13,
   "id": "17ba9a20",
   "metadata": {},
   "outputs": [],
   "source": [
    "#discretize the categorical variables\n",
    "variables = ['hand', 'gender', 'ioc']\n",
    "df = discretize_data(df, variables)"
   ]
  },
  {
   "cell_type": "code",
   "execution_count": 14,
   "id": "2253efc6",
   "metadata": {},
   "outputs": [],
   "source": [
    "#drop the categorical variables since we don't need them anymore \n",
    "df.drop(columns=['name','hand', 'gender', 'ioc'], axis=1,inplace=True)\n"
   ]
  },
  {
   "cell_type": "code",
   "execution_count": 15,
   "id": "5d940dd6",
   "metadata": {},
   "outputs": [
    {
     "name": "stdout",
     "output_type": "stream",
     "text": [
      "<class 'pandas.core.frame.DataFrame'>\n",
      "Int64Index: 2072 entries, 0 to 2071\n",
      "Data columns (total 20 columns):\n",
      " #   Column                 Non-Null Count  Dtype  \n",
      "---  ------                 --------------  -----  \n",
      " 0   ratio                  2072 non-null   float64\n",
      " 1   num_matches_2016-2019  2072 non-null   float64\n",
      " 2   ratio_2016-2019        2072 non-null   float64\n",
      " 3   num_matches_2020-2021  2072 non-null   float64\n",
      " 4   ratio_2020-2021        2072 non-null   float64\n",
      " 5   birth                  2072 non-null   float64\n",
      " 6   ht                     2072 non-null   float64\n",
      " 7   minutes                2072 non-null   float64\n",
      " 8   perc_ace               2072 non-null   float64\n",
      " 9   serv_won_tot_seve      2072 non-null   float64\n",
      " 10  bpFaced                2072 non-null   float64\n",
      " 11  perc_df                2072 non-null   float64\n",
      " 12  perc_2ndwon            2072 non-null   float64\n",
      " 13  perc_v_ace             2072 non-null   float64\n",
      " 14  perc_v_df              2072 non-null   float64\n",
      " 15  perc_v_1stwon          2072 non-null   float64\n",
      " 16  rank                   2037 non-null   float64\n",
      " 17  hand_num               2072 non-null   int32  \n",
      " 18  gender_num             2072 non-null   int32  \n",
      " 19  ioc_num                2072 non-null   int32  \n",
      "dtypes: float64(17), int32(3)\n",
      "memory usage: 315.7 KB\n"
     ]
    }
   ],
   "source": [
    "df.info()"
   ]
  },
  {
   "cell_type": "markdown",
   "id": "f7fe8db7",
   "metadata": {},
   "source": [
    "### Write to csv before classification"
   ]
  },
  {
   "cell_type": "code",
   "execution_count": 16,
   "id": "5871f233",
   "metadata": {},
   "outputs": [],
   "source": [
    "df.to_csv('dataset/players_classification.csv')"
   ]
  },
  {
   "cell_type": "markdown",
   "id": "cd15428b",
   "metadata": {
    "jp-MarkdownHeadingCollapsed": true,
    "tags": []
   },
   "source": [
    "## Labels\n",
    "\n",
    "Abbiamo bisogno di capire qual'è il target associato ad ogni insieme per fare il processo di classificazione, un idea potrebbe essere utilizzando un attributo specifico che tiene tratta delle \"performance\" di ogni giocatore, in modo da poter contraddistingure i giocatori più forti da quelli più deboli.\n",
    "\n",
    "Nota: questa non è una metrica efficate perchè il vero label del giocatore viene calcolato in base al relativo ranking ma nel nostro caso avendo molti null risulta difficile stimarlo quindi se non ci sono altre alternative potrebbe essere la soluzione più efficente \n",
    "\n",
    "Quindi possiamo usare i percentili o i quartili"
   ]
  },
  {
   "cell_type": "code",
   "execution_count": 17,
   "id": "d100a709",
   "metadata": {},
   "outputs": [
    {
     "data": {
      "text/html": [
       "<div>\n",
       "<style scoped>\n",
       "    .dataframe tbody tr th:only-of-type {\n",
       "        vertical-align: middle;\n",
       "    }\n",
       "\n",
       "    .dataframe tbody tr th {\n",
       "        vertical-align: top;\n",
       "    }\n",
       "\n",
       "    .dataframe thead th {\n",
       "        text-align: right;\n",
       "    }\n",
       "</style>\n",
       "<table border=\"1\" class=\"dataframe\">\n",
       "  <thead>\n",
       "    <tr style=\"text-align: right;\">\n",
       "      <th></th>\n",
       "      <th>ratio</th>\n",
       "      <th>num_matches_2016-2019</th>\n",
       "      <th>ratio_2016-2019</th>\n",
       "      <th>num_matches_2020-2021</th>\n",
       "      <th>ratio_2020-2021</th>\n",
       "      <th>birth</th>\n",
       "      <th>ht</th>\n",
       "      <th>minutes</th>\n",
       "      <th>perc_ace</th>\n",
       "      <th>serv_won_tot_seve</th>\n",
       "      <th>bpFaced</th>\n",
       "      <th>perc_df</th>\n",
       "      <th>perc_2ndwon</th>\n",
       "      <th>perc_v_ace</th>\n",
       "      <th>perc_v_df</th>\n",
       "      <th>perc_v_1stwon</th>\n",
       "      <th>rank</th>\n",
       "      <th>hand_num</th>\n",
       "      <th>gender_num</th>\n",
       "      <th>ioc_num</th>\n",
       "    </tr>\n",
       "  </thead>\n",
       "  <tbody>\n",
       "    <tr>\n",
       "      <th>1493</th>\n",
       "      <td>0.845161</td>\n",
       "      <td>229.0</td>\n",
       "      <td>0.829694</td>\n",
       "      <td>81.0</td>\n",
       "      <td>0.888889</td>\n",
       "      <td>1987.0</td>\n",
       "      <td>188.000000</td>\n",
       "      <td>118.034749</td>\n",
       "      <td>10.43</td>\n",
       "      <td>0.675834</td>\n",
       "      <td>1454.0</td>\n",
       "      <td>4.92</td>\n",
       "      <td>54.72</td>\n",
       "      <td>11.15</td>\n",
       "      <td>6.01</td>\n",
       "      <td>65.42</td>\n",
       "      <td>3.0</td>\n",
       "      <td>1</td>\n",
       "      <td>1</td>\n",
       "      <td>78</td>\n",
       "    </tr>\n",
       "    <tr>\n",
       "      <th>1782</th>\n",
       "      <td>0.754579</td>\n",
       "      <td>232.0</td>\n",
       "      <td>0.745690</td>\n",
       "      <td>41.0</td>\n",
       "      <td>0.804878</td>\n",
       "      <td>1991.0</td>\n",
       "      <td>168.000000</td>\n",
       "      <td>88.797710</td>\n",
       "      <td>4.19</td>\n",
       "      <td>0.590683</td>\n",
       "      <td>1808.0</td>\n",
       "      <td>5.50</td>\n",
       "      <td>48.38</td>\n",
       "      <td>4.38</td>\n",
       "      <td>7.17</td>\n",
       "      <td>58.06</td>\n",
       "      <td>3.0</td>\n",
       "      <td>1</td>\n",
       "      <td>0</td>\n",
       "      <td>71</td>\n",
       "    </tr>\n",
       "    <tr>\n",
       "      <th>1617</th>\n",
       "      <td>0.835616</td>\n",
       "      <td>235.0</td>\n",
       "      <td>0.842553</td>\n",
       "      <td>57.0</td>\n",
       "      <td>0.807018</td>\n",
       "      <td>1986.0</td>\n",
       "      <td>185.000000</td>\n",
       "      <td>122.658811</td>\n",
       "      <td>7.35</td>\n",
       "      <td>0.679608</td>\n",
       "      <td>1377.0</td>\n",
       "      <td>3.69</td>\n",
       "      <td>57.72</td>\n",
       "      <td>12.03</td>\n",
       "      <td>5.78</td>\n",
       "      <td>64.74</td>\n",
       "      <td>3.0</td>\n",
       "      <td>0</td>\n",
       "      <td>1</td>\n",
       "      <td>26</td>\n",
       "    </tr>\n",
       "    <tr>\n",
       "      <th>1672</th>\n",
       "      <td>0.828829</td>\n",
       "      <td>202.0</td>\n",
       "      <td>0.841584</td>\n",
       "      <td>20.0</td>\n",
       "      <td>0.700000</td>\n",
       "      <td>1981.0</td>\n",
       "      <td>185.000000</td>\n",
       "      <td>112.136728</td>\n",
       "      <td>17.50</td>\n",
       "      <td>0.712798</td>\n",
       "      <td>874.0</td>\n",
       "      <td>3.41</td>\n",
       "      <td>58.48</td>\n",
       "      <td>10.92</td>\n",
       "      <td>5.65</td>\n",
       "      <td>68.16</td>\n",
       "      <td>4.0</td>\n",
       "      <td>1</td>\n",
       "      <td>1</td>\n",
       "      <td>80</td>\n",
       "    </tr>\n",
       "    <tr>\n",
       "      <th>1021</th>\n",
       "      <td>0.699405</td>\n",
       "      <td>270.0</td>\n",
       "      <td>0.711111</td>\n",
       "      <td>66.0</td>\n",
       "      <td>0.651515</td>\n",
       "      <td>1992.0</td>\n",
       "      <td>184.000000</td>\n",
       "      <td>97.553718</td>\n",
       "      <td>15.94</td>\n",
       "      <td>0.618893</td>\n",
       "      <td>2185.0</td>\n",
       "      <td>7.84</td>\n",
       "      <td>45.59</td>\n",
       "      <td>7.41</td>\n",
       "      <td>8.34</td>\n",
       "      <td>63.85</td>\n",
       "      <td>7.0</td>\n",
       "      <td>1</td>\n",
       "      <td>0</td>\n",
       "      <td>20</td>\n",
       "    </tr>\n",
       "    <tr>\n",
       "      <th>...</th>\n",
       "      <td>...</td>\n",
       "      <td>...</td>\n",
       "      <td>...</td>\n",
       "      <td>...</td>\n",
       "      <td>...</td>\n",
       "      <td>...</td>\n",
       "      <td>...</td>\n",
       "      <td>...</td>\n",
       "      <td>...</td>\n",
       "      <td>...</td>\n",
       "      <td>...</td>\n",
       "      <td>...</td>\n",
       "      <td>...</td>\n",
       "      <td>...</td>\n",
       "      <td>...</td>\n",
       "      <td>...</td>\n",
       "      <td>...</td>\n",
       "      <td>...</td>\n",
       "      <td>...</td>\n",
       "      <td>...</td>\n",
       "    </tr>\n",
       "    <tr>\n",
       "      <th>1549</th>\n",
       "      <td>0.133333</td>\n",
       "      <td>15.0</td>\n",
       "      <td>0.133333</td>\n",
       "      <td>0.0</td>\n",
       "      <td>0.000000</td>\n",
       "      <td>1999.0</td>\n",
       "      <td>172.137193</td>\n",
       "      <td>97.307692</td>\n",
       "      <td>3.15</td>\n",
       "      <td>0.391993</td>\n",
       "      <td>159.0</td>\n",
       "      <td>9.15</td>\n",
       "      <td>36.12</td>\n",
       "      <td>2.83</td>\n",
       "      <td>5.98</td>\n",
       "      <td>54.02</td>\n",
       "      <td>NaN</td>\n",
       "      <td>2</td>\n",
       "      <td>0</td>\n",
       "      <td>49</td>\n",
       "    </tr>\n",
       "    <tr>\n",
       "      <th>1701</th>\n",
       "      <td>0.379310</td>\n",
       "      <td>8.0</td>\n",
       "      <td>0.375000</td>\n",
       "      <td>21.0</td>\n",
       "      <td>0.380952</td>\n",
       "      <td>2002.0</td>\n",
       "      <td>177.500000</td>\n",
       "      <td>61.904040</td>\n",
       "      <td>3.20</td>\n",
       "      <td>0.409342</td>\n",
       "      <td>305.0</td>\n",
       "      <td>12.49</td>\n",
       "      <td>31.81</td>\n",
       "      <td>0.08</td>\n",
       "      <td>0.49</td>\n",
       "      <td>5.00</td>\n",
       "      <td>NaN</td>\n",
       "      <td>2</td>\n",
       "      <td>0</td>\n",
       "      <td>27</td>\n",
       "    </tr>\n",
       "    <tr>\n",
       "      <th>1833</th>\n",
       "      <td>0.500000</td>\n",
       "      <td>16.0</td>\n",
       "      <td>0.500000</td>\n",
       "      <td>0.0</td>\n",
       "      <td>0.000000</td>\n",
       "      <td>1994.0</td>\n",
       "      <td>173.363636</td>\n",
       "      <td>59.750000</td>\n",
       "      <td>0.00</td>\n",
       "      <td>0.130994</td>\n",
       "      <td>72.0</td>\n",
       "      <td>5.81</td>\n",
       "      <td>13.16</td>\n",
       "      <td>1.44</td>\n",
       "      <td>2.89</td>\n",
       "      <td>11.19</td>\n",
       "      <td>NaN</td>\n",
       "      <td>2</td>\n",
       "      <td>0</td>\n",
       "      <td>29</td>\n",
       "    </tr>\n",
       "    <tr>\n",
       "      <th>1866</th>\n",
       "      <td>0.380952</td>\n",
       "      <td>21.0</td>\n",
       "      <td>0.380952</td>\n",
       "      <td>0.0</td>\n",
       "      <td>0.000000</td>\n",
       "      <td>1994.0</td>\n",
       "      <td>172.137193</td>\n",
       "      <td>71.658654</td>\n",
       "      <td>0.72</td>\n",
       "      <td>0.482784</td>\n",
       "      <td>139.0</td>\n",
       "      <td>10.25</td>\n",
       "      <td>43.84</td>\n",
       "      <td>1.65</td>\n",
       "      <td>8.06</td>\n",
       "      <td>25.41</td>\n",
       "      <td>NaN</td>\n",
       "      <td>2</td>\n",
       "      <td>0</td>\n",
       "      <td>52</td>\n",
       "    </tr>\n",
       "    <tr>\n",
       "      <th>1938</th>\n",
       "      <td>0.342857</td>\n",
       "      <td>16.0</td>\n",
       "      <td>0.250000</td>\n",
       "      <td>19.0</td>\n",
       "      <td>0.421053</td>\n",
       "      <td>2000.0</td>\n",
       "      <td>165.000000</td>\n",
       "      <td>60.239130</td>\n",
       "      <td>0.00</td>\n",
       "      <td>0.229478</td>\n",
       "      <td>276.0</td>\n",
       "      <td>8.14</td>\n",
       "      <td>26.14</td>\n",
       "      <td>0.07</td>\n",
       "      <td>0.07</td>\n",
       "      <td>0.91</td>\n",
       "      <td>NaN</td>\n",
       "      <td>2</td>\n",
       "      <td>0</td>\n",
       "      <td>4</td>\n",
       "    </tr>\n",
       "  </tbody>\n",
       "</table>\n",
       "<p>2072 rows × 20 columns</p>\n",
       "</div>"
      ],
      "text/plain": [
       "         ratio  num_matches_2016-2019  ratio_2016-2019  num_matches_2020-2021  \\\n",
       "1493  0.845161                  229.0         0.829694                   81.0   \n",
       "1782  0.754579                  232.0         0.745690                   41.0   \n",
       "1617  0.835616                  235.0         0.842553                   57.0   \n",
       "1672  0.828829                  202.0         0.841584                   20.0   \n",
       "1021  0.699405                  270.0         0.711111                   66.0   \n",
       "...        ...                    ...              ...                    ...   \n",
       "1549  0.133333                   15.0         0.133333                    0.0   \n",
       "1701  0.379310                    8.0         0.375000                   21.0   \n",
       "1833  0.500000                   16.0         0.500000                    0.0   \n",
       "1866  0.380952                   21.0         0.380952                    0.0   \n",
       "1938  0.342857                   16.0         0.250000                   19.0   \n",
       "\n",
       "      ratio_2020-2021   birth          ht     minutes  perc_ace  \\\n",
       "1493         0.888889  1987.0  188.000000  118.034749     10.43   \n",
       "1782         0.804878  1991.0  168.000000   88.797710      4.19   \n",
       "1617         0.807018  1986.0  185.000000  122.658811      7.35   \n",
       "1672         0.700000  1981.0  185.000000  112.136728     17.50   \n",
       "1021         0.651515  1992.0  184.000000   97.553718     15.94   \n",
       "...               ...     ...         ...         ...       ...   \n",
       "1549         0.000000  1999.0  172.137193   97.307692      3.15   \n",
       "1701         0.380952  2002.0  177.500000   61.904040      3.20   \n",
       "1833         0.000000  1994.0  173.363636   59.750000      0.00   \n",
       "1866         0.000000  1994.0  172.137193   71.658654      0.72   \n",
       "1938         0.421053  2000.0  165.000000   60.239130      0.00   \n",
       "\n",
       "      serv_won_tot_seve  bpFaced  perc_df  perc_2ndwon  perc_v_ace  perc_v_df  \\\n",
       "1493           0.675834   1454.0     4.92        54.72       11.15       6.01   \n",
       "1782           0.590683   1808.0     5.50        48.38        4.38       7.17   \n",
       "1617           0.679608   1377.0     3.69        57.72       12.03       5.78   \n",
       "1672           0.712798    874.0     3.41        58.48       10.92       5.65   \n",
       "1021           0.618893   2185.0     7.84        45.59        7.41       8.34   \n",
       "...                 ...      ...      ...          ...         ...        ...   \n",
       "1549           0.391993    159.0     9.15        36.12        2.83       5.98   \n",
       "1701           0.409342    305.0    12.49        31.81        0.08       0.49   \n",
       "1833           0.130994     72.0     5.81        13.16        1.44       2.89   \n",
       "1866           0.482784    139.0    10.25        43.84        1.65       8.06   \n",
       "1938           0.229478    276.0     8.14        26.14        0.07       0.07   \n",
       "\n",
       "      perc_v_1stwon  rank  hand_num  gender_num  ioc_num  \n",
       "1493          65.42   3.0         1           1       78  \n",
       "1782          58.06   3.0         1           0       71  \n",
       "1617          64.74   3.0         0           1       26  \n",
       "1672          68.16   4.0         1           1       80  \n",
       "1021          63.85   7.0         1           0       20  \n",
       "...             ...   ...       ...         ...      ...  \n",
       "1549          54.02   NaN         2           0       49  \n",
       "1701           5.00   NaN         2           0       27  \n",
       "1833          11.19   NaN         2           0       29  \n",
       "1866          25.41   NaN         2           0       52  \n",
       "1938           0.91   NaN         2           0        4  \n",
       "\n",
       "[2072 rows x 20 columns]"
      ]
     },
     "execution_count": 17,
     "metadata": {},
     "output_type": "execute_result"
    }
   ],
   "source": [
    "df.sort_values(by=['rank'])"
   ]
  },
  {
   "cell_type": "code",
   "execution_count": 18,
   "id": "31f658d6",
   "metadata": {},
   "outputs": [],
   "source": [
    "# label tipo1\n",
    "quantile_a = df['rank'].quantile(0.25)\n"
   ]
  },
  {
   "cell_type": "code",
   "execution_count": 19,
   "id": "e3436b2f",
   "metadata": {},
   "outputs": [],
   "source": [
    "blindtest=df[df['rank'].isna()]\n",
    "del blindtest['rank']"
   ]
  },
  {
   "cell_type": "code",
   "execution_count": 20,
   "id": "19326c76",
   "metadata": {},
   "outputs": [],
   "source": [
    "df = df.drop(df[df['rank'].isna()].index)\n"
   ]
  },
  {
   "cell_type": "code",
   "execution_count": 21,
   "id": "21be1e8e",
   "metadata": {},
   "outputs": [],
   "source": [
    "labels = []\n",
    "for index, rank in df['rank'].items():\n",
    "    if rank <= quantile_a:\n",
    "        labels.append(0)\n",
    "    else:\n",
    "        labels.append(1)"
   ]
  },
  {
   "cell_type": "code",
   "execution_count": 22,
   "id": "1df4bd83",
   "metadata": {},
   "outputs": [],
   "source": [
    "class_names = ['high-level', 'low-level']"
   ]
  },
  {
   "cell_type": "code",
   "execution_count": 23,
   "id": "5d41935f",
   "metadata": {},
   "outputs": [
    {
     "data": {
      "text/plain": [
       "1    0.746686\n",
       "0    0.253314\n",
       "Name: labels, dtype: float64"
      ]
     },
     "execution_count": 23,
     "metadata": {},
     "output_type": "execute_result"
    }
   ],
   "source": [
    "classes = pd.DataFrame()\n",
    "classes['labels'] = labels\n",
    "classes.labels.value_counts(True)"
   ]
  },
  {
   "cell_type": "markdown",
   "id": "cf97ac76",
   "metadata": {},
   "source": [
    "### Prepare dataset (splitting)"
   ]
  },
  {
   "cell_type": "code",
   "execution_count": 24,
   "id": "459c7c56",
   "metadata": {},
   "outputs": [],
   "source": [
    "del df['rank']"
   ]
  },
  {
   "cell_type": "code",
   "execution_count": 25,
   "id": "005100a6",
   "metadata": {},
   "outputs": [],
   "source": [
    "#use stratify because database contain unbalanced label, in this way it's possible to mantain this percentage \n",
    "#of label in train and test set \n",
    "train_set, test_set, train_label, test_label = train_test_split(df, labels, stratify=labels, test_size=0.25)"
   ]
  },
  {
   "cell_type": "code",
   "execution_count": 26,
   "id": "af61c82c",
   "metadata": {},
   "outputs": [
    {
     "data": {
      "text/plain": [
       "1527"
      ]
     },
     "execution_count": 26,
     "metadata": {},
     "output_type": "execute_result"
    }
   ],
   "source": [
    "np.size(train_label)"
   ]
  },
  {
   "cell_type": "markdown",
   "id": "95e13c0e",
   "metadata": {},
   "source": [
    "# Classification "
   ]
  },
  {
   "cell_type": "markdown",
   "id": "3046343f",
   "metadata": {},
   "source": [
    "Abbiamo usato diversi metodi di classificazione in particolare:\n",
    "\n",
    "- Decision Tree\n",
    "- Bayesian classifier\n",
    "- Neural Network\n",
    "- KNN\n",
    "\n",
    "da aggiungere:\n",
    "- Rule based classified \n",
    "- SVM\n",
    "- AdaBoosting\n",
    "- Random forest"
   ]
  },
  {
   "cell_type": "markdown",
   "id": "8b9b2af6",
   "metadata": {
    "jp-MarkdownHeadingCollapsed": true,
    "tags": []
   },
   "source": [
    "## Classfication with decision tree"
   ]
  },
  {
   "cell_type": "code",
   "execution_count": 27,
   "id": "transsexual-cleveland",
   "metadata": {},
   "outputs": [],
   "source": [
    "#Library for decision tree\n",
    "from sklearn import tree\n",
    "from sklearn.metrics import classification_report\n",
    "import pydotplus \n",
    "from IPython.display import Image"
   ]
  },
  {
   "cell_type": "markdown",
   "id": "25a733cb",
   "metadata": {},
   "source": [
    "### Grid Search"
   ]
  },
  {
   "cell_type": "code",
   "execution_count": 28,
   "id": "62241b88",
   "metadata": {},
   "outputs": [],
   "source": [
    "dt_max_depth = [2,3,5,6,7,10,12,None]\n",
    "dt_min_samples_split = sp_randint(2, 51)\n",
    "min_samples_leaf = sp_randint(1, 51)\n",
    "criterion = [\"entropy\", \"gini\"]\n",
    "splitter = [\"best\", \"random\"]\n",
    "max_features = [None, 2, 3, 4, 5]\n",
    "\n",
    "dt_param_grid = {\n",
    "    \"max_depth\": dt_max_depth,\n",
    "    \"min_samples_split\": dt_min_samples_split.rvs(5),\n",
    "    \"min_samples_leaf\": min_samples_leaf.rvs(5),\n",
    "    \"criterion\": criterion,\n",
    "    \"splitter\": splitter,\n",
    "    \"max_features\": max_features,\n",
    "    \"class_weight\":[None, {0: 0.65, 1: 0.25}]\n",
    "    }\n",
    "\n",
    "\n",
    "#define the grid search\n",
    "dt_grid = GridSearchCV(tree.DecisionTreeClassifier(), param_grid=dt_param_grid, n_jobs=10,\n",
    "                            scoring=make_scorer(f1_score))"
   ]
  },
  {
   "cell_type": "code",
   "execution_count": 29,
   "id": "ffbb8ee7",
   "metadata": {},
   "outputs": [
    {
     "name": "stdout",
     "output_type": "stream",
     "text": [
      "{'class_weight': None, 'criterion': 'gini', 'max_depth': 12, 'max_features': None, 'min_samples_leaf': 3, 'min_samples_split': 31, 'splitter': 'random'}\n"
     ]
    }
   ],
   "source": [
    "best_model = dt_grid.fit(train_set, train_label)\n",
    "print(dt_grid.best_params_)\n",
    "train_pred_dt = dt_grid.predict(train_set)\n",
    "test_pred_dt = dt_grid.predict(test_set)"
   ]
  },
  {
   "cell_type": "code",
   "execution_count": 30,
   "id": "plain-tourism",
   "metadata": {},
   "outputs": [],
   "source": [
    "blind_pred_dt = dt_grid.predict(blindtest)"
   ]
  },
  {
   "cell_type": "code",
   "execution_count": 31,
   "id": "greater-patient",
   "metadata": {},
   "outputs": [],
   "source": [
    "dot_data = export_graphviz(best_model.best_estimator_, out_file=None, \n",
    "            filled=True, rounded=True, class_names=['0','1'])"
   ]
  },
  {
   "cell_type": "code",
   "execution_count": 32,
   "id": "minor-nickel",
   "metadata": {},
   "outputs": [
    {
     "name": "stdout",
     "output_type": "stream",
     "text": [
      "digraph Tree {\n",
      "node [color=\"black\", fontname=helvetica, shape=box, style=\"filled, rounded\"];\n",
      "edge [fontname=helvetica];\n",
      "0 [fillcolor=\"#7cbeee\", label=\"X[10] <= 731.592\\ngini = 0.378\\nsamples = 1527\\nvalue = [387, 1140]\\nclass = 1\"];\n",
      "1 [fillcolor=\"#44a3e6\", label=\"X[5] <= 1982.369\\ngini = 0.102\\nsamples = 800\\nvalue = [43, 757]\\nclass = 1\"];\n",
      "0 -> 1  [headlabel=\"True\", labelangle=45, labeldistance=\"2.5\"];\n",
      "2 [fillcolor=\"#ffffff\", label=\"gini = 0.5\\nsamples = 20\\nvalue = [10, 10]\\nclass = 0\"];\n",
      "1 -> 2;\n",
      "3 [fillcolor=\"#42a1e6\", label=\"X[5] <= 1985.29\\ngini = 0.081\\nsamples = 780\\nvalue = [33, 747]\\nclass = 1\"];\n",
      "1 -> 3;\n",
      "4 [fillcolor=\"#b7dbf6\", label=\"X[7] <= 92.152\\ngini = 0.475\\nsamples = 36\\nvalue = [14, 22]\\nclass = 1\"];\n",
      "3 -> 4;\n",
      "5 [fillcolor=\"#78bced\", label=\"gini = 0.365\\nsamples = 25\\nvalue = [6, 19]\\nclass = 1\"];\n",
      "4 -> 5;\n",
      "6 [fillcolor=\"#efb083\", label=\"gini = 0.397\\nsamples = 11\\nvalue = [8, 3]\\nclass = 0\"];\n",
      "4 -> 6;\n",
      "7 [fillcolor=\"#3ea0e6\", label=\"X[10] <= 619.101\\ngini = 0.05\\nsamples = 744\\nvalue = [19, 725]\\nclass = 1\"];\n",
      "3 -> 7;\n",
      "8 [fillcolor=\"#3d9fe6\", label=\"X[2] <= 0.39\\ngini = 0.038\\nsamples = 677\\nvalue = [13, 664]\\nclass = 1\"];\n",
      "7 -> 8;\n",
      "9 [fillcolor=\"#3a9de5\", label=\"X[17] <= 0.168\\ngini = 0.007\\nsamples = 267\\nvalue = [1, 266]\\nclass = 1\"];\n",
      "8 -> 9;\n",
      "10 [fillcolor=\"#3c9ee5\", label=\"X[7] <= 78.533\\ngini = 0.029\\nsamples = 69\\nvalue = [1, 68]\\nclass = 1\"];\n",
      "9 -> 10;\n",
      "11 [fillcolor=\"#399de5\", label=\"gini = 0.0\\nsamples = 63\\nvalue = [0, 63]\\nclass = 1\"];\n",
      "10 -> 11;\n",
      "12 [fillcolor=\"#61b1ea\", label=\"gini = 0.278\\nsamples = 6\\nvalue = [1, 5]\\nclass = 1\"];\n",
      "10 -> 12;\n",
      "13 [fillcolor=\"#399de5\", label=\"gini = 0.0\\nsamples = 198\\nvalue = [0, 198]\\nclass = 1\"];\n",
      "9 -> 13;\n",
      "14 [fillcolor=\"#3fa0e6\", label=\"X[10] <= 426.195\\ngini = 0.057\\nsamples = 410\\nvalue = [12, 398]\\nclass = 1\"];\n",
      "8 -> 14;\n",
      "15 [fillcolor=\"#3c9ee5\", label=\"X[16] <= 1.863\\ngini = 0.026\\nsamples = 306\\nvalue = [4, 302]\\nclass = 1\"];\n",
      "14 -> 15;\n",
      "16 [fillcolor=\"#3d9fe6\", label=\"X[5] <= 1993.217\\ngini = 0.039\\nsamples = 201\\nvalue = [4, 197]\\nclass = 1\"];\n",
      "15 -> 16;\n",
      "17 [fillcolor=\"#42a1e6\", label=\"X[17] <= 0.124\\ngini = 0.081\\nsamples = 95\\nvalue = [4, 91]\\nclass = 1\"];\n",
      "16 -> 17;\n",
      "18 [fillcolor=\"#4fa8e8\", label=\"gini = 0.18\\nsamples = 20\\nvalue = [2, 18]\\nclass = 1\"];\n",
      "17 -> 18;\n",
      "19 [fillcolor=\"#3ea0e6\", label=\"X[13] <= 6.622\\ngini = 0.052\\nsamples = 75\\nvalue = [2, 73]\\nclass = 1\"];\n",
      "17 -> 19;\n",
      "20 [fillcolor=\"#55abe9\", label=\"gini = 0.219\\nsamples = 8\\nvalue = [1, 7]\\nclass = 1\"];\n",
      "19 -> 20;\n",
      "21 [fillcolor=\"#3c9ee5\", label=\"X[7] <= 93.405\\ngini = 0.029\\nsamples = 67\\nvalue = [1, 66]\\nclass = 1\"];\n",
      "19 -> 21;\n",
      "22 [fillcolor=\"#399de5\", label=\"gini = 0.0\\nsamples = 48\\nvalue = [0, 48]\\nclass = 1\"];\n",
      "21 -> 22;\n",
      "23 [fillcolor=\"#44a2e6\", label=\"gini = 0.1\\nsamples = 19\\nvalue = [1, 18]\\nclass = 1\"];\n",
      "21 -> 23;\n",
      "24 [fillcolor=\"#399de5\", label=\"gini = 0.0\\nsamples = 106\\nvalue = [0, 106]\\nclass = 1\"];\n",
      "16 -> 24;\n",
      "25 [fillcolor=\"#399de5\", label=\"gini = 0.0\\nsamples = 105\\nvalue = [0, 105]\\nclass = 1\"];\n",
      "15 -> 25;\n",
      "26 [fillcolor=\"#49a5e7\", label=\"X[7] <= 68.209\\ngini = 0.142\\nsamples = 104\\nvalue = [8, 96]\\nclass = 1\"];\n",
      "14 -> 26;\n",
      "27 [fillcolor=\"#399de5\", label=\"gini = 0.0\\nsamples = 49\\nvalue = [0, 49]\\nclass = 1\"];\n",
      "26 -> 27;\n",
      "28 [fillcolor=\"#5baee9\", label=\"X[15] <= 63.796\\ngini = 0.249\\nsamples = 55\\nvalue = [8, 47]\\nclass = 1\"];\n",
      "26 -> 28;\n",
      "29 [fillcolor=\"#f8e0ce\", label=\"gini = 0.49\\nsamples = 7\\nvalue = [4, 3]\\nclass = 0\"];\n",
      "28 -> 29;\n",
      "30 [fillcolor=\"#4ba6e7\", label=\"X[8] <= 19.923\\ngini = 0.153\\nsamples = 48\\nvalue = [4, 44]\\nclass = 1\"];\n",
      "28 -> 30;\n",
      "31 [fillcolor=\"#43a2e6\", label=\"X[15] <= 70.611\\ngini = 0.089\\nsamples = 43\\nvalue = [2, 41]\\nclass = 1\"];\n",
      "30 -> 31;\n",
      "32 [fillcolor=\"#399de5\", label=\"gini = 0.0\\nsamples = 26\\nvalue = [0, 26]\\nclass = 1\"];\n",
      "31 -> 32;\n",
      "33 [fillcolor=\"#53aae8\", label=\"gini = 0.208\\nsamples = 17\\nvalue = [2, 15]\\nclass = 1\"];\n",
      "31 -> 33;\n",
      "34 [fillcolor=\"#bddef6\", label=\"gini = 0.48\\nsamples = 5\\nvalue = [2, 3]\\nclass = 1\"];\n",
      "30 -> 34;\n",
      "35 [fillcolor=\"#4ca7e8\", label=\"X[14] <= 7.918\\ngini = 0.163\\nsamples = 67\\nvalue = [6, 61]\\nclass = 1\"];\n",
      "7 -> 35;\n",
      "36 [fillcolor=\"#43a2e6\", label=\"X[5] <= 1993.856\\ngini = 0.094\\nsamples = 61\\nvalue = [3, 58]\\nclass = 1\"];\n",
      "35 -> 36;\n",
      "37 [fillcolor=\"#5eafea\", label=\"gini = 0.266\\nsamples = 19\\nvalue = [3, 16]\\nclass = 1\"];\n",
      "36 -> 37;\n",
      "38 [fillcolor=\"#399de5\", label=\"gini = 0.0\\nsamples = 42\\nvalue = [0, 42]\\nclass = 1\"];\n",
      "36 -> 38;\n",
      "39 [fillcolor=\"#ffffff\", label=\"gini = 0.5\\nsamples = 6\\nvalue = [3, 3]\\nclass = 0\"];\n",
      "35 -> 39;\n",
      "40 [fillcolor=\"#ebf5fc\", label=\"X[7] <= 76.412\\ngini = 0.499\\nsamples = 727\\nvalue = [344, 383]\\nclass = 1\"];\n",
      "0 -> 40  [headlabel=\"False\", labelangle=\"-45\", labeldistance=\"2.5\"];\n",
      "41 [fillcolor=\"#5dafea\", label=\"X[7] <= 71.198\\ngini = 0.261\\nsamples = 330\\nvalue = [51, 279]\\nclass = 1\"];\n",
      "40 -> 41;\n",
      "42 [fillcolor=\"#4aa5e7\", label=\"X[1] <= 200.078\\ngini = 0.143\\nsamples = 284\\nvalue = [22, 262]\\nclass = 1\"];\n",
      "41 -> 42;\n",
      "43 [fillcolor=\"#40a1e6\", label=\"X[7] <= 62.342\\ngini = 0.069\\nsamples = 225\\nvalue = [8, 217]\\nclass = 1\"];\n",
      "42 -> 43;\n",
      "44 [fillcolor=\"#399de5\", label=\"gini = 0.0\\nsamples = 126\\nvalue = [0, 126]\\nclass = 1\"];\n",
      "43 -> 44;\n",
      "45 [fillcolor=\"#4aa6e7\", label=\"X[7] <= 67.531\\ngini = 0.149\\nsamples = 99\\nvalue = [8, 91]\\nclass = 1\"];\n",
      "43 -> 45;\n",
      "46 [fillcolor=\"#3c9ee5\", label=\"X[7] <= 66.275\\ngini = 0.025\\nsamples = 79\\nvalue = [1, 78]\\nclass = 1\"];\n",
      "45 -> 46;\n",
      "47 [fillcolor=\"#399de5\", label=\"gini = 0.0\\nsamples = 67\\nvalue = [0, 67]\\nclass = 1\"];\n",
      "46 -> 47;\n",
      "48 [fillcolor=\"#4ba6e7\", label=\"gini = 0.153\\nsamples = 12\\nvalue = [1, 11]\\nclass = 1\"];\n",
      "46 -> 48;\n",
      "49 [fillcolor=\"#a4d2f3\", label=\"gini = 0.455\\nsamples = 20\\nvalue = [7, 13]\\nclass = 1\"];\n",
      "45 -> 49;\n",
      "50 [fillcolor=\"#77bbed\", label=\"X[7] <= 62.295\\ngini = 0.362\\nsamples = 59\\nvalue = [14, 45]\\nclass = 1\"];\n",
      "42 -> 50;\n",
      "51 [fillcolor=\"#399de5\", label=\"gini = 0.0\\nsamples = 17\\nvalue = [0, 17]\\nclass = 1\"];\n",
      "50 -> 51;\n",
      "52 [fillcolor=\"#9ccef2\", label=\"X[15] <= 44.698\\ngini = 0.444\\nsamples = 42\\nvalue = [14, 28]\\nclass = 1\"];\n",
      "50 -> 52;\n",
      "53 [fillcolor=\"#44a2e6\", label=\"gini = 0.1\\nsamples = 19\\nvalue = [1, 18]\\nclass = 1\"];\n",
      "52 -> 53;\n",
      "54 [fillcolor=\"#f9e2d1\", label=\"gini = 0.491\\nsamples = 23\\nvalue = [13, 10]\\nclass = 0\"];\n",
      "52 -> 54;\n",
      "55 [fillcolor=\"#f4cbad\", label=\"X[1] <= 110.436\\ngini = 0.466\\nsamples = 46\\nvalue = [29, 17]\\nclass = 0\"];\n",
      "41 -> 55;\n",
      "56 [fillcolor=\"#5aade9\", label=\"gini = 0.245\\nsamples = 7\\nvalue = [1, 6]\\nclass = 1\"];\n",
      "55 -> 56;\n",
      "57 [fillcolor=\"#efb287\", label=\"X[15] <= 49.145\\ngini = 0.405\\nsamples = 39\\nvalue = [28, 11]\\nclass = 0\"];\n",
      "55 -> 57;\n",
      "58 [fillcolor=\"#6ab6ec\", label=\"gini = 0.32\\nsamples = 5\\nvalue = [1, 4]\\nclass = 1\"];\n",
      "57 -> 58;\n",
      "59 [fillcolor=\"#eca26c\", label=\"X[1] <= 153.353\\ngini = 0.327\\nsamples = 34\\nvalue = [27, 7]\\nclass = 0\"];\n",
      "57 -> 59;\n",
      "60 [fillcolor=\"#bddef6\", label=\"gini = 0.48\\nsamples = 5\\nvalue = [2, 3]\\nclass = 1\"];\n",
      "59 -> 60;\n",
      "61 [fillcolor=\"#e99559\", label=\"gini = 0.238\\nsamples = 29\\nvalue = [25, 4]\\nclass = 0\"];\n",
      "59 -> 61;\n",
      "62 [fillcolor=\"#eeae7f\", label=\"X[1] <= 166.141\\ngini = 0.387\\nsamples = 397\\nvalue = [293, 104]\\nclass = 0\"];\n",
      "40 -> 62;\n",
      "63 [fillcolor=\"#d5eafa\", label=\"X[17] <= 0.272\\ngini = 0.493\\nsamples = 145\\nvalue = [64, 81]\\nclass = 1\"];\n",
      "62 -> 63;\n",
      "64 [fillcolor=\"#eda775\", label=\"gini = 0.358\\nsamples = 30\\nvalue = [23, 7]\\nclass = 0\"];\n",
      "63 -> 64;\n",
      "65 [fillcolor=\"#a7d3f3\", label=\"X[5] <= 1988.345\\ngini = 0.459\\nsamples = 115\\nvalue = [41, 74]\\nclass = 1\"];\n",
      "63 -> 65;\n",
      "66 [fillcolor=\"#efb083\", label=\"gini = 0.397\\nsamples = 22\\nvalue = [16, 6]\\nclass = 0\"];\n",
      "65 -> 66;\n",
      "67 [fillcolor=\"#82c1ef\", label=\"X[3] <= 68.749\\ngini = 0.393\\nsamples = 93\\nvalue = [25, 68]\\nclass = 1\"];\n",
      "65 -> 67;\n",
      "68 [fillcolor=\"#5eafea\", label=\"X[2] <= 0.484\\ngini = 0.265\\nsamples = 70\\nvalue = [11, 59]\\nclass = 1\"];\n",
      "67 -> 68;\n",
      "69 [fillcolor=\"#399de5\", label=\"gini = 0.0\\nsamples = 28\\nvalue = [0, 28]\\nclass = 1\"];\n",
      "68 -> 69;\n",
      "70 [fillcolor=\"#7fc0ee\", label=\"X[2] <= 0.622\\ngini = 0.387\\nsamples = 42\\nvalue = [11, 31]\\nclass = 1\"];\n",
      "68 -> 70;\n",
      "71 [fillcolor=\"#6eb7ec\", label=\"X[14] <= 6.28\\ngini = 0.332\\nsamples = 38\\nvalue = [8, 30]\\nclass = 1\"];\n",
      "70 -> 71;\n",
      "72 [fillcolor=\"#f8e0ce\", label=\"gini = 0.49\\nsamples = 7\\nvalue = [4, 3]\\nclass = 0\"];\n",
      "71 -> 72;\n",
      "73 [fillcolor=\"#56ace9\", label=\"X[4] <= 0.324\\ngini = 0.225\\nsamples = 31\\nvalue = [4, 27]\\nclass = 1\"];\n",
      "71 -> 73;\n",
      "74 [fillcolor=\"#399de5\", label=\"gini = 0.0\\nsamples = 10\\nvalue = [0, 10]\\nclass = 1\"];\n",
      "73 -> 74;\n",
      "75 [fillcolor=\"#68b4eb\", label=\"gini = 0.308\\nsamples = 21\\nvalue = [4, 17]\\nclass = 1\"];\n",
      "73 -> 75;\n",
      "76 [fillcolor=\"#eeab7b\", label=\"gini = 0.375\\nsamples = 4\\nvalue = [3, 1]\\nclass = 0\"];\n",
      "70 -> 76;\n",
      "77 [fillcolor=\"#f6d2b8\", label=\"gini = 0.476\\nsamples = 23\\nvalue = [14, 9]\\nclass = 0\"];\n",
      "67 -> 77;\n",
      "78 [fillcolor=\"#e88e4d\", label=\"X[1] <= 207.59\\ngini = 0.166\\nsamples = 252\\nvalue = [229, 23]\\nclass = 0\"];\n",
      "62 -> 78;\n",
      "79 [fillcolor=\"#ea9a60\", label=\"X[0] <= 0.53\\ngini = 0.276\\nsamples = 109\\nvalue = [91, 18]\\nclass = 0\"];\n",
      "78 -> 79;\n",
      "80 [fillcolor=\"#f0b68d\", label=\"X[17] <= 0.211\\ngini = 0.418\\nsamples = 47\\nvalue = [33, 14]\\nclass = 0\"];\n",
      "79 -> 80;\n",
      "81 [fillcolor=\"#e58139\", label=\"gini = 0.0\\nsamples = 9\\nvalue = [9, 0]\\nclass = 0\"];\n",
      "80 -> 81;\n",
      "82 [fillcolor=\"#f4caac\", label=\"X[0] <= 0.46\\ngini = 0.465\\nsamples = 38\\nvalue = [24, 14]\\nclass = 0\"];\n",
      "80 -> 82;\n",
      "83 [fillcolor=\"#88c4ef\", label=\"gini = 0.408\\nsamples = 7\\nvalue = [2, 5]\\nclass = 1\"];\n",
      "82 -> 83;\n",
      "84 [fillcolor=\"#f0b58a\", label=\"X[0] <= 0.47\\ngini = 0.412\\nsamples = 31\\nvalue = [22, 9]\\nclass = 0\"];\n",
      "82 -> 84;\n",
      "85 [fillcolor=\"#9ccef2\", label=\"gini = 0.444\\nsamples = 3\\nvalue = [1, 2]\\nclass = 1\"];\n",
      "84 -> 85;\n",
      "86 [fillcolor=\"#eeab7b\", label=\"gini = 0.375\\nsamples = 28\\nvalue = [21, 7]\\nclass = 0\"];\n",
      "84 -> 86;\n",
      "87 [fillcolor=\"#e78a47\", label=\"X[3] <= 54.761\\ngini = 0.121\\nsamples = 62\\nvalue = [58, 4]\\nclass = 0\"];\n",
      "79 -> 87;\n",
      "88 [fillcolor=\"#e58139\", label=\"gini = 0.0\\nsamples = 37\\nvalue = [37, 0]\\nclass = 0\"];\n",
      "87 -> 88;\n",
      "89 [fillcolor=\"#ea995f\", label=\"gini = 0.269\\nsamples = 25\\nvalue = [21, 4]\\nclass = 0\"];\n",
      "87 -> 89;\n",
      "90 [fillcolor=\"#e68640\", label=\"X[17] <= 0.411\\ngini = 0.067\\nsamples = 143\\nvalue = [138, 5]\\nclass = 0\"];\n",
      "78 -> 90;\n",
      "91 [fillcolor=\"#e58139\", label=\"gini = 0.0\\nsamples = 51\\nvalue = [51, 0]\\nclass = 0\"];\n",
      "90 -> 91;\n",
      "92 [fillcolor=\"#e68844\", label=\"X[18] <= 29.996\\ngini = 0.103\\nsamples = 92\\nvalue = [87, 5]\\nclass = 0\"];\n",
      "90 -> 92;\n",
      "93 [fillcolor=\"#e89152\", label=\"X[15] <= 68.297\\ngini = 0.198\\nsamples = 36\\nvalue = [32, 4]\\nclass = 0\"];\n",
      "92 -> 93;\n",
      "94 [fillcolor=\"#e58139\", label=\"gini = 0.0\\nsamples = 13\\nvalue = [13, 0]\\nclass = 0\"];\n",
      "93 -> 94;\n",
      "95 [fillcolor=\"#ea9c63\", label=\"gini = 0.287\\nsamples = 23\\nvalue = [19, 4]\\nclass = 0\"];\n",
      "93 -> 95;\n",
      "96 [fillcolor=\"#e5833d\", label=\"X[0] <= 0.501\\ngini = 0.035\\nsamples = 56\\nvalue = [55, 1]\\nclass = 0\"];\n",
      "92 -> 96;\n",
      "97 [fillcolor=\"#e78c49\", label=\"gini = 0.142\\nsamples = 13\\nvalue = [12, 1]\\nclass = 0\"];\n",
      "96 -> 97;\n",
      "98 [fillcolor=\"#e58139\", label=\"gini = 0.0\\nsamples = 43\\nvalue = [43, 0]\\nclass = 0\"];\n",
      "96 -> 98;\n",
      "\"\\n\";\n",
      "}\n",
      "\n"
     ]
    }
   ],
   "source": [
    "graph = pydotplus.graph_from_dot_data(dot_data)\n",
    "print(graph.to_string())\n",
    "#Image(graph.create_png()) AGGIUSTARE\n"
   ]
  },
  {
   "cell_type": "markdown",
   "id": "4473325a",
   "metadata": {},
   "source": [
    "### Evaluation of the decision tree"
   ]
  },
  {
   "cell_type": "code",
   "execution_count": 33,
   "id": "cf2b973a",
   "metadata": {},
   "outputs": [
    {
     "name": "stdout",
     "output_type": "stream",
     "text": [
      "              precision    recall  f1-score   support\n",
      "\n",
      "  high-level       0.82      0.90      0.86       387\n",
      "   low-level       0.97      0.93      0.95      1140\n",
      "\n",
      "    accuracy                           0.93      1527\n",
      "   macro avg       0.89      0.92      0.91      1527\n",
      "weighted avg       0.93      0.93      0.93      1527\n",
      "\n"
     ]
    }
   ],
   "source": [
    "#evaulate the accuracy on the train set and the test set\n",
    "#metrics also contains precision, recall, f1 and the support\n",
    "print(classification_report(train_label, train_pred_dt, target_names=class_names))"
   ]
  },
  {
   "cell_type": "code",
   "execution_count": 34,
   "id": "oriental-retro",
   "metadata": {},
   "outputs": [
    {
     "name": "stdout",
     "output_type": "stream",
     "text": [
      "              precision    recall  f1-score   support\n",
      "\n",
      "  high-level       0.78      0.86      0.82       129\n",
      "   low-level       0.95      0.92      0.93       381\n",
      "\n",
      "    accuracy                           0.90       510\n",
      "   macro avg       0.86      0.89      0.87       510\n",
      "weighted avg       0.91      0.90      0.90       510\n",
      "\n"
     ]
    }
   ],
   "source": [
    "print(classification_report(test_label, test_pred_dt, target_names=class_names))"
   ]
  },
  {
   "cell_type": "code",
   "execution_count": 35,
   "id": "7364e096",
   "metadata": {},
   "outputs": [
    {
     "data": {
      "image/png": "[encoded data removed]",
      "text/plain": [
       "<Figure size 432x288 with 2 Axes>"
      ]
     },
     "metadata": {
      "needs_background": "light"
     },
     "output_type": "display_data"
    }
   ],
   "source": [
    "cm = confusion_matrix(test_label, test_pred_dt)\n",
    "plot_confusion_matrix(dt_grid, test_set, test_label)\n",
    "plt.show() "
   ]
  },
  {
   "cell_type": "code",
   "execution_count": 36,
   "id": "square-responsibility",
   "metadata": {},
   "outputs": [
    {
     "data": {
      "text/plain": [
       "<AxesSubplot:title={'center':'ROC Curves'}, xlabel='False Positive Rate', ylabel='True Positive Rate'>"
      ]
     },
     "execution_count": 36,
     "metadata": {},
     "output_type": "execute_result"
    },
    {
     "data": {
      "image/png": "[encoded data removed]",
      "text/plain": [
       "<Figure size 432x288 with 1 Axes>"
      ]
     },
     "metadata": {
      "needs_background": "light"
     },
     "output_type": "display_data"
    }
   ],
   "source": [
    "test_pred_proba_dt = dt_grid.predict_proba(test_set)\n",
    "skplt.metrics.plot_roc(test_label, test_pred_proba_dt)"
   ]
  },
  {
   "cell_type": "code",
   "execution_count": 37,
   "id": "5ae78959",
   "metadata": {},
   "outputs": [
    {
     "data": {
      "image/png": "[encoded data removed]",
      "text/plain": [
       "<Figure size 432x288 with 1 Axes>"
      ]
     },
     "metadata": {
      "needs_background": "light"
     },
     "output_type": "display_data"
    }
   ],
   "source": [
    "#ace and minutes\n",
    "plt.scatter(test_set['minutes'], test_set['perc_ace'], c=test_label, s=10);"
   ]
  },
  {
   "cell_type": "markdown",
   "id": "483e3b9e",
   "metadata": {
    "jp-MarkdownHeadingCollapsed": true,
    "tags": []
   },
   "source": [
    "## Bayesian classifier"
   ]
  },
  {
   "cell_type": "code",
   "execution_count": 38,
   "id": "furnished-march",
   "metadata": {},
   "outputs": [],
   "source": [
    "from sklearn.naive_bayes import GaussianNB, MultinomialNB"
   ]
  },
  {
   "cell_type": "code",
   "execution_count": 39,
   "id": "79696835",
   "metadata": {},
   "outputs": [],
   "source": [
    "gnb = GaussianNB()\n",
    "gnb.fit(train_set, train_label)\n",
    "train_pred_gnb = gnb.predict(train_set)\n",
    "#predict on the test set\n",
    "test_pred_gnb = gnb.predict(test_set)"
   ]
  },
  {
   "cell_type": "code",
   "execution_count": 40,
   "id": "483bbbc6",
   "metadata": {},
   "outputs": [
    {
     "name": "stdout",
     "output_type": "stream",
     "text": [
      "              precision    recall  f1-score   support\n",
      "\n",
      "  high-level       0.66      0.92      0.77       387\n",
      "   low-level       0.97      0.84      0.90      1140\n",
      "\n",
      "    accuracy                           0.86      1527\n",
      "   macro avg       0.82      0.88      0.84      1527\n",
      "weighted avg       0.89      0.86      0.87      1527\n",
      "\n"
     ]
    }
   ],
   "source": [
    "#compute the performance of the model\n",
    "print(classification_report(train_label, train_pred_gnb, target_names=class_names))"
   ]
  },
  {
   "cell_type": "code",
   "execution_count": 41,
   "id": "68b40da8",
   "metadata": {},
   "outputs": [
    {
     "name": "stdout",
     "output_type": "stream",
     "text": [
      "              precision    recall  f1-score   support\n",
      "\n",
      "  high-level       0.66      0.91      0.76       129\n",
      "   low-level       0.97      0.84      0.90       381\n",
      "\n",
      "    accuracy                           0.86       510\n",
      "   macro avg       0.81      0.88      0.83       510\n",
      "weighted avg       0.89      0.86      0.86       510\n",
      "\n"
     ]
    }
   ],
   "source": [
    "print(classification_report(test_label, test_pred_gnb, target_names=class_names))"
   ]
  },
  {
   "cell_type": "code",
   "execution_count": 42,
   "id": "acute-pioneer",
   "metadata": {},
   "outputs": [
    {
     "data": {
      "text/plain": [
       "<AxesSubplot:title={'center':'ROC Curves'}, xlabel='False Positive Rate', ylabel='True Positive Rate'>"
      ]
     },
     "execution_count": 42,
     "metadata": {},
     "output_type": "execute_result"
    },
    {
     "data": {
      "image/png": "[encoded data removed]",
      "text/plain": [
       "<Figure size 432x288 with 1 Axes>"
      ]
     },
     "metadata": {
      "needs_background": "light"
     },
     "output_type": "display_data"
    }
   ],
   "source": [
    "test_pred_proba_gnb = gnb.predict_proba(test_set)\n",
    "test_pred_proba_gnb\n",
    "skplt.metrics.plot_roc(test_label, test_pred_proba_gnb)"
   ]
  },
  {
   "cell_type": "markdown",
   "id": "posted-brook",
   "metadata": {},
   "source": [
    "### "
   ]
  },
  {
   "cell_type": "markdown",
   "id": "bdb06a33",
   "metadata": {},
   "source": [
    "## Neural Network"
   ]
  },
  {
   "cell_type": "code",
   "execution_count": 43,
   "id": "068cc0f5-1b14-4447-9f4c-701cead0cd5d",
   "metadata": {},
   "outputs": [],
   "source": [
    "import tensorflow as tf\n",
    "from tensorflow.keras.wrappers.scikit_learn import KerasClassifier\n",
    "from tensorflow.keras.models import Sequential\n",
    "from tensorflow.keras.layers import Dense, Dropout"
   ]
  },
  {
   "cell_type": "code",
   "execution_count": 44,
   "id": "respective-grenada",
   "metadata": {},
   "outputs": [],
   "source": [
    "def create_model(n_neurons1, activation1, n_neurons2, activation2, optimizer, activation_out, loss): \n",
    "    # create model\n",
    "    model = Sequential()\n",
    "    model.add(Dense(n_neurons1, kernel_initializer='uniform', input_dim=19, activation=activation1)) \n",
    "    model.add(Dense(1,  kernel_initializer='uniform', activation=activation_out))\n",
    "    # Compile model\n",
    "    model.compile(loss=loss, optimizer=optimizer, metrics=[\"accuracy\"])\n",
    "    return model"
   ]
  },
  {
   "cell_type": "code",
   "execution_count": 45,
   "id": "concerned-brunswick",
   "metadata": {},
   "outputs": [
    {
     "name": "stderr",
     "output_type": "stream",
     "text": [
      "<ipython-input-45-16efaa7761b0>:13: DeprecationWarning: KerasClassifier is deprecated, use Sci-Keras (https://github.com/adriangb/scikeras) instead.\n",
      "  nn = KerasClassifier(build_fn=create_model, epochs=150, batch_size=32)\n"
     ]
    }
   ],
   "source": [
    "grid_param = {\n",
    "    \"n_neurons1\":[20],\n",
    "    \"activation1\":[\"relu\"],\n",
    "    \"n_neurons2\":[20],\n",
    "    \"activation2\":[\"softmax\"],\n",
    "    \"optimizer\": ['adam'],\n",
    "#     \"activation_out\":[\"softmax\",\"relu\",\"sigmoid\"],\n",
    "#    \"dropout_rate\" : [0.2],\n",
    "    \"activation_out\":[\"linear\"],\n",
    "    \"loss\":[\"mean_squared_error\"]\n",
    "}\n",
    "\n",
    "nn = KerasClassifier(build_fn=create_model, epochs=150, batch_size=32)\n",
    "nn_grid = GridSearchCV(nn, param_grid=grid_param, n_jobs=10, cv=5, scoring=make_scorer(f1_score))\n"
   ]
  },
  {
   "cell_type": "code",
   "execution_count": 46,
   "id": "b9771803-84c9-412f-a1a7-08d9be7daa1f",
   "metadata": {},
   "outputs": [
    {
     "name": "stdout",
     "output_type": "stream",
     "text": [
      "Epoch 1/150\n",
      "48/48 [==============================] - 1s 3ms/step - loss: 5.9498 - accuracy: 0.3183\n",
      "Epoch 2/150\n",
      "48/48 [==============================] - 0s 3ms/step - loss: 0.1647 - accuracy: 0.7806\n",
      "Epoch 3/150\n",
      "48/48 [==============================] - 0s 3ms/step - loss: 0.1369 - accuracy: 0.8088\n",
      "Epoch 4/150\n",
      "48/48 [==============================] - 0s 3ms/step - loss: 0.1275 - accuracy: 0.8140\n",
      "Epoch 5/150\n",
      "48/48 [==============================] - 0s 2ms/step - loss: 0.1140 - accuracy: 0.8520\n",
      "Epoch 6/150\n",
      "48/48 [==============================] - 0s 3ms/step - loss: 0.1043 - accuracy: 0.8664\n",
      "Epoch 7/150\n",
      "48/48 [==============================] - 0s 3ms/step - loss: 0.1061 - accuracy: 0.8605\n",
      "Epoch 8/150\n",
      "48/48 [==============================] - 0s 2ms/step - loss: 0.0974 - accuracy: 0.8736\n",
      "Epoch 9/150\n",
      "48/48 [==============================] - 0s 2ms/step - loss: 0.0997 - accuracy: 0.8782\n",
      "Epoch 10/150\n",
      "48/48 [==============================] - 0s 3ms/step - loss: 0.1035 - accuracy: 0.8703\n",
      "Epoch 11/150\n",
      "48/48 [==============================] - 0s 2ms/step - loss: 0.0946 - accuracy: 0.8841\n",
      "Epoch 12/150\n",
      "48/48 [==============================] - 0s 3ms/step - loss: 0.0938 - accuracy: 0.8893\n",
      "Epoch 13/150\n",
      "48/48 [==============================] - 0s 3ms/step - loss: 0.0969 - accuracy: 0.8782\n",
      "Epoch 14/150\n",
      "48/48 [==============================] - 0s 3ms/step - loss: 0.0975 - accuracy: 0.8769\n",
      "Epoch 15/150\n",
      "48/48 [==============================] - 0s 3ms/step - loss: 0.0951 - accuracy: 0.8756\n",
      "Epoch 16/150\n",
      "48/48 [==============================] - 0s 3ms/step - loss: 0.1005 - accuracy: 0.8762\n",
      "Epoch 17/150\n",
      "48/48 [==============================] - 0s 4ms/step - loss: 0.0893 - accuracy: 0.8887\n",
      "Epoch 18/150\n",
      "48/48 [==============================] - 0s 4ms/step - loss: 0.0886 - accuracy: 0.8906\n",
      "Epoch 19/150\n",
      "48/48 [==============================] - 0s 4ms/step - loss: 0.0918 - accuracy: 0.8847\n",
      "Epoch 20/150\n",
      "48/48 [==============================] - 0s 5ms/step - loss: 0.0912 - accuracy: 0.8913\n",
      "Epoch 21/150\n",
      "48/48 [==============================] - 0s 5ms/step - loss: 0.0903 - accuracy: 0.8861\n",
      "Epoch 22/150\n",
      "48/48 [==============================] - 0s 5ms/step - loss: 0.0919 - accuracy: 0.8847\n",
      "Epoch 23/150\n",
      "48/48 [==============================] - 0s 5ms/step - loss: 0.0893 - accuracy: 0.8887\n",
      "Epoch 24/150\n",
      "48/48 [==============================] - 0s 5ms/step - loss: 0.0923 - accuracy: 0.8808\n",
      "Epoch 25/150\n",
      "48/48 [==============================] - 0s 5ms/step - loss: 0.0849 - accuracy: 0.8952\n",
      "Epoch 26/150\n",
      "48/48 [==============================] - 0s 5ms/step - loss: 0.0837 - accuracy: 0.8926\n",
      "Epoch 27/150\n",
      "48/48 [==============================] - 0s 5ms/step - loss: 0.0833 - accuracy: 0.8906\n",
      "Epoch 28/150\n",
      "48/48 [==============================] - 0s 5ms/step - loss: 0.0876 - accuracy: 0.8854\n",
      "Epoch 29/150\n",
      "48/48 [==============================] - 0s 5ms/step - loss: 0.0823 - accuracy: 0.8952\n",
      "Epoch 30/150\n",
      "48/48 [==============================] - 0s 5ms/step - loss: 0.0857 - accuracy: 0.8919\n",
      "Epoch 31/150\n",
      "48/48 [==============================] - 0s 5ms/step - loss: 0.0820 - accuracy: 0.8959\n",
      "Epoch 32/150\n",
      "48/48 [==============================] - 0s 5ms/step - loss: 0.0820 - accuracy: 0.8972\n",
      "Epoch 33/150\n",
      "48/48 [==============================] - 0s 5ms/step - loss: 0.0851 - accuracy: 0.8952\n",
      "Epoch 34/150\n",
      "48/48 [==============================] - 0s 4ms/step - loss: 0.0824 - accuracy: 0.8952\n",
      "Epoch 35/150\n",
      "48/48 [==============================] - 0s 5ms/step - loss: 0.0851 - accuracy: 0.8887\n",
      "Epoch 36/150\n",
      "48/48 [==============================] - 0s 5ms/step - loss: 0.0837 - accuracy: 0.8959: 0s - loss: 0.0893 - accuracy: 0.\n",
      "Epoch 37/150\n",
      "48/48 [==============================] - 0s 6ms/step - loss: 0.0840 - accuracy: 0.8919\n",
      "Epoch 38/150\n",
      "48/48 [==============================] - 0s 5ms/step - loss: 0.0784 - accuracy: 0.9018\n",
      "Epoch 39/150\n",
      "48/48 [==============================] - 0s 6ms/step - loss: 0.0813 - accuracy: 0.8985\n",
      "Epoch 40/150\n",
      "48/48 [==============================] - 0s 5ms/step - loss: 0.0821 - accuracy: 0.8913\n",
      "Epoch 41/150\n",
      "48/48 [==============================] - 0s 5ms/step - loss: 0.0810 - accuracy: 0.8933\n",
      "Epoch 42/150\n",
      "48/48 [==============================] - 0s 5ms/step - loss: 0.0840 - accuracy: 0.8913\n",
      "Epoch 43/150\n",
      "48/48 [==============================] - 0s 5ms/step - loss: 0.0889 - accuracy: 0.8854\n",
      "Epoch 44/150\n",
      "48/48 [==============================] - 0s 3ms/step - loss: 0.0851 - accuracy: 0.8946\n",
      "Epoch 45/150\n",
      "48/48 [==============================] - 0s 2ms/step - loss: 0.0804 - accuracy: 0.8998\n",
      "Epoch 46/150\n",
      "48/48 [==============================] - 0s 2ms/step - loss: 0.0882 - accuracy: 0.8887\n",
      "Epoch 47/150\n",
      "48/48 [==============================] - 0s 3ms/step - loss: 0.0829 - accuracy: 0.8965\n",
      "Epoch 48/150\n",
      "48/48 [==============================] - 0s 2ms/step - loss: 0.0798 - accuracy: 0.9024\n",
      "Epoch 49/150\n",
      "48/48 [==============================] - 0s 2ms/step - loss: 0.0923 - accuracy: 0.8828\n",
      "Epoch 50/150\n",
      "48/48 [==============================] - 0s 2ms/step - loss: 0.0780 - accuracy: 0.9011\n",
      "Epoch 51/150\n",
      "48/48 [==============================] - 0s 3ms/step - loss: 0.0897 - accuracy: 0.8854\n",
      "Epoch 52/150\n",
      "48/48 [==============================] - 0s 2ms/step - loss: 0.0859 - accuracy: 0.8887\n",
      "Epoch 53/150\n",
      "48/48 [==============================] - 0s 2ms/step - loss: 0.0836 - accuracy: 0.8952\n",
      "Epoch 54/150\n",
      "48/48 [==============================] - 0s 3ms/step - loss: 0.0831 - accuracy: 0.8919\n",
      "Epoch 55/150\n",
      "48/48 [==============================] - 0s 5ms/step - loss: 0.0837 - accuracy: 0.8933\n",
      "Epoch 56/150\n",
      "48/48 [==============================] - 0s 2ms/step - loss: 0.0878 - accuracy: 0.8867\n",
      "Epoch 57/150\n",
      "48/48 [==============================] - 0s 2ms/step - loss: 0.0769 - accuracy: 0.8972\n",
      "Epoch 58/150\n",
      "48/48 [==============================] - 0s 2ms/step - loss: 0.0804 - accuracy: 0.8965\n",
      "Epoch 59/150\n",
      "48/48 [==============================] - 0s 2ms/step - loss: 0.0874 - accuracy: 0.8919\n",
      "Epoch 60/150\n",
      "48/48 [==============================] - 0s 2ms/step - loss: 0.0812 - accuracy: 0.8926\n",
      "Epoch 61/150\n",
      "48/48 [==============================] - 0s 2ms/step - loss: 0.0761 - accuracy: 0.9070\n",
      "Epoch 62/150\n",
      "48/48 [==============================] - 0s 2ms/step - loss: 0.0761 - accuracy: 0.9031\n",
      "Epoch 63/150\n",
      "48/48 [==============================] - 0s 3ms/step - loss: 0.0773 - accuracy: 0.9031\n",
      "Epoch 64/150\n",
      "48/48 [==============================] - 0s 5ms/step - loss: 0.0818 - accuracy: 0.8933\n",
      "Epoch 65/150\n",
      "48/48 [==============================] - 0s 4ms/step - loss: 0.0815 - accuracy: 0.8952\n",
      "Epoch 66/150\n",
      "48/48 [==============================] - 0s 4ms/step - loss: 0.0791 - accuracy: 0.8919\n",
      "Epoch 67/150\n",
      "48/48 [==============================] - 0s 4ms/step - loss: 0.0753 - accuracy: 0.9057\n",
      "Epoch 68/150\n",
      "48/48 [==============================] - 0s 4ms/step - loss: 0.0776 - accuracy: 0.9011\n",
      "Epoch 69/150\n",
      "48/48 [==============================] - 0s 4ms/step - loss: 0.0812 - accuracy: 0.8939\n",
      "Epoch 70/150\n",
      "48/48 [==============================] - 0s 4ms/step - loss: 0.0796 - accuracy: 0.8919\n",
      "Epoch 71/150\n",
      "48/48 [==============================] - 0s 4ms/step - loss: 0.0834 - accuracy: 0.8906\n",
      "Epoch 72/150\n",
      "48/48 [==============================] - 0s 4ms/step - loss: 0.0775 - accuracy: 0.9024\n",
      "Epoch 73/150\n",
      "48/48 [==============================] - 0s 4ms/step - loss: 0.0776 - accuracy: 0.8998\n",
      "Epoch 74/150\n",
      "48/48 [==============================] - 0s 4ms/step - loss: 0.0747 - accuracy: 0.9005\n",
      "Epoch 75/150\n",
      "48/48 [==============================] - 0s 4ms/step - loss: 0.0748 - accuracy: 0.9024\n",
      "Epoch 76/150\n",
      "48/48 [==============================] - 0s 4ms/step - loss: 0.0757 - accuracy: 0.8959\n",
      "Epoch 77/150\n",
      "48/48 [==============================] - 0s 4ms/step - loss: 0.0756 - accuracy: 0.9031\n",
      "Epoch 78/150\n",
      "48/48 [==============================] - 0s 4ms/step - loss: 0.0774 - accuracy: 0.9037\n",
      "Epoch 79/150\n",
      "48/48 [==============================] - 0s 4ms/step - loss: 0.0784 - accuracy: 0.9037\n",
      "Epoch 80/150\n",
      "48/48 [==============================] - 0s 4ms/step - loss: 0.0745 - accuracy: 0.9064\n",
      "Epoch 81/150\n",
      "48/48 [==============================] - 0s 4ms/step - loss: 0.0738 - accuracy: 0.9064\n",
      "Epoch 82/150\n"
     ]
    },
    {
     "name": "stdout",
     "output_type": "stream",
     "text": [
      "48/48 [==============================] - ETA: 0s - loss: 0.0742 - accuracy: 0.91 - 0s 4ms/step - loss: 0.0739 - accuracy: 0.9109\n",
      "Epoch 83/150\n",
      "48/48 [==============================] - 0s 4ms/step - loss: 0.0775 - accuracy: 0.9064\n",
      "Epoch 84/150\n",
      "48/48 [==============================] - 0s 4ms/step - loss: 0.0730 - accuracy: 0.9070\n",
      "Epoch 85/150\n",
      "48/48 [==============================] - 0s 4ms/step - loss: 0.0807 - accuracy: 0.8959\n",
      "Epoch 86/150\n",
      "48/48 [==============================] - 0s 4ms/step - loss: 0.0741 - accuracy: 0.8991\n",
      "Epoch 87/150\n",
      "48/48 [==============================] - 0s 4ms/step - loss: 0.0765 - accuracy: 0.8998\n",
      "Epoch 88/150\n",
      "48/48 [==============================] - 0s 4ms/step - loss: 0.0828 - accuracy: 0.8946\n",
      "Epoch 89/150\n",
      "48/48 [==============================] - 0s 4ms/step - loss: 0.0786 - accuracy: 0.9070: 0s - loss: 0.0843 - accuracy: 0.\n",
      "Epoch 90/150\n",
      "48/48 [==============================] - 0s 4ms/step - loss: 0.0771 - accuracy: 0.8998\n",
      "Epoch 91/150\n",
      "48/48 [==============================] - 0s 4ms/step - loss: 0.0759 - accuracy: 0.8998\n",
      "Epoch 92/150\n",
      "48/48 [==============================] - 0s 4ms/step - loss: 0.0736 - accuracy: 0.9037\n",
      "Epoch 93/150\n",
      "48/48 [==============================] - 0s 4ms/step - loss: 0.0743 - accuracy: 0.9024\n",
      "Epoch 94/150\n",
      "48/48 [==============================] - 0s 4ms/step - loss: 0.0746 - accuracy: 0.9037\n",
      "Epoch 95/150\n",
      "48/48 [==============================] - 0s 4ms/step - loss: 0.0746 - accuracy: 0.9018\n",
      "Epoch 96/150\n",
      "48/48 [==============================] - 0s 4ms/step - loss: 0.0729 - accuracy: 0.9077\n",
      "Epoch 97/150\n",
      "48/48 [==============================] - 0s 4ms/step - loss: 0.0785 - accuracy: 0.8978\n",
      "Epoch 98/150\n",
      "48/48 [==============================] - 0s 4ms/step - loss: 0.0776 - accuracy: 0.8998\n",
      "Epoch 99/150\n",
      "48/48 [==============================] - 0s 4ms/step - loss: 0.0749 - accuracy: 0.9011\n",
      "Epoch 100/150\n",
      "48/48 [==============================] - 0s 4ms/step - loss: 0.0736 - accuracy: 0.9090\n",
      "Epoch 101/150\n",
      "48/48 [==============================] - 0s 4ms/step - loss: 0.0742 - accuracy: 0.9057\n",
      "Epoch 102/150\n",
      "48/48 [==============================] - 0s 4ms/step - loss: 0.0730 - accuracy: 0.9090\n",
      "Epoch 103/150\n",
      "48/48 [==============================] - 0s 4ms/step - loss: 0.0738 - accuracy: 0.9024\n",
      "Epoch 104/150\n",
      "48/48 [==============================] - 0s 4ms/step - loss: 0.0766 - accuracy: 0.9050\n",
      "Epoch 105/150\n",
      "48/48 [==============================] - 0s 4ms/step - loss: 0.0738 - accuracy: 0.9070\n",
      "Epoch 106/150\n",
      "48/48 [==============================] - 0s 4ms/step - loss: 0.0789 - accuracy: 0.8998\n",
      "Epoch 107/150\n",
      "48/48 [==============================] - 0s 4ms/step - loss: 0.0839 - accuracy: 0.8985\n",
      "Epoch 108/150\n",
      "48/48 [==============================] - 0s 4ms/step - loss: 0.0742 - accuracy: 0.9050\n",
      "Epoch 109/150\n",
      "48/48 [==============================] - 0s 4ms/step - loss: 0.0774 - accuracy: 0.8985\n",
      "Epoch 110/150\n",
      "48/48 [==============================] - 0s 4ms/step - loss: 0.0804 - accuracy: 0.8972\n",
      "Epoch 111/150\n",
      "48/48 [==============================] - 0s 4ms/step - loss: 0.0722 - accuracy: 0.9050\n",
      "Epoch 112/150\n",
      "48/48 [==============================] - 0s 4ms/step - loss: 0.0840 - accuracy: 0.8939\n",
      "Epoch 113/150\n",
      "48/48 [==============================] - 0s 4ms/step - loss: 0.0784 - accuracy: 0.8978\n",
      "Epoch 114/150\n",
      "48/48 [==============================] - 0s 4ms/step - loss: 0.0749 - accuracy: 0.9064\n",
      "Epoch 115/150\n",
      "48/48 [==============================] - 0s 4ms/step - loss: 0.0706 - accuracy: 0.9136\n",
      "Epoch 116/150\n",
      "48/48 [==============================] - 0s 4ms/step - loss: 0.0767 - accuracy: 0.9024\n",
      "Epoch 117/150\n",
      "48/48 [==============================] - 0s 5ms/step - loss: 0.0733 - accuracy: 0.9037\n",
      "Epoch 118/150\n",
      "48/48 [==============================] - 0s 4ms/step - loss: 0.0716 - accuracy: 0.9149\n",
      "Epoch 119/150\n",
      "48/48 [==============================] - 0s 4ms/step - loss: 0.0802 - accuracy: 0.9024\n",
      "Epoch 120/150\n",
      "48/48 [==============================] - 0s 4ms/step - loss: 0.0727 - accuracy: 0.9037\n",
      "Epoch 121/150\n",
      "48/48 [==============================] - 0s 4ms/step - loss: 0.0726 - accuracy: 0.9064\n",
      "Epoch 122/150\n",
      "48/48 [==============================] - 0s 4ms/step - loss: 0.0713 - accuracy: 0.9050\n",
      "Epoch 123/150\n",
      "48/48 [==============================] - 0s 4ms/step - loss: 0.0724 - accuracy: 0.9064\n",
      "Epoch 124/150\n",
      "48/48 [==============================] - 0s 4ms/step - loss: 0.0708 - accuracy: 0.9122\n",
      "Epoch 125/150\n",
      "48/48 [==============================] - 0s 4ms/step - loss: 0.0712 - accuracy: 0.9103\n",
      "Epoch 126/150\n",
      "48/48 [==============================] - 0s 5ms/step - loss: 0.0773 - accuracy: 0.9044\n",
      "Epoch 127/150\n",
      "48/48 [==============================] - 0s 4ms/step - loss: 0.0749 - accuracy: 0.9044\n",
      "Epoch 128/150\n",
      "48/48 [==============================] - 0s 3ms/step - loss: 0.0781 - accuracy: 0.9044\n",
      "Epoch 129/150\n",
      "48/48 [==============================] - 0s 3ms/step - loss: 0.0713 - accuracy: 0.9116\n",
      "Epoch 130/150\n",
      "48/48 [==============================] - 0s 3ms/step - loss: 0.0720 - accuracy: 0.9175\n",
      "Epoch 131/150\n",
      "48/48 [==============================] - 0s 3ms/step - loss: 0.0745 - accuracy: 0.9037\n",
      "Epoch 132/150\n",
      "48/48 [==============================] - 0s 3ms/step - loss: 0.0747 - accuracy: 0.9037\n",
      "Epoch 133/150\n",
      "48/48 [==============================] - 0s 3ms/step - loss: 0.0826 - accuracy: 0.8946\n",
      "Epoch 134/150\n",
      "48/48 [==============================] - 0s 3ms/step - loss: 0.0779 - accuracy: 0.9037\n",
      "Epoch 135/150\n",
      "48/48 [==============================] - 0s 3ms/step - loss: 0.0769 - accuracy: 0.8985\n",
      "Epoch 136/150\n",
      "48/48 [==============================] - 0s 2ms/step - loss: 0.0755 - accuracy: 0.9011\n",
      "Epoch 137/150\n",
      "48/48 [==============================] - 0s 2ms/step - loss: 0.0737 - accuracy: 0.8991\n",
      "Epoch 138/150\n",
      "48/48 [==============================] - 0s 2ms/step - loss: 0.0751 - accuracy: 0.9064\n",
      "Epoch 139/150\n",
      "48/48 [==============================] - 0s 3ms/step - loss: 0.0729 - accuracy: 0.9083\n",
      "Epoch 140/150\n",
      "48/48 [==============================] - 0s 3ms/step - loss: 0.0714 - accuracy: 0.9070\n",
      "Epoch 141/150\n",
      "48/48 [==============================] - ETA: 0s - loss: 0.0745 - accuracy: 0.90 - 0s 2ms/step - loss: 0.0761 - accuracy: 0.8991\n",
      "Epoch 142/150\n",
      "48/48 [==============================] - 0s 2ms/step - loss: 0.0778 - accuracy: 0.9024\n",
      "Epoch 143/150\n",
      "48/48 [==============================] - 0s 2ms/step - loss: 0.0751 - accuracy: 0.8998\n",
      "Epoch 144/150\n",
      "48/48 [==============================] - 0s 2ms/step - loss: 0.0807 - accuracy: 0.9024\n",
      "Epoch 145/150\n",
      "48/48 [==============================] - 0s 2ms/step - loss: 0.0744 - accuracy: 0.9057\n",
      "Epoch 146/150\n",
      "48/48 [==============================] - 0s 2ms/step - loss: 0.0782 - accuracy: 0.8991\n",
      "Epoch 147/150\n",
      "48/48 [==============================] - 0s 2ms/step - loss: 0.0750 - accuracy: 0.9077\n",
      "Epoch 148/150\n",
      "48/48 [==============================] - 0s 2ms/step - loss: 0.0745 - accuracy: 0.9050\n",
      "Epoch 149/150\n",
      "48/48 [==============================] - 0s 3ms/step - loss: 0.0760 - accuracy: 0.9070\n",
      "Epoch 150/150\n",
      "48/48 [==============================] - 0s 4ms/step - loss: 0.0760 - accuracy: 0.9037\n",
      "{'activation1': 'relu', 'activation2': 'softmax', 'activation_out': 'linear', 'loss': 'mean_squared_error', 'n_neurons1': 20, 'n_neurons2': 20, 'optimizer': 'adam'}\n",
      "Time taken for fit: 60.73188495635986 sec\n",
      "\n"
     ]
    }
   ],
   "source": [
    "start = time.time()\n",
    "best_model = nn_grid.fit(train_set, train_label)\n",
    "print(nn_grid.best_params_)\n",
    "train_pred_nn = nn_grid.predict(train_set)\n",
    "test_pred_nn = nn_grid.predict(test_set)\n",
    "print('Time taken for fit: {} sec\\n'.format(time.time() - start))"
   ]
  },
  {
   "cell_type": "code",
   "execution_count": 47,
   "id": "faa75007-22fb-4670-9425-a0b93c9f9e8f",
   "metadata": {},
   "outputs": [
    {
     "name": "stdout",
     "output_type": "stream",
     "text": [
      "              precision    recall  f1-score   support\n",
      "\n",
      "  high-level       0.89      0.74      0.81       387\n",
      "   low-level       0.92      0.97      0.94      1140\n",
      "\n",
      "    accuracy                           0.91      1527\n",
      "   macro avg       0.90      0.85      0.87      1527\n",
      "weighted avg       0.91      0.91      0.91      1527\n",
      "\n"
     ]
    }
   ],
   "source": [
    "print(classification_report(train_label, train_pred_nn, target_names=class_names))"
   ]
  },
  {
   "cell_type": "code",
   "execution_count": 48,
   "id": "447433a4-f77b-4d01-a4f2-f0c7884505ae",
   "metadata": {},
   "outputs": [
    {
     "name": "stdout",
     "output_type": "stream",
     "text": [
      "              precision    recall  f1-score   support\n",
      "\n",
      "  high-level       0.90      0.73      0.81       129\n",
      "   low-level       0.91      0.97      0.94       381\n",
      "\n",
      "    accuracy                           0.91       510\n",
      "   macro avg       0.91      0.85      0.87       510\n",
      "weighted avg       0.91      0.91      0.91       510\n",
      "\n"
     ]
    }
   ],
   "source": [
    "print(classification_report(test_label, test_pred_nn, target_names=class_names))"
   ]
  },
  {
   "cell_type": "markdown",
   "id": "75187e28",
   "metadata": {},
   "source": [
    "### Accuracy"
   ]
  },
  {
   "cell_type": "code",
   "execution_count": 49,
   "id": "e8709f91",
   "metadata": {},
   "outputs": [
    {
     "name": "stdout",
     "output_type": "stream",
     "text": [
      "Epoch 1/120\n",
      "2/2 [==============================] - 2s 994ms/step - loss: 1.7888 - accuracy: 0.7904 - val_loss: 0.8471 - val_accuracy: 0.7561\n",
      "Epoch 2/120\n",
      "2/2 [==============================] - 0s 329ms/step - loss: 0.8223 - accuracy: 0.7380 - val_loss: 0.6969 - val_accuracy: 0.6825\n",
      "Epoch 3/120\n",
      "2/2 [==============================] - 0s 93ms/step - loss: 0.6348 - accuracy: 0.6703 - val_loss: 0.3659 - val_accuracy: 0.6465\n",
      "Epoch 4/120\n",
      "2/2 [==============================] - 0s 94ms/step - loss: 0.3294 - accuracy: 0.6332 - val_loss: 0.3238 - val_accuracy: 0.6170\n",
      "Epoch 5/120\n",
      "2/2 [==============================] - 0s 91ms/step - loss: 0.3694 - accuracy: 0.6376 - val_loss: 0.4966 - val_accuracy: 0.6498\n",
      "Epoch 6/120\n",
      "2/2 [==============================] - 0s 66ms/step - loss: 0.4770 - accuracy: 0.6594 - val_loss: 0.4245 - val_accuracy: 0.6268\n",
      "Epoch 7/120\n",
      "2/2 [==============================] - 0s 57ms/step - loss: 0.3867 - accuracy: 0.6332 - val_loss: 0.3128 - val_accuracy: 0.6056\n",
      "Epoch 8/120\n",
      "2/2 [==============================] - 0s 58ms/step - loss: 0.3083 - accuracy: 0.5928 - val_loss: 0.2843 - val_accuracy: 0.6039\n",
      "Epoch 9/120\n",
      "2/2 [==============================] - 0s 62ms/step - loss: 0.2829 - accuracy: 0.6201 - val_loss: 0.2507 - val_accuracy: 0.6628\n",
      "Epoch 10/120\n",
      "2/2 [==============================] - 0s 56ms/step - loss: 0.2375 - accuracy: 0.6714 - val_loss: 0.2050 - val_accuracy: 0.6907\n",
      "Epoch 11/120\n",
      "2/2 [==============================] - 0s 66ms/step - loss: 0.1949 - accuracy: 0.6943 - val_loss: 0.2085 - val_accuracy: 0.7021\n",
      "Epoch 12/120\n",
      "2/2 [==============================] - 0s 71ms/step - loss: 0.1954 - accuracy: 0.7205 - val_loss: 0.2291 - val_accuracy: 0.7119\n",
      "Epoch 13/120\n",
      "2/2 [==============================] - 0s 62ms/step - loss: 0.2072 - accuracy: 0.7325 - val_loss: 0.2163 - val_accuracy: 0.7185\n",
      "Epoch 14/120\n",
      "2/2 [==============================] - 0s 64ms/step - loss: 0.1887 - accuracy: 0.7566 - val_loss: 0.1875 - val_accuracy: 0.7594\n",
      "Epoch 15/120\n",
      "2/2 [==============================] - 0s 57ms/step - loss: 0.1692 - accuracy: 0.7511 - val_loss: 0.1772 - val_accuracy: 0.7496\n",
      "Epoch 16/120\n",
      "2/2 [==============================] - 0s 58ms/step - loss: 0.1655 - accuracy: 0.7402 - val_loss: 0.1723 - val_accuracy: 0.7463\n",
      "Epoch 17/120\n",
      "2/2 [==============================] - 0s 76ms/step - loss: 0.1592 - accuracy: 0.7402 - val_loss: 0.1591 - val_accuracy: 0.7545\n",
      "Epoch 18/120\n",
      "2/2 [==============================] - 0s 80ms/step - loss: 0.1429 - accuracy: 0.7653 - val_loss: 0.1551 - val_accuracy: 0.7463\n",
      "Epoch 19/120\n",
      "2/2 [==============================] - 0s 86ms/step - loss: 0.1386 - accuracy: 0.7686 - val_loss: 0.1635 - val_accuracy: 0.7087\n",
      "Epoch 20/120\n",
      "2/2 [==============================] - 0s 96ms/step - loss: 0.1426 - accuracy: 0.7631 - val_loss: 0.1633 - val_accuracy: 0.7136\n",
      "Epoch 21/120\n",
      "2/2 [==============================] - 0s 88ms/step - loss: 0.1406 - accuracy: 0.7642 - val_loss: 0.1547 - val_accuracy: 0.7201\n",
      "Epoch 22/120\n",
      "2/2 [==============================] - 0s 89ms/step - loss: 0.1364 - accuracy: 0.7751 - val_loss: 0.1509 - val_accuracy: 0.7676\n",
      "Epoch 23/120\n",
      "2/2 [==============================] - 0s 84ms/step - loss: 0.1361 - accuracy: 0.8024 - val_loss: 0.1490 - val_accuracy: 0.7872\n",
      "Epoch 24/120\n",
      "2/2 [==============================] - 0s 102ms/step - loss: 0.1335 - accuracy: 0.8079 - val_loss: 0.1464 - val_accuracy: 0.7938\n",
      "Epoch 25/120\n",
      "2/2 [==============================] - 0s 113ms/step - loss: 0.1286 - accuracy: 0.8133 - val_loss: 0.1483 - val_accuracy: 0.7840\n",
      "Epoch 26/120\n",
      "2/2 [==============================] - 0s 106ms/step - loss: 0.1274 - accuracy: 0.8210 - val_loss: 0.1488 - val_accuracy: 0.8020\n",
      "Epoch 27/120\n",
      "2/2 [==============================] - 0s 93ms/step - loss: 0.1270 - accuracy: 0.8406 - val_loss: 0.1460 - val_accuracy: 0.8036\n",
      "Epoch 28/120\n",
      "2/2 [==============================] - 0s 102ms/step - loss: 0.1251 - accuracy: 0.8253 - val_loss: 0.1417 - val_accuracy: 0.8085\n",
      "Epoch 29/120\n",
      "2/2 [==============================] - 0s 99ms/step - loss: 0.1234 - accuracy: 0.8221 - val_loss: 0.1389 - val_accuracy: 0.8069\n",
      "Epoch 30/120\n",
      "2/2 [==============================] - 0s 95ms/step - loss: 0.1213 - accuracy: 0.8253 - val_loss: 0.1392 - val_accuracy: 0.8134\n",
      "Epoch 31/120\n",
      "2/2 [==============================] - 0s 117ms/step - loss: 0.1209 - accuracy: 0.8395 - val_loss: 0.1398 - val_accuracy: 0.7971\n",
      "Epoch 32/120\n",
      "2/2 [==============================] - 0s 94ms/step - loss: 0.1200 - accuracy: 0.8297 - val_loss: 0.1361 - val_accuracy: 0.8200\n",
      "Epoch 33/120\n",
      "2/2 [==============================] - 0s 124ms/step - loss: 0.1178 - accuracy: 0.8362 - val_loss: 0.1349 - val_accuracy: 0.8183\n",
      "Epoch 34/120\n",
      "2/2 [==============================] - 0s 106ms/step - loss: 0.1171 - accuracy: 0.8352 - val_loss: 0.1348 - val_accuracy: 0.8200\n",
      "Epoch 35/120\n",
      "2/2 [==============================] - 0s 118ms/step - loss: 0.1165 - accuracy: 0.8362 - val_loss: 0.1349 - val_accuracy: 0.8167\n",
      "Epoch 36/120\n",
      "2/2 [==============================] - 0s 105ms/step - loss: 0.1157 - accuracy: 0.8330 - val_loss: 0.1343 - val_accuracy: 0.8232\n",
      "Epoch 37/120\n",
      "2/2 [==============================] - 0s 101ms/step - loss: 0.1149 - accuracy: 0.8417 - val_loss: 0.1327 - val_accuracy: 0.8265\n",
      "Epoch 38/120\n",
      "2/2 [==============================] - 0s 109ms/step - loss: 0.1138 - accuracy: 0.8450 - val_loss: 0.1306 - val_accuracy: 0.8298\n",
      "Epoch 39/120\n",
      "2/2 [==============================] - 0s 101ms/step - loss: 0.1134 - accuracy: 0.8493 - val_loss: 0.1298 - val_accuracy: 0.8282\n",
      "Epoch 40/120\n",
      "2/2 [==============================] - 0s 98ms/step - loss: 0.1128 - accuracy: 0.8483 - val_loss: 0.1293 - val_accuracy: 0.8282\n",
      "Epoch 41/120\n",
      "2/2 [==============================] - 0s 93ms/step - loss: 0.1117 - accuracy: 0.8417 - val_loss: 0.1289 - val_accuracy: 0.8249\n",
      "Epoch 42/120\n",
      "2/2 [==============================] - 0s 113ms/step - loss: 0.1110 - accuracy: 0.8428 - val_loss: 0.1287 - val_accuracy: 0.8265\n",
      "Epoch 43/120\n",
      "2/2 [==============================] - 0s 101ms/step - loss: 0.1107 - accuracy: 0.8428 - val_loss: 0.1283 - val_accuracy: 0.8216\n",
      "Epoch 44/120\n",
      "2/2 [==============================] - 0s 96ms/step - loss: 0.1101 - accuracy: 0.8417 - val_loss: 0.1273 - val_accuracy: 0.8232\n",
      "Epoch 45/120\n",
      "2/2 [==============================] - 0s 94ms/step - loss: 0.1095 - accuracy: 0.8384 - val_loss: 0.1262 - val_accuracy: 0.8183\n",
      "Epoch 46/120\n",
      "2/2 [==============================] - 0s 97ms/step - loss: 0.1096 - accuracy: 0.8330 - val_loss: 0.1255 - val_accuracy: 0.8200\n",
      "Epoch 47/120\n",
      "2/2 [==============================] - 0s 102ms/step - loss: 0.1095 - accuracy: 0.8384 - val_loss: 0.1265 - val_accuracy: 0.8200\n",
      "Epoch 48/120\n",
      "2/2 [==============================] - 0s 88ms/step - loss: 0.1083 - accuracy: 0.8493 - val_loss: 0.1253 - val_accuracy: 0.8232\n",
      "Epoch 49/120\n",
      "2/2 [==============================] - 0s 46ms/step - loss: 0.1078 - accuracy: 0.8417 - val_loss: 0.1243 - val_accuracy: 0.8200\n",
      "Epoch 50/120\n",
      "2/2 [==============================] - 0s 47ms/step - loss: 0.1074 - accuracy: 0.8493 - val_loss: 0.1247 - val_accuracy: 0.8249\n",
      "Epoch 51/120\n",
      "2/2 [==============================] - 0s 47ms/step - loss: 0.1066 - accuracy: 0.8515 - val_loss: 0.1252 - val_accuracy: 0.8216\n",
      "Epoch 52/120\n",
      "2/2 [==============================] - 0s 55ms/step - loss: 0.1061 - accuracy: 0.8592 - val_loss: 0.1240 - val_accuracy: 0.8216\n",
      "Epoch 53/120\n",
      "2/2 [==============================] - 0s 52ms/step - loss: 0.1055 - accuracy: 0.8624 - val_loss: 0.1231 - val_accuracy: 0.8183\n",
      "Epoch 54/120\n",
      "2/2 [==============================] - 0s 53ms/step - loss: 0.1051 - accuracy: 0.8548 - val_loss: 0.1223 - val_accuracy: 0.8249\n",
      "Epoch 55/120\n",
      "2/2 [==============================] - 0s 48ms/step - loss: 0.1046 - accuracy: 0.8559 - val_loss: 0.1224 - val_accuracy: 0.8200\n",
      "Epoch 56/120\n",
      "2/2 [==============================] - 0s 55ms/step - loss: 0.1037 - accuracy: 0.8603 - val_loss: 0.1237 - val_accuracy: 0.8265\n",
      "Epoch 57/120\n",
      "2/2 [==============================] - 0s 51ms/step - loss: 0.1038 - accuracy: 0.8570 - val_loss: 0.1234 - val_accuracy: 0.8265\n",
      "Epoch 58/120\n",
      "2/2 [==============================] - 0s 51ms/step - loss: 0.1027 - accuracy: 0.8581 - val_loss: 0.1212 - val_accuracy: 0.8265\n",
      "Epoch 59/120\n"
     ]
    },
    {
     "name": "stdout",
     "output_type": "stream",
     "text": [
      "2/2 [==============================] - 0s 49ms/step - loss: 0.1028 - accuracy: 0.8592 - val_loss: 0.1204 - val_accuracy: 0.8363\n",
      "Epoch 60/120\n",
      "2/2 [==============================] - 0s 46ms/step - loss: 0.1014 - accuracy: 0.8581 - val_loss: 0.1217 - val_accuracy: 0.8347\n",
      "Epoch 61/120\n",
      "2/2 [==============================] - 0s 54ms/step - loss: 0.1013 - accuracy: 0.8603 - val_loss: 0.1202 - val_accuracy: 0.8396\n",
      "Epoch 62/120\n",
      "2/2 [==============================] - 0s 52ms/step - loss: 0.1001 - accuracy: 0.8657 - val_loss: 0.1191 - val_accuracy: 0.8445\n",
      "Epoch 63/120\n",
      "2/2 [==============================] - 0s 57ms/step - loss: 0.0992 - accuracy: 0.8624 - val_loss: 0.1182 - val_accuracy: 0.8494\n",
      "Epoch 64/120\n",
      "2/2 [==============================] - 0s 52ms/step - loss: 0.0981 - accuracy: 0.8723 - val_loss: 0.1176 - val_accuracy: 0.8445\n",
      "Epoch 65/120\n",
      "2/2 [==============================] - 0s 53ms/step - loss: 0.0975 - accuracy: 0.8799 - val_loss: 0.1163 - val_accuracy: 0.8363\n",
      "Epoch 66/120\n",
      "2/2 [==============================] - 0s 52ms/step - loss: 0.0970 - accuracy: 0.8799 - val_loss: 0.1153 - val_accuracy: 0.8511\n",
      "Epoch 67/120\n",
      "2/2 [==============================] - 0s 47ms/step - loss: 0.0953 - accuracy: 0.8788 - val_loss: 0.1157 - val_accuracy: 0.8429\n",
      "Epoch 68/120\n",
      "2/2 [==============================] - 0s 49ms/step - loss: 0.0946 - accuracy: 0.8821 - val_loss: 0.1145 - val_accuracy: 0.8462\n",
      "Epoch 69/120\n",
      "2/2 [==============================] - 0s 52ms/step - loss: 0.0937 - accuracy: 0.8832 - val_loss: 0.1129 - val_accuracy: 0.8560\n",
      "Epoch 70/120\n",
      "2/2 [==============================] - 0s 53ms/step - loss: 0.0930 - accuracy: 0.8810 - val_loss: 0.1122 - val_accuracy: 0.8445\n",
      "Epoch 71/120\n",
      "2/2 [==============================] - 0s 50ms/step - loss: 0.0920 - accuracy: 0.8865 - val_loss: 0.1118 - val_accuracy: 0.8445\n",
      "Epoch 72/120\n",
      "2/2 [==============================] - 0s 52ms/step - loss: 0.0917 - accuracy: 0.8876 - val_loss: 0.1108 - val_accuracy: 0.8658\n",
      "Epoch 73/120\n",
      "2/2 [==============================] - 0s 54ms/step - loss: 0.0910 - accuracy: 0.8788 - val_loss: 0.1106 - val_accuracy: 0.8462\n",
      "Epoch 74/120\n",
      "2/2 [==============================] - 0s 46ms/step - loss: 0.0899 - accuracy: 0.8897 - val_loss: 0.1091 - val_accuracy: 0.8674\n",
      "Epoch 75/120\n",
      "2/2 [==============================] - 0s 51ms/step - loss: 0.0895 - accuracy: 0.8832 - val_loss: 0.1084 - val_accuracy: 0.8609\n",
      "Epoch 76/120\n",
      "2/2 [==============================] - 0s 49ms/step - loss: 0.0885 - accuracy: 0.8865 - val_loss: 0.1087 - val_accuracy: 0.8511\n",
      "Epoch 77/120\n",
      "2/2 [==============================] - 0s 51ms/step - loss: 0.0883 - accuracy: 0.8886 - val_loss: 0.1069 - val_accuracy: 0.8592\n",
      "Epoch 78/120\n",
      "2/2 [==============================] - 0s 54ms/step - loss: 0.0874 - accuracy: 0.8908 - val_loss: 0.1064 - val_accuracy: 0.8691\n",
      "Epoch 79/120\n",
      "2/2 [==============================] - 0s 53ms/step - loss: 0.0870 - accuracy: 0.8876 - val_loss: 0.1062 - val_accuracy: 0.8527\n",
      "Epoch 80/120\n",
      "2/2 [==============================] - 0s 52ms/step - loss: 0.0866 - accuracy: 0.8876 - val_loss: 0.1058 - val_accuracy: 0.8560\n",
      "Epoch 81/120\n",
      "2/2 [==============================] - 0s 53ms/step - loss: 0.0871 - accuracy: 0.8886 - val_loss: 0.1049 - val_accuracy: 0.8740\n",
      "Epoch 82/120\n",
      "2/2 [==============================] - 0s 54ms/step - loss: 0.0858 - accuracy: 0.8897 - val_loss: 0.1044 - val_accuracy: 0.8773\n",
      "Epoch 83/120\n",
      "2/2 [==============================] - 0s 53ms/step - loss: 0.0858 - accuracy: 0.8886 - val_loss: 0.1041 - val_accuracy: 0.8576\n",
      "Epoch 84/120\n",
      "2/2 [==============================] - 0s 46ms/step - loss: 0.0854 - accuracy: 0.8897 - val_loss: 0.1031 - val_accuracy: 0.8691\n",
      "Epoch 85/120\n",
      "2/2 [==============================] - 0s 47ms/step - loss: 0.0843 - accuracy: 0.8941 - val_loss: 0.1027 - val_accuracy: 0.8723\n",
      "Epoch 86/120\n",
      "2/2 [==============================] - 0s 54ms/step - loss: 0.0842 - accuracy: 0.8941 - val_loss: 0.1023 - val_accuracy: 0.8773\n",
      "Epoch 87/120\n",
      "2/2 [==============================] - 0s 55ms/step - loss: 0.0836 - accuracy: 0.8919 - val_loss: 0.1020 - val_accuracy: 0.8740\n",
      "Epoch 88/120\n",
      "2/2 [==============================] - 0s 54ms/step - loss: 0.0843 - accuracy: 0.8854 - val_loss: 0.1016 - val_accuracy: 0.8822\n",
      "Epoch 89/120\n",
      "2/2 [==============================] - 0s 60ms/step - loss: 0.0835 - accuracy: 0.8854 - val_loss: 0.1014 - val_accuracy: 0.8838\n",
      "Epoch 90/120\n",
      "2/2 [==============================] - 0s 58ms/step - loss: 0.0828 - accuracy: 0.8908 - val_loss: 0.1017 - val_accuracy: 0.8723\n",
      "Epoch 91/120\n",
      "2/2 [==============================] - 0s 54ms/step - loss: 0.0831 - accuracy: 0.8963 - val_loss: 0.1010 - val_accuracy: 0.8838\n",
      "Epoch 92/120\n",
      "2/2 [==============================] - 0s 40ms/step - loss: 0.0833 - accuracy: 0.8876 - val_loss: 0.1004 - val_accuracy: 0.8822\n",
      "Epoch 93/120\n",
      "2/2 [==============================] - 0s 41ms/step - loss: 0.0821 - accuracy: 0.8963 - val_loss: 0.1016 - val_accuracy: 0.8691\n",
      "Epoch 94/120\n",
      "2/2 [==============================] - 0s 49ms/step - loss: 0.0831 - accuracy: 0.8963 - val_loss: 0.1001 - val_accuracy: 0.8805\n",
      "Epoch 95/120\n",
      "2/2 [==============================] - 0s 51ms/step - loss: 0.0822 - accuracy: 0.8897 - val_loss: 0.0999 - val_accuracy: 0.8822\n",
      "Epoch 96/120\n",
      "2/2 [==============================] - 0s 52ms/step - loss: 0.0818 - accuracy: 0.8941 - val_loss: 0.0995 - val_accuracy: 0.8838\n",
      "Epoch 97/120\n",
      "2/2 [==============================] - 0s 47ms/step - loss: 0.0813 - accuracy: 0.8930 - val_loss: 0.0996 - val_accuracy: 0.8773\n",
      "Epoch 98/120\n",
      "2/2 [==============================] - 0s 50ms/step - loss: 0.0816 - accuracy: 0.8963 - val_loss: 0.0992 - val_accuracy: 0.8822\n",
      "Epoch 99/120\n",
      "2/2 [==============================] - 0s 52ms/step - loss: 0.0813 - accuracy: 0.8919 - val_loss: 0.0994 - val_accuracy: 0.8822\n",
      "Epoch 100/120\n",
      "2/2 [==============================] - 0s 59ms/step - loss: 0.0816 - accuracy: 0.8963 - val_loss: 0.0997 - val_accuracy: 0.8822\n",
      "Epoch 101/120\n",
      "2/2 [==============================] - 0s 57ms/step - loss: 0.0816 - accuracy: 0.8974 - val_loss: 0.0996 - val_accuracy: 0.8822\n",
      "Epoch 102/120\n",
      "2/2 [==============================] - 0s 50ms/step - loss: 0.0807 - accuracy: 0.8919 - val_loss: 0.1001 - val_accuracy: 0.8789\n",
      "Epoch 103/120\n",
      "2/2 [==============================] - 0s 49ms/step - loss: 0.0814 - accuracy: 0.8985 - val_loss: 0.0984 - val_accuracy: 0.8838\n",
      "Epoch 104/120\n",
      "2/2 [==============================] - 0s 57ms/step - loss: 0.0804 - accuracy: 0.8952 - val_loss: 0.0985 - val_accuracy: 0.8838\n",
      "Epoch 105/120\n",
      "2/2 [==============================] - 0s 54ms/step - loss: 0.0802 - accuracy: 0.8963 - val_loss: 0.0988 - val_accuracy: 0.8838\n",
      "Epoch 106/120\n",
      "2/2 [==============================] - 0s 58ms/step - loss: 0.0805 - accuracy: 0.9007 - val_loss: 0.0991 - val_accuracy: 0.8838\n",
      "Epoch 107/120\n",
      "2/2 [==============================] - 0s 55ms/step - loss: 0.0803 - accuracy: 0.8930 - val_loss: 0.0986 - val_accuracy: 0.8838\n",
      "Epoch 108/120\n",
      "2/2 [==============================] - 0s 49ms/step - loss: 0.0798 - accuracy: 0.8919 - val_loss: 0.0989 - val_accuracy: 0.8822\n",
      "Epoch 109/120\n",
      "2/2 [==============================] - 0s 50ms/step - loss: 0.0800 - accuracy: 0.9007 - val_loss: 0.0982 - val_accuracy: 0.8838\n",
      "Epoch 110/120\n",
      "2/2 [==============================] - 0s 57ms/step - loss: 0.0801 - accuracy: 0.8952 - val_loss: 0.0983 - val_accuracy: 0.8871\n",
      "Epoch 111/120\n",
      "2/2 [==============================] - 0s 53ms/step - loss: 0.0797 - accuracy: 0.8974 - val_loss: 0.0988 - val_accuracy: 0.8789\n",
      "Epoch 112/120\n",
      "2/2 [==============================] - 0s 52ms/step - loss: 0.0795 - accuracy: 0.8963 - val_loss: 0.0990 - val_accuracy: 0.8903\n",
      "Epoch 113/120\n",
      "2/2 [==============================] - 0s 55ms/step - loss: 0.0800 - accuracy: 0.8952 - val_loss: 0.0985 - val_accuracy: 0.8838\n",
      "Epoch 114/120\n",
      "2/2 [==============================] - 0s 56ms/step - loss: 0.0794 - accuracy: 0.8974 - val_loss: 0.0981 - val_accuracy: 0.8871\n",
      "Epoch 115/120\n",
      "2/2 [==============================] - 0s 86ms/step - loss: 0.0788 - accuracy: 0.9017 - val_loss: 0.0985 - val_accuracy: 0.8789\n",
      "Epoch 116/120\n",
      "2/2 [==============================] - 0s 92ms/step - loss: 0.0790 - accuracy: 0.9007 - val_loss: 0.0982 - val_accuracy: 0.8838\n",
      "Epoch 117/120\n"
     ]
    },
    {
     "name": "stdout",
     "output_type": "stream",
     "text": [
      "2/2 [==============================] - 0s 121ms/step - loss: 0.0791 - accuracy: 0.8985 - val_loss: 0.0984 - val_accuracy: 0.8854\n",
      "Epoch 118/120\n",
      "2/2 [==============================] - 0s 68ms/step - loss: 0.0793 - accuracy: 0.8985 - val_loss: 0.0991 - val_accuracy: 0.8789\n",
      "Epoch 119/120\n",
      "2/2 [==============================] - 0s 44ms/step - loss: 0.0798 - accuracy: 0.8985 - val_loss: 0.0988 - val_accuracy: 0.8903\n",
      "Epoch 120/120\n",
      "2/2 [==============================] - 0s 47ms/step - loss: 0.0802 - accuracy: 0.8919 - val_loss: 0.0987 - val_accuracy: 0.8756\n"
     ]
    }
   ],
   "source": [
    "test=best_model.best_estimator_\n",
    "history=test.fit(train_set, train_label,\n",
    "                    epochs=120,\n",
    "                    batch_size=500,\n",
    "                    validation_split=0.4)"
   ]
  },
  {
   "cell_type": "markdown",
   "id": "e121cc83",
   "metadata": {},
   "source": [
    "### Print accuracy of best models"
   ]
  },
  {
   "cell_type": "code",
   "execution_count": 50,
   "id": "69879f91",
   "metadata": {},
   "outputs": [
    {
     "name": "stderr",
     "output_type": "stream",
     "text": [
      "<ipython-input-50-6ee03a03cdca>:4: UserWarning: color is redundantly defined by the 'color' keyword argument and the fmt string \"b\" (-> color=(0.0, 0.0, 1.0, 1)). The keyword argument will take precedence.\n",
      "  plt.plot(epochs, acc, 'b', label='Training Accuracy', c='r')\n",
      "<ipython-input-50-6ee03a03cdca>:5: UserWarning: color is redundantly defined by the 'color' keyword argument and the fmt string \"b\" (-> color=(0.0, 0.0, 1.0, 1)). The keyword argument will take precedence.\n",
      "  plt.plot(epochs, val_acc, 'b', label='Validation Accuracy', c='b')\n"
     ]
    },
    {
     "data": {
      "image/png": "[encoded data removed]",
      "text/plain": [
       "<Figure size 432x288 with 1 Axes>"
      ]
     },
     "metadata": {
      "needs_background": "light"
     },
     "output_type": "display_data"
    }
   ],
   "source": [
    "acc = history.history['accuracy']\n",
    "val_acc = history.history['val_accuracy']\n",
    "epochs = range(1, len(acc) + 1)\n",
    "plt.plot(epochs, acc, 'b', label='Training Accuracy', c='r')\n",
    "plt.plot(epochs, val_acc, 'b', label='Validation Accuracy', c='b')\n",
    "plt.title('Training and validation Acc')\n",
    "plt.xlabel('Epochs')\n",
    "plt.ylabel('Accuracy')\n",
    "plt.legend()\n",
    "plt.show()"
   ]
  },
  {
   "cell_type": "markdown",
   "id": "bcf38e2a",
   "metadata": {},
   "source": [
    "### Print accuracy of best models"
   ]
  },
  {
   "cell_type": "code",
   "execution_count": 51,
   "id": "343dab13",
   "metadata": {},
   "outputs": [
    {
     "name": "stderr",
     "output_type": "stream",
     "text": [
      "<ipython-input-51-273a95ade490>:4: UserWarning: color is redundantly defined by the 'color' keyword argument and the fmt string \"b\" (-> color=(0.0, 0.0, 1.0, 1)). The keyword argument will take precedence.\n",
      "  plt.plot(epochs, loss, 'b', label='Training Loss', c='r')\n",
      "<ipython-input-51-273a95ade490>:5: UserWarning: color is redundantly defined by the 'color' keyword argument and the fmt string \"b\" (-> color=(0.0, 0.0, 1.0, 1)). The keyword argument will take precedence.\n",
      "  plt.plot(epochs, val_loss, 'b', label='Validation Loss', c='b')\n"
     ]
    },
    {
     "data": {
      "image/png": "[encoded data removed]",
      "text/plain": [
       "<Figure size 432x288 with 1 Axes>"
      ]
     },
     "metadata": {
      "needs_background": "light"
     },
     "output_type": "display_data"
    }
   ],
   "source": [
    "loss = history.history['loss']\n",
    "val_loss = history.history['val_loss']\n",
    "epochs = range(1, len(acc) + 1)\n",
    "plt.plot(epochs, loss, 'b', label='Training Loss', c='r')\n",
    "plt.plot(epochs, val_loss, 'b', label='Validation Loss', c='b')\n",
    "plt.title('Training and validation Loss')\n",
    "plt.xlabel('Epochs')\n",
    "plt.ylabel('Loss')\n",
    "plt.legend()\n",
    "plt.show()"
   ]
  },
  {
   "cell_type": "markdown",
   "id": "conservative-sterling",
   "metadata": {},
   "source": [
    "# KNN"
   ]
  },
  {
   "cell_type": "code",
   "execution_count": 52,
   "id": "ecological-lightweight",
   "metadata": {},
   "outputs": [],
   "source": [
    "from sklearn.neighbors import KNeighborsClassifier\n",
    "from sklearn.preprocessing import MinMaxScaler"
   ]
  },
  {
   "cell_type": "code",
   "execution_count": 53,
   "id": "relevant-corpus",
   "metadata": {},
   "outputs": [],
   "source": [
    "train_set_no_cat = train_set.loc[:,~train_set.columns.str.contains('_num', case=False)] \n",
    "test_set_no_cat = test_set.loc[:,~test_set.columns.str.contains('_num', case=False)] \n",
    "\n",
    "k = math.sqrt(len(train_set))\n",
    "k = round(k, 0)\n",
    "k = int(k)\n",
    "k = k - 10\n",
    "k_range = []\n",
    "for i in range(0,20):\n",
    "    k_range.append(k)\n",
    "    k = k + 1"
   ]
  },
  {
   "cell_type": "code",
   "execution_count": 54,
   "id": "million-liechtenstein",
   "metadata": {},
   "outputs": [],
   "source": [
    "knn_param_grid = {\n",
    "    'n_neighbors': k_range,\n",
    "    'metric': ['euclidean', 'manhattan'],\n",
    "    'algorithm': ['ball_tree', 'kd_tree', 'brute'],\n",
    "    'weights': ['uniform', 'distance']\n",
    "            }\n",
    "\n",
    "knn_grid = GridSearchCV(KNeighborsClassifier(), knn_param_grid, cv=10, scoring=make_scorer(f1_score))"
   ]
  },
  {
   "cell_type": "code",
   "execution_count": 55,
   "id": "invisible-means",
   "metadata": {},
   "outputs": [
    {
     "data": {
      "text/plain": [
       "GridSearchCV(cv=10, estimator=KNeighborsClassifier(),\n",
       "             param_grid={'algorithm': ['ball_tree', 'kd_tree', 'brute'],\n",
       "                         'metric': ['euclidean', 'manhattan'],\n",
       "                         'n_neighbors': [29, 30, 31, 32, 33, 34, 35, 36, 37, 38,\n",
       "                                         39, 40, 41, 42, 43, 44, 45, 46, 47,\n",
       "                                         48],\n",
       "                         'weights': ['uniform', 'distance']},\n",
       "             scoring=make_scorer(f1_score))"
      ]
     },
     "execution_count": 55,
     "metadata": {},
     "output_type": "execute_result"
    }
   ],
   "source": [
    "knn_grid.fit(train_set_no_cat, train_label)"
   ]
  },
  {
   "cell_type": "code",
   "execution_count": 56,
   "id": "pending-conservative",
   "metadata": {},
   "outputs": [],
   "source": [
    "train_pred_knn = knn_grid.predict(train_set_no_cat)\n",
    "test_pred_knn = knn_grid.predict(test_set_no_cat)"
   ]
  },
  {
   "cell_type": "code",
   "execution_count": 57,
   "id": "animal-invite",
   "metadata": {},
   "outputs": [
    {
     "name": "stdout",
     "output_type": "stream",
     "text": [
      "              precision    recall  f1-score   support\n",
      "\n",
      "  high-level       1.00      1.00      1.00       387\n",
      "   low-level       1.00      1.00      1.00      1140\n",
      "\n",
      "    accuracy                           1.00      1527\n",
      "   macro avg       1.00      1.00      1.00      1527\n",
      "weighted avg       1.00      1.00      1.00      1527\n",
      "\n"
     ]
    }
   ],
   "source": [
    "print(classification_report(train_label, train_pred_knn, target_names=class_names))"
   ]
  },
  {
   "cell_type": "code",
   "execution_count": 58,
   "id": "optimum-parts",
   "metadata": {},
   "outputs": [
    {
     "name": "stdout",
     "output_type": "stream",
     "text": [
      "              precision    recall  f1-score   support\n",
      "\n",
      "  high-level       0.85      0.71      0.78       129\n",
      "   low-level       0.91      0.96      0.93       381\n",
      "\n",
      "    accuracy                           0.90       510\n",
      "   macro avg       0.88      0.84      0.85       510\n",
      "weighted avg       0.89      0.90      0.89       510\n",
      "\n"
     ]
    }
   ],
   "source": [
    "print(classification_report(test_label, test_pred_knn, target_names=class_names))"
   ]
  },
  {
   "cell_type": "markdown",
   "id": "sensitive-functionality",
   "metadata": {},
   "source": [
    "## SVM"
   ]
  },
  {
   "cell_type": "code",
   "execution_count": 59,
   "id": "tired-kitty",
   "metadata": {},
   "outputs": [],
   "source": [
    "from sklearn.svm import SVC"
   ]
  },
  {
   "cell_type": "code",
   "execution_count": 60,
   "id": "defined-editor",
   "metadata": {},
   "outputs": [],
   "source": [
    "svm_param_grid = {\n",
    "    'C' : [0.5, 2.0],\n",
    "    'kernel' : ['rbf', 'linear'] \n",
    "    }\n",
    "svm_grid = GridSearchCV(SVC(probability=True), svm_param_grid, n_jobs=10, cv=10, scoring=make_scorer(f1_score))"
   ]
  },
  {
   "cell_type": "code",
   "execution_count": 61,
   "id": "through-judge",
   "metadata": {},
   "outputs": [
    {
     "data": {
      "text/plain": [
       "GridSearchCV(cv=10, estimator=SVC(probability=True), n_jobs=10,\n",
       "             param_grid={'C': [0.5, 2.0], 'kernel': ['rbf', 'linear']},\n",
       "             scoring=make_scorer(f1_score))"
      ]
     },
     "execution_count": 61,
     "metadata": {},
     "output_type": "execute_result"
    }
   ],
   "source": [
    "svm_grid.fit(train_set, train_label)"
   ]
  },
  {
   "cell_type": "code",
   "execution_count": 62,
   "id": "terminal-hypothetical",
   "metadata": {},
   "outputs": [],
   "source": [
    "train_pred_svm = svm_grid.predict(train_set)\n",
    "test_pred_svm = svm_grid.predict(test_set)"
   ]
  },
  {
   "cell_type": "code",
   "execution_count": 63,
   "id": "effective-signature",
   "metadata": {},
   "outputs": [
    {
     "name": "stdout",
     "output_type": "stream",
     "text": [
      "---TRAIN report:---\n",
      "               precision    recall  f1-score   support\n",
      "\n",
      "  high-level       0.87      0.85      0.86       387\n",
      "   low-level       0.95      0.96      0.95      1140\n",
      "\n",
      "    accuracy                           0.93      1527\n",
      "   macro avg       0.91      0.90      0.91      1527\n",
      "weighted avg       0.93      0.93      0.93      1527\n",
      "\n",
      "---TEST report:---\n",
      "               precision    recall  f1-score   support\n",
      "\n",
      "  high-level       0.88      0.87      0.88       129\n",
      "   low-level       0.96      0.96      0.96       381\n",
      "\n",
      "    accuracy                           0.94       510\n",
      "   macro avg       0.92      0.91      0.92       510\n",
      "weighted avg       0.94      0.94      0.94       510\n",
      "\n"
     ]
    }
   ],
   "source": [
    "print('---TRAIN report:---\\n', classification_report(train_label, train_pred_svm, target_names=class_names))\n",
    "print('---TEST report:---\\n',classification_report(test_label, test_pred_svm, target_names=class_names))"
   ]
  },
  {
   "cell_type": "code",
   "execution_count": 64,
   "id": "refined-entrance",
   "metadata": {},
   "outputs": [
    {
     "data": {
      "image/png": "[encoded data removed]",
      "text/plain": [
       "<Figure size 432x288 with 2 Axes>"
      ]
     },
     "metadata": {
      "needs_background": "light"
     },
     "output_type": "display_data"
    }
   ],
   "source": [
    "cm = confusion_matrix(test_label, test_pred_svm)\n",
    "plot_confusion_matrix(svm_grid, test_set, test_label)\n",
    "plt.show() "
   ]
  },
  {
   "cell_type": "code",
   "execution_count": 65,
   "id": "static-science",
   "metadata": {},
   "outputs": [
    {
     "data": {
      "text/plain": [
       "<AxesSubplot:title={'center':'ROC Curves'}, xlabel='False Positive Rate', ylabel='True Positive Rate'>"
      ]
     },
     "execution_count": 65,
     "metadata": {},
     "output_type": "execute_result"
    },
    {
     "data": {
      "image/png": "[encoded data removed]",
      "text/plain": [
       "<Figure size 432x288 with 1 Axes>"
      ]
     },
     "metadata": {
      "needs_background": "light"
     },
     "output_type": "display_data"
    }
   ],
   "source": [
    "test_pred_proba_svm = svm_grid.predict_proba(test_set)\n",
    "skplt.metrics.plot_roc(test_label, test_pred_proba_svm)"
   ]
  },
  {
   "cell_type": "markdown",
   "id": "coordinated-segment",
   "metadata": {},
   "source": [
    "## Rule Based Classifier"
   ]
  },
  {
   "cell_type": "code",
   "execution_count": 66,
   "id": "warming-spoke",
   "metadata": {},
   "outputs": [],
   "source": [
    "import wittgenstein as lw\n",
    "param_grid = {\n",
    "    \"prune_size\": [0.1, 0.2, 0.5, 0.6], \n",
    "    \"k\": [1, 3, 7, 10]\n",
    "}\n",
    "rb_grid = GridSearchCV(lw.RIPPER(), param_grid=param_grid, n_jobs=10)"
   ]
  },
  {
   "cell_type": "code",
   "execution_count": 67,
   "id": "dramatic-throat",
   "metadata": {},
   "outputs": [
    {
     "data": {
      "text/plain": [
       "GridSearchCV(estimator=<RIPPER(dl_allowance=64, max_total_conds=None, verbosity=0, prune_size=0.33, n_discretize_bins=10, random_state=None, max_rule_conds=None, max_rules=None, k=2)>,\n",
       "             n_jobs=10,\n",
       "             param_grid={'k': [1, 3, 7, 10],\n",
       "                         'prune_size': [0.1, 0.2, 0.5, 0.6]})"
      ]
     },
     "execution_count": 67,
     "metadata": {},
     "output_type": "execute_result"
    }
   ],
   "source": [
    "rb_grid.fit(train_set, train_label)"
   ]
  },
  {
   "cell_type": "code",
   "execution_count": 68,
   "id": "expressed-turner",
   "metadata": {},
   "outputs": [
    {
     "name": "stdout",
     "output_type": "stream",
     "text": [
      "[[hand_num=2 ^ gender_num=1] V\n",
      "[hand_num=2 ^ perc_v_ace=<1.52] V\n",
      "[ratio_2020-2021=<0.25 ^ ratio_2016-2019=0.3-0.39 ^ gender_num=1] V\n",
      "[ratio_2020-2021=<0.25 ^ ratio_2016-2019=<0.3] V\n",
      "[perc_v_ace=1.52-2.27] V\n",
      "[ratio=0.41-0.45 ^ gender_num=0] V\n",
      "[ratio_2020-2021=<0.25 ^ bpFaced=118.0-190.2] V\n",
      "[perc_v_1stwon=34.78-45.32] V\n",
      "[bpFaced=306.8-455.0 ^ gender_num=0] V\n",
      "[ratio_2020-2021=<0.25 ^ bpFaced=<118.0] V\n",
      "[bpFaced=306.8-455.0] V\n",
      "[bpFaced=190.2-306.8 ^ gender_num=1] V\n",
      "[bpFaced=957.6-1306.2 ^ perc_v_1stwon=45.32-55.8] V\n",
      "[num_matches_2016-2019=<13.0] V\n",
      "[minutes=65.05-74.91 ^ num_matches_2016-2019=119.0-157.2] V\n",
      "[num_matches_2016-2019=119.0-157.2 ^ ioc_num=39.0-44.0] V\n",
      "[perc_v_ace=<1.52] V\n",
      "[perc_v_1stwon=24.21-34.78]]\n"
     ]
    }
   ],
   "source": [
    "rb = rb_grid.best_estimator_\n",
    "rb.out_model()"
   ]
  },
  {
   "cell_type": "code",
   "execution_count": 69,
   "id": "oriented-dylan",
   "metadata": {},
   "outputs": [
    {
     "name": "stdout",
     "output_type": "stream",
     "text": [
      "---TRAIN report:---\n",
      "               precision    recall  f1-score   support\n",
      "\n",
      "  high-level       0.66      0.94      0.78       387\n",
      "   low-level       0.98      0.84      0.90      1140\n",
      "\n",
      "    accuracy                           0.86      1527\n",
      "   macro avg       0.82      0.89      0.84      1527\n",
      "weighted avg       0.90      0.86      0.87      1527\n",
      "\n",
      "---TEST report:---\n",
      "               precision    recall  f1-score   support\n",
      "\n",
      "  high-level       0.62      0.93      0.75       129\n",
      "   low-level       0.97      0.81      0.88       381\n",
      "\n",
      "    accuracy                           0.84       510\n",
      "   macro avg       0.80      0.87      0.81       510\n",
      "weighted avg       0.88      0.84      0.85       510\n",
      "\n"
     ]
    }
   ],
   "source": [
    "train_pred_rb = rb_grid.predict(train_set)\n",
    "test_pred_rb = rb_grid.predict(test_set)\n",
    "print('---TRAIN report:---\\n', classification_report(train_label, train_pred_rb, target_names=class_names))\n",
    "print('---TEST report:---\\n',classification_report(test_label, test_pred_rb, target_names=class_names))"
   ]
  },
  {
   "cell_type": "markdown",
   "id": "prescription-aviation",
   "metadata": {},
   "source": [
    "## Random Forest Classifier"
   ]
  },
  {
   "cell_type": "code",
   "execution_count": 70,
   "id": "massive-species",
   "metadata": {},
   "outputs": [],
   "source": [
    "from sklearn.ensemble import RandomForestClassifier"
   ]
  },
  {
   "cell_type": "code",
   "execution_count": 71,
   "id": "portuguese-taxation",
   "metadata": {},
   "outputs": [],
   "source": [
    "param_dist = {\"max_depth\": [2,3,5,6,7,10,12,None],\n",
    "              \"max_features\": sp_randint(1, len(train_set.iloc[0]) + 1),\n",
    "              \"min_samples_split\": sp_randint(10, 51),\n",
    "              \"min_samples_leaf\": sp_randint(10, 51),\n",
    "              \"bootstrap\": [True, False],\n",
    "              \"criterion\": [\"entropy\", \"gini\"],\n",
    "              \"class_weight\":['balanced', None, {0: 0.65, 1: 0.35}]}\n",
    "\n",
    "rf_grid = RandomizedSearchCV(RandomForestClassifier(n_estimators=30), param_distributions=param_dist, \n",
    "                            n_iter=50, \n",
    "                            n_jobs=10, \n",
    "                            scoring=make_scorer(accuracy_score))\n"
   ]
  },
  {
   "cell_type": "code",
   "execution_count": 72,
   "id": "silent-belgium",
   "metadata": {},
   "outputs": [
    {
     "data": {
      "text/plain": [
       "RandomizedSearchCV(estimator=RandomForestClassifier(n_estimators=30), n_iter=50,\n",
       "                   n_jobs=10,\n",
       "                   param_distributions={'bootstrap': [True, False],\n",
       "                                        'class_weight': ['balanced', None,\n",
       "                                                         {0: 0.65, 1: 0.35}],\n",
       "                                        'criterion': ['entropy', 'gini'],\n",
       "                                        'max_depth': [2, 3, 5, 6, 7, 10, 12,\n",
       "                                                      None],\n",
       "                                        'max_features': <scipy.stats._distn_infrastructure.rv_frozen object at 0x000001A015469880>,\n",
       "                                        'min_samples_leaf': <scipy.stats._distn_infrastructure.rv_frozen object at 0x000001A015469340>,\n",
       "                                        'min_samples_split': <scipy.stats._distn_infrastructure.rv_frozen object at 0x000001A0155A6DF0>},\n",
       "                   scoring=make_scorer(accuracy_score))"
      ]
     },
     "execution_count": 72,
     "metadata": {},
     "output_type": "execute_result"
    }
   ],
   "source": [
    "#run the grid search\n",
    "rf_grid.fit(train_set, train_label)"
   ]
  },
  {
   "cell_type": "code",
   "execution_count": 73,
   "id": "noted-column",
   "metadata": {},
   "outputs": [],
   "source": [
    "train_pred_rf = rf_grid.predict(train_set)\n",
    "test_pred_rf = rf_grid.predict(test_set)"
   ]
  },
  {
   "cell_type": "code",
   "execution_count": 74,
   "id": "exempt-browser",
   "metadata": {},
   "outputs": [
    {
     "name": "stdout",
     "output_type": "stream",
     "text": [
      "---TRAIN report:---\n",
      "               precision    recall  f1-score   support\n",
      "\n",
      "  high-level       0.87      0.91      0.89       387\n",
      "   low-level       0.97      0.95      0.96      1140\n",
      "\n",
      "    accuracy                           0.94      1527\n",
      "   macro avg       0.92      0.93      0.92      1527\n",
      "weighted avg       0.94      0.94      0.94      1527\n",
      "\n",
      "---TEST report:---\n",
      "               precision    recall  f1-score   support\n",
      "\n",
      "  high-level       0.84      0.84      0.84       129\n",
      "   low-level       0.95      0.95      0.95       381\n",
      "\n",
      "    accuracy                           0.92       510\n",
      "   macro avg       0.90      0.90      0.90       510\n",
      "weighted avg       0.92      0.92      0.92       510\n",
      "\n"
     ]
    }
   ],
   "source": [
    "print('---TRAIN report:---\\n', classification_report(train_label, train_pred_rf, target_names=class_names))\n",
    "print('---TEST report:---\\n',classification_report(test_label, test_pred_rf, target_names=class_names))"
   ]
  },
  {
   "cell_type": "code",
   "execution_count": 75,
   "id": "adaptive-terror",
   "metadata": {},
   "outputs": [
    {
     "data": {
      "image/png": "[encoded data removed]",
      "text/plain": [
       "<Figure size 432x288 with 2 Axes>"
      ]
     },
     "metadata": {
      "needs_background": "light"
     },
     "output_type": "display_data"
    }
   ],
   "source": [
    "cm = confusion_matrix(test_label, test_pred_rf)\n",
    "plot_confusion_matrix(rf_grid, test_set, test_label)\n",
    "plt.show() "
   ]
  },
  {
   "cell_type": "code",
   "execution_count": 76,
   "id": "outdoor-faith",
   "metadata": {},
   "outputs": [
    {
     "data": {
      "text/plain": [
       "<AxesSubplot:title={'center':'ROC Curves'}, xlabel='False Positive Rate', ylabel='True Positive Rate'>"
      ]
     },
     "execution_count": 76,
     "metadata": {},
     "output_type": "execute_result"
    },
    {
     "data": {
      "image/png": "[encoded data removed]",
      "text/plain": [
       "<Figure size 432x288 with 1 Axes>"
      ]
     },
     "metadata": {
      "needs_background": "light"
     },
     "output_type": "display_data"
    }
   ],
   "source": [
    "test_pred_proba_rf = rf_grid.predict_proba(test_set)\n",
    "skplt.metrics.plot_roc(test_label, test_pred_proba_rf)"
   ]
  },
  {
   "cell_type": "markdown",
   "id": "velvet-commander",
   "metadata": {},
   "source": [
    "## Global models evaluation"
   ]
  },
  {
   "cell_type": "markdown",
   "id": "frozen-ground",
   "metadata": {},
   "source": [
    "Compare results on test set of each model obtained with grid search"
   ]
  },
  {
   "cell_type": "code",
   "execution_count": 79,
   "id": "electric-mistake",
   "metadata": {},
   "outputs": [
    {
     "data": {
      "text/plain": [
       "<matplotlib.legend.Legend at 0x1a0158288e0>"
      ]
     },
     "execution_count": 79,
     "metadata": {},
     "output_type": "execute_result"
    },
    {
     "data": {
      "image/png": "[encoded data removed]",
      "text/plain": [
       "<Figure size 432x288 with 1 Axes>"
      ]
     },
     "metadata": {
      "needs_background": "light"
     },
     "output_type": "display_data"
    }
   ],
   "source": [
    "## aggiungi gli altri modelli sotto \n",
    "\n",
    "#decision tree \n",
    "fpr, tpr, thresh = metrics.roc_curve(test_label, test_pred_dt)\n",
    "auc = metrics.roc_auc_score(test_label, test_pred_dt)\n",
    "plt.plot(fpr,tpr,label=\"DecisionTree, auc=\"+str(auc))\n",
    "\n",
    "#bayesian classifier\n",
    "fpr, tpr, thresh = metrics.roc_curve(test_label, test_pred_gnb)\n",
    "auc = metrics.roc_auc_score(test_label, test_pred_gnb)\n",
    "plt.plot(fpr,tpr,label=\"Naive Bayes, auc=\"+str(auc))\n",
    "\n",
    "#neural network\n",
    "fpr, tpr, thresh = metrics.roc_curve(test_label, test_pred_nn)\n",
    "auc = metrics.roc_auc_score(test_label, test_pred_nn)\n",
    "plt.plot(fpr,tpr,label=\"NeuralNetwork, auc=\"+str(auc))\n",
    "\n",
    "#KNN\n",
    "fpr, tpr, thresh = metrics.roc_curve(test_label, test_pred_knn)\n",
    "auc = metrics.roc_auc_score(test_label, test_pred_knn)\n",
    "plt.plot(fpr,tpr,label=\"KNN, auc=\"+str(auc))\n",
    "\n",
    "#SVM\n",
    "fpr, tpr, thresh = metrics.roc_curve(test_label, test_pred_svm)\n",
    "auc = metrics.roc_auc_score(test_label, test_pred_svm)\n",
    "plt.plot(fpr,tpr,label=\"SVM, auc=\"+str(auc))\n",
    "\n",
    "#Rule Based Classifier\n",
    "fpr, tpr, thresh = metrics.roc_curve(test_label, test_pred_rb)\n",
    "auc = metrics.roc_auc_score(test_label, test_pred_rb)\n",
    "plt.plot(fpr,tpr,label=\"RuleBasedClassifier, auc=\"+str(auc))\n",
    "\n",
    "#RandomForest\n",
    "fpr, tpr, thresh = metrics.roc_curve(test_label, test_pred_rf)\n",
    "auc = metrics.roc_auc_score(test_label, test_pred_rf)\n",
    "plt.plot(fpr,tpr,label=\"RandomForest, auc=\"+str(auc))\n",
    "\n",
    "plt.legend(loc=0)"
   ]
  },
  {
   "cell_type": "code",
   "execution_count": null,
   "id": "instant-lancaster",
   "metadata": {},
   "outputs": [],
   "source": []
  }
 ],
 "metadata": {
  "kernelspec": {
   "display_name": "Python 3 (ipykernel)",
   "language": "python",
   "name": "python3"
  },
  "language_info": {
   "codemirror_mode": {
    "name": "ipython",
    "version": 3
   },
   "file_extension": ".py",
   "mimetype": "text/x-python",
   "name": "python",
   "nbconvert_exporter": "python",
   "pygments_lexer": "ipython3",
   "version": "3.9.7"
  }
 },
 "nbformat": 4,
 "nbformat_minor": 5
}
