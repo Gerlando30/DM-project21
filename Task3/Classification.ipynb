{
 "cells": [
  {
   "cell_type": "code",
   "execution_count": 1,
   "id": "c70d7bdb",
   "metadata": {},
   "outputs": [
    {
     "name": "stdout",
     "output_type": "stream",
     "text": [
      "Requirement already satisfied: pydotplus in /Users/domenico/opt/anaconda3/lib/python3.8/site-packages (2.0.2)\n",
      "Requirement already satisfied: pyparsing>=2.0.1 in /Users/domenico/opt/anaconda3/lib/python3.8/site-packages (from pydotplus) (2.4.7)\n",
      "Requirement already satisfied: graphviz in /Users/domenico/opt/anaconda3/lib/python3.8/site-packages (0.19.1)\n",
      "Requirement already satisfied: scikit-plot in /Users/domenico/opt/anaconda3/lib/python3.8/site-packages (0.3.7)\n",
      "Requirement already satisfied: scipy>=0.9 in /Users/domenico/opt/anaconda3/lib/python3.8/site-packages (from scikit-plot) (1.6.2)\n",
      "Requirement already satisfied: scikit-learn>=0.18 in /Users/domenico/opt/anaconda3/lib/python3.8/site-packages (from scikit-plot) (0.24.1)\n",
      "Requirement already satisfied: matplotlib>=1.4.0 in /Users/domenico/opt/anaconda3/lib/python3.8/site-packages (from scikit-plot) (3.3.4)\n",
      "Requirement already satisfied: joblib>=0.10 in /Users/domenico/opt/anaconda3/lib/python3.8/site-packages (from scikit-plot) (1.0.1)\n",
      "Requirement already satisfied: numpy>=1.15 in /Users/domenico/opt/anaconda3/lib/python3.8/site-packages (from matplotlib>=1.4.0->scikit-plot) (1.19.5)\n",
      "Requirement already satisfied: pyparsing!=2.0.4,!=2.1.2,!=2.1.6,>=2.0.3 in /Users/domenico/opt/anaconda3/lib/python3.8/site-packages (from matplotlib>=1.4.0->scikit-plot) (2.4.7)\n",
      "Requirement already satisfied: cycler>=0.10 in /Users/domenico/opt/anaconda3/lib/python3.8/site-packages (from matplotlib>=1.4.0->scikit-plot) (0.10.0)\n",
      "Requirement already satisfied: kiwisolver>=1.0.1 in /Users/domenico/opt/anaconda3/lib/python3.8/site-packages (from matplotlib>=1.4.0->scikit-plot) (1.3.1)\n",
      "Requirement already satisfied: pillow>=6.2.0 in /Users/domenico/opt/anaconda3/lib/python3.8/site-packages (from matplotlib>=1.4.0->scikit-plot) (8.2.0)\n",
      "Requirement already satisfied: python-dateutil>=2.1 in /Users/domenico/opt/anaconda3/lib/python3.8/site-packages (from matplotlib>=1.4.0->scikit-plot) (2.8.1)\n",
      "Requirement already satisfied: six in /Users/domenico/opt/anaconda3/lib/python3.8/site-packages (from cycler>=0.10->matplotlib>=1.4.0->scikit-plot) (1.15.0)\n",
      "Requirement already satisfied: threadpoolctl>=2.0.0 in /Users/domenico/opt/anaconda3/lib/python3.8/site-packages (from scikit-learn>=0.18->scikit-plot) (2.1.0)\n",
      "Requirement already satisfied: tensorflow in /Users/domenico/opt/anaconda3/lib/python3.8/site-packages (2.7.0)\n",
      "Requirement already satisfied: wheel<1.0,>=0.32.0 in /Users/domenico/opt/anaconda3/lib/python3.8/site-packages (from tensorflow) (0.36.2)\n",
      "Requirement already satisfied: libclang>=9.0.1 in /Users/domenico/opt/anaconda3/lib/python3.8/site-packages (from tensorflow) (12.0.0)\n",
      "Requirement already satisfied: tensorflow-estimator<2.8,~=2.7.0rc0 in /Users/domenico/opt/anaconda3/lib/python3.8/site-packages (from tensorflow) (2.7.0)\n",
      "Requirement already satisfied: tensorboard~=2.6 in /Users/domenico/opt/anaconda3/lib/python3.8/site-packages (from tensorflow) (2.7.0)\n",
      "Requirement already satisfied: google-pasta>=0.1.1 in /Users/domenico/opt/anaconda3/lib/python3.8/site-packages (from tensorflow) (0.2.0)\n",
      "Requirement already satisfied: grpcio<2.0,>=1.24.3 in /Users/domenico/opt/anaconda3/lib/python3.8/site-packages (from tensorflow) (1.42.0)\n",
      "Requirement already satisfied: flatbuffers<3.0,>=1.12 in /Users/domenico/opt/anaconda3/lib/python3.8/site-packages (from tensorflow) (2.0)\n",
      "Requirement already satisfied: termcolor>=1.1.0 in /Users/domenico/opt/anaconda3/lib/python3.8/site-packages (from tensorflow) (1.1.0)\n",
      "Requirement already satisfied: tensorflow-io-gcs-filesystem>=0.21.0 in /Users/domenico/opt/anaconda3/lib/python3.8/site-packages (from tensorflow) (0.22.0)\n",
      "Requirement already satisfied: gast<0.5.0,>=0.2.1 in /Users/domenico/opt/anaconda3/lib/python3.8/site-packages (from tensorflow) (0.4.0)\n",
      "Requirement already satisfied: keras-preprocessing>=1.1.1 in /Users/domenico/opt/anaconda3/lib/python3.8/site-packages (from tensorflow) (1.1.2)\n",
      "Requirement already satisfied: opt-einsum>=2.3.2 in /Users/domenico/opt/anaconda3/lib/python3.8/site-packages (from tensorflow) (3.3.0)\n",
      "Requirement already satisfied: numpy>=1.14.5 in /Users/domenico/opt/anaconda3/lib/python3.8/site-packages (from tensorflow) (1.19.5)\n",
      "Requirement already satisfied: protobuf>=3.9.2 in /Users/domenico/opt/anaconda3/lib/python3.8/site-packages (from tensorflow) (3.19.1)\n",
      "Requirement already satisfied: absl-py>=0.4.0 in /Users/domenico/opt/anaconda3/lib/python3.8/site-packages (from tensorflow) (1.0.0)\n",
      "Requirement already satisfied: keras<2.8,>=2.7.0rc0 in /Users/domenico/opt/anaconda3/lib/python3.8/site-packages (from tensorflow) (2.7.0)\n",
      "Requirement already satisfied: typing-extensions>=3.6.6 in /Users/domenico/opt/anaconda3/lib/python3.8/site-packages (from tensorflow) (3.7.4.3)\n",
      "Requirement already satisfied: astunparse>=1.6.0 in /Users/domenico/opt/anaconda3/lib/python3.8/site-packages (from tensorflow) (1.6.3)\n",
      "Requirement already satisfied: h5py>=2.9.0 in /Users/domenico/opt/anaconda3/lib/python3.8/site-packages (from tensorflow) (2.10.0)\n",
      "Requirement already satisfied: six>=1.12.0 in /Users/domenico/opt/anaconda3/lib/python3.8/site-packages (from tensorflow) (1.15.0)\n",
      "Requirement already satisfied: wrapt>=1.11.0 in /Users/domenico/opt/anaconda3/lib/python3.8/site-packages (from tensorflow) (1.12.1)\n",
      "Requirement already satisfied: google-auth<3,>=1.6.3 in /Users/domenico/opt/anaconda3/lib/python3.8/site-packages (from tensorboard~=2.6->tensorflow) (2.3.3)\n",
      "Requirement already satisfied: setuptools>=41.0.0 in /Users/domenico/opt/anaconda3/lib/python3.8/site-packages (from tensorboard~=2.6->tensorflow) (52.0.0.post20210125)\n",
      "Requirement already satisfied: google-auth-oauthlib<0.5,>=0.4.1 in /Users/domenico/opt/anaconda3/lib/python3.8/site-packages (from tensorboard~=2.6->tensorflow) (0.4.6)\n",
      "Requirement already satisfied: werkzeug>=0.11.15 in /Users/domenico/opt/anaconda3/lib/python3.8/site-packages (from tensorboard~=2.6->tensorflow) (1.0.1)\n",
      "Requirement already satisfied: markdown>=2.6.8 in /Users/domenico/opt/anaconda3/lib/python3.8/site-packages (from tensorboard~=2.6->tensorflow) (3.3.6)\n",
      "Requirement already satisfied: tensorboard-data-server<0.7.0,>=0.6.0 in /Users/domenico/opt/anaconda3/lib/python3.8/site-packages (from tensorboard~=2.6->tensorflow) (0.6.1)\n",
      "Requirement already satisfied: tensorboard-plugin-wit>=1.6.0 in /Users/domenico/opt/anaconda3/lib/python3.8/site-packages (from tensorboard~=2.6->tensorflow) (1.8.0)\n",
      "Requirement already satisfied: requests<3,>=2.21.0 in /Users/domenico/opt/anaconda3/lib/python3.8/site-packages (from tensorboard~=2.6->tensorflow) (2.25.1)\n",
      "Requirement already satisfied: rsa<5,>=3.1.4 in /Users/domenico/opt/anaconda3/lib/python3.8/site-packages (from google-auth<3,>=1.6.3->tensorboard~=2.6->tensorflow) (4.8)\n",
      "Requirement already satisfied: cachetools<5.0,>=2.0.0 in /Users/domenico/opt/anaconda3/lib/python3.8/site-packages (from google-auth<3,>=1.6.3->tensorboard~=2.6->tensorflow) (4.2.4)\n",
      "Requirement already satisfied: pyasn1-modules>=0.2.1 in /Users/domenico/opt/anaconda3/lib/python3.8/site-packages (from google-auth<3,>=1.6.3->tensorboard~=2.6->tensorflow) (0.2.8)\n",
      "Requirement already satisfied: requests-oauthlib>=0.7.0 in /Users/domenico/opt/anaconda3/lib/python3.8/site-packages (from google-auth-oauthlib<0.5,>=0.4.1->tensorboard~=2.6->tensorflow) (1.3.0)\n",
      "Requirement already satisfied: importlib-metadata>=4.4 in /Users/domenico/opt/anaconda3/lib/python3.8/site-packages (from markdown>=2.6.8->tensorboard~=2.6->tensorflow) (4.8.2)\n",
      "Requirement already satisfied: zipp>=0.5 in /Users/domenico/opt/anaconda3/lib/python3.8/site-packages (from importlib-metadata>=4.4->markdown>=2.6.8->tensorboard~=2.6->tensorflow) (3.4.1)\n",
      "Requirement already satisfied: pyasn1<0.5.0,>=0.4.6 in /Users/domenico/opt/anaconda3/lib/python3.8/site-packages (from pyasn1-modules>=0.2.1->google-auth<3,>=1.6.3->tensorboard~=2.6->tensorflow) (0.4.8)\n",
      "Requirement already satisfied: idna<3,>=2.5 in /Users/domenico/opt/anaconda3/lib/python3.8/site-packages (from requests<3,>=2.21.0->tensorboard~=2.6->tensorflow) (2.10)\n",
      "Requirement already satisfied: urllib3<1.27,>=1.21.1 in /Users/domenico/opt/anaconda3/lib/python3.8/site-packages (from requests<3,>=2.21.0->tensorboard~=2.6->tensorflow) (1.26.4)\n",
      "Requirement already satisfied: chardet<5,>=3.0.2 in /Users/domenico/opt/anaconda3/lib/python3.8/site-packages (from requests<3,>=2.21.0->tensorboard~=2.6->tensorflow) (4.0.0)\n",
      "Requirement already satisfied: certifi>=2017.4.17 in /Users/domenico/opt/anaconda3/lib/python3.8/site-packages (from requests<3,>=2.21.0->tensorboard~=2.6->tensorflow) (2020.12.5)\n",
      "Requirement already satisfied: oauthlib>=3.0.0 in /Users/domenico/opt/anaconda3/lib/python3.8/site-packages (from requests-oauthlib>=0.7.0->google-auth-oauthlib<0.5,>=0.4.1->tensorboard~=2.6->tensorflow) (3.1.1)\n"
     ]
    }
   ],
   "source": [
    "!pip3 install pydotplus\n",
    "!pip3 install graphviz\n",
    "!pip3 install scikit-plot\n",
    "!pip3 install tensorflow"
   ]
  },
  {
   "cell_type": "code",
   "execution_count": 2,
   "id": "bf4f855d-9a01-417c-a23f-f5b8a8c42b41",
   "metadata": {},
   "outputs": [],
   "source": [
    "import statistics \n",
    "import pandas as pd\n",
    "import numpy as np\n",
    "import matplotlib.pyplot as plt\n",
    "from sklearn import metrics\n",
    "from scipy.stats import randint as sp_randint\n",
    "from sklearn.model_selection import train_test_split, cross_validate\n",
    "from sklearn.model_selection import GridSearchCV, RandomizedSearchCV\n",
    "from sklearn.metrics import classification_report, make_scorer\n",
    "from sklearn.metrics import accuracy_score, precision_score, recall_score\n",
    "import scikitplot as skplt\n",
    "#Library for decision tree\n",
    "from sklearn import tree\n",
    "from sklearn.metrics import classification_report\n",
    "import pydotplus \n",
    "from IPython.display import Image\n",
    "#confusion matrix\n",
    "from sklearn.metrics import confusion_matrix,plot_confusion_matrix\n",
    "\n",
    "#GaussianNB\n",
    "\n",
    "from sklearn.tree import export_graphviz\n",
    "import graphviz\n",
    "from sklearn.metrics import plot_confusion_matrix\n",
    "import matplotlib.pyplot as plt\n"
   ]
  },
  {
   "cell_type": "markdown",
   "id": "ee1c0e5d",
   "metadata": {},
   "source": [
    "## Load dataset"
   ]
  },
  {
   "cell_type": "code",
   "execution_count": 3,
   "id": "54535855",
   "metadata": {},
   "outputs": [
    {
     "name": "stdout",
     "output_type": "stream",
     "text": [
      "<class 'pandas.core.frame.DataFrame'>\n",
      "Int64Index: 2072 entries, 0 to 3885\n",
      "Data columns (total 20 columns):\n",
      " #   Column                 Non-Null Count  Dtype  \n",
      "---  ------                 --------------  -----  \n",
      " 0   name                   2072 non-null   object \n",
      " 1   ratio                  2072 non-null   float64\n",
      " 2   num_matches_2016-2019  2072 non-null   float64\n",
      " 3   ratio_2016-2019        2072 non-null   float64\n",
      " 4   num_matches_2020-2021  2072 non-null   float64\n",
      " 5   ratio_2020-2021        2072 non-null   float64\n",
      " 6   hand                   2072 non-null   object \n",
      " 7   gender                 2072 non-null   object \n",
      " 8   ioc                    2072 non-null   object \n",
      " 9   birth                  2072 non-null   float64\n",
      " 10  ht                     2072 non-null   float64\n",
      " 11  minutes                2072 non-null   float64\n",
      " 12  perc_ace               2072 non-null   float64\n",
      " 13  serv_won_tot_seve      2072 non-null   float64\n",
      " 14  bpFaced                2072 non-null   float64\n",
      " 15  perc_df                2072 non-null   float64\n",
      " 16  perc_2ndwon            2072 non-null   float64\n",
      " 17  perc_v_ace             2072 non-null   float64\n",
      " 18  perc_v_df              2072 non-null   float64\n",
      " 19  perc_v_1stwon          2072 non-null   float64\n",
      "dtypes: float64(16), object(4)\n",
      "memory usage: 339.9+ KB\n"
     ]
    }
   ],
   "source": [
    "df = pd.read_csv(\"dataset/tennis_players.csv\", skipinitialspace=True, sep=',', index_col=0)\n",
    "df.info()"
   ]
  },
  {
   "cell_type": "markdown",
   "id": "becoming-instruction",
   "metadata": {},
   "source": [
    "### Adding player's rank"
   ]
  },
  {
   "cell_type": "code",
   "execution_count": 4,
   "id": "creative-hughes",
   "metadata": {},
   "outputs": [
    {
     "name": "stderr",
     "output_type": "stream",
     "text": [
      "/Users/domenico/opt/anaconda3/lib/python3.8/site-packages/IPython/core/interactiveshell.py:3165: DtypeWarning: Columns (5) have mixed types.Specify dtype option on import or set low_memory=False.\n",
      "  has_raised = await self.run_ast_nodes(code_ast.body, cell_name,\n"
     ]
    },
    {
     "name": "stdout",
     "output_type": "stream",
     "text": [
      "<class 'pandas.core.frame.DataFrame'>\n",
      "Int64Index: 181501 entries, 0 to 185763\n",
      "Data columns (total 50 columns):\n",
      " #   Column              Non-Null Count   Dtype  \n",
      "---  ------              --------------   -----  \n",
      " 0   tourney_id          181501 non-null  object \n",
      " 1   tourney_name        181501 non-null  object \n",
      " 2   surface             181354 non-null  object \n",
      " 3   draw_size           181501 non-null  float64\n",
      " 4   tourney_level       181501 non-null  object \n",
      " 5   tourney_date        181501 non-null  object \n",
      " 6   match_num           181501 non-null  float64\n",
      " 7   winner_id           181501 non-null  float64\n",
      " 8   winner_entry        25298 non-null   object \n",
      " 9   winner_name         181501 non-null  object \n",
      " 10  winner_hand         181501 non-null  object \n",
      " 11  winner_ioc          181501 non-null  object \n",
      " 12  winner_age          178681 non-null  float64\n",
      " 13  loser_id            181501 non-null  float64\n",
      " 14  loser_entry         43307 non-null   object \n",
      " 15  loser_name          181501 non-null  object \n",
      " 16  loser_hand          181501 non-null  object \n",
      " 17  loser_ioc           181501 non-null  object \n",
      " 18  loser_age           175006 non-null  float64\n",
      " 19  score               181334 non-null  object \n",
      " 20  best_of             181501 non-null  float64\n",
      " 21  round               181501 non-null  object \n",
      " 22  minutes             181501 non-null  float64\n",
      " 23  w_ace               126454 non-null  float64\n",
      " 24  w_df                126454 non-null  float64\n",
      " 25  w_svpt              181501 non-null  float64\n",
      " 26  w_1stIn             181501 non-null  float64\n",
      " 27  w_1stWon            126454 non-null  float64\n",
      " 28  w_2ndWon            126454 non-null  float64\n",
      " 29  w_bpSaved           126454 non-null  float64\n",
      " 30  w_bpFaced           126454 non-null  float64\n",
      " 31  l_ace               124716 non-null  float64\n",
      " 32  l_df                124716 non-null  float64\n",
      " 33  l_svpt              181501 non-null  float64\n",
      " 34  l_1stIn             181501 non-null  float64\n",
      " 35  l_1stWon            124716 non-null  float64\n",
      " 36  l_2ndWon            124716 non-null  float64\n",
      " 37  l_bpSaved           124716 non-null  float64\n",
      " 38  l_bpFaced           124716 non-null  float64\n",
      " 39  winner_rank         162188 non-null  float64\n",
      " 40  winner_rank_points  162172 non-null  float64\n",
      " 41  loser_rank          146385 non-null  float64\n",
      " 42  loser_rank_points   146369 non-null  float64\n",
      " 43  tourney_spectators  181501 non-null  float64\n",
      " 44  tourney_revenue     181501 non-null  float64\n",
      " 45  winner_gender       181501 non-null  object \n",
      " 46  loser_gender        181501 non-null  object \n",
      " 47  SvGms               181501 non-null  float64\n",
      " 48  winner_ht           181457 non-null  float64\n",
      " 49  loser_ht            181438 non-null  float64\n",
      "dtypes: float64(33), object(17)\n",
      "memory usage: 70.6+ MB\n"
     ]
    }
   ],
   "source": [
    "df_rank = pd.read_csv('../Task1/dataset/matches_datacleaning.csv', index_col = 0)\n",
    "pd.set_option('display.max_columns', None) # to visualize all the columns\n",
    "df_rank.info()"
   ]
  },
  {
   "cell_type": "code",
   "execution_count": 5,
   "id": "broadband-ecology",
   "metadata": {},
   "outputs": [
    {
     "name": "stdout",
     "output_type": "stream",
     "text": [
      "                   name    rank\n",
      "0         AARON ADDISON  1037.0\n",
      "1         AARON ADDISON  1254.0\n",
      "2         AARON ADDISON  1255.0\n",
      "3         AARON ADDISON  1047.0\n",
      "4         AARON ADDISON  1055.0\n",
      "...                 ...     ...\n",
      "257926  ZUZANA ZLOCHOVA   343.0\n",
      "257927  ZUZANA ZLOCHOVA   335.0\n",
      "257928  ZUZANA ZLOCHOVA   316.0\n",
      "257929  ZUZANA ZLOCHOVA   318.0\n",
      "257930  ZUZANA ZLOCHOVA   316.0\n",
      "\n",
      "[257931 rows x 2 columns] \n",
      "# of nan: 7622\n"
     ]
    }
   ],
   "source": [
    "winner_rank = df_rank[['winner_name', 'winner_rank']]\n",
    "winner_rank.set_axis(['name', 'rank'], axis=1, inplace=True)\n",
    "\n",
    "loser_rank = df_rank[['loser_name', 'loser_rank']]\n",
    "loser_rank.set_axis(['name', 'rank'], axis=1, inplace=True)\n",
    "\n",
    "player_rank = loser_rank.append(winner_rank)\n",
    "player = df[['name']]\n",
    "player = pd.merge(player, player_rank, how='left', on='name')\n",
    "print(player, '\\n# of nan:', player['rank'].isna().sum())"
   ]
  },
  {
   "cell_type": "code",
   "execution_count": 6,
   "id": "together-analysis",
   "metadata": {},
   "outputs": [
    {
     "data": {
      "text/plain": [
       "763"
      ]
     },
     "execution_count": 6,
     "metadata": {},
     "output_type": "execute_result"
    }
   ],
   "source": [
    "#osserviamo quanti giocatori hanno QUALCHE nan\n",
    "nan_name = player[player['rank'].isna()]\n",
    "nan_name['name'].nunique()"
   ]
  },
  {
   "cell_type": "code",
   "execution_count": 7,
   "id": "surprised-killer",
   "metadata": {},
   "outputs": [
    {
     "data": {
      "text/plain": [
       "count    2037.000000\n",
       "mean      490.356406\n",
       "std       327.419749\n",
       "min         3.000000\n",
       "25%       243.000000\n",
       "50%       422.000000\n",
       "75%       682.000000\n",
       "max      1908.000000\n",
       "Name: rank, dtype: float64"
      ]
     },
     "execution_count": 7,
     "metadata": {},
     "output_type": "execute_result"
    }
   ],
   "source": [
    "#prendiamo la media del rank e vediamo se sono rimasti nan (per quelli che avranno nan come rank vuol dire che nel db originale \n",
    "# non era presente nessun valore di rank per quel giocatore)\n",
    "player = player.groupby('name').mean()\n",
    "player['rank']=player['rank'].round(0)\n",
    "player['rank'].describe()"
   ]
  },
  {
   "cell_type": "code",
   "execution_count": 8,
   "id": "1151f5f4",
   "metadata": {},
   "outputs": [
    {
     "data": {
      "text/plain": [
       "rank    35\n",
       "dtype: int64"
      ]
     },
     "execution_count": 8,
     "metadata": {},
     "output_type": "execute_result"
    }
   ],
   "source": [
    "player.isna().sum()"
   ]
  },
  {
   "cell_type": "code",
   "execution_count": 9,
   "id": "67e6b110",
   "metadata": {},
   "outputs": [
    {
     "data": {
      "text/plain": [
       "947"
      ]
     },
     "execution_count": 9,
     "metadata": {},
     "output_type": "execute_result"
    }
   ],
   "source": [
    "player['rank'].nunique()"
   ]
  },
  {
   "cell_type": "code",
   "execution_count": 10,
   "id": "banned-philippines",
   "metadata": {},
   "outputs": [
    {
     "data": {
      "text/html": [
       "<div>\n",
       "<style scoped>\n",
       "    .dataframe tbody tr th:only-of-type {\n",
       "        vertical-align: middle;\n",
       "    }\n",
       "\n",
       "    .dataframe tbody tr th {\n",
       "        vertical-align: top;\n",
       "    }\n",
       "\n",
       "    .dataframe thead th {\n",
       "        text-align: right;\n",
       "    }\n",
       "</style>\n",
       "<table border=\"1\" class=\"dataframe\">\n",
       "  <thead>\n",
       "    <tr style=\"text-align: right;\">\n",
       "      <th></th>\n",
       "      <th>rank</th>\n",
       "    </tr>\n",
       "    <tr>\n",
       "      <th>name</th>\n",
       "      <th></th>\n",
       "    </tr>\n",
       "  </thead>\n",
       "  <tbody>\n",
       "    <tr>\n",
       "      <th>ABIR EL FAHIMI</th>\n",
       "      <td>NaN</td>\n",
       "    </tr>\n",
       "    <tr>\n",
       "      <th>ALEX LAWSON</th>\n",
       "      <td>NaN</td>\n",
       "    </tr>\n",
       "    <tr>\n",
       "      <th>AMAL SULTANBEKOV</th>\n",
       "      <td>NaN</td>\n",
       "    </tr>\n",
       "    <tr>\n",
       "      <th>AMARNI BANKS</th>\n",
       "      <td>NaN</td>\n",
       "    </tr>\n",
       "    <tr>\n",
       "      <th>ANASTASIA IAMACHKINE</th>\n",
       "      <td>NaN</td>\n",
       "    </tr>\n",
       "    <tr>\n",
       "      <th>ANNA BOWTELL</th>\n",
       "      <td>NaN</td>\n",
       "    </tr>\n",
       "    <tr>\n",
       "      <th>BARBORA PALICOVA</th>\n",
       "      <td>NaN</td>\n",
       "    </tr>\n",
       "    <tr>\n",
       "      <th>BREANA STAMPFLI</th>\n",
       "      <td>NaN</td>\n",
       "    </tr>\n",
       "    <tr>\n",
       "      <th>CHARLOTTE KEMPENAERS POCZ</th>\n",
       "      <td>NaN</td>\n",
       "    </tr>\n",
       "    <tr>\n",
       "      <th>DANIELLE ANDREA THOMPSON</th>\n",
       "      <td>NaN</td>\n",
       "    </tr>\n",
       "    <tr>\n",
       "      <th>DARYA SHVARTSMANN</th>\n",
       "      <td>NaN</td>\n",
       "    </tr>\n",
       "    <tr>\n",
       "      <th>DAVID O'HARE</th>\n",
       "      <td>NaN</td>\n",
       "    </tr>\n",
       "    <tr>\n",
       "      <th>DONA ABO HABAGA</th>\n",
       "      <td>NaN</td>\n",
       "    </tr>\n",
       "    <tr>\n",
       "      <th>EMILY MEYER</th>\n",
       "      <td>NaN</td>\n",
       "    </tr>\n",
       "    <tr>\n",
       "      <th>EUNJI LIM</th>\n",
       "      <td>NaN</td>\n",
       "    </tr>\n",
       "    <tr>\n",
       "      <th>FLORENCIA ROSSI</th>\n",
       "      <td>NaN</td>\n",
       "    </tr>\n",
       "    <tr>\n",
       "      <th>HANNAH VILLER MOLLER</th>\n",
       "      <td>NaN</td>\n",
       "    </tr>\n",
       "    <tr>\n",
       "      <th>HSIEN YIN PENG</th>\n",
       "      <td>NaN</td>\n",
       "    </tr>\n",
       "    <tr>\n",
       "      <th>IVETA DAUJOTAITE</th>\n",
       "      <td>NaN</td>\n",
       "    </tr>\n",
       "    <tr>\n",
       "      <th>JACKSON J WITHROW</th>\n",
       "      <td>NaN</td>\n",
       "    </tr>\n",
       "    <tr>\n",
       "      <th>JESSICA FOWLER</th>\n",
       "      <td>NaN</td>\n",
       "    </tr>\n",
       "    <tr>\n",
       "      <th>LINA QOSTAL</th>\n",
       "      <td>NaN</td>\n",
       "    </tr>\n",
       "    <tr>\n",
       "      <th>LISA ZAAR</th>\n",
       "      <td>NaN</td>\n",
       "    </tr>\n",
       "    <tr>\n",
       "      <th>MARIAN JADE CAPADOCIA</th>\n",
       "      <td>NaN</td>\n",
       "    </tr>\n",
       "    <tr>\n",
       "      <th>MARK VERRYTH</th>\n",
       "      <td>NaN</td>\n",
       "    </tr>\n",
       "    <tr>\n",
       "      <th>MENG YI CHEN</th>\n",
       "      <td>NaN</td>\n",
       "    </tr>\n",
       "    <tr>\n",
       "      <th>MIA KUPRES</th>\n",
       "      <td>NaN</td>\n",
       "    </tr>\n",
       "    <tr>\n",
       "      <th>NASIBA ESPOLOVA</th>\n",
       "      <td>NaN</td>\n",
       "    </tr>\n",
       "    <tr>\n",
       "      <th>NATALIA SZABANIN</th>\n",
       "      <td>NaN</td>\n",
       "    </tr>\n",
       "    <tr>\n",
       "      <th>NETHMI HIMASHI WADUGE</th>\n",
       "      <td>NaN</td>\n",
       "    </tr>\n",
       "    <tr>\n",
       "      <th>PAULINA BAKAITE</th>\n",
       "      <td>NaN</td>\n",
       "    </tr>\n",
       "    <tr>\n",
       "      <th>SAARA ORAV</th>\n",
       "      <td>NaN</td>\n",
       "    </tr>\n",
       "    <tr>\n",
       "      <th>SYBILLE GAUVAIN</th>\n",
       "      <td>NaN</td>\n",
       "    </tr>\n",
       "    <tr>\n",
       "      <th>THEIVIYA SELVARAJOO</th>\n",
       "      <td>NaN</td>\n",
       "    </tr>\n",
       "    <tr>\n",
       "      <th>VERONIKA BOKOR</th>\n",
       "      <td>NaN</td>\n",
       "    </tr>\n",
       "  </tbody>\n",
       "</table>\n",
       "</div>"
      ],
      "text/plain": [
       "                           rank\n",
       "name                           \n",
       "ABIR EL FAHIMI              NaN\n",
       "ALEX LAWSON                 NaN\n",
       "AMAL SULTANBEKOV            NaN\n",
       "AMARNI BANKS                NaN\n",
       "ANASTASIA IAMACHKINE        NaN\n",
       "ANNA BOWTELL                NaN\n",
       "BARBORA PALICOVA            NaN\n",
       "BREANA STAMPFLI             NaN\n",
       "CHARLOTTE KEMPENAERS POCZ   NaN\n",
       "DANIELLE ANDREA THOMPSON    NaN\n",
       "DARYA SHVARTSMANN           NaN\n",
       "DAVID O'HARE                NaN\n",
       "DONA ABO HABAGA             NaN\n",
       "EMILY MEYER                 NaN\n",
       "EUNJI LIM                   NaN\n",
       "FLORENCIA ROSSI             NaN\n",
       "HANNAH VILLER MOLLER        NaN\n",
       "HSIEN YIN PENG              NaN\n",
       "IVETA DAUJOTAITE            NaN\n",
       "JACKSON J WITHROW           NaN\n",
       "JESSICA FOWLER              NaN\n",
       "LINA QOSTAL                 NaN\n",
       "LISA ZAAR                   NaN\n",
       "MARIAN JADE CAPADOCIA       NaN\n",
       "MARK VERRYTH                NaN\n",
       "MENG YI CHEN                NaN\n",
       "MIA KUPRES                  NaN\n",
       "NASIBA ESPOLOVA             NaN\n",
       "NATALIA SZABANIN            NaN\n",
       "NETHMI HIMASHI WADUGE       NaN\n",
       "PAULINA BAKAITE             NaN\n",
       "SAARA ORAV                  NaN\n",
       "SYBILLE GAUVAIN             NaN\n",
       "THEIVIYA SELVARAJOO         NaN\n",
       "VERONIKA BOKOR              NaN"
      ]
     },
     "execution_count": 10,
     "metadata": {},
     "output_type": "execute_result"
    }
   ],
   "source": [
    "player[player['rank'].isna()]"
   ]
  },
  {
   "cell_type": "code",
   "execution_count": 11,
   "id": "5893908d",
   "metadata": {},
   "outputs": [
    {
     "data": {
      "text/html": [
       "<div>\n",
       "<style scoped>\n",
       "    .dataframe tbody tr th:only-of-type {\n",
       "        vertical-align: middle;\n",
       "    }\n",
       "\n",
       "    .dataframe tbody tr th {\n",
       "        vertical-align: top;\n",
       "    }\n",
       "\n",
       "    .dataframe thead th {\n",
       "        text-align: right;\n",
       "    }\n",
       "</style>\n",
       "<table border=\"1\" class=\"dataframe\">\n",
       "  <thead>\n",
       "    <tr style=\"text-align: right;\">\n",
       "      <th></th>\n",
       "      <th>name</th>\n",
       "      <th>rank</th>\n",
       "    </tr>\n",
       "  </thead>\n",
       "  <tbody>\n",
       "    <tr>\n",
       "      <th>0</th>\n",
       "      <td>AARON ADDISON</td>\n",
       "      <td>1131.0</td>\n",
       "    </tr>\n",
       "    <tr>\n",
       "      <th>1</th>\n",
       "      <td>ABBIE MYERS</td>\n",
       "      <td>475.0</td>\n",
       "    </tr>\n",
       "    <tr>\n",
       "      <th>2</th>\n",
       "      <td>ABHINAV SANJEEV SHANMUGAM</td>\n",
       "      <td>1233.0</td>\n",
       "    </tr>\n",
       "    <tr>\n",
       "      <th>3</th>\n",
       "      <td>ABIGAIL TERE APISAH</td>\n",
       "      <td>422.0</td>\n",
       "    </tr>\n",
       "    <tr>\n",
       "      <th>4</th>\n",
       "      <td>ABIR EL FAHIMI</td>\n",
       "      <td>NaN</td>\n",
       "    </tr>\n",
       "    <tr>\n",
       "      <th>...</th>\n",
       "      <td>...</td>\n",
       "      <td>...</td>\n",
       "    </tr>\n",
       "    <tr>\n",
       "      <th>2067</th>\n",
       "      <td>ZIZOU BERGS</td>\n",
       "      <td>371.0</td>\n",
       "    </tr>\n",
       "    <tr>\n",
       "      <th>2068</th>\n",
       "      <td>ZOE HIVES</td>\n",
       "      <td>319.0</td>\n",
       "    </tr>\n",
       "    <tr>\n",
       "      <th>2069</th>\n",
       "      <td>ZOE KRUGER</td>\n",
       "      <td>750.0</td>\n",
       "    </tr>\n",
       "    <tr>\n",
       "      <th>2070</th>\n",
       "      <td>ZSOMBOR PIROS</td>\n",
       "      <td>454.0</td>\n",
       "    </tr>\n",
       "    <tr>\n",
       "      <th>2071</th>\n",
       "      <td>ZUZANA ZLOCHOVA</td>\n",
       "      <td>461.0</td>\n",
       "    </tr>\n",
       "  </tbody>\n",
       "</table>\n",
       "<p>2072 rows × 2 columns</p>\n",
       "</div>"
      ],
      "text/plain": [
       "                           name    rank\n",
       "0                 AARON ADDISON  1131.0\n",
       "1                   ABBIE MYERS   475.0\n",
       "2     ABHINAV SANJEEV SHANMUGAM  1233.0\n",
       "3           ABIGAIL TERE APISAH   422.0\n",
       "4                ABIR EL FAHIMI     NaN\n",
       "...                         ...     ...\n",
       "2067                ZIZOU BERGS   371.0\n",
       "2068                  ZOE HIVES   319.0\n",
       "2069                 ZOE KRUGER   750.0\n",
       "2070              ZSOMBOR PIROS   454.0\n",
       "2071            ZUZANA ZLOCHOVA   461.0\n",
       "\n",
       "[2072 rows x 2 columns]"
      ]
     },
     "execution_count": 11,
     "metadata": {},
     "output_type": "execute_result"
    }
   ],
   "source": [
    "player.reset_index(inplace = True)\n",
    "player"
   ]
  },
  {
   "cell_type": "code",
   "execution_count": 12,
   "id": "cbec8ac9",
   "metadata": {},
   "outputs": [
    {
     "data": {
      "text/html": [
       "<div>\n",
       "<style scoped>\n",
       "    .dataframe tbody tr th:only-of-type {\n",
       "        vertical-align: middle;\n",
       "    }\n",
       "\n",
       "    .dataframe tbody tr th {\n",
       "        vertical-align: top;\n",
       "    }\n",
       "\n",
       "    .dataframe thead th {\n",
       "        text-align: right;\n",
       "    }\n",
       "</style>\n",
       "<table border=\"1\" class=\"dataframe\">\n",
       "  <thead>\n",
       "    <tr style=\"text-align: right;\">\n",
       "      <th></th>\n",
       "      <th>ratio</th>\n",
       "      <th>num_matches_2016-2019</th>\n",
       "      <th>ratio_2016-2019</th>\n",
       "      <th>num_matches_2020-2021</th>\n",
       "      <th>ratio_2020-2021</th>\n",
       "      <th>birth</th>\n",
       "      <th>ht</th>\n",
       "      <th>minutes</th>\n",
       "      <th>perc_ace</th>\n",
       "      <th>serv_won_tot_seve</th>\n",
       "      <th>bpFaced</th>\n",
       "      <th>perc_df</th>\n",
       "      <th>perc_2ndwon</th>\n",
       "      <th>perc_v_ace</th>\n",
       "      <th>perc_v_df</th>\n",
       "      <th>perc_v_1stwon</th>\n",
       "      <th>rank</th>\n",
       "    </tr>\n",
       "  </thead>\n",
       "  <tbody>\n",
       "    <tr>\n",
       "      <th>count</th>\n",
       "      <td>2072.000000</td>\n",
       "      <td>2072.000000</td>\n",
       "      <td>2072.000000</td>\n",
       "      <td>2072.000000</td>\n",
       "      <td>2072.000000</td>\n",
       "      <td>2072.000000</td>\n",
       "      <td>2072.000000</td>\n",
       "      <td>2072.000000</td>\n",
       "      <td>2072.000000</td>\n",
       "      <td>2072.000000</td>\n",
       "      <td>2072.000000</td>\n",
       "      <td>2072.000000</td>\n",
       "      <td>2072.000000</td>\n",
       "      <td>2072.000000</td>\n",
       "      <td>2072.000000</td>\n",
       "      <td>2072.00000</td>\n",
       "      <td>2037.000000</td>\n",
       "    </tr>\n",
       "    <tr>\n",
       "      <th>mean</th>\n",
       "      <td>0.486609</td>\n",
       "      <td>100.942085</td>\n",
       "      <td>0.478162</td>\n",
       "      <td>23.541988</td>\n",
       "      <td>0.309913</td>\n",
       "      <td>1993.805502</td>\n",
       "      <td>179.104946</td>\n",
       "      <td>80.432832</td>\n",
       "      <td>6.716569</td>\n",
       "      <td>0.523839</td>\n",
       "      <td>871.927124</td>\n",
       "      <td>7.450516</td>\n",
       "      <td>43.113605</td>\n",
       "      <td>6.698571</td>\n",
       "      <td>6.355497</td>\n",
       "      <td>54.31431</td>\n",
       "      <td>490.356406</td>\n",
       "    </tr>\n",
       "    <tr>\n",
       "      <th>std</th>\n",
       "      <td>0.115073</td>\n",
       "      <td>78.005562</td>\n",
       "      <td>0.134808</td>\n",
       "      <td>26.280039</td>\n",
       "      <td>0.264866</td>\n",
       "      <td>5.063032</td>\n",
       "      <td>8.008870</td>\n",
       "      <td>16.122646</td>\n",
       "      <td>5.324856</td>\n",
       "      <td>0.146481</td>\n",
       "      <td>720.860044</td>\n",
       "      <td>3.444339</td>\n",
       "      <td>12.302156</td>\n",
       "      <td>4.583606</td>\n",
       "      <td>1.962237</td>\n",
       "      <td>19.24605</td>\n",
       "      <td>327.419749</td>\n",
       "    </tr>\n",
       "    <tr>\n",
       "      <th>min</th>\n",
       "      <td>0.133333</td>\n",
       "      <td>0.000000</td>\n",
       "      <td>0.000000</td>\n",
       "      <td>0.000000</td>\n",
       "      <td>0.000000</td>\n",
       "      <td>1977.000000</td>\n",
       "      <td>157.000000</td>\n",
       "      <td>55.472222</td>\n",
       "      <td>0.000000</td>\n",
       "      <td>0.037581</td>\n",
       "      <td>0.000000</td>\n",
       "      <td>0.000000</td>\n",
       "      <td>0.000000</td>\n",
       "      <td>0.070000</td>\n",
       "      <td>0.000000</td>\n",
       "      <td>0.91000</td>\n",
       "      <td>3.000000</td>\n",
       "    </tr>\n",
       "    <tr>\n",
       "      <th>25%</th>\n",
       "      <td>0.423077</td>\n",
       "      <td>28.000000</td>\n",
       "      <td>0.415466</td>\n",
       "      <td>0.000000</td>\n",
       "      <td>0.000000</td>\n",
       "      <td>1990.000000</td>\n",
       "      <td>173.000000</td>\n",
       "      <td>62.607850</td>\n",
       "      <td>2.400000</td>\n",
       "      <td>0.505333</td>\n",
       "      <td>230.000000</td>\n",
       "      <td>5.220000</td>\n",
       "      <td>40.770000</td>\n",
       "      <td>2.550000</td>\n",
       "      <td>5.390000</td>\n",
       "      <td>39.42750</td>\n",
       "      <td>243.000000</td>\n",
       "    </tr>\n",
       "    <tr>\n",
       "      <th>50%</th>\n",
       "      <td>0.500000</td>\n",
       "      <td>82.000000</td>\n",
       "      <td>0.500000</td>\n",
       "      <td>12.000000</td>\n",
       "      <td>0.375000</td>\n",
       "      <td>1994.000000</td>\n",
       "      <td>178.000000</td>\n",
       "      <td>82.359127</td>\n",
       "      <td>5.755000</td>\n",
       "      <td>0.580575</td>\n",
       "      <td>638.500000</td>\n",
       "      <td>6.950000</td>\n",
       "      <td>47.295000</td>\n",
       "      <td>6.155000</td>\n",
       "      <td>6.615000</td>\n",
       "      <td>64.30500</td>\n",
       "      <td>422.000000</td>\n",
       "    </tr>\n",
       "    <tr>\n",
       "      <th>75%</th>\n",
       "      <td>0.565673</td>\n",
       "      <td>170.000000</td>\n",
       "      <td>0.566866</td>\n",
       "      <td>45.000000</td>\n",
       "      <td>0.533333</td>\n",
       "      <td>1998.000000</td>\n",
       "      <td>185.705882</td>\n",
       "      <td>94.008066</td>\n",
       "      <td>9.840000</td>\n",
       "      <td>0.614162</td>\n",
       "      <td>1446.500000</td>\n",
       "      <td>9.172500</td>\n",
       "      <td>50.112500</td>\n",
       "      <td>10.312500</td>\n",
       "      <td>7.552500</td>\n",
       "      <td>69.80000</td>\n",
       "      <td>682.000000</td>\n",
       "    </tr>\n",
       "    <tr>\n",
       "      <th>max</th>\n",
       "      <td>0.845161</td>\n",
       "      <td>309.000000</td>\n",
       "      <td>1.000000</td>\n",
       "      <td>101.000000</td>\n",
       "      <td>1.000000</td>\n",
       "      <td>2006.000000</td>\n",
       "      <td>198.000000</td>\n",
       "      <td>145.073643</td>\n",
       "      <td>35.390000</td>\n",
       "      <td>0.949992</td>\n",
       "      <td>3834.000000</td>\n",
       "      <td>29.860000</td>\n",
       "      <td>94.180000</td>\n",
       "      <td>23.310000</td>\n",
       "      <td>17.890000</td>\n",
       "      <td>80.79000</td>\n",
       "      <td>1908.000000</td>\n",
       "    </tr>\n",
       "  </tbody>\n",
       "</table>\n",
       "</div>"
      ],
      "text/plain": [
       "             ratio  num_matches_2016-2019  ratio_2016-2019  \\\n",
       "count  2072.000000            2072.000000      2072.000000   \n",
       "mean      0.486609             100.942085         0.478162   \n",
       "std       0.115073              78.005562         0.134808   \n",
       "min       0.133333               0.000000         0.000000   \n",
       "25%       0.423077              28.000000         0.415466   \n",
       "50%       0.500000              82.000000         0.500000   \n",
       "75%       0.565673             170.000000         0.566866   \n",
       "max       0.845161             309.000000         1.000000   \n",
       "\n",
       "       num_matches_2020-2021  ratio_2020-2021        birth           ht  \\\n",
       "count            2072.000000      2072.000000  2072.000000  2072.000000   \n",
       "mean               23.541988         0.309913  1993.805502   179.104946   \n",
       "std                26.280039         0.264866     5.063032     8.008870   \n",
       "min                 0.000000         0.000000  1977.000000   157.000000   \n",
       "25%                 0.000000         0.000000  1990.000000   173.000000   \n",
       "50%                12.000000         0.375000  1994.000000   178.000000   \n",
       "75%                45.000000         0.533333  1998.000000   185.705882   \n",
       "max               101.000000         1.000000  2006.000000   198.000000   \n",
       "\n",
       "           minutes     perc_ace  serv_won_tot_seve      bpFaced      perc_df  \\\n",
       "count  2072.000000  2072.000000        2072.000000  2072.000000  2072.000000   \n",
       "mean     80.432832     6.716569           0.523839   871.927124     7.450516   \n",
       "std      16.122646     5.324856           0.146481   720.860044     3.444339   \n",
       "min      55.472222     0.000000           0.037581     0.000000     0.000000   \n",
       "25%      62.607850     2.400000           0.505333   230.000000     5.220000   \n",
       "50%      82.359127     5.755000           0.580575   638.500000     6.950000   \n",
       "75%      94.008066     9.840000           0.614162  1446.500000     9.172500   \n",
       "max     145.073643    35.390000           0.949992  3834.000000    29.860000   \n",
       "\n",
       "       perc_2ndwon   perc_v_ace    perc_v_df  perc_v_1stwon         rank  \n",
       "count  2072.000000  2072.000000  2072.000000     2072.00000  2037.000000  \n",
       "mean     43.113605     6.698571     6.355497       54.31431   490.356406  \n",
       "std      12.302156     4.583606     1.962237       19.24605   327.419749  \n",
       "min       0.000000     0.070000     0.000000        0.91000     3.000000  \n",
       "25%      40.770000     2.550000     5.390000       39.42750   243.000000  \n",
       "50%      47.295000     6.155000     6.615000       64.30500   422.000000  \n",
       "75%      50.112500    10.312500     7.552500       69.80000   682.000000  \n",
       "max      94.180000    23.310000    17.890000       80.79000  1908.000000  "
      ]
     },
     "execution_count": 12,
     "metadata": {},
     "output_type": "execute_result"
    }
   ],
   "source": [
    "df = pd.merge(df, player, how='left', on='name')\n",
    "\n",
    "df.describe()"
   ]
  },
  {
   "cell_type": "code",
   "execution_count": 13,
   "id": "polyphonic-warren",
   "metadata": {},
   "outputs": [],
   "source": [
    "#POSSIAMO PROCEDERE IN diversi MODI:\n",
    "# 1.cerchiamo di risolvere i nan \n",
    "# 2. lasciamo i giocatori che hanno nan e assegniamo loro un label speciale (non è insolito, bisogna vedere meglio come trattarli)\n",
    "# 3. altro\n"
   ]
  },
  {
   "cell_type": "markdown",
   "id": "e013b6f7",
   "metadata": {},
   "source": [
    "## Transform categorical features into numerical ones"
   ]
  },
  {
   "cell_type": "code",
   "execution_count": 14,
   "id": "3f12acc8",
   "metadata": {},
   "outputs": [],
   "source": [
    "#function to discretize the variables\n",
    "#input: the dataset and the list of variables' names to discretize\n",
    "def discretize_data(dataset, variables):\n",
    "    for variable in variables:\n",
    "        #get the unique variable's values\n",
    "        var = sorted(dataset[variable].unique())\n",
    "        \n",
    "        #generate a mapping from the variable's values to the number representation  \n",
    "        mapping = dict(zip(var, range(0, len(var) + 1)))\n",
    "\n",
    "        #add a new colum with the number representation of the variable\n",
    "        dataset[variable+'_num'] = dataset[variable].map(mapping).astype(int)\n",
    "    return dataset"
   ]
  },
  {
   "cell_type": "code",
   "execution_count": 15,
   "id": "17ba9a20",
   "metadata": {},
   "outputs": [],
   "source": [
    "#discretize the categorical variables\n",
    "variables = ['hand', 'gender', 'ioc']\n",
    "df = discretize_data(df, variables)"
   ]
  },
  {
   "cell_type": "code",
   "execution_count": 16,
   "id": "2253efc6",
   "metadata": {},
   "outputs": [],
   "source": [
    "#drop the categorical variables since we don't need them anymore \n",
    "df.drop(columns=['name','hand', 'gender', 'ioc'], axis=1,inplace=True)\n"
   ]
  },
  {
   "cell_type": "code",
   "execution_count": 17,
   "id": "5d940dd6",
   "metadata": {
    "scrolled": true
   },
   "outputs": [
    {
     "name": "stdout",
     "output_type": "stream",
     "text": [
      "<class 'pandas.core.frame.DataFrame'>\n",
      "Int64Index: 2072 entries, 0 to 2071\n",
      "Data columns (total 20 columns):\n",
      " #   Column                 Non-Null Count  Dtype  \n",
      "---  ------                 --------------  -----  \n",
      " 0   ratio                  2072 non-null   float64\n",
      " 1   num_matches_2016-2019  2072 non-null   float64\n",
      " 2   ratio_2016-2019        2072 non-null   float64\n",
      " 3   num_matches_2020-2021  2072 non-null   float64\n",
      " 4   ratio_2020-2021        2072 non-null   float64\n",
      " 5   birth                  2072 non-null   float64\n",
      " 6   ht                     2072 non-null   float64\n",
      " 7   minutes                2072 non-null   float64\n",
      " 8   perc_ace               2072 non-null   float64\n",
      " 9   serv_won_tot_seve      2072 non-null   float64\n",
      " 10  bpFaced                2072 non-null   float64\n",
      " 11  perc_df                2072 non-null   float64\n",
      " 12  perc_2ndwon            2072 non-null   float64\n",
      " 13  perc_v_ace             2072 non-null   float64\n",
      " 14  perc_v_df              2072 non-null   float64\n",
      " 15  perc_v_1stwon          2072 non-null   float64\n",
      " 16  rank                   2037 non-null   float64\n",
      " 17  hand_num               2072 non-null   int64  \n",
      " 18  gender_num             2072 non-null   int64  \n",
      " 19  ioc_num                2072 non-null   int64  \n",
      "dtypes: float64(17), int64(3)\n",
      "memory usage: 339.9 KB\n"
     ]
    }
   ],
   "source": [
    "df.info()"
   ]
  },
  {
   "cell_type": "markdown",
   "id": "cd15428b",
   "metadata": {},
   "source": [
    "## Labels\n",
    "\n",
    "Abbiamo bisogno di capire qual'è il target associato ad ogni insieme per fare il processo di classificazione, un idea potrebbe essere utilizzando un attributo specifico che tiene tratta delle \"performance\" di ogni giocatore, in modo da poter contraddistingure i giocatori più forti da quelli più deboli.\n",
    "\n",
    "Nota: questa non è una metrica efficate perchè il vero label del giocatore viene calcolato in base al relativo ranking ma nel nostro caso avendo molti null risulta difficile stimarlo quindi se non ci sono altre alternative potrebbe essere la soluzione più efficente \n",
    "\n",
    "Quindi possiamo usare i percentili o i quartili"
   ]
  },
  {
   "cell_type": "code",
   "execution_count": 18,
   "id": "d100a709",
   "metadata": {},
   "outputs": [
    {
     "data": {
      "text/html": [
       "<div>\n",
       "<style scoped>\n",
       "    .dataframe tbody tr th:only-of-type {\n",
       "        vertical-align: middle;\n",
       "    }\n",
       "\n",
       "    .dataframe tbody tr th {\n",
       "        vertical-align: top;\n",
       "    }\n",
       "\n",
       "    .dataframe thead th {\n",
       "        text-align: right;\n",
       "    }\n",
       "</style>\n",
       "<table border=\"1\" class=\"dataframe\">\n",
       "  <thead>\n",
       "    <tr style=\"text-align: right;\">\n",
       "      <th></th>\n",
       "      <th>ratio</th>\n",
       "      <th>num_matches_2016-2019</th>\n",
       "      <th>ratio_2016-2019</th>\n",
       "      <th>num_matches_2020-2021</th>\n",
       "      <th>ratio_2020-2021</th>\n",
       "      <th>birth</th>\n",
       "      <th>ht</th>\n",
       "      <th>minutes</th>\n",
       "      <th>perc_ace</th>\n",
       "      <th>serv_won_tot_seve</th>\n",
       "      <th>bpFaced</th>\n",
       "      <th>perc_df</th>\n",
       "      <th>perc_2ndwon</th>\n",
       "      <th>perc_v_ace</th>\n",
       "      <th>perc_v_df</th>\n",
       "      <th>perc_v_1stwon</th>\n",
       "      <th>rank</th>\n",
       "      <th>hand_num</th>\n",
       "      <th>gender_num</th>\n",
       "      <th>ioc_num</th>\n",
       "    </tr>\n",
       "  </thead>\n",
       "  <tbody>\n",
       "    <tr>\n",
       "      <th>1493</th>\n",
       "      <td>0.845161</td>\n",
       "      <td>229.0</td>\n",
       "      <td>0.829694</td>\n",
       "      <td>81.0</td>\n",
       "      <td>0.888889</td>\n",
       "      <td>1987.0</td>\n",
       "      <td>188.000000</td>\n",
       "      <td>118.034749</td>\n",
       "      <td>10.43</td>\n",
       "      <td>0.675834</td>\n",
       "      <td>1454.0</td>\n",
       "      <td>4.92</td>\n",
       "      <td>54.72</td>\n",
       "      <td>11.15</td>\n",
       "      <td>6.01</td>\n",
       "      <td>65.42</td>\n",
       "      <td>3.0</td>\n",
       "      <td>1</td>\n",
       "      <td>1</td>\n",
       "      <td>78</td>\n",
       "    </tr>\n",
       "    <tr>\n",
       "      <th>1782</th>\n",
       "      <td>0.754579</td>\n",
       "      <td>232.0</td>\n",
       "      <td>0.745690</td>\n",
       "      <td>41.0</td>\n",
       "      <td>0.804878</td>\n",
       "      <td>1991.0</td>\n",
       "      <td>168.000000</td>\n",
       "      <td>88.797710</td>\n",
       "      <td>4.19</td>\n",
       "      <td>0.590683</td>\n",
       "      <td>1808.0</td>\n",
       "      <td>5.50</td>\n",
       "      <td>48.38</td>\n",
       "      <td>4.38</td>\n",
       "      <td>7.17</td>\n",
       "      <td>58.06</td>\n",
       "      <td>3.0</td>\n",
       "      <td>1</td>\n",
       "      <td>0</td>\n",
       "      <td>71</td>\n",
       "    </tr>\n",
       "    <tr>\n",
       "      <th>1617</th>\n",
       "      <td>0.835616</td>\n",
       "      <td>235.0</td>\n",
       "      <td>0.842553</td>\n",
       "      <td>57.0</td>\n",
       "      <td>0.807018</td>\n",
       "      <td>1986.0</td>\n",
       "      <td>185.000000</td>\n",
       "      <td>122.658811</td>\n",
       "      <td>7.35</td>\n",
       "      <td>0.679608</td>\n",
       "      <td>1377.0</td>\n",
       "      <td>3.69</td>\n",
       "      <td>57.72</td>\n",
       "      <td>12.03</td>\n",
       "      <td>5.78</td>\n",
       "      <td>64.74</td>\n",
       "      <td>3.0</td>\n",
       "      <td>0</td>\n",
       "      <td>1</td>\n",
       "      <td>26</td>\n",
       "    </tr>\n",
       "    <tr>\n",
       "      <th>1672</th>\n",
       "      <td>0.828829</td>\n",
       "      <td>202.0</td>\n",
       "      <td>0.841584</td>\n",
       "      <td>20.0</td>\n",
       "      <td>0.700000</td>\n",
       "      <td>1981.0</td>\n",
       "      <td>185.000000</td>\n",
       "      <td>112.136728</td>\n",
       "      <td>17.50</td>\n",
       "      <td>0.712798</td>\n",
       "      <td>874.0</td>\n",
       "      <td>3.41</td>\n",
       "      <td>58.48</td>\n",
       "      <td>10.92</td>\n",
       "      <td>5.65</td>\n",
       "      <td>68.16</td>\n",
       "      <td>4.0</td>\n",
       "      <td>1</td>\n",
       "      <td>1</td>\n",
       "      <td>80</td>\n",
       "    </tr>\n",
       "    <tr>\n",
       "      <th>1021</th>\n",
       "      <td>0.699405</td>\n",
       "      <td>270.0</td>\n",
       "      <td>0.711111</td>\n",
       "      <td>66.0</td>\n",
       "      <td>0.651515</td>\n",
       "      <td>1992.0</td>\n",
       "      <td>184.000000</td>\n",
       "      <td>97.553718</td>\n",
       "      <td>15.94</td>\n",
       "      <td>0.618893</td>\n",
       "      <td>2185.0</td>\n",
       "      <td>7.84</td>\n",
       "      <td>45.59</td>\n",
       "      <td>7.41</td>\n",
       "      <td>8.34</td>\n",
       "      <td>63.85</td>\n",
       "      <td>7.0</td>\n",
       "      <td>1</td>\n",
       "      <td>0</td>\n",
       "      <td>20</td>\n",
       "    </tr>\n",
       "    <tr>\n",
       "      <th>...</th>\n",
       "      <td>...</td>\n",
       "      <td>...</td>\n",
       "      <td>...</td>\n",
       "      <td>...</td>\n",
       "      <td>...</td>\n",
       "      <td>...</td>\n",
       "      <td>...</td>\n",
       "      <td>...</td>\n",
       "      <td>...</td>\n",
       "      <td>...</td>\n",
       "      <td>...</td>\n",
       "      <td>...</td>\n",
       "      <td>...</td>\n",
       "      <td>...</td>\n",
       "      <td>...</td>\n",
       "      <td>...</td>\n",
       "      <td>...</td>\n",
       "      <td>...</td>\n",
       "      <td>...</td>\n",
       "      <td>...</td>\n",
       "    </tr>\n",
       "    <tr>\n",
       "      <th>1549</th>\n",
       "      <td>0.133333</td>\n",
       "      <td>15.0</td>\n",
       "      <td>0.133333</td>\n",
       "      <td>0.0</td>\n",
       "      <td>0.000000</td>\n",
       "      <td>1999.0</td>\n",
       "      <td>172.137193</td>\n",
       "      <td>97.307692</td>\n",
       "      <td>3.15</td>\n",
       "      <td>0.391993</td>\n",
       "      <td>159.0</td>\n",
       "      <td>9.15</td>\n",
       "      <td>36.12</td>\n",
       "      <td>2.83</td>\n",
       "      <td>5.98</td>\n",
       "      <td>54.02</td>\n",
       "      <td>NaN</td>\n",
       "      <td>2</td>\n",
       "      <td>0</td>\n",
       "      <td>49</td>\n",
       "    </tr>\n",
       "    <tr>\n",
       "      <th>1701</th>\n",
       "      <td>0.379310</td>\n",
       "      <td>8.0</td>\n",
       "      <td>0.375000</td>\n",
       "      <td>21.0</td>\n",
       "      <td>0.380952</td>\n",
       "      <td>2002.0</td>\n",
       "      <td>177.500000</td>\n",
       "      <td>61.904040</td>\n",
       "      <td>3.20</td>\n",
       "      <td>0.409342</td>\n",
       "      <td>305.0</td>\n",
       "      <td>12.49</td>\n",
       "      <td>31.81</td>\n",
       "      <td>0.08</td>\n",
       "      <td>0.49</td>\n",
       "      <td>5.00</td>\n",
       "      <td>NaN</td>\n",
       "      <td>2</td>\n",
       "      <td>0</td>\n",
       "      <td>27</td>\n",
       "    </tr>\n",
       "    <tr>\n",
       "      <th>1833</th>\n",
       "      <td>0.500000</td>\n",
       "      <td>16.0</td>\n",
       "      <td>0.500000</td>\n",
       "      <td>0.0</td>\n",
       "      <td>0.000000</td>\n",
       "      <td>1994.0</td>\n",
       "      <td>173.363636</td>\n",
       "      <td>59.750000</td>\n",
       "      <td>0.00</td>\n",
       "      <td>0.130994</td>\n",
       "      <td>72.0</td>\n",
       "      <td>5.81</td>\n",
       "      <td>13.16</td>\n",
       "      <td>1.44</td>\n",
       "      <td>2.89</td>\n",
       "      <td>11.19</td>\n",
       "      <td>NaN</td>\n",
       "      <td>2</td>\n",
       "      <td>0</td>\n",
       "      <td>29</td>\n",
       "    </tr>\n",
       "    <tr>\n",
       "      <th>1866</th>\n",
       "      <td>0.380952</td>\n",
       "      <td>21.0</td>\n",
       "      <td>0.380952</td>\n",
       "      <td>0.0</td>\n",
       "      <td>0.000000</td>\n",
       "      <td>1994.0</td>\n",
       "      <td>172.137193</td>\n",
       "      <td>71.658654</td>\n",
       "      <td>0.72</td>\n",
       "      <td>0.482784</td>\n",
       "      <td>139.0</td>\n",
       "      <td>10.25</td>\n",
       "      <td>43.84</td>\n",
       "      <td>1.65</td>\n",
       "      <td>8.06</td>\n",
       "      <td>25.41</td>\n",
       "      <td>NaN</td>\n",
       "      <td>2</td>\n",
       "      <td>0</td>\n",
       "      <td>52</td>\n",
       "    </tr>\n",
       "    <tr>\n",
       "      <th>1938</th>\n",
       "      <td>0.342857</td>\n",
       "      <td>16.0</td>\n",
       "      <td>0.250000</td>\n",
       "      <td>19.0</td>\n",
       "      <td>0.421053</td>\n",
       "      <td>2000.0</td>\n",
       "      <td>165.000000</td>\n",
       "      <td>60.239130</td>\n",
       "      <td>0.00</td>\n",
       "      <td>0.229478</td>\n",
       "      <td>276.0</td>\n",
       "      <td>8.14</td>\n",
       "      <td>26.14</td>\n",
       "      <td>0.07</td>\n",
       "      <td>0.07</td>\n",
       "      <td>0.91</td>\n",
       "      <td>NaN</td>\n",
       "      <td>2</td>\n",
       "      <td>0</td>\n",
       "      <td>4</td>\n",
       "    </tr>\n",
       "  </tbody>\n",
       "</table>\n",
       "<p>2072 rows × 20 columns</p>\n",
       "</div>"
      ],
      "text/plain": [
       "         ratio  num_matches_2016-2019  ratio_2016-2019  num_matches_2020-2021  \\\n",
       "1493  0.845161                  229.0         0.829694                   81.0   \n",
       "1782  0.754579                  232.0         0.745690                   41.0   \n",
       "1617  0.835616                  235.0         0.842553                   57.0   \n",
       "1672  0.828829                  202.0         0.841584                   20.0   \n",
       "1021  0.699405                  270.0         0.711111                   66.0   \n",
       "...        ...                    ...              ...                    ...   \n",
       "1549  0.133333                   15.0         0.133333                    0.0   \n",
       "1701  0.379310                    8.0         0.375000                   21.0   \n",
       "1833  0.500000                   16.0         0.500000                    0.0   \n",
       "1866  0.380952                   21.0         0.380952                    0.0   \n",
       "1938  0.342857                   16.0         0.250000                   19.0   \n",
       "\n",
       "      ratio_2020-2021   birth          ht     minutes  perc_ace  \\\n",
       "1493         0.888889  1987.0  188.000000  118.034749     10.43   \n",
       "1782         0.804878  1991.0  168.000000   88.797710      4.19   \n",
       "1617         0.807018  1986.0  185.000000  122.658811      7.35   \n",
       "1672         0.700000  1981.0  185.000000  112.136728     17.50   \n",
       "1021         0.651515  1992.0  184.000000   97.553718     15.94   \n",
       "...               ...     ...         ...         ...       ...   \n",
       "1549         0.000000  1999.0  172.137193   97.307692      3.15   \n",
       "1701         0.380952  2002.0  177.500000   61.904040      3.20   \n",
       "1833         0.000000  1994.0  173.363636   59.750000      0.00   \n",
       "1866         0.000000  1994.0  172.137193   71.658654      0.72   \n",
       "1938         0.421053  2000.0  165.000000   60.239130      0.00   \n",
       "\n",
       "      serv_won_tot_seve  bpFaced  perc_df  perc_2ndwon  perc_v_ace  perc_v_df  \\\n",
       "1493           0.675834   1454.0     4.92        54.72       11.15       6.01   \n",
       "1782           0.590683   1808.0     5.50        48.38        4.38       7.17   \n",
       "1617           0.679608   1377.0     3.69        57.72       12.03       5.78   \n",
       "1672           0.712798    874.0     3.41        58.48       10.92       5.65   \n",
       "1021           0.618893   2185.0     7.84        45.59        7.41       8.34   \n",
       "...                 ...      ...      ...          ...         ...        ...   \n",
       "1549           0.391993    159.0     9.15        36.12        2.83       5.98   \n",
       "1701           0.409342    305.0    12.49        31.81        0.08       0.49   \n",
       "1833           0.130994     72.0     5.81        13.16        1.44       2.89   \n",
       "1866           0.482784    139.0    10.25        43.84        1.65       8.06   \n",
       "1938           0.229478    276.0     8.14        26.14        0.07       0.07   \n",
       "\n",
       "      perc_v_1stwon  rank  hand_num  gender_num  ioc_num  \n",
       "1493          65.42   3.0         1           1       78  \n",
       "1782          58.06   3.0         1           0       71  \n",
       "1617          64.74   3.0         0           1       26  \n",
       "1672          68.16   4.0         1           1       80  \n",
       "1021          63.85   7.0         1           0       20  \n",
       "...             ...   ...       ...         ...      ...  \n",
       "1549          54.02   NaN         2           0       49  \n",
       "1701           5.00   NaN         2           0       27  \n",
       "1833          11.19   NaN         2           0       29  \n",
       "1866          25.41   NaN         2           0       52  \n",
       "1938           0.91   NaN         2           0        4  \n",
       "\n",
       "[2072 rows x 20 columns]"
      ]
     },
     "execution_count": 18,
     "metadata": {},
     "output_type": "execute_result"
    }
   ],
   "source": [
    "df.sort_values(by=['rank'])"
   ]
  },
  {
   "cell_type": "code",
   "execution_count": 19,
   "id": "31f658d6",
   "metadata": {},
   "outputs": [],
   "source": [
    "# label tipo1\n",
    "quantile_a = df['rank'].quantile(0.25)\n"
   ]
  },
  {
   "cell_type": "code",
   "execution_count": 20,
   "id": "e3436b2f",
   "metadata": {},
   "outputs": [],
   "source": [
    "blindtest=df[df['rank'].isna()]\n",
    "del blindtest['rank']"
   ]
  },
  {
   "cell_type": "code",
   "execution_count": 21,
   "id": "19326c76",
   "metadata": {},
   "outputs": [],
   "source": [
    "df = df.drop(df[df['rank'].isna()].index)\n"
   ]
  },
  {
   "cell_type": "code",
   "execution_count": 22,
   "id": "21be1e8e",
   "metadata": {},
   "outputs": [],
   "source": [
    "labels = []\n",
    "for index, rank in df['rank'].items():\n",
    "    if rank <= quantile_a:\n",
    "        labels.append(0)\n",
    "    else:\n",
    "        labels.append(1)"
   ]
  },
  {
   "cell_type": "code",
   "execution_count": 23,
   "id": "1df4bd83",
   "metadata": {},
   "outputs": [],
   "source": [
    "class_names = ['high-level', 'low-level']"
   ]
  },
  {
   "cell_type": "code",
   "execution_count": 24,
   "id": "5d41935f",
   "metadata": {},
   "outputs": [
    {
     "data": {
      "text/plain": [
       "1    0.746686\n",
       "0    0.253314\n",
       "Name: labels, dtype: float64"
      ]
     },
     "execution_count": 24,
     "metadata": {},
     "output_type": "execute_result"
    }
   ],
   "source": [
    "classes = pd.DataFrame()\n",
    "classes['labels'] = labels\n",
    "classes.labels.value_counts(True)"
   ]
  },
  {
   "cell_type": "markdown",
   "id": "cf97ac76",
   "metadata": {},
   "source": [
    "### Prepare dataset (splitting)"
   ]
  },
  {
   "cell_type": "code",
   "execution_count": 25,
   "id": "459c7c56",
   "metadata": {},
   "outputs": [],
   "source": [
    "del df['rank']"
   ]
  },
  {
   "cell_type": "code",
   "execution_count": 26,
   "id": "005100a6",
   "metadata": {},
   "outputs": [],
   "source": [
    "#use stratify because database contain unbalanced label, in this way it's possible to mantain this percentage \n",
    "#of label in train and test set \n",
    "train_set, test_set, train_label, test_label = train_test_split(df, labels, stratify=labels, test_size=0.25)"
   ]
  },
  {
   "cell_type": "code",
   "execution_count": 27,
   "id": "af61c82c",
   "metadata": {},
   "outputs": [
    {
     "data": {
      "text/plain": [
       "1527"
      ]
     },
     "execution_count": 27,
     "metadata": {},
     "output_type": "execute_result"
    }
   ],
   "source": [
    "np.size(train_label)"
   ]
  },
  {
   "cell_type": "markdown",
   "id": "95e13c0e",
   "metadata": {},
   "source": [
    "# Classification "
   ]
  },
  {
   "cell_type": "markdown",
   "id": "8b9b2af6",
   "metadata": {},
   "source": [
    "## Classfication with decision tree"
   ]
  },
  {
   "cell_type": "markdown",
   "id": "25a733cb",
   "metadata": {},
   "source": [
    "### Grid Search"
   ]
  },
  {
   "cell_type": "code",
   "execution_count": 28,
   "id": "62241b88",
   "metadata": {},
   "outputs": [],
   "source": [
    "dt_max_depth = [2,3,5,6,7,10,12,None]\n",
    "dt_min_samples_split = sp_randint(2, 51)\n",
    "min_samples_leaf = sp_randint(1, 51)\n",
    "criterion = [\"entropy\", \"gini\"]\n",
    "splitter = [\"best\", \"random\"]\n",
    "max_features = [None, 2, 3, 4, 5]\n",
    "\n",
    "dt_param_grid = {\n",
    "    \"max_depth\": dt_max_depth,\n",
    "    \"min_samples_split\": dt_min_samples_split.rvs(5),\n",
    "    \"min_samples_leaf\": min_samples_leaf.rvs(5),\n",
    "    \"criterion\": criterion,\n",
    "    \"splitter\": splitter,\n",
    "    \"max_features\": max_features,\n",
    "    }\n",
    "\n",
    "\n",
    "#define the grid search\n",
    "dt_grid = GridSearchCV(tree.DecisionTreeClassifier(), param_grid=dt_param_grid, \n",
    "                            scoring=make_scorer(accuracy_score))"
   ]
  },
  {
   "cell_type": "code",
   "execution_count": 29,
   "id": "ffbb8ee7",
   "metadata": {},
   "outputs": [
    {
     "name": "stdout",
     "output_type": "stream",
     "text": [
      "{'criterion': 'gini', 'max_depth': 6, 'max_features': 5, 'min_samples_leaf': 19, 'min_samples_split': 9, 'splitter': 'best'}\n"
     ]
    }
   ],
   "source": [
    "best_model = dt_grid.fit(train_set, train_label)\n",
    "print(dt_grid.best_params_)\n",
    "train_pred_dt = dt_grid.predict(train_set)\n",
    "test_pred_dt = dt_grid.predict(test_set)"
   ]
  },
  {
   "cell_type": "code",
   "execution_count": 30,
   "id": "plain-tourism",
   "metadata": {},
   "outputs": [],
   "source": [
    "blind_pred_dt = dt_grid.predict(blindtest)"
   ]
  },
  {
   "cell_type": "code",
   "execution_count": 31,
   "id": "greater-patient",
   "metadata": {},
   "outputs": [],
   "source": [
    "dot_data = export_graphviz(best_model.best_estimator_, out_file=None, \n",
    "            filled=True, rounded=True, class_names=['0','1'])"
   ]
  },
  {
   "cell_type": "code",
   "execution_count": 32,
   "id": "minor-nickel",
   "metadata": {},
   "outputs": [
    {
     "name": "stdout",
     "output_type": "stream",
     "text": [
      "digraph Tree {\n",
      "node [color=\"black\", fontname=helvetica, shape=box, style=\"filled, rounded\"];\n",
      "edge [fontname=helvetica];\n",
      "0 [fillcolor=\"#7cbeee\", label=\"X[13] <= 3.265\\ngini = 0.378\\nsamples = 1527\\nvalue = [387, 1140]\\nclass = 1\"];\n",
      "1 [fillcolor=\"#41a1e6\", label=\"X[8] <= 1.365\\ngini = 0.077\\nsamples = 497\\nvalue = [20, 477]\\nclass = 1\"];\n",
      "0 -> 1  [headlabel=\"True\", labelangle=45, labeldistance=\"2.5\"];\n",
      "2 [fillcolor=\"#3a9de5\", label=\"X[1] <= 197.5\\ngini = 0.009\\nsamples = 229\\nvalue = [1, 228]\\nclass = 1\"];\n",
      "1 -> 2;\n",
      "3 [fillcolor=\"#399de5\", label=\"gini = 0.0\\nsamples = 209\\nvalue = [0, 209]\\nclass = 1\"];\n",
      "2 -> 3;\n",
      "4 [fillcolor=\"#43a2e6\", label=\"gini = 0.095\\nsamples = 20\\nvalue = [1, 19]\\nclass = 1\"];\n",
      "2 -> 4;\n",
      "5 [fillcolor=\"#48a4e7\", label=\"X[7] <= 66.81\\ngini = 0.132\\nsamples = 268\\nvalue = [19, 249]\\nclass = 1\"];\n",
      "1 -> 5;\n",
      "6 [fillcolor=\"#3b9ee5\", label=\"X[16] <= 0.5\\ngini = 0.017\\nsamples = 231\\nvalue = [2, 229]\\nclass = 1\"];\n",
      "5 -> 6;\n",
      "7 [fillcolor=\"#43a2e6\", label=\"gini = 0.091\\nsamples = 21\\nvalue = [1, 20]\\nclass = 1\"];\n",
      "6 -> 7;\n",
      "8 [fillcolor=\"#3a9de5\", label=\"X[15] <= 39.755\\ngini = 0.009\\nsamples = 210\\nvalue = [1, 209]\\nclass = 1\"];\n",
      "6 -> 8;\n",
      "9 [fillcolor=\"#399de5\", label=\"gini = 0.0\\nsamples = 156\\nvalue = [0, 156]\\nclass = 1\"];\n",
      "8 -> 9;\n",
      "10 [fillcolor=\"#3d9fe5\", label=\"X[9] <= 0.5\\ngini = 0.036\\nsamples = 54\\nvalue = [1, 53]\\nclass = 1\"];\n",
      "8 -> 10;\n",
      "11 [fillcolor=\"#44a2e6\", label=\"gini = 0.1\\nsamples = 19\\nvalue = [1, 18]\\nclass = 1\"];\n",
      "10 -> 11;\n",
      "12 [fillcolor=\"#399de5\", label=\"gini = 0.0\\nsamples = 35\\nvalue = [0, 35]\\nclass = 1\"];\n",
      "10 -> 12;\n",
      "13 [fillcolor=\"#e1f0fb\", label=\"gini = 0.497\\nsamples = 37\\nvalue = [17, 20]\\nclass = 1\"];\n",
      "5 -> 13;\n",
      "14 [fillcolor=\"#a7d3f3\", label=\"X[0] <= 0.471\\ngini = 0.459\\nsamples = 1030\\nvalue = [367, 663]\\nclass = 1\"];\n",
      "0 -> 14  [headlabel=\"False\", labelangle=\"-45\", labeldistance=\"2.5\"];\n",
      "15 [fillcolor=\"#47a4e7\", label=\"X[10] <= 1197.5\\ngini = 0.121\\nsamples = 447\\nvalue = [29, 418]\\nclass = 1\"];\n",
      "14 -> 15;\n",
      "16 [fillcolor=\"#42a1e6\", label=\"X[5] <= 1985.5\\ngini = 0.082\\nsamples = 422\\nvalue = [18, 404]\\nclass = 1\"];\n",
      "15 -> 16;\n",
      "17 [fillcolor=\"#a1d1f3\", label=\"gini = 0.452\\nsamples = 29\\nvalue = [10, 19]\\nclass = 1\"];\n",
      "16 -> 17;\n",
      "18 [fillcolor=\"#3d9fe6\", label=\"X[17] <= 0.5\\ngini = 0.04\\nsamples = 393\\nvalue = [8, 385]\\nclass = 1\"];\n",
      "16 -> 18;\n",
      "19 [fillcolor=\"#61b1ea\", label=\"gini = 0.278\\nsamples = 30\\nvalue = [5, 25]\\nclass = 1\"];\n",
      "18 -> 19;\n",
      "20 [fillcolor=\"#3b9ee5\", label=\"X[1] <= 94.5\\ngini = 0.016\\nsamples = 363\\nvalue = [3, 360]\\nclass = 1\"];\n",
      "18 -> 20;\n",
      "21 [fillcolor=\"#3a9de5\", label=\"gini = 0.006\\nsamples = 336\\nvalue = [1, 335]\\nclass = 1\"];\n",
      "20 -> 21;\n",
      "22 [fillcolor=\"#49a5e7\", label=\"gini = 0.137\\nsamples = 27\\nvalue = [2, 25]\\nclass = 1\"];\n",
      "20 -> 22;\n",
      "23 [fillcolor=\"#d5eaf9\", label=\"gini = 0.493\\nsamples = 25\\nvalue = [11, 14]\\nclass = 1\"];\n",
      "15 -> 23;\n",
      "24 [fillcolor=\"#f8dcc9\", label=\"X[1] <= 138.0\\ngini = 0.487\\nsamples = 583\\nvalue = [338, 245]\\nclass = 0\"];\n",
      "14 -> 24;\n",
      "25 [fillcolor=\"#62b1ea\", label=\"X[5] <= 1985.5\\ngini = 0.284\\nsamples = 239\\nvalue = [41, 198]\\nclass = 1\"];\n",
      "24 -> 25;\n",
      "26 [fillcolor=\"#ffffff\", label=\"gini = 0.5\\nsamples = 28\\nvalue = [14, 14]\\nclass = 0\"];\n",
      "25 -> 26;\n",
      "27 [fillcolor=\"#56abe9\", label=\"X[4] <= 0.56\\ngini = 0.223\\nsamples = 211\\nvalue = [27, 184]\\nclass = 1\"];\n",
      "25 -> 27;\n",
      "28 [fillcolor=\"#46a3e7\", label=\"X[6] <= 183.214\\ngini = 0.115\\nsamples = 147\\nvalue = [9, 138]\\nclass = 1\"];\n",
      "27 -> 28;\n",
      "29 [fillcolor=\"#5fb0ea\", label=\"gini = 0.27\\nsamples = 56\\nvalue = [9, 47]\\nclass = 1\"];\n",
      "28 -> 29;\n",
      "30 [fillcolor=\"#399de5\", label=\"gini = 0.0\\nsamples = 91\\nvalue = [0, 91]\\nclass = 1\"];\n",
      "28 -> 30;\n",
      "31 [fillcolor=\"#86c3ef\", label=\"X[5] <= 1996.5\\ngini = 0.404\\nsamples = 64\\nvalue = [18, 46]\\nclass = 1\"];\n",
      "27 -> 31;\n",
      "32 [fillcolor=\"#fae8db\", label=\"gini = 0.495\\nsamples = 20\\nvalue = [11, 9]\\nclass = 0\"];\n",
      "31 -> 32;\n",
      "33 [fillcolor=\"#5eb0ea\", label=\"gini = 0.268\\nsamples = 44\\nvalue = [7, 37]\\nclass = 1\"];\n",
      "31 -> 33;\n",
      "34 [fillcolor=\"#e99558\", label=\"X[12] <= 53.685\\ngini = 0.236\\nsamples = 344\\nvalue = [297, 47]\\nclass = 0\"];\n",
      "24 -> 34;\n",
      "35 [fillcolor=\"#e89152\", label=\"X[13] <= 3.705\\ngini = 0.202\\nsamples = 325\\nvalue = [288, 37]\\nclass = 0\"];\n",
      "34 -> 35;\n",
      "36 [fillcolor=\"#f5d0b5\", label=\"gini = 0.473\\nsamples = 26\\nvalue = [16, 10]\\nclass = 0\"];\n",
      "35 -> 36;\n",
      "37 [fillcolor=\"#e88e4d\", label=\"X[7] <= 73.158\\ngini = 0.164\\nsamples = 299\\nvalue = [272, 27]\\nclass = 0\"];\n",
      "35 -> 37;\n",
      "38 [fillcolor=\"#f0b78e\", label=\"gini = 0.42\\nsamples = 20\\nvalue = [14, 6]\\nclass = 0\"];\n",
      "37 -> 38;\n",
      "39 [fillcolor=\"#e78b49\", label=\"gini = 0.139\\nsamples = 279\\nvalue = [258, 21]\\nclass = 0\"];\n",
      "37 -> 39;\n",
      "40 [fillcolor=\"#ebf5fc\", label=\"gini = 0.499\\nsamples = 19\\nvalue = [9, 10]\\nclass = 1\"];\n",
      "34 -> 40;\n",
      "}\n",
      "\n"
     ]
    }
   ],
   "source": [
    "graph = pydotplus.graph_from_dot_data(dot_data)\n",
    "print(graph.to_string())\n",
    "#Image(graph.create_png()) AGGIUSTARE\n"
   ]
  },
  {
   "cell_type": "markdown",
   "id": "4473325a",
   "metadata": {},
   "source": [
    "### Evaluation of the decision tree: compute accuracy, precision, recall, confusion matrix\n"
   ]
  },
  {
   "cell_type": "code",
   "execution_count": 33,
   "id": "cf2b973a",
   "metadata": {},
   "outputs": [
    {
     "name": "stdout",
     "output_type": "stream",
     "text": [
      "              precision    recall  f1-score   support\n",
      "\n",
      "  high-level       0.84      0.81      0.82       387\n",
      "   low-level       0.94      0.95      0.94      1140\n",
      "\n",
      "    accuracy                           0.91      1527\n",
      "   macro avg       0.89      0.88      0.88      1527\n",
      "weighted avg       0.91      0.91      0.91      1527\n",
      "\n"
     ]
    }
   ],
   "source": [
    "#evaulate the accuracy on the train set and the test set\n",
    "#metrics also contains precision, recall, f1 and the support\n",
    "### PUò ESSERE UTILE CALCOLARE LA PROBABILITà DI APPARTENZA DI UN RECORD AD UNA CLASSE O ALL'ALTRA (UTILE PER ROC CURVE)\n",
    "print(classification_report(train_label, train_pred_dt, target_names=class_names))"
   ]
  },
  {
   "cell_type": "code",
   "execution_count": 34,
   "id": "oriental-retro",
   "metadata": {},
   "outputs": [
    {
     "name": "stdout",
     "output_type": "stream",
     "text": [
      "              precision    recall  f1-score   support\n",
      "\n",
      "  high-level       0.80      0.75      0.78       129\n",
      "   low-level       0.92      0.94      0.93       381\n",
      "\n",
      "    accuracy                           0.89       510\n",
      "   macro avg       0.86      0.84      0.85       510\n",
      "weighted avg       0.89      0.89      0.89       510\n",
      "\n"
     ]
    }
   ],
   "source": [
    "print(classification_report(test_label, test_pred_dt, target_names=class_names))"
   ]
  },
  {
   "cell_type": "code",
   "execution_count": 35,
   "id": "7364e096",
   "metadata": {},
   "outputs": [
    {
     "data": {
      "image/png": "[encoded data removed]",
      "text/plain": [
       "<Figure size 432x288 with 2 Axes>"
      ]
     },
     "metadata": {
      "needs_background": "light"
     },
     "output_type": "display_data"
    }
   ],
   "source": [
    "cm = confusion_matrix(test_label, test_pred_dt)\n",
    "plot_confusion_matrix(dt_grid, test_set, test_label)\n",
    "plt.show() "
   ]
  },
  {
   "cell_type": "code",
   "execution_count": 36,
   "id": "square-responsibility",
   "metadata": {},
   "outputs": [
    {
     "data": {
      "text/plain": [
       "<AxesSubplot:title={'center':'ROC Curves'}, xlabel='False Positive Rate', ylabel='True Positive Rate'>"
      ]
     },
     "execution_count": 36,
     "metadata": {},
     "output_type": "execute_result"
    },
    {
     "data": {
      "image/png": "[encoded data removed]",
      "text/plain": [
       "<Figure size 432x288 with 1 Axes>"
      ]
     },
     "metadata": {
      "needs_background": "light"
     },
     "output_type": "display_data"
    }
   ],
   "source": [
    "test_pred_proba_dt = dt_grid.predict_proba(test_set)\n",
    "skplt.metrics.plot_roc(test_label, test_pred_proba_dt)"
   ]
  },
  {
   "cell_type": "code",
   "execution_count": 37,
   "id": "5ae78959",
   "metadata": {},
   "outputs": [
    {
     "data": {
      "image/png": "[encoded data removed]",
      "text/plain": [
       "<Figure size 432x288 with 1 Axes>"
      ]
     },
     "metadata": {
      "needs_background": "light"
     },
     "output_type": "display_data"
    }
   ],
   "source": [
    "#ace and minutes\n",
    "plt.scatter(test_set['minutes'], test_set['perc_ace'], c=test_label, s=10);"
   ]
  },
  {
   "cell_type": "markdown",
   "id": "483e3b9e",
   "metadata": {},
   "source": [
    "## Bayesian classifier"
   ]
  },
  {
   "cell_type": "code",
   "execution_count": 38,
   "id": "furnished-march",
   "metadata": {},
   "outputs": [],
   "source": [
    "from sklearn.naive_bayes import GaussianNB, MultinomialNB"
   ]
  },
  {
   "cell_type": "code",
   "execution_count": 39,
   "id": "79696835",
   "metadata": {},
   "outputs": [],
   "source": [
    "gnb = GaussianNB()\n",
    "gnb.fit(train_set, train_label)\n",
    "train_pred_gnb = gnb.predict(train_set)\n",
    "#predict on the test set\n",
    "test_pred_gnb = gnb.predict(test_set)"
   ]
  },
  {
   "cell_type": "code",
   "execution_count": 40,
   "id": "483bbbc6",
   "metadata": {},
   "outputs": [
    {
     "name": "stdout",
     "output_type": "stream",
     "text": [
      "              precision    recall  f1-score   support\n",
      "\n",
      "  high-level       0.68      0.92      0.79       387\n",
      "   low-level       0.97      0.86      0.91      1140\n",
      "\n",
      "    accuracy                           0.87      1527\n",
      "   macro avg       0.83      0.89      0.85      1527\n",
      "weighted avg       0.90      0.87      0.88      1527\n",
      "\n"
     ]
    }
   ],
   "source": [
    "#compute the performance of the model\n",
    "print(classification_report(train_label, train_pred_gnb, target_names=class_names))"
   ]
  },
  {
   "cell_type": "code",
   "execution_count": 41,
   "id": "68b40da8",
   "metadata": {},
   "outputs": [
    {
     "name": "stdout",
     "output_type": "stream",
     "text": [
      "              precision    recall  f1-score   support\n",
      "\n",
      "  high-level       0.64      0.88      0.74       129\n",
      "   low-level       0.95      0.83      0.89       381\n",
      "\n",
      "    accuracy                           0.85       510\n",
      "   macro avg       0.80      0.86      0.82       510\n",
      "weighted avg       0.88      0.85      0.85       510\n",
      "\n"
     ]
    }
   ],
   "source": [
    "print(classification_report(test_label, test_pred_gnb, target_names=class_names))"
   ]
  },
  {
   "cell_type": "code",
   "execution_count": 42,
   "id": "acute-pioneer",
   "metadata": {},
   "outputs": [
    {
     "data": {
      "text/plain": [
       "<AxesSubplot:title={'center':'ROC Curves'}, xlabel='False Positive Rate', ylabel='True Positive Rate'>"
      ]
     },
     "execution_count": 42,
     "metadata": {},
     "output_type": "execute_result"
    },
    {
     "data": {
      "image/png": "[encoded data removed]",
      "text/plain": [
       "<Figure size 432x288 with 1 Axes>"
      ]
     },
     "metadata": {
      "needs_background": "light"
     },
     "output_type": "display_data"
    }
   ],
   "source": [
    "test_pred_proba_gnb = gnb.predict_proba(test_set)\n",
    "test_pred_proba_gnb\n",
    "skplt.metrics.plot_roc(test_label, test_pred_proba_gnb)"
   ]
  },
  {
   "cell_type": "markdown",
   "id": "posted-brook",
   "metadata": {},
   "source": [
    "### "
   ]
  },
  {
   "cell_type": "markdown",
   "id": "bdb06a33",
   "metadata": {},
   "source": [
    "## Neural Network"
   ]
  },
  {
   "cell_type": "code",
   "execution_count": null,
   "id": "467231f6",
   "metadata": {},
   "outputs": [],
   "source": [
    "#Tensorflow\n",
    "import tensorflow as tf\n",
    "model = tf.keras.models.Sequential([\n",
    "  tf.keras.layers.Flatten(input_shape=(1, 13)),\n",
    "  tf.keras.layers.Dense(32, activation='sigmoid'),  \n",
    "  tf.keras.layers.Dense(1, activation='sigmoid')\n",
    "])\n",
    "model.compile(optimizer='adamax',\n",
    "              loss='mean_squared_error',\n",
    "              metrics=['accuracy'])"
   ]
  },
  {
   "cell_type": "code",
   "execution_count": null,
   "id": "6b129456",
   "metadata": {},
   "outputs": [],
   "source": [
    "y_train = np.asarray(train_label).astype('float32').reshape((-1,1))\n",
    "x_train = np.reshape(train_set.values, (22792, 1, 13))\n",
    "history = model.fit(x_train, y_train,\n",
    "                    epochs=80,\n",
    "                    batch_size=512,\n",
    "                    validation_split=0.2)"
   ]
  },
  {
   "cell_type": "code",
   "execution_count": null,
   "id": "4d548a5a",
   "metadata": {},
   "outputs": [],
   "source": [
    "model.summary()"
   ]
  },
  {
   "cell_type": "code",
   "execution_count": 1,
   "id": "738fb442",
   "metadata": {},
   "outputs": [
    {
     "ename": "NameError",
     "evalue": "name 'sp_randint' is not defined",
     "output_type": "error",
     "traceback": [
      "\u001b[0;31m---------------------------------------------------------------------------\u001b[0m",
      "\u001b[0;31mNameError\u001b[0m                                 Traceback (most recent call last)",
      "\u001b[0;32m<ipython-input-1-848edea7aa29>\u001b[0m in \u001b[0;36m<module>\u001b[0;34m\u001b[0m\n\u001b[1;32m      1\u001b[0m \u001b[0mdt_max_depth\u001b[0m \u001b[0;34m=\u001b[0m \u001b[0;34m[\u001b[0m\u001b[0;36m2\u001b[0m\u001b[0;34m,\u001b[0m\u001b[0;36m3\u001b[0m\u001b[0;34m,\u001b[0m\u001b[0;36m5\u001b[0m\u001b[0;34m,\u001b[0m\u001b[0;36m6\u001b[0m\u001b[0;34m,\u001b[0m\u001b[0;36m7\u001b[0m\u001b[0;34m,\u001b[0m\u001b[0;36m10\u001b[0m\u001b[0;34m,\u001b[0m\u001b[0;36m12\u001b[0m\u001b[0;34m,\u001b[0m\u001b[0;32mNone\u001b[0m\u001b[0;34m]\u001b[0m\u001b[0;34m\u001b[0m\u001b[0;34m\u001b[0m\u001b[0m\n\u001b[0;32m----> 2\u001b[0;31m \u001b[0mdt_min_samples_split\u001b[0m \u001b[0;34m=\u001b[0m \u001b[0msp_randint\u001b[0m\u001b[0;34m(\u001b[0m\u001b[0;36m2\u001b[0m\u001b[0;34m,\u001b[0m \u001b[0;36m51\u001b[0m\u001b[0;34m)\u001b[0m\u001b[0;34m\u001b[0m\u001b[0;34m\u001b[0m\u001b[0m\n\u001b[0m\u001b[1;32m      3\u001b[0m \u001b[0mmin_samples_leaf\u001b[0m \u001b[0;34m=\u001b[0m \u001b[0msp_randint\u001b[0m\u001b[0;34m(\u001b[0m\u001b[0;36m1\u001b[0m\u001b[0;34m,\u001b[0m \u001b[0;36m51\u001b[0m\u001b[0;34m)\u001b[0m\u001b[0;34m\u001b[0m\u001b[0;34m\u001b[0m\u001b[0m\n\u001b[1;32m      4\u001b[0m \u001b[0mcriterion\u001b[0m \u001b[0;34m=\u001b[0m \u001b[0;34m[\u001b[0m\u001b[0;34m\"entropy\"\u001b[0m\u001b[0;34m,\u001b[0m \u001b[0;34m\"gini\"\u001b[0m\u001b[0;34m]\u001b[0m\u001b[0;34m\u001b[0m\u001b[0;34m\u001b[0m\u001b[0m\n\u001b[1;32m      5\u001b[0m \u001b[0msplitter\u001b[0m \u001b[0;34m=\u001b[0m \u001b[0;34m[\u001b[0m\u001b[0;34m\"best\"\u001b[0m\u001b[0;34m,\u001b[0m \u001b[0;34m\"random\"\u001b[0m\u001b[0;34m]\u001b[0m\u001b[0;34m\u001b[0m\u001b[0;34m\u001b[0m\u001b[0m\n",
      "\u001b[0;31mNameError\u001b[0m: name 'sp_randint' is not defined"
     ]
    }
   ],
   "source": [
    "dt_max_depth = [2,3,5,6,7,10,12,None]\n",
    "dt_min_samples_split = sp_randint(2, 51)\n",
    "min_samples_leaf = sp_randint(1, 51)\n",
    "criterion = [\"entropy\", \"gini\"]\n",
    "splitter = [\"best\", \"random\"]\n",
    "max_features = [None, 2, 3, 4, 5]\n",
    "\n",
    "dt_param_grid = {\n",
    "    \"max_depth\": dt_max_depth,\n",
    "    \"min_samples_split\": dt_min_samples_split.rvs(5),\n",
    "    \"min_samples_leaf\": min_samples_leaf.rvs(5),\n",
    "    \"criterion\": criterion,\n",
    "    \"splitter\": splitter,\n",
    "    \"max_features\": max_features,\n",
    "    }\n",
    "\n",
    "\n",
    "#define the grid search\n",
    "dt_grid = GridSearchCV(tree.DecisionTreeClassifier(), param_grid=dt_param_grid, \n",
    "                            scoring=make_scorer(accuracy_score))"
   ]
  },
  {
   "cell_type": "code",
   "execution_count": null,
   "id": "deca22aa",
   "metadata": {},
   "outputs": [],
   "source": []
  }
 ],
 "metadata": {
  "kernelspec": {
   "display_name": "Python 3",
   "language": "python",
   "name": "python3"
  },
  "language_info": {
   "codemirror_mode": {
    "name": "ipython",
    "version": 3
   },
   "file_extension": ".py",
   "mimetype": "text/x-python",
   "name": "python",
   "nbconvert_exporter": "python",
   "pygments_lexer": "ipython3",
   "version": "3.8.8"
  }
 },
 "nbformat": 4,
 "nbformat_minor": 5
}
