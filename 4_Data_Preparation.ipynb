{
 "cells": [
  {
   "cell_type": "code",
   "execution_count": 1,
   "id": "37f6bd94",
   "metadata": {},
   "outputs": [],
   "source": [
    "import pandas as pd\n",
    "import math\n",
    "import numpy as np\n",
    "import scipy.stats as stats\n",
    "import matplotlib.pyplot as plt\n",
    "from collections import defaultdict\n",
    "from scipy.stats.stats import pearsonr\n",
    "import seaborn as sn"
   ]
  },
  {
   "cell_type": "code",
   "execution_count": 2,
   "id": "e134c28f",
   "metadata": {},
   "outputs": [
    {
     "name": "stderr",
     "output_type": "stream",
     "text": [
      "/Users/domenico/opt/anaconda3/lib/python3.8/site-packages/IPython/core/interactiveshell.py:3165: DtypeWarning: Columns (5) have mixed types.Specify dtype option on import or set low_memory=False.\n",
      "  has_raised = await self.run_ast_nodes(code_ast.body, cell_name,\n"
     ]
    },
    {
     "name": "stdout",
     "output_type": "stream",
     "text": [
      "<class 'pandas.core.frame.DataFrame'>\n",
      "Int64Index: 184890 entries, 0 to 186072\n",
      "Data columns (total 51 columns):\n",
      " #   Column              Non-Null Count   Dtype  \n",
      "---  ------              --------------   -----  \n",
      " 0   tourney_id          184890 non-null  object \n",
      " 1   tourney_name        184890 non-null  object \n",
      " 2   surface             184728 non-null  object \n",
      " 3   draw_size           184890 non-null  float64\n",
      " 4   tourney_level       184890 non-null  object \n",
      " 5   tourney_date        184890 non-null  object \n",
      " 6   match_num           184890 non-null  float64\n",
      " 7   winner_id           184890 non-null  float64\n",
      " 8   winner_entry        25701 non-null   object \n",
      " 9   winner_name         184890 non-null  object \n",
      " 10  winner_hand         184874 non-null  object \n",
      " 11  winner_ht           48560 non-null   float64\n",
      " 12  winner_ioc          184890 non-null  object \n",
      " 13  winner_age          182080 non-null  float64\n",
      " 14  loser_id            184890 non-null  float64\n",
      " 15  loser_entry         43927 non-null   object \n",
      " 16  loser_name          184890 non-null  object \n",
      " 17  loser_hand          184819 non-null  object \n",
      " 18  loser_ht            37726 non-null   float64\n",
      " 19  loser_ioc           184890 non-null  object \n",
      " 20  loser_age           178419 non-null  float64\n",
      " 21  score               184723 non-null  object \n",
      " 22  best_of             184890 non-null  float64\n",
      " 23  round               184890 non-null  object \n",
      " 24  minutes             184890 non-null  float64\n",
      " 25  w_ace               129765 non-null  float64\n",
      " 26  w_df                129765 non-null  float64\n",
      " 27  w_svpt              184890 non-null  float64\n",
      " 28  w_1stIn             184890 non-null  float64\n",
      " 29  w_1stWon            184890 non-null  float64\n",
      " 30  w_2ndWon            81339 non-null   float64\n",
      " 31  w_SvGms             184890 non-null  float64\n",
      " 32  w_bpSaved           184890 non-null  float64\n",
      " 33  w_bpFaced           184890 non-null  float64\n",
      " 34  l_ace               128104 non-null  float64\n",
      " 35  l_df                128104 non-null  float64\n",
      " 36  l_svpt              184890 non-null  float64\n",
      " 37  l_1stIn             184890 non-null  float64\n",
      " 38  l_1stWon            184890 non-null  float64\n",
      " 39  l_2ndWon            81339 non-null   float64\n",
      " 40  l_SvGms             184890 non-null  float64\n",
      " 41  l_bpSaved           184890 non-null  float64\n",
      " 42  l_bpFaced           184890 non-null  float64\n",
      " 43  winner_rank         165537 non-null  float64\n",
      " 44  winner_rank_points  165521 non-null  float64\n",
      " 45  loser_rank          149692 non-null  float64\n",
      " 46  loser_rank_points   149676 non-null  float64\n",
      " 47  tourney_spectators  184890 non-null  float64\n",
      " 48  tourney_revenue     184890 non-null  float64\n",
      " 49  winner_gender       184801 non-null  object \n",
      " 50  loser_gender        184801 non-null  object \n",
      "dtypes: float64(34), object(17)\n",
      "memory usage: 73.4+ MB\n"
     ]
    }
   ],
   "source": [
    "df = df = pd.read_csv('dataset/matches_datacleaning.csv', index_col = 0)\n",
    "pd.set_option('display.max_columns', None) # to visualize all the columns\n",
    "df.info()\n"
   ]
  },
  {
   "cell_type": "markdown",
   "id": "d68b4fdc",
   "metadata": {},
   "source": [
    "## new database building"
   ]
  },
  {
   "cell_type": "code",
   "execution_count": 3,
   "id": "4a2746d7",
   "metadata": {},
   "outputs": [
    {
     "name": "stdout",
     "output_type": "stream",
     "text": [
      "0              KEI NISHIKORI\n",
      "1            DANIIL MEDVEDEV\n",
      "3         JO-WILFRIED TSONGA\n",
      "5              JEREMY CHARDY\n",
      "8             ALEX DE MINAUR\n",
      "                 ...        \n",
      "185021      DILARA SULTANOVA\n",
      "185560      MADELEINE JESSUP\n",
      "185780            KATIE CODD\n",
      "185781             AMY HUANG\n",
      "185940       CHLOE HENDERSON\n",
      "Length: 10098, dtype: object\n"
     ]
    }
   ],
   "source": [
    "name = pd.concat([df['winner_name'], df['loser_name']]) \n",
    "#name.rename(columns={0: 'name'}, inplace = True)\n",
    "name.drop_duplicates(inplace=True)\n",
    "print(name)\n",
    "\n",
    "\n",
    "new_df = pd.DataFrame(name)\n",
    "new_df.set_index(name, inplace=True)\n",
    "\n",
    "#new_df.index.names = ['name']"
   ]
  },
  {
   "cell_type": "code",
   "execution_count": 4,
   "id": "5ee72368",
   "metadata": {},
   "outputs": [
    {
     "name": "stdout",
     "output_type": "stream",
     "text": [
      "                      name hand\n",
      "0            KEI NISHIKORI    R\n",
      "1          DANIIL MEDVEDEV    R\n",
      "3       JO-WILFRIED TSONGA    R\n",
      "5            JEREMY CHARDY    R\n",
      "8           ALEX DE MINAUR    R\n",
      "...                    ...  ...\n",
      "185021    DILARA SULTANOVA    U\n",
      "185560    MADELEINE JESSUP    U\n",
      "185780          KATIE CODD    U\n",
      "185781           AMY HUANG    U\n",
      "185940     CHLOE HENDERSON    U\n",
      "\n",
      "[10100 rows x 2 columns]\n"
     ]
    },
    {
     "name": "stderr",
     "output_type": "stream",
     "text": [
      "/Users/domenico/opt/anaconda3/lib/python3.8/site-packages/pandas/core/frame.py:4441: SettingWithCopyWarning: \n",
      "A value is trying to be set on a copy of a slice from a DataFrame\n",
      "\n",
      "See the caveats in the documentation: https://pandas.pydata.org/pandas-docs/stable/user_guide/indexing.html#returning-a-view-versus-a-copy\n",
      "  return super().rename(\n"
     ]
    }
   ],
   "source": [
    "col1=df[['winner_name','winner_hand']]\n",
    "col2=df[['loser_name','loser_hand']]\n",
    "col2.rename(columns={'loser_name': 'winner_name'}, inplace = True)\n",
    "col2.rename(columns={'loser_hand': 'winner_hand'}, inplace = True)\n",
    "name2 = col1.append(col2) \n",
    "name2.rename(columns={'winner_name': 'name','winner_hand':'hand'}, inplace = True)\n",
    "name2.drop_duplicates(inplace=True)\n",
    "print(name2)\n"
   ]
  },
  {
   "cell_type": "code",
   "execution_count": 5,
   "id": "d7d650c5",
   "metadata": {},
   "outputs": [
    {
     "data": {
      "text/plain": [
       "16"
      ]
     },
     "execution_count": 5,
     "metadata": {},
     "output_type": "execute_result"
    }
   ],
   "source": [
    "df['winner_hand'].isnull().sum()"
   ]
  },
  {
   "cell_type": "code",
   "execution_count": null,
   "id": "6a1cc53f",
   "metadata": {},
   "outputs": [],
   "source": []
  },
  {
   "cell_type": "code",
   "execution_count": 6,
   "id": "8749b93e",
   "metadata": {},
   "outputs": [
    {
     "name": "stdout",
     "output_type": "stream",
     "text": [
      "Series([], Name: winner_hand, dtype: int64)\n"
     ]
    }
   ],
   "source": [
    "WinnerId_name = df.groupby(['winner_name']).winner_hand.nunique() # it contains each value of TourneyId and the number of Tourneyname values it is associated with \n",
    "WinnerId_name = WinnerId_name[WinnerId_name > 1] # it contains the TourneyId values associated with more than one Tourneyname value\n",
    "\n",
    "print(WinnerId_name)\n"
   ]
  },
  {
   "cell_type": "code",
   "execution_count": 7,
   "id": "886b8e7c",
   "metadata": {},
   "outputs": [
    {
     "name": "stdout",
     "output_type": "stream",
     "text": [
      "loser_name\n",
      "ADAM HORNBY                      0\n",
      "AINIUS SABALIAUSKAS              0\n",
      "ALEX DIAZ                        0\n",
      "ALEX KNAFF                       0\n",
      "BERUK TSEGAI                     0\n",
      "BRUNO BRITEZ                     0\n",
      "CHRISTOPHE THOLL                 0\n",
      "DAC TIEN NGUYEN                  0\n",
      "FILIPPO MOGGIAN                  0\n",
      "GIANMARCO DE SANTIS              0\n",
      "HADY HABIB                       0\n",
      "HERNANDO JOSE ESCURRA ISNARDI    0\n",
      "IGNACIO GARCIA                   0\n",
      "ILLIA BILOBORODKO                0\n",
      "ISABEL PASCUAL MONTALVO          0\n",
      "JEROME KYM                       0\n",
      "JOSE OLIVARES                    0\n",
      "LINH GIANG TRINH                 0\n",
      "MATTHEW FOSTER ESTWICK           0\n",
      "MICHAEL OGDEN                    0\n",
      "MINJONG PARK                     0\n",
      "NICOLAS XIVILLER                 0\n",
      "PETER BERTRAN                    0\n",
      "RONG MA                          0\n",
      "ROSS WATSON                      0\n",
      "SEBASTIAN ARCILA                 0\n",
      "SEBASTIAN DOMINGUEZ              0\n",
      "SEBASTIAN QUIROS                 0\n",
      "WILLIAM KIRKMAN                  0\n",
      "XAVIER LAWRENCE                  0\n",
      "YASITHA DE SILVA                 0\n",
      "Name: loser_hand, dtype: int64\n"
     ]
    }
   ],
   "source": [
    "WinnerId_name = df.groupby(['loser_name']).loser_hand.nunique() # it contains each value of TourneyId and the number of Tourneyname values it is associated with \n",
    "WinnerId_name = WinnerId_name[WinnerId_name == 0] # it contains the TourneyId values associated with more than one Tourneyname value\n",
    "\n",
    "print(WinnerId_name)\n",
    "\n"
   ]
  },
  {
   "cell_type": "code",
   "execution_count": 8,
   "id": "69be619c",
   "metadata": {},
   "outputs": [
    {
     "name": "stdout",
     "output_type": "stream",
     "text": [
      "                 tourney_id    tourney_name surface  draw_size tourney_level  \\\n",
      "13271   W-WITF-BLR-03A-2017      MINSK $15K    Hard       32.0            15   \n",
      "16988   W-WITF-FIN-03A-2017   HELSINKI $15K    Hard       32.0            15   \n",
      "16997   W-WITF-FIN-03A-2017   HELSINKI $15K    Hard       32.0            15   \n",
      "17002   W-WITF-FIN-03A-2017   HELSINKI $15K    Hard       32.0            15   \n",
      "24211   W-WITF-SWE-05A-2017  STOCKHOLM $15K    Hard       32.0            15   \n",
      "...                     ...             ...     ...        ...           ...   \n",
      "182507   W-ITF-POR-07A-2020    W15 SANTAREM    Hard       32.0            15   \n",
      "182731   W-ITF-POR-11A-2020       W15 PORTO    Hard       32.0            15   \n",
      "182742   W-ITF-POR-11A-2020       W15 PORTO    Hard       32.0            15   \n",
      "182748   W-ITF-POR-11A-2020       W15 PORTO    Hard       32.0            15   \n",
      "183732   W-ITF-TUN-07A-2020    W15 MONASTIR    Hard       32.0            15   \n",
      "\n",
      "       tourney_date  match_num  winner_id winner_entry         winner_name  \\\n",
      "13271    2017-11-20        5.0   214741.0            Q  ANASTASIA KULIKOVA   \n",
      "16988    2017-11-13       14.0   214741.0           WC  ANASTASIA KULIKOVA   \n",
      "16997    2017-11-13       23.0   214741.0           WC  ANASTASIA KULIKOVA   \n",
      "17002    2017-11-13       28.0   214741.0           WC  ANASTASIA KULIKOVA   \n",
      "24211    2017-10-30        7.0   214741.0          NaN  ANASTASIA KULIKOVA   \n",
      "...             ...        ...        ...          ...                 ...   \n",
      "182507   2020-09-14      113.0   214741.0          NaN  ANASTASIA KULIKOVA   \n",
      "182731   2020-09-21      110.0   214741.0          NaN  ANASTASIA KULIKOVA   \n",
      "182742   2020-09-21      205.0   214741.0          NaN  ANASTASIA KULIKOVA   \n",
      "182748   2020-09-21      303.0   214741.0          NaN  ANASTASIA KULIKOVA   \n",
      "183732   2020-02-17      108.0   214741.0          NaN  ANASTASIA KULIKOVA   \n",
      "\n",
      "       winner_hand  winner_ht winner_ioc  winner_age  loser_id loser_entry  \\\n",
      "13271            L        NaN        RUS        18.0  214546.0         NaN   \n",
      "16988            L        NaN        RUS        18.0  216119.0         NaN   \n",
      "16997            L        NaN        RUS        18.0  206419.0         NaN   \n",
      "17002            L        NaN        RUS        18.0  202471.0         NaN   \n",
      "24211            L        NaN        RUS        18.0  214868.0         NaN   \n",
      "...            ...        ...        ...         ...       ...         ...   \n",
      "182507           L        NaN        FIN        21.0  212043.0           Q   \n",
      "182731           L        NaN        FIN        21.0  211903.0         NaN   \n",
      "182742           L        NaN        FIN        21.0  206430.0         NaN   \n",
      "182748           L        NaN        FIN        21.0  211063.0         NaN   \n",
      "183732           L        NaN        FIN        20.0  220160.0           Q   \n",
      "\n",
      "                               loser_name loser_hand  loser_ht loser_ioc  \\\n",
      "13271                 EKATERINA KAZIONOVA          R       NaN       RUS   \n",
      "16988                       MAILEEN NUUDI          R       NaN       EST   \n",
      "16997                        KARIN KENNEL          R       NaN       SUI   \n",
      "17002                        KAREN BARBAT          R       NaN       DEN   \n",
      "24211                 VALERIYA YUSHCHENKO          R       NaN       RUS   \n",
      "...                                   ...        ...       ...       ...   \n",
      "182507                     FREYA CHRISTIE          U       NaN       GBR   \n",
      "182731                     BARBARA GATICA          U       NaN       CHI   \n",
      "182742  CAROLINA MELIGENI RODRIGUES ALVES          U       NaN       BRA   \n",
      "182748                 VALERIYA STRAKHOVA          U       NaN       UKR   \n",
      "183732                    ROMANA CISOVSKA          U       NaN       SVK   \n",
      "\n",
      "        loser_age           score  best_of round  minutes  w_ace  w_df  \\\n",
      "13271        19.0             W/O      3.0   R32     60.0    4.0   2.0   \n",
      "16988        17.0         6-2 6-1      3.0   R32     60.0    4.0   2.0   \n",
      "16997        22.0  6-3 6-7(5) 6-3      3.0   R16     60.0    4.0   2.0   \n",
      "17002        25.0  2-6 7-6(4) 7-5      3.0    QF     60.0    4.0   2.0   \n",
      "24211        18.0         6-1 6-0      3.0   R32     60.0    4.0   2.0   \n",
      "...           ...             ...      ...   ...      ...    ...   ...   \n",
      "182507       23.0         6-2 6-0      3.0   R32     60.0    4.0   2.0   \n",
      "182731       24.0         6-3 6-2      3.0   R32     60.0    4.0   2.0   \n",
      "182742       24.0         6-3 6-4      3.0   R16     60.0    4.0   2.0   \n",
      "182748       25.0     6-4 0-6 6-2      3.0    QF     60.0    4.0   2.0   \n",
      "183732       17.0         7-5 6-4      3.0   R32     60.0    4.0   2.0   \n",
      "\n",
      "           w_svpt    w_1stIn   w_1stWon  w_2ndWon   w_SvGms  w_bpSaved  \\\n",
      "13271   46.497135  28.552372  22.607609       NaN  7.165712   1.889526   \n",
      "16988   48.473445  30.748272  25.023099       NaN  7.824482   1.450346   \n",
      "16997   48.478230  30.753589  25.028948       NaN  7.826077   1.449282   \n",
      "17002   48.480889  30.756543  25.032197       NaN  7.826963   1.448691   \n",
      "24211   52.313877  35.015419  29.716961       NaN  9.104626   0.596916   \n",
      "...           ...        ...        ...       ...       ...        ...   \n",
      "182507  49.000000  35.000000  24.000000       NaN  9.000000   0.000000   \n",
      "182731  49.000000  35.000000  24.000000       NaN  9.000000   0.000000   \n",
      "182742  49.000000  35.000000  24.000000       NaN  9.000000   0.000000   \n",
      "182748  49.000000  35.000000  24.000000       NaN  9.000000   0.000000   \n",
      "183732  49.000000  35.000000  24.000000       NaN  9.000000   0.000000   \n",
      "\n",
      "        w_bpFaced  l_ace  l_df     l_svpt    l_1stIn   l_1stWon  l_2ndWon  \\\n",
      "13271    2.834288    NaN   NaN  40.706623  17.988539   8.491404       NaN   \n",
      "16988    2.175518    1.0   4.0  51.466533  25.893779  14.420334       NaN   \n",
      "16997    2.173923    NaN   NaN  51.492586  25.912920  14.434690       NaN   \n",
      "17002    2.173037    1.0   1.0  51.507060  25.923554  14.442666       NaN   \n",
      "24211    0.895374    NaN   NaN  72.375554  41.255509  25.941632       NaN   \n",
      "...           ...    ...   ...        ...        ...        ...       ...   \n",
      "182507   2.000000    3.0   5.0  67.000000  37.000000  12.000000       NaN   \n",
      "182731   2.000000    0.0   3.0  67.000000  37.000000  12.000000       NaN   \n",
      "182742   2.000000    0.0   1.0  67.000000  37.000000  12.000000       NaN   \n",
      "182748   2.000000    1.0   4.0  67.000000  37.000000  12.000000       NaN   \n",
      "183732   2.000000    NaN   NaN  67.000000  37.000000  12.000000       NaN   \n",
      "\n",
      "         l_SvGms  l_bpSaved  l_bpFaced  winner_rank  winner_rank_points  \\\n",
      "13271   6.276186   2.110474   7.889526          NaN                 NaN   \n",
      "16988   7.374136   2.549654   7.450346          NaN                 NaN   \n",
      "16997   7.376794   2.550718   7.449282          NaN                 NaN   \n",
      "17002   7.378271   2.551309   7.448691          NaN                 NaN   \n",
      "24211   9.507710   3.403084   6.596916          NaN                 NaN   \n",
      "...          ...        ...        ...          ...                 ...   \n",
      "182507  9.000000   7.000000  13.000000        534.0                68.0   \n",
      "182731  9.000000   7.000000  13.000000        538.0                68.0   \n",
      "182742  9.000000   7.000000  13.000000        538.0                68.0   \n",
      "182748  9.000000   7.000000  13.000000        538.0                68.0   \n",
      "183732  9.000000   7.000000  13.000000        522.0                68.0   \n",
      "\n",
      "        loser_rank  loser_rank_points  tourney_spectators  tourney_revenue  \\\n",
      "13271        477.0               68.0              2858.0        645834.66   \n",
      "16988          NaN                NaN              2748.0        586611.71   \n",
      "16997        531.0               54.0              2748.0        586611.71   \n",
      "17002        506.0               59.0              2748.0        586611.71   \n",
      "24211        878.0               14.0              2985.0        512699.52   \n",
      "...            ...                ...                 ...              ...   \n",
      "182507       649.0               46.0              2378.0        507010.39   \n",
      "182731       460.0               91.0              2838.0        516816.84   \n",
      "182742       398.0              116.0              2838.0        516816.84   \n",
      "182748       384.0              123.0              2838.0        516816.84   \n",
      "183732      1223.0                5.0              3408.0        687780.93   \n",
      "\n",
      "       winner_gender loser_gender  \n",
      "13271              F            F  \n",
      "16988              F            F  \n",
      "16997              F            F  \n",
      "17002              F            F  \n",
      "24211              F            F  \n",
      "...              ...          ...  \n",
      "182507             F            F  \n",
      "182731             F            F  \n",
      "182742             F            F  \n",
      "182748             F            F  \n",
      "183732             F            F  \n",
      "\n",
      "[129 rows x 51 columns]\n"
     ]
    }
   ],
   "source": [
    "print(df[df.winner_name=='ANASTASIA KULIKOVA'])"
   ]
  },
  {
   "cell_type": "code",
   "execution_count": 9,
   "id": "463eae8b",
   "metadata": {},
   "outputs": [
    {
     "data": {
      "text/plain": [
       "winner_name\n",
       "AANU AYEGBUSI                   [R, U]\n",
       "AARON ADDISON                   [L, R]\n",
       "ABBIE MYERS                  [R, U, L]\n",
       "ABHINAV SANJEEV SHANMUGAM    [L, R, U]\n",
       "ABIGAIL DESIATNIKOV          [U, L, R]\n",
       "                               ...    \n",
       "ZOFIA PODBIOL                   [U, R]\n",
       "ZORA HUDSON                     [U, R]\n",
       "ZOZIYA KARDAVA               [U, R, L]\n",
       "ZSOMBOR PIROS                [L, R, U]\n",
       "ZUZANA ZLOCHOVA              [U, R, L]\n",
       "Name: loser_hand, Length: 4132, dtype: object"
      ]
     },
     "execution_count": 9,
     "metadata": {},
     "output_type": "execute_result"
    }
   ],
   "source": [
    "\n",
    "LoserId_name = df.groupby(['winner_name']).loser_hand.nunique() # it contains each value of TourneyId and the number of Tourneyname values it is associated with \n",
    "LoserId_name = LoserId_name[LoserId_name > 1] # it contains the TourneyId values associated with more than one Tourneyname value\n",
    "\n",
    "df[df.winner_name.isin(LoserId_name.index)].groupby(['winner_name']).loser_hand.unique()\n",
    "\n"
   ]
  },
  {
   "cell_type": "code",
   "execution_count": null,
   "id": "6adcf649",
   "metadata": {},
   "outputs": [],
   "source": []
  }
 ],
 "metadata": {
  "kernelspec": {
   "display_name": "Python 3",
   "language": "python",
   "name": "python3"
  },
  "language_info": {
   "codemirror_mode": {
    "name": "ipython",
    "version": 3
   },
   "file_extension": ".py",
   "mimetype": "text/x-python",
   "name": "python",
   "nbconvert_exporter": "python",
   "pygments_lexer": "ipython3",
   "version": "3.8.8"
  }
 },
 "nbformat": 4,
 "nbformat_minor": 5
}
