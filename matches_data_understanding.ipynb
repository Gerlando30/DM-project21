{
 "cells": [
  {
   "cell_type": "markdown",
   "metadata": {},
   "source": [
    "<span>\n",
    "<b>Authors:</b> \n",
    "<a href=\"http://------\">Ornela Danushi </a>\n",
    "<a href=\"http://------\">Gerlando Gramaglia </a>\n",
    "<a href=\"http://------\">Domenico Profumo </a><br/>\n",
    "<b>Python version:</b>  3.x<br/>\n",
    "</span>"
   ]
  },
  {
   "cell_type": "markdown",
   "metadata": {
    "tags": []
   },
   "source": [
    "# Data Understanding & Preparation on Tennis Matches dataset \n",
    "Explore the dataset by studying the data quality, their distribution among several different features and the correlations.\n",
    "\n",
    "The **central component** of the data science toolkit is **Pandas library** is a and it is used in conjunction with other libraries in that collection. Pandas is built on top of the **NumPy package**, meaning a lot of the structure of NumPy is used or replicated in Pandas. Data in pandas is often used to feed statistical analysis in **SciPy**, plotting functions from **Matplotlib**, and machine learning algorithms in Scikit-learn.\n",
    "\n",
    "**Install Pandas**\n",
    "\n",
    "Pandas is an easy package to install. Open up your terminal program (for Mac users) or command line (for PC users) and install it using either of the following commands: **conda install pandas OR pip install pandas.**\n",
    "\n",
    "Alternatively, if you're using Jupyter notebook you can run a cell with: **!pip install pandas**"
   ]
  },
  {
   "cell_type": "code",
   "execution_count": 51,
   "metadata": {},
   "outputs": [],
   "source": [
    "%matplotlib inline\n",
    "import math\n",
    "import numpy as np\n",
    "import pandas as pd\n",
    "import scipy.stats as stats\n",
    "import matplotlib.pyplot as plt\n",
    "\n",
    "from collections import defaultdict\n",
    "from scipy.stats.stats import pearsonr"
   ]
  },
  {
   "cell_type": "markdown",
   "metadata": {},
   "source": [
    "## Loading the data set\n",
    "\n",
    "Read the .csv file containing the data. The first line contains the list of attributes. The data is assigned to a Pandas dataframe."
   ]
  },
  {
   "cell_type": "code",
   "execution_count": 52,
   "metadata": {},
   "outputs": [],
   "source": [
    "df = pd.read_csv('tennis_matches.csv')#, sep=',', index_col=0) #alternative in case of json source df.to_json('filename.json')"
   ]
  },
  {
   "cell_type": "code",
   "execution_count": 53,
   "metadata": {},
   "outputs": [
    {
     "name": "stdout",
     "output_type": "stream",
     "text": [
      "   Unnamed: 0 tourney_id tourney_name surface  draw_size tourney_level  \\\n",
      "0           0  2019-M020     Brisbane    Hard       32.0             A   \n",
      "1           1  2019-M020     Brisbane    Hard       32.0             A   \n",
      "2           2  2019-M020     Brisbane    Hard       32.0             A   \n",
      "3           3  2019-M020     Brisbane    Hard       32.0             A   \n",
      "4           4  2019-M020     Brisbane    Hard       32.0             A   \n",
      "\n",
      "   tourney_date  match_num  winner_id winner_entry  ... l_2ndWon l_SvGms  \\\n",
      "0    20181231.0      300.0   105453.0          NaN  ...     20.0    14.0   \n",
      "1    20181231.0      299.0   106421.0          NaN  ...      7.0    10.0   \n",
      "2    20181231.0      298.0   105453.0          NaN  ...      6.0     8.0   \n",
      "3    20181231.0      297.0   104542.0           PR  ...      9.0    11.0   \n",
      "4    20181231.0      296.0   106421.0          NaN  ...     19.0    15.0   \n",
      "\n",
      "   l_bpSaved l_bpFaced  winner_rank  winner_rank_points loser_rank  \\\n",
      "0       10.0      15.0          9.0              3590.0       16.0   \n",
      "1       10.0      13.0         16.0              1977.0      239.0   \n",
      "2        1.0       5.0          9.0              3590.0       40.0   \n",
      "3        4.0       6.0        239.0               200.0       31.0   \n",
      "4        2.0       4.0         16.0              1977.0       18.0   \n",
      "\n",
      "  loser_rank_points tourney_spectators  tourney_revenue  \n",
      "0            1977.0             3928.0        742618.69  \n",
      "1             200.0             3928.0        742618.69  \n",
      "2            1050.0             3928.0        742618.69  \n",
      "3            1298.0             3928.0        742618.69  \n",
      "4            1855.0             3928.0        742618.69  \n",
      "\n",
      "[5 rows x 50 columns]\n"
     ]
    }
   ],
   "source": [
    "print(df.head()) #print the first records of a df, \n",
    "# print()\n",
    "# print(df.tail()) #print the last records of a df."
   ]
  },
  {
   "cell_type": "code",
   "execution_count": 54,
   "metadata": {},
   "outputs": [],
   "source": [
    "#df.dtypes #return the type of each attribute but is already included in the df.info() called later"
   ]
  },
  {
   "cell_type": "markdown",
   "metadata": {},
   "source": [
    "# Types of Attributes and basic checks \n",
    "## Data Quality with reference to Syntactic Accuracy\n",
    "\n",
    "Check the data integrity, that is whether there are any empty cells or corrupted data. \n",
    "We will use for this purpose the Pandas function **info()**, which checks if there is any \n",
    "null value in any column. This function also checks data type for each column, as well as \n",
    "number of each data types and number of observations (rows).\n",
    "\n",
    "Moreover we check if each attribute is syntactically correct according to the specifications"
   ]
  },
  {
   "cell_type": "code",
   "execution_count": 55,
   "metadata": {
    "scrolled": true
   },
   "outputs": [
    {
     "name": "stdout",
     "output_type": "stream",
     "text": [
      "<class 'pandas.core.frame.DataFrame'>\n",
      "RangeIndex: 186128 entries, 0 to 186127\n",
      "Data columns (total 50 columns):\n",
      " #   Column              Non-Null Count   Dtype  \n",
      "---  ------              --------------   -----  \n",
      " 0   Unnamed: 0          186128 non-null  int64  \n",
      " 1   tourney_id          186073 non-null  object \n",
      " 2   tourney_name        186103 non-null  object \n",
      " 3   surface             185940 non-null  object \n",
      " 4   draw_size           186099 non-null  float64\n",
      " 5   tourney_level       186099 non-null  object \n",
      " 6   tourney_date        186100 non-null  float64\n",
      " 7   match_num           186101 non-null  float64\n",
      " 8   winner_id           186073 non-null  float64\n",
      " 9   winner_entry        25827 non-null   object \n",
      " 10  winner_name         186101 non-null  object \n",
      " 11  winner_hand         186082 non-null  object \n",
      " 12  winner_ht           49341 non-null   float64\n",
      " 13  winner_ioc          186099 non-null  object \n",
      " 14  winner_age          183275 non-null  float64\n",
      " 15  loser_id            186100 non-null  float64\n",
      " 16  loser_entry         44154 non-null   object \n",
      " 17  loser_name          186097 non-null  object \n",
      " 18  loser_hand          186030 non-null  object \n",
      " 19  loser_ht            38348 non-null   float64\n",
      " 20  loser_ioc           186102 non-null  object \n",
      " 21  loser_age           179590 non-null  float64\n",
      " 22  score               185929 non-null  object \n",
      " 23  best_of             186099 non-null  float64\n",
      " 24  round               186098 non-null  object \n",
      " 25  minutes             81660 non-null   float64\n",
      " 26  w_ace               82310 non-null   float64\n",
      " 27  w_df                82312 non-null   float64\n",
      " 28  w_svpt              82310 non-null   float64\n",
      " 29  w_1stIn             82310 non-null   float64\n",
      " 30  w_1stWon            82312 non-null   float64\n",
      " 31  w_2ndWon            82309 non-null   float64\n",
      " 32  w_SvGms             82311 non-null   float64\n",
      " 33  w_bpSaved           82315 non-null   float64\n",
      " 34  w_bpFaced           82312 non-null   float64\n",
      " 35  l_ace               82313 non-null   float64\n",
      " 36  l_df                82319 non-null   float64\n",
      " 37  l_svpt              82315 non-null   float64\n",
      " 38  l_1stIn             82304 non-null   float64\n",
      " 39  l_1stWon            82311 non-null   float64\n",
      " 40  l_2ndWon            82312 non-null   float64\n",
      " 41  l_SvGms             82318 non-null   float64\n",
      " 42  l_bpSaved           82311 non-null   float64\n",
      " 43  l_bpFaced           82306 non-null   float64\n",
      " 44  winner_rank         166719 non-null  float64\n",
      " 45  winner_rank_points  166701 non-null  float64\n",
      " 46  loser_rank          150845 non-null  float64\n",
      " 47  loser_rank_points   150828 non-null  float64\n",
      " 48  tourney_spectators  186101 non-null  float64\n",
      " 49  tourney_revenue     186102 non-null  float64\n",
      "dtypes: float64(35), int64(1), object(14)\n",
      "memory usage: 71.0+ MB\n"
     ]
    }
   ],
   "source": [
    "df.info()"
   ]
  },
  {
   "cell_type": "markdown",
   "metadata": {},
   "source": [
    "\n"
   ]
  },
  {
   "cell_type": "markdown",
   "metadata": {},
   "source": [
    "### draw_size\n",
    "\n",
    "number of players in the draw, often rounded up to the nearest power of 2. (For instance, a tournament with 28 players may be shown as 32.)\n",
    "\n",
    "Analysis: since all powers of 2 are integers the idea is to convert to the 'int' format. In this case we can have undefined number errors so I consider undefined numbers 0 (controllare se è una soluzione corretta)"
   ]
  },
  {
   "cell_type": "code",
   "execution_count": 56,
   "metadata": {},
   "outputs": [
    {
     "data": {
      "text/plain": [
       "array([ 32., 128.,  64.,   8.,   4.,  16.,   2.,  nan])"
      ]
     },
     "execution_count": 56,
     "metadata": {},
     "output_type": "execute_result"
    }
   ],
   "source": [
    "#print(\"Distinct Values in draw_size: \\t\", df.draw_size.unique())\n",
    "\n",
    "dw = df['draw_size']\n",
    "log= np.log2(df['draw_size'])\n",
    "for i in range(0, len(log)):\n",
    "    dec, inter = math.modf(log[i])\n",
    "    if dec == 0:\n",
    "        log[i] = inter\n",
    "    else:\n",
    "        log[i] = inter + 1\n",
    "dw = pow(2, log)\n",
    "df['draw_size'] = dw\n",
    "df['draw_size'].unique()"
   ]
  },
  {
   "cell_type": "markdown",
   "metadata": {},
   "source": [
    "# Attributes category check\n",
    "\n",
    "- Object Attributes:<br>\n",
    "    - *tourney_id* - ***object*** \n",
    "    - *tourney_name* - ***object*** \n",
    "    - *surface* - ***object***\n",
    "    - *tourney_level* - ***object***\n",
    "    - *winner_entry* - ***object***\n",
    "    - *winner_name* - ***object***\n",
    "    - *winner_hand* - ***object***\n",
    "    - *winner_ioc* - ***object***\n",
    "    - *loser_entry* - ***object***\n",
    "    - *loser_name* - ***object***\n",
    "    - *loser_hand* - ***object***\n",
    "    - *loser_ioc* - ***object*** \n",
    "    - *score* - ***object***\n",
    "    - *round* - ***object***\n",
    "    \n",
    "    \n",
    "- Numerical Attributes:<br>\n",
    "    - *draw_size* - ***float64*** => ***int64*** done!\n",
    "    - *tourney_date* - ***float64*** => ***Datetime64***\n",
    "    - *match_num*- ***float64*** =>\n",
    "    - *winner_id*- ***float64*** =>\n",
    "    - *winner_ht*- ***float64*** => \n",
    "    - *winner_age*- ***float64*** => \n",
    "    - *loser_id*- ***float64*** =>\n",
    "    - *loser_ht*- ***float64*** =>\n",
    "    - *loser_age*- ***float64*** =>\n",
    "    - *best_of* - ***float64***\n",
    "    - *minutes* - ***float64***\n",
    "    - *w_ace* - ***float64***\n",
    "    - *w_df* - ***float64***\n",
    "    - *w_svpt* - ***float64***\n",
    "    - *w_1stIn* - ***float64***\n",
    "    - *w_1stWon* - ***float64***\n",
    "    - *w_2ndWon* - ***float64***\n",
    "    - *w_SvGms* - ***float64***\n",
    "    - *w_bpSaved* - ***float64***\n",
    "    - *w_bpFaced* - ***float64***\n",
    "    - *l_ace* - ***float64***\n",
    "    - *l_df* - ***float64***\n",
    "    - *l_svpt* - ***float64***\n",
    "    - *l_1stIn* - ***float64***\n",
    "    - *l_1stWon* - ***float64***\n",
    "    - *l_2ndWon* - ***float64***\n",
    "    - *l_SvGms* - ***float64***\n",
    "    - *l_bpSaved* - ***float64***\n",
    "    - *l_bpFaced* - ***float64***\n",
    "    - *winner_rank* - ***float64***\n",
    "    - *winner_rank_points* - ***float64***\n",
    "    - *loser_rank* - ***float64***\n",
    "    - *loser_rank_points* - ***float64***\n",
    "    - *tourney_spectators* - ***float64*** \n",
    "    - *tourney_revenue* - ***float64***\n",
    "    \n"
   ]
  },
  {
   "cell_type": "code",
   "execution_count": 48,
   "metadata": {},
   "outputs": [
    {
     "name": "stdout",
     "output_type": "stream",
     "text": [
      "Distinct Values in tourney_name: \t ['Brisbane' 'Doha' 'Pune' ... 'W100 Nicholasville KY' 'W25 Las Vegas NV'\n",
      " nan]\n",
      "Distinct Values in surface: \t ['Hard' 'Clay' 'Grass' 'Carpet' nan]\n",
      "Distinct Values in tourney_level: \t ['A' 'P' 'G' 'I' 'M' 'PM' 'F' 'D' 'C' '15' '25' '60' '100' '80' '10' '50'\n",
      " '75' 'O' 'W' nan]\n",
      "Distinct Values in winner_entry: \t [nan 'PR' 'Q' 'WC' 'Alt' 'LL' 'SE' 'ALT' 'SR' 'JE' 'A' 'ITF' 'P' 'I' 'IR'\n",
      " 'JR']\n",
      "Distinct Values in best_of: \t [ 3.  5. nan]\n",
      "Distinct Values in winner_hand: \t ['R' 'L' 'U' nan]\n"
     ]
    }
   ],
   "source": [
    "print(\"Distinct Values in surface: \\t\", df.surface.unique())\n",
    "print(\"Distinct Values in tourney_level: \\t\", df.tourney_level.unique())\n",
    "print(\"Distinct Values in winner_entry: \\t\", df.winner_entry.unique())\n",
    "print(\"Distinct Values in best_of: \\t\", df.best_of.unique())\n",
    "print(\"Distinct Values in winner_hand: \\t\", df.winner_hand.unique())\n"
   ]
  },
  {
   "cell_type": "markdown",
   "metadata": {},
   "source": [
    "## winner and loser ht"
   ]
  },
  {
   "cell_type": "markdown",
   "metadata": {},
   "source": [
    "check if the attributes contain negative values, we have some outliers and nan values"
   ]
  },
  {
   "cell_type": "code",
   "execution_count": 61,
   "metadata": {},
   "outputs": [
    {
     "data": {
      "text/plain": [
       "array([178., 198., 188., 183., 196.,  nan, 190., 193., 180., 174., 184.,\n",
       "       182., 185., 177., 175., 170., 203., 208., 211., 168., 169., 172.,\n",
       "       163., 179., 166., 173., 162., 176., 181., 191., 159., 155., 206.,\n",
       "       164., 157., 171., 165., 167., 161., 189., 194.,   2., 160., 145.])"
      ]
     },
     "execution_count": 61,
     "metadata": {},
     "output_type": "execute_result"
    }
   ],
   "source": [
    "print(df['loser_ht'].describe())\n",
    "print(df['winner_ht'].describe())\n",
    "print(df['loser_ht'].unique())\n",
    "print(df['winner_ht'].unique())"
   ]
  },
  {
   "cell_type": "markdown",
   "metadata": {},
   "source": [
    "## Winner and loser ioc "
   ]
  },
  {
   "cell_type": "code",
   "execution_count": 63,
   "metadata": {},
   "outputs": [
    {
     "name": "stdout",
     "output_type": "stream",
     "text": [
      "count     186099\n",
      "unique       124\n",
      "top          USA\n",
      "freq       16464\n",
      "Name: winner_ioc, dtype: object\n",
      "count     186102\n",
      "unique       154\n",
      "top          USA\n",
      "freq       16728\n",
      "Name: loser_ioc, dtype: object\n",
      "['JPN' 'RUS' 'FRA' 'AUS' 'CAN' 'BUL' 'GBR' 'SRB' 'USA' 'LAT' 'CZE' 'EST'\n",
      " 'UKR' 'NED' 'CRO' 'BLR' 'CHI' 'SUI' 'POL' 'GER' 'LUX' 'ESP' 'ITA' 'GEO'\n",
      " 'HUN' 'LTU' 'ARG' 'CYP' 'BIH' 'RSA' 'BEL' 'TUN' 'IND' 'BRA' 'AUT' 'POR'\n",
      " 'NZL' 'URU' 'GRE' 'SVK' 'TPE' 'KAZ' 'PUR' 'KOR' 'ROU' 'MDA' 'SLO' 'CHN'\n",
      " 'SWE' 'DEN' 'TUR' 'ESA' 'BAR' 'UZB' 'MNE' 'BOL' 'NOR' 'ECU' 'MEX' 'COL'\n",
      " 'LIE' 'ISR' 'PAR' 'DOM' 'FIN' 'GUA' 'PER' 'INA' 'THA' 'PHI' 'EGY' 'ALG'\n",
      " 'ZIM' 'PAK' 'MAR' 'HKG' 'IRL' 'LIB' 'SRI' 'VEN' 'MKD' 'PNG' 'SIN' 'GRN'\n",
      " 'BAH' 'CUB' 'TRI' 'OMA' 'MLT' 'KGZ' 'MAS' 'BDI' 'MRI' 'SAM' 'KEN' 'ARM'\n",
      " 'NAM' 'REU' 'UNK' 'MON' 'HAI' 'VIE' 'HON' 'PAN' 'CRC' 'SGP' 'TJK' 'POC'\n",
      " 'IRI' 'PHL' 'MGL' 'GUM' 'GAB' 'NGR' 'GUD' 'CAM' 'CMR' 'KUW' 'MAD' 'DEU'\n",
      " 'AND' 'NLD' 'NGA' 'GRC' nan]\n",
      "['RUS' 'FRA' 'AUS' 'CAN' 'JPN' 'BUL' 'GBR' 'SRB' 'USA' 'ARG' 'SLO' 'GER'\n",
      " 'ESP' 'ROU' 'KAZ' 'CZE' 'BEL' 'SVK' 'NED' 'UKR' 'LAT' 'EST' 'BLR' 'CRO'\n",
      " 'CHI' 'SUI' 'POL' 'LUX' 'ITA' 'GEO' 'HUN' 'LTU' 'BIH' 'QAT' 'TUR' 'AUT'\n",
      " 'CYP' 'TUN' 'IND' 'KOR' 'UZB' 'MDA' 'BRA' 'POR' 'TPE' 'ESA' 'NZL' 'URU'\n",
      " 'GRE' 'PUR' 'RSA' 'CHN' 'THA' 'SWE' 'DEN' 'COL' 'DOM' 'NOR' 'EGY' 'BAR'\n",
      " 'LIE' 'PAR' 'MNE' 'BOL' 'ECU' 'MEX' 'IRL' 'ISR' 'ALG' 'MON' 'FIN' 'VEN'\n",
      " 'LIB' 'GUA' 'PER' 'INA' 'PHI' 'HKG' 'MAR' 'ZIM' 'IRI' 'SRI' 'PAK' 'MKD'\n",
      " 'KGZ' 'ARM' 'PNG' 'SIN' 'BAH' 'TTO' 'GRN' 'TRI' 'CRC' 'CUB' 'OMA' 'MAS'\n",
      " 'PAN' 'CMR' 'MLT' 'LBN' 'BDI' 'NGR' 'MRI' 'GAB' 'AZE' 'BRN' 'SAM' 'JAM'\n",
      " 'KEN' 'GHA' 'MGL' 'JOR' 'GUD' 'REU' 'MAD' 'NAM' 'MRN' 'VIE' 'SYR' 'UNK'\n",
      " 'SGP' 'UAE' 'AHO' 'BEN' 'HAI' 'ERI' 'ITF' 'COD' 'LBA' 'HON' 'TKM' 'TJK'\n",
      " 'POC' 'BER' 'AND' 'SMR' 'PHL' 'ANT' 'TOG' 'GUM' 'VIN' 'BOT' 'CAM' 'ZAM'\n",
      " 'KUW' 'DEU' 'SAU' 'NGA' 'BGR' 'NLD' 'LVA' 'GRC' 'CRI' 'BAN' nan]\n"
     ]
    }
   ],
   "source": [
    "print(df['winner_ioc'].describe())\n",
    "print(df['loser_ioc'].describe())\n",
    "print(df['winner_ioc'].unique())\n",
    "print(df['loser_ioc'].unique())"
   ]
  },
  {
   "cell_type": "markdown",
   "metadata": {},
   "source": [
    "## winner and loser age\n",
    "Cosa rappresenta la parte decimale??"
   ]
  },
  {
   "cell_type": "code",
   "execution_count": 68,
   "metadata": {},
   "outputs": [
    {
     "name": "stdout",
     "output_type": "stream",
     "text": [
      "count    183275.000000\n",
      "mean         23.963517\n",
      "std           4.462318\n",
      "min          14.042437\n",
      "25%          20.492813\n",
      "50%          23.457906\n",
      "75%          26.869268\n",
      "max          95.000000\n",
      "Name: winner_age, dtype: float64\n",
      "count    179590.000000\n",
      "mean         23.765932\n",
      "std           4.629857\n",
      "min          14.006845\n",
      "25%          20.131417\n",
      "50%          23.227926\n",
      "75%          26.767967\n",
      "max          74.485969\n",
      "Name: loser_age, dtype: float64\n",
      "[95.         22.88569473 29.00479124 ... 15.29089665 15.4880219\n",
      " 33.51403149]\n",
      "[22.88569473 33.70568104 31.88227242 ... 41.46201232 46.85284052\n",
      " 14.14921287]\n"
     ]
    }
   ],
   "source": [
    "print(df['winner_age'].describe())\n",
    "print(df['loser_age'].describe())\n",
    "print(df['winner_age'].unique())\n",
    "print(df['loser_age'].unique())"
   ]
  },
  {
   "cell_type": "markdown",
   "metadata": {},
   "source": [
    "## minutes \n",
    "from this first analysis we found some outliers observing max value"
   ]
  },
  {
   "cell_type": "code",
   "execution_count": 73,
   "metadata": {},
   "outputs": [
    {
     "name": "stdout",
     "output_type": "stream",
     "text": [
      "count    81660.000000\n",
      "mean        97.675753\n",
      "std         41.492701\n",
      "min          0.000000\n",
      "25%         72.000000\n",
      "50%         91.000000\n",
      "75%        119.000000\n",
      "max       4756.000000\n",
      "Name: minutes, dtype: float64\n"
     ]
    }
   ],
   "source": [
    "print(df['minutes'].describe())"
   ]
  },
  {
   "cell_type": "markdown",
   "metadata": {},
   "source": [
    "## w_ace l_ace"
   ]
  },
  {
   "cell_type": "code",
   "execution_count": 75,
   "metadata": {
    "scrolled": true
   },
   "outputs": [
    {
     "name": "stdout",
     "output_type": "stream",
     "text": [
      "count    82310.000000\n",
      "mean         4.813425\n",
      "std          4.387105\n",
      "min          0.000000\n",
      "25%          2.000000\n",
      "50%          4.000000\n",
      "75%          7.000000\n",
      "max         75.000000\n",
      "Name: w_ace, dtype: float64\n",
      "[ 3. 10.  2. 12.  5. 11.  1. 16. 21. 17. 15.  6.  7. 18. 44.  9.  8.  4.\n",
      "  0. 14. 13. nan 33. 25. 20. 22. 26. 40. 19. 28. 29. 24. 30. 39. 23. 43.\n",
      " 27. 32. 38. 35. 31. 48. 53. 36. 42. 34. 64. 37. 49. 45. 75. 41. 51. 61.\n",
      " 46. 72. 52.]\n",
      "count    82313.000000\n",
      "mean         3.527875\n",
      "std          3.828217\n",
      "min          0.000000\n",
      "25%          1.000000\n",
      "50%          2.000000\n",
      "75%          5.000000\n",
      "max         67.000000\n",
      "Name: l_ace, dtype: float64\n",
      "[ 8. 17. 10.  1. 29. 12.  3.  5.  6. 13.  7.  4. 27. 22.  2.  0. 11. 20.\n",
      "  9. nan 14. 36. 26. 15. 16. 47. 24. 18. 25. 21. 59. 28. 19. 23. 67. 38.\n",
      " 37. 30. 34. 33. 31. 32. 40. 35. 52. 61. 53. 44. 45. 46. 56. 43. 39.]\n"
     ]
    }
   ],
   "source": [
    "print(df['w_ace'].describe())\n",
    "print(df['w_ace'].unique())\n",
    "print(df['l_ace'].describe())\n",
    "print(df['l_ace'].unique())\n"
   ]
  },
  {
   "cell_type": "markdown",
   "metadata": {},
   "source": [
    "## w_df l_df"
   ]
  },
  {
   "cell_type": "code",
   "execution_count": 76,
   "metadata": {
    "scrolled": false
   },
   "outputs": [
    {
     "name": "stdout",
     "output_type": "stream",
     "text": [
      "count    82312.000000\n",
      "mean         2.858174\n",
      "std          2.421105\n",
      "min          0.000000\n",
      "25%          1.000000\n",
      "50%          2.000000\n",
      "75%          4.000000\n",
      "max        114.000000\n",
      "Name: w_df, dtype: float64\n",
      "[  3.   1.   2.   8.   5.   0.   4.   6.   7.   9.  nan  10.  14.  12.\n",
      "  11.  13.  18.  19.  15.  26.  17.  25.  16.  20.  21.  22.  23.  24.\n",
      " 114.  72.  28.  45.]\n",
      "count    82319.000000\n",
      "mean         3.612556\n",
      "std          2.608092\n",
      "min          0.000000\n",
      "25%          2.000000\n",
      "50%          3.000000\n",
      "75%          5.000000\n",
      "max        114.000000\n",
      "Name: l_df, dtype: float64\n",
      "[  6.   2.   3.   5.   7.   0.   1.   4.  10.   8.   9.  nan  12.  11.\n",
      "  13.  16.  15.  17.  14.  20.  21.  28.  18.  22.  19.  23.  26.  25.\n",
      "  31. 114.  40.  36.]\n"
     ]
    }
   ],
   "source": [
    "print(df['w_df'].describe())\n",
    "print(df['w_df'].unique())\n",
    "print(df['l_df'].describe())\n",
    "print(df['l_df'].unique())\n"
   ]
  },
  {
   "cell_type": "markdown",
   "metadata": {},
   "source": [
    "## w_svpt l_svpt"
   ]
  },
  {
   "cell_type": "code",
   "execution_count": 79,
   "metadata": {},
   "outputs": [
    {
     "name": "stdout",
     "output_type": "stream",
     "text": [
      "count    82310.000000\n",
      "mean        71.288069\n",
      "std         25.524468\n",
      "min          0.000000\n",
      "25%         53.000000\n",
      "50%         67.000000\n",
      "75%         87.000000\n",
      "max       1957.000000\n",
      "Name: w_svpt, dtype: float64\n",
      "count    82315.000000\n",
      "mean        73.557335\n",
      "std         24.985696\n",
      "min          0.000000\n",
      "25%         56.000000\n",
      "50%         69.000000\n",
      "75%         88.000000\n",
      "max       1672.000000\n",
      "Name: l_svpt, dtype: float64\n"
     ]
    }
   ],
   "source": [
    "print(df['w_svpt'].describe())\n",
    "#print(df['w_svpt'].unique())\n",
    "print(df['l_svpt'].describe())\n",
    "#print(df['l_svpt'].unique())\n"
   ]
  },
  {
   "cell_type": "markdown",
   "metadata": {},
   "source": [
    "## w_1stln l_1stln"
   ]
  },
  {
   "cell_type": "code",
   "execution_count": 83,
   "metadata": {},
   "outputs": [
    {
     "name": "stdout",
     "output_type": "stream",
     "text": [
      "count    82310.000000\n",
      "mean        44.270477\n",
      "std         16.951922\n",
      "min          0.000000\n",
      "25%         32.000000\n",
      "50%         42.000000\n",
      "75%         54.000000\n",
      "max       1330.000000\n",
      "Name: w_1stIn, dtype: float64\n",
      "count    82304.000000\n",
      "mean        44.557737\n",
      "std         16.776201\n",
      "min          0.000000\n",
      "25%         33.000000\n",
      "50%         42.000000\n",
      "75%         54.000000\n",
      "max        893.000000\n",
      "Name: l_1stIn, dtype: float64\n"
     ]
    }
   ],
   "source": [
    "print(df['w_1stIn'].describe())\n",
    "#print(df['w_1stIn'].unique())\n",
    "print(df['l_1stIn'].describe())\n",
    "#print(df['l_1stIn'].unique())\n"
   ]
  },
  {
   "cell_type": "code",
   "execution_count": 88,
   "metadata": {},
   "outputs": [
    {
     "name": "stdout",
     "output_type": "stream",
     "text": [
      "count    82312.000000\n",
      "mean        32.130564\n",
      "std         11.409554\n",
      "min          0.000000\n",
      "25%         24.000000\n",
      "50%         30.000000\n",
      "75%         38.000000\n",
      "max        836.000000\n",
      "Name: w_1stWon, dtype: float64\n",
      "count    82311.000000\n",
      "mean        28.028903\n",
      "std         12.270939\n",
      "min          0.000000\n",
      "25%         19.000000\n",
      "50%         26.000000\n",
      "75%         35.000000\n",
      "max        532.000000\n",
      "Name: l_1stWon, dtype: float64\n"
     ]
    }
   ],
   "source": [
    "print(df['w_1stWon'].describe())\n",
    "#print(df['w_1stIn'].unique())\n",
    "print(df['l_1stWon'].describe())\n",
    "#print(df['l_1stIn'].unique())\n"
   ]
  },
  {
   "cell_type": "markdown",
   "metadata": {},
   "source": [
    "## TOURNEY_DATE"
   ]
  },
  {
   "cell_type": "code",
   "execution_count": 57,
   "metadata": {},
   "outputs": [],
   "source": [
    "df['tourney_date'] = pd.to_datetime(df['tourney_date'], format='%Y%m%d')\n",
    "df['tourney_date'] = [x.date() for x in df.tourney_date]\n",
    "#df.tourney_date\n",
    "#print(\"convert into Datatime64\", df['tourney_date'])\n",
    "#print(\"Distinct Values in tourney_date: \\t\", df.tourney_date.unique())\n",
    "\n"
   ]
  },
  {
   "cell_type": "markdown",
   "metadata": {},
   "source": [
    "### tourney_id, tourney_date\n",
    "\n",
    "tourney_id: has to be unique and the first four characters are always the year while the remaining part is random\n",
    "tourney_date: eight digits, YYYYMMDD, usually the Monday of the tournament week.\n",
    "\n",
    "Analysis:\n",
    "we convert type of tourney_date in Datetime64\n",
    "\n",
    "Split the value of the attribute in 2 parts, the first with 4 characters and the second with the remaing characters.\n",
    "For both the parts build a set inserting each different year and id. \n",
    "Count how many wrong years are inserted through a NaN value. \n",
    "To detect the wrong ids is more difficult since they are random and don't follow a known a structure.\n",
    "We can only conclude that the wrong id elements are those deriving from the wrong years.\n",
    "\n",
    "NOTE: The decision to take is to delete or edit all these attributes."
   ]
  },
  {
   "cell_type": "code",
   "execution_count": 30,
   "metadata": {},
   "outputs": [
    {
     "name": "stdout",
     "output_type": "stream",
     "text": [
      "Present years: {'2018', '2016', '2020', '2019', '2021', '2017'}\n",
      "Wrong years counting: 55\n"
     ]
    }
   ],
   "source": [
    "\n",
    "#tourney_id=df['tourney_id'] \n",
    "#tourney_id.describe() \n",
    "tourney_year= df['tourney_id'].str[:4]\n",
    "tourney_id= df['tourney_id'].str[5:]\n",
    "\n",
    "tourney_year_set= set()\n",
    "wrong_year= 0\n",
    "#which_id=0\n",
    "for i in tourney_year:    \n",
    "    if math.isnan(float(i)):\n",
    "        wrong_year += 1\n",
    "        #print(tourney_id[which_id])\n",
    "    else:\n",
    "        tourney_year_set.add(i)\n",
    "    #which_id += 1\n",
    "print(\"Present years: \"+ str(tourney_year_set)) #{'2018', '2019', '2016', '2020', '2021', '2017'}\n",
    "print(\"Wrong years counting: \"+ str(wrong_year)) #55\n",
    "\n",
    "tourney_id_set=set()\n",
    "for i in tourney_id:\n",
    "    tourney_id_set.add(i)\n",
    "#print(tourney_id_set)#come individuare i nan se i valori non sono per forza numerici? Questi valori nan sono parte di quelli individuati dall'anno nan\n",
    "\n",
    "#print(\"\\t\"+\"tourney_year\" +\"\\t\"+\" tourney_id\")\n",
    "#print(+ tourney_year + \"             \" + tourney_id)"
   ]
  },
  {
   "cell_type": "markdown",
   "metadata": {},
   "source": [
    "### tourney_name\n",
    "is the name of the tourney\n",
    "\n",
    "Analysis: with just viewing the values we see some NaN that have to be discovered. We build a set to view all the unique names."
   ]
  },
  {
   "cell_type": "code",
   "execution_count": 9,
   "metadata": {},
   "outputs": [],
   "source": [
    "print(\"Distinct Values in tourney_name: \\t\", df.tourney_name.unique())\n",
    "tourney_name = df['tourney_name']\n",
    "#tourney_name.describe() \n",
    "tourney_name_set = set()\n",
    "for i in tourney_name:\n",
    "    tourney_name_set.add(i)\n",
    "#print(tourney_name_set)"
   ]
  },
  {
   "cell_type": "markdown",
   "metadata": {},
   "source": [
    "### surface\n",
    "kind of surface for the match\n",
    "\n",
    "Analysis: Detected some unknown values"
   ]
  },
  {
   "cell_type": "code",
   "execution_count": 10,
   "metadata": {},
   "outputs": [
    {
     "name": "stdout",
     "output_type": "stream",
     "text": [
      "surface_set: {'Carpet', 'Clay', 'Hard', 'Grass'}\n",
      "wrong_surface: 188\n"
     ]
    }
   ],
   "source": [
    "surface=df['surface']\n",
    "\n",
    "surface_set= set()\n",
    "wrong_surface= 0\n",
    "\n",
    "for i in surface:\n",
    "    if pd.isna(i):\n",
    "        wrong_surface+=1\n",
    "    else:\n",
    "        surface_set.add(i)\n",
    "        \n",
    "print(\"surface_set: \" + str(surface_set)) # {'Carpet', 'Hard', 'Clay', 'Grass'}\n",
    "print(\"wrong_surface: \" + str(wrong_surface)) # 188"
   ]
  },
  {
   "cell_type": "markdown",
   "metadata": {},
   "source": [
    "### tourney_level\n",
    "they are split for men and women.\n",
    "\n",
    "○ For men: 'G' = Grand Slams, 'M' = Masters 1000s, 'A' = other tour-level\n",
    "events, 'C' = Challengers, 'S' = Satellites/ITFs, 'F' = Tour finals and other\n",
    "season-ending events, and 'D' = Davis Cup. F\n",
    "\n",
    "○ For women, there are several additional tourney_level codes, including 'P' =\n",
    "Premier, 'PM' = Premier Mandatory, and 'I' = International. The various levels\n",
    "of ITFs are given by the prize money (in thousands), such as '15' = ITF\n",
    "$15,000. Other codes, such as 'T1' for Tier I (and so on) are used for older\n",
    "WTA tournament designations. 'D' is used for the Federation/Fed/Billie Jean\n",
    "King Cup, and also for the Wightman Cup and Bonne Bell Cup.\n",
    "\n",
    "○ There is also some competition which can be for both men and women: 'E' =\n",
    "exhibition (events not sanctioned by the tour, though the definitions can be\n",
    "ambiguous), 'J' = juniors, and 'T' = team tennis, which does yet appear\n",
    "anywhere in the dataset but will at some point.\n",
    "\n",
    "\n",
    "Analysis: Correct! nothing to do"
   ]
  },
  {
   "cell_type": "code",
   "execution_count": 11,
   "metadata": {},
   "outputs": [
    {
     "ename": "SyntaxError",
     "evalue": "invalid syntax (<ipython-input-11-fa61e747b1a4>, line 19)",
     "output_type": "error",
     "traceback": [
      "\u001b[1;36m  File \u001b[1;32m\"<ipython-input-11-fa61e747b1a4>\"\u001b[1;36m, line \u001b[1;32m19\u001b[0m\n\u001b[1;33m    else if i in\u001b[0m\n\u001b[1;37m         ^\u001b[0m\n\u001b[1;31mSyntaxError\u001b[0m\u001b[1;31m:\u001b[0m invalid syntax\n"
     ]
    }
   ],
   "source": [
    "tourney_level=df['tourney_level']\n",
    "\n",
    "tourney_level_set= set()\n",
    "wrong_tourneylevel= 0\n",
    "men_levels=['G','M','A','C','S','F','D']\n",
    "women_levels=['P','PM','I','ITF','WTA','D']\n",
    "both_levels=['E','J','T']\n",
    "#women_levels.append(men_levels)\n",
    "\n",
    "gender=[] #['M','W','-']\n",
    "loc=0\n",
    "\n",
    "for i in tourney_level:\n",
    "    if pd.isna(i):\n",
    "        wrong_tourneylevel+=1\n",
    "    else:\n",
    "        if i in men_levels:\n",
    "            gender.iloc[loc]='M'\n",
    "        else if i in \n",
    "        tourney_level_set.add(i)\n",
    "    loc +=1\n",
    "    \n",
    "print(\"tourney_level_set: \" + str(tourney_level_set)) # {'M', 'W', 'PM', '100', 'D', 'O', '15', 'I', 'F', '60', 'G', '80', '50', 'A', 'P', '25', '75', 'C', '10'}\n",
    "print(\"wrong_tourneylevel: \" + str(wrong_tourneylevel)) # 29\n"
   ]
  },
  {
   "cell_type": "markdown",
   "metadata": {},
   "source": [
    "### winner_entry and loser_entry\n",
    "\n",
    "'WC' = wild card, 'Q' = qualifier, 'LL' = lucky loser, 'PR' = protected\n",
    "ranking, 'ITF' = ITF entry, and there are a few others that are occasionally used.\n",
    "\n",
    "loser_entry: analogous\n",
    "\n",
    "Analysis: Correct! nothing to do"
   ]
  },
  {
   "cell_type": "code",
   "execution_count": null,
   "metadata": {},
   "outputs": [],
   "source": [
    "df['winner_entry'].head()"
   ]
  },
  {
   "cell_type": "markdown",
   "metadata": {},
   "source": [
    "### winner_name and loser_name\n",
    "\n",
    "name of player that win \n",
    "\n",
    "Analysis: Correct! nothing to do"
   ]
  },
  {
   "cell_type": "code",
   "execution_count": null,
   "metadata": {},
   "outputs": [],
   "source": [
    "df['winner_name'].head()"
   ]
  },
  {
   "cell_type": "markdown",
   "metadata": {},
   "source": [
    "### winner_hand and loser_hand\n",
    "R= right, L = left, U = unknown. For ambidextrous players, this is their\n",
    "serving hand.\n",
    "\n",
    "Analysis: Correct! nothing to do"
   ]
  },
  {
   "cell_type": "code",
   "execution_count": null,
   "metadata": {},
   "outputs": [],
   "source": [
    "df['winner_hand'].head()"
   ]
  },
  {
   "cell_type": "markdown",
   "metadata": {},
   "source": [
    "### winner_ioc and loser_ioc\n",
    "\n",
    "three-character country code\n",
    "\n",
    "Analysis: Correct! nothing to do"
   ]
  },
  {
   "cell_type": "code",
   "execution_count": null,
   "metadata": {},
   "outputs": [],
   "source": [
    "df['winner_ioc'].head()"
   ]
  },
  {
   "cell_type": "markdown",
   "metadata": {},
   "source": [
    "### Score\n",
    "\n",
    "Analysis: ?"
   ]
  },
  {
   "cell_type": "code",
   "execution_count": null,
   "metadata": {},
   "outputs": [],
   "source": [
    "df['score'].head()"
   ]
  },
  {
   "cell_type": "markdown",
   "metadata": {},
   "source": [
    "### Round\n",
    "\n",
    "Analysis: Correct! nothing to do"
   ]
  },
  {
   "cell_type": "code",
   "execution_count": null,
   "metadata": {
    "scrolled": true
   },
   "outputs": [],
   "source": [
    "df['round'].head()"
   ]
  },
  {
   "cell_type": "markdown",
   "metadata": {},
   "source": [
    "## Now let's start with analizyning each numerical Attributes\n"
   ]
  },
  {
   "cell_type": "markdown",
   "metadata": {},
   "source": [
    "### tourney_date\n",
    "\n",
    "eight digits, YYYYMMDD, usually the Monday of the tournament week.\n",
    "\n",
    "Analysis: use pandas function for convert into date format"
   ]
  },
  {
   "cell_type": "code",
   "execution_count": null,
   "metadata": {},
   "outputs": [],
   "source": [
    "df['tourney_date']=pd.to_datetime(df['tourney_date'], format='%Y%m%d')\n",
    "\n",
    "print(df['tourney_date'])\n"
   ]
  },
  {
   "cell_type": "markdown",
   "metadata": {},
   "source": [
    "### match_num\n",
    "\n",
    "a match-specific identifier. Often starting from 1, sometimes counting down from 300, and sometimes arbitrary.\n",
    "\n",
    "Analysis: I can convert in integer values and left nan in value 0 because my values is limited in a range [1,300]"
   ]
  },
  {
   "cell_type": "code",
   "execution_count": null,
   "metadata": {},
   "outputs": [],
   "source": [
    "df['match_num'] = np.nan_to_num(df['match_num']).astype(int)\n",
    "df['match_num'].head()"
   ]
  },
  {
   "cell_type": "markdown",
   "metadata": {},
   "source": [
    "### winner_id and loser_id\n",
    "\n",
    "the player_id used in this repo for the winner of the match."
   ]
  },
  {
   "cell_type": "code",
   "execution_count": null,
   "metadata": {},
   "outputs": [],
   "source": [
    "df['winner_id'].describe()"
   ]
  },
  {
   "cell_type": "markdown",
   "metadata": {},
   "source": [
    "### winner_ht and loser_ht\n",
    "\n",
    "height in centimetres, where available"
   ]
  },
  {
   "cell_type": "code",
   "execution_count": null,
   "metadata": {},
   "outputs": [],
   "source": [
    "df['winner_ht']=np.nan_to_num(df['winner_ht']).astype(int)\n",
    "df['winner_ht'].head()"
   ]
  },
  {
   "cell_type": "markdown",
   "metadata": {},
   "source": [
    "### winner_age and loser_age\n",
    "\n",
    "the age of the player, in years, depending on the date of the tournament"
   ]
  },
  {
   "cell_type": "code",
   "execution_count": null,
   "metadata": {},
   "outputs": [],
   "source": [
    "df['winner_age'].head()"
   ]
  },
  {
   "cell_type": "markdown",
   "metadata": {
    "tags": []
   },
   "source": [
    "# Data Integration\n",
    "We load another table containing the name and surname of any male and female person"
   ]
  },
  {
   "cell_type": "code",
   "execution_count": null,
   "metadata": {},
   "outputs": [],
   "source": [
    "df_male = pd.read_csv('male_players.csv', sep=',') \n",
    "print(df_male.head())\n",
    "\n",
    "print()\n",
    "\n",
    "df_female = pd.read_csv('female_players.csv', sep=',') \n",
    "print(df_female.head())"
   ]
  },
  {
   "cell_type": "code",
   "execution_count": null,
   "metadata": {},
   "outputs": [],
   "source": []
  }
 ],
 "metadata": {
  "kernelspec": {
   "display_name": "Python 3",
   "language": "python",
   "name": "python3"
  },
  "language_info": {
   "codemirror_mode": {
    "name": "ipython",
    "version": 3
   },
   "file_extension": ".py",
   "mimetype": "text/x-python",
   "name": "python",
   "nbconvert_exporter": "python",
   "pygments_lexer": "ipython3",
   "version": "3.8.3"
  }
 },
 "nbformat": 4,
 "nbformat_minor": 5
}
