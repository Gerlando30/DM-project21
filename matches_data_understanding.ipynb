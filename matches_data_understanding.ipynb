{
 "cells": [
  {
   "cell_type": "markdown",
   "id": "298dbe21-c108-4d37-8bcd-b53e50df3320",
   "metadata": {},
   "source": [
    "<span>\n",
    "<b>Authors:</b> \n",
    "<a href=\"http://------\">Ornela Danushi </a>\n",
    "<a href=\"http://------\">Gerlando Gramaglia </a>\n",
    "<a href=\"http://------\">Domenico Profumo </a><br/>\n",
    "<b>Python version:</b>  3.x<br/>\n",
    "</span>"
   ]
  },
  {
   "cell_type": "markdown",
   "id": "18888502-715d-4184-a91f-24f185f71640",
   "metadata": {
    "tags": []
   },
   "source": [
    "# Data Understanding & Preparation on Tennis Matches dataset \n",
    "Explore the dataset by studying the data quality, their distribution among several different features and the correlations.\n",
    "\n",
    "The **central component** of the data science toolkit is **Pandas library** is a and it is used in conjunction with other libraries in that collection. Pandas is built on top of the **NumPy package**, meaning a lot of the structure of NumPy is used or replicated in Pandas. Data in pandas is often used to feed statistical analysis in **SciPy**, plotting functions from **Matplotlib**, and machine learning algorithms in Scikit-learn.\n",
    "\n",
    "**Install Pandas**\n",
    "\n",
    "Pandas is an easy package to install. Open up your terminal program (for Mac users) or command line (for PC users) and install it using either of the following commands: **conda install pandas OR pip install pandas.**\n",
    "\n",
    "Alternatively, if you're using Jupyter notebook you can run a cell with: **!pip install pandas**"
   ]
  },
  {
   "cell_type": "code",
   "execution_count": 1,
   "id": "8e395945-bd01-4438-843d-8a3d54032caa",
   "metadata": {},
   "outputs": [],
   "source": [
    "%matplotlib inline\n",
    "import math\n",
    "import numpy as np\n",
    "import pandas as pd\n",
    "import scipy.stats as stats\n",
    "import matplotlib.pyplot as plt\n",
    "\n",
    "from collections import defaultdict\n",
    "from scipy.stats.stats import pearsonr"
   ]
  },
  {
   "cell_type": "markdown",
   "id": "96414b1a-5483-4f38-b403-05f2dc62d2ff",
   "metadata": {},
   "source": [
    "## Loading the data set\n",
    "\n",
    "Read the .csv file containing the data. The first line contains the list of attributes. The data is assigned to a Pandas dataframe."
   ]
  },
  {
   "cell_type": "code",
   "execution_count": 2,
   "id": "d42a8ee8-ba1f-4cf2-8b68-d9b5874c4283",
   "metadata": {},
   "outputs": [],
   "source": [
    "df = pd.read_csv('tennis_matches.csv')#, sep=',', index_col=0) #alternative in case of json source df.to_json('filename.json')"
   ]
  },
  {
   "cell_type": "code",
   "execution_count": 3,
   "id": "7b1b645e-dad1-4d71-a112-c95ad345faff",
   "metadata": {},
   "outputs": [
    {
     "name": "stdout",
     "output_type": "stream",
     "text": [
      "   Unnamed: 0 tourney_id tourney_name surface  draw_size tourney_level  \\\n",
      "0           0  2019-M020     Brisbane    Hard       32.0             A   \n",
      "1           1  2019-M020     Brisbane    Hard       32.0             A   \n",
      "2           2  2019-M020     Brisbane    Hard       32.0             A   \n",
      "3           3  2019-M020     Brisbane    Hard       32.0             A   \n",
      "4           4  2019-M020     Brisbane    Hard       32.0             A   \n",
      "\n",
      "   tourney_date  match_num  winner_id winner_entry  ... l_2ndWon l_SvGms  \\\n",
      "0    20181231.0      300.0   105453.0          NaN  ...     20.0    14.0   \n",
      "1    20181231.0      299.0   106421.0          NaN  ...      7.0    10.0   \n",
      "2    20181231.0      298.0   105453.0          NaN  ...      6.0     8.0   \n",
      "3    20181231.0      297.0   104542.0           PR  ...      9.0    11.0   \n",
      "4    20181231.0      296.0   106421.0          NaN  ...     19.0    15.0   \n",
      "\n",
      "   l_bpSaved l_bpFaced  winner_rank  winner_rank_points loser_rank  \\\n",
      "0       10.0      15.0          9.0              3590.0       16.0   \n",
      "1       10.0      13.0         16.0              1977.0      239.0   \n",
      "2        1.0       5.0          9.0              3590.0       40.0   \n",
      "3        4.0       6.0        239.0               200.0       31.0   \n",
      "4        2.0       4.0         16.0              1977.0       18.0   \n",
      "\n",
      "  loser_rank_points tourney_spectators  tourney_revenue  \n",
      "0            1977.0             3928.0        742618.69  \n",
      "1             200.0             3928.0        742618.69  \n",
      "2            1050.0             3928.0        742618.69  \n",
      "3            1298.0             3928.0        742618.69  \n",
      "4            1855.0             3928.0        742618.69  \n",
      "\n",
      "[5 rows x 50 columns]\n"
     ]
    }
   ],
   "source": [
    "print(df.head()) #print the first records of a df, \n",
    "# print()\n",
    "# print(df.tail()) #print the last records of a df."
   ]
  },
  {
   "cell_type": "code",
   "execution_count": 4,
   "id": "fa756be3-3f91-4148-bb79-00e473690d67",
   "metadata": {},
   "outputs": [],
   "source": [
    "#df.dtypes #return the type of each attribute but is already included in the df.info() called later"
   ]
  },
  {
   "cell_type": "markdown",
   "id": "47ce5711-9e25-4f1b-83f9-88afdc582363",
   "metadata": {},
   "source": [
    "# Types of Attributes and basic checks \n",
    "## Data Quality with reference to Syntactic Accuracy\n",
    "\n",
    "Check the data integrity, that is whether there are any empty cells or corrupted data. \n",
    "We will use for this purpose the Pandas function **info()**, which checks if there is any \n",
    "null value in any column. This function also checks data type for each column, as well as \n",
    "number of each data types and number of observations (rows).\n",
    "\n",
    "Moreover we check if each attribute is syntactically correct according to the specifications"
   ]
  },
  {
   "cell_type": "code",
   "execution_count": 4,
   "id": "e8e42117-29e5-4afe-be98-9b8edb190cc2",
   "metadata": {},
   "outputs": [
    {
     "name": "stdout",
     "output_type": "stream",
     "text": [
      "<class 'pandas.core.frame.DataFrame'>\n",
      "RangeIndex: 186128 entries, 0 to 186127\n",
      "Data columns (total 50 columns):\n",
      " #   Column              Non-Null Count   Dtype  \n",
      "---  ------              --------------   -----  \n",
      " 0   Unnamed: 0          186128 non-null  int64  \n",
      " 1   tourney_id          186073 non-null  object \n",
      " 2   tourney_name        186103 non-null  object \n",
      " 3   surface             185940 non-null  object \n",
      " 4   draw_size           186099 non-null  float64\n",
      " 5   tourney_level       186099 non-null  object \n",
      " 6   tourney_date        186100 non-null  float64\n",
      " 7   match_num           186101 non-null  float64\n",
      " 8   winner_id           186073 non-null  float64\n",
      " 9   winner_entry        25827 non-null   object \n",
      " 10  winner_name         186101 non-null  object \n",
      " 11  winner_hand         186082 non-null  object \n",
      " 12  winner_ht           49341 non-null   float64\n",
      " 13  winner_ioc          186099 non-null  object \n",
      " 14  winner_age          183275 non-null  float64\n",
      " 15  loser_id            186100 non-null  float64\n",
      " 16  loser_entry         44154 non-null   object \n",
      " 17  loser_name          186097 non-null  object \n",
      " 18  loser_hand          186030 non-null  object \n",
      " 19  loser_ht            38348 non-null   float64\n",
      " 20  loser_ioc           186102 non-null  object \n",
      " 21  loser_age           179590 non-null  float64\n",
      " 22  score               185929 non-null  object \n",
      " 23  best_of             186099 non-null  float64\n",
      " 24  round               186098 non-null  object \n",
      " 25  minutes             81660 non-null   float64\n",
      " 26  w_ace               82310 non-null   float64\n",
      " 27  w_df                82312 non-null   float64\n",
      " 28  w_svpt              82310 non-null   float64\n",
      " 29  w_1stIn             82310 non-null   float64\n",
      " 30  w_1stWon            82312 non-null   float64\n",
      " 31  w_2ndWon            82309 non-null   float64\n",
      " 32  w_SvGms             82311 non-null   float64\n",
      " 33  w_bpSaved           82315 non-null   float64\n",
      " 34  w_bpFaced           82312 non-null   float64\n",
      " 35  l_ace               82313 non-null   float64\n",
      " 36  l_df                82319 non-null   float64\n",
      " 37  l_svpt              82315 non-null   float64\n",
      " 38  l_1stIn             82304 non-null   float64\n",
      " 39  l_1stWon            82311 non-null   float64\n",
      " 40  l_2ndWon            82312 non-null   float64\n",
      " 41  l_SvGms             82318 non-null   float64\n",
      " 42  l_bpSaved           82311 non-null   float64\n",
      " 43  l_bpFaced           82306 non-null   float64\n",
      " 44  winner_rank         166719 non-null  float64\n",
      " 45  winner_rank_points  166701 non-null  float64\n",
      " 46  loser_rank          150845 non-null  float64\n",
      " 47  loser_rank_points   150828 non-null  float64\n",
      " 48  tourney_spectators  186101 non-null  float64\n",
      " 49  tourney_revenue     186102 non-null  float64\n",
      "dtypes: float64(35), int64(1), object(14)\n",
      "memory usage: 71.0+ MB\n"
     ]
    }
   ],
   "source": [
    "df.info()"
   ]
  },
  {
   "cell_type": "markdown",
   "id": "355f8893",
   "metadata": {},
   "source": [
    "# Attributes category check\n",
    "\n",
    "- Categorical Attributes:<br>\n",
    "    - *tourney_id* - ***object*** => ***Date***-***Id***?\n",
    "    - *tourney_name* - ***object*** \n",
    "    - *surface* - ***object***\n",
    "    - *tourney_level* - ***object***\n",
    "    - *winner_entry* - ***object***\n",
    "    - *winner_name* - ***object***\n",
    "    - *winner_hand* - ***object***\n",
    "    - *winner_ioc* - ***object***\n",
    "    - *loser_entry* - ***object***\n",
    "    - *loser_name* - ***object***\n",
    "    - *loser_hand* - ***object***\n",
    "    - *loser_ioc* - ***object*** \n",
    "    - *score* - ***object***\n",
    "    - *round* - ***object***\n",
    "    \n",
    "    \n",
    "- Numerical Attributes:<br>\n",
    "    - *draw_size* - ***float64*** => ***int64***\n",
    "    - *tourney_date* - ***float64*** => ***DateTime***\n",
    "    - *match_num*- ***float64*** =>\n",
    "    - *winner_id*- ***float64*** =>\n",
    "    - *winner_ht*- ***float64*** => \n",
    "    - *winner_age*- ***float64*** => \n",
    "    - *loser_id*- ***float64*** =>\n",
    "    - *loser_ht*- ***float64*** =>\n",
    "    - *loser_age*- ***float64*** =>\n",
    "    - *best_of* - ***float64***\n",
    "    - *minutes* - ***float64***\n",
    "    - *w_ace* - ***float64***\n",
    "    - *w_df* - ***float64***\n",
    "    - *w_svpt* - ***float64***\n",
    "    - *w_1stIn* - ***float64***\n",
    "    - *w_1stWon* - ***float64***\n",
    "    - *w_2ndWon* - ***float64***\n",
    "    - *w_SvGms* - ***float64***\n",
    "    - *w_bpSaved* - ***float64***\n",
    "    - *w_bpFaced* - ***float64***\n",
    "    - *l_ace* - ***float64***\n",
    "    - *l_df* - ***float64***\n",
    "    - *l_svpt* - ***float64***\n",
    "    - *l_1stIn* - ***float64***\n",
    "    - *l_1stWon* - ***float64***\n",
    "    - *l_2ndWon* - ***float64***\n",
    "    - *l_SvGms* - ***float64***\n",
    "    - *l_bpSaved* - ***float64***\n",
    "    - *l_bpFaced* - ***float64***\n",
    "    - *winner_rank* - ***float64***\n",
    "    - *winner_rank_points* - ***float64***\n",
    "    - *loser_rank* - ***float64***\n",
    "    - *loser_rank_points* - ***float64***\n",
    "    - *tourney_spectators* - ***float64*** \n",
    "    - *tourney_revenue* - ***float64***\n"
   ]
  },
  {
   "cell_type": "markdown",
   "id": "38375f73",
   "metadata": {},
   "source": [
    " ## Now let's start with analyzing each categorical Attributes\n",
    "\n"
   ]
  },
  {
   "cell_type": "markdown",
   "id": "7f549fdd",
   "metadata": {},
   "source": [
    "### tourney_id\n",
    "\n",
    "has to be unique and the first four characters are always the year while the remaining part is random\n",
    "\n",
    "Analysis: \n",
    "Split the value of the attribute in 2 parts, the first with 4 characters and the second with the remaing characters.\n",
    "For both the parts build a set inserting each different year and id. \n",
    "Count how many wrong years are inserted through a NaN value. \n",
    "To detect the wrong ids is more difficult since they are random and don't follow a known a structure.\n",
    "We can only conclude that the wrong id elements are those deriving from the wrong years.\n",
    "\n",
    "NOTE: The decision to take is to delete or edit all these attributes."
   ]
  },
  {
   "cell_type": "code",
   "execution_count": 25,
   "id": "f1c4963e",
   "metadata": {},
   "outputs": [
    {
     "name": "stdout",
     "output_type": "stream",
     "text": [
      "Present years: \n",
      "{'2018', '2019', '2016', '2020', '2021', '2017'}\n",
      "Wrong years counting: \n",
      "55\n"
     ]
    }
   ],
   "source": [
    "#tourney_id=df['tourney_id'] \n",
    "#tourney_id.describe() \n",
    "\n",
    "tourney_year= df['tourney_id'].str[:4]\n",
    "tourney_id= df['tourney_id'].str[5:]\n",
    "\n",
    "tourney_year_set= set()\n",
    "wrong_year= 0\n",
    "#which_id=0\n",
    "for i in tourney_year:    \n",
    "    if math.isnan(float(i)):\n",
    "        wrong_year += 1\n",
    "        #print(tourney_id[which_id])\n",
    "    else:\n",
    "        tourney_year_set.add(i)\n",
    "    #which_id += 1\n",
    "print(\"Present years: \")\n",
    "print(tourney_year_set) #{'2018', '2019', '2016', '2020', '2021', '2017'}\n",
    "print(\"Wrong years counting: \")\n",
    "print(wrong_year) #55\n",
    "\n",
    "tourney_id_set=set()\n",
    "for i in tourney_id:\n",
    "    tourney_id_set.add(i)\n",
    "#print(tourney_id_set)#come individuare i nan se i valori non sono per forza numerici? Questi valori nan sono parte di quelli individuati dall'anno nan\n",
    "\n",
    "#print(\"\\t\"+\"tourney_year\" +\"\\t\"+\" tourney_id\")\n",
    "#print(+ tourney_year + \"             \" + tourney_id)"
   ]
  },
  {
   "cell_type": "markdown",
   "id": "bf7c5fa6",
   "metadata": {},
   "source": [
    "### tourney_name\n",
    "is the name of the tourney\n",
    "\n",
    "Analysis: with just viewing the values we see some NaN that have to be discovered. We build a set to view all the unique names."
   ]
  },
  {
   "cell_type": "code",
   "execution_count": 30,
   "id": "dbca2f9a",
   "metadata": {},
   "outputs": [],
   "source": [
    "tourney_name = df['tourney_name']\n",
    "#tourney_name.describe() \n",
    "tourney_name_set = set()\n",
    "for i in tourney_name:\n",
    "    tourney_name_set.add(i)\n",
    "#print(tourney_name_set)"
   ]
  },
  {
   "cell_type": "markdown",
   "id": "b4d94e78",
   "metadata": {},
   "source": [
    "### surface\n",
    "kind of surface for the match\n",
    "\n",
    "Analysis: Correct! nothing to do"
   ]
  },
  {
   "cell_type": "code",
   "execution_count": 8,
   "id": "4af93617",
   "metadata": {},
   "outputs": [
    {
     "data": {
      "text/plain": [
       "0         Hard\n",
       "1         Hard\n",
       "2         Hard\n",
       "3         Hard\n",
       "4         Hard\n",
       "          ... \n",
       "186123    Hard\n",
       "186124     NaN\n",
       "186125     NaN\n",
       "186126     NaN\n",
       "186127    Hard\n",
       "Name: surface, Length: 186128, dtype: object"
      ]
     },
     "execution_count": 8,
     "metadata": {},
     "output_type": "execute_result"
    }
   ],
   "source": [
    "df['surface']"
   ]
  },
  {
   "cell_type": "markdown",
   "id": "5ae391dd",
   "metadata": {},
   "source": [
    "### tourney_level\n",
    "they are split for men and women.\n",
    "\n",
    "○ For men: 'G' = Grand Slams, 'M' = Masters 1000s, 'A' = other tour-level\n",
    "events, 'C' = Challengers, 'S' = Satellites/ITFs, 'F' = Tour finals and other\n",
    "season-ending events, and 'D' = Davis Cup. F\n",
    "\n",
    "○ For women, there are several additional tourney_level codes, including 'P' =\n",
    "Premier, 'PM' = Premier Mandatory, and 'I' = International. The various levels\n",
    "of ITFs are given by the prize money (in thousands), such as '15' = ITF\n",
    "$15,000. Other codes, such as 'T1' for Tier I (and so on) are used for older\n",
    "WTA tournament designations. 'D' is used for the Federation/Fed/Billie Jean\n",
    "King Cup, and also for the Wightman Cup and Bonne Bell Cup.\n",
    "\n",
    "○ There is also some competition which can be for both men and women: 'E' =\n",
    "exhibition (events not sanctioned by the tour, though the definitions can be\n",
    "ambiguous), 'J' = juniors, and 'T' = team tennis, which does yet appear\n",
    "anywhere in the dataset but will at some point.\n",
    "\n",
    "\n",
    "Analysis: Correct! nothing to do"
   ]
  },
  {
   "cell_type": "code",
   "execution_count": 9,
   "id": "5657fb40",
   "metadata": {},
   "outputs": [
    {
     "data": {
      "text/plain": [
       "0           A\n",
       "1           A\n",
       "2           A\n",
       "3           A\n",
       "4           A\n",
       "         ... \n",
       "186123    NaN\n",
       "186124      C\n",
       "186125      C\n",
       "186126      C\n",
       "186127      C\n",
       "Name: tourney_level, Length: 186128, dtype: object"
      ]
     },
     "execution_count": 9,
     "metadata": {},
     "output_type": "execute_result"
    }
   ],
   "source": [
    "df['tourney_level']"
   ]
  },
  {
   "cell_type": "markdown",
   "id": "6a63064e",
   "metadata": {},
   "source": [
    "### winner_entry and loser_entry\n",
    "\n",
    "'WC' = wild card, 'Q' = qualifier, 'LL' = lucky loser, 'PR' = protected\n",
    "ranking, 'ITF' = ITF entry, and there are a few others that are occasionally used.\n",
    "\n",
    "loser_entry: analogous\n",
    "\n",
    "Analysis: Correct! nothing to do"
   ]
  },
  {
   "cell_type": "code",
   "execution_count": 10,
   "id": "ee45c9ec",
   "metadata": {},
   "outputs": [
    {
     "data": {
      "text/plain": [
       "0    NaN\n",
       "1    NaN\n",
       "2    NaN\n",
       "3     PR\n",
       "4    NaN\n",
       "Name: winner_entry, dtype: object"
      ]
     },
     "execution_count": 10,
     "metadata": {},
     "output_type": "execute_result"
    }
   ],
   "source": [
    "df['winner_entry'].head()"
   ]
  },
  {
   "cell_type": "markdown",
   "id": "ec5a34f6",
   "metadata": {},
   "source": [
    "### winner_name\n",
    "\n",
    "name of player that win \n",
    "\n",
    "Analysis: Correct! nothing to do"
   ]
  },
  {
   "cell_type": "code",
   "execution_count": 11,
   "id": "c20147f7",
   "metadata": {},
   "outputs": [
    {
     "data": {
      "text/plain": [
       "0         Kei Nishikori\n",
       "1       Daniil Medvedev\n",
       "2         Kei Nishikori\n",
       "3    Jo-Wilfried Tsonga\n",
       "4       Daniil Medvedev\n",
       "Name: winner_name, dtype: object"
      ]
     },
     "execution_count": 11,
     "metadata": {},
     "output_type": "execute_result"
    }
   ],
   "source": [
    "df['winner_name'].head()"
   ]
  },
  {
   "cell_type": "markdown",
   "id": "55950d59",
   "metadata": {},
   "source": [
    "### winner_hand and loser_hand\n",
    "R= right, L = left, U = unknown. For ambidextrous players, this is their\n",
    "serving hand.\n",
    "\n",
    "Analysis: Correct! nothing to do"
   ]
  },
  {
   "cell_type": "code",
   "execution_count": 12,
   "id": "ec64ff20",
   "metadata": {},
   "outputs": [
    {
     "data": {
      "text/plain": [
       "0    R\n",
       "1    R\n",
       "2    R\n",
       "3    R\n",
       "4    R\n",
       "Name: winner_hand, dtype: object"
      ]
     },
     "execution_count": 12,
     "metadata": {},
     "output_type": "execute_result"
    }
   ],
   "source": [
    "df['winner_hand'].head()"
   ]
  },
  {
   "cell_type": "markdown",
   "id": "d30d4b1f",
   "metadata": {},
   "source": [
    "### winner_ioc and loser_ioc\n",
    "\n",
    "three-character country code\n",
    "\n",
    "Analysis: Correct! nothing to do"
   ]
  },
  {
   "cell_type": "code",
   "execution_count": 13,
   "id": "226b4ae3",
   "metadata": {},
   "outputs": [
    {
     "data": {
      "text/plain": [
       "0    JPN\n",
       "1    RUS\n",
       "2    JPN\n",
       "3    FRA\n",
       "4    RUS\n",
       "Name: winner_ioc, dtype: object"
      ]
     },
     "execution_count": 13,
     "metadata": {},
     "output_type": "execute_result"
    }
   ],
   "source": [
    "df['winner_ioc'].head()"
   ]
  },
  {
   "cell_type": "markdown",
   "id": "67a5491e",
   "metadata": {},
   "source": [
    "### Score\n",
    "\n",
    "Analysis: ?"
   ]
  },
  {
   "cell_type": "code",
   "execution_count": 14,
   "id": "6e778648",
   "metadata": {},
   "outputs": [
    {
     "data": {
      "text/plain": [
       "0       6-4 3-6 6-2\n",
       "1        7-6(6) 6-2\n",
       "2           6-2 6-2\n",
       "3        6-4 7-6(2)\n",
       "4    6-7(2) 6-3 6-4\n",
       "Name: score, dtype: object"
      ]
     },
     "execution_count": 14,
     "metadata": {},
     "output_type": "execute_result"
    }
   ],
   "source": [
    "df['score'].head()"
   ]
  },
  {
   "cell_type": "markdown",
   "id": "7f378546",
   "metadata": {},
   "source": [
    "### Round\n",
    "\n",
    "Analysis: Correct! nothing to do"
   ]
  },
  {
   "cell_type": "code",
   "execution_count": 15,
   "id": "4fb55879",
   "metadata": {},
   "outputs": [
    {
     "data": {
      "text/plain": [
       "0     F\n",
       "1    SF\n",
       "2    SF\n",
       "3    QF\n",
       "4    QF\n",
       "Name: round, dtype: object"
      ]
     },
     "execution_count": 15,
     "metadata": {},
     "output_type": "execute_result"
    }
   ],
   "source": [
    "df['round'].head()"
   ]
  },
  {
   "cell_type": "markdown",
   "id": "f7ee9d92",
   "metadata": {},
   "source": [
    "## Now let's start with analizyning each numerical Attributes\n"
   ]
  },
  {
   "cell_type": "markdown",
   "id": "a1daf149",
   "metadata": {},
   "source": [
    "### draw_size\n",
    "\n",
    "number of players in the draw, often rounded up to the nearest power of 2. (For instance, a tournament with 28 players may be shown as 32.)\n",
    "\n",
    "Analysis: since all powers of 2 are integers the idea is to convert to the 'int' format. In this case we can have undefined number errors so I consider undefined numbers 0 (controllare se è una soluzione corretta)"
   ]
  },
  {
   "cell_type": "code",
   "execution_count": 16,
   "id": "0286c659",
   "metadata": {},
   "outputs": [
    {
     "data": {
      "text/plain": [
       "0    32\n",
       "1    32\n",
       "2    32\n",
       "3    32\n",
       "4    32\n",
       "Name: draw_size, dtype: int64"
      ]
     },
     "execution_count": 16,
     "metadata": {},
     "output_type": "execute_result"
    }
   ],
   "source": [
    "df['draw_size']= df['draw_size'].fillna(0)\n",
    "df['draw_size']= df['draw_size'].astype(int)\n",
    "df['draw_size'].head()"
   ]
  },
  {
   "cell_type": "markdown",
   "id": "6d962f41",
   "metadata": {},
   "source": [
    "### tourney_date\n",
    "\n",
    "eight digits, YYYYMMDD, usually the Monday of the tournament week.\n",
    "\n",
    "Analysis: non posso convertirlo nel tipo data perchè anche qui abbiamo valori null, come ci comportiamo?"
   ]
  },
  {
   "cell_type": "code",
   "execution_count": 17,
   "id": "3ea60364",
   "metadata": {},
   "outputs": [
    {
     "data": {
      "text/plain": [
       "0    20181231.0\n",
       "1    20181231.0\n",
       "2    20181231.0\n",
       "3    20181231.0\n",
       "4    20181231.0\n",
       "Name: tourney_date, dtype: float64"
      ]
     },
     "execution_count": 17,
     "metadata": {},
     "output_type": "execute_result"
    }
   ],
   "source": [
    "df['tourney_date'].head()"
   ]
  },
  {
   "cell_type": "markdown",
   "id": "0f290be5-da9c-4776-9cda-1a5ecfab12f4",
   "metadata": {
    "tags": []
   },
   "source": [
    "# Data Integration\n",
    "We load another table containing the name and surname of any male and female person"
   ]
  },
  {
   "cell_type": "code",
   "execution_count": 18,
   "id": "e18aac0b-d1f4-4a2d-8559-647fb55c01a6",
   "metadata": {},
   "outputs": [
    {
     "name": "stdout",
     "output_type": "stream",
     "text": [
      "             name   surname\n",
      "0         Gardnar    Mulloy\n",
      "1          Pancho    Segura\n",
      "2           Frank   Sedgman\n",
      "3        Giuseppe     Merlo\n",
      "4  Richard Pancho  Gonzales\n",
      "\n",
      "      name surname\n",
      "0    Bobby   Riggs\n",
      "1        X       X\n",
      "2  Martina  Hingis\n",
      "3  Mirjana   Lucic\n",
      "4  Justine   Henin\n"
     ]
    }
   ],
   "source": [
    "df_male = pd.read_csv('male_players.csv', sep=',') \n",
    "print(df_male.head())\n",
    "\n",
    "print()\n",
    "\n",
    "df_female = pd.read_csv('female_players.csv', sep=',') \n",
    "print(df_female.head())"
   ]
  },
  {
   "cell_type": "code",
   "execution_count": null,
   "id": "575dd262-7476-46fb-93f1-d68a56c6b222",
   "metadata": {},
   "outputs": [],
   "source": []
  }
 ],
 "metadata": {
  "kernelspec": {
   "display_name": "Python 3 (ipykernel)",
   "language": "python",
   "name": "python3"
  },
  "language_info": {
   "codemirror_mode": {
    "name": "ipython",
    "version": 3
   },
   "file_extension": ".py",
   "mimetype": "text/x-python",
   "name": "python",
   "nbconvert_exporter": "python",
   "pygments_lexer": "ipython3",
   "version": "3.8.2"
  }
 },
 "nbformat": 4,
 "nbformat_minor": 5
}
