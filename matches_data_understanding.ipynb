{
 "cells": [
  {
   "cell_type": "markdown",
   "id": "fb6f876b",
   "metadata": {},
   "source": [
    "<span>\n",
    "<b>Authors:</b> \n",
    "<a href=\"http://------\">Ornela Danushi </a>\n",
    "<a href=\"http://------\">Gerlando Gramaglia </a>\n",
    "<a href=\"http://------\">Domenico Profumo </a><br/>\n",
    "<b>Python version:</b>  3.x<br/>\n",
    "</span>"
   ]
  },
  {
   "cell_type": "markdown",
   "id": "2eae0051",
   "metadata": {
    "tags": []
   },
   "source": [
    "# Data Understanding & Preparation on Tennis Matches dataset \n",
    "Explore the dataset by studying the data quality, their distribution among several different features and the correlations.\n",
    "\n",
    "The **central component** of the data science toolkit is **Pandas library** is a and it is used in conjunction with other libraries in that collection. Pandas is built on top of the **NumPy package**, meaning a lot of the structure of NumPy is used or replicated in Pandas. Data in pandas is often used to feed statistical analysis in **SciPy**, plotting functions from **Matplotlib**, and machine learning algorithms in Scikit-learn.\n",
    "\n",
    "**Install Pandas**\n",
    "\n",
    "Pandas is an easy package to install. Open up your terminal program (for Mac users) or command line (for PC users) and install it using either of the following commands: **conda install pandas OR pip install pandas.**\n",
    "\n",
    "Alternatively, if you're using Jupyter notebook you can run a cell with: **!pip install pandas**"
   ]
  },
  {
   "cell_type": "code",
   "execution_count": 1,
   "id": "d010f341",
   "metadata": {},
   "outputs": [],
   "source": [
    "\n",
    "import pandas as pd\n",
    "import math\n",
    "import numpy as np\n",
    "import scipy.stats as stats\n",
    "import matplotlib.pyplot as plt\n",
    "from collections import defaultdict\n",
    "from scipy.stats.stats import pearsonr"
   ]
  },
  {
   "cell_type": "code",
   "execution_count": 2,
   "id": "ada3fc3f",
   "metadata": {},
   "outputs": [],
   "source": [
    "#df.dtypes #return the type of each attribute but is already included in the df.info() called later"
   ]
  },
  {
   "cell_type": "markdown",
   "id": "b6d917a0",
   "metadata": {},
   "source": [
    "# Types of Attributes and basic checks \n",
    "## Data Quality with reference to Syntactic Accuracy\n",
    "\n",
    "Check the data integrity, that is whether there are any empty cells or corrupted data. \n",
    "We will use for this purpose the Pandas function **info()**, which checks if there is any \n",
    "null value in any column. This function also checks data type for each column, as well as \n",
    "number of each data types and number of observations (rows).\n",
    "\n",
    "Moreover we check if each attribute is syntactically correct according to the specifications"
   ]
  },
  {
   "cell_type": "code",
   "execution_count": 3,
   "id": "b89625d5",
   "metadata": {
    "scrolled": true
   },
   "outputs": [
    {
     "name": "stdout",
     "output_type": "stream",
     "text": [
      "<class 'pandas.core.frame.DataFrame'>\n",
      "Int64Index: 186128 entries, 0 to 186127\n",
      "Data columns (total 51 columns):\n",
      " #   Column              Non-Null Count   Dtype  \n",
      "---  ------              --------------   -----  \n",
      " 0   tourney_id          186073 non-null  object \n",
      " 1   tourney_name        186103 non-null  object \n",
      " 2   surface             185940 non-null  object \n",
      " 3   draw_size           186099 non-null  float64\n",
      " 4   tourney_level       186099 non-null  object \n",
      " 5   tourney_date        186100 non-null  float64\n",
      " 6   match_num           186101 non-null  float64\n",
      " 7   winner_id           186073 non-null  float64\n",
      " 8   winner_entry        25827 non-null   object \n",
      " 9   winner_name         186101 non-null  object \n",
      " 10  winner_hand         186082 non-null  object \n",
      " 11  winner_ht           49341 non-null   float64\n",
      " 12  winner_ioc          186099 non-null  object \n",
      " 13  winner_age          183275 non-null  float64\n",
      " 14  loser_id            186100 non-null  float64\n",
      " 15  loser_entry         44154 non-null   object \n",
      " 16  loser_name          186097 non-null  object \n",
      " 17  loser_hand          186030 non-null  object \n",
      " 18  loser_ht            38348 non-null   float64\n",
      " 19  loser_ioc           186102 non-null  object \n",
      " 20  loser_age           179590 non-null  float64\n",
      " 21  score               185929 non-null  object \n",
      " 22  best_of             186099 non-null  float64\n",
      " 23  round               186098 non-null  object \n",
      " 24  minutes             81660 non-null   float64\n",
      " 25  w_ace               82310 non-null   float64\n",
      " 26  w_df                82312 non-null   float64\n",
      " 27  w_svpt              82310 non-null   float64\n",
      " 28  w_1stIn             82310 non-null   float64\n",
      " 29  w_1stWon            82312 non-null   float64\n",
      " 30  w_2ndWon            82309 non-null   float64\n",
      " 31  w_SvGms             82311 non-null   float64\n",
      " 32  w_bpSaved           82315 non-null   float64\n",
      " 33  w_bpFaced           82312 non-null   float64\n",
      " 34  l_ace               82313 non-null   float64\n",
      " 35  l_df                82319 non-null   float64\n",
      " 36  l_svpt              82315 non-null   float64\n",
      " 37  l_1stIn             82304 non-null   float64\n",
      " 38  l_1stWon            82311 non-null   float64\n",
      " 39  l_2ndWon            82312 non-null   float64\n",
      " 40  l_SvGms             82318 non-null   float64\n",
      " 41  l_bpSaved           82311 non-null   float64\n",
      " 42  l_bpFaced           82306 non-null   float64\n",
      " 43  winner_rank         166719 non-null  float64\n",
      " 44  winner_rank_points  166701 non-null  float64\n",
      " 45  loser_rank          150845 non-null  float64\n",
      " 46  loser_rank_points   150828 non-null  float64\n",
      " 47  tourney_spectators  186101 non-null  float64\n",
      " 48  tourney_revenue     186102 non-null  float64\n",
      " 49  winner_gender       183424 non-null  object \n",
      " 50  loser_gender        183999 non-null  object \n",
      "dtypes: float64(35), object(16)\n",
      "memory usage: 73.8+ MB\n"
     ]
    }
   ],
   "source": [
    "df = df = pd.read_csv('matches_with_gender.csv', index_col = 0)\n",
    "df.info()"
   ]
  },
  {
   "cell_type": "markdown",
   "id": "3eef7633",
   "metadata": {},
   "source": [
    "\n"
   ]
  },
  {
   "cell_type": "markdown",
   "id": "e9fe0db4",
   "metadata": {},
   "source": [
    "## Classification of Data Domain\n",
    "\n",
    "### Tourney\n",
    "\n",
    "     - *tourney_id* - ***object*** \n",
    "     - *tourney_name* - ***object*** \n",
    "     - *tourney_level* - ***object***\n",
    "     - *tourney_spectators* - ***float64*** \n",
    "     - *tourney_revenue* - ***float64***\n",
    "    \n",
    " ### Matches\n",
    " \n",
    "     - *match_num*- ***float64***\n",
    "     - *surface* - ***object***\n",
    "     - *draw_size* - ***float64*** => ***int64*** \n",
    "     - *tourney_date* - ***float64*** => ***Datetime64***\n",
    "     - *minutes* - ***float64*** \n",
    "     - *score* - ***object***\n",
    "     - *round* - ***object** \n",
    "     - *best_of* - ***float64***\n",
    "\n",
    " ### Players\n",
    " \n",
    "    - *winner_id*- ***float64***           - *loser_id*- ***float64*** \n",
    "    - *winner_name* - ***object***         - *loser_name* - ***object***\n",
    "    - *winner_ioc* - ***object***          - *loser_ioc* - ***object*** \n",
    "    - *winner_ht*- ***float64***           - *loser_ht*- ***float64*** \n",
    "    - *winner_age*- ***float64***          - *loser_age*- ***float64*** \n",
    "    - *winner_hand* - ***object***         - *loser_hand* - ***object***\n",
    "    - *winner_entry* - ***object***        - *loser_entry* - ***object***\n",
    "    - *winner_rank* - ***float64***        - *loser_rank* - ***float64***\n",
    "    - *winner_rank_points* - ***float64*** - *loser_rank_points* - ***float64***\n",
    "    - *w_ace* - ***float64***              - *l_ace* - ***float64***\n",
    "    - *w_df* - ***float64***               - *l_df* - ***float64***\n",
    "    - *w_svpt* - ***float64***             - *l_svpt* - ***float64***\n",
    "    - *w_1stIn* - ***float64***            - *l_1stIn* - ***float64***\n",
    "    - *w_1stWon* - ***float64***           - *l_1stWon* - ***float64***\n",
    "    - *w_2ndWon* - ***float64***           - *l_2ndWon* - ***float64***\n",
    "    - *w_SvGms* - ***float64***            - *l_SvGms* - ***float64***\n",
    "    - *w_bpSaved* - ***float64***          - *l_bpSaved* - ***float64***\n",
    "    - *w_bpFaced* - ***float64***          - *l_bpFaced* - ***float64*** \n",
    "    - *winner_gender* - ***object***      - *loser_gender* - ***object*** \n",
    " "
   ]
  },
  {
   "cell_type": "markdown",
   "id": "55daf69c",
   "metadata": {},
   "source": [
    "## Tourney\n"
   ]
  },
  {
   "cell_type": "markdown",
   "id": "fbe70ce6",
   "metadata": {},
   "source": [
    "### tourney_id\n",
    "\n",
    "has to be unique and the first four characters are always the year while the remaining part is random\n",
    "\n",
    "Analysis:\n",
    "\n",
    "Split the value of the attribute in 2 parts, the first with 4 characters and the second with the remaing characters.\n",
    "For both the parts build a set inserting each different year and id. \n",
    "Count how many wrong years are inserted through a NaN value. \n",
    "To detect the wrong ids is more difficult since they are random and don't follow a known a structure.\n",
    "We can only conclude that the wrong id elements are those deriving from the wrong years.\n",
    "\n",
    "NOTE: The decision to take is to delete or edit all these attributes."
   ]
  },
  {
   "cell_type": "code",
   "execution_count": 4,
   "id": "f34b3d7a",
   "metadata": {},
   "outputs": [
    {
     "name": "stdout",
     "output_type": "stream",
     "text": [
      "count       186073\n",
      "unique        4853\n",
      "top       2018-560\n",
      "freq           478\n",
      "Name: tourney_id, dtype: object\n",
      "Present years: {'2019', '2018', '2021', '2017', '2016', '2020'}\n",
      "Wrong years counting: 55\n"
     ]
    }
   ],
   "source": [
    "print(df['tourney_id'].describe())\n",
    "tourney_year= df['tourney_id'].str[:4]\n",
    "tourney_id= df['tourney_id'].str[5:]\n",
    "\n",
    "tourney_year_set= set()\n",
    "wrong_year= 0\n",
    "#which_id=0\n",
    "for i in tourney_year:    \n",
    "    if math.isnan(float(i)):\n",
    "        wrong_year += 1\n",
    "        #print(tourney_id[which_id])\n",
    "    else:\n",
    "        tourney_year_set.add(i)\n",
    "    #which_id += 1\n",
    "print(\"Present years: \"+ str(tourney_year_set)) #{'2018', '2019', '2016', '2020', '2021', '2017'}\n",
    "print(\"Wrong years counting: \"+ str(wrong_year)) #55\n",
    "\n",
    "tourney_id_set=set()\n",
    "for i in tourney_id:\n",
    "    tourney_id_set.add(i)\n",
    "#print(tourney_id_set)#come individuare i nan se i valori non sono per forza numerici? Questi valori nan sono parte di quelli individuati dall'anno nan\n",
    "\n",
    "#print(\"\\t\"+\"tourney_year\" +\"\\t\"+\" tourney_id\")\n",
    "#print(+ tourney_year + \"             \" + tourney_id)"
   ]
  },
  {
   "cell_type": "markdown",
   "id": "12471868",
   "metadata": {},
   "source": [
    "### tourney_name\n",
    "is the name of the tourney\n",
    "\n",
    "Analysis: with just viewing the values we see some NaN that have to be discovered. We build a set to view all the unique names."
   ]
  },
  {
   "cell_type": "code",
   "execution_count": 5,
   "id": "5634e4a5",
   "metadata": {},
   "outputs": [
    {
     "name": "stdout",
     "output_type": "stream",
     "text": [
      "Distinct Values in tourney_name: ['Brisbane' 'Doha' 'Pune' ... 'W100 Nicholasville KY' 'W25 Las Vegas NV'\n",
      " nan]\n"
     ]
    },
    {
     "data": {
      "text/plain": [
       "count          186103\n",
       "unique           2488\n",
       "top       W15 Antalya\n",
       "freq             4634\n",
       "Name: tourney_name, dtype: object"
      ]
     },
     "execution_count": 5,
     "metadata": {},
     "output_type": "execute_result"
    }
   ],
   "source": [
    "print(\"Distinct Values in tourney_name:\", df.tourney_name.unique())\n",
    "df.tourney_name.describe() "
   ]
  },
  {
   "cell_type": "markdown",
   "id": "0369fd38",
   "metadata": {},
   "source": [
    "### tourney_level\n",
    "they are split for men and women.\n",
    "\n",
    "○ For men: 'G' = Grand Slams, 'M' = Masters 1000s, 'A' = other tour-level\n",
    "events, 'C' = Challengers, 'S' = Satellites/ITFs, 'F' = Tour finals and other\n",
    "season-ending events, and 'D' = Davis Cup. F\n",
    "\n",
    "○ For women, there are several additional tourney_level codes, including 'P' =\n",
    "Premier, 'PM' = Premier Mandatory, and 'I' = International. The various levels\n",
    "of ITFs are given by the prize money (in thousands), such as '15' = ITF\n",
    "$15,000. Other codes, such as 'T1' for Tier I (and so on) are used for older\n",
    "WTA tournament designations. 'D' is used for the Federation/Fed/Billie Jean\n",
    "King Cup, and also for the Wightman Cup and Bonne Bell Cup.\n",
    "\n",
    "○ There is also some competition which can be for both men and women: 'E' =\n",
    "exhibition (events not sanctioned by the tour, though the definitions can be\n",
    "ambiguous), 'J' = juniors, and 'T' = team tennis, which does yet appear\n",
    "anywhere in the dataset but will at some point.\n",
    "\n",
    "\n",
    "Analysis:"
   ]
  },
  {
   "cell_type": "code",
   "execution_count": 6,
   "id": "1fca9a8d",
   "metadata": {},
   "outputs": [
    {
     "name": "stdout",
     "output_type": "stream",
     "text": [
      "Distinct Values in tourney_level: \t ['A' 'P' 'G' 'I' 'M' 'PM' 'F' 'D' 'C' '15' '25' '60' '100' '80' '10' '50'\n",
      " '75' 'O' 'W' nan]\n",
      "count     186099\n",
      "unique        19\n",
      "top           15\n",
      "freq       45807\n",
      "Name: tourney_level, dtype: object\n"
     ]
    }
   ],
   "source": [
    "tourney_level=df['tourney_level']\n",
    "\n",
    "print(\"Distinct Values in tourney_level: \\t\", df.tourney_level.unique())\n",
    "print(df.tourney_level.describe())\n",
    "\n"
   ]
  },
  {
   "cell_type": "markdown",
   "id": "a97a2f3b",
   "metadata": {},
   "source": [
    "'''\n",
    "tourney_level_set= set()\n",
    "wrong_tourneylevel= 0\n",
    "men_levels=['G','M','A','C','S','F','D']\n",
    "women_levels=['P','PM','I','ITF','WTA','D']\n",
    "both_levels=['E','J','T']\n",
    "#women_levels.append(men_levels)\n",
    "\n",
    "gender=[] #['M','W','-']\n",
    "loc=0\n",
    "\n",
    "for i in tourney_level:\n",
    "    if pd.isna(i):\n",
    "        wrong_tourneylevel+=1\n",
    "    else:\n",
    "        if i in men_levels:\n",
    "            gender.iloc[loc]='M'\n",
    "        else if i in \n",
    "        tourney_level_set.add(i)\n",
    "    loc +=1\n",
    "    \n",
    "print(\"tourney_level_set: \" + str(tourney_level_set)) # {'M', 'W', 'PM', '100', 'D', 'O', '15', 'I', 'F', '60', 'G', '80', '50', 'A', 'P', '25', '75', 'C', '10'}\n",
    "print(\"wrong_tourneylevel: \" + str(wrong_tourneylevel)) # 29\n",
    "'''"
   ]
  },
  {
   "cell_type": "markdown",
   "id": "c8c6cdf1",
   "metadata": {},
   "source": [
    "## tourney_spectators     tourney_revenue"
   ]
  },
  {
   "cell_type": "code",
   "execution_count": 7,
   "id": "f495e49d",
   "metadata": {
    "scrolled": true
   },
   "outputs": [
    {
     "name": "stdout",
     "output_type": "stream",
     "text": [
      "count    186101.000000\n",
      "mean       4108.569153\n",
      "std        2707.042984\n",
      "min          91.000000\n",
      "25%        2836.000000\n",
      "50%        3340.000000\n",
      "75%        4008.000000\n",
      "max       18086.000000\n",
      "Name: tourney_spectators, dtype: float64\n",
      "count    1.861020e+05\n",
      "mean     8.226442e+05\n",
      "std      6.008570e+05\n",
      "min      1.786574e+04\n",
      "25%      5.473662e+05\n",
      "50%      6.633297e+05\n",
      "75%      8.340290e+05\n",
      "max      5.002794e+06\n",
      "Name: tourney_revenue, dtype: float64\n"
     ]
    }
   ],
   "source": [
    "print(df['tourney_spectators'].describe())\n",
    "#print(df['tourney_spectators'].unique())\n",
    "print(df['tourney_revenue'].describe())\n",
    "#print(df['tourney_revenue'].unique())"
   ]
  },
  {
   "cell_type": "markdown",
   "id": "d32afa93",
   "metadata": {},
   "source": [
    "## Matches"
   ]
  },
  {
   "cell_type": "markdown",
   "id": "01c33fd9",
   "metadata": {},
   "source": [
    "### match_num\n",
    "\n",
    "a match-specific identifier. Often starting from 1, sometimes counting down from 300, and sometimes arbitrary.\n",
    "\n",
    "Analysis: I can convert in integer values and left nan in value 0 because my values is limited in a range [1,300]"
   ]
  },
  {
   "cell_type": "code",
   "execution_count": 8,
   "id": "44f4fcbc",
   "metadata": {},
   "outputs": [
    {
     "name": "stdout",
     "output_type": "stream",
     "text": [
      "count    186101.000000\n",
      "mean        160.627992\n",
      "std         289.326473\n",
      "min           1.000000\n",
      "25%          17.000000\n",
      "50%         131.000000\n",
      "75%         272.000000\n",
      "max        8312.000000\n",
      "Name: match_num, dtype: float64\n",
      "null values: 27\n"
     ]
    }
   ],
   "source": [
    "print(df['match_num'].describe())\n",
    "print(\"null values:\",  df['match_num'].isnull().sum())\n"
   ]
  },
  {
   "cell_type": "code",
   "execution_count": null,
   "id": "d1df596c",
   "metadata": {},
   "outputs": [],
   "source": []
  },
  {
   "cell_type": "markdown",
   "id": "e6be196e",
   "metadata": {},
   "source": [
    "### surface\n",
    "kind of surface for the match\n",
    "\n",
    "Analysis: Detected some unknown values"
   ]
  },
  {
   "cell_type": "code",
   "execution_count": 9,
   "id": "73c447fa",
   "metadata": {},
   "outputs": [
    {
     "name": "stdout",
     "output_type": "stream",
     "text": [
      "['Hard' 'Clay' 'Grass' 'Carpet' nan]\n",
      "count     185940\n",
      "unique         4\n",
      "top         Hard\n",
      "freq       95243\n",
      "Name: surface, dtype: object\n",
      "null values: 188\n"
     ]
    }
   ],
   "source": [
    "print(df['surface'].unique())\n",
    "print(df['surface'].describe())\n",
    "print(\"null values:\",  df['surface'].isnull().sum())"
   ]
  },
  {
   "cell_type": "markdown",
   "id": "96ac3888",
   "metadata": {},
   "source": [
    "## TOURNEY_DATE\n",
    "\n",
    "tourney_date: eight digits, YYYYMMDD, usually the Monday of the tournament week.\n",
    "\n",
    "Analysis:\n",
    "we convert type of tourney_date in Datetime64"
   ]
  },
  {
   "cell_type": "code",
   "execution_count": 10,
   "id": "40eaedfb",
   "metadata": {},
   "outputs": [],
   "source": [
    "df['tourney_date'] = pd.to_datetime(df['tourney_date'], format='%Y%m%d')\n",
    "df['tourney_date'] = [x.date() for x in df.tourney_date]\n",
    "#df.tourney_date\n",
    "#print(\"convert into Datatime64\", df['tourney_date'])\n",
    "#print(\"Distinct Values in tourney_date: \\t\", df.tourney_date.unique())\n",
    "\n"
   ]
  },
  {
   "cell_type": "markdown",
   "id": "292f0312",
   "metadata": {},
   "source": [
    "### draw_size\n",
    "\n",
    "number of players in the draw, often rounded up to the nearest power of 2. (For instance, a tournament with 28 players may be shown as 32.)\n",
    "\n",
    "Analysis: since all powers of 2 are integers the idea is to convert to the 'int' format. In this case we can have undefined number errors so I consider undefined numbers 0 (controllare se è una soluzione corretta)"
   ]
  },
  {
   "cell_type": "code",
   "execution_count": 11,
   "id": "6f2ec4b1",
   "metadata": {},
   "outputs": [
    {
     "data": {
      "text/plain": [
       "array([ 32., 128.,  64.,   8.,   4.,  16.,   2.,  nan])"
      ]
     },
     "execution_count": 11,
     "metadata": {},
     "output_type": "execute_result"
    }
   ],
   "source": [
    "#print(\"Distinct Values in draw_size: \\t\", df.draw_size.unique())\n",
    "\n",
    "dw = df['draw_size']\n",
    "log= np.log2(df['draw_size'])\n",
    "for i in range(0, len(log)):\n",
    "    dec, inter = math.modf(log[i])\n",
    "    if dec == 0:\n",
    "        log[i] = inter\n",
    "    else:\n",
    "        log[i] = inter + 1\n",
    "dw = pow(2, log)\n",
    "df['draw_size'] = dw\n",
    "df['draw_size'].unique()"
   ]
  },
  {
   "cell_type": "code",
   "execution_count": 12,
   "id": "e5ea199c",
   "metadata": {},
   "outputs": [
    {
     "name": "stdout",
     "output_type": "stream",
     "text": [
      "Distinct Values in surface: \t ['Hard' 'Clay' 'Grass' 'Carpet' nan]\n",
      "Distinct Values in tourney_level: \t ['A' 'P' 'G' 'I' 'M' 'PM' 'F' 'D' 'C' '15' '25' '60' '100' '80' '10' '50'\n",
      " '75' 'O' 'W' nan]\n",
      "Distinct Values in winner_entry: \t [nan 'PR' 'Q' 'WC' 'Alt' 'LL' 'SE' 'ALT' 'SR' 'JE' 'A' 'ITF' 'P' 'I' 'IR'\n",
      " 'JR']\n",
      "Distinct Values in best_of: \t [ 3.  5. nan]\n",
      "Distinct Values in winner_hand: \t ['R' 'L' 'U' nan]\n"
     ]
    }
   ],
   "source": [
    "print(\"Distinct Values in surface: \\t\", df.surface.unique())\n",
    "print(\"Distinct Values in tourney_level: \\t\", df.tourney_level.unique())\n",
    "print(\"Distinct Values in winner_entry: \\t\", df.winner_entry.unique())\n",
    "print(\"Distinct Values in best_of: \\t\", df.best_of.unique())\n",
    "print(\"Distinct Values in winner_hand: \\t\", df.winner_hand.unique())\n"
   ]
  },
  {
   "cell_type": "markdown",
   "id": "47b9efd3",
   "metadata": {},
   "source": [
    "## winner and loser ht\n",
    "\n",
    "height in centimetres, where available"
   ]
  },
  {
   "cell_type": "markdown",
   "id": "2b9e11de",
   "metadata": {},
   "source": [
    "check if the attributes contain negative values, we have some outliers and nan values"
   ]
  },
  {
   "cell_type": "code",
   "execution_count": 13,
   "id": "157a7ef1",
   "metadata": {},
   "outputs": [
    {
     "name": "stdout",
     "output_type": "stream",
     "text": [
      "count    38348.00000\n",
      "mean       181.56308\n",
      "std         10.81565\n",
      "min          2.00000\n",
      "25%        175.00000\n",
      "50%        183.00000\n",
      "75%        188.00000\n",
      "max        211.00000\n",
      "Name: loser_ht, dtype: float64\n",
      "count    49341.000000\n",
      "mean       181.407106\n",
      "std         11.630899\n",
      "min          2.000000\n",
      "25%        175.000000\n",
      "50%        183.000000\n",
      "75%        188.000000\n",
      "max        211.000000\n",
      "Name: winner_ht, dtype: float64\n",
      "[198. 188. 183. 196.  nan 190. 193. 180. 181. 170. 184. 166. 178. 162.\n",
      " 163. 172. 174. 179. 182. 211. 185. 155. 165. 177. 175. 208. 206. 161.\n",
      " 168. 169. 173. 171. 164. 203. 176. 159. 167. 191. 189. 157.   2. 194.\n",
      " 160. 145.]\n",
      "[178. 198. 188. 183. 196.  nan 190. 193. 180. 174. 184. 182. 185. 177.\n",
      " 175. 170. 203. 208. 211. 168. 169. 172. 163. 179. 166. 173. 162. 176.\n",
      " 181. 191. 159. 155. 206. 164. 157. 171. 165. 167. 161. 189. 194.   2.\n",
      " 160. 145.]\n"
     ]
    }
   ],
   "source": [
    "print(df['loser_ht'].describe())\n",
    "print(df['winner_ht'].describe())\n",
    "print(df['loser_ht'].unique())\n",
    "print(df['winner_ht'].unique())"
   ]
  },
  {
   "cell_type": "markdown",
   "id": "897f0c1d",
   "metadata": {},
   "source": [
    "## Winner and loser ioc \n",
    "\n",
    "three-character country code"
   ]
  },
  {
   "cell_type": "code",
   "execution_count": 14,
   "id": "89530b3d",
   "metadata": {},
   "outputs": [
    {
     "name": "stdout",
     "output_type": "stream",
     "text": [
      "count     186099\n",
      "unique       124\n",
      "top          USA\n",
      "freq       16464\n",
      "Name: winner_ioc, dtype: object\n",
      "count     186102\n",
      "unique       154\n",
      "top          USA\n",
      "freq       16728\n",
      "Name: loser_ioc, dtype: object\n",
      "['JPN' 'RUS' 'FRA' 'AUS' 'CAN' 'BUL' 'GBR' 'SRB' 'USA' 'LAT' 'CZE' 'EST'\n",
      " 'UKR' 'NED' 'CRO' 'BLR' 'CHI' 'SUI' 'POL' 'GER' 'LUX' 'ESP' 'ITA' 'GEO'\n",
      " 'HUN' 'LTU' 'ARG' 'CYP' 'BIH' 'RSA' 'BEL' 'TUN' 'IND' 'BRA' 'AUT' 'POR'\n",
      " 'NZL' 'URU' 'GRE' 'SVK' 'TPE' 'KAZ' 'PUR' 'KOR' 'ROU' 'MDA' 'SLO' 'CHN'\n",
      " 'SWE' 'DEN' 'TUR' 'ESA' 'BAR' 'UZB' 'MNE' 'BOL' 'NOR' 'ECU' 'MEX' 'COL'\n",
      " 'LIE' 'ISR' 'PAR' 'DOM' 'FIN' 'GUA' 'PER' 'INA' 'THA' 'PHI' 'EGY' 'ALG'\n",
      " 'ZIM' 'PAK' 'MAR' 'HKG' 'IRL' 'LIB' 'SRI' 'VEN' 'MKD' 'PNG' 'SIN' 'GRN'\n",
      " 'BAH' 'CUB' 'TRI' 'OMA' 'MLT' 'KGZ' 'MAS' 'BDI' 'MRI' 'SAM' 'KEN' 'ARM'\n",
      " 'NAM' 'REU' 'UNK' 'MON' 'HAI' 'VIE' 'HON' 'PAN' 'CRC' 'SGP' 'TJK' 'POC'\n",
      " 'IRI' 'PHL' 'MGL' 'GUM' 'GAB' 'NGR' 'GUD' 'CAM' 'CMR' 'KUW' 'MAD' 'DEU'\n",
      " 'AND' 'NLD' 'NGA' 'GRC' nan]\n",
      "['RUS' 'FRA' 'AUS' 'CAN' 'JPN' 'BUL' 'GBR' 'SRB' 'USA' 'ARG' 'SLO' 'GER'\n",
      " 'ESP' 'ROU' 'KAZ' 'CZE' 'BEL' 'SVK' 'NED' 'UKR' 'LAT' 'EST' 'BLR' 'CRO'\n",
      " 'CHI' 'SUI' 'POL' 'LUX' 'ITA' 'GEO' 'HUN' 'LTU' 'BIH' 'QAT' 'TUR' 'AUT'\n",
      " 'CYP' 'TUN' 'IND' 'KOR' 'UZB' 'MDA' 'BRA' 'POR' 'TPE' 'ESA' 'NZL' 'URU'\n",
      " 'GRE' 'PUR' 'RSA' 'CHN' 'THA' 'SWE' 'DEN' 'COL' 'DOM' 'NOR' 'EGY' 'BAR'\n",
      " 'LIE' 'PAR' 'MNE' 'BOL' 'ECU' 'MEX' 'IRL' 'ISR' 'ALG' 'MON' 'FIN' 'VEN'\n",
      " 'LIB' 'GUA' 'PER' 'INA' 'PHI' 'HKG' 'MAR' 'ZIM' 'IRI' 'SRI' 'PAK' 'MKD'\n",
      " 'KGZ' 'ARM' 'PNG' 'SIN' 'BAH' 'TTO' 'GRN' 'TRI' 'CRC' 'CUB' 'OMA' 'MAS'\n",
      " 'PAN' 'CMR' 'MLT' 'LBN' 'BDI' 'NGR' 'MRI' 'GAB' 'AZE' 'BRN' 'SAM' 'JAM'\n",
      " 'KEN' 'GHA' 'MGL' 'JOR' 'GUD' 'REU' 'MAD' 'NAM' 'MRN' 'VIE' 'SYR' 'UNK'\n",
      " 'SGP' 'UAE' 'AHO' 'BEN' 'HAI' 'ERI' 'ITF' 'COD' 'LBA' 'HON' 'TKM' 'TJK'\n",
      " 'POC' 'BER' 'AND' 'SMR' 'PHL' 'ANT' 'TOG' 'GUM' 'VIN' 'BOT' 'CAM' 'ZAM'\n",
      " 'KUW' 'DEU' 'SAU' 'NGA' 'BGR' 'NLD' 'LVA' 'GRC' 'CRI' 'BAN' nan]\n"
     ]
    }
   ],
   "source": [
    "print(df['winner_ioc'].describe())\n",
    "print(df['loser_ioc'].describe())\n",
    "print(df['winner_ioc'].unique())\n",
    "print(df['loser_ioc'].unique())"
   ]
  },
  {
   "cell_type": "markdown",
   "id": "adf6fc52",
   "metadata": {},
   "source": [
    "## winner and loser age\n",
    "\n",
    "the age of the player, in years, depending on the date of the\n",
    "tournament\n",
    "\n",
    "\n",
    "Cosa rappresenta la parte decimale??"
   ]
  },
  {
   "cell_type": "code",
   "execution_count": 15,
   "id": "a7e79a94",
   "metadata": {},
   "outputs": [
    {
     "name": "stdout",
     "output_type": "stream",
     "text": [
      "count    183275.000000\n",
      "mean         23.963517\n",
      "std           4.462318\n",
      "min          14.042437\n",
      "25%          20.492813\n",
      "50%          23.457906\n",
      "75%          26.869268\n",
      "max          95.000000\n",
      "Name: winner_age, dtype: float64\n",
      "count    179590.000000\n",
      "mean         23.765932\n",
      "std           4.629857\n",
      "min          14.006845\n",
      "25%          20.131417\n",
      "50%          23.227926\n",
      "75%          26.767967\n",
      "max          74.485969\n",
      "Name: loser_age, dtype: float64\n",
      "[95.         22.88569473 29.00479124 ... 15.29089665 15.4880219\n",
      " 33.51403149]\n",
      "[22.88569473 33.70568104 31.88227242 ... 41.46201232 46.85284052\n",
      " 14.14921287]\n"
     ]
    }
   ],
   "source": [
    "print(df['winner_age'].describe())\n",
    "print(df['loser_age'].describe())\n",
    "print(df['winner_age'].unique())\n",
    "print(df['loser_age'].unique())"
   ]
  },
  {
   "cell_type": "markdown",
   "id": "94bc9956",
   "metadata": {},
   "source": [
    "## minutes \n",
    "\n",
    "match length, where available\n",
    "\n",
    "from this first analysis we found some outliers observing max value"
   ]
  },
  {
   "cell_type": "code",
   "execution_count": 16,
   "id": "d870e924",
   "metadata": {},
   "outputs": [
    {
     "name": "stdout",
     "output_type": "stream",
     "text": [
      "count    81660.000000\n",
      "mean        97.675753\n",
      "std         41.492701\n",
      "min          0.000000\n",
      "25%         72.000000\n",
      "50%         91.000000\n",
      "75%        119.000000\n",
      "max       4756.000000\n",
      "Name: minutes, dtype: float64\n"
     ]
    }
   ],
   "source": [
    "print(df['minutes'].describe())"
   ]
  },
  {
   "cell_type": "markdown",
   "id": "254c4f2a",
   "metadata": {},
   "source": [
    "## w_ace l_ace\n",
    "\n",
    "winner's number of aces"
   ]
  },
  {
   "cell_type": "code",
   "execution_count": 17,
   "id": "27e6d5c3",
   "metadata": {
    "scrolled": true
   },
   "outputs": [
    {
     "name": "stdout",
     "output_type": "stream",
     "text": [
      "count    82310.000000\n",
      "mean         4.813425\n",
      "std          4.387105\n",
      "min          0.000000\n",
      "25%          2.000000\n",
      "50%          4.000000\n",
      "75%          7.000000\n",
      "max         75.000000\n",
      "Name: w_ace, dtype: float64\n",
      "[ 3. 10.  2. 12.  5. 11.  1. 16. 21. 17. 15.  6.  7. 18. 44.  9.  8.  4.\n",
      "  0. 14. 13. nan 33. 25. 20. 22. 26. 40. 19. 28. 29. 24. 30. 39. 23. 43.\n",
      " 27. 32. 38. 35. 31. 48. 53. 36. 42. 34. 64. 37. 49. 45. 75. 41. 51. 61.\n",
      " 46. 72. 52.]\n",
      "count    82313.000000\n",
      "mean         3.527875\n",
      "std          3.828217\n",
      "min          0.000000\n",
      "25%          1.000000\n",
      "50%          2.000000\n",
      "75%          5.000000\n",
      "max         67.000000\n",
      "Name: l_ace, dtype: float64\n",
      "[ 8. 17. 10.  1. 29. 12.  3.  5.  6. 13.  7.  4. 27. 22.  2.  0. 11. 20.\n",
      "  9. nan 14. 36. 26. 15. 16. 47. 24. 18. 25. 21. 59. 28. 19. 23. 67. 38.\n",
      " 37. 30. 34. 33. 31. 32. 40. 35. 52. 61. 53. 44. 45. 46. 56. 43. 39.]\n"
     ]
    }
   ],
   "source": [
    "print(df['w_ace'].describe())\n",
    "\n",
    "#df['w_ace']=df['w_ace'].fillna(-1)\n",
    "#df['w_ace']=df['w_ace'].astype(int)\n",
    "\n",
    "print(df['w_ace'].unique())\n",
    "print(df['l_ace'].describe())\n",
    "print(df['l_ace'].unique())\n"
   ]
  },
  {
   "cell_type": "markdown",
   "id": "4dca1fb9",
   "metadata": {},
   "source": [
    "## w_df      l_df\n",
    "\n",
    "winner's number of doubles faults"
   ]
  },
  {
   "cell_type": "code",
   "execution_count": 18,
   "id": "2518417d",
   "metadata": {},
   "outputs": [
    {
     "name": "stdout",
     "output_type": "stream",
     "text": [
      "count    82312.000000\n",
      "mean         2.858174\n",
      "std          2.421105\n",
      "min          0.000000\n",
      "25%          1.000000\n",
      "50%          2.000000\n",
      "75%          4.000000\n",
      "max        114.000000\n",
      "Name: w_df, dtype: float64\n",
      "[  3.   1.   2.   8.   5.   0.   4.   6.   7.   9.  nan  10.  14.  12.\n",
      "  11.  13.  18.  19.  15.  26.  17.  25.  16.  20.  21.  22.  23.  24.\n",
      " 114.  72.  28.  45.]\n",
      "count    82319.000000\n",
      "mean         3.612556\n",
      "std          2.608092\n",
      "min          0.000000\n",
      "25%          2.000000\n",
      "50%          3.000000\n",
      "75%          5.000000\n",
      "max        114.000000\n",
      "Name: l_df, dtype: float64\n",
      "[  6.   2.   3.   5.   7.   0.   1.   4.  10.   8.   9.  nan  12.  11.\n",
      "  13.  16.  15.  17.  14.  20.  21.  28.  18.  22.  19.  23.  26.  25.\n",
      "  31. 114.  40.  36.]\n"
     ]
    }
   ],
   "source": [
    "print(df['w_df'].describe())\n",
    "print(df['w_df'].unique())\n",
    "print(df['l_df'].describe())\n",
    "print(df['l_df'].unique())\n"
   ]
  },
  {
   "cell_type": "markdown",
   "id": "bb39a646",
   "metadata": {},
   "source": [
    "## w_svpt   l_svpt\n",
    "\n",
    "winner's number of serve points"
   ]
  },
  {
   "cell_type": "code",
   "execution_count": 19,
   "id": "0014930d",
   "metadata": {},
   "outputs": [
    {
     "name": "stdout",
     "output_type": "stream",
     "text": [
      "count    82310.000000\n",
      "mean        71.288069\n",
      "std         25.524468\n",
      "min          0.000000\n",
      "25%         53.000000\n",
      "50%         67.000000\n",
      "75%         87.000000\n",
      "max       1957.000000\n",
      "Name: w_svpt, dtype: float64\n",
      "[7.700e+01 5.200e+01 4.700e+01 6.800e+01 1.050e+02 9.400e+01 5.900e+01\n",
      " 6.400e+01 4.900e+01 5.400e+01 6.200e+01 8.400e+01 7.500e+01 6.300e+01\n",
      " 5.600e+01 7.600e+01 4.200e+01 4.300e+01 6.600e+01 4.500e+01 3.800e+01\n",
      " 1.190e+02 8.700e+01 5.800e+01 9.800e+01 1.170e+02 9.300e+01 8.600e+01\n",
      " 4.800e+01 4.000e+01 1.140e+02 9.100e+01 7.400e+01 9.700e+01 7.900e+01\n",
      " 6.500e+01 7.200e+01 6.900e+01 7.800e+01 7.300e+01 6.100e+01 8.900e+01\n",
      " 1.100e+02 5.300e+01 1.020e+02 9.500e+01 4.100e+01 1.090e+02 4.400e+01\n",
      " 8.200e+01 9.900e+01 9.600e+01 6.700e+01 1.120e+02 3.300e+01 9.000e+01\n",
      " 3.200e+01 1.340e+02 8.500e+01 8.800e+01 7.000e+01 6.000e+01 1.000e+02\n",
      "       nan 1.240e+02 5.100e+01 1.040e+02 8.000e+01 9.200e+01 1.030e+02\n",
      " 8.300e+01 8.100e+01 1.070e+02 1.310e+02 1.430e+02 5.500e+01 7.100e+01\n",
      " 3.900e+01 1.330e+02 1.250e+02 8.000e+00 1.260e+02 5.700e+01 1.110e+02\n",
      " 2.600e+01 1.060e+02 1.010e+02 1.390e+02 1.800e+01 1.880e+02 1.540e+02\n",
      " 2.900e+01 1.510e+02 1.350e+02 1.220e+02 1.300e+02 1.900e+02 1.290e+02\n",
      " 2.070e+02 1.530e+02 1.520e+02 1.770e+02 1.080e+02 1.810e+02 1.450e+02\n",
      " 1.370e+02 1.560e+02 1.720e+02 1.710e+02 1.420e+02 1.670e+02 1.790e+02\n",
      " 1.580e+02 1.280e+02 1.760e+02 1.470e+02 1.480e+02 1.410e+02 1.270e+02\n",
      " 1.160e+02 1.360e+02 1.870e+02 1.150e+02 1.660e+02 1.380e+02 4.600e+01\n",
      " 1.180e+02 5.000e+01 3.600e+01 3.500e+01 3.700e+01 1.130e+02 1.200e+02\n",
      " 3.400e+01 1.500e+01 2.000e+01 2.400e+01 2.300e+01 3.000e+01 2.500e+01\n",
      " 1.230e+02 1.210e+02 1.320e+02 1.400e+01 0.000e+00 2.800e+01 1.650e+02\n",
      " 1.700e+02 1.630e+02 1.590e+02 1.550e+02 1.830e+02 1.970e+02 2.010e+02\n",
      " 2.060e+02 1.820e+02 1.490e+02 1.200e+01 1.740e+02 1.460e+02 1.600e+02\n",
      " 1.620e+02 1.690e+02 1.570e+02 1.750e+02 1.400e+02 1.680e+02 2.190e+02\n",
      " 1.500e+02 1.730e+02 1.610e+02 3.100e+01 5.000e+00 1.900e+01 1.640e+02\n",
      " 1.850e+02 2.000e+02 2.020e+02 1.960e+02 4.000e+00 1.100e+01 1.440e+02\n",
      " 1.700e+01 1.600e+01 2.200e+01 1.890e+02 2.250e+02 1.860e+02 2.700e+01\n",
      " 9.000e+00 1.000e+01 2.100e+01 1.780e+02 1.950e+02 1.980e+02 2.080e+02\n",
      " 2.780e+02 1.920e+02 2.120e+02 2.130e+02 1.940e+02 1.840e+02 1.300e+01\n",
      " 2.170e+02 2.040e+02 2.150e+02 1.930e+02 2.160e+02 2.140e+02 1.000e+00\n",
      " 2.440e+02 2.390e+02 1.990e+02 6.000e+00 2.270e+02 2.050e+02 1.957e+03\n",
      " 6.000e+02 6.400e+02 4.000e+02 9.180e+02 2.000e+00 3.000e+00 1.800e+02]\n",
      "count    82315.000000\n",
      "mean        73.557335\n",
      "std         24.985696\n",
      "min          0.000000\n",
      "25%         56.000000\n",
      "50%         69.000000\n",
      "75%         88.000000\n",
      "max       1672.000000\n",
      "Name: l_svpt, dtype: float64\n",
      "[1.000e+02 7.700e+01 4.600e+01 8.100e+01 9.400e+01 9.000e+01 8.000e+01\n",
      " 8.500e+01 5.600e+01 6.000e+01 7.100e+01 7.500e+01 5.500e+01 6.100e+01\n",
      " 6.400e+01 4.900e+01 4.300e+01 1.130e+02 7.400e+01 4.700e+01 1.060e+02\n",
      " 1.230e+02 6.900e+01 7.200e+01 3.800e+01 4.500e+01 1.320e+02 1.010e+02\n",
      " 9.600e+01 6.800e+01 1.120e+02 5.100e+01 4.800e+01 5.400e+01 8.200e+01\n",
      " 1.050e+02 8.800e+01 3.500e+01 5.200e+01 6.200e+01 8.600e+01 6.500e+01\n",
      " 6.300e+01 4.400e+01 7.800e+01 8.400e+01 5.900e+01 1.030e+02 6.600e+01\n",
      " 4.200e+01 1.140e+02 8.300e+01 6.700e+01 4.000e+01 1.040e+02 7.000e+01\n",
      " 9.800e+01       nan 1.080e+02 5.300e+01 1.070e+02 5.700e+01 1.090e+02\n",
      " 7.900e+01 7.300e+01 5.000e+01 1.020e+02 1.180e+02 9.500e+01 1.190e+02\n",
      " 9.900e+01 9.300e+01 9.200e+01 1.480e+02 1.100e+01 8.700e+01 5.800e+01\n",
      " 1.200e+02 7.600e+01 8.900e+01 1.110e+02 9.100e+01 9.700e+01 1.200e+01\n",
      " 4.100e+01 1.560e+02 1.340e+02 1.670e+02 1.380e+02 1.550e+02 1.160e+02\n",
      " 1.420e+02 1.490e+02 1.360e+02 1.260e+02 1.300e+02 1.470e+02 1.280e+02\n",
      " 2.190e+02 1.650e+02 1.950e+02 1.680e+02 1.890e+02 1.170e+02 1.150e+02\n",
      " 1.310e+02 1.270e+02 1.750e+02 1.570e+02 1.790e+02 1.290e+02 1.730e+02\n",
      " 1.510e+02 1.530e+02 1.700e+02 1.330e+02 1.770e+02 1.210e+02 1.520e+02\n",
      " 1.690e+02 1.640e+02 1.540e+02 1.390e+02 1.450e+02 1.870e+02 1.250e+02\n",
      " 1.460e+02 3.700e+01 3.600e+01 3.900e+01 1.100e+02 1.240e+02 1.410e+02\n",
      " 1.220e+02 2.200e+01 3.100e+01 1.800e+01 2.800e+01 2.700e+01 3.300e+01\n",
      " 3.200e+01 8.000e+00 0.000e+00 3.000e+01 2.900e+01 1.590e+02 1.440e+02\n",
      " 1.660e+02 1.840e+02 1.430e+02 2.130e+02 1.830e+02 1.710e+02 1.370e+02\n",
      " 1.400e+01 2.100e+01 3.400e+01 2.400e+01 1.800e+02 1.350e+02 1.740e+02\n",
      " 1.500e+02 2.030e+02 1.400e+02 2.600e+01 1.930e+02 2.010e+02 1.860e+02\n",
      " 1.600e+02 1.920e+02 1.960e+02 1.610e+02 1.620e+02 1.820e+02 6.000e+00\n",
      " 2.000e+01 2.300e+01 1.600e+01 1.760e+02 1.810e+02 2.120e+02 1.500e+01\n",
      " 1.880e+02 1.300e+01 1.720e+02 1.780e+02 1.630e+02 2.160e+02 2.910e+02\n",
      " 2.100e+02 1.580e+02 1.900e+02 1.700e+01 2.500e+01 5.000e+00 7.000e+00\n",
      " 1.000e+01 4.000e+00 1.900e+01 2.180e+02 1.970e+02 2.290e+02 2.370e+02\n",
      " 1.850e+02 1.910e+02 2.040e+02 2.200e+02 1.980e+02 2.080e+02 2.280e+02\n",
      " 2.340e+02 2.460e+02 2.000e+02 1.000e+00 9.000e+00 1.940e+02 2.150e+02\n",
      " 1.990e+02 2.070e+02 3.000e+00 2.050e+02 2.000e+00 1.672e+03 8.100e+02\n",
      " 6.240e+02 4.640e+02 9.720e+02]\n"
     ]
    }
   ],
   "source": [
    "print(df['w_svpt'].describe())\n",
    "print(df['w_svpt'].unique())\n",
    "print(df['l_svpt'].describe())\n",
    "print(df['l_svpt'].unique())\n"
   ]
  },
  {
   "cell_type": "markdown",
   "id": "748f87c2",
   "metadata": {},
   "source": [
    "## w_1st    ln l_1stln\n",
    "\n",
    "winner’s number of first serves made"
   ]
  },
  {
   "cell_type": "code",
   "execution_count": 20,
   "id": "b6076a6a",
   "metadata": {},
   "outputs": [
    {
     "name": "stdout",
     "output_type": "stream",
     "text": [
      "count    82310.000000\n",
      "mean        44.270477\n",
      "std         16.951922\n",
      "min          0.000000\n",
      "25%         32.000000\n",
      "50%         42.000000\n",
      "75%         54.000000\n",
      "max       1330.000000\n",
      "Name: w_1stIn, dtype: float64\n",
      "count    82304.000000\n",
      "mean        44.557737\n",
      "std         16.776201\n",
      "min          0.000000\n",
      "25%         33.000000\n",
      "50%         42.000000\n",
      "75%         54.000000\n",
      "max        893.000000\n",
      "Name: l_1stIn, dtype: float64\n"
     ]
    }
   ],
   "source": [
    "print(df['w_1stIn'].describe())\n",
    "#print(df['w_1stIn'].unique())\n",
    "print(df['l_1stIn'].describe())\n",
    "#print(df['l_1stIn'].unique())\n"
   ]
  },
  {
   "cell_type": "markdown",
   "id": "385d16a5",
   "metadata": {},
   "source": [
    "## w_1stWon    l_1stWon\n",
    "\n",
    "winner’s number of first-serve points won"
   ]
  },
  {
   "cell_type": "code",
   "execution_count": 21,
   "id": "2d69b198",
   "metadata": {},
   "outputs": [
    {
     "name": "stdout",
     "output_type": "stream",
     "text": [
      "count    82312.000000\n",
      "mean        32.130564\n",
      "std         11.409554\n",
      "min          0.000000\n",
      "25%         24.000000\n",
      "50%         30.000000\n",
      "75%         38.000000\n",
      "max        836.000000\n",
      "Name: w_1stWon, dtype: float64\n",
      "count    82311.000000\n",
      "mean        28.028903\n",
      "std         12.270939\n",
      "min          0.000000\n",
      "25%         19.000000\n",
      "50%         26.000000\n",
      "75%         35.000000\n",
      "max        532.000000\n",
      "Name: l_1stWon, dtype: float64\n"
     ]
    }
   ],
   "source": [
    "print(df['w_1stWon'].describe())\n",
    "#print(df['w_1stIn'].unique())\n",
    "print(df['l_1stWon'].describe())\n",
    "#print(df['l_1stIn'].unique())\n"
   ]
  },
  {
   "cell_type": "markdown",
   "id": "a35e6672",
   "metadata": {},
   "source": [
    "## w_2ndWon  l_2ndWon\n",
    "\n",
    "winner’s number of second-serve points won"
   ]
  },
  {
   "cell_type": "code",
   "execution_count": 22,
   "id": "72e14292",
   "metadata": {},
   "outputs": [
    {
     "name": "stdout",
     "output_type": "stream",
     "text": [
      "count    82309.000000\n",
      "mean        14.451251\n",
      "std          5.933102\n",
      "min          0.000000\n",
      "25%         10.000000\n",
      "50%         14.000000\n",
      "75%         18.000000\n",
      "max        304.000000\n",
      "Name: w_2ndWon, dtype: float64\n",
      "count    82312.000000\n",
      "mean        12.705681\n",
      "std          6.320212\n",
      "min          0.000000\n",
      "25%          8.000000\n",
      "50%         12.000000\n",
      "75%         16.000000\n",
      "max        399.000000\n",
      "Name: l_2ndWon, dtype: float64\n"
     ]
    }
   ],
   "source": [
    "print(df['w_2ndWon'].describe())\n",
    "#print(df['w_2ndWon'].unique())\n",
    "print(df['l_2ndWon'].describe())\n",
    "#print(df['l_2ndWon'].unique())\n",
    "\n"
   ]
  },
  {
   "cell_type": "markdown",
   "id": "03906e32",
   "metadata": {},
   "source": [
    "## w_SvGms    l_SvGms\n",
    "\n",
    "winner’s number of serve games"
   ]
  },
  {
   "cell_type": "code",
   "execution_count": 23,
   "id": "6863ae8a",
   "metadata": {},
   "outputs": [
    {
     "name": "stdout",
     "output_type": "stream",
     "text": [
      "count    82311.000000\n",
      "mean        11.114784\n",
      "std          3.512519\n",
      "min          0.000000\n",
      "25%          9.000000\n",
      "50%         10.000000\n",
      "75%         14.000000\n",
      "max         49.000000\n",
      "Name: w_SvGms, dtype: float64\n",
      "count    82318.000000\n",
      "mean        10.940353\n",
      "std          3.497649\n",
      "min          0.000000\n",
      "25%          9.000000\n",
      "50%         10.000000\n",
      "75%         13.000000\n",
      "max         50.000000\n",
      "Name: l_SvGms, dtype: float64\n"
     ]
    }
   ],
   "source": [
    "print(df['w_SvGms'].describe())\n",
    "#print(df['w_SvGms'].unique())\n",
    "print(df['l_SvGms'].describe())\n",
    "#print(df['l_SvGms'].unique())\n",
    "\n"
   ]
  },
  {
   "cell_type": "markdown",
   "id": "51f95c9b",
   "metadata": {},
   "source": [
    "## w_bpSaved   l_bpSaved\n",
    "\n",
    "winner's number of breakpoints saved"
   ]
  },
  {
   "cell_type": "code",
   "execution_count": 24,
   "id": "f1193bbc",
   "metadata": {},
   "outputs": [
    {
     "name": "stdout",
     "output_type": "stream",
     "text": [
      "count    82315.000000\n",
      "mean         3.540861\n",
      "std          3.109012\n",
      "min          0.000000\n",
      "25%          1.000000\n",
      "50%          3.000000\n",
      "75%          5.000000\n",
      "max        209.000000\n",
      "Name: w_bpSaved, dtype: float64\n",
      "count    82311.000000\n",
      "mean         4.660641\n",
      "std          3.148227\n",
      "min          0.000000\n",
      "25%          2.000000\n",
      "50%          4.000000\n",
      "75%          6.000000\n",
      "max        120.000000\n",
      "Name: l_bpSaved, dtype: float64\n"
     ]
    }
   ],
   "source": [
    "print(df['w_bpSaved'].describe())\n",
    "#print(df['w_bpSaved'].unique())\n",
    "print(df['l_bpSaved'].describe())\n",
    "#print(df['l_bpSaved'].unique())\n",
    "\n"
   ]
  },
  {
   "cell_type": "markdown",
   "id": "066baa6b",
   "metadata": {},
   "source": [
    "## w_bpFaced   l_bpFaced\n",
    "\n",
    "winner's number of breakpoints faced"
   ]
  },
  {
   "cell_type": "code",
   "execution_count": 25,
   "id": "cc9015f8",
   "metadata": {},
   "outputs": [
    {
     "name": "stdout",
     "output_type": "stream",
     "text": [
      "count    82312.000000\n",
      "mean         5.410244\n",
      "std          4.206825\n",
      "min          0.000000\n",
      "25%          2.000000\n",
      "50%          5.000000\n",
      "75%          8.000000\n",
      "max        266.000000\n",
      "Name: w_bpFaced, dtype: float64\n",
      "count    82306.000000\n",
      "mean         8.872124\n",
      "std          3.969575\n",
      "min          0.000000\n",
      "25%          6.000000\n",
      "50%          8.000000\n",
      "75%         11.000000\n",
      "max        190.000000\n",
      "Name: l_bpFaced, dtype: float64\n"
     ]
    }
   ],
   "source": [
    "print(df['w_bpFaced'].describe())\n",
    "#print(df['w_bpFaced'].unique())\n",
    "print(df['l_bpFaced'].describe())\n",
    "#print(df['l_bpFaced'].unique())"
   ]
  },
  {
   "cell_type": "markdown",
   "id": "bf647efb",
   "metadata": {},
   "source": [
    "## winner_rank     loser_rank       \n",
    "\n",
    "winner's ATP or WTA rank, as of the tourney_date, or the most recentranking date before the tourney_date"
   ]
  },
  {
   "cell_type": "code",
   "execution_count": 26,
   "id": "7a870e32",
   "metadata": {},
   "outputs": [
    {
     "name": "stdout",
     "output_type": "stream",
     "text": [
      "count    166719.000000\n",
      "mean        383.810723\n",
      "std         313.996466\n",
      "min           1.000000\n",
      "25%         137.000000\n",
      "50%         298.000000\n",
      "75%         562.000000\n",
      "max        2220.000000\n",
      "Name: winner_rank, dtype: float64\n",
      "count    150845.000000\n",
      "mean        434.303736\n",
      "std         355.803171\n",
      "min           1.000000\n",
      "25%         157.000000\n",
      "50%         325.000000\n",
      "75%         642.000000\n",
      "max        2257.000000\n",
      "Name: loser_rank, dtype: float64\n"
     ]
    }
   ],
   "source": [
    "print(df['winner_rank'].describe())\n",
    "#print(df['winner_rank'].unique())\n",
    "print(df['loser_rank'].describe())\n",
    "#print(df['loser_rank'].unique())"
   ]
  },
  {
   "cell_type": "markdown",
   "id": "360e4448",
   "metadata": {},
   "source": [
    "## winner_rank_points     loser_rank_points\n",
    "\n",
    "number of ranking points, where available."
   ]
  },
  {
   "cell_type": "code",
   "execution_count": 27,
   "id": "7755ac33",
   "metadata": {},
   "outputs": [
    {
     "name": "stdout",
     "output_type": "stream",
     "text": [
      "count    166701.000000\n",
      "mean        470.450789\n",
      "std        1041.008107\n",
      "min           1.000000\n",
      "25%          49.000000\n",
      "50%         161.000000\n",
      "75%         438.000000\n",
      "max       16950.000000\n",
      "Name: winner_rank_points, dtype: float64\n",
      "count    150828.000000\n",
      "mean        356.328692\n",
      "std         702.626048\n",
      "min           1.000000\n",
      "25%          35.000000\n",
      "50%         138.000000\n",
      "75%         377.000000\n",
      "max       16950.000000\n",
      "Name: loser_rank_points, dtype: float64\n"
     ]
    }
   ],
   "source": [
    "print(df['winner_rank_points'].describe())\n",
    "#print(df['winner_rank_points'].unique())\n",
    "print(df['loser_rank_points'].describe())\n",
    "#print(df['loser_rank_points'].unique())"
   ]
  },
  {
   "cell_type": "markdown",
   "id": "284ee4d8",
   "metadata": {},
   "source": [
    "### winner_entry and loser_entry\n",
    "\n",
    "'WC' = wild card, 'Q' = qualifier, 'LL' = lucky loser, 'PR' = protected\n",
    "ranking, 'ITF' = ITF entry, and there are a few others that are occasionally used.\n",
    "\n",
    "loser_entry: analogous\n",
    "\n",
    "Analysis: Correct! nothing to do"
   ]
  },
  {
   "cell_type": "code",
   "execution_count": 28,
   "id": "7312fdd4",
   "metadata": {},
   "outputs": [
    {
     "data": {
      "text/plain": [
       "0    NaN\n",
       "1    NaN\n",
       "2    NaN\n",
       "3     PR\n",
       "4    NaN\n",
       "Name: winner_entry, dtype: object"
      ]
     },
     "execution_count": 28,
     "metadata": {},
     "output_type": "execute_result"
    }
   ],
   "source": [
    "df['winner_entry'].head()"
   ]
  },
  {
   "cell_type": "markdown",
   "id": "5128771b",
   "metadata": {},
   "source": [
    "### winner_name and loser_name\n",
    "\n",
    "name of player that win \n",
    "\n",
    "Analysis: Correct! nothing to do"
   ]
  },
  {
   "cell_type": "code",
   "execution_count": 29,
   "id": "9a28dc3f",
   "metadata": {},
   "outputs": [
    {
     "data": {
      "text/plain": [
       "0         Kei Nishikori\n",
       "1       Daniil Medvedev\n",
       "2         Kei Nishikori\n",
       "3    Jo-Wilfried Tsonga\n",
       "4       Daniil Medvedev\n",
       "Name: winner_name, dtype: object"
      ]
     },
     "execution_count": 29,
     "metadata": {},
     "output_type": "execute_result"
    }
   ],
   "source": [
    "df['winner_name'].head()"
   ]
  },
  {
   "cell_type": "markdown",
   "id": "359afcf8",
   "metadata": {},
   "source": [
    "### winner_hand and loser_hand\n",
    "R= right, L = left, U = unknown. For ambidextrous players, this is their\n",
    "serving hand.\n",
    "\n",
    "Analysis: Correct! nothing to do"
   ]
  },
  {
   "cell_type": "code",
   "execution_count": 30,
   "id": "54eb9982",
   "metadata": {},
   "outputs": [
    {
     "data": {
      "text/plain": [
       "0    R\n",
       "1    R\n",
       "2    R\n",
       "3    R\n",
       "4    R\n",
       "Name: winner_hand, dtype: object"
      ]
     },
     "execution_count": 30,
     "metadata": {},
     "output_type": "execute_result"
    }
   ],
   "source": [
    "df['winner_hand'].head()"
   ]
  },
  {
   "cell_type": "markdown",
   "id": "c8e971c3",
   "metadata": {},
   "source": [
    "### winner_ioc and loser_ioc\n",
    "\n",
    "three-character country code\n",
    "\n",
    "Analysis: Correct! nothing to do"
   ]
  },
  {
   "cell_type": "code",
   "execution_count": 31,
   "id": "76cb3f28",
   "metadata": {},
   "outputs": [
    {
     "data": {
      "text/plain": [
       "0    JPN\n",
       "1    RUS\n",
       "2    JPN\n",
       "3    FRA\n",
       "4    RUS\n",
       "Name: winner_ioc, dtype: object"
      ]
     },
     "execution_count": 31,
     "metadata": {},
     "output_type": "execute_result"
    }
   ],
   "source": [
    "df['winner_ioc'].head()"
   ]
  },
  {
   "cell_type": "markdown",
   "id": "27a75b71",
   "metadata": {},
   "source": [
    "### Score\n",
    "\n",
    "Analysis: ?"
   ]
  },
  {
   "cell_type": "code",
   "execution_count": 32,
   "id": "ebbc5a8e",
   "metadata": {},
   "outputs": [
    {
     "data": {
      "text/plain": [
       "0       6-4 3-6 6-2\n",
       "1        7-6(6) 6-2\n",
       "2           6-2 6-2\n",
       "3        6-4 7-6(2)\n",
       "4    6-7(2) 6-3 6-4\n",
       "Name: score, dtype: object"
      ]
     },
     "execution_count": 32,
     "metadata": {},
     "output_type": "execute_result"
    }
   ],
   "source": [
    "df['score'].head()"
   ]
  },
  {
   "cell_type": "markdown",
   "id": "30eba9cd",
   "metadata": {},
   "source": [
    "### Round\n",
    "\n",
    "Analysis: Correct! nothing to do"
   ]
  },
  {
   "cell_type": "code",
   "execution_count": 33,
   "id": "08d4e91b",
   "metadata": {
    "scrolled": true
   },
   "outputs": [
    {
     "data": {
      "text/plain": [
       "0     F\n",
       "1    SF\n",
       "2    SF\n",
       "3    QF\n",
       "4    QF\n",
       "Name: round, dtype: object"
      ]
     },
     "execution_count": 33,
     "metadata": {},
     "output_type": "execute_result"
    }
   ],
   "source": [
    "df['round'].head()"
   ]
  },
  {
   "cell_type": "markdown",
   "id": "131351e9",
   "metadata": {},
   "source": [
    "## Now let's start with analizyning each numerical Attributes\n"
   ]
  },
  {
   "cell_type": "markdown",
   "id": "e267369f",
   "metadata": {},
   "source": [
    "### tourney_date\n",
    "\n",
    "eight digits, YYYYMMDD, usually the Monday of the tournament week.\n",
    "\n",
    "Analysis: use pandas function for convert into date format"
   ]
  },
  {
   "cell_type": "code",
   "execution_count": 34,
   "id": "613c3da1",
   "metadata": {},
   "outputs": [],
   "source": [
    "#df['tourney_date']=pd.to_datetime(df['tourney_date'], format='%Y%m%d')\n",
    "\n",
    "#print(df['tourney_date'])\n"
   ]
  },
  {
   "cell_type": "markdown",
   "id": "08b436b7",
   "metadata": {},
   "source": [
    "### winner_id and loser_id\n",
    "\n",
    "the player_id used in this repo for the winner of the match."
   ]
  },
  {
   "cell_type": "code",
   "execution_count": 35,
   "id": "fef447f1",
   "metadata": {},
   "outputs": [
    {
     "data": {
      "text/plain": [
       "count    186073.000000\n",
       "mean     180151.623529\n",
       "std       46547.170898\n",
       "min      100644.000000\n",
       "25%      122425.000000\n",
       "50%      203530.000000\n",
       "75%      214152.000000\n",
       "max      245099.000000\n",
       "Name: winner_id, dtype: float64"
      ]
     },
     "execution_count": 35,
     "metadata": {},
     "output_type": "execute_result"
    }
   ],
   "source": [
    "df['winner_id'].describe()"
   ]
  },
  {
   "cell_type": "markdown",
   "id": "fd35f810",
   "metadata": {},
   "source": [
    "### winner_ht and loser_ht\n",
    "\n",
    "height in centimetres, where available"
   ]
  },
  {
   "cell_type": "code",
   "execution_count": 36,
   "id": "b53d6b84",
   "metadata": {},
   "outputs": [
    {
     "data": {
      "text/plain": [
       "0    178\n",
       "1    198\n",
       "2    178\n",
       "3    188\n",
       "4    198\n",
       "Name: winner_ht, dtype: int64"
      ]
     },
     "execution_count": 36,
     "metadata": {},
     "output_type": "execute_result"
    }
   ],
   "source": [
    "df['winner_ht']=np.nan_to_num(df['winner_ht']).astype(int)\n",
    "df['winner_ht'].head()"
   ]
  },
  {
   "cell_type": "markdown",
   "id": "cb8ad655",
   "metadata": {},
   "source": [
    "### winner_age and loser_age\n",
    "\n",
    "the age of the player, in years, depending on the date of the tournament"
   ]
  },
  {
   "cell_type": "code",
   "execution_count": 37,
   "id": "3fc7f00a",
   "metadata": {},
   "outputs": [
    {
     "data": {
      "text/plain": [
       "0    95.000000\n",
       "1    22.885695\n",
       "2    29.004791\n",
       "3    33.705681\n",
       "4    22.885695\n",
       "Name: winner_age, dtype: float64"
      ]
     },
     "execution_count": 37,
     "metadata": {},
     "output_type": "execute_result"
    }
   ],
   "source": [
    "df['winner_age'].head()"
   ]
  },
  {
   "cell_type": "markdown",
   "id": "be0625d3",
   "metadata": {
    "tags": []
   },
   "source": [
    "# Data Integration\n",
    "We load another table containing the name and surname of any male and female person"
   ]
  },
  {
   "cell_type": "code",
   "execution_count": 38,
   "id": "e763c7fa",
   "metadata": {},
   "outputs": [
    {
     "name": "stdout",
     "output_type": "stream",
     "text": [
      "count     98581\n",
      "unique        3\n",
      "top           M\n",
      "freq      54492\n",
      "Name: gender, dtype: object\n"
     ]
    }
   ],
   "source": [
    "df_male = pd.read_csv('male_players.csv')#, sep=',') \n",
    "df_male.dropna(inplace=True)\n",
    "df_male_names = pd.DataFrame()\n",
    "df_male_names['Name'] = df_male['name'].astype(str) + \" \" + df_male['surname'].astype(str)\n",
    "df_male_names.drop_duplicates(inplace=True)\n",
    "\n",
    "#print(df_male_names.isna().sum())\n",
    "#print(df_male_names.isnull().sum())\n",
    "#print(df_male_names.describe())\n",
    "#print(df_male_names)\n",
    "\n",
    "df_male_names.insert(1, 'gender', 'M', allow_duplicates=True)\n",
    "#print(df_male_names)\n",
    "\n",
    "df_female = pd.read_csv('female_players.csv')#, sep=',') \n",
    "df_female.dropna(inplace=True)\n",
    "df_female_names = pd.DataFrame()\n",
    "df_female_names['Name'] = df_female['name'].astype(str) + \" \" + df_female['surname'].astype(str)\n",
    "df_female_names.drop_duplicates(inplace=True)\n",
    "df_female_names.insert(1, 'gender', 'F', allow_duplicates=True)\n",
    "#print(df_female_names)\n",
    "\n",
    "\n",
    "result = pd.concat([df_male_names, df_female_names]) #we create a new table to have the global view\n",
    "#print(result.duplicated(subset=['Name']).any())\n",
    "#print(result.describe())\n",
    "\n",
    "pd.options.mode.chained_assignment = None \n",
    "\n",
    "duplicateDFRow = result[result.duplicated(['Name'], keep=False)]\n",
    "duplicateDFRow.drop_duplicates(subset=['Name'], inplace=True)\n",
    "duplicateDFRow['gender'].replace({\"M\": 'U'},inplace=True)\n",
    "\n",
    "#print(result.describe())\n",
    "#print(duplicateDFRow.describe())\n",
    "\n",
    "table_gender = pd.concat([result, duplicateDFRow]) \n",
    "\n",
    "table_gender.drop_duplicates(subset=['Name'], keep='last', inplace=True)\n",
    "\n",
    "print(table_gender['gender'].describe())"
   ]
  },
  {
   "cell_type": "markdown",
   "id": "d2e98e05",
   "metadata": {},
   "source": []
  },
  {
   "cell_type": "code",
   "execution_count": 39,
   "id": "cf48d016",
   "metadata": {},
   "outputs": [],
   "source": [
    "#df.drop_duplicates(inplace = True)\n",
    "tmp = df\n",
    "#print(tmp.info())\n",
    "tmp = tmp.join(table_gender.set_index('Name'), on='winner_name')\n",
    "tmp.rename(columns={'gender': 'winner_gender'}, inplace = True)\n",
    "#print(tmp['winner_name'].head(), tmp['gender'].head())\n",
    "tmp = tmp.join(table_gender.set_index('Name'), on='loser_name')\n",
    "tmp.rename(columns={'gender': 'loser_gender'}, inplace = True)\n",
    "#print(tmp.head())\n",
    "#print(tmp.info())"
   ]
  },
  {
   "cell_type": "code",
   "execution_count": null,
   "id": "af99d010",
   "metadata": {},
   "outputs": [],
   "source": []
  },
  {
   "cell_type": "markdown",
   "id": "d5822bde",
   "metadata": {
    "tags": []
   },
   "source": [
    "# Data Integration\n",
    "We load another table containing the name and surname of any male and female person"
   ]
  },
  {
   "cell_type": "code",
   "execution_count": 40,
   "id": "ab33d758",
   "metadata": {},
   "outputs": [
    {
     "name": "stdout",
     "output_type": "stream",
     "text": [
      "count     98581\n",
      "unique        3\n",
      "top           M\n",
      "freq      54492\n",
      "Name: gender, dtype: object\n"
     ]
    }
   ],
   "source": [
    "df_male = pd.read_csv('male_players.csv')#, sep=',') \n",
    "df_male.dropna(inplace=True)\n",
    "df_male_names = pd.DataFrame()\n",
    "df_male_names['Name'] = df_male['name'].astype(str) + \" \" + df_male['surname'].astype(str)\n",
    "df_male_names.drop_duplicates(inplace=True)\n",
    "\n",
    "#print(df_male_names.isna().sum())\n",
    "#print(df_male_names.isnull().sum())\n",
    "#print(df_male_names.describe())\n",
    "#print(df_male_names)\n",
    "\n",
    "df_male_names.insert(1, 'gender', 'M', allow_duplicates=True)\n",
    "#print(df_male_names)\n",
    "\n",
    "df_female = pd.read_csv('female_players.csv')#, sep=',') \n",
    "df_female.dropna(inplace=True)\n",
    "df_female_names = pd.DataFrame()\n",
    "df_female_names['Name'] = df_female['name'].astype(str) + \" \" + df_female['surname'].astype(str)\n",
    "df_female_names.drop_duplicates(inplace=True)\n",
    "df_female_names.insert(1, 'gender', 'F', allow_duplicates=True)\n",
    "#print(df_female_names)\n",
    "\n",
    "\n",
    "result = pd.concat([df_male_names, df_female_names]) #we create a new table to have the global view\n",
    "#print(result.duplicated(subset=['Name']).any())\n",
    "#print(result.describe())\n",
    "\n",
    "pd.options.mode.chained_assignment = None \n",
    "\n",
    "duplicateDFRow = result[result.duplicated(['Name'], keep=False)]\n",
    "duplicateDFRow.drop_duplicates(subset=['Name'], inplace=True)\n",
    "duplicateDFRow['gender'].replace({\"M\": 'U'},inplace=True)\n",
    "\n",
    "#print(result.describe())\n",
    "#print(duplicateDFRow.describe())\n",
    "\n",
    "table_gender = pd.concat([result, duplicateDFRow]) \n",
    "\n",
    "table_gender.drop_duplicates(subset=['Name'], keep='last', inplace=True)\n",
    "\n",
    "print(table_gender['gender'].describe())"
   ]
  },
  {
   "cell_type": "markdown",
   "id": "724dae5f",
   "metadata": {},
   "source": [
    "1.cancellare i duplicati sulla tabella centrale\n",
    "2.fare join tra tabella centrale e table_gender"
   ]
  },
  {
   "cell_type": "code",
   "execution_count": 41,
   "id": "65d2678b",
   "metadata": {},
   "outputs": [],
   "source": [
    "#df.drop_duplicates(inplace = True)\n",
    "tmp = df\n",
    "#print(tmp.info())\n",
    "tmp = tmp.join(table_gender.set_index('Name'), on='winner_name')\n",
    "tmp.rename(columns={'gender': 'winner_gender'}, inplace = True)\n",
    "#print(tmp['winner_name'].head(), tmp['gender'].head())\n",
    "tmp = tmp.join(table_gender.set_index('Name'), on='loser_name')\n",
    "tmp.rename(columns={'gender': 'loser_gender'}, inplace = True)\n",
    "#print(tmp.head())\n",
    "#print(tmp.info())"
   ]
  },
  {
   "cell_type": "code",
   "execution_count": null,
   "id": "d7113b02",
   "metadata": {},
   "outputs": [],
   "source": []
  }
 ],
 "metadata": {
  "kernelspec": {
   "display_name": "Python 3 (ipykernel)",
   "language": "python",
   "name": "python3"
  },
  "language_info": {
   "codemirror_mode": {
    "name": "ipython",
    "version": 3
   },
   "file_extension": ".py",
   "mimetype": "text/x-python",
   "name": "python",
   "nbconvert_exporter": "python",
   "pygments_lexer": "ipython3",
   "version": "3.9.6"
  }
 },
 "nbformat": 4,
 "nbformat_minor": 5
}
