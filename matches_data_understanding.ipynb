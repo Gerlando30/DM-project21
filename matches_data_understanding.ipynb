{
 "cells": [
  {
   "cell_type": "markdown",
   "id": "298dbe21-c108-4d37-8bcd-b53e50df3320",
   "metadata": {},
   "source": [
    "<span>\n",
    "<b>Authors:</b> \n",
    "<a href=\"http://------\">Ornela Danushi </a>\n",
    "<a href=\"http://------\">Gerlando Gramaglia </a>\n",
    "<a href=\"http://------\">Domenico Profumo </a><br/>\n",
    "<b>Python version:</b>  3.x<br/>\n",
    "</span>"
   ]
  },
  {
   "cell_type": "markdown",
   "id": "18888502-715d-4184-a91f-24f185f71640",
   "metadata": {},
   "source": [
    "# Data Understanding & Preparation on Tennis Matches dataset \n",
    "Explore the dataset by studying the data quality, their distribution among several different features and the correlations.\n",
    "\n",
    "The **central component** of the data science toolkit is **Pandas library** is a and it is used in conjunction with other libraries in that collection. Pandas is built on top of the **NumPy package**, meaning a lot of the structure of NumPy is used or replicated in Pandas. Data in pandas is often used to feed statistical analysis in **SciPy**, plotting functions from **Matplotlib**, and machine learning algorithms in Scikit-learn.\n",
    "\n",
    "**Install Pandas**\n",
    "\n",
    "Pandas is an easy package to install. Open up your terminal program (for Mac users) or command line (for PC users) and install it using either of the following commands: **conda install pandas OR pip install pandas.**\n",
    "\n",
    "Alternatively, if you're using Jupyter notebook you can run a cell with: **!pip install pandas**"
   ]
  },
  {
   "cell_type": "code",
   "execution_count": 6,
   "id": "8e395945-bd01-4438-843d-8a3d54032caa",
   "metadata": {},
   "outputs": [],
   "source": [
    "%matplotlib inline\n",
    "import math\n",
    "import numpy as np\n",
    "import pandas as pd\n",
    "import scipy.stats as stats\n",
    "import matplotlib.pyplot as plt\n",
    "\n",
    "from collections import defaultdict\n",
    "from scipy.stats.stats import pearsonr"
   ]
  },
  {
   "cell_type": "markdown",
   "id": "96414b1a-5483-4f38-b403-05f2dc62d2ff",
   "metadata": {},
   "source": [
    "## Loading the data set\n",
    "\n",
    "Read the .csv file containing the data. The first line contains the list of attributes. The data is assigned to a Pandas dataframe."
   ]
  },
  {
   "cell_type": "code",
   "execution_count": 12,
   "id": "d42a8ee8-ba1f-4cf2-8b68-d9b5874c4283",
   "metadata": {},
   "outputs": [],
   "source": [
    "df = pd.read_csv('tennis_matches.csv', sep=',', index_col=0) #alternative in case of json source df.to_json('filename.json')"
   ]
  },
  {
   "cell_type": "code",
   "execution_count": 19,
   "id": "7b1b645e-dad1-4d71-a112-c95ad345faff",
   "metadata": {},
   "outputs": [
    {
     "name": "stdout",
     "output_type": "stream",
     "text": [
      "  tourney_id tourney_name surface  draw_size tourney_level  tourney_date  \\\n",
      "0  2019-M020     Brisbane    Hard       32.0             A    20181231.0   \n",
      "1  2019-M020     Brisbane    Hard       32.0             A    20181231.0   \n",
      "2  2019-M020     Brisbane    Hard       32.0             A    20181231.0   \n",
      "3  2019-M020     Brisbane    Hard       32.0             A    20181231.0   \n",
      "4  2019-M020     Brisbane    Hard       32.0             A    20181231.0   \n",
      "\n",
      "   match_num  winner_id winner_entry         winner_name  ... l_2ndWon  \\\n",
      "0      300.0   105453.0          NaN       Kei Nishikori  ...     20.0   \n",
      "1      299.0   106421.0          NaN     Daniil Medvedev  ...      7.0   \n",
      "2      298.0   105453.0          NaN       Kei Nishikori  ...      6.0   \n",
      "3      297.0   104542.0           PR  Jo-Wilfried Tsonga  ...      9.0   \n",
      "4      296.0   106421.0          NaN     Daniil Medvedev  ...     19.0   \n",
      "\n",
      "   l_SvGms l_bpSaved  l_bpFaced  winner_rank winner_rank_points loser_rank  \\\n",
      "0     14.0      10.0       15.0          9.0             3590.0       16.0   \n",
      "1     10.0      10.0       13.0         16.0             1977.0      239.0   \n",
      "2      8.0       1.0        5.0          9.0             3590.0       40.0   \n",
      "3     11.0       4.0        6.0        239.0              200.0       31.0   \n",
      "4     15.0       2.0        4.0         16.0             1977.0       18.0   \n",
      "\n",
      "  loser_rank_points  tourney_spectators tourney_revenue  \n",
      "0            1977.0              3928.0       742618.69  \n",
      "1             200.0              3928.0       742618.69  \n",
      "2            1050.0              3928.0       742618.69  \n",
      "3            1298.0              3928.0       742618.69  \n",
      "4            1855.0              3928.0       742618.69  \n",
      "\n",
      "[5 rows x 49 columns]\n"
     ]
    }
   ],
   "source": [
    "print(df.head()) #print the first records of a df, \n",
    "# print()\n",
    "# print(df.tail()) #print the last records of a df."
   ]
  },
  {
   "cell_type": "code",
   "execution_count": 18,
   "id": "fa756be3-3f91-4148-bb79-00e473690d67",
   "metadata": {},
   "outputs": [
    {
     "data": {
      "text/plain": [
       "tourney_id             object\n",
       "tourney_name           object\n",
       "surface                object\n",
       "draw_size             float64\n",
       "tourney_level          object\n",
       "tourney_date          float64\n",
       "match_num             float64\n",
       "winner_id             float64\n",
       "winner_entry           object\n",
       "winner_name            object\n",
       "winner_hand            object\n",
       "winner_ht             float64\n",
       "winner_ioc             object\n",
       "winner_age            float64\n",
       "loser_id              float64\n",
       "loser_entry            object\n",
       "loser_name             object\n",
       "loser_hand             object\n",
       "loser_ht              float64\n",
       "loser_ioc              object\n",
       "loser_age             float64\n",
       "score                  object\n",
       "best_of               float64\n",
       "round                  object\n",
       "minutes               float64\n",
       "w_ace                 float64\n",
       "w_df                  float64\n",
       "w_svpt                float64\n",
       "w_1stIn               float64\n",
       "w_1stWon              float64\n",
       "w_2ndWon              float64\n",
       "w_SvGms               float64\n",
       "w_bpSaved             float64\n",
       "w_bpFaced             float64\n",
       "l_ace                 float64\n",
       "l_df                  float64\n",
       "l_svpt                float64\n",
       "l_1stIn               float64\n",
       "l_1stWon              float64\n",
       "l_2ndWon              float64\n",
       "l_SvGms               float64\n",
       "l_bpSaved             float64\n",
       "l_bpFaced             float64\n",
       "winner_rank           float64\n",
       "winner_rank_points    float64\n",
       "loser_rank            float64\n",
       "loser_rank_points     float64\n",
       "tourney_spectators    float64\n",
       "tourney_revenue       float64\n",
       "dtype: object"
      ]
     },
     "execution_count": 18,
     "metadata": {},
     "output_type": "execute_result"
    }
   ],
   "source": [
    "df.dtypes #return the type of each attribute"
   ]
  },
  {
   "cell_type": "markdown",
   "id": "47ce5711-9e25-4f1b-83f9-88afdc582363",
   "metadata": {},
   "source": [
    "## Types of Attributes and basic checks\n",
    "\n",
    "Check the data integrity, that is whether there are any empty cells or corrupted data. \n",
    "We will use for this purpose the Pandas function **info()**, which checks if there is any \n",
    "null value in any column. This function also checks data type for each column, as well as \n",
    "number of each data types and number of observations (rows)."
   ]
  },
  {
   "cell_type": "code",
   "execution_count": 16,
   "id": "e8e42117-29e5-4afe-be98-9b8edb190cc2",
   "metadata": {},
   "outputs": [
    {
     "name": "stdout",
     "output_type": "stream",
     "text": [
      "<class 'pandas.core.frame.DataFrame'>\n",
      "Int64Index: 186128 entries, 0 to 186127\n",
      "Data columns (total 49 columns):\n",
      " #   Column              Non-Null Count   Dtype  \n",
      "---  ------              --------------   -----  \n",
      " 0   tourney_id          186073 non-null  object \n",
      " 1   tourney_name        186103 non-null  object \n",
      " 2   surface             185940 non-null  object \n",
      " 3   draw_size           186099 non-null  float64\n",
      " 4   tourney_level       186099 non-null  object \n",
      " 5   tourney_date        186100 non-null  float64\n",
      " 6   match_num           186101 non-null  float64\n",
      " 7   winner_id           186073 non-null  float64\n",
      " 8   winner_entry        25827 non-null   object \n",
      " 9   winner_name         186101 non-null  object \n",
      " 10  winner_hand         186082 non-null  object \n",
      " 11  winner_ht           49341 non-null   float64\n",
      " 12  winner_ioc          186099 non-null  object \n",
      " 13  winner_age          183275 non-null  float64\n",
      " 14  loser_id            186100 non-null  float64\n",
      " 15  loser_entry         44154 non-null   object \n",
      " 16  loser_name          186097 non-null  object \n",
      " 17  loser_hand          186030 non-null  object \n",
      " 18  loser_ht            38348 non-null   float64\n",
      " 19  loser_ioc           186102 non-null  object \n",
      " 20  loser_age           179590 non-null  float64\n",
      " 21  score               185929 non-null  object \n",
      " 22  best_of             186099 non-null  float64\n",
      " 23  round               186098 non-null  object \n",
      " 24  minutes             81660 non-null   float64\n",
      " 25  w_ace               82310 non-null   float64\n",
      " 26  w_df                82312 non-null   float64\n",
      " 27  w_svpt              82310 non-null   float64\n",
      " 28  w_1stIn             82310 non-null   float64\n",
      " 29  w_1stWon            82312 non-null   float64\n",
      " 30  w_2ndWon            82309 non-null   float64\n",
      " 31  w_SvGms             82311 non-null   float64\n",
      " 32  w_bpSaved           82315 non-null   float64\n",
      " 33  w_bpFaced           82312 non-null   float64\n",
      " 34  l_ace               82313 non-null   float64\n",
      " 35  l_df                82319 non-null   float64\n",
      " 36  l_svpt              82315 non-null   float64\n",
      " 37  l_1stIn             82304 non-null   float64\n",
      " 38  l_1stWon            82311 non-null   float64\n",
      " 39  l_2ndWon            82312 non-null   float64\n",
      " 40  l_SvGms             82318 non-null   float64\n",
      " 41  l_bpSaved           82311 non-null   float64\n",
      " 42  l_bpFaced           82306 non-null   float64\n",
      " 43  winner_rank         166719 non-null  float64\n",
      " 44  winner_rank_points  166701 non-null  float64\n",
      " 45  loser_rank          150845 non-null  float64\n",
      " 46  loser_rank_points   150828 non-null  float64\n",
      " 47  tourney_spectators  186101 non-null  float64\n",
      " 48  tourney_revenue     186102 non-null  float64\n",
      "dtypes: float64(35), object(14)\n",
      "memory usage: 71.0+ MB\n"
     ]
    }
   ],
   "source": [
    "df.info()"
   ]
  },
  {
   "cell_type": "markdown",
   "id": "0f290be5-da9c-4776-9cda-1a5ecfab12f4",
   "metadata": {
    "tags": []
   },
   "source": [
    "# Data Integration\n",
    "We load another table containing the name and surname of any male and female person"
   ]
  },
  {
   "cell_type": "code",
   "execution_count": 25,
   "id": "e18aac0b-d1f4-4a2d-8559-647fb55c01a6",
   "metadata": {},
   "outputs": [
    {
     "name": "stdout",
     "output_type": "stream",
     "text": [
      "             name   surname\n",
      "0         Gardnar    Mulloy\n",
      "1          Pancho    Segura\n",
      "2           Frank   Sedgman\n",
      "3        Giuseppe     Merlo\n",
      "4  Richard Pancho  Gonzales\n",
      "\n",
      "      name surname\n",
      "0    Bobby   Riggs\n",
      "1        X       X\n",
      "2  Martina  Hingis\n",
      "3  Mirjana   Lucic\n",
      "4  Justine   Henin\n"
     ]
    }
   ],
   "source": [
    "df_male = pd.read_csv('male_players.csv', sep=',') \n",
    "print(df_male.head())\n",
    "\n",
    "print()\n",
    "\n",
    "df_female = pd.read_csv('female_players.csv', sep=',') \n",
    "print(df_female.head())"
   ]
  },
  {
   "cell_type": "code",
   "execution_count": null,
   "id": "575dd262-7476-46fb-93f1-d68a56c6b222",
   "metadata": {},
   "outputs": [],
   "source": []
  }
 ],
 "metadata": {
  "kernelspec": {
   "display_name": "Python 3 (ipykernel)",
   "language": "python",
   "name": "python3"
  },
  "language_info": {
   "codemirror_mode": {
    "name": "ipython",
    "version": 3
   },
   "file_extension": ".py",
   "mimetype": "text/x-python",
   "name": "python",
   "nbconvert_exporter": "python",
   "pygments_lexer": "ipython3",
   "version": "3.8.2"
  }
 },
 "nbformat": 4,
 "nbformat_minor": 5
}
