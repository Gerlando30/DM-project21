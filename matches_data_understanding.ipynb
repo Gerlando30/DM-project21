{
 "cells": [
  {
   "cell_type": "markdown",
   "id": "fb6f876b",
   "metadata": {},
   "source": [
    "<span>\n",
    "<b>Authors:</b> \n",
    "<a href=\"http://------\">Ornela Danushi </a>\n",
    "<a href=\"http://------\">Gerlando Gramaglia </a>\n",
    "<a href=\"http://------\">Domenico Profumo </a><br/>\n",
    "<b>Python version:</b>  3.x<br/>\n",
    "</span>"
   ]
  },
  {
   "cell_type": "markdown",
   "id": "2eae0051",
   "metadata": {
    "tags": []
   },
   "source": [
    "# Data Understanding & Preparation on Tennis Matches dataset \n",
    "Explore the dataset by studying the data quality, their distribution among several different features and the correlations.\n",
    "\n",
    "The **central component** of the data science toolkit is **Pandas library** is a and it is used in conjunction with other libraries in that collection. Pandas is built on top of the **NumPy package**, meaning a lot of the structure of NumPy is used or replicated in Pandas. Data in pandas is often used to feed statistical analysis in **SciPy**, plotting functions from **Matplotlib**, and machine learning algorithms in Scikit-learn.\n"
   ]
  },
  {
   "cell_type": "code",
   "execution_count": 1,
   "id": "d010f341",
   "metadata": {},
   "outputs": [],
   "source": [
    "import pandas as pd\n",
    "import math\n",
    "import numpy as np\n",
    "#import scipy.stats as stats\n",
    "import matplotlib.pyplot as plt\n",
    "from collections import defaultdict\n",
    "#from scipy.stats.stats import pearsonr"
   ]
  },
  {
   "cell_type": "code",
   "execution_count": 2,
   "id": "ada3fc3f",
   "metadata": {},
   "outputs": [],
   "source": [
    "#df.dtypes #return the type of each attribute but is already included in the df.info() called later"
   ]
  },
  {
   "cell_type": "markdown",
   "id": "b6d917a0",
   "metadata": {},
   "source": [
    "# Types of Attributes and basic checks \n",
    "## Data Quality with reference to Syntactic Accuracy\n",
    "\n",
    "Check the data integrity, that is whether there are any empty cells or corrupted data. \n",
    "We will use for this purpose the Pandas function **info()**, which checks if there is any \n",
    "null value in any column. This function also checks data type for each column, as well as \n",
    "number of each data types and number of observations (rows).\n",
    "\n",
    "Moreover we check if each attribute is syntactically correct according to the specifications"
   ]
  },
  {
   "cell_type": "code",
   "execution_count": 3,
   "id": "b89625d5",
   "metadata": {
    "scrolled": true
   },
   "outputs": [
    {
     "name": "stdout",
     "output_type": "stream",
     "text": [
      "<class 'pandas.core.frame.DataFrame'>\n",
      "Int64Index: 186128 entries, 0 to 186127\n",
      "Data columns (total 51 columns):\n",
      " #   Column              Non-Null Count   Dtype  \n",
      "---  ------              --------------   -----  \n",
      " 0   tourney_id          186073 non-null  object \n",
      " 1   tourney_name        186103 non-null  object \n",
      " 2   surface             185940 non-null  object \n",
      " 3   draw_size           186099 non-null  float64\n",
      " 4   tourney_level       186099 non-null  object \n",
      " 5   tourney_date        186100 non-null  float64\n",
      " 6   match_num           186101 non-null  float64\n",
      " 7   winner_id           186073 non-null  float64\n",
      " 8   winner_entry        25827 non-null   object \n",
      " 9   winner_name         186101 non-null  object \n",
      " 10  winner_hand         186082 non-null  object \n",
      " 11  winner_ht           49341 non-null   float64\n",
      " 12  winner_ioc          186099 non-null  object \n",
      " 13  winner_age          183275 non-null  float64\n",
      " 14  loser_id            186100 non-null  float64\n",
      " 15  loser_entry         44154 non-null   object \n",
      " 16  loser_name          186097 non-null  object \n",
      " 17  loser_hand          186030 non-null  object \n",
      " 18  loser_ht            38348 non-null   float64\n",
      " 19  loser_ioc           186102 non-null  object \n",
      " 20  loser_age           179590 non-null  float64\n",
      " 21  score               185929 non-null  object \n",
      " 22  best_of             186099 non-null  float64\n",
      " 23  round               186098 non-null  object \n",
      " 24  minutes             81660 non-null   float64\n",
      " 25  w_ace               82310 non-null   float64\n",
      " 26  w_df                82312 non-null   float64\n",
      " 27  w_svpt              82310 non-null   float64\n",
      " 28  w_1stIn             82310 non-null   float64\n",
      " 29  w_1stWon            82312 non-null   float64\n",
      " 30  w_2ndWon            82309 non-null   float64\n",
      " 31  w_SvGms             82311 non-null   float64\n",
      " 32  w_bpSaved           82315 non-null   float64\n",
      " 33  w_bpFaced           82312 non-null   float64\n",
      " 34  l_ace               82313 non-null   float64\n",
      " 35  l_df                82319 non-null   float64\n",
      " 36  l_svpt              82315 non-null   float64\n",
      " 37  l_1stIn             82304 non-null   float64\n",
      " 38  l_1stWon            82311 non-null   float64\n",
      " 39  l_2ndWon            82312 non-null   float64\n",
      " 40  l_SvGms             82318 non-null   float64\n",
      " 41  l_bpSaved           82311 non-null   float64\n",
      " 42  l_bpFaced           82306 non-null   float64\n",
      " 43  winner_rank         166719 non-null  float64\n",
      " 44  winner_rank_points  166701 non-null  float64\n",
      " 45  loser_rank          150845 non-null  float64\n",
      " 46  loser_rank_points   150828 non-null  float64\n",
      " 47  tourney_spectators  186101 non-null  float64\n",
      " 48  tourney_revenue     186102 non-null  float64\n",
      " 49  winner_gender       183424 non-null  object \n",
      " 50  loser_gender        183999 non-null  object \n",
      "dtypes: float64(35), object(16)\n",
      "memory usage: 73.8+ MB\n"
     ]
    }
   ],
   "source": [
    "df = df = pd.read_csv('matches_with_gender.csv', index_col = 0)\n",
    "df.info()"
   ]
  },
  {
   "cell_type": "markdown",
   "id": "3eef7633",
   "metadata": {},
   "source": [
    "\n"
   ]
  },
  {
   "cell_type": "markdown",
   "id": "e9fe0db4",
   "metadata": {},
   "source": [
    "## Classification of Data Domain\n",
    "\n",
    "### Tourney\n",
    "\n",
    "   - *tourney_id* - ***object*** \n",
    "   - *tourney_name* - ***object*** \n",
    "   - *tourney_level* - ***object***\n",
    "   - *tourney_spectators* - ***float64*** \n",
    "   - *tourney_revenue* - ***float64***\n",
    "    \n",
    "### Matches\n",
    " \n",
    "   - *match_num*- ***float64***\n",
    "   - *surface* - ***object***\n",
    "   - *draw_size* - ***float64*** => ***int64*** \n",
    "   - *tourney_date* - ***float64*** => ***Datetime64***\n",
    "   - *minutes* - ***float64*** \n",
    "   - *score* - ***object***\n",
    "   - *round* - ***object*** \n",
    "   - *best_of* - ***float64***\n",
    "\n",
    "### Players\n",
    " \n",
    "   - *winner_id*- ***float64***          ||       *loser_id*- ***float64*** \n",
    "   - *winner_name* - ***object***        ||       *loser_name* - ***object***\n",
    "   - *winner_ioc* - ***object***         ||       *loser_ioc* - ***object*** \n",
    "   - *winner_ht*- ***float64***          ||       *loser_ht*- ***float64*** \n",
    "   - *winner_age*- ***float64***         ||       *loser_age*- ***float64*** \n",
    "   - *winner_hand* - ***object***        ||       *loser_hand* - ***object***\n",
    "   - *winner_entry* - ***object***       ||       *loser_entry* - ***object***\n",
    "   - *winner_rank* - ***float64***       ||       *loser_rank* - ***float64***\n",
    "   - *winner_rank_points* - ***float64***||       *loser_rank_points* - ***float64***\n",
    "   - *w_ace* - ***float64***             ||       *l_ace* - ***float64***\n",
    "   - *w_df* - ***float64***              ||       *l_df* - ***float64***\n",
    "   - *w_svpt* - ***float64***            ||       *l_svpt* - ***float64*** \n",
    "   - *w_1stIn* - ***float64***           ||       *l_1stIn* - ***float64***\n",
    "   - *w_1stWon* - ***float64***          ||       *l_1stWon* - ***float64***\n",
    "   - *w_2ndWon* - ***float64***          ||       *l_2ndWon* - ***float64***\n",
    "   - *w_SvGms* - ***float64***           ||       *l_SvGms* - ***float64***\n",
    "   - *w_bpSaved* - ***float64***         ||       *l_bpSaved* - ***float64***\n",
    "   - *w_bpFaced* - ***float64***         ||       *l_bpFaced* - ***float64*** \n",
    "   - *winner_gender* - ***object***      ||       *loser_gender* - ***object*** \n",
    " "
   ]
  },
  {
   "cell_type": "markdown",
   "id": "b16b444b",
   "metadata": {},
   "source": [
    "# Data Semantics\n",
    "\n",
    "In this part we analyze each attributes type, conversion type, relationship, NaN and negative values check"
   ]
  },
  {
   "cell_type": "markdown",
   "id": "55daf69c",
   "metadata": {},
   "source": [
    "## Tourney\n"
   ]
  },
  {
   "cell_type": "markdown",
   "id": "fbe70ce6",
   "metadata": {},
   "source": [
    "### tourney_id\n",
    "\n",
    "has to be unique and the first four characters are always the year while the remaining part is random\n",
    "\n",
    "Analysis:\n",
    "\n",
    "Split the value of the attribute in 2 parts, the first with 4 characters and the second with the remaing characters.\n",
    "For both the parts build a set inserting each different year and id. \n",
    "Count how many wrong years are inserted through a NaN value. \n",
    "To detect the wrong ids is more difficult since they are random and don't follow a known a structure.\n",
    "We can only conclude that the wrong id elements are those deriving from the wrong years.\n",
    "\n",
    "NOTE: The decision to take is to delete or edit all these attributes."
   ]
  },
  {
   "cell_type": "code",
   "execution_count": 4,
   "id": "f34b3d7a",
   "metadata": {},
   "outputs": [
    {
     "name": "stdout",
     "output_type": "stream",
     "text": [
      "description of tourney_id:\n",
      "count       186073\n",
      "unique        4853\n",
      "top       2018-560\n",
      "freq           478\n",
      "Name: tourney_id, dtype: object\n",
      "null_values: 55\n",
      "Present years: ['2019' '2018' '2017' '2016' '2020' '2021' nan]\n"
     ]
    }
   ],
   "source": [
    "print(\"description of tourney_id:\" + \"\\n\"+str(df['tourney_id'].describe()))\n",
    "\n",
    "print(\"null_values: \"+ str(df['tourney_id'].isnull().sum())) #55\n",
    "tourney_year= df['tourney_id'].str[:4]\n",
    "tourney_id= df['tourney_id'].str[5:]\n",
    "\n",
    "print(\"Present years: \"+ str(tourney_year.unique())) #['2019' '2018' '2017' '2016' '2020' '2021' nan]\n"
   ]
  },
  {
   "cell_type": "markdown",
   "id": "12471868",
   "metadata": {},
   "source": [
    "### tourney_name\n",
    "is the name of the tourney\n",
    "\n",
    "Analysis: non ci sono molti valori null, i nomi univoci risultano essere 2488, ciò mi fa pensare che in totale abbiamo 2488 torney diversi ma biosgna prima controllare la correttezza dei nomi. Per ogni torneo poso contare il numero di match diverse che si sono svolti e li salvo in tourney_match_dim"
   ]
  },
  {
   "cell_type": "code",
   "execution_count": 5,
   "id": "5634e4a5",
   "metadata": {},
   "outputs": [
    {
     "name": "stdout",
     "output_type": "stream",
     "text": [
      "description of tourney_name:\n",
      "count          186103\n",
      "unique           2488\n",
      "top       W15 Antalya\n",
      "freq             4634\n",
      "Name: tourney_name, dtype: object\n",
      "null_values: 25\n",
      "             tourney_name  size\n",
      "0        's Hertogenbosch    97\n",
      "1     ATP Next Gen Finals    16\n",
      "2               Abu Dhabi    87\n",
      "3                Acapulco   522\n",
      "4                Adelaide   128\n",
      "...                   ...   ...\n",
      "2483          Zhuhai $50K    31\n",
      "2484          Zhuhai $60K    62\n",
      "2485            Zhuhai CH   220\n",
      "2486      s Hertogenbosch   156\n",
      "2487      s-Hertogenbosch    52\n",
      "\n",
      "[2488 rows x 2 columns]\n"
     ]
    }
   ],
   "source": [
    "print(\"description of tourney_name:\" + \"\\n\"+str(df.tourney_name.describe()))\n",
    "print(\"null_values: \"+ str(df.tourney_name.isnull().sum())) #25\n",
    "\n",
    "tourney_match_dim=df.groupby(df.tourney_name,as_index=False).size()\n",
    "print(tourney_match_dim)"
   ]
  },
  {
   "cell_type": "markdown",
   "id": "0369fd38",
   "metadata": {},
   "source": [
    "### tourney_level\n",
    "they are split for men and women.\n",
    "\n",
    "○ For men: 'G' = Grand Slams, 'M' = Masters 1000s, 'A' = other tour-level\n",
    "events, 'C' = Challengers, 'S' = Satellites/ITFs, 'F' = Tour finals and other\n",
    "season-ending events, and 'D' = Davis Cup. F\n",
    "\n",
    "○ For women, there are several additional tourney_level codes, including 'P' =\n",
    "Premier, 'PM' = Premier Mandatory, and 'I' = International. The various levels\n",
    "of ITFs are given by the prize money (in thousands), such as '15' = ITF\n",
    "$15,000. Other codes, such as 'T1' for Tier I (and so on) are used for older\n",
    "WTA tournament designations. 'D' is used for the Federation/Fed/Billie Jean\n",
    "King Cup, and also for the Wightman Cup and Bonne Bell Cup.\n",
    "\n",
    "○ There is also some competition which can be for both men and women: 'E' =\n",
    "exhibition (events not sanctioned by the tour, though the definitions can be\n",
    "ambiguous), 'J' = juniors, and 'T' = team tennis, which does yet appear\n",
    "anywhere in the dataset but will at some point.\n",
    "\n",
    "\n",
    "Analisi: Abbiamo pochi valori null che possiamo rimpiazzare facendo un analisi sul tipo di torneo e il sesso dell'avversario. Possiamo inoltre utilizzare i range dei valori per scoprire info sul sesso del giocatore dato che i nomi univoci sono poco ed appartngono tutti a range specifici. Facciamo una scansione tramite for in cui identifico tutti i livelli delle donne dato che è l'unica categotia che contiene valori che altri non hanno"
   ]
  },
  {
   "cell_type": "code",
   "execution_count": 6,
   "id": "1fca9a8d",
   "metadata": {},
   "outputs": [
    {
     "name": "stdout",
     "output_type": "stream",
     "text": [
      "description of tourney_level:\n",
      "count     186099\n",
      "unique        19\n",
      "top           15\n",
      "freq       45807\n",
      "Name: tourney_level, dtype: object\n",
      "null_values: 29\n",
      "unique value:\n",
      "['A' 'P' 'G' 'I' 'M' 'PM' 'F' 'D' 'C' '15' '25' '60' '100' '80' '10' '50'\n",
      " '75' 'O' 'W' nan]\n",
      "iswomen: 18247\n",
      "unknown: 167881\n"
     ]
    }
   ],
   "source": [
    "print(\"description of tourney_level:\" + \"\\n\"+str(df.tourney_level.describe()))\n",
    "print(\"null_values: \"+ str(df.tourney_level.isnull().sum())) #29\n",
    "print(\"unique value:\" + \"\\n\"+str(df.tourney_level.unique())) \n",
    "\n",
    "#['A' 'P' 'G' 'I' 'M' 'PM' 'F' 'D' 'C' '15' '25' '60' '100' '80' '10' '50' '75' 'O' 'W' nan]\n",
    "\n",
    "men_levels=['G','M','A','C','S','F','D','E','J','T']\n",
    "women_levels=['G','M','A','C','S','F','D','E','J','T','P','PM','I','ITF','WTA','D']\n",
    "\n",
    "gender=[] #['M','W','-']\n",
    "\n",
    "test=df.tourney_level\n",
    "iswomen=0\n",
    "unknown=0\n",
    "\n",
    "for i in test:\n",
    "    if(i=='P' or i=='PM' or i=='I' or i=='ITF' or i=='WTA' or i=='D'):\n",
    "        iswomen +=1\n",
    "    else:\n",
    "        unknown +=1\n",
    "\n",
    "print(\"iswomen: \" + str(iswomen))\n",
    "print(\"unknown: \" + str(unknown))\n",
    "\n"
   ]
  },
  {
   "cell_type": "markdown",
   "id": "c8c6cdf1",
   "metadata": {},
   "source": [
    "### tourney_spectators     tourney_revenue\n",
    "\n",
    "Numero di spettatori del torneo e guadagno totale. \n",
    "\n",
    "Analisi: Anche qui abbiamo dei valori null che potremmo escludere dato che sono pochi, inoltre un analisi potrebbe essere quella di valutare le entrate in base al tipo di torneo e proporzionare il numero di spettatori con il guadagno ottenuto per capire il costo in media di una partita (utile a scopo statistico)."
   ]
  },
  {
   "cell_type": "code",
   "execution_count": 7,
   "id": "f495e49d",
   "metadata": {
    "scrolled": true
   },
   "outputs": [
    {
     "name": "stdout",
     "output_type": "stream",
     "text": [
      "\n",
      "description of:\n",
      "       tourney_spectators  tourney_revenue\n",
      "count       186101.000000     1.861020e+05\n",
      "mean          4108.569153     8.226442e+05\n",
      "std           2707.042984     6.008570e+05\n",
      "min             91.000000     1.786574e+04\n",
      "25%           2836.000000     5.473662e+05\n",
      "50%           3340.000000     6.633297e+05\n",
      "75%           4008.000000     8.340290e+05\n",
      "max          18086.000000     5.002794e+06\n",
      "null_values:\t       27\t\t26\n"
     ]
    }
   ],
   "source": [
    "print(\"\\ndescription of:\" + \"\\n\"+str(df[['tourney_spectators', 'tourney_revenue']].describe()))\n",
    "print(\"null_values:\\t       \"+ str(df.tourney_spectators.isnull().sum()) + \"\\t\\t\"\n",
    "      + str(df.tourney_revenue.isnull().sum())) #27 | 26\n"
   ]
  },
  {
   "cell_type": "markdown",
   "id": "d32afa93",
   "metadata": {},
   "source": [
    "## Matches"
   ]
  },
  {
   "cell_type": "markdown",
   "id": "01c33fd9",
   "metadata": {},
   "source": [
    "### match_num\n",
    "\n",
    "a match-specific identifier. Often starting from 1, sometimes counting down from 300, and sometimes arbitrary.\n",
    "\n",
    "Analysis: Anche qui abbiamo pochi valori null, il numero di match deve combaciare con il numero di valori del torneo"
   ]
  },
  {
   "cell_type": "code",
   "execution_count": 8,
   "id": "44f4fcbc",
   "metadata": {},
   "outputs": [
    {
     "name": "stdout",
     "output_type": "stream",
     "text": [
      "description of match_num:\n",
      "count    186101.000000\n",
      "mean        160.627992\n",
      "std         289.326473\n",
      "min           1.000000\n",
      "25%          17.000000\n",
      "50%         131.000000\n",
      "75%         272.000000\n",
      "max        8312.000000\n",
      "Name: match_num, dtype: float64\n",
      "null_values: 27\n",
      "match_num\n",
      "1.0       3530\n",
      "2.0       3532\n",
      "3.0       2726\n",
      "4.0       2955\n",
      "5.0       2802\n",
      "          ... \n",
      "8308.0       1\n",
      "8309.0       1\n",
      "8310.0       1\n",
      "8311.0       1\n",
      "8312.0       1\n",
      "Length: 929, dtype: int64\n"
     ]
    }
   ],
   "source": [
    "print(\"description of match_num:\" + \"\\n\"+str(df.match_num.describe()))\n",
    "print(\"null_values: \"+ str(df.match_num.isnull().sum())) #27\n",
    "\n",
    "match_dim=df.groupby(['match_num']).size()\n",
    "print(match_dim)"
   ]
  },
  {
   "cell_type": "markdown",
   "id": "e6be196e",
   "metadata": {},
   "source": [
    "### surface\n",
    "kind of surface for the match\n",
    "\n",
    "Analysis: le superfici sono sempre di quattro tipi 'Hard' 'Clay' 'Grass' 'Carpet', ci sono 188 valori null"
   ]
  },
  {
   "cell_type": "code",
   "execution_count": 9,
   "id": "73c447fa",
   "metadata": {},
   "outputs": [
    {
     "name": "stdout",
     "output_type": "stream",
     "text": [
      "description of surface:\n",
      "count     185940\n",
      "unique         4\n",
      "top         Hard\n",
      "freq       95243\n",
      "Name: surface, dtype: object\n",
      "null_values: 188\n",
      "unique value:\n",
      "['Hard' 'Clay' 'Grass' 'Carpet' nan]\n"
     ]
    }
   ],
   "source": [
    "print(\"description of surface:\" + \"\\n\"+str(df.surface.describe()))\n",
    "print(\"null_values: \"+ str(df.surface.isnull().sum())) #188\n",
    "print(\"unique value:\" + \"\\n\"+str(df.surface.unique()))  #['Hard' 'Clay' 'Grass' 'Carpet' nan]"
   ]
  },
  {
   "cell_type": "markdown",
   "id": "292f0312",
   "metadata": {},
   "source": [
    "### draw_size\n",
    "\n",
    "number of players in the draw, often rounded up to the nearest power of 2. (For instance, a tournament with 28 players may be shown as 32.)\n",
    "\n",
    "Analysis: since all powers of 2 are integers the idea is to convert to the 'int' format. Dopo averli convertiti in interi abbiamo utilizzato una funzione logaritmica per capire il giusto esponente che mi permettesse di ottenere i numeri con potenza di 2 più vicini ad esempio 15->16 23->32 ecc.."
   ]
  },
  {
   "cell_type": "code",
   "execution_count": 10,
   "id": "6f2ec4b1",
   "metadata": {},
   "outputs": [
    {
     "name": "stdout",
     "output_type": "stream",
     "text": [
      "description of draw_size:\n",
      "count    186099.000000\n",
      "mean         41.037276\n",
      "std          25.349017\n",
      "min           2.000000\n",
      "25%          32.000000\n",
      "50%          32.000000\n",
      "75%          32.000000\n",
      "max         128.000000\n",
      "Name: draw_size, dtype: float64\n",
      "null_values: 29\n",
      "unique value (before conversion):\n",
      "[ 32. 128.  64.   8.   4.  29.  16.  30.  31.  20.  28.  23.  25.  27.\n",
      "  26.  19.  10.  15.  24.  18.  12.   2.  54.  48.  nan]\n",
      "unique value (after conversion):\n",
      "[ 32. 128.  64.   8.   4.  16.   2.  nan]\n"
     ]
    }
   ],
   "source": [
    "print(\"description of draw_size:\" + \"\\n\"+str(df.draw_size.describe()))\n",
    "print(\"null_values: \"+ str(df.draw_size.isnull().sum())) #29\n",
    "print(\"unique value (before conversion):\" + \"\\n\"+str(df.draw_size.unique()))  \n",
    "\n",
    "\n",
    "#[ 32. 128.  64.   8.   4.  29.  16.  30.  31.  20.  28.  23.  25.  27.\n",
    "#  26.  19.  10.  15.  24.  18.  12.   2.  54.  48.  nan]\n",
    "\n",
    "\n",
    "dw = df['draw_size']\n",
    "log= np.log2(df['draw_size'])\n",
    "for i in range(0, len(log)):\n",
    "    dec, inter = math.modf(log[i])\n",
    "    if dec == 0:\n",
    "        log[i] = inter\n",
    "    else:\n",
    "        log[i] = inter + 1\n",
    "dw = pow(2, log)\n",
    "\n",
    "df.draw_size=dw\n",
    "print(\"unique value (after conversion):\" + \"\\n\"+str(df.draw_size.unique()))  \n",
    "\n",
    "# [ 32. 128.  64.   8.   4.  16.   2.  nan]"
   ]
  },
  {
   "cell_type": "markdown",
   "id": "96ac3888",
   "metadata": {},
   "source": [
    "### tourney_date\n",
    "\n",
    "tourney_date: eight digits, YYYYMMDD, usually the Monday of the tournament week.\n",
    "\n",
    "Analysis:\n",
    "we convert type of tourney_date in Datetime64. Un analisi potrebbe essere quella di raggruppare ogni torneo con i match per le date associate ad esso in modo da riuscire a capire per ordine temporale le performace di ogni giocatore con il passare del tempo"
   ]
  },
  {
   "cell_type": "code",
   "execution_count": 11,
   "id": "40eaedfb",
   "metadata": {},
   "outputs": [
    {
     "name": "stdout",
     "output_type": "stream",
     "text": [
      "null_values: 28\n"
     ]
    },
    {
     "data": {
      "text/plain": [
       "0   2018-12-31\n",
       "1   2018-12-31\n",
       "2   2018-12-31\n",
       "3   2018-12-31\n",
       "4   2018-12-31\n",
       "Name: tourney_date, dtype: datetime64[ns]"
      ]
     },
     "execution_count": 11,
     "metadata": {},
     "output_type": "execute_result"
    }
   ],
   "source": [
    "df.tourney_date.describe()\n",
    "print(\"null_values: \"+ str(df.tourney_date.isnull().sum())) #28\n",
    "\n",
    "df['tourney_date'] = pd.to_datetime(df['tourney_date'], format='%Y%m%d')\n",
    "\n",
    "df.tourney_date.head()"
   ]
  },
  {
   "cell_type": "markdown",
   "id": "94bc9956",
   "metadata": {},
   "source": [
    "### minutes \n",
    "\n",
    "match length, where available\n",
    "\n",
    "analisi: I minuti sono di tipo float, secondo noi è meglio lasciarli in questo formato senza convertirli ulteriolmente per facilitare i controllo statistico dei dati. Dalla descrizione possiamo notare la presenza di tantissmi valori null e la presenza di alcuni outliers da gestire."
   ]
  },
  {
   "cell_type": "code",
   "execution_count": 12,
   "id": "d870e924",
   "metadata": {},
   "outputs": [
    {
     "name": "stdout",
     "output_type": "stream",
     "text": [
      "description of draw_size:\n",
      "count    81660.000000\n",
      "mean        97.675753\n",
      "std         41.492701\n",
      "min          0.000000\n",
      "25%         72.000000\n",
      "50%         91.000000\n",
      "75%        119.000000\n",
      "max       4756.000000\n",
      "Name: minutes, dtype: float64\n",
      "null_values: 104468\n"
     ]
    }
   ],
   "source": [
    "print(\"description of draw_size:\" + \"\\n\"+str(df.minutes.describe()))\n",
    "print(\"null_values: \"+ str(df.minutes.isnull().sum())) #104468\n"
   ]
  },
  {
   "cell_type": "markdown",
   "id": "27a75b71",
   "metadata": {},
   "source": [
    "### Score\n",
    "\n",
    "Rappresenta il punteggio di ogni match?\n",
    "\n",
    "Analysis: Abbiamo tanti valori unici quindi ci fa pensare a molti punteggi diversi tra le varie partite, abbiamo 199 partite di cui non conosciamo i relativi punteggi ottenuti. \n",
    "\n",
    "Il punteggio potrebbe essere messo in relazione con altri attributi come ad esempio i minuti o il best_of (che vedremo dopo)"
   ]
  },
  {
   "cell_type": "code",
   "execution_count": 13,
   "id": "ebbc5a8e",
   "metadata": {
    "scrolled": true
   },
   "outputs": [
    {
     "name": "stdout",
     "output_type": "stream",
     "text": [
      "description of score:\n",
      "count      185929\n",
      "unique       9705\n",
      "top       6-3 6-4\n",
      "freq         5377\n",
      "Name: score, dtype: object\n",
      "null_values: 199\n"
     ]
    }
   ],
   "source": [
    "print(\"description of score:\" + \"\\n\"+str(df.score.describe()))\n",
    "print(\"null_values: \"+ str(df.score.isnull().sum())) #199"
   ]
  },
  {
   "cell_type": "markdown",
   "id": "30eba9cd",
   "metadata": {},
   "source": [
    "### Round\n",
    "\n",
    "Analysis: Cosa significano?"
   ]
  },
  {
   "cell_type": "code",
   "execution_count": 14,
   "id": "08d4e91b",
   "metadata": {
    "scrolled": false
   },
   "outputs": [
    {
     "name": "stdout",
     "output_type": "stream",
     "text": [
      "description of best_of:\n",
      "count     186098\n",
      "unique        12\n",
      "top          R32\n",
      "freq       63069\n",
      "Name: round, dtype: object\n",
      "null_values: 30\n",
      "unique value:\n",
      "['F' 'SF' 'QF' 'R16' 'R32' 'Q1' 'Q2' 'Q3' 'R64' 'R128' 'RR' 'BR' nan]\n"
     ]
    }
   ],
   "source": [
    "print(\"description of best_of:\" + \"\\n\"+str(df['round'].describe()))\n",
    "print(\"null_values: \"+ str(df['round'].isnull().sum())) #30\n",
    "print(\"unique value:\" + \"\\n\"+str(df['round'].unique())) \n",
    "# ['F' 'SF' 'QF' 'R16' 'R32' 'Q1' 'Q2' 'Q3' 'R64' 'R128' 'RR' 'BR' nan]\n"
   ]
  },
  {
   "cell_type": "markdown",
   "id": "1700fa8a",
   "metadata": {},
   "source": [
    "### best_of\n",
    "\n",
    "'3' or '5', indicating the number of set for this match\n",
    "\n",
    "Analisi: i valori sembrano entrare nel range specificato perchè sono tutti 3,5 con la presenza di alcuni valori null (29). "
   ]
  },
  {
   "cell_type": "code",
   "execution_count": 15,
   "id": "79ceac48",
   "metadata": {},
   "outputs": [
    {
     "name": "stdout",
     "output_type": "stream",
     "text": [
      "description of best_of:\n",
      "count    186099.000000\n",
      "mean          3.034100\n",
      "std           0.258917\n",
      "min           3.000000\n",
      "25%           3.000000\n",
      "50%           3.000000\n",
      "75%           3.000000\n",
      "max           5.000000\n",
      "Name: best_of, dtype: float64\n",
      "null_values: 29\n",
      "unique value:\n",
      "[ 3.  5. nan]\n"
     ]
    }
   ],
   "source": [
    "print(\"description of best_of:\" + \"\\n\"+str(df.best_of.describe()))\n",
    "print(\"null_values: \"+ str(df.best_of.isnull().sum())) #29\n",
    "print(\"unique value:\" + \"\\n\"+str(df.best_of.unique())) # [ 3.  5. nan]\n"
   ]
  },
  {
   "cell_type": "markdown",
   "id": "126324cf",
   "metadata": {},
   "source": [
    "## Players"
   ]
  },
  {
   "cell_type": "markdown",
   "id": "0d068be3",
   "metadata": {},
   "source": [
    "### winner_id and loser_id\n",
    "\n",
    "the player_id used in this repo for the winner of the match.\n",
    "\n",
    "Analisi: Potremmo raggrupare id di ogni giocatore con il proprio nome in modo da avere nella lista dei giocatori l'associazione player-id. Tramite la groupby possiamo notare soltanto 13 valori diversi per nome-id (possibili wrong values)"
   ]
  },
  {
   "cell_type": "code",
   "execution_count": 16,
   "id": "4fe8b19e",
   "metadata": {},
   "outputs": [
    {
     "name": "stdout",
     "output_type": "stream",
     "text": [
      "\n",
      "description of:\n",
      "           winner_id       loser_id\n",
      "count  186073.000000  186100.000000\n",
      "mean   180151.623529  181662.421397\n",
      "std     46547.170898   46618.084325\n",
      "min    100644.000000  100644.000000\n",
      "25%    122425.000000  124116.000000\n",
      "50%    203530.000000  205815.000000\n",
      "75%    214152.000000  214818.000000\n",
      "max    245099.000000  245099.000000\n",
      "null_values: \t  55\t\t 28\n",
      "1    6163\n",
      "2      13\n",
      "Name: winner_name, dtype: int64\n"
     ]
    }
   ],
   "source": [
    "print(\"\\ndescription of:\" + \"\\n\"+str(df[['winner_id', 'loser_id']].describe()))\n",
    "print(\"null_values: \\t  \"+ str(df.winner_id.isnull().sum()) + \"\\t\\t \"\n",
    "      + str(df.loser_id.isnull().sum())) #55 | 28 \n",
    "\n",
    "print(df.groupby(['winner_id']).winner_name.nunique().value_counts())\n",
    "\n",
    "# df.groupby(['winner_id']).winner_name.nunique() "
   ]
  },
  {
   "cell_type": "markdown",
   "id": "01f454aa",
   "metadata": {},
   "source": [
    "### winner_name and loser_name\n",
    "\n",
    "name of player that win \n",
    "\n",
    "Analisi: abbiamo già esaminato questi valori quando abbiamo fatto la parte di dataintegration quindi al momento rimane solo da gestire il problema dei null"
   ]
  },
  {
   "cell_type": "code",
   "execution_count": 17,
   "id": "2ab87eb3",
   "metadata": {},
   "outputs": [
    {
     "name": "stdout",
     "output_type": "stream",
     "text": [
      "\n",
      "description of:\n",
      "           winner_name     loser_name\n",
      "count           186101         186097\n",
      "unique            6180          10060\n",
      "top     Novak Djokovic  Federico Gaio\n",
      "freq               289            180\n",
      "null_values: \t    27\t\t   31\n"
     ]
    }
   ],
   "source": [
    "print(\"\\ndescription of:\" + \"\\n\"+str(df[['winner_name', 'loser_name']].describe()))\n",
    "print(\"null_values: \\t    \"+ str(df.winner_name.isnull().sum()) + \"\\t\\t   \"\n",
    "      + str(df.loser_name.isnull().sum())) #27 | 31 \n"
   ]
  },
  {
   "cell_type": "markdown",
   "id": "897f0c1d",
   "metadata": {},
   "source": [
    "### Winner and loser ioc \n",
    "\n",
    "three-character country code\n",
    "\n",
    "Analisi: ogni vincitore ha il proprio paese di riferimento, potremmo raggrupparli tutti per partecipanti e capire bene tutti i partecipanti del torneo di una determinata nazione. I Null sono pochi quindi volendo potrei fare una previsione controllando il nome del partecipante con gli scenari precedenti"
   ]
  },
  {
   "cell_type": "code",
   "execution_count": 18,
   "id": "89530b3d",
   "metadata": {},
   "outputs": [
    {
     "name": "stdout",
     "output_type": "stream",
     "text": [
      "\n",
      "description of:\n",
      "       winner_ioc loser_ioc\n",
      "count      186099    186102\n",
      "unique        124       154\n",
      "top           USA       USA\n",
      "freq        16464     16728\n",
      "null_values:    29\t   26\n",
      "\n",
      "different county names:\n",
      "          0\n",
      "count   154\n",
      "unique  154\n",
      "top     JPN\n",
      "freq      1\n"
     ]
    }
   ],
   "source": [
    "print(\"\\ndescription of:\" + \"\\n\"+str(df[['winner_ioc', 'loser_ioc']].describe()))\n",
    "print(\"null_values:    \"+ str(df.winner_ioc.isnull().sum()) + \"\\t   \"\n",
    "      + str(df.loser_ioc.isnull().sum())) #29 | 26 \n",
    "\n",
    "nation=np.concatenate((df.winner_ioc.unique(), df.loser_ioc.unique()),0)\n",
    "country = pd.DataFrame(nation)\n",
    "country = country.drop_duplicates()\n",
    "\n",
    "print(\"\\ndifferent county names:\" + \"\\n\" + str(country.describe()))"
   ]
  },
  {
   "cell_type": "markdown",
   "id": "47b9efd3",
   "metadata": {},
   "source": [
    "### winner and loser ht\n",
    "\n",
    "height in centimetres, where available\n",
    "\n",
    "Analysis: abbiamo tanti valori null, in questo caso potremmo andare ad analizzare il nome del vincitore e vedere la nazionalità associata precedentemente per poi fare sostituire i valori null. Dato che l'altezza è un numero intero potremmo convertirlo in interi ma in questo momento lo lasciamo in float"
   ]
  },
  {
   "cell_type": "code",
   "execution_count": 19,
   "id": "157a7ef1",
   "metadata": {},
   "outputs": [
    {
     "name": "stdout",
     "output_type": "stream",
     "text": [
      "\n",
      "description of:\n",
      "          winner_ht     loser_ht\n",
      "count  49341.000000  38348.00000\n",
      "mean     181.407106    181.56308\n",
      "std       11.630899     10.81565\n",
      "min        2.000000      2.00000\n",
      "25%      175.000000    175.00000\n",
      "50%      183.000000    183.00000\n",
      "75%      188.000000    188.00000\n",
      "max      211.000000    211.00000\n",
      "null_values:    136787\t   147780\n"
     ]
    }
   ],
   "source": [
    "print(\"\\ndescription of:\" + \"\\n\"+str(df[['winner_ht', 'loser_ht']].describe()))\n",
    "print(\"null_values:    \"+ str(df.winner_ht.isnull().sum()) + \"\\t   \"\n",
    "      + str(df.loser_ht.isnull().sum())) #136787 | 147780 \n",
    "\n",
    "#df['winner_ht']=df['winner_ht'].fillna(0).astype(np.int64)\n",
    "\n",
    "#print(\"description of winner_ht:\" + \"\\n\"+str(df['winner_ht'].describe()))"
   ]
  },
  {
   "cell_type": "markdown",
   "id": "adf6fc52",
   "metadata": {},
   "source": [
    "### winner and loser age\n",
    "\n",
    "the age of the player, in years, depending on the date of the\n",
    "tournament\n",
    "\n",
    "\n",
    "Analisi: Bisogna capire cosa rappresenta la parte decimale, io opterei per trasformare tutto in valori interi ed utilizzare quei valori, inoltre l'età del vincitore può cambiare in base al torneo quindi potrei trovare un valore precedente per sostituire uno null."
   ]
  },
  {
   "cell_type": "code",
   "execution_count": 20,
   "id": "a7e79a94",
   "metadata": {},
   "outputs": [
    {
     "name": "stdout",
     "output_type": "stream",
     "text": [
      "\n",
      "description of:\n",
      "          winner_age      loser_age\n",
      "count  183275.000000  179590.000000\n",
      "mean       23.963517      23.765932\n",
      "std         4.462318       4.629857\n",
      "min        14.042437      14.006845\n",
      "25%        20.492813      20.131417\n",
      "50%        23.457906      23.227926\n",
      "75%        26.869268      26.767967\n",
      "max        95.000000      74.485969\n",
      "null_values:    2853\t   6538\n"
     ]
    }
   ],
   "source": [
    "print(\"\\ndescription of:\" + \"\\n\"+str(df[['winner_age', 'loser_age']].describe()))\n",
    "print(\"null_values:    \"+ str(df.winner_age.isnull().sum()) + \"\\t   \"\n",
    "      + str(df.loser_age.isnull().sum())) #2853 | 6538 \n"
   ]
  },
  {
   "cell_type": "markdown",
   "id": "75c019d9",
   "metadata": {},
   "source": [
    "### winner_hand and loser_hand\n",
    "R= right, L = left, U = unknown. For ambidextrous players, this is their\n",
    "serving hand.\n",
    "\n",
    "Analisi: anche qui abbiamo pochi null che possiamo rimpiazzare con i valori precedenti. Analizzando gli attributi possiamo scoprire che gli elementi all'interno sono unici e di tre tipi soltanto (non considerando i valori null)\n"
   ]
  },
  {
   "cell_type": "code",
   "execution_count": 21,
   "id": "ef446eed",
   "metadata": {},
   "outputs": [
    {
     "name": "stdout",
     "output_type": "stream",
     "text": [
      "\n",
      "description of:\n",
      "       winner_hand loser_hand\n",
      "count       186082     186030\n",
      "unique           3          3\n",
      "top              R          R\n",
      "freq        120610     109264\n",
      "null_values:    46\t   98\n"
     ]
    }
   ],
   "source": [
    "print(\"\\ndescription of:\" + \"\\n\"+str(df[['winner_hand', 'loser_hand']].describe()))\n",
    "print(\"null_values:    \"+ str(df.winner_hand.isnull().sum()) + \"\\t   \"\n",
    "      + str(df.loser_hand.isnull().sum())) #46 | 98 \n",
    "\n",
    "#print(\"unique value:\" + \"\\n\"+str(df.winner_hand.unique()))  \n",
    "#['R' 'L' 'U' nan]\n",
    "\n",
    "#print(\"unique value:\" + \"\\n\"+str(df.loser_hand.unique()))  \n",
    "#['R' 'L' 'U' nan]\n"
   ]
  },
  {
   "cell_type": "markdown",
   "id": "9f349ef8",
   "metadata": {},
   "source": [
    "### winner_entry and loser_entry\n",
    "\n",
    "'WC' = wild card, 'Q' = qualifier, 'LL' = lucky loser, 'PR' = protected\n",
    "ranking, 'ITF' = ITF entry, and there are a few others that are occasionally used.\n",
    "\n",
    "loser_entry: analogous\n",
    "\n",
    "Analysis: Abbiamo tanti valori null ma l'insieme di valori unici è di 19 valori"
   ]
  },
  {
   "cell_type": "code",
   "execution_count": 22,
   "id": "5290ca30",
   "metadata": {},
   "outputs": [
    {
     "name": "stdout",
     "output_type": "stream",
     "text": [
      "\n",
      "description of:\n",
      "       winner_entry loser_entry\n",
      "count         25827       44154\n",
      "unique           15          19\n",
      "top               Q           Q\n",
      "freq          13575       20346\n",
      "null_values:  160301\t  141974\n",
      "\n",
      "different entry:\n",
      "         0\n",
      "count   19\n",
      "unique  19\n",
      "top     PR\n",
      "freq     1\n"
     ]
    }
   ],
   "source": [
    "print(\"\\ndescription of:\" + \"\\n\"+str(df[['winner_entry', 'loser_entry']].describe()))\n",
    "print(\"null_values:  \"+ str(df.winner_entry.isnull().sum()) + \"\\t  \"\n",
    "      + str(df.loser_entry.isnull().sum())) #160301 | 141974 \n",
    "\n",
    "\n",
    "#print(\"unique value:\" + \"\\n\"+str(df.winner_entry.unique())) \n",
    "\n",
    "#[nan 'PR' 'Q' 'WC' 'Alt' 'LL' 'SE' 'ALT' 'SR' 'JE' 'A' 'ITF' 'P' 'I' 'IR' 'JR']\n",
    "\n",
    "#print(\"unique value:\" + \"\\n\"+str(df.loser_entry.unique())) \n",
    "\n",
    "#[nan 'PR' 'Q' 'LL' 'WC' 'Alt' 'A' 'SE' 'ALT' 'SR' 'JE' '3' '4' '6' 'ITF' 'I' 'P' 'J' 'IR' 'JR']\n",
    "\n",
    "\n",
    "entry=np.concatenate((df.winner_entry.unique(), df.loser_entry.unique()),0)\n",
    "entry = pd.DataFrame(entry)\n",
    "entry = entry.drop_duplicates()\n",
    "\n",
    "print(\"\\ndifferent entry:\" + \"\\n\" + str(entry.describe()))"
   ]
  },
  {
   "cell_type": "markdown",
   "id": "7b332c11",
   "metadata": {},
   "source": [
    "### winner_rank     loser_rank       \n",
    "\n",
    "winner's ATP or WTA rank, as of the tourney_date, or the most recentranking date before the tourney_date\n",
    "\n",
    "Analisi: Molti null, possiamo usare il rank del vincitore per esaminare come cambia durante i vari tornei. Potremmo usare un associazione anche qui con id-nome-nazionalità-rank-ecc.. magari nella parte di data preparation"
   ]
  },
  {
   "cell_type": "code",
   "execution_count": 23,
   "id": "2e587dac",
   "metadata": {},
   "outputs": [
    {
     "name": "stdout",
     "output_type": "stream",
     "text": [
      "\n",
      "description of:\n",
      "         winner_rank     loser_rank\n",
      "count  166719.000000  150845.000000\n",
      "mean      383.810723     434.303736\n",
      "std       313.996466     355.803171\n",
      "min         1.000000       1.000000\n",
      "25%       137.000000     157.000000\n",
      "50%       298.000000     325.000000\n",
      "75%       562.000000     642.000000\n",
      "max      2220.000000    2257.000000\n",
      "null_values:   19409\t      35283\n"
     ]
    }
   ],
   "source": [
    "print(\"\\ndescription of:\" + \"\\n\"+str(df[['winner_rank', 'loser_rank']].describe()))\n",
    "print(\"null_values:   \"+ str(df.winner_rank.isnull().sum()) + \"\\t      \"\n",
    "      + str(df.loser_rank.isnull().sum())) #19409 | 35283 \n"
   ]
  },
  {
   "cell_type": "markdown",
   "id": "36987a88",
   "metadata": {},
   "source": [
    "### winner_rank_points     loser_rank_points\n",
    "\n",
    "number of ranking points, where available.\n",
    "\n",
    "Analisi: anche qui abbiamo dei null value, possiamo mettere in correlazione il rank con rank_point per capire in ordine quali sono i migliori giocatori\n",
    "\n",
    "Analisi: anche qui abbiamo dei null value, possiamo mettere in correlazione questi valori per capire le statistiche di ogni giocatore"
   ]
  },
  {
   "cell_type": "code",
   "execution_count": 24,
   "id": "f7731d90",
   "metadata": {},
   "outputs": [
    {
     "name": "stdout",
     "output_type": "stream",
     "text": [
      "\n",
      "description of:\n",
      "       winner_rank_points  loser_rank_points\n",
      "count       166701.000000      150828.000000\n",
      "mean           470.450789         356.328692\n",
      "std           1041.008107         702.626048\n",
      "min              1.000000           1.000000\n",
      "25%             49.000000          35.000000\n",
      "50%            161.000000         138.000000\n",
      "75%            438.000000         377.000000\n",
      "max          16950.000000       16950.000000\n",
      "null_values:\t    19427\t       35300\n"
     ]
    }
   ],
   "source": [
    "print(\"\\ndescription of:\" + \"\\n\"+str(df[['winner_rank_points', 'loser_rank_points']].describe()))\n",
    "print(\"null_values:\\t    \"+ str(df.winner_rank_points.isnull().sum()) + \"\\t       \"\n",
    "      + str(df.loser_rank_points.isnull().sum())) #19427 | 35300 \n"
   ]
  },
  {
   "cell_type": "markdown",
   "id": "254c4f2a",
   "metadata": {},
   "source": [
    "### w_ace l_ace\n",
    "\n",
    "winner's number of aces\n",
    "\n",
    "Analisi: anche qui abbiamo dei null value, possiamo mettere in correlazione questi valori per capire le statistiche di ogni giocatore"
   ]
  },
  {
   "cell_type": "code",
   "execution_count": 25,
   "id": "27e6d5c3",
   "metadata": {
    "scrolled": true
   },
   "outputs": [
    {
     "name": "stdout",
     "output_type": "stream",
     "text": [
      "\n",
      "description of:\n",
      "              w_ace         l_ace\n",
      "count  82310.000000  82313.000000\n",
      "mean       4.813425      3.527875\n",
      "std        4.387105      3.828217\n",
      "min        0.000000      0.000000\n",
      "25%        2.000000      1.000000\n",
      "50%        4.000000      2.000000\n",
      "75%        7.000000      5.000000\n",
      "max       75.000000     67.000000\n",
      "null_values: 103818\t   103815\n"
     ]
    }
   ],
   "source": [
    "print(\"\\ndescription of:\" + \"\\n\"+str(df[['w_ace', 'l_ace']].describe()))\n",
    "print(\"null_values: \"+ str(df.w_ace.isnull().sum()) + \"\\t   \"\n",
    "      + str(df.l_ace.isnull().sum())) #103818 | 103815 \n",
    "\n",
    "#print(\"unique value:\" + \"\\n\"+str(df.w_ace.unique())) \n",
    "\n",
    "#[ 3. 10.  2. 12.  5. 11.  1. 16. 21. 17. 15.  6.  7. 18. 44.  9.  8.  4.\n",
    "#  0. 14. 13. nan 33. 25. 20. 22. 26. 40. 19. 28. 29. 24. 30. 39. 23. 43.\n",
    "\n",
    "#print(\"unique value:\" + \"\\n\"+str(df.l_ace.unique())) \n",
    "\n",
    "#[ 8. 17. 10.  1. 29. 12.  3.  5.  6. 13.  7.  4. 27. 22.  2.  0. 11. 20.\n",
    "#  9. nan 14. 36. 26. 15. 16. 47. 24. 18. 25. 21. 59. 28. 19. 23. 67. 38.\n",
    "# 37. 30. 34. 33. 31. 32. 40. 35. 52. 61. 53. 44. 45. 46. 56. 43. 39.]"
   ]
  },
  {
   "cell_type": "markdown",
   "id": "4dca1fb9",
   "metadata": {},
   "source": [
    "###  w_df      l_df\n",
    "\n",
    "winner's number of doubles faults\n",
    "\n",
    "Analisi: anche qui abbiamo dei null value, possiamo mettere in correlazione questi valori per capire le statistiche di ogni giocatore"
   ]
  },
  {
   "cell_type": "code",
   "execution_count": 26,
   "id": "2518417d",
   "metadata": {},
   "outputs": [
    {
     "name": "stdout",
     "output_type": "stream",
     "text": [
      "\n",
      "description of:\n",
      "               w_df          l_df\n",
      "count  82312.000000  82319.000000\n",
      "mean       2.858174      3.612556\n",
      "std        2.421105      2.608092\n",
      "min        0.000000      0.000000\n",
      "25%        1.000000      2.000000\n",
      "50%        2.000000      3.000000\n",
      "75%        4.000000      5.000000\n",
      "max      114.000000    114.000000\n",
      "null_values: 103816\t   103809\n"
     ]
    }
   ],
   "source": [
    "print(\"\\ndescription of:\" + \"\\n\"+str(df[['w_df', 'l_df']].describe()))\n",
    "print(\"null_values: \"+ str(df.w_df.isnull().sum()) + \"\\t   \"\n",
    "      + str(df.l_df.isnull().sum())) #103816 | 103809 \n"
   ]
  },
  {
   "cell_type": "markdown",
   "id": "bb39a646",
   "metadata": {},
   "source": [
    "### w_svpt   l_svpt\n",
    "\n",
    "winner's number of serve points\n",
    "\n",
    "Analisi: anche qui abbiamo dei null value, possiamo mettere in correlazione questi valori per capire le statistiche di ogni giocatore"
   ]
  },
  {
   "cell_type": "code",
   "execution_count": 27,
   "id": "0014930d",
   "metadata": {},
   "outputs": [
    {
     "name": "stdout",
     "output_type": "stream",
     "text": [
      "\n",
      "description of:\n",
      "             w_svpt        l_svpt\n",
      "count  82310.000000  82315.000000\n",
      "mean      71.288069     73.557335\n",
      "std       25.524468     24.985696\n",
      "min        0.000000      0.000000\n",
      "25%       53.000000     56.000000\n",
      "50%       67.000000     69.000000\n",
      "75%       87.000000     88.000000\n",
      "max     1957.000000   1672.000000\n",
      "null_values: 103818\t   103813\n"
     ]
    }
   ],
   "source": [
    "print(\"\\ndescription of:\" + \"\\n\"+str(df[['w_svpt', 'l_svpt']].describe()))\n",
    "print(\"null_values: \"+ str(df.w_svpt.isnull().sum()) + \"\\t   \"\n",
    "      + str(df.l_svpt.isnull().sum())) #103818 | 103813 \n"
   ]
  },
  {
   "cell_type": "markdown",
   "id": "748f87c2",
   "metadata": {},
   "source": [
    "### w_1st    ln l_1stln\n",
    "\n",
    "winner’s number of first serves made\n",
    "\n",
    "Analisi: anche qui abbiamo dei null value, possiamo mettere in correlazione questi valori per capire le statistiche di ogni giocatore"
   ]
  },
  {
   "cell_type": "code",
   "execution_count": 28,
   "id": "b6076a6a",
   "metadata": {},
   "outputs": [
    {
     "name": "stdout",
     "output_type": "stream",
     "text": [
      "\n",
      "description of:\n",
      "            w_1stIn       l_1stIn\n",
      "count  82310.000000  82304.000000\n",
      "mean      44.270477     44.557737\n",
      "std       16.951922     16.776201\n",
      "min        0.000000      0.000000\n",
      "25%       32.000000     33.000000\n",
      "50%       42.000000     42.000000\n",
      "75%       54.000000     54.000000\n",
      "max     1330.000000    893.000000\n",
      "null_values: 103818\t   103824\n"
     ]
    }
   ],
   "source": [
    "print(\"\\ndescription of:\" + \"\\n\"+str(df[['w_1stIn', 'l_1stIn']].describe()))\n",
    "print(\"null_values: \"+ str(df.w_1stIn.isnull().sum()) + \"\\t   \"\n",
    "      + str(df.l_1stIn.isnull().sum())) #103818 | 103824 \n"
   ]
  },
  {
   "cell_type": "markdown",
   "id": "385d16a5",
   "metadata": {},
   "source": [
    "### w_1stWon    l_1stWon\n",
    "\n",
    "winner’s number of first-serve points won\n",
    "\n",
    "Analisi: anche qui abbiamo dei null value, possiamo mettere in correlazione questi valori per capire le statistiche di ogni giocatore"
   ]
  },
  {
   "cell_type": "code",
   "execution_count": 29,
   "id": "2d69b198",
   "metadata": {},
   "outputs": [
    {
     "name": "stdout",
     "output_type": "stream",
     "text": [
      "\n",
      "description of:\n",
      "           w_1stWon      l_1stWon\n",
      "count  82312.000000  82311.000000\n",
      "mean      32.130564     28.028903\n",
      "std       11.409554     12.270939\n",
      "min        0.000000      0.000000\n",
      "25%       24.000000     19.000000\n",
      "50%       30.000000     26.000000\n",
      "75%       38.000000     35.000000\n",
      "max      836.000000    532.000000\n",
      "null_values: 103816\t   103817\n"
     ]
    }
   ],
   "source": [
    "print(\"\\ndescription of:\" + \"\\n\"+str(df[['w_1stWon', 'l_1stWon']].describe()))\n",
    "print(\"null_values: \"+ str(df.w_1stWon.isnull().sum()) + \"\\t   \"\n",
    "      + str(df.l_1stWon.isnull().sum())) #103816 | 103817\n"
   ]
  },
  {
   "cell_type": "markdown",
   "id": "a35e6672",
   "metadata": {},
   "source": [
    "### w_2ndWon  l_2ndWon\n",
    "\n",
    "winner’s number of second-serve points won\n",
    "\n",
    "Analisi: anche qui abbiamo dei null value, possiamo mettere in correlazione questi valori per capire le statistiche di ogni giocatore"
   ]
  },
  {
   "cell_type": "code",
   "execution_count": 30,
   "id": "72e14292",
   "metadata": {},
   "outputs": [
    {
     "name": "stdout",
     "output_type": "stream",
     "text": [
      "\n",
      "description of:\n",
      "           w_2ndWon      l_2ndWon\n",
      "count  82309.000000  82312.000000\n",
      "mean      14.451251     12.705681\n",
      "std        5.933102      6.320212\n",
      "min        0.000000      0.000000\n",
      "25%       10.000000      8.000000\n",
      "50%       14.000000     12.000000\n",
      "75%       18.000000     16.000000\n",
      "max      304.000000    399.000000\n",
      "null_values: 103819\t   103816\n"
     ]
    }
   ],
   "source": [
    "print(\"\\ndescription of:\" + \"\\n\"+str(df[['w_2ndWon', 'l_2ndWon']].describe()))\n",
    "print(\"null_values: \"+ str(df.w_2ndWon.isnull().sum()) + \"\\t   \"\n",
    "      + str(df.l_2ndWon.isnull().sum())) #103819 | 103816 \n"
   ]
  },
  {
   "cell_type": "markdown",
   "id": "03906e32",
   "metadata": {},
   "source": [
    "### w_SvGms    l_SvGms\n",
    "\n",
    "winner’s number of serve games\n",
    "\n",
    "Analisi: anche qui abbiamo dei null value, possiamo mettere in correlazione questi valori per capire le statistiche di ogni giocatore"
   ]
  },
  {
   "cell_type": "code",
   "execution_count": 31,
   "id": "6863ae8a",
   "metadata": {},
   "outputs": [
    {
     "name": "stdout",
     "output_type": "stream",
     "text": [
      "\n",
      "description of:\n",
      "            w_SvGms       l_SvGms\n",
      "count  82311.000000  82318.000000\n",
      "mean      11.114784     10.940353\n",
      "std        3.512519      3.497649\n",
      "min        0.000000      0.000000\n",
      "25%        9.000000      9.000000\n",
      "50%       10.000000     10.000000\n",
      "75%       14.000000     13.000000\n",
      "max       49.000000     50.000000\n",
      "null_values: 103817\t   103810\n"
     ]
    }
   ],
   "source": [
    "print(\"\\ndescription of:\" + \"\\n\"+str(df[['w_SvGms', 'l_SvGms']].describe()))\n",
    "print(\"null_values: \"+ str(df.w_SvGms.isnull().sum()) + \"\\t   \"\n",
    "      + str(df.l_SvGms.isnull().sum())) #103817 | 103810 "
   ]
  },
  {
   "cell_type": "markdown",
   "id": "51f95c9b",
   "metadata": {},
   "source": [
    "### w_bpSaved   l_bpSaved\n",
    "\n",
    "winner's number of breakpoints saved\n",
    "\n",
    "Analisi: anche qui abbiamo dei null value, possiamo mettere in correlazione questi valori per capire le statistiche di ogni giocatore"
   ]
  },
  {
   "cell_type": "code",
   "execution_count": 32,
   "id": "f1193bbc",
   "metadata": {},
   "outputs": [
    {
     "name": "stdout",
     "output_type": "stream",
     "text": [
      "\n",
      "description of:\n",
      "          w_bpSaved     l_bpSaved\n",
      "count  82315.000000  82311.000000\n",
      "mean       3.540861      4.660641\n",
      "std        3.109012      3.148227\n",
      "min        0.000000      0.000000\n",
      "25%        1.000000      2.000000\n",
      "50%        3.000000      4.000000\n",
      "75%        5.000000      6.000000\n",
      "max      209.000000    120.000000\n",
      "null_values: 103813\t   103817\n"
     ]
    }
   ],
   "source": [
    "print(\"\\ndescription of:\" + \"\\n\"+str(df[['w_bpSaved', 'l_bpSaved']].describe()))\n",
    "print(\"null_values: \"+ str(df.w_bpSaved.isnull().sum()) + \"\\t   \"\n",
    "      + str(df.l_bpSaved.isnull().sum())) #103813 | 103817 "
   ]
  },
  {
   "cell_type": "markdown",
   "id": "066baa6b",
   "metadata": {},
   "source": [
    "### w_bpFaced   l_bpFaced\n",
    "\n",
    "winner's number of breakpoints faced\n",
    "\n",
    "Analisi: anche qui abbiamo dei null value, possiamo mettere in correlazione questi valori per capire le statistiche di ogni giocatore"
   ]
  },
  {
   "cell_type": "code",
   "execution_count": 33,
   "id": "cc9015f8",
   "metadata": {},
   "outputs": [
    {
     "name": "stdout",
     "output_type": "stream",
     "text": [
      "\n",
      "description of:\n",
      "          w_bpFaced     l_bpFaced\n",
      "count  82312.000000  82306.000000\n",
      "mean       5.410244      8.872124\n",
      "std        4.206825      3.969575\n",
      "min        0.000000      0.000000\n",
      "25%        2.000000      6.000000\n",
      "50%        5.000000      8.000000\n",
      "75%        8.000000     11.000000\n",
      "max      266.000000    190.000000\n",
      "null_values: 103816\t   103822\n"
     ]
    }
   ],
   "source": [
    "print(\"\\ndescription of:\" + \"\\n\"+str(df[['w_bpFaced', 'l_bpFaced']].describe()))\n",
    "print(\"null_values: \"+ str(df.w_bpFaced.isnull().sum()) + \"\\t   \"\n",
    "      + str(df.l_bpFaced.isnull().sum())) #103816 | 103822 \n",
    "\n",
    "#print(\"unique value:\" + \"\\n\"+str(df.w_bpFaced.unique())) \n",
    "\n",
    "#[  6.   1.   2.   5.   8.   7.   0.   3.   4.   9.  17.  12.  11.  10.\n",
    "#  14.  15.  13.  nan  18.  16.  22.  21.  19.  25.  23.  20.  27.  24.\n",
    "#26.  30.  28.  29.  33. 266.  70.  36. 180.  34.]\n",
    "\n",
    "#print(\"unique value:\" + \"\\n\"+str(df.l_bpFaced.unique())) \n",
    "\n",
    "#[ 15.  13.   5.   6.   4.   9.  11.   3.   2.   7.   8.   1.  18.  10.\n",
    "#  25.  19.  14.  17.  nan  12.   0.  16.  20.  21.  22.  23.  24.  29.\n",
    "#  26.  27.  28.  30.  31.  35. 190. 170.  48.  60. 180.]\n"
   ]
  },
  {
   "cell_type": "markdown",
   "id": "1c682095",
   "metadata": {},
   "source": [
    "### winner_gender  loser_gender\n",
    "\n",
    "gender of winner and loser\n",
    "\n",
    "Analisi: Avevamo già analizzato questi dati precedentemente con la parte di data integration."
   ]
  },
  {
   "cell_type": "code",
   "execution_count": 34,
   "id": "a6a40af7",
   "metadata": {},
   "outputs": [
    {
     "name": "stdout",
     "output_type": "stream",
     "text": [
      "\n",
      "description of:\n",
      "       winner_gender loser_gender\n",
      "count         183424       183999\n",
      "unique             3            3\n",
      "top                F            F\n",
      "freq          125314       125287\n",
      "null_values: \t2704\t     2129\n",
      "unique value:\n",
      "['M' nan 'F' 'U']\n",
      "unique value:\n",
      "['M' nan 'F' 'U']\n"
     ]
    }
   ],
   "source": [
    "print(\"\\ndescription of:\" + \"\\n\"+str(df[['winner_gender', 'loser_gender']].describe()))\n",
    "print(\"null_values: \\t\"+ str(df.winner_gender.isnull().sum()) + \"\\t     \"\n",
    "      + str(df.loser_gender.isnull().sum())) #2704 | 2129\n",
    "\n",
    "print(\"unique value:\" + \"\\n\"+str(df.winner_gender.unique())) #['M' nan 'F' 'U']\n",
    "print(\"unique value:\" + \"\\n\"+str(df.loser_gender.unique())) #['M' nan 'F' 'U']"
   ]
  },
  {
   "cell_type": "markdown",
   "id": "74103f29",
   "metadata": {},
   "source": [
    "## Data Statistics and Data Distributions\n",
    "\n",
    "The pandas function describe() is used to obtain basic statistical notions. By specifying the include attribute as 'all' we get statistics both for the numerical and categorical attributes of the dataset.\n",
    "The pandas function memory_usage() returns a Pandas Series having the memory usage of each column (in bytes) in a Pandas DataFrame. By specifying the deep attribute as True, we can get to know the actual space being taken by each column.\n",
    "The pandas function unique() is used to obtain the values of composition. By which we can view NaN, empty values .. from the acceptable ones, where this can help to understand something more.\n",
    "Another observation that we can do, but that is general with viewing the statistics of numerical data is the fact that we have the min and/or max value which are very different from the mean value, and for this we assume to have outliers, for sure.\n",
    "\n",
    "We see that count(winner_name) < count(loser_name) of unique values then this means that the set of winners is smaller than the set of losers. Same consideration is valid also for winner_ioc/loser_ioc attributes."
   ]
  },
  {
   "cell_type": "code",
   "execution_count": 35,
   "id": "8a0446c5",
   "metadata": {},
   "outputs": [
    {
     "data": {
      "text/html": [
       "<div>\n",
       "<style scoped>\n",
       "    .dataframe tbody tr th:only-of-type {\n",
       "        vertical-align: middle;\n",
       "    }\n",
       "\n",
       "    .dataframe tbody tr th {\n",
       "        vertical-align: top;\n",
       "    }\n",
       "\n",
       "    .dataframe thead th {\n",
       "        text-align: right;\n",
       "    }\n",
       "</style>\n",
       "<table border=\"1\" class=\"dataframe\">\n",
       "  <thead>\n",
       "    <tr style=\"text-align: right;\">\n",
       "      <th></th>\n",
       "      <th>tourney_id</th>\n",
       "      <th>tourney_name</th>\n",
       "      <th>surface</th>\n",
       "      <th>draw_size</th>\n",
       "      <th>tourney_level</th>\n",
       "      <th>tourney_date</th>\n",
       "      <th>match_num</th>\n",
       "      <th>winner_id</th>\n",
       "      <th>winner_entry</th>\n",
       "      <th>winner_name</th>\n",
       "      <th>...</th>\n",
       "      <th>l_bpSaved</th>\n",
       "      <th>l_bpFaced</th>\n",
       "      <th>winner_rank</th>\n",
       "      <th>winner_rank_points</th>\n",
       "      <th>loser_rank</th>\n",
       "      <th>loser_rank_points</th>\n",
       "      <th>tourney_spectators</th>\n",
       "      <th>tourney_revenue</th>\n",
       "      <th>winner_gender</th>\n",
       "      <th>loser_gender</th>\n",
       "    </tr>\n",
       "  </thead>\n",
       "  <tbody>\n",
       "    <tr>\n",
       "      <th>count</th>\n",
       "      <td>186073</td>\n",
       "      <td>186103</td>\n",
       "      <td>185940</td>\n",
       "      <td>186099.00</td>\n",
       "      <td>186099</td>\n",
       "      <td>186100</td>\n",
       "      <td>186101.00</td>\n",
       "      <td>186073.00</td>\n",
       "      <td>25827</td>\n",
       "      <td>186101</td>\n",
       "      <td>...</td>\n",
       "      <td>82311.00</td>\n",
       "      <td>82306.00</td>\n",
       "      <td>166719.00</td>\n",
       "      <td>166701.00</td>\n",
       "      <td>150845.00</td>\n",
       "      <td>150828.00</td>\n",
       "      <td>186101.00</td>\n",
       "      <td>186102.00</td>\n",
       "      <td>183424</td>\n",
       "      <td>183999</td>\n",
       "    </tr>\n",
       "    <tr>\n",
       "      <th>unique</th>\n",
       "      <td>4853</td>\n",
       "      <td>2488</td>\n",
       "      <td>4</td>\n",
       "      <td>NaN</td>\n",
       "      <td>19</td>\n",
       "      <td>NaN</td>\n",
       "      <td>NaN</td>\n",
       "      <td>NaN</td>\n",
       "      <td>15</td>\n",
       "      <td>6180</td>\n",
       "      <td>...</td>\n",
       "      <td>NaN</td>\n",
       "      <td>NaN</td>\n",
       "      <td>NaN</td>\n",
       "      <td>NaN</td>\n",
       "      <td>NaN</td>\n",
       "      <td>NaN</td>\n",
       "      <td>NaN</td>\n",
       "      <td>NaN</td>\n",
       "      <td>3</td>\n",
       "      <td>3</td>\n",
       "    </tr>\n",
       "    <tr>\n",
       "      <th>top</th>\n",
       "      <td>2018-560</td>\n",
       "      <td>W15 Antalya</td>\n",
       "      <td>Hard</td>\n",
       "      <td>NaN</td>\n",
       "      <td>15</td>\n",
       "      <td>NaN</td>\n",
       "      <td>NaN</td>\n",
       "      <td>NaN</td>\n",
       "      <td>Q</td>\n",
       "      <td>Novak Djokovic</td>\n",
       "      <td>...</td>\n",
       "      <td>NaN</td>\n",
       "      <td>NaN</td>\n",
       "      <td>NaN</td>\n",
       "      <td>NaN</td>\n",
       "      <td>NaN</td>\n",
       "      <td>NaN</td>\n",
       "      <td>NaN</td>\n",
       "      <td>NaN</td>\n",
       "      <td>F</td>\n",
       "      <td>F</td>\n",
       "    </tr>\n",
       "    <tr>\n",
       "      <th>freq</th>\n",
       "      <td>478</td>\n",
       "      <td>4634</td>\n",
       "      <td>95243</td>\n",
       "      <td>NaN</td>\n",
       "      <td>45807</td>\n",
       "      <td>NaN</td>\n",
       "      <td>NaN</td>\n",
       "      <td>NaN</td>\n",
       "      <td>13575</td>\n",
       "      <td>289</td>\n",
       "      <td>...</td>\n",
       "      <td>NaN</td>\n",
       "      <td>NaN</td>\n",
       "      <td>NaN</td>\n",
       "      <td>NaN</td>\n",
       "      <td>NaN</td>\n",
       "      <td>NaN</td>\n",
       "      <td>NaN</td>\n",
       "      <td>NaN</td>\n",
       "      <td>125314</td>\n",
       "      <td>125287</td>\n",
       "    </tr>\n",
       "    <tr>\n",
       "      <th>mean</th>\n",
       "      <td>NaN</td>\n",
       "      <td>NaN</td>\n",
       "      <td>NaN</td>\n",
       "      <td>41.13</td>\n",
       "      <td>NaN</td>\n",
       "      <td>2018-09-09 10:23:36.631918336</td>\n",
       "      <td>160.63</td>\n",
       "      <td>180151.62</td>\n",
       "      <td>NaN</td>\n",
       "      <td>NaN</td>\n",
       "      <td>...</td>\n",
       "      <td>4.66</td>\n",
       "      <td>8.87</td>\n",
       "      <td>383.81</td>\n",
       "      <td>470.45</td>\n",
       "      <td>434.30</td>\n",
       "      <td>356.33</td>\n",
       "      <td>4108.57</td>\n",
       "      <td>822644.20</td>\n",
       "      <td>NaN</td>\n",
       "      <td>NaN</td>\n",
       "    </tr>\n",
       "    <tr>\n",
       "      <th>min</th>\n",
       "      <td>NaN</td>\n",
       "      <td>NaN</td>\n",
       "      <td>NaN</td>\n",
       "      <td>2.00</td>\n",
       "      <td>NaN</td>\n",
       "      <td>2016-01-04 00:00:00</td>\n",
       "      <td>1.00</td>\n",
       "      <td>100644.00</td>\n",
       "      <td>NaN</td>\n",
       "      <td>NaN</td>\n",
       "      <td>...</td>\n",
       "      <td>0.00</td>\n",
       "      <td>0.00</td>\n",
       "      <td>1.00</td>\n",
       "      <td>1.00</td>\n",
       "      <td>1.00</td>\n",
       "      <td>1.00</td>\n",
       "      <td>91.00</td>\n",
       "      <td>17865.74</td>\n",
       "      <td>NaN</td>\n",
       "      <td>NaN</td>\n",
       "    </tr>\n",
       "    <tr>\n",
       "      <th>25%</th>\n",
       "      <td>NaN</td>\n",
       "      <td>NaN</td>\n",
       "      <td>NaN</td>\n",
       "      <td>32.00</td>\n",
       "      <td>NaN</td>\n",
       "      <td>2017-05-15 00:00:00</td>\n",
       "      <td>17.00</td>\n",
       "      <td>122425.00</td>\n",
       "      <td>NaN</td>\n",
       "      <td>NaN</td>\n",
       "      <td>...</td>\n",
       "      <td>2.00</td>\n",
       "      <td>6.00</td>\n",
       "      <td>137.00</td>\n",
       "      <td>49.00</td>\n",
       "      <td>157.00</td>\n",
       "      <td>35.00</td>\n",
       "      <td>2836.00</td>\n",
       "      <td>547366.24</td>\n",
       "      <td>NaN</td>\n",
       "      <td>NaN</td>\n",
       "    </tr>\n",
       "    <tr>\n",
       "      <th>50%</th>\n",
       "      <td>NaN</td>\n",
       "      <td>NaN</td>\n",
       "      <td>NaN</td>\n",
       "      <td>32.00</td>\n",
       "      <td>NaN</td>\n",
       "      <td>2018-08-27 00:00:00</td>\n",
       "      <td>131.00</td>\n",
       "      <td>203530.00</td>\n",
       "      <td>NaN</td>\n",
       "      <td>NaN</td>\n",
       "      <td>...</td>\n",
       "      <td>4.00</td>\n",
       "      <td>8.00</td>\n",
       "      <td>298.00</td>\n",
       "      <td>161.00</td>\n",
       "      <td>325.00</td>\n",
       "      <td>138.00</td>\n",
       "      <td>3340.00</td>\n",
       "      <td>663329.71</td>\n",
       "      <td>NaN</td>\n",
       "      <td>NaN</td>\n",
       "    </tr>\n",
       "    <tr>\n",
       "      <th>75%</th>\n",
       "      <td>NaN</td>\n",
       "      <td>NaN</td>\n",
       "      <td>NaN</td>\n",
       "      <td>32.00</td>\n",
       "      <td>NaN</td>\n",
       "      <td>2019-10-07 00:00:00</td>\n",
       "      <td>272.00</td>\n",
       "      <td>214152.00</td>\n",
       "      <td>NaN</td>\n",
       "      <td>NaN</td>\n",
       "      <td>...</td>\n",
       "      <td>6.00</td>\n",
       "      <td>11.00</td>\n",
       "      <td>562.00</td>\n",
       "      <td>438.00</td>\n",
       "      <td>642.00</td>\n",
       "      <td>377.00</td>\n",
       "      <td>4008.00</td>\n",
       "      <td>834029.00</td>\n",
       "      <td>NaN</td>\n",
       "      <td>NaN</td>\n",
       "    </tr>\n",
       "    <tr>\n",
       "      <th>max</th>\n",
       "      <td>NaN</td>\n",
       "      <td>NaN</td>\n",
       "      <td>NaN</td>\n",
       "      <td>128.00</td>\n",
       "      <td>NaN</td>\n",
       "      <td>2021-08-23 00:00:00</td>\n",
       "      <td>8312.00</td>\n",
       "      <td>245099.00</td>\n",
       "      <td>NaN</td>\n",
       "      <td>NaN</td>\n",
       "      <td>...</td>\n",
       "      <td>120.00</td>\n",
       "      <td>190.00</td>\n",
       "      <td>2220.00</td>\n",
       "      <td>16950.00</td>\n",
       "      <td>2257.00</td>\n",
       "      <td>16950.00</td>\n",
       "      <td>18086.00</td>\n",
       "      <td>5002793.97</td>\n",
       "      <td>NaN</td>\n",
       "      <td>NaN</td>\n",
       "    </tr>\n",
       "    <tr>\n",
       "      <th>std</th>\n",
       "      <td>NaN</td>\n",
       "      <td>NaN</td>\n",
       "      <td>NaN</td>\n",
       "      <td>25.36</td>\n",
       "      <td>NaN</td>\n",
       "      <td>NaN</td>\n",
       "      <td>289.33</td>\n",
       "      <td>46547.17</td>\n",
       "      <td>NaN</td>\n",
       "      <td>NaN</td>\n",
       "      <td>...</td>\n",
       "      <td>3.15</td>\n",
       "      <td>3.97</td>\n",
       "      <td>314.00</td>\n",
       "      <td>1041.01</td>\n",
       "      <td>355.80</td>\n",
       "      <td>702.63</td>\n",
       "      <td>2707.04</td>\n",
       "      <td>600857.05</td>\n",
       "      <td>NaN</td>\n",
       "      <td>NaN</td>\n",
       "    </tr>\n",
       "  </tbody>\n",
       "</table>\n",
       "<p>11 rows × 51 columns</p>\n",
       "</div>"
      ],
      "text/plain": [
       "       tourney_id tourney_name surface  draw_size tourney_level  \\\n",
       "count      186073       186103  185940  186099.00        186099   \n",
       "unique       4853         2488       4        NaN            19   \n",
       "top      2018-560  W15 Antalya    Hard        NaN            15   \n",
       "freq          478         4634   95243        NaN         45807   \n",
       "mean          NaN          NaN     NaN      41.13           NaN   \n",
       "min           NaN          NaN     NaN       2.00           NaN   \n",
       "25%           NaN          NaN     NaN      32.00           NaN   \n",
       "50%           NaN          NaN     NaN      32.00           NaN   \n",
       "75%           NaN          NaN     NaN      32.00           NaN   \n",
       "max           NaN          NaN     NaN     128.00           NaN   \n",
       "std           NaN          NaN     NaN      25.36           NaN   \n",
       "\n",
       "                         tourney_date  match_num  winner_id winner_entry  \\\n",
       "count                          186100  186101.00  186073.00        25827   \n",
       "unique                            NaN        NaN        NaN           15   \n",
       "top                               NaN        NaN        NaN            Q   \n",
       "freq                              NaN        NaN        NaN        13575   \n",
       "mean    2018-09-09 10:23:36.631918336     160.63  180151.62          NaN   \n",
       "min               2016-01-04 00:00:00       1.00  100644.00          NaN   \n",
       "25%               2017-05-15 00:00:00      17.00  122425.00          NaN   \n",
       "50%               2018-08-27 00:00:00     131.00  203530.00          NaN   \n",
       "75%               2019-10-07 00:00:00     272.00  214152.00          NaN   \n",
       "max               2021-08-23 00:00:00    8312.00  245099.00          NaN   \n",
       "std                               NaN     289.33   46547.17          NaN   \n",
       "\n",
       "           winner_name  ... l_bpSaved  l_bpFaced winner_rank  \\\n",
       "count           186101  ...  82311.00   82306.00   166719.00   \n",
       "unique            6180  ...       NaN        NaN         NaN   \n",
       "top     Novak Djokovic  ...       NaN        NaN         NaN   \n",
       "freq               289  ...       NaN        NaN         NaN   \n",
       "mean               NaN  ...      4.66       8.87      383.81   \n",
       "min                NaN  ...      0.00       0.00        1.00   \n",
       "25%                NaN  ...      2.00       6.00      137.00   \n",
       "50%                NaN  ...      4.00       8.00      298.00   \n",
       "75%                NaN  ...      6.00      11.00      562.00   \n",
       "max                NaN  ...    120.00     190.00     2220.00   \n",
       "std                NaN  ...      3.15       3.97      314.00   \n",
       "\n",
       "        winner_rank_points  loser_rank loser_rank_points tourney_spectators  \\\n",
       "count            166701.00   150845.00         150828.00          186101.00   \n",
       "unique                 NaN         NaN               NaN                NaN   \n",
       "top                    NaN         NaN               NaN                NaN   \n",
       "freq                   NaN         NaN               NaN                NaN   \n",
       "mean                470.45      434.30            356.33            4108.57   \n",
       "min                   1.00        1.00              1.00              91.00   \n",
       "25%                  49.00      157.00             35.00            2836.00   \n",
       "50%                 161.00      325.00            138.00            3340.00   \n",
       "75%                 438.00      642.00            377.00            4008.00   \n",
       "max               16950.00     2257.00          16950.00           18086.00   \n",
       "std                1041.01      355.80            702.63            2707.04   \n",
       "\n",
       "       tourney_revenue  winner_gender loser_gender  \n",
       "count        186102.00         183424       183999  \n",
       "unique             NaN              3            3  \n",
       "top                NaN              F            F  \n",
       "freq               NaN         125314       125287  \n",
       "mean         822644.20            NaN          NaN  \n",
       "min           17865.74            NaN          NaN  \n",
       "25%          547366.24            NaN          NaN  \n",
       "50%          663329.71            NaN          NaN  \n",
       "75%          834029.00            NaN          NaN  \n",
       "max         5002793.97            NaN          NaN  \n",
       "std          600857.05            NaN          NaN  \n",
       "\n",
       "[11 rows x 51 columns]"
      ]
     },
     "execution_count": 35,
     "metadata": {},
     "output_type": "execute_result"
    }
   ],
   "source": [
    "pd.options.display.float_format = '{:.2f}'.format # to visualize data through a table\n",
    "\n",
    "df.describe(datetime_is_numeric=True,include='all') # a summary of statistical informations"
   ]
  },
  {
   "cell_type": "code",
   "execution_count": 36,
   "id": "e426e668",
   "metadata": {},
   "outputs": [
    {
     "data": {
      "text/plain": [
       "Index                  5716136\n",
       "tourney_id            13773860\n",
       "tourney_name          12902923\n",
       "surface               11361062\n",
       "draw_size              1489024\n",
       "tourney_level         10899509\n",
       "tourney_date           1489024\n",
       "match_num              1489024\n",
       "winner_id              1489024\n",
       "winner_entry           6640780\n",
       "winner_name           13375073\n",
       "winner_hand           10794228\n",
       "winner_ht              1489024\n",
       "winner_ioc            11166868\n",
       "winner_age             1489024\n",
       "loser_id               1489024\n",
       "loser_entry            7129461\n",
       "loser_name            13371024\n",
       "loser_hand            10792876\n",
       "loser_ht               1489024\n",
       "loser_ioc             11166952\n",
       "loser_age              1489024\n",
       "score                 12301540\n",
       "best_of                1489024\n",
       "round                 11086531\n",
       "minutes                1489024\n",
       "w_ace                  1489024\n",
       "w_df                   1489024\n",
       "w_svpt                 1489024\n",
       "w_1stIn                1489024\n",
       "w_1stWon               1489024\n",
       "w_2ndWon               1489024\n",
       "w_SvGms                1489024\n",
       "w_bpSaved              1489024\n",
       "w_bpFaced              1489024\n",
       "l_ace                  1489024\n",
       "l_df                   1489024\n",
       "l_svpt                 1489024\n",
       "l_1stIn                1489024\n",
       "l_1stWon               1489024\n",
       "l_2ndWon               1489024\n",
       "l_SvGms                1489024\n",
       "l_bpSaved              1489024\n",
       "l_bpFaced              1489024\n",
       "winner_rank            1489024\n",
       "winner_rank_points     1489024\n",
       "loser_rank             1489024\n",
       "loser_rank_points      1489024\n",
       "tourney_spectators     1489024\n",
       "tourney_revenue        1489024\n",
       "winner_gender         10725120\n",
       "loser_gender          10740070\n",
       "dtype: int64"
      ]
     },
     "execution_count": 36,
     "metadata": {},
     "output_type": "execute_result"
    }
   ],
   "source": [
    "df.memory_usage(deep=True)"
   ]
  },
  {
   "cell_type": "markdown",
   "id": "7b305391",
   "metadata": {},
   "source": [
    "### Tourney\n",
    "\n",
    "Analysis: tourney_level is an attribute that depends on the gender of the player, so we have to underline their relations. By the graph we conclude that there are some errors due to the 'U' gender that have to be fixed and are treated better in the 'handling of missing values' part. The good thing is that, as we can see, the majority of the matches have been played only between the same gender and so a consideration to be done is that of considering the 'U' value the same of the other member of the couple in which it appears; if the other value is 'M' and there is a 'U' then that 'U' has to be transformed in 'M', and vice versa. Considering also the fact that the tourney_level can be applied to that gender, otherwise also the known value has to be exchanged. Also by the graph we can see the distribution of levels according the gender of the players, and so i.e. the 'C' between the man."
   ]
  },
  {
   "cell_type": "code",
   "execution_count": 37,
   "id": "18b08783",
   "metadata": {},
   "outputs": [
    {
     "data": {
      "text/plain": [
       "<AxesSubplot:title={'center':'Distribution of tourney_level values according to the gender of the player'}, xlabel='Gender of the winner and loser player', ylabel='Counting'>"
      ]
     },
     "execution_count": 37,
     "metadata": {},
     "output_type": "execute_result"
    },
    {
     "data": {
      "image/png": "[encoded data removed]",
      "text/plain": [
       "<Figure size 1440x720 with 1 Axes>"
      ]
     },
     "metadata": {
      "needs_background": "light"
     },
     "output_type": "display_data"
    }
   ],
   "source": [
    "lf = df.groupby(['winner_gender', 'loser_gender', 'tourney_level']).size()\n",
    "lf = lf.unstack()\n",
    "lf.plot(\n",
    "    figsize=(20, 10), \n",
    "    title=\"Distribution of tourney_level values according to the gender of the player\", \n",
    "    xlabel=\"Gender of the winner and loser player\",\n",
    "    ylabel=\"Counting\",\n",
    "    kind='bar')"
   ]
  },
  {
   "cell_type": "markdown",
   "id": "b46ded2b",
   "metadata": {},
   "source": [
    "We see the distribution of tourney_spectators and tourney_revenue and notice that they have a quite similar behavior. we could treat usefully these data by supposing for instance, an approximation of the cost of a ticket through the division of the avg revenue with the avg number of spectators"
   ]
  },
  {
   "cell_type": "code",
   "execution_count": 38,
   "id": "df0f797a",
   "metadata": {},
   "outputs": [
    {
     "data": {
      "text/html": [
       "<div>\n",
       "<style scoped>\n",
       "    .dataframe tbody tr th:only-of-type {\n",
       "        vertical-align: middle;\n",
       "    }\n",
       "\n",
       "    .dataframe tbody tr th {\n",
       "        vertical-align: top;\n",
       "    }\n",
       "\n",
       "    .dataframe thead th {\n",
       "        text-align: right;\n",
       "    }\n",
       "</style>\n",
       "<table border=\"1\" class=\"dataframe\">\n",
       "  <thead>\n",
       "    <tr style=\"text-align: right;\">\n",
       "      <th></th>\n",
       "      <th>tourney_spectators</th>\n",
       "      <th>tourney_revenue</th>\n",
       "    </tr>\n",
       "  </thead>\n",
       "  <tbody>\n",
       "    <tr>\n",
       "      <th>count</th>\n",
       "      <td>186101.00</td>\n",
       "      <td>186102.00</td>\n",
       "    </tr>\n",
       "    <tr>\n",
       "      <th>mean</th>\n",
       "      <td>4108.57</td>\n",
       "      <td>822644.20</td>\n",
       "    </tr>\n",
       "    <tr>\n",
       "      <th>std</th>\n",
       "      <td>2707.04</td>\n",
       "      <td>600857.05</td>\n",
       "    </tr>\n",
       "    <tr>\n",
       "      <th>min</th>\n",
       "      <td>91.00</td>\n",
       "      <td>17865.74</td>\n",
       "    </tr>\n",
       "    <tr>\n",
       "      <th>25%</th>\n",
       "      <td>2836.00</td>\n",
       "      <td>547366.24</td>\n",
       "    </tr>\n",
       "    <tr>\n",
       "      <th>50%</th>\n",
       "      <td>3340.00</td>\n",
       "      <td>663329.71</td>\n",
       "    </tr>\n",
       "    <tr>\n",
       "      <th>75%</th>\n",
       "      <td>4008.00</td>\n",
       "      <td>834029.00</td>\n",
       "    </tr>\n",
       "    <tr>\n",
       "      <th>max</th>\n",
       "      <td>18086.00</td>\n",
       "      <td>5002793.97</td>\n",
       "    </tr>\n",
       "  </tbody>\n",
       "</table>\n",
       "</div>"
      ],
      "text/plain": [
       "       tourney_spectators  tourney_revenue\n",
       "count           186101.00        186102.00\n",
       "mean              4108.57        822644.20\n",
       "std               2707.04        600857.05\n",
       "min                 91.00         17865.74\n",
       "25%               2836.00        547366.24\n",
       "50%               3340.00        663329.71\n",
       "75%               4008.00        834029.00\n",
       "max              18086.00       5002793.97"
      ]
     },
     "execution_count": 38,
     "metadata": {},
     "output_type": "execute_result"
    }
   ],
   "source": [
    "df[['tourney_spectators', 'tourney_revenue']].describe()"
   ]
  },
  {
   "cell_type": "code",
   "execution_count": 39,
   "id": "1c513b62",
   "metadata": {},
   "outputs": [
    {
     "data": {
      "image/png": "[encoded data removed]",
      "text/plain": [
       "<Figure size 432x288 with 2 Axes>"
      ]
     },
     "metadata": {
      "needs_background": "light"
     },
     "output_type": "display_data"
    }
   ],
   "source": [
    "dl = pd.DataFrame({ 'tourney_spectators': df['tourney_spectators'], 'tourney_revenue': df['tourney_revenue']}, index=[0, 20000, 40000, 60000, 80000, 100000, 120000])\n",
    "lines = dl.plot.line(subplots=True)"
   ]
  },
  {
   "cell_type": "code",
   "execution_count": 40,
   "id": "441705ea",
   "metadata": {},
   "outputs": [
    {
     "data": {
      "text/plain": [
       "200.22644566259393"
      ]
     },
     "execution_count": 40,
     "metadata": {},
     "output_type": "execute_result"
    }
   ],
   "source": [
    "df.tourney_revenue.mean() / df.tourney_spectators.mean()"
   ]
  },
  {
   "cell_type": "markdown",
   "id": "a821803d",
   "metadata": {},
   "source": [
    "## Matches\n",
    "\n",
    "We see more deeply on surface since has few different values. To understand which type of surfaces has been used in the matches we put it in relations the years of the tourney_date values. Thanks to the visualization of their distribution we can conclude that they follow the same increasing way instead for the last year, denoted by 2021, there is an inversion of the 'Clay' with the 'Hard' surface type.\n"
   ]
  },
  {
   "cell_type": "code",
   "execution_count": 41,
   "id": "590d9001",
   "metadata": {},
   "outputs": [
    {
     "data": {
      "text/plain": [
       "<AxesSubplot:title={'center':'Distribution of the surface values according to the years of the tourney_date values'}>"
      ]
     },
     "execution_count": 41,
     "metadata": {},
     "output_type": "execute_result"
    },
    {
     "data": {
      "image/png": "[encoded data removed]",
      "text/plain": [
       "<Figure size 1440x720 with 1 Axes>"
      ]
     },
     "metadata": {
      "needs_background": "light"
     },
     "output_type": "display_data"
    }
   ],
   "source": [
    "\n",
    "lf = df.groupby([ [x.year for x in df.tourney_date], 'surface']).size()\n",
    "lf = lf.unstack()\n",
    "lf.plot(\n",
    "    figsize=(20, 10), \n",
    "    title=\"Distribution of the surface values according to the years of the tourney_date values\", \n",
    "    kind='bar')"
   ]
  },
  {
   "cell_type": "markdown",
   "id": "b5521848",
   "metadata": {},
   "source": [
    "According to the distribution of the matches through the months and the years we can note that they follow the same structure for the first 4 years, while for the last 2 they have more missing values. In those years we can say that July was the month with more matches played."
   ]
  },
  {
   "cell_type": "code",
   "execution_count": 42,
   "id": "00b52bfc",
   "metadata": {},
   "outputs": [
    {
     "data": {
      "text/plain": [
       "<AxesSubplot:title={'center':'Distribution of the matches according the months of the years'}>"
      ]
     },
     "execution_count": 42,
     "metadata": {},
     "output_type": "execute_result"
    },
    {
     "data": {
      "image/png": "[encoded data removed]",
      "text/plain": [
       "<Figure size 1440x720 with 1 Axes>"
      ]
     },
     "metadata": {
      "needs_background": "light"
     },
     "output_type": "display_data"
    }
   ],
   "source": [
    "lf = df.groupby([ [x.year for x in df.tourney_date], [x.month for x in df.tourney_date]]).size()\n",
    "lf = lf.unstack()\n",
    "lf.plot(\n",
    "    figsize=(20, 10), \n",
    "    title=\"Distribution of the matches according the months of the years\", \n",
    "    kind='bar')"
   ]
  },
  {
   "cell_type": "markdown",
   "id": "be67d2eb",
   "metadata": {},
   "source": [
    "According to the distribution of the matches duration along the years, we note that there are a lot of matches played with less than 1 hour, 1 hour and some of 2 hours. THe bad thing is that there are also a lot of NaN values, this means that that data was not available for those matches and have to be treated in some way in the 'handling the missing values' part."
   ]
  },
  {
   "cell_type": "code",
   "execution_count": 43,
   "id": "8f71ae63",
   "metadata": {},
   "outputs": [
    {
     "data": {
      "text/plain": [
       "<AxesSubplot:title={'center':'Distribution of the duration of the matches during the years'}>"
      ]
     },
     "execution_count": 43,
     "metadata": {},
     "output_type": "execute_result"
    },
    {
     "data": {
      "image/png": "[encoded data removed]",
      "text/plain": [
       "<Figure size 1440x720 with 1 Axes>"
      ]
     },
     "metadata": {
      "needs_background": "light"
     },
     "output_type": "display_data"
    }
   ],
   "source": [
    "minutes = df['minutes']\n",
    "minutes = pd.to_numeric(minutes, errors='coerce') #for removing all non-numeric values use to_numeric with parameter errors='coerce' - to replace non-numeric values to NaNs\n",
    "minutes = minutes.fillna(-1)\n",
    "minutes = minutes.astype(int) #Last convert values to ints:\n",
    "\n",
    "lf = df.groupby([ [x.year for x in df.tourney_date], [ int( x // 60) for x in minutes]]).size()\n",
    "lf = lf.unstack()\n",
    "lf.plot(\n",
    "    figsize=(20, 10), \n",
    "    title=\"Distribution of the duration of the matches during the years\", \n",
    "    kind='box')"
   ]
  },
  {
   "cell_type": "markdown",
   "id": "d76a3556",
   "metadata": {},
   "source": [
    "We note that the majority of the best_of attribute is the same for all the years, and so we could souppose for the missing values that will take the most used value too, which is the 3."
   ]
  },
  {
   "cell_type": "code",
   "execution_count": 44,
   "id": "48794db8",
   "metadata": {},
   "outputs": [
    {
     "data": {
      "text/plain": [
       "<AxesSubplot:title={'center':'Distribution of best_of matches during the years'}>"
      ]
     },
     "execution_count": 44,
     "metadata": {},
     "output_type": "execute_result"
    },
    {
     "data": {
      "image/png": "[encoded data removed]",
      "text/plain": [
       "<Figure size 432x288 with 1 Axes>"
      ]
     },
     "metadata": {
      "needs_background": "light"
     },
     "output_type": "display_data"
    }
   ],
   "source": [
    "lf = df.groupby([ [x.year for x in df.tourney_date], 'best_of']).size()\n",
    "lf = lf.unstack()\n",
    "lf.plot(\n",
    "    title=\"Distribution of best_of matches during the years\", \n",
    "    kind='box')"
   ]
  },
  {
   "cell_type": "markdown",
   "id": "5b0c449d",
   "metadata": {},
   "source": [
    "We see that there are some previous consideration then this means that there are same countries that are never qualified between the winners Moreover, by seeing their distribution graph we note they are similar."
   ]
  },
  {
   "cell_type": "code",
   "execution_count": 45,
   "id": "97f49ce7",
   "metadata": {},
   "outputs": [
    {
     "data": {
      "text/plain": [
       "<AxesSubplot:title={'center':'Distribution of winner_ioc'}, xlabel='winner_ioc'>"
      ]
     },
     "execution_count": 45,
     "metadata": {},
     "output_type": "execute_result"
    },
    {
     "data": {
      "image/png": "[encoded data removed]",
      "text/plain": [
       "<Figure size 2880x720 with 1 Axes>"
      ]
     },
     "metadata": {
      "needs_background": "light"
     },
     "output_type": "display_data"
    }
   ],
   "source": [
    "lf = df.groupby([ df.winner_ioc]).size()\n",
    "lf.plot(\n",
    "    figsize=(40, 10), \n",
    "    title=\"Distribution of winner_ioc\", \n",
    "    kind='bar')"
   ]
  },
  {
   "cell_type": "code",
   "execution_count": 46,
   "id": "74f51771",
   "metadata": {},
   "outputs": [
    {
     "data": {
      "text/plain": [
       "<AxesSubplot:title={'center':'Distribution of loser_ioc'}, xlabel='loser_ioc'>"
      ]
     },
     "execution_count": 46,
     "metadata": {},
     "output_type": "execute_result"
    },
    {
     "data": {
      "image/png": "[encoded data removed]",
      "text/plain": [
       "<Figure size 2880x720 with 1 Axes>"
      ]
     },
     "metadata": {
      "needs_background": "light"
     },
     "output_type": "display_data"
    }
   ],
   "source": [
    "lf = df.groupby([ df.loser_ioc]).size()\n",
    "lf.plot(\n",
    "    figsize=(40, 10), \n",
    "    title=\"Distribution of loser_ioc\", \n",
    "    kind='bar')"
   ]
  },
  {
   "cell_type": "markdown",
   "id": "b4398ad0",
   "metadata": {},
   "source": [
    "We expected that the following attributes behave in the same way, they have 3 different values. Moreover, by their distribution graph we note that the majority of the players user the R hand, both the men and women players."
   ]
  },
  {
   "cell_type": "code",
   "execution_count": 47,
   "id": "9acd261c",
   "metadata": {},
   "outputs": [
    {
     "data": {
      "text/plain": [
       "<AxesSubplot:title={'center':'Distribution of the hand used on matches and their gender'}, xlabel='winner_hand,loser_hand,winner_gender'>"
      ]
     },
     "execution_count": 47,
     "metadata": {},
     "output_type": "execute_result"
    },
    {
     "data": {
      "image/png": "[encoded data removed]",
      "text/plain": [
       "<Figure size 432x288 with 1 Axes>"
      ]
     },
     "metadata": {
      "needs_background": "light"
     },
     "output_type": "display_data"
    }
   ],
   "source": [
    "lf = df.groupby([ 'winner_hand', 'loser_hand', 'winner_gender', 'loser_gender']).size()\n",
    "lf = lf.unstack()\n",
    "lf.plot(\n",
    "    title=\"Distribution of the hand used on matches and their gender\", \n",
    "    kind='bar')"
   ]
  },
  {
   "cell_type": "markdown",
   "id": "97f5cdc5",
   "metadata": {},
   "source": [
    "By visualizing the distribution of winner_entry/loser_entry we note that some are present only with the losers and vice versa, some are present only with the winners. \n",
    "NOTA ?: There is some relation with the ranking of the player to discover"
   ]
  },
  {
   "cell_type": "code",
   "execution_count": 48,
   "id": "30bd290b",
   "metadata": {},
   "outputs": [
    {
     "data": {
      "text/plain": [
       "<AxesSubplot:title={'center':'Distribution of winner_entry'}, xlabel='winner_entry'>"
      ]
     },
     "execution_count": 48,
     "metadata": {},
     "output_type": "execute_result"
    },
    {
     "data": {
      "image/png": "[encoded data removed]",
      "text/plain": [
       "<Figure size 432x288 with 1 Axes>"
      ]
     },
     "metadata": {
      "needs_background": "light"
     },
     "output_type": "display_data"
    }
   ],
   "source": [
    "lf = df.groupby([ 'winner_entry']).size()\n",
    "lf.plot(\n",
    "    title=\"Distribution of winner_entry\",\n",
    "    kind='bar')"
   ]
  },
  {
   "cell_type": "code",
   "execution_count": 49,
   "id": "89d4edaa",
   "metadata": {},
   "outputs": [
    {
     "data": {
      "text/plain": [
       "<AxesSubplot:title={'center':'Distribution of loser_entry'}, xlabel='loser_entry'>"
      ]
     },
     "execution_count": 49,
     "metadata": {},
     "output_type": "execute_result"
    },
    {
     "data": {
      "image/png": "[encoded data removed]",
      "text/plain": [
       "<Figure size 432x288 with 1 Axes>"
      ]
     },
     "metadata": {
      "needs_background": "light"
     },
     "output_type": "display_data"
    }
   ],
   "source": [
    "rf = df.groupby([ 'loser_entry']).size()\n",
    "rf.plot(\n",
    "    title=\"Distribution of loser_entry\",\n",
    "    kind='bar')"
   ]
  },
  {
   "cell_type": "markdown",
   "id": "c6ec949f",
   "metadata": {},
   "source": [
    "### Players\n",
    "\n",
    "We represent different attributes by grouping them according to the relation of similarity of their meaning. So for instance, some that are specific of a player and some other that are specific of how a match was valued. They have to be treated again later with considerations specific of the preparation data phase."
   ]
  },
  {
   "cell_type": "code",
   "execution_count": 50,
   "id": "e85e94b4",
   "metadata": {},
   "outputs": [
    {
     "data": {
      "text/html": [
       "<div>\n",
       "<style scoped>\n",
       "    .dataframe tbody tr th:only-of-type {\n",
       "        vertical-align: middle;\n",
       "    }\n",
       "\n",
       "    .dataframe tbody tr th {\n",
       "        vertical-align: top;\n",
       "    }\n",
       "\n",
       "    .dataframe thead th {\n",
       "        text-align: right;\n",
       "    }\n",
       "</style>\n",
       "<table border=\"1\" class=\"dataframe\">\n",
       "  <thead>\n",
       "    <tr style=\"text-align: right;\">\n",
       "      <th></th>\n",
       "      <th>winner_id</th>\n",
       "      <th>loser_id</th>\n",
       "      <th>winner_ht</th>\n",
       "      <th>loser_ht</th>\n",
       "      <th>winner_age</th>\n",
       "      <th>loser_age</th>\n",
       "      <th>winner_rank</th>\n",
       "      <th>loser_rank</th>\n",
       "      <th>winner_rank_points</th>\n",
       "      <th>loser_rank_points</th>\n",
       "    </tr>\n",
       "  </thead>\n",
       "  <tbody>\n",
       "    <tr>\n",
       "      <th>count</th>\n",
       "      <td>186073.00</td>\n",
       "      <td>186100.00</td>\n",
       "      <td>49341.00</td>\n",
       "      <td>38348.00</td>\n",
       "      <td>183275.00</td>\n",
       "      <td>179590.00</td>\n",
       "      <td>166719.00</td>\n",
       "      <td>150845.00</td>\n",
       "      <td>166701.00</td>\n",
       "      <td>150828.00</td>\n",
       "    </tr>\n",
       "    <tr>\n",
       "      <th>mean</th>\n",
       "      <td>180151.62</td>\n",
       "      <td>181662.42</td>\n",
       "      <td>181.41</td>\n",
       "      <td>181.56</td>\n",
       "      <td>23.96</td>\n",
       "      <td>23.77</td>\n",
       "      <td>383.81</td>\n",
       "      <td>434.30</td>\n",
       "      <td>470.45</td>\n",
       "      <td>356.33</td>\n",
       "    </tr>\n",
       "    <tr>\n",
       "      <th>std</th>\n",
       "      <td>46547.17</td>\n",
       "      <td>46618.08</td>\n",
       "      <td>11.63</td>\n",
       "      <td>10.82</td>\n",
       "      <td>4.46</td>\n",
       "      <td>4.63</td>\n",
       "      <td>314.00</td>\n",
       "      <td>355.80</td>\n",
       "      <td>1041.01</td>\n",
       "      <td>702.63</td>\n",
       "    </tr>\n",
       "    <tr>\n",
       "      <th>min</th>\n",
       "      <td>100644.00</td>\n",
       "      <td>100644.00</td>\n",
       "      <td>2.00</td>\n",
       "      <td>2.00</td>\n",
       "      <td>14.04</td>\n",
       "      <td>14.01</td>\n",
       "      <td>1.00</td>\n",
       "      <td>1.00</td>\n",
       "      <td>1.00</td>\n",
       "      <td>1.00</td>\n",
       "    </tr>\n",
       "    <tr>\n",
       "      <th>25%</th>\n",
       "      <td>122425.00</td>\n",
       "      <td>124116.00</td>\n",
       "      <td>175.00</td>\n",
       "      <td>175.00</td>\n",
       "      <td>20.49</td>\n",
       "      <td>20.13</td>\n",
       "      <td>137.00</td>\n",
       "      <td>157.00</td>\n",
       "      <td>49.00</td>\n",
       "      <td>35.00</td>\n",
       "    </tr>\n",
       "    <tr>\n",
       "      <th>50%</th>\n",
       "      <td>203530.00</td>\n",
       "      <td>205815.00</td>\n",
       "      <td>183.00</td>\n",
       "      <td>183.00</td>\n",
       "      <td>23.46</td>\n",
       "      <td>23.23</td>\n",
       "      <td>298.00</td>\n",
       "      <td>325.00</td>\n",
       "      <td>161.00</td>\n",
       "      <td>138.00</td>\n",
       "    </tr>\n",
       "    <tr>\n",
       "      <th>75%</th>\n",
       "      <td>214152.00</td>\n",
       "      <td>214818.00</td>\n",
       "      <td>188.00</td>\n",
       "      <td>188.00</td>\n",
       "      <td>26.87</td>\n",
       "      <td>26.77</td>\n",
       "      <td>562.00</td>\n",
       "      <td>642.00</td>\n",
       "      <td>438.00</td>\n",
       "      <td>377.00</td>\n",
       "    </tr>\n",
       "    <tr>\n",
       "      <th>max</th>\n",
       "      <td>245099.00</td>\n",
       "      <td>245099.00</td>\n",
       "      <td>211.00</td>\n",
       "      <td>211.00</td>\n",
       "      <td>95.00</td>\n",
       "      <td>74.49</td>\n",
       "      <td>2220.00</td>\n",
       "      <td>2257.00</td>\n",
       "      <td>16950.00</td>\n",
       "      <td>16950.00</td>\n",
       "    </tr>\n",
       "  </tbody>\n",
       "</table>\n",
       "</div>"
      ],
      "text/plain": [
       "       winner_id  loser_id  winner_ht  loser_ht  winner_age  loser_age  \\\n",
       "count  186073.00 186100.00   49341.00  38348.00   183275.00  179590.00   \n",
       "mean   180151.62 181662.42     181.41    181.56       23.96      23.77   \n",
       "std     46547.17  46618.08      11.63     10.82        4.46       4.63   \n",
       "min    100644.00 100644.00       2.00      2.00       14.04      14.01   \n",
       "25%    122425.00 124116.00     175.00    175.00       20.49      20.13   \n",
       "50%    203530.00 205815.00     183.00    183.00       23.46      23.23   \n",
       "75%    214152.00 214818.00     188.00    188.00       26.87      26.77   \n",
       "max    245099.00 245099.00     211.00    211.00       95.00      74.49   \n",
       "\n",
       "       winner_rank  loser_rank  winner_rank_points  loser_rank_points  \n",
       "count    166719.00   150845.00           166701.00          150828.00  \n",
       "mean        383.81      434.30              470.45             356.33  \n",
       "std         314.00      355.80             1041.01             702.63  \n",
       "min           1.00        1.00                1.00               1.00  \n",
       "25%         137.00      157.00               49.00              35.00  \n",
       "50%         298.00      325.00              161.00             138.00  \n",
       "75%         562.00      642.00              438.00             377.00  \n",
       "max        2220.00     2257.00            16950.00           16950.00  "
      ]
     },
     "execution_count": 50,
     "metadata": {},
     "output_type": "execute_result"
    }
   ],
   "source": [
    "df[['winner_id', 'loser_id', 'winner_ht', 'loser_ht', 'winner_age', 'loser_age', 'winner_rank', 'loser_rank', 'winner_rank_points', 'loser_rank_points']].describe()"
   ]
  },
  {
   "cell_type": "code",
   "execution_count": 51,
   "id": "0efdc280",
   "metadata": {},
   "outputs": [
    {
     "data": {
      "text/html": [
       "<div>\n",
       "<style scoped>\n",
       "    .dataframe tbody tr th:only-of-type {\n",
       "        vertical-align: middle;\n",
       "    }\n",
       "\n",
       "    .dataframe tbody tr th {\n",
       "        vertical-align: top;\n",
       "    }\n",
       "\n",
       "    .dataframe thead th {\n",
       "        text-align: right;\n",
       "    }\n",
       "</style>\n",
       "<table border=\"1\" class=\"dataframe\">\n",
       "  <thead>\n",
       "    <tr style=\"text-align: right;\">\n",
       "      <th></th>\n",
       "      <th>w_svpt</th>\n",
       "      <th>l_svpt</th>\n",
       "      <th>w_1stIn</th>\n",
       "      <th>l_1stIn</th>\n",
       "      <th>w_1stWon</th>\n",
       "      <th>l_1stWon</th>\n",
       "      <th>w_2ndWon</th>\n",
       "      <th>l_2ndWon</th>\n",
       "      <th>w_SvGms</th>\n",
       "      <th>l_SvGms</th>\n",
       "      <th>w_bpSaved</th>\n",
       "      <th>l_bpSaved</th>\n",
       "      <th>w_bpFaced</th>\n",
       "      <th>l_bpFaced</th>\n",
       "      <th>w_ace</th>\n",
       "      <th>l_ace</th>\n",
       "      <th>w_df</th>\n",
       "      <th>l_df</th>\n",
       "    </tr>\n",
       "  </thead>\n",
       "  <tbody>\n",
       "    <tr>\n",
       "      <th>count</th>\n",
       "      <td>82310.00</td>\n",
       "      <td>82315.00</td>\n",
       "      <td>82310.00</td>\n",
       "      <td>82304.00</td>\n",
       "      <td>82312.00</td>\n",
       "      <td>82311.00</td>\n",
       "      <td>82309.00</td>\n",
       "      <td>82312.00</td>\n",
       "      <td>82311.00</td>\n",
       "      <td>82318.00</td>\n",
       "      <td>82315.00</td>\n",
       "      <td>82311.00</td>\n",
       "      <td>82312.00</td>\n",
       "      <td>82306.00</td>\n",
       "      <td>82310.00</td>\n",
       "      <td>82313.00</td>\n",
       "      <td>82312.00</td>\n",
       "      <td>82319.00</td>\n",
       "    </tr>\n",
       "    <tr>\n",
       "      <th>mean</th>\n",
       "      <td>71.29</td>\n",
       "      <td>73.56</td>\n",
       "      <td>44.27</td>\n",
       "      <td>44.56</td>\n",
       "      <td>32.13</td>\n",
       "      <td>28.03</td>\n",
       "      <td>14.45</td>\n",
       "      <td>12.71</td>\n",
       "      <td>11.11</td>\n",
       "      <td>10.94</td>\n",
       "      <td>3.54</td>\n",
       "      <td>4.66</td>\n",
       "      <td>5.41</td>\n",
       "      <td>8.87</td>\n",
       "      <td>4.81</td>\n",
       "      <td>3.53</td>\n",
       "      <td>2.86</td>\n",
       "      <td>3.61</td>\n",
       "    </tr>\n",
       "    <tr>\n",
       "      <th>std</th>\n",
       "      <td>25.52</td>\n",
       "      <td>24.99</td>\n",
       "      <td>16.95</td>\n",
       "      <td>16.78</td>\n",
       "      <td>11.41</td>\n",
       "      <td>12.27</td>\n",
       "      <td>5.93</td>\n",
       "      <td>6.32</td>\n",
       "      <td>3.51</td>\n",
       "      <td>3.50</td>\n",
       "      <td>3.11</td>\n",
       "      <td>3.15</td>\n",
       "      <td>4.21</td>\n",
       "      <td>3.97</td>\n",
       "      <td>4.39</td>\n",
       "      <td>3.83</td>\n",
       "      <td>2.42</td>\n",
       "      <td>2.61</td>\n",
       "    </tr>\n",
       "    <tr>\n",
       "      <th>min</th>\n",
       "      <td>0.00</td>\n",
       "      <td>0.00</td>\n",
       "      <td>0.00</td>\n",
       "      <td>0.00</td>\n",
       "      <td>0.00</td>\n",
       "      <td>0.00</td>\n",
       "      <td>0.00</td>\n",
       "      <td>0.00</td>\n",
       "      <td>0.00</td>\n",
       "      <td>0.00</td>\n",
       "      <td>0.00</td>\n",
       "      <td>0.00</td>\n",
       "      <td>0.00</td>\n",
       "      <td>0.00</td>\n",
       "      <td>0.00</td>\n",
       "      <td>0.00</td>\n",
       "      <td>0.00</td>\n",
       "      <td>0.00</td>\n",
       "    </tr>\n",
       "    <tr>\n",
       "      <th>25%</th>\n",
       "      <td>53.00</td>\n",
       "      <td>56.00</td>\n",
       "      <td>32.00</td>\n",
       "      <td>33.00</td>\n",
       "      <td>24.00</td>\n",
       "      <td>19.00</td>\n",
       "      <td>10.00</td>\n",
       "      <td>8.00</td>\n",
       "      <td>9.00</td>\n",
       "      <td>9.00</td>\n",
       "      <td>1.00</td>\n",
       "      <td>2.00</td>\n",
       "      <td>2.00</td>\n",
       "      <td>6.00</td>\n",
       "      <td>2.00</td>\n",
       "      <td>1.00</td>\n",
       "      <td>1.00</td>\n",
       "      <td>2.00</td>\n",
       "    </tr>\n",
       "    <tr>\n",
       "      <th>50%</th>\n",
       "      <td>67.00</td>\n",
       "      <td>69.00</td>\n",
       "      <td>42.00</td>\n",
       "      <td>42.00</td>\n",
       "      <td>30.00</td>\n",
       "      <td>26.00</td>\n",
       "      <td>14.00</td>\n",
       "      <td>12.00</td>\n",
       "      <td>10.00</td>\n",
       "      <td>10.00</td>\n",
       "      <td>3.00</td>\n",
       "      <td>4.00</td>\n",
       "      <td>5.00</td>\n",
       "      <td>8.00</td>\n",
       "      <td>4.00</td>\n",
       "      <td>2.00</td>\n",
       "      <td>2.00</td>\n",
       "      <td>3.00</td>\n",
       "    </tr>\n",
       "    <tr>\n",
       "      <th>75%</th>\n",
       "      <td>87.00</td>\n",
       "      <td>88.00</td>\n",
       "      <td>54.00</td>\n",
       "      <td>54.00</td>\n",
       "      <td>38.00</td>\n",
       "      <td>35.00</td>\n",
       "      <td>18.00</td>\n",
       "      <td>16.00</td>\n",
       "      <td>14.00</td>\n",
       "      <td>13.00</td>\n",
       "      <td>5.00</td>\n",
       "      <td>6.00</td>\n",
       "      <td>8.00</td>\n",
       "      <td>11.00</td>\n",
       "      <td>7.00</td>\n",
       "      <td>5.00</td>\n",
       "      <td>4.00</td>\n",
       "      <td>5.00</td>\n",
       "    </tr>\n",
       "    <tr>\n",
       "      <th>max</th>\n",
       "      <td>1957.00</td>\n",
       "      <td>1672.00</td>\n",
       "      <td>1330.00</td>\n",
       "      <td>893.00</td>\n",
       "      <td>836.00</td>\n",
       "      <td>532.00</td>\n",
       "      <td>304.00</td>\n",
       "      <td>399.00</td>\n",
       "      <td>49.00</td>\n",
       "      <td>50.00</td>\n",
       "      <td>209.00</td>\n",
       "      <td>120.00</td>\n",
       "      <td>266.00</td>\n",
       "      <td>190.00</td>\n",
       "      <td>75.00</td>\n",
       "      <td>67.00</td>\n",
       "      <td>114.00</td>\n",
       "      <td>114.00</td>\n",
       "    </tr>\n",
       "  </tbody>\n",
       "</table>\n",
       "</div>"
      ],
      "text/plain": [
       "        w_svpt   l_svpt  w_1stIn  l_1stIn  w_1stWon  l_1stWon  w_2ndWon  \\\n",
       "count 82310.00 82315.00 82310.00 82304.00  82312.00  82311.00  82309.00   \n",
       "mean     71.29    73.56    44.27    44.56     32.13     28.03     14.45   \n",
       "std      25.52    24.99    16.95    16.78     11.41     12.27      5.93   \n",
       "min       0.00     0.00     0.00     0.00      0.00      0.00      0.00   \n",
       "25%      53.00    56.00    32.00    33.00     24.00     19.00     10.00   \n",
       "50%      67.00    69.00    42.00    42.00     30.00     26.00     14.00   \n",
       "75%      87.00    88.00    54.00    54.00     38.00     35.00     18.00   \n",
       "max    1957.00  1672.00  1330.00   893.00    836.00    532.00    304.00   \n",
       "\n",
       "       l_2ndWon  w_SvGms  l_SvGms  w_bpSaved  l_bpSaved  w_bpFaced  l_bpFaced  \\\n",
       "count  82312.00 82311.00 82318.00   82315.00   82311.00   82312.00   82306.00   \n",
       "mean      12.71    11.11    10.94       3.54       4.66       5.41       8.87   \n",
       "std        6.32     3.51     3.50       3.11       3.15       4.21       3.97   \n",
       "min        0.00     0.00     0.00       0.00       0.00       0.00       0.00   \n",
       "25%        8.00     9.00     9.00       1.00       2.00       2.00       6.00   \n",
       "50%       12.00    10.00    10.00       3.00       4.00       5.00       8.00   \n",
       "75%       16.00    14.00    13.00       5.00       6.00       8.00      11.00   \n",
       "max      399.00    49.00    50.00     209.00     120.00     266.00     190.00   \n",
       "\n",
       "         w_ace    l_ace     w_df     l_df  \n",
       "count 82310.00 82313.00 82312.00 82319.00  \n",
       "mean      4.81     3.53     2.86     3.61  \n",
       "std       4.39     3.83     2.42     2.61  \n",
       "min       0.00     0.00     0.00     0.00  \n",
       "25%       2.00     1.00     1.00     2.00  \n",
       "50%       4.00     2.00     2.00     3.00  \n",
       "75%       7.00     5.00     4.00     5.00  \n",
       "max      75.00    67.00   114.00   114.00  "
      ]
     },
     "execution_count": 51,
     "metadata": {},
     "output_type": "execute_result"
    }
   ],
   "source": [
    "df[['w_svpt', 'l_svpt', 'w_1stIn', 'l_1stIn', 'w_1stWon', 'l_1stWon', 'w_2ndWon', 'l_2ndWon', 'w_SvGms', 'l_SvGms', 'w_bpSaved', 'l_bpSaved', 'w_bpFaced', 'l_bpFaced', 'w_ace', 'l_ace', 'w_df', 'l_df']].describe()"
   ]
  }
 ],
 "metadata": {
  "interpreter": {
   "hash": "31f2aee4e71d21fbe5cf8b01ff0e069b9275f58929596ceb00d14d90e3e16cd6"
  },
  "kernelspec": {
   "display_name": "Python 3 (ipykernel)",
   "language": "python",
   "name": "python3"
  },
  "language_info": {
   "codemirror_mode": {
    "name": "ipython",
    "version": 3
   },
   "file_extension": ".py",
   "mimetype": "text/x-python",
   "name": "python",
   "nbconvert_exporter": "python",
   "pygments_lexer": "ipython3",
   "version": "3.8.2"
  }
 },
 "nbformat": 4,
 "nbformat_minor": 5
}
