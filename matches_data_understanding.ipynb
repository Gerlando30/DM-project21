{
 "cells": [
  {
   "cell_type": "markdown",
   "id": "0fdcafb6",
   "metadata": {},
   "source": [
    "<span>\n",
    "<b>Authors:</b> \n",
    "<a href=\"http://------\">Ornela Danushi </a>\n",
    "<a href=\"http://------\">Gerlando Gramaglia </a>\n",
    "<a href=\"http://------\">Domenico Profumo </a><br/>\n",
    "<b>Python version:</b>  3.x<br/>\n",
    "</span>"
   ]
  },
  {
   "cell_type": "markdown",
   "id": "f61174b8",
   "metadata": {
    "tags": []
   },
   "source": [
    "# Data Understanding & Preparation on Tennis Matches dataset \n",
    "Explore the dataset by studying the data quality, their distribution among several different features and the correlations.\n",
    "\n",
    "The **central component** of the data science toolkit is **Pandas library** is a and it is used in conjunction with other libraries in that collection. Pandas is built on top of the **NumPy package**, meaning a lot of the structure of NumPy is used or replicated in Pandas. Data in pandas is often used to feed statistical analysis in **SciPy**, plotting functions from **Matplotlib**, and machine learning algorithms in Scikit-learn.\n"
   ]
  },
  {
   "cell_type": "code",
   "execution_count": 1,
   "id": "4db87b65",
   "metadata": {},
   "outputs": [],
   "source": [
    "import pandas as pd\n",
    "import math\n",
    "import numpy as np\n",
    "#import scipy.stats as stats\n",
    "import matplotlib.pyplot as plt\n",
    "from collections import defaultdict\n",
    "#import seaborn as sn\n",
    "\n",
    "#from scipy.stats.stats import pearsonr"
   ]
  },
  {
   "cell_type": "code",
   "execution_count": 2,
   "id": "874635c5",
   "metadata": {},
   "outputs": [],
   "source": [
    "#df.dtypes #return the type of each attribute but is already included in the df.info() called later"
   ]
  },
  {
   "cell_type": "markdown",
   "id": "3afa7c4d",
   "metadata": {},
   "source": [
    "# Types of Attributes and basic checks \n",
    "## Data Quality with reference to Syntactic Accuracy\n",
    "\n",
    "Check the data integrity, that is whether there are any empty cells or corrupted data. \n",
    "We will use for this purpose the Pandas function **info()**, which checks if there is any \n",
    "null value in any column. This function also checks data type for each column, as well as \n",
    "number of each data types and number of observations (rows).\n",
    "\n",
    "Moreover we check if each attribute is syntactically correct according to the specifications"
   ]
  },
  {
   "cell_type": "code",
   "execution_count": 3,
   "id": "2e697a03",
   "metadata": {
    "scrolled": true
   },
   "outputs": [
    {
     "name": "stdout",
     "output_type": "stream",
     "text": [
      "<class 'pandas.core.frame.DataFrame'>\n",
      "Int64Index: 186128 entries, 0 to 186127\n",
      "Data columns (total 51 columns):\n",
      " #   Column              Non-Null Count   Dtype  \n",
      "---  ------              --------------   -----  \n",
      " 0   tourney_id          186073 non-null  object \n",
      " 1   tourney_name        186103 non-null  object \n",
      " 2   surface             185940 non-null  object \n",
      " 3   draw_size           186099 non-null  float64\n",
      " 4   tourney_level       186099 non-null  object \n",
      " 5   tourney_date        186100 non-null  float64\n",
      " 6   match_num           186101 non-null  float64\n",
      " 7   winner_id           186073 non-null  float64\n",
      " 8   winner_entry        25827 non-null   object \n",
      " 9   winner_name         186101 non-null  object \n",
      " 10  winner_hand         186082 non-null  object \n",
      " 11  winner_ht           49341 non-null   float64\n",
      " 12  winner_ioc          186099 non-null  object \n",
      " 13  winner_age          183275 non-null  float64\n",
      " 14  loser_id            186100 non-null  float64\n",
      " 15  loser_entry         44154 non-null   object \n",
      " 16  loser_name          186097 non-null  object \n",
      " 17  loser_hand          186030 non-null  object \n",
      " 18  loser_ht            38348 non-null   float64\n",
      " 19  loser_ioc           186102 non-null  object \n",
      " 20  loser_age           179590 non-null  float64\n",
      " 21  score               185929 non-null  object \n",
      " 22  best_of             186099 non-null  float64\n",
      " 23  round               186098 non-null  object \n",
      " 24  minutes             81660 non-null   float64\n",
      " 25  w_ace               82310 non-null   float64\n",
      " 26  w_df                82312 non-null   float64\n",
      " 27  w_svpt              82310 non-null   float64\n",
      " 28  w_1stIn             82310 non-null   float64\n",
      " 29  w_1stWon            82312 non-null   float64\n",
      " 30  w_2ndWon            82309 non-null   float64\n",
      " 31  w_SvGms             82311 non-null   float64\n",
      " 32  w_bpSaved           82315 non-null   float64\n",
      " 33  w_bpFaced           82312 non-null   float64\n",
      " 34  l_ace               82313 non-null   float64\n",
      " 35  l_df                82319 non-null   float64\n",
      " 36  l_svpt              82315 non-null   float64\n",
      " 37  l_1stIn             82304 non-null   float64\n",
      " 38  l_1stWon            82311 non-null   float64\n",
      " 39  l_2ndWon            82312 non-null   float64\n",
      " 40  l_SvGms             82318 non-null   float64\n",
      " 41  l_bpSaved           82311 non-null   float64\n",
      " 42  l_bpFaced           82306 non-null   float64\n",
      " 43  winner_rank         166719 non-null  float64\n",
      " 44  winner_rank_points  166701 non-null  float64\n",
      " 45  loser_rank          150845 non-null  float64\n",
      " 46  loser_rank_points   150828 non-null  float64\n",
      " 47  tourney_spectators  186101 non-null  float64\n",
      " 48  tourney_revenue     186102 non-null  float64\n",
      " 49  winner_gender       183424 non-null  object \n",
      " 50  loser_gender        183999 non-null  object \n",
      "dtypes: float64(35), object(16)\n",
      "memory usage: 73.8+ MB\n"
     ]
    }
   ],
   "source": [
    "df = pd.read_csv('matches_with_gender.csv', index_col = 0)\n",
    "df.info()"
   ]
  },
  {
   "cell_type": "markdown",
   "id": "304b5150",
   "metadata": {},
   "source": [
    "\n"
   ]
  },
  {
   "cell_type": "markdown",
   "id": "5518b7d3",
   "metadata": {},
   "source": [
    "## Classification of Data Domain\n",
    "\n",
    "### Tourney\n",
    "\n",
    "   - *tourney_id* - ***object*** \n",
    "   - *tourney_name* - ***object*** \n",
    "   - *tourney_level* - ***object***\n",
    "   - *tourney_spectators* - ***float64*** \n",
    "   - *tourney_revenue* - ***float64***\n",
    "    \n",
    "### Matches\n",
    " \n",
    "   - *match_num*- ***float64***\n",
    "   - *surface* - ***object***\n",
    "   - *draw_size* - ***float64*** => ***int64*** \n",
    "   - *tourney_date* - ***float64*** => ***Datetime64***\n",
    "   - *minutes* - ***float64*** \n",
    "   - *score* - ***object***\n",
    "   - *round* - ***object*** \n",
    "   - *best_of* - ***float64***\n",
    "\n",
    "### Players\n",
    " \n",
    "   - *winner_id*- ***float64***          ||       *loser_id*- ***float64*** \n",
    "   - *winner_name* - ***object***        ||       *loser_name* - ***object***\n",
    "   - *winner_ioc* - ***object***         ||       *loser_ioc* - ***object*** \n",
    "   - *winner_ht*- ***float64***          ||       *loser_ht*- ***float64*** \n",
    "   - *winner_age*- ***float64***         ||       *loser_age*- ***float64*** \n",
    "   - *winner_hand* - ***object***        ||       *loser_hand* - ***object***\n",
    "   - *winner_entry* - ***object***       ||       *loser_entry* - ***object***\n",
    "   - *winner_rank* - ***float64***       ||       *loser_rank* - ***float64***\n",
    "   - *winner_rank_points* - ***float64***||       *loser_rank_points* - ***float64***\n",
    "   - *w_ace* - ***float64***             ||       *l_ace* - ***float64***\n",
    "   - *w_df* - ***float64***              ||       *l_df* - ***float64***\n",
    "   - *w_svpt* - ***float64***            ||       *l_svpt* - ***float64*** \n",
    "   - *w_1stIn* - ***float64***           ||       *l_1stIn* - ***float64***\n",
    "   - *w_1stWon* - ***float64***          ||       *l_1stWon* - ***float64***\n",
    "   - *w_2ndWon* - ***float64***          ||       *l_2ndWon* - ***float64***\n",
    "   - *w_SvGms* - ***float64***           ||       *l_SvGms* - ***float64***\n",
    "   - *w_bpSaved* - ***float64***         ||       *l_bpSaved* - ***float64***\n",
    "   - *w_bpFaced* - ***float64***         ||       *l_bpFaced* - ***float64*** \n",
    "   - *winner_gender* - ***object***      ||       *loser_gender* - ***object*** \n",
    " "
   ]
  },
  {
   "cell_type": "markdown",
   "id": "4302c386",
   "metadata": {},
   "source": [
    "## Duplicate drop"
   ]
  },
  {
   "cell_type": "code",
   "execution_count": 4,
   "id": "22e76d5a",
   "metadata": {},
   "outputs": [
    {
     "name": "stdout",
     "output_type": "stream",
     "text": [
      "initial lenght:  186128\n",
      "Duplicate Rows :        tourney_id       tourney_name surface  draw_size tourney_level  \\\n",
      "12066   2017-1059             Taipei    Hard       32.0             C   \n",
      "12067   2017-1059             Taipei    Hard       32.0             C   \n",
      "12068   2017-1059             Taipei    Hard       32.0             C   \n",
      "12069   2017-1059             Taipei    Hard       32.0             C   \n",
      "12070   2017-1059             Taipei    Hard       32.0             C   \n",
      "...           ...                ...     ...        ...           ...   \n",
      "177376  2020-1103  Indian Wells 125K    Hard       64.0             C   \n",
      "177377  2020-1103  Indian Wells 125K    Hard       64.0             C   \n",
      "177378  2020-1103  Indian Wells 125K    Hard       64.0             C   \n",
      "177379  2020-1103  Indian Wells 125K    Hard       64.0             C   \n",
      "177380  2020-1103  Indian Wells 125K    Hard       64.0             C   \n",
      "\n",
      "        tourney_date  match_num  winner_id winner_entry           winner_name  \\\n",
      "12066     20171113.0      243.0   214562.0           WC           Ingrid Neel   \n",
      "12067     20171113.0      244.0   206368.0          NaN  Veronika Kudermetova   \n",
      "12068     20171113.0      245.0   203435.0          NaN      Dalila Jakupovic   \n",
      "12069     20171113.0      246.0   201674.0          NaN      Sabina Sharipova   \n",
      "12070     20171113.0      247.0   211411.0          NaN       Nina Stojanovic   \n",
      "...              ...        ...        ...          ...                   ...   \n",
      "177376    20200302.0      221.0   203398.0          NaN          Danielle Lao   \n",
      "177377    20200302.0      222.0   201534.0          NaN         Asia Muhammed   \n",
      "177378    20200302.0      221.0   203398.0          NaN          Danielle Lao   \n",
      "177379    20200302.0      222.0   201534.0          NaN         Asia Muhammed   \n",
      "177380    20200302.0      221.0   203398.0          NaN          Danielle Lao   \n",
      "\n",
      "        ... l_bpSaved  l_bpFaced winner_rank  winner_rank_points  loser_rank  \\\n",
      "12066   ...      14.0       22.0       704.0                27.0       150.0   \n",
      "12067   ...       3.0        9.0       255.0               217.0       208.0   \n",
      "12068   ...       5.0       11.0       242.0               228.0       262.0   \n",
      "12069   ...       7.0       12.0       196.0               299.0       238.0   \n",
      "12070   ...       2.0        7.0       230.0               243.0       250.0   \n",
      "...     ...       ...        ...         ...                 ...         ...   \n",
      "177376  ...       3.0        9.0       198.0               296.0       295.0   \n",
      "177377  ...      10.0       20.0       194.0               304.0       413.0   \n",
      "177378  ...       3.0        9.0       198.0               296.0       295.0   \n",
      "177379  ...      10.0       20.0       194.0               304.0       413.0   \n",
      "177380  ...       3.0        9.0       198.0               296.0       295.0   \n",
      "\n",
      "       loser_rank_points tourney_spectators tourney_revenue  winner_gender  \\\n",
      "12066              390.0             3535.0       638954.72              F   \n",
      "12067              274.0             3535.0       638954.72              F   \n",
      "12068              204.0             3535.0       638954.72              F   \n",
      "12069              231.0             3535.0       638954.72              F   \n",
      "12070              221.0             3535.0       638954.72              F   \n",
      "...                  ...                ...             ...            ...   \n",
      "177376             184.0             4638.0      1164466.18              F   \n",
      "177377             103.0             4638.0      1164466.18              F   \n",
      "177378             184.0             4638.0      1164466.18              F   \n",
      "177379             103.0             4638.0      1164466.18              F   \n",
      "177380             184.0             4638.0      1164466.18              F   \n",
      "\n",
      "       loser_gender  \n",
      "12066             F  \n",
      "12067             F  \n",
      "12068             F  \n",
      "12069             F  \n",
      "12070             F  \n",
      "...             ...  \n",
      "177376            F  \n",
      "177377            F  \n",
      "177378            F  \n",
      "177379            F  \n",
      "177380            F  \n",
      "\n",
      "[309 rows x 51 columns]\n",
      "post drop duplicates lenght:  185518\n"
     ]
    }
   ],
   "source": [
    "duplicate = df[df.duplicated()]\n",
    "\n",
    "length=len(df)\n",
    "print(\"initial lenght: \", length)\n",
    "    \n",
    "print(\"Duplicate Rows :\",duplicate)\n",
    "  \n",
    "df=df.drop_duplicates(keep=False,inplace=False)\n",
    " \n",
    "# length after removing duplicates\n",
    "length3=len(df)\n",
    "print(\"post drop duplicates lenght: \", length3)"
   ]
  },
  {
   "cell_type": "code",
   "execution_count": 5,
   "id": "36e5950f",
   "metadata": {},
   "outputs": [
    {
     "name": "stdout",
     "output_type": "stream",
     "text": [
      "<class 'pandas.core.frame.DataFrame'>\n",
      "Int64Index: 185518 entries, 0 to 186127\n",
      "Data columns (total 51 columns):\n",
      " #   Column              Non-Null Count   Dtype  \n",
      "---  ------              --------------   -----  \n",
      " 0   tourney_id          185463 non-null  object \n",
      " 1   tourney_name        185493 non-null  object \n",
      " 2   surface             185330 non-null  object \n",
      " 3   draw_size           185489 non-null  float64\n",
      " 4   tourney_level       185489 non-null  object \n",
      " 5   tourney_date        185490 non-null  float64\n",
      " 6   match_num           185491 non-null  float64\n",
      " 7   winner_id           185463 non-null  float64\n",
      " 8   winner_entry        25795 non-null   object \n",
      " 9   winner_name         185491 non-null  object \n",
      " 10  winner_hand         185472 non-null  object \n",
      " 11  winner_ht           49265 non-null   float64\n",
      " 12  winner_ioc          185489 non-null  object \n",
      " 13  winner_age          182665 non-null  float64\n",
      " 14  loser_id            185490 non-null  float64\n",
      " 15  loser_entry         44030 non-null   object \n",
      " 16  loser_name          185487 non-null  object \n",
      " 17  loser_hand          185420 non-null  object \n",
      " 18  loser_ht            38312 non-null   float64\n",
      " 19  loser_ioc           185492 non-null  object \n",
      " 20  loser_age           178982 non-null  float64\n",
      " 21  score               185331 non-null  object \n",
      " 22  best_of             185489 non-null  float64\n",
      " 23  round               185488 non-null  object \n",
      " 24  minutes             81064 non-null   float64\n",
      " 25  w_ace               81714 non-null   float64\n",
      " 26  w_df                81716 non-null   float64\n",
      " 27  w_svpt              81714 non-null   float64\n",
      " 28  w_1stIn             81714 non-null   float64\n",
      " 29  w_1stWon            81716 non-null   float64\n",
      " 30  w_2ndWon            81713 non-null   float64\n",
      " 31  w_SvGms             81715 non-null   float64\n",
      " 32  w_bpSaved           81719 non-null   float64\n",
      " 33  w_bpFaced           81716 non-null   float64\n",
      " 34  l_ace               81717 non-null   float64\n",
      " 35  l_df                81723 non-null   float64\n",
      " 36  l_svpt              81719 non-null   float64\n",
      " 37  l_1stIn             81708 non-null   float64\n",
      " 38  l_1stWon            81715 non-null   float64\n",
      " 39  l_2ndWon            81716 non-null   float64\n",
      " 40  l_SvGms             81722 non-null   float64\n",
      " 41  l_bpSaved           81715 non-null   float64\n",
      " 42  l_bpFaced           81710 non-null   float64\n",
      " 43  winner_rank         166123 non-null  float64\n",
      " 44  winner_rank_points  166105 non-null  float64\n",
      " 45  loser_rank          150283 non-null  float64\n",
      " 46  loser_rank_points   150266 non-null  float64\n",
      " 47  tourney_spectators  185491 non-null  float64\n",
      " 48  tourney_revenue     185492 non-null  float64\n",
      " 49  winner_gender       182814 non-null  object \n",
      " 50  loser_gender        183389 non-null  object \n",
      "dtypes: float64(35), object(16)\n",
      "memory usage: 73.6+ MB\n"
     ]
    }
   ],
   "source": [
    "df.info()"
   ]
  },
  {
   "cell_type": "markdown",
   "id": "cc870d77",
   "metadata": {},
   "source": [
    "# Data Semantics\n",
    "\n",
    "In this part we analyze each attributes type, conversion type, relationship, NaN and negative values check"
   ]
  },
  {
   "cell_type": "markdown",
   "id": "b728178a",
   "metadata": {},
   "source": [
    "## Tourney\n"
   ]
  },
  {
   "cell_type": "markdown",
   "id": "5cd3b4b6",
   "metadata": {},
   "source": [
    "### tourney_id\n",
    "\n",
    "has to be unique and the first four characters are always the year while the remaining part is random\n",
    "\n",
    "Analysis:\n",
    "\n",
    "Split the value of the attribute in 2 parts, the first with 4 characters and the second with the remaing characters.\n",
    "For both the parts build a set inserting each different year and id. \n",
    "Count how many wrong years are inserted through a NaN value. \n",
    "To detect the wrong ids is more difficult since they are random and don't follow a known a structure.\n",
    "We can only conclude that the wrong id elements are those deriving from the wrong years.\n",
    "\n",
    "NOTE: The decision to take is to delete or edit all these attributes."
   ]
  },
  {
   "cell_type": "code",
   "execution_count": 6,
   "id": "299b37ab",
   "metadata": {},
   "outputs": [
    {
     "name": "stdout",
     "output_type": "stream",
     "text": [
      "description of tourney_id:\n",
      "count       185463\n",
      "unique        4853\n",
      "top       2021-520\n",
      "freq           478\n",
      "Name: tourney_id, dtype: object\n",
      "null_values: 55\n",
      "Present years: ['2019' '2018' '2017' '2016' '2020' '2021' nan]\n"
     ]
    }
   ],
   "source": [
    "print(\"description of tourney_id:\" + \"\\n\"+str(df['tourney_id'].describe()))\n",
    "\n",
    "print(\"null_values: \"+ str(df['tourney_id'].isnull().sum())) #55\n",
    "tourney_year= df['tourney_id'].str[:4]\n",
    "tourney_id= df['tourney_id'].str[5:]\n",
    "\n",
    "print(\"Present years: \"+ str(tourney_year.unique())) #['2019' '2018' '2017' '2016' '2020' '2021' nan]\n"
   ]
  },
  {
   "cell_type": "markdown",
   "id": "12518fa6",
   "metadata": {},
   "source": [
    "### tourney_name\n",
    "is the name of the tourney\n",
    "\n",
    "Analysis: there are not many null values, the unique names turn out to be 2488, which makes us think that in total we have 2488 different torneys but first we need to check the correctness of the names. For each tournament I can count the number of different matches that have taken place and save them in tourney_match_dim"
   ]
  },
  {
   "cell_type": "code",
   "execution_count": 7,
   "id": "9d4b94d4",
   "metadata": {},
   "outputs": [
    {
     "name": "stdout",
     "output_type": "stream",
     "text": [
      "description of tourney_name:\n",
      "count          185493\n",
      "unique           2488\n",
      "top       W15 Antalya\n",
      "freq             4634\n",
      "Name: tourney_name, dtype: object\n",
      "null_values: 25\n",
      "             tourney_name  size\n",
      "0        's Hertogenbosch    97\n",
      "1     ATP Next Gen Finals    16\n",
      "2               Abu Dhabi    87\n",
      "3                Acapulco   522\n",
      "4                Adelaide   128\n",
      "...                   ...   ...\n",
      "2483          Zhuhai $50K    31\n",
      "2484          Zhuhai $60K    62\n",
      "2485            Zhuhai CH   220\n",
      "2486      s Hertogenbosch   156\n",
      "2487      s-Hertogenbosch    52\n",
      "\n",
      "[2488 rows x 2 columns]\n"
     ]
    }
   ],
   "source": [
    "print(\"description of tourney_name:\" + \"\\n\"+str(df.tourney_name.describe()))\n",
    "print(\"null_values: \"+ str(df.tourney_name.isnull().sum())) #25\n",
    "\n",
    "tourney_match_dim=df.groupby(df.tourney_name,as_index=False).size()\n",
    "print(tourney_match_dim)"
   ]
  },
  {
   "cell_type": "markdown",
   "id": "70ad719c",
   "metadata": {},
   "source": [
    "### tourney_level\n",
    "they are split for men and women.\n",
    "\n",
    "○ For men: 'G' = Grand Slams, 'M' = Masters 1000s, 'A' = other tour-level\n",
    "events, 'C' = Challengers, 'S' = Satellites/ITFs, 'F' = Tour finals and other\n",
    "season-ending events, and 'D' = Davis Cup. F\n",
    "\n",
    "○ For women, there are several additional tourney_level codes, including 'P' =\n",
    "Premier, 'PM' = Premier Mandatory, and 'I' = International. The various levels\n",
    "of ITFs are given by the prize money (in thousands), such as '15' = ITF\n",
    "$15,000. Other codes, such as 'T1' for Tier I (and so on) are used for older\n",
    "WTA tournament designations. 'D' is used for the Federation/Fed/Billie Jean\n",
    "King Cup, and also for the Wightman Cup and Bonne Bell Cup.\n",
    "\n",
    "○ There is also some competition which can be for both men and women: 'E' =\n",
    "exhibition (events not sanctioned by the tour, though the definitions can be\n",
    "ambiguous), 'J' = juniors, and 'T' = team tennis, which does yet appear\n",
    "anywhere in the dataset but will at some point.\n",
    "\n",
    "\n",
    "Analisi: We have a few null values that we can replace by analyzing the type of tournament and the gender of the opponent. We can also use the ranges of values to find out information about the player's gender since there are few unique names and they all belong to specific ranges. We do a scan through for identify all levels of women as it is the only category that contains values that others do not have"
   ]
  },
  {
   "cell_type": "code",
   "execution_count": 8,
   "id": "68d747c4",
   "metadata": {},
   "outputs": [
    {
     "name": "stdout",
     "output_type": "stream",
     "text": [
      "description of tourney_level:\n",
      "count     185489\n",
      "unique        19\n",
      "top           15\n",
      "freq       45807\n",
      "Name: tourney_level, dtype: object\n",
      "null_values: 29\n",
      "unique value:\n",
      "['A' 'P' 'G' 'I' 'M' 'PM' 'F' 'D' 'C' '15' '25' '60' '100' '80' '10' '50'\n",
      " '75' 'O' 'W' nan]\n",
      "iswomen: 18247\n",
      "unknown: 167271\n"
     ]
    }
   ],
   "source": [
    "print(\"description of tourney_level:\" + \"\\n\"+str(df.tourney_level.describe()))\n",
    "print(\"null_values: \"+ str(df.tourney_level.isnull().sum())) #29\n",
    "print(\"unique value:\" + \"\\n\"+str(df.tourney_level.unique())) \n",
    "\n",
    "#['A' 'P' 'G' 'I' 'M' 'PM' 'F' 'D' 'C' '15' '25' '60' '100' '80' '10' '50' '75' 'O' 'W' nan]\n",
    "\n",
    "men_levels=['G','M','A','C','S','F','D','E','J','T']\n",
    "women_levels=['G','M','A','C','S','F','D','E','J','T','P','PM','I','ITF','WTA','D']\n",
    "\n",
    "gender=[] #['M','W','-']\n",
    "\n",
    "test=df.tourney_level\n",
    "iswomen=0\n",
    "unknown=0\n",
    "\n",
    "for i in test:\n",
    "    if(i=='P' or i=='PM' or i=='I' or i=='ITF' or i=='WTA' or i=='D'):\n",
    "        iswomen +=1\n",
    "    else:\n",
    "        unknown +=1\n",
    "\n",
    "print(\"iswomen: \" + str(iswomen))\n",
    "print(\"unknown: \" + str(unknown))\n",
    "\n"
   ]
  },
  {
   "cell_type": "markdown",
   "id": "b3d3560e",
   "metadata": {},
   "source": [
    "### tourney_spectators     tourney_revenue\n",
    "\n",
    "Number of spectators in the tournament and total revenue.\n",
    "\n",
    "Analisi: we have null values that we could exclude given that they are few, furthermore an analysis could be to evaluate the revenues based on the type of tournament and proportion the number of spectators with the gain obtained to understand the average cost of a match (useful for statistical purpose)."
   ]
  },
  {
   "cell_type": "code",
   "execution_count": 9,
   "id": "0a71394a",
   "metadata": {
    "scrolled": true
   },
   "outputs": [
    {
     "name": "stdout",
     "output_type": "stream",
     "text": [
      "\n",
      "description of:\n",
      "       tourney_spectators  tourney_revenue\n",
      "count       185491.000000     1.854920e+05\n",
      "mean          4110.738904     8.230554e+05\n",
      "std           2710.746360     6.016825e+05\n",
      "min             91.000000     1.786574e+04\n",
      "25%           2836.000000     5.473662e+05\n",
      "50%           3340.000000     6.631768e+05\n",
      "75%           4008.000000     8.346526e+05\n",
      "max          18086.000000     5.002794e+06\n",
      "null_values:\t       27\t\t26\n"
     ]
    }
   ],
   "source": [
    "print(\"\\ndescription of:\" + \"\\n\"+str(df[['tourney_spectators', 'tourney_revenue']].describe()))\n",
    "print(\"null_values:\\t       \"+ str(df.tourney_spectators.isnull().sum()) + \"\\t\\t\"\n",
    "      + str(df.tourney_revenue.isnull().sum())) #27 | 26\n"
   ]
  },
  {
   "cell_type": "markdown",
   "id": "63743101",
   "metadata": {},
   "source": [
    "## Matches"
   ]
  },
  {
   "cell_type": "markdown",
   "id": "5b9e336b",
   "metadata": {},
   "source": [
    "### match_num\n",
    "\n",
    "a match-specific identifier. Often starting from 1, sometimes counting down from 300, and sometimes arbitrary.\n",
    "\n",
    "Analysis: we have few null values, the number of matches must match with the number of tournament values"
   ]
  },
  {
   "cell_type": "code",
   "execution_count": 10,
   "id": "0cc2d749",
   "metadata": {},
   "outputs": [
    {
     "name": "stdout",
     "output_type": "stream",
     "text": [
      "description of match_num:\n",
      "count    185491.000000\n",
      "mean        160.336620\n",
      "std         289.756687\n",
      "min           1.000000\n",
      "25%          17.000000\n",
      "50%         129.000000\n",
      "75%         273.000000\n",
      "max        8312.000000\n",
      "Name: match_num, dtype: float64\n",
      "null_values: 27\n",
      "match_num\n",
      "1.0       3530\n",
      "2.0       3532\n",
      "3.0       2726\n",
      "4.0       2955\n",
      "5.0       2802\n",
      "          ... \n",
      "8308.0       1\n",
      "8309.0       1\n",
      "8310.0       1\n",
      "8311.0       1\n",
      "8312.0       1\n",
      "Length: 929, dtype: int64\n"
     ]
    }
   ],
   "source": [
    "print(\"description of match_num:\" + \"\\n\"+str(df.match_num.describe()))\n",
    "print(\"null_values: \"+ str(df.match_num.isnull().sum())) #27\n",
    "\n",
    "match_dim=df.groupby(['match_num']).size()\n",
    "print(match_dim)"
   ]
  },
  {
   "cell_type": "markdown",
   "id": "015a29f6",
   "metadata": {},
   "source": [
    "### surface\n",
    "kind of surface for the match\n",
    "\n",
    "Analysis: the surfaces are always of four types 'Hard' 'Clay' 'Grass' 'Carpet', there are 188 null values"
   ]
  },
  {
   "cell_type": "code",
   "execution_count": 11,
   "id": "7fb26c77",
   "metadata": {},
   "outputs": [
    {
     "name": "stdout",
     "output_type": "stream",
     "text": [
      "description of surface:\n",
      "count     185330\n",
      "unique         4\n",
      "top         Hard\n",
      "freq       94695\n",
      "Name: surface, dtype: object\n",
      "null_values: 188\n",
      "unique value:\n",
      "['Hard' 'Clay' 'Grass' 'Carpet' nan]\n"
     ]
    }
   ],
   "source": [
    "print(\"description of surface:\" + \"\\n\"+str(df.surface.describe()))\n",
    "print(\"null_values: \"+ str(df.surface.isnull().sum())) #188\n",
    "print(\"unique value:\" + \"\\n\"+str(df.surface.unique()))  #['Hard' 'Clay' 'Grass' 'Carpet' nan]"
   ]
  },
  {
   "cell_type": "markdown",
   "id": "b714db56",
   "metadata": {},
   "source": [
    "### draw_size\n",
    "\n",
    "number of players in the draw, often rounded up to the nearest power of 2. (For instance, a tournament with 28 players may be shown as 32.)\n",
    "\n",
    "Analysis: since all powers of 2 are integers the idea is to convert to the 'int' format. Dafter converting them into integers we used a logarithmic function to understand the right exponent that would allow us to obtain the numbers with the nearest power of 2 for example 15-> 16 23-> 32 etc."
   ]
  },
  {
   "cell_type": "code",
   "execution_count": 12,
   "id": "10c43a96",
   "metadata": {},
   "outputs": [
    {
     "name": "stdout",
     "output_type": "stream",
     "text": [
      "description of draw_size:\n",
      "count    185489.000000\n",
      "mean         41.062165\n",
      "std          25.384037\n",
      "min           2.000000\n",
      "25%          32.000000\n",
      "50%          32.000000\n",
      "75%          32.000000\n",
      "max         128.000000\n",
      "Name: draw_size, dtype: float64\n",
      "null_values: 29\n",
      "unique value (before conversion):\n",
      "[ 32. 128.  64.   8.   4.  29.  16.  30.  31.  20.  28.  23.  25.  27.\n",
      "  26.  19.  10.  15.  24.  18.  12.   2.  54.  48.  nan]\n"
     ]
    },
    {
     "ename": "KeyError",
     "evalue": "12054",
     "output_type": "error",
     "traceback": [
      "\u001b[0;31m---------------------------------------------------------------------------\u001b[0m",
      "\u001b[0;31mKeyError\u001b[0m                                  Traceback (most recent call last)",
      "\u001b[0;32m~/Library/Python/3.8/lib/python/site-packages/pandas/core/indexes/base.py\u001b[0m in \u001b[0;36mget_loc\u001b[0;34m(self, key, method, tolerance)\u001b[0m\n\u001b[1;32m   3360\u001b[0m             \u001b[0;32mtry\u001b[0m\u001b[0;34m:\u001b[0m\u001b[0;34m\u001b[0m\u001b[0;34m\u001b[0m\u001b[0m\n\u001b[0;32m-> 3361\u001b[0;31m                 \u001b[0;32mreturn\u001b[0m \u001b[0mself\u001b[0m\u001b[0;34m.\u001b[0m\u001b[0m_engine\u001b[0m\u001b[0;34m.\u001b[0m\u001b[0mget_loc\u001b[0m\u001b[0;34m(\u001b[0m\u001b[0mcasted_key\u001b[0m\u001b[0;34m)\u001b[0m\u001b[0;34m\u001b[0m\u001b[0;34m\u001b[0m\u001b[0m\n\u001b[0m\u001b[1;32m   3362\u001b[0m             \u001b[0;32mexcept\u001b[0m \u001b[0mKeyError\u001b[0m \u001b[0;32mas\u001b[0m \u001b[0merr\u001b[0m\u001b[0;34m:\u001b[0m\u001b[0;34m\u001b[0m\u001b[0;34m\u001b[0m\u001b[0m\n",
      "\u001b[0;32m~/Library/Python/3.8/lib/python/site-packages/pandas/_libs/index.pyx\u001b[0m in \u001b[0;36mpandas._libs.index.IndexEngine.get_loc\u001b[0;34m()\u001b[0m\n",
      "\u001b[0;32m~/Library/Python/3.8/lib/python/site-packages/pandas/_libs/index.pyx\u001b[0m in \u001b[0;36mpandas._libs.index.IndexEngine.get_loc\u001b[0;34m()\u001b[0m\n",
      "\u001b[0;32mpandas/_libs/hashtable_class_helper.pxi\u001b[0m in \u001b[0;36mpandas._libs.hashtable.Int64HashTable.get_item\u001b[0;34m()\u001b[0m\n",
      "\u001b[0;32mpandas/_libs/hashtable_class_helper.pxi\u001b[0m in \u001b[0;36mpandas._libs.hashtable.Int64HashTable.get_item\u001b[0;34m()\u001b[0m\n",
      "\u001b[0;31mKeyError\u001b[0m: 12054",
      "\nThe above exception was the direct cause of the following exception:\n",
      "\u001b[0;31mKeyError\u001b[0m                                  Traceback (most recent call last)",
      "\u001b[0;32m/var/folders/q3/n1kzrjss3rlcf4h0671f29640000gn/T/ipykernel_27304/169762147.py\u001b[0m in \u001b[0;36m<module>\u001b[0;34m\u001b[0m\n\u001b[1;32m     11\u001b[0m \u001b[0mlog\u001b[0m\u001b[0;34m=\u001b[0m \u001b[0mnp\u001b[0m\u001b[0;34m.\u001b[0m\u001b[0mlog2\u001b[0m\u001b[0;34m(\u001b[0m\u001b[0mdf\u001b[0m\u001b[0;34m[\u001b[0m\u001b[0;34m'draw_size'\u001b[0m\u001b[0;34m]\u001b[0m\u001b[0;34m)\u001b[0m\u001b[0;34m\u001b[0m\u001b[0;34m\u001b[0m\u001b[0m\n\u001b[1;32m     12\u001b[0m \u001b[0;32mfor\u001b[0m \u001b[0mi\u001b[0m \u001b[0;32min\u001b[0m \u001b[0mrange\u001b[0m\u001b[0;34m(\u001b[0m\u001b[0;36m0\u001b[0m\u001b[0;34m,\u001b[0m \u001b[0mlen\u001b[0m\u001b[0;34m(\u001b[0m\u001b[0mlog\u001b[0m\u001b[0;34m)\u001b[0m\u001b[0;34m)\u001b[0m\u001b[0;34m:\u001b[0m\u001b[0;34m\u001b[0m\u001b[0;34m\u001b[0m\u001b[0m\n\u001b[0;32m---> 13\u001b[0;31m     \u001b[0mdec\u001b[0m\u001b[0;34m,\u001b[0m \u001b[0minter\u001b[0m \u001b[0;34m=\u001b[0m \u001b[0mmath\u001b[0m\u001b[0;34m.\u001b[0m\u001b[0mmodf\u001b[0m\u001b[0;34m(\u001b[0m\u001b[0mlog\u001b[0m\u001b[0;34m[\u001b[0m\u001b[0mi\u001b[0m\u001b[0;34m]\u001b[0m\u001b[0;34m)\u001b[0m\u001b[0;34m\u001b[0m\u001b[0;34m\u001b[0m\u001b[0m\n\u001b[0m\u001b[1;32m     14\u001b[0m     \u001b[0;32mif\u001b[0m \u001b[0mdec\u001b[0m \u001b[0;34m==\u001b[0m \u001b[0;36m0\u001b[0m\u001b[0;34m:\u001b[0m\u001b[0;34m\u001b[0m\u001b[0;34m\u001b[0m\u001b[0m\n\u001b[1;32m     15\u001b[0m         \u001b[0mlog\u001b[0m\u001b[0;34m[\u001b[0m\u001b[0mi\u001b[0m\u001b[0;34m]\u001b[0m \u001b[0;34m=\u001b[0m \u001b[0minter\u001b[0m\u001b[0;34m\u001b[0m\u001b[0;34m\u001b[0m\u001b[0m\n",
      "\u001b[0;32m~/Library/Python/3.8/lib/python/site-packages/pandas/core/series.py\u001b[0m in \u001b[0;36m__getitem__\u001b[0;34m(self, key)\u001b[0m\n\u001b[1;32m    940\u001b[0m \u001b[0;34m\u001b[0m\u001b[0m\n\u001b[1;32m    941\u001b[0m         \u001b[0;32melif\u001b[0m \u001b[0mkey_is_scalar\u001b[0m\u001b[0;34m:\u001b[0m\u001b[0;34m\u001b[0m\u001b[0;34m\u001b[0m\u001b[0m\n\u001b[0;32m--> 942\u001b[0;31m             \u001b[0;32mreturn\u001b[0m \u001b[0mself\u001b[0m\u001b[0;34m.\u001b[0m\u001b[0m_get_value\u001b[0m\u001b[0;34m(\u001b[0m\u001b[0mkey\u001b[0m\u001b[0;34m)\u001b[0m\u001b[0;34m\u001b[0m\u001b[0;34m\u001b[0m\u001b[0m\n\u001b[0m\u001b[1;32m    943\u001b[0m \u001b[0;34m\u001b[0m\u001b[0m\n\u001b[1;32m    944\u001b[0m         \u001b[0;32mif\u001b[0m \u001b[0mis_hashable\u001b[0m\u001b[0;34m(\u001b[0m\u001b[0mkey\u001b[0m\u001b[0;34m)\u001b[0m\u001b[0;34m:\u001b[0m\u001b[0;34m\u001b[0m\u001b[0;34m\u001b[0m\u001b[0m\n",
      "\u001b[0;32m~/Library/Python/3.8/lib/python/site-packages/pandas/core/series.py\u001b[0m in \u001b[0;36m_get_value\u001b[0;34m(self, label, takeable)\u001b[0m\n\u001b[1;32m   1049\u001b[0m \u001b[0;34m\u001b[0m\u001b[0m\n\u001b[1;32m   1050\u001b[0m         \u001b[0;31m# Similar to Index.get_value, but we do not fall back to positional\u001b[0m\u001b[0;34m\u001b[0m\u001b[0;34m\u001b[0m\u001b[0;34m\u001b[0m\u001b[0m\n\u001b[0;32m-> 1051\u001b[0;31m         \u001b[0mloc\u001b[0m \u001b[0;34m=\u001b[0m \u001b[0mself\u001b[0m\u001b[0;34m.\u001b[0m\u001b[0mindex\u001b[0m\u001b[0;34m.\u001b[0m\u001b[0mget_loc\u001b[0m\u001b[0;34m(\u001b[0m\u001b[0mlabel\u001b[0m\u001b[0;34m)\u001b[0m\u001b[0;34m\u001b[0m\u001b[0;34m\u001b[0m\u001b[0m\n\u001b[0m\u001b[1;32m   1052\u001b[0m         \u001b[0;32mreturn\u001b[0m \u001b[0mself\u001b[0m\u001b[0;34m.\u001b[0m\u001b[0mindex\u001b[0m\u001b[0;34m.\u001b[0m\u001b[0m_get_values_for_loc\u001b[0m\u001b[0;34m(\u001b[0m\u001b[0mself\u001b[0m\u001b[0;34m,\u001b[0m \u001b[0mloc\u001b[0m\u001b[0;34m,\u001b[0m \u001b[0mlabel\u001b[0m\u001b[0;34m)\u001b[0m\u001b[0;34m\u001b[0m\u001b[0;34m\u001b[0m\u001b[0m\n\u001b[1;32m   1053\u001b[0m \u001b[0;34m\u001b[0m\u001b[0m\n",
      "\u001b[0;32m~/Library/Python/3.8/lib/python/site-packages/pandas/core/indexes/base.py\u001b[0m in \u001b[0;36mget_loc\u001b[0;34m(self, key, method, tolerance)\u001b[0m\n\u001b[1;32m   3361\u001b[0m                 \u001b[0;32mreturn\u001b[0m \u001b[0mself\u001b[0m\u001b[0;34m.\u001b[0m\u001b[0m_engine\u001b[0m\u001b[0;34m.\u001b[0m\u001b[0mget_loc\u001b[0m\u001b[0;34m(\u001b[0m\u001b[0mcasted_key\u001b[0m\u001b[0;34m)\u001b[0m\u001b[0;34m\u001b[0m\u001b[0;34m\u001b[0m\u001b[0m\n\u001b[1;32m   3362\u001b[0m             \u001b[0;32mexcept\u001b[0m \u001b[0mKeyError\u001b[0m \u001b[0;32mas\u001b[0m \u001b[0merr\u001b[0m\u001b[0;34m:\u001b[0m\u001b[0;34m\u001b[0m\u001b[0;34m\u001b[0m\u001b[0m\n\u001b[0;32m-> 3363\u001b[0;31m                 \u001b[0;32mraise\u001b[0m \u001b[0mKeyError\u001b[0m\u001b[0;34m(\u001b[0m\u001b[0mkey\u001b[0m\u001b[0;34m)\u001b[0m \u001b[0;32mfrom\u001b[0m \u001b[0merr\u001b[0m\u001b[0;34m\u001b[0m\u001b[0;34m\u001b[0m\u001b[0m\n\u001b[0m\u001b[1;32m   3364\u001b[0m \u001b[0;34m\u001b[0m\u001b[0m\n\u001b[1;32m   3365\u001b[0m         \u001b[0;32mif\u001b[0m \u001b[0mis_scalar\u001b[0m\u001b[0;34m(\u001b[0m\u001b[0mkey\u001b[0m\u001b[0;34m)\u001b[0m \u001b[0;32mand\u001b[0m \u001b[0misna\u001b[0m\u001b[0;34m(\u001b[0m\u001b[0mkey\u001b[0m\u001b[0;34m)\u001b[0m \u001b[0;32mand\u001b[0m \u001b[0;32mnot\u001b[0m \u001b[0mself\u001b[0m\u001b[0;34m.\u001b[0m\u001b[0mhasnans\u001b[0m\u001b[0;34m:\u001b[0m\u001b[0;34m\u001b[0m\u001b[0;34m\u001b[0m\u001b[0m\n",
      "\u001b[0;31mKeyError\u001b[0m: 12054"
     ]
    }
   ],
   "source": [
    "print(\"description of draw_size:\" + \"\\n\"+str(df.draw_size.describe()))\n",
    "print(\"null_values: \"+ str(df.draw_size.isnull().sum())) #29\n",
    "print(\"unique value (before conversion):\" + \"\\n\"+str(df.draw_size.unique()))  \n",
    "\n",
    "\n",
    "#[ 32. 128.  64.   8.   4.  29.  16.  30.  31.  20.  28.  23.  25.  27.\n",
    "#  26.  19.  10.  15.  24.  18.  12.   2.  54.  48.  nan]\n",
    "\n",
    "\n",
    "dw = df['draw_size']\n",
    "log= np.log2(df['draw_size'])\n",
    "for i in range(0, len(log)):\n",
    "    dec, inter = math.modf(log[i])\n",
    "    if dec == 0:\n",
    "        log[i] = inter\n",
    "    else:\n",
    "        log[i] = inter + 1\n",
    "dw = pow(2, log)\n",
    "\n",
    "df.draw_size=dw\n",
    "print(\"unique value (after conversion):\" + \"\\n\"+str(df.draw_size.unique()))  \n",
    "\n",
    "# [ 32. 128.  64.   8.   4.  16.   2.  nan]"
   ]
  },
  {
   "cell_type": "markdown",
   "id": "efe8a223",
   "metadata": {},
   "source": [
    "### tourney_date\n",
    "\n",
    "tourney_date: eight digits, YYYYMMDD, usually the Monday of the tournament week.\n",
    "\n",
    "Analysis:\n",
    "We convert type of tourney_date in Datetime64. An analysis could be to group each tournament with the matches for the dates associated with it in order to be able to understand the performance of each player over time."
   ]
  },
  {
   "cell_type": "code",
   "execution_count": 13,
   "id": "a6c4d8fe",
   "metadata": {},
   "outputs": [
    {
     "name": "stdout",
     "output_type": "stream",
     "text": [
      "null_values: 28\n"
     ]
    },
    {
     "data": {
      "text/plain": [
       "0   2018-12-31\n",
       "1   2018-12-31\n",
       "2   2018-12-31\n",
       "3   2018-12-31\n",
       "4   2018-12-31\n",
       "Name: tourney_date, dtype: datetime64[ns]"
      ]
     },
     "execution_count": 13,
     "metadata": {},
     "output_type": "execute_result"
    }
   ],
   "source": [
    "df.tourney_date.describe()\n",
    "print(\"null_values: \"+ str(df.tourney_date.isnull().sum())) #28\n",
    "\n",
    "df['tourney_date'] = pd.to_datetime(df['tourney_date'], format='%Y%m%d')\n",
    "\n",
    "df.tourney_date.head()"
   ]
  },
  {
   "cell_type": "markdown",
   "id": "5afa34d2",
   "metadata": {},
   "source": [
    "### minutes \n",
    "\n",
    "match length, where available\n",
    "\n",
    "Analysis: The minutes are of type float, in our opinion it is better to leave them in this format without further converting them to facilitate the statistical control of the data. From the description we can see the presence of many null values and the presence of some outliers to manage."
   ]
  },
  {
   "cell_type": "code",
   "execution_count": 15,
   "id": "ffae0d5d",
   "metadata": {},
   "outputs": [
    {
     "name": "stdout",
     "output_type": "stream",
     "text": [
      "description of draw_size:\n",
      "count    81064.000000\n",
      "mean        97.715829\n",
      "std         41.539566\n",
      "min          0.000000\n",
      "25%         72.000000\n",
      "50%         91.000000\n",
      "75%        119.000000\n",
      "max       4756.000000\n",
      "Name: minutes, dtype: float64\n",
      "null_values: 104454\n"
     ]
    }
   ],
   "source": [
    "print(\"description of draw_size:\" + \"\\n\"+str(df.minutes.describe()))\n",
    "print(\"null_values: \"+ str(df.minutes.isnull().sum())) #104454\n"
   ]
  },
  {
   "cell_type": "markdown",
   "id": "6c02d6d5",
   "metadata": {},
   "source": [
    "### Score\n",
    "\n",
    "Represents the score of each match\n",
    "\n",
    "Analysis: We have many unique values so it makes us think of many different scores between the various games, we have 199 games of which we do not know the relative scores obtained.\n",
    "\n",
    "The score could be related to other attributes such as minutes or best_of (which we will see later)"
   ]
  },
  {
   "cell_type": "code",
   "execution_count": 16,
   "id": "acc6305e",
   "metadata": {
    "scrolled": true
   },
   "outputs": [
    {
     "name": "stdout",
     "output_type": "stream",
     "text": [
      "description of score:\n",
      "count      185331\n",
      "unique       9704\n",
      "top       6-3 6-4\n",
      "freq         5357\n",
      "Name: score, dtype: object\n",
      "null_values: 187\n"
     ]
    }
   ],
   "source": [
    "print(\"description of score:\" + \"\\n\"+str(df.score.describe()))\n",
    "print(\"null_values: \"+ str(df.score.isnull().sum())) #187"
   ]
  },
  {
   "cell_type": "markdown",
   "id": "1795c3e2",
   "metadata": {},
   "source": [
    "### Round\n"
   ]
  },
  {
   "cell_type": "code",
   "execution_count": 17,
   "id": "ef87e0fd",
   "metadata": {
    "scrolled": false
   },
   "outputs": [
    {
     "name": "stdout",
     "output_type": "stream",
     "text": [
      "description of best_of:\n",
      "count     185488\n",
      "unique        12\n",
      "top          R32\n",
      "freq       63069\n",
      "Name: round, dtype: object\n",
      "null_values: 30\n",
      "unique value:\n",
      "['F' 'SF' 'QF' 'R16' 'R32' 'Q1' 'Q2' 'Q3' 'R64' 'R128' 'RR' 'BR' nan]\n"
     ]
    }
   ],
   "source": [
    "print(\"description of best_of:\" + \"\\n\"+str(df['round'].describe()))\n",
    "print(\"null_values: \"+ str(df['round'].isnull().sum())) #30\n",
    "print(\"unique value:\" + \"\\n\"+str(df['round'].unique())) \n",
    "# ['F' 'SF' 'QF' 'R16' 'R32' 'Q1' 'Q2' 'Q3' 'R64' 'R128' 'RR' 'BR' nan]\n"
   ]
  },
  {
   "cell_type": "markdown",
   "id": "f7df2bbd",
   "metadata": {},
   "source": [
    "### best_of\n",
    "\n",
    "'3' or '5', indicating the number of set for this match\n",
    "\n",
    "Analysis: the values seem to enter the specified range because they are all 3-5 with the presence of some null values (29)."
   ]
  },
  {
   "cell_type": "code",
   "execution_count": 18,
   "id": "7c727df9",
   "metadata": {},
   "outputs": [
    {
     "name": "stdout",
     "output_type": "stream",
     "text": [
      "description of best_of:\n",
      "count    185489.000000\n",
      "mean          3.034212\n",
      "std           0.259335\n",
      "min           3.000000\n",
      "25%           3.000000\n",
      "50%           3.000000\n",
      "75%           3.000000\n",
      "max           5.000000\n",
      "Name: best_of, dtype: float64\n",
      "null_values: 29\n",
      "unique value:\n",
      "[ 3.  5. nan]\n"
     ]
    }
   ],
   "source": [
    "print(\"description of best_of:\" + \"\\n\"+str(df.best_of.describe()))\n",
    "print(\"null_values: \"+ str(df.best_of.isnull().sum())) #29\n",
    "print(\"unique value:\" + \"\\n\"+str(df.best_of.unique())) # [ 3.  5. nan]\n"
   ]
  },
  {
   "cell_type": "markdown",
   "id": "7ed8209a",
   "metadata": {},
   "source": [
    "## Players"
   ]
  },
  {
   "cell_type": "markdown",
   "id": "c1e17620",
   "metadata": {},
   "source": [
    "### winner_id and loser_id\n",
    "\n",
    "the player_id used in this repo for the winner of the match.\n",
    "\n",
    "Analysis: We could group each player's id with their name in order to have the player-id association in the player list. Through the groupby we can see only 13 different values for name-id (possible wrong values)"
   ]
  },
  {
   "cell_type": "code",
   "execution_count": 19,
   "id": "eb57dd7b",
   "metadata": {},
   "outputs": [
    {
     "name": "stdout",
     "output_type": "stream",
     "text": [
      "\n",
      "description of:\n",
      "           winner_id       loser_id\n",
      "count  185463.000000  185490.000000\n",
      "mean   180061.097259  181573.928061\n",
      "std     46595.797155   46668.021935\n",
      "min    100644.000000  100644.000000\n",
      "25%    122330.000000  124045.000000\n",
      "50%    203521.000000  205796.000000\n",
      "75%    214158.000000  214821.000000\n",
      "max    245099.000000  245099.000000\n",
      "null_values: \t  55\t\t 28\n",
      "1    6161\n",
      "2      13\n",
      "Name: winner_name, dtype: int64\n"
     ]
    }
   ],
   "source": [
    "print(\"\\ndescription of:\" + \"\\n\"+str(df[['winner_id', 'loser_id']].describe()))\n",
    "print(\"null_values: \\t  \"+ str(df.winner_id.isnull().sum()) + \"\\t\\t \"\n",
    "      + str(df.loser_id.isnull().sum())) #55 | 28 \n",
    "\n",
    "print(df.groupby(['winner_id']).winner_name.nunique().value_counts())\n",
    "\n",
    "# df.groupby(['winner_id']).winner_name.nunique() "
   ]
  },
  {
   "cell_type": "markdown",
   "id": "edabce19",
   "metadata": {},
   "source": [
    "### winner_name and loser_name\n",
    "\n",
    "name of player that win \n",
    "\n",
    "Analysis: we already looked at these values when we did the Data Integration part so at the moment it only remains to handle the null problem"
   ]
  },
  {
   "cell_type": "code",
   "execution_count": 20,
   "id": "72f883f5",
   "metadata": {},
   "outputs": [
    {
     "name": "stdout",
     "output_type": "stream",
     "text": [
      "\n",
      "description of:\n",
      "           winner_name     loser_name\n",
      "count           185491         185487\n",
      "unique            6179          10058\n",
      "top     Novak Djokovic  Federico Gaio\n",
      "freq               289            180\n",
      "null_values: \t    27\t\t   31\n"
     ]
    }
   ],
   "source": [
    "print(\"\\ndescription of:\" + \"\\n\"+str(df[['winner_name', 'loser_name']].describe()))\n",
    "print(\"null_values: \\t    \"+ str(df.winner_name.isnull().sum()) + \"\\t\\t   \"\n",
    "      + str(df.loser_name.isnull().sum())) #27 | 31 \n"
   ]
  },
  {
   "cell_type": "markdown",
   "id": "2dfc6e71",
   "metadata": {},
   "source": [
    "### Winner and loser ioc \n",
    "\n",
    "three-character country code\n",
    "\n",
    "Analysis: each winner has his own country of reference, we could group them all by participants and understand well all the participants of the tournament of a particular country. The nulls are few so if we want we can make a prediction by checking the name of the participant with the previous scenarios"
   ]
  },
  {
   "cell_type": "code",
   "execution_count": 21,
   "id": "374f8b39",
   "metadata": {},
   "outputs": [
    {
     "name": "stdout",
     "output_type": "stream",
     "text": [
      "\n",
      "description of:\n",
      "       winner_ioc loser_ioc\n",
      "count      185489    185492\n",
      "unique        124       154\n",
      "top           USA       USA\n",
      "freq        16330     16578\n",
      "null_values:    29\t   26\n",
      "\n",
      "different county names:\n",
      "          0\n",
      "count   154\n",
      "unique  154\n",
      "top     JPN\n",
      "freq      1\n"
     ]
    }
   ],
   "source": [
    "print(\"\\ndescription of:\" + \"\\n\"+str(df[['winner_ioc', 'loser_ioc']].describe()))\n",
    "print(\"null_values:    \"+ str(df.winner_ioc.isnull().sum()) + \"\\t   \"\n",
    "      + str(df.loser_ioc.isnull().sum())) #29 | 26 \n",
    "\n",
    "nation=np.concatenate((df.winner_ioc.unique(), df.loser_ioc.unique()),0)\n",
    "country = pd.DataFrame(nation)\n",
    "country = country.drop_duplicates()\n",
    "\n",
    "print(\"\\ndifferent county names:\" + \"\\n\" + str(country.describe()))"
   ]
  },
  {
   "cell_type": "markdown",
   "id": "e9db9ef1",
   "metadata": {},
   "source": [
    "### winner and loser ht\n",
    "\n",
    "height in centimetres, where available\n",
    "\n",
    "Analysis: we have many null values, in this case we could go to analyze the name of the winner and see the nationality associated previously and then have the null values replaced. Since the height is an integer we could convert it to integers but right now we leave it in float"
   ]
  },
  {
   "cell_type": "code",
   "execution_count": 22,
   "id": "b1a1cece",
   "metadata": {},
   "outputs": [
    {
     "name": "stdout",
     "output_type": "stream",
     "text": [
      "\n",
      "description of:\n",
      "          winner_ht      loser_ht\n",
      "count  49265.000000  38312.000000\n",
      "mean     181.420440    181.569038\n",
      "std       11.630501     10.816929\n",
      "min        2.000000      2.000000\n",
      "25%      175.000000    175.000000\n",
      "50%      183.000000    183.000000\n",
      "75%      188.000000    188.000000\n",
      "max      211.000000    211.000000\n",
      "null_values:    136253\t   147206\n"
     ]
    }
   ],
   "source": [
    "print(\"\\ndescription of:\" + \"\\n\"+str(df[['winner_ht', 'loser_ht']].describe()))\n",
    "print(\"null_values:    \"+ str(df.winner_ht.isnull().sum()) + \"\\t   \"\n",
    "      + str(df.loser_ht.isnull().sum())) #136253 | 147206 \n",
    "\n",
    "#df['winner_ht']=df['winner_ht'].fillna(0).astype(np.int64)\n",
    "\n",
    "#print(\"description of winner_ht:\" + \"\\n\"+str(df['winner_ht'].describe()))"
   ]
  },
  {
   "cell_type": "markdown",
   "id": "7647049d",
   "metadata": {},
   "source": [
    "### winner and loser age\n",
    "\n",
    "the age of the player, in years, depending on the date of the tournament\n",
    "\n",
    "\n",
    "Analysis: We need to understand what the decimal part represents, I would opt to transform everything into integer values and use those values, also the age of the winner can change according to the tournament so I could find a previous value to replace a null."
   ]
  },
  {
   "cell_type": "code",
   "execution_count": 24,
   "id": "2895a3be",
   "metadata": {},
   "outputs": [
    {
     "name": "stdout",
     "output_type": "stream",
     "text": [
      "\n",
      "description of:\n",
      "          winner_age      loser_age\n",
      "count  182665.000000  178982.000000\n",
      "mean       23.962455      23.764299\n",
      "std         4.463414       4.631426\n",
      "min        14.042437      14.006845\n",
      "25%        20.487337      20.128679\n",
      "50%        23.452430      23.225188\n",
      "75%        26.869268      26.765229\n",
      "max        95.000000      74.485969\n",
      "null_values:    2853\t   6536\n"
     ]
    }
   ],
   "source": [
    "print(\"\\ndescription of:\" + \"\\n\"+str(df[['winner_age', 'loser_age']].describe()))\n",
    "print(\"null_values:    \"+ str(df.winner_age.isnull().sum()) + \"\\t   \"\n",
    "      + str(df.loser_age.isnull().sum())) #2853 | 6536 \n"
   ]
  },
  {
   "cell_type": "markdown",
   "id": "05d94944",
   "metadata": {},
   "source": [
    "### winner_hand and loser_hand\n",
    "R= right, L = left, U = unknown. For ambidextrous players, this is their\n",
    "serving hand.\n",
    "\n",
    "Analysis: Here too we have a few nulls that we can replace with the previous values. Analyzing the attributes we can discover that the elements inside are unique and of only three types (not considering null values)"
   ]
  },
  {
   "cell_type": "code",
   "execution_count": 25,
   "id": "7bc680a4",
   "metadata": {},
   "outputs": [
    {
     "name": "stdout",
     "output_type": "stream",
     "text": [
      "\n",
      "description of:\n",
      "       winner_hand loser_hand\n",
      "count       185472     185420\n",
      "unique           3          3\n",
      "top              R          R\n",
      "freq        120188     108910\n",
      "null_values:    46\t   98\n"
     ]
    }
   ],
   "source": [
    "print(\"\\ndescription of:\" + \"\\n\"+str(df[['winner_hand', 'loser_hand']].describe()))\n",
    "print(\"null_values:    \"+ str(df.winner_hand.isnull().sum()) + \"\\t   \"\n",
    "      + str(df.loser_hand.isnull().sum())) #46 | 98 \n",
    "\n",
    "#print(\"unique value:\" + \"\\n\"+str(df.winner_hand.unique()))  \n",
    "#['R' 'L' 'U' nan]\n",
    "\n",
    "#print(\"unique value:\" + \"\\n\"+str(df.loser_hand.unique()))  \n",
    "#['R' 'L' 'U' nan]\n"
   ]
  },
  {
   "cell_type": "markdown",
   "id": "509d436c",
   "metadata": {},
   "source": [
    "### winner_entry and loser_entry\n",
    "\n",
    "'WC' = wild card, 'Q' = qualifier, 'LL' = lucky loser, 'PR' = protected\n",
    "ranking, 'ITF' = ITF entry, and there are a few others that are occasionally used.\n",
    "\n",
    "loser_entry: analogous\n",
    "\n",
    "Analysis: We have many null values but the unique set of values is 19 values"
   ]
  },
  {
   "cell_type": "code",
   "execution_count": 26,
   "id": "12dc20e6",
   "metadata": {},
   "outputs": [
    {
     "name": "stdout",
     "output_type": "stream",
     "text": [
      "\n",
      "description of:\n",
      "       winner_entry loser_entry\n",
      "count         25795       44030\n",
      "unique           15          19\n",
      "top               Q           Q\n",
      "freq          13575       20346\n",
      "null_values:  159723\t  141488\n",
      "\n",
      "different entry:\n",
      "         0\n",
      "count   19\n",
      "unique  19\n",
      "top     PR\n",
      "freq     1\n"
     ]
    }
   ],
   "source": [
    "print(\"\\ndescription of:\" + \"\\n\"+str(df[['winner_entry', 'loser_entry']].describe()))\n",
    "print(\"null_values:  \"+ str(df.winner_entry.isnull().sum()) + \"\\t  \"\n",
    "      + str(df.loser_entry.isnull().sum())) #159723 | 141488 \n",
    "\n",
    "\n",
    "#print(\"unique value:\" + \"\\n\"+str(df.winner_entry.unique())) \n",
    "\n",
    "#[nan 'PR' 'Q' 'WC' 'Alt' 'LL' 'SE' 'ALT' 'SR' 'JE' 'A' 'ITF' 'P' 'I' 'IR' 'JR']\n",
    "\n",
    "#print(\"unique value:\" + \"\\n\"+str(df.loser_entry.unique())) \n",
    "\n",
    "#[nan 'PR' 'Q' 'LL' 'WC' 'Alt' 'A' 'SE' 'ALT' 'SR' 'JE' '3' '4' '6' 'ITF' 'I' 'P' 'J' 'IR' 'JR']\n",
    "\n",
    "\n",
    "entry=np.concatenate((df.winner_entry.unique(), df.loser_entry.unique()),0)\n",
    "entry = pd.DataFrame(entry)\n",
    "entry = entry.drop_duplicates()\n",
    "\n",
    "print(\"\\ndifferent entry:\" + \"\\n\" + str(entry.describe()))"
   ]
  },
  {
   "cell_type": "markdown",
   "id": "1806eb45",
   "metadata": {},
   "source": [
    "### winner_rank     loser_rank       \n",
    "\n",
    "winner's ATP or WTA rank, as of the tourney_date, or the most recentranking date before the tourney_date\n",
    "\n",
    "Analysis: Many nulls, we can use the winner rank to examine how it changes throughout the various tournaments."
   ]
  },
  {
   "cell_type": "code",
   "execution_count": 28,
   "id": "c5c4b0e8",
   "metadata": {},
   "outputs": [
    {
     "name": "stdout",
     "output_type": "stream",
     "text": [
      "\n",
      "description of:\n",
      "         winner_rank     loser_rank\n",
      "count  166123.000000  150283.000000\n",
      "mean      384.043546     434.255485\n",
      "std       314.376147     356.107928\n",
      "min         1.000000       1.000000\n",
      "25%       136.000000     156.000000\n",
      "50%       298.000000     325.000000\n",
      "75%       563.000000     642.000000\n",
      "max      2220.000000    2257.000000\n",
      "null_values:   19395\t      35235\n"
     ]
    }
   ],
   "source": [
    "print(\"\\ndescription of:\" + \"\\n\"+str(df[['winner_rank', 'loser_rank']].describe()))\n",
    "print(\"null_values:   \"+ str(df.winner_rank.isnull().sum()) + \"\\t      \"\n",
    "      + str(df.loser_rank.isnull().sum())) #19395 | 35235 \n"
   ]
  },
  {
   "cell_type": "markdown",
   "id": "a63b7de3",
   "metadata": {},
   "source": [
    "### winner_rank_points     loser_rank_points\n",
    "\n",
    "number of ranking points, where available.\n",
    "\n",
    "Analysis: here too we have null values, we can correlate the rank with rank_point to understand in order which are the best players"
   ]
  },
  {
   "cell_type": "code",
   "execution_count": 29,
   "id": "c1a587fa",
   "metadata": {},
   "outputs": [
    {
     "name": "stdout",
     "output_type": "stream",
     "text": [
      "\n",
      "description of:\n",
      "       winner_rank_points  loser_rank_points\n",
      "count       166105.000000      150266.000000\n",
      "mean           471.415027         357.142108\n",
      "std           1042.722836         703.781406\n",
      "min              1.000000           1.000000\n",
      "25%             49.000000          35.000000\n",
      "50%            161.000000         138.000000\n",
      "75%            440.000000         379.000000\n",
      "max          16950.000000       16950.000000\n",
      "null_values:\t    19413\t       35252\n"
     ]
    }
   ],
   "source": [
    "print(\"\\ndescription of:\" + \"\\n\"+str(df[['winner_rank_points', 'loser_rank_points']].describe()))\n",
    "print(\"null_values:\\t    \"+ str(df.winner_rank_points.isnull().sum()) + \"\\t       \"\n",
    "      + str(df.loser_rank_points.isnull().sum())) #19413 | 35252 \n"
   ]
  },
  {
   "cell_type": "markdown",
   "id": "2e448ddb",
   "metadata": {},
   "source": [
    "### w_ace l_ace\n",
    "\n",
    "winner's number of aces\n",
    "\n",
    "Analysis: We have null values, we can correlate these values to understand the statistics of each player"
   ]
  },
  {
   "cell_type": "code",
   "execution_count": 30,
   "id": "e5840014",
   "metadata": {
    "scrolled": true
   },
   "outputs": [
    {
     "name": "stdout",
     "output_type": "stream",
     "text": [
      "\n",
      "description of:\n",
      "              w_ace         l_ace\n",
      "count  81714.000000  81717.000000\n",
      "mean       4.832819      3.542935\n",
      "std        4.391923      3.834545\n",
      "min        0.000000      0.000000\n",
      "25%        2.000000      1.000000\n",
      "50%        4.000000      2.000000\n",
      "75%        7.000000      5.000000\n",
      "max       75.000000     67.000000\n",
      "null_values: 103804\t   103801\n"
     ]
    }
   ],
   "source": [
    "print(\"\\ndescription of:\" + \"\\n\"+str(df[['w_ace', 'l_ace']].describe()))\n",
    "print(\"null_values: \"+ str(df.w_ace.isnull().sum()) + \"\\t   \"\n",
    "      + str(df.l_ace.isnull().sum())) #103804 | 103801 \n",
    "\n",
    "#print(\"unique value:\" + \"\\n\"+str(df.w_ace.unique())) \n",
    "\n",
    "#[ 3. 10.  2. 12.  5. 11.  1. 16. 21. 17. 15.  6.  7. 18. 44.  9.  8.  4.\n",
    "#  0. 14. 13. nan 33. 25. 20. 22. 26. 40. 19. 28. 29. 24. 30. 39. 23. 43.\n",
    "\n",
    "#print(\"unique value:\" + \"\\n\"+str(df.l_ace.unique())) \n",
    "\n",
    "#[ 8. 17. 10.  1. 29. 12.  3.  5.  6. 13.  7.  4. 27. 22.  2.  0. 11. 20.\n",
    "#  9. nan 14. 36. 26. 15. 16. 47. 24. 18. 25. 21. 59. 28. 19. 23. 67. 38.\n",
    "# 37. 30. 34. 33. 31. 32. 40. 35. 52. 61. 53. 44. 45. 46. 56. 43. 39.]"
   ]
  },
  {
   "cell_type": "markdown",
   "id": "62252e0f",
   "metadata": {},
   "source": [
    "###  w_df      l_df\n",
    "\n",
    "winner's number of doubles faults\n",
    "\n",
    "Analysis: We have null values, we can correlate these values to understand the statistics of each player"
   ]
  },
  {
   "cell_type": "code",
   "execution_count": 31,
   "id": "0c3693eb",
   "metadata": {},
   "outputs": [
    {
     "name": "stdout",
     "output_type": "stream",
     "text": [
      "\n",
      "description of:\n",
      "               w_df          l_df\n",
      "count  81716.000000  81723.000000\n",
      "mean       2.854521      3.606941\n",
      "std        2.420209      2.605175\n",
      "min        0.000000      0.000000\n",
      "25%        1.000000      2.000000\n",
      "50%        2.000000      3.000000\n",
      "75%        4.000000      5.000000\n",
      "max      114.000000    114.000000\n",
      "null_values: 103802\t   103795\n"
     ]
    }
   ],
   "source": [
    "print(\"\\ndescription of:\" + \"\\n\"+str(df[['w_df', 'l_df']].describe()))\n",
    "print(\"null_values: \"+ str(df.w_df.isnull().sum()) + \"\\t   \"\n",
    "      + str(df.l_df.isnull().sum())) #103802 | 103795 \n"
   ]
  },
  {
   "cell_type": "markdown",
   "id": "342244e8",
   "metadata": {},
   "source": [
    "### w_svpt   l_svpt\n",
    "\n",
    "winner's number of serve points\n",
    "\n",
    "Analysis: We have null values, we can correlate these values to understand the statistics of each player"
   ]
  },
  {
   "cell_type": "code",
   "execution_count": 32,
   "id": "8c62e0bc",
   "metadata": {},
   "outputs": [
    {
     "name": "stdout",
     "output_type": "stream",
     "text": [
      "\n",
      "description of:\n",
      "             w_svpt        l_svpt\n",
      "count  81714.000000  81719.000000\n",
      "mean      71.312566     73.588761\n",
      "std       25.538473     25.000424\n",
      "min        0.000000      0.000000\n",
      "25%       53.000000     56.000000\n",
      "50%       67.000000     70.000000\n",
      "75%       87.000000     88.000000\n",
      "max     1957.000000   1672.000000\n",
      "null_values: 103804\t   103799\n"
     ]
    }
   ],
   "source": [
    "print(\"\\ndescription of:\" + \"\\n\"+str(df[['w_svpt', 'l_svpt']].describe()))\n",
    "print(\"null_values: \"+ str(df.w_svpt.isnull().sum()) + \"\\t   \"\n",
    "      + str(df.l_svpt.isnull().sum())) #103804 | 103799 \n"
   ]
  },
  {
   "cell_type": "markdown",
   "id": "79088e7c",
   "metadata": {},
   "source": [
    "### w_1st    ln l_1stln\n",
    "\n",
    "winner’s number of first serves made\n",
    "\n",
    "Analysis: We have null values, we can correlate these values to understand the statistics of each player"
   ]
  },
  {
   "cell_type": "code",
   "execution_count": 33,
   "id": "2b3cf95d",
   "metadata": {},
   "outputs": [
    {
     "name": "stdout",
     "output_type": "stream",
     "text": [
      "\n",
      "description of:\n",
      "            w_1stIn       l_1stIn\n",
      "count  81714.000000  81708.000000\n",
      "mean      44.277957     44.574436\n",
      "std       16.952541     16.778917\n",
      "min        0.000000      0.000000\n",
      "25%       33.000000     33.000000\n",
      "50%       42.000000     42.000000\n",
      "75%       54.000000     54.000000\n",
      "max     1330.000000    893.000000\n",
      "null_values: 103804\t   103810\n"
     ]
    }
   ],
   "source": [
    "print(\"\\ndescription of:\" + \"\\n\"+str(df[['w_1stIn', 'l_1stIn']].describe()))\n",
    "print(\"null_values: \"+ str(df.w_1stIn.isnull().sum()) + \"\\t   \"\n",
    "      + str(df.l_1stIn.isnull().sum())) #103804 | 103810 \n"
   ]
  },
  {
   "cell_type": "markdown",
   "id": "89f2ceb9",
   "metadata": {},
   "source": [
    "### w_1stWon    l_1stWon\n",
    "\n",
    "winner’s number of first-serve points won\n",
    "\n",
    "Analysis: We have null values, we can correlate these values to understand the statistics of each player"
   ]
  },
  {
   "cell_type": "code",
   "execution_count": 34,
   "id": "a70ce06e",
   "metadata": {},
   "outputs": [
    {
     "name": "stdout",
     "output_type": "stream",
     "text": [
      "\n",
      "description of:\n",
      "           w_1stWon      l_1stWon\n",
      "count  81716.000000  81715.000000\n",
      "mean      32.156603     28.062473\n",
      "std       11.418348     12.275948\n",
      "min        0.000000      0.000000\n",
      "25%       24.000000     19.000000\n",
      "50%       30.000000     26.000000\n",
      "75%       38.000000     35.000000\n",
      "max      836.000000    532.000000\n",
      "null_values: 103802\t   103803\n"
     ]
    }
   ],
   "source": [
    "print(\"\\ndescription of:\" + \"\\n\"+str(df[['w_1stWon', 'l_1stWon']].describe()))\n",
    "print(\"null_values: \"+ str(df.w_1stWon.isnull().sum()) + \"\\t   \"\n",
    "      + str(df.l_1stWon.isnull().sum())) #103802 | 103803\n"
   ]
  },
  {
   "cell_type": "markdown",
   "id": "e8252b6d",
   "metadata": {},
   "source": [
    "### w_2ndWon  l_2ndWon\n",
    "\n",
    "winner’s number of second-serve points won\n",
    "\n",
    "Analysis: We have null values, we can correlate these values to understand the statistics of each player"
   ]
  },
  {
   "cell_type": "code",
   "execution_count": 35,
   "id": "291a3222",
   "metadata": {},
   "outputs": [
    {
     "name": "stdout",
     "output_type": "stream",
     "text": [
      "\n",
      "description of:\n",
      "           w_2ndWon      l_2ndWon\n",
      "count  81713.000000  81716.000000\n",
      "mean      14.469326     12.725121\n",
      "std        5.937723      6.324992\n",
      "min        0.000000      0.000000\n",
      "25%       10.000000      8.000000\n",
      "50%       14.000000     12.000000\n",
      "75%       18.000000     16.000000\n",
      "max      304.000000    399.000000\n",
      "null_values: 103805\t   103802\n"
     ]
    }
   ],
   "source": [
    "print(\"\\ndescription of:\" + \"\\n\"+str(df[['w_2ndWon', 'l_2ndWon']].describe()))\n",
    "print(\"null_values: \"+ str(df.w_2ndWon.isnull().sum()) + \"\\t   \"\n",
    "      + str(df.l_2ndWon.isnull().sum())) #103805 | 103802 \n"
   ]
  },
  {
   "cell_type": "markdown",
   "id": "913b16d8",
   "metadata": {},
   "source": [
    "### w_SvGms    l_SvGms\n",
    "\n",
    "winner’s number of serve games\n",
    "\n",
    "Analysis: We have null values, we can correlate these values to understand the statistics of each player"
   ]
  },
  {
   "cell_type": "code",
   "execution_count": 36,
   "id": "62036a39",
   "metadata": {},
   "outputs": [
    {
     "name": "stdout",
     "output_type": "stream",
     "text": [
      "\n",
      "description of:\n",
      "            w_SvGms       l_SvGms\n",
      "count  81715.000000  81722.000000\n",
      "mean      11.120394     10.945253\n",
      "std        3.515910      3.500872\n",
      "min        0.000000      0.000000\n",
      "25%        9.000000      9.000000\n",
      "50%       10.000000     10.000000\n",
      "75%       14.000000     13.000000\n",
      "max       49.000000     50.000000\n",
      "null_values: 103803\t   103796\n"
     ]
    }
   ],
   "source": [
    "print(\"\\ndescription of:\" + \"\\n\"+str(df[['w_SvGms', 'l_SvGms']].describe()))\n",
    "print(\"null_values: \"+ str(df.w_SvGms.isnull().sum()) + \"\\t   \"\n",
    "      + str(df.l_SvGms.isnull().sum())) #103803 | 103796 "
   ]
  },
  {
   "cell_type": "markdown",
   "id": "72c9ae7f",
   "metadata": {},
   "source": [
    "### w_bpSaved   l_bpSaved\n",
    "\n",
    "winner's number of breakpoints saved\n",
    "\n",
    "Analysis: We have null values, we can correlate these values to understand the statistics of each player"
   ]
  },
  {
   "cell_type": "code",
   "execution_count": 37,
   "id": "7307dd45",
   "metadata": {},
   "outputs": [
    {
     "name": "stdout",
     "output_type": "stream",
     "text": [
      "\n",
      "description of:\n",
      "          w_bpSaved     l_bpSaved\n",
      "count  81719.000000  81715.000000\n",
      "mean       3.537268      4.656550\n",
      "std        3.108397      3.147378\n",
      "min        0.000000      0.000000\n",
      "25%        1.000000      2.000000\n",
      "50%        3.000000      4.000000\n",
      "75%        5.000000      6.000000\n",
      "max      209.000000    120.000000\n",
      "null_values: 103799\t   103803\n"
     ]
    }
   ],
   "source": [
    "print(\"\\ndescription of:\" + \"\\n\"+str(df[['w_bpSaved', 'l_bpSaved']].describe()))\n",
    "print(\"null_values: \"+ str(df.w_bpSaved.isnull().sum()) + \"\\t   \"\n",
    "      + str(df.l_bpSaved.isnull().sum())) #103799 | 103803 "
   ]
  },
  {
   "cell_type": "markdown",
   "id": "2b96580f",
   "metadata": {},
   "source": [
    "### w_bpFaced   l_bpFaced\n",
    "\n",
    "winner's number of breakpoints faced\n",
    "\n",
    "Analysis: We have null values, we can correlate these values to understand the statistics of each player"
   ]
  },
  {
   "cell_type": "code",
   "execution_count": 38,
   "id": "4d44cf57",
   "metadata": {},
   "outputs": [
    {
     "name": "stdout",
     "output_type": "stream",
     "text": [
      "\n",
      "description of:\n",
      "          w_bpFaced     l_bpFaced\n",
      "count  81716.000000  81710.000000\n",
      "mean       5.399848      8.857631\n",
      "std        4.202096      3.965962\n",
      "min        0.000000      0.000000\n",
      "25%        2.000000      6.000000\n",
      "50%        5.000000      8.000000\n",
      "75%        8.000000     11.000000\n",
      "max      266.000000    190.000000\n",
      "null_values: 103802\t   103808\n"
     ]
    }
   ],
   "source": [
    "print(\"\\ndescription of:\" + \"\\n\"+str(df[['w_bpFaced', 'l_bpFaced']].describe()))\n",
    "print(\"null_values: \"+ str(df.w_bpFaced.isnull().sum()) + \"\\t   \"\n",
    "      + str(df.l_bpFaced.isnull().sum())) #103802 | 103808 \n",
    "\n",
    "#print(\"unique value:\" + \"\\n\"+str(df.w_bpFaced.unique())) \n",
    "\n",
    "#[  6.   1.   2.   5.   8.   7.   0.   3.   4.   9.  17.  12.  11.  10.\n",
    "#  14.  15.  13.  nan  18.  16.  22.  21.  19.  25.  23.  20.  27.  24.\n",
    "#26.  30.  28.  29.  33. 266.  70.  36. 180.  34.]\n",
    "\n",
    "#print(\"unique value:\" + \"\\n\"+str(df.l_bpFaced.unique())) \n",
    "\n",
    "#[ 15.  13.   5.   6.   4.   9.  11.   3.   2.   7.   8.   1.  18.  10.\n",
    "#  25.  19.  14.  17.  nan  12.   0.  16.  20.  21.  22.  23.  24.  29.\n",
    "#  26.  27.  28.  30.  31.  35. 190. 170.  48.  60. 180.]\n"
   ]
  },
  {
   "cell_type": "markdown",
   "id": "4c246f55",
   "metadata": {},
   "source": [
    "### winner_gender  loser_gender\n",
    "\n",
    "gender of winner and loser\n",
    "\n",
    "Analysis: We had already analyzed this data previously with the data integration part."
   ]
  },
  {
   "cell_type": "code",
   "execution_count": 39,
   "id": "effb088a",
   "metadata": {},
   "outputs": [
    {
     "name": "stdout",
     "output_type": "stream",
     "text": [
      "\n",
      "description of:\n",
      "       winner_gender loser_gender\n",
      "count         182814       183389\n",
      "unique             3            3\n",
      "top                F            F\n",
      "freq          124706       124679\n",
      "null_values: \t2704\t     2129\n",
      "unique value:\n",
      "['M' nan 'F' 'U']\n",
      "unique value:\n",
      "['M' nan 'F' 'U']\n"
     ]
    }
   ],
   "source": [
    "print(\"\\ndescription of:\" + \"\\n\"+str(df[['winner_gender', 'loser_gender']].describe()))\n",
    "print(\"null_values: \\t\"+ str(df.winner_gender.isnull().sum()) + \"\\t     \"\n",
    "      + str(df.loser_gender.isnull().sum())) #2704 | 2129\n",
    "\n",
    "print(\"unique value:\" + \"\\n\"+str(df.winner_gender.unique())) #['M' nan 'F' 'U']\n",
    "print(\"unique value:\" + \"\\n\"+str(df.loser_gender.unique())) #['M' nan 'F' 'U']"
   ]
  },
  {
   "cell_type": "markdown",
   "id": "09f0744a",
   "metadata": {},
   "source": [
    "## Data Statistics and Data Distributions\n",
    "\n",
    "The pandas function describe() is used to obtain basic statistical notions. By specifying the include attribute as 'all' we get statistics both for the numerical and categorical attributes of the dataset.\n",
    "The pandas function memory_usage() returns a Pandas Series having the memory usage of each column (in bytes) in a Pandas DataFrame. By specifying the deep attribute as True, we can get to know the actual space being taken by each column.\n",
    "The pandas function unique() is used to obtain the values of composition. By which we can view NaN, empty values .. from the acceptable ones, where this can help to understand something more.\n",
    "Another observation that we can do, but that is general with viewing the statistics of numerical data is the fact that we have the min and/or max value which are very different from the mean value, and for this we assume to have outliers, for sure.\n",
    "\n",
    "We see that count(winner_name) < count(loser_name) of unique values then this means that the set of winners is smaller than the set of losers. Same consideration is valid also for winner_ioc/loser_ioc attributes."
   ]
  },
  {
   "cell_type": "code",
   "execution_count": 40,
   "id": "1b3d193d",
   "metadata": {},
   "outputs": [
    {
     "name": "stderr",
     "output_type": "stream",
     "text": [
      "/var/folders/q3/n1kzrjss3rlcf4h0671f29640000gn/T/ipykernel_27304/2685586471.py:3: FutureWarning: Treating datetime data as categorical rather than numeric in `.describe` is deprecated and will be removed in a future version of pandas. Specify `datetime_is_numeric=True` to silence this warning and adopt the future behavior now.\n",
      "  df.describe(include='all')#datetime_is_numeric=True) # a summary of statistical informations\n"
     ]
    },
    {
     "data": {
      "text/html": [
       "<div>\n",
       "<style scoped>\n",
       "    .dataframe tbody tr th:only-of-type {\n",
       "        vertical-align: middle;\n",
       "    }\n",
       "\n",
       "    .dataframe tbody tr th {\n",
       "        vertical-align: top;\n",
       "    }\n",
       "\n",
       "    .dataframe thead th {\n",
       "        text-align: right;\n",
       "    }\n",
       "</style>\n",
       "<table border=\"1\" class=\"dataframe\">\n",
       "  <thead>\n",
       "    <tr style=\"text-align: right;\">\n",
       "      <th></th>\n",
       "      <th>tourney_id</th>\n",
       "      <th>tourney_name</th>\n",
       "      <th>surface</th>\n",
       "      <th>draw_size</th>\n",
       "      <th>tourney_level</th>\n",
       "      <th>tourney_date</th>\n",
       "      <th>match_num</th>\n",
       "      <th>winner_id</th>\n",
       "      <th>winner_entry</th>\n",
       "      <th>winner_name</th>\n",
       "      <th>...</th>\n",
       "      <th>l_bpSaved</th>\n",
       "      <th>l_bpFaced</th>\n",
       "      <th>winner_rank</th>\n",
       "      <th>winner_rank_points</th>\n",
       "      <th>loser_rank</th>\n",
       "      <th>loser_rank_points</th>\n",
       "      <th>tourney_spectators</th>\n",
       "      <th>tourney_revenue</th>\n",
       "      <th>winner_gender</th>\n",
       "      <th>loser_gender</th>\n",
       "    </tr>\n",
       "  </thead>\n",
       "  <tbody>\n",
       "    <tr>\n",
       "      <th>count</th>\n",
       "      <td>185463</td>\n",
       "      <td>185493</td>\n",
       "      <td>185330</td>\n",
       "      <td>185489.00</td>\n",
       "      <td>185489</td>\n",
       "      <td>185490</td>\n",
       "      <td>185491.00</td>\n",
       "      <td>185463.00</td>\n",
       "      <td>25795</td>\n",
       "      <td>185491</td>\n",
       "      <td>...</td>\n",
       "      <td>81715.00</td>\n",
       "      <td>81710.00</td>\n",
       "      <td>166123.00</td>\n",
       "      <td>166105.00</td>\n",
       "      <td>150283.00</td>\n",
       "      <td>150266.00</td>\n",
       "      <td>185491.00</td>\n",
       "      <td>185492.00</td>\n",
       "      <td>182814</td>\n",
       "      <td>183389</td>\n",
       "    </tr>\n",
       "    <tr>\n",
       "      <th>unique</th>\n",
       "      <td>4853</td>\n",
       "      <td>2488</td>\n",
       "      <td>4</td>\n",
       "      <td>NaN</td>\n",
       "      <td>19</td>\n",
       "      <td>375</td>\n",
       "      <td>NaN</td>\n",
       "      <td>NaN</td>\n",
       "      <td>15</td>\n",
       "      <td>6179</td>\n",
       "      <td>...</td>\n",
       "      <td>NaN</td>\n",
       "      <td>NaN</td>\n",
       "      <td>NaN</td>\n",
       "      <td>NaN</td>\n",
       "      <td>NaN</td>\n",
       "      <td>NaN</td>\n",
       "      <td>NaN</td>\n",
       "      <td>NaN</td>\n",
       "      <td>3</td>\n",
       "      <td>3</td>\n",
       "    </tr>\n",
       "    <tr>\n",
       "      <th>top</th>\n",
       "      <td>2021-520</td>\n",
       "      <td>W15 Antalya</td>\n",
       "      <td>Hard</td>\n",
       "      <td>NaN</td>\n",
       "      <td>15</td>\n",
       "      <td>2019-08-26 00:00:00</td>\n",
       "      <td>NaN</td>\n",
       "      <td>NaN</td>\n",
       "      <td>Q</td>\n",
       "      <td>Novak Djokovic</td>\n",
       "      <td>...</td>\n",
       "      <td>NaN</td>\n",
       "      <td>NaN</td>\n",
       "      <td>NaN</td>\n",
       "      <td>NaN</td>\n",
       "      <td>NaN</td>\n",
       "      <td>NaN</td>\n",
       "      <td>NaN</td>\n",
       "      <td>NaN</td>\n",
       "      <td>F</td>\n",
       "      <td>F</td>\n",
       "    </tr>\n",
       "    <tr>\n",
       "      <th>freq</th>\n",
       "      <td>478</td>\n",
       "      <td>4634</td>\n",
       "      <td>94695</td>\n",
       "      <td>NaN</td>\n",
       "      <td>45807</td>\n",
       "      <td>1440</td>\n",
       "      <td>NaN</td>\n",
       "      <td>NaN</td>\n",
       "      <td>13575</td>\n",
       "      <td>289</td>\n",
       "      <td>...</td>\n",
       "      <td>NaN</td>\n",
       "      <td>NaN</td>\n",
       "      <td>NaN</td>\n",
       "      <td>NaN</td>\n",
       "      <td>NaN</td>\n",
       "      <td>NaN</td>\n",
       "      <td>NaN</td>\n",
       "      <td>NaN</td>\n",
       "      <td>124706</td>\n",
       "      <td>124679</td>\n",
       "    </tr>\n",
       "    <tr>\n",
       "      <th>first</th>\n",
       "      <td>NaN</td>\n",
       "      <td>NaN</td>\n",
       "      <td>NaN</td>\n",
       "      <td>NaN</td>\n",
       "      <td>NaN</td>\n",
       "      <td>2016-01-04 00:00:00</td>\n",
       "      <td>NaN</td>\n",
       "      <td>NaN</td>\n",
       "      <td>NaN</td>\n",
       "      <td>NaN</td>\n",
       "      <td>...</td>\n",
       "      <td>NaN</td>\n",
       "      <td>NaN</td>\n",
       "      <td>NaN</td>\n",
       "      <td>NaN</td>\n",
       "      <td>NaN</td>\n",
       "      <td>NaN</td>\n",
       "      <td>NaN</td>\n",
       "      <td>NaN</td>\n",
       "      <td>NaN</td>\n",
       "      <td>NaN</td>\n",
       "    </tr>\n",
       "    <tr>\n",
       "      <th>last</th>\n",
       "      <td>NaN</td>\n",
       "      <td>NaN</td>\n",
       "      <td>NaN</td>\n",
       "      <td>NaN</td>\n",
       "      <td>NaN</td>\n",
       "      <td>2021-08-23 00:00:00</td>\n",
       "      <td>NaN</td>\n",
       "      <td>NaN</td>\n",
       "      <td>NaN</td>\n",
       "      <td>NaN</td>\n",
       "      <td>...</td>\n",
       "      <td>NaN</td>\n",
       "      <td>NaN</td>\n",
       "      <td>NaN</td>\n",
       "      <td>NaN</td>\n",
       "      <td>NaN</td>\n",
       "      <td>NaN</td>\n",
       "      <td>NaN</td>\n",
       "      <td>NaN</td>\n",
       "      <td>NaN</td>\n",
       "      <td>NaN</td>\n",
       "    </tr>\n",
       "    <tr>\n",
       "      <th>mean</th>\n",
       "      <td>NaN</td>\n",
       "      <td>NaN</td>\n",
       "      <td>NaN</td>\n",
       "      <td>41.06</td>\n",
       "      <td>NaN</td>\n",
       "      <td>NaN</td>\n",
       "      <td>160.34</td>\n",
       "      <td>180061.10</td>\n",
       "      <td>NaN</td>\n",
       "      <td>NaN</td>\n",
       "      <td>...</td>\n",
       "      <td>4.66</td>\n",
       "      <td>8.86</td>\n",
       "      <td>384.04</td>\n",
       "      <td>471.42</td>\n",
       "      <td>434.26</td>\n",
       "      <td>357.14</td>\n",
       "      <td>4110.74</td>\n",
       "      <td>823055.37</td>\n",
       "      <td>NaN</td>\n",
       "      <td>NaN</td>\n",
       "    </tr>\n",
       "    <tr>\n",
       "      <th>std</th>\n",
       "      <td>NaN</td>\n",
       "      <td>NaN</td>\n",
       "      <td>NaN</td>\n",
       "      <td>25.38</td>\n",
       "      <td>NaN</td>\n",
       "      <td>NaN</td>\n",
       "      <td>289.76</td>\n",
       "      <td>46595.80</td>\n",
       "      <td>NaN</td>\n",
       "      <td>NaN</td>\n",
       "      <td>...</td>\n",
       "      <td>3.15</td>\n",
       "      <td>3.97</td>\n",
       "      <td>314.38</td>\n",
       "      <td>1042.72</td>\n",
       "      <td>356.11</td>\n",
       "      <td>703.78</td>\n",
       "      <td>2710.75</td>\n",
       "      <td>601682.47</td>\n",
       "      <td>NaN</td>\n",
       "      <td>NaN</td>\n",
       "    </tr>\n",
       "    <tr>\n",
       "      <th>min</th>\n",
       "      <td>NaN</td>\n",
       "      <td>NaN</td>\n",
       "      <td>NaN</td>\n",
       "      <td>2.00</td>\n",
       "      <td>NaN</td>\n",
       "      <td>NaN</td>\n",
       "      <td>1.00</td>\n",
       "      <td>100644.00</td>\n",
       "      <td>NaN</td>\n",
       "      <td>NaN</td>\n",
       "      <td>...</td>\n",
       "      <td>0.00</td>\n",
       "      <td>0.00</td>\n",
       "      <td>1.00</td>\n",
       "      <td>1.00</td>\n",
       "      <td>1.00</td>\n",
       "      <td>1.00</td>\n",
       "      <td>91.00</td>\n",
       "      <td>17865.74</td>\n",
       "      <td>NaN</td>\n",
       "      <td>NaN</td>\n",
       "    </tr>\n",
       "    <tr>\n",
       "      <th>25%</th>\n",
       "      <td>NaN</td>\n",
       "      <td>NaN</td>\n",
       "      <td>NaN</td>\n",
       "      <td>32.00</td>\n",
       "      <td>NaN</td>\n",
       "      <td>NaN</td>\n",
       "      <td>17.00</td>\n",
       "      <td>122330.00</td>\n",
       "      <td>NaN</td>\n",
       "      <td>NaN</td>\n",
       "      <td>...</td>\n",
       "      <td>2.00</td>\n",
       "      <td>6.00</td>\n",
       "      <td>136.00</td>\n",
       "      <td>49.00</td>\n",
       "      <td>156.00</td>\n",
       "      <td>35.00</td>\n",
       "      <td>2836.00</td>\n",
       "      <td>547366.24</td>\n",
       "      <td>NaN</td>\n",
       "      <td>NaN</td>\n",
       "    </tr>\n",
       "    <tr>\n",
       "      <th>50%</th>\n",
       "      <td>NaN</td>\n",
       "      <td>NaN</td>\n",
       "      <td>NaN</td>\n",
       "      <td>32.00</td>\n",
       "      <td>NaN</td>\n",
       "      <td>NaN</td>\n",
       "      <td>129.00</td>\n",
       "      <td>203521.00</td>\n",
       "      <td>NaN</td>\n",
       "      <td>NaN</td>\n",
       "      <td>...</td>\n",
       "      <td>4.00</td>\n",
       "      <td>8.00</td>\n",
       "      <td>298.00</td>\n",
       "      <td>161.00</td>\n",
       "      <td>325.00</td>\n",
       "      <td>138.00</td>\n",
       "      <td>3340.00</td>\n",
       "      <td>663176.83</td>\n",
       "      <td>NaN</td>\n",
       "      <td>NaN</td>\n",
       "    </tr>\n",
       "    <tr>\n",
       "      <th>75%</th>\n",
       "      <td>NaN</td>\n",
       "      <td>NaN</td>\n",
       "      <td>NaN</td>\n",
       "      <td>32.00</td>\n",
       "      <td>NaN</td>\n",
       "      <td>NaN</td>\n",
       "      <td>273.00</td>\n",
       "      <td>214158.00</td>\n",
       "      <td>NaN</td>\n",
       "      <td>NaN</td>\n",
       "      <td>...</td>\n",
       "      <td>6.00</td>\n",
       "      <td>11.00</td>\n",
       "      <td>563.00</td>\n",
       "      <td>440.00</td>\n",
       "      <td>642.00</td>\n",
       "      <td>379.00</td>\n",
       "      <td>4008.00</td>\n",
       "      <td>834652.60</td>\n",
       "      <td>NaN</td>\n",
       "      <td>NaN</td>\n",
       "    </tr>\n",
       "    <tr>\n",
       "      <th>max</th>\n",
       "      <td>NaN</td>\n",
       "      <td>NaN</td>\n",
       "      <td>NaN</td>\n",
       "      <td>128.00</td>\n",
       "      <td>NaN</td>\n",
       "      <td>NaN</td>\n",
       "      <td>8312.00</td>\n",
       "      <td>245099.00</td>\n",
       "      <td>NaN</td>\n",
       "      <td>NaN</td>\n",
       "      <td>...</td>\n",
       "      <td>120.00</td>\n",
       "      <td>190.00</td>\n",
       "      <td>2220.00</td>\n",
       "      <td>16950.00</td>\n",
       "      <td>2257.00</td>\n",
       "      <td>16950.00</td>\n",
       "      <td>18086.00</td>\n",
       "      <td>5002793.97</td>\n",
       "      <td>NaN</td>\n",
       "      <td>NaN</td>\n",
       "    </tr>\n",
       "  </tbody>\n",
       "</table>\n",
       "<p>13 rows × 51 columns</p>\n",
       "</div>"
      ],
      "text/plain": [
       "       tourney_id tourney_name surface  draw_size tourney_level  \\\n",
       "count      185463       185493  185330  185489.00        185489   \n",
       "unique       4853         2488       4        NaN            19   \n",
       "top      2021-520  W15 Antalya    Hard        NaN            15   \n",
       "freq          478         4634   94695        NaN         45807   \n",
       "first         NaN          NaN     NaN        NaN           NaN   \n",
       "last          NaN          NaN     NaN        NaN           NaN   \n",
       "mean          NaN          NaN     NaN      41.06           NaN   \n",
       "std           NaN          NaN     NaN      25.38           NaN   \n",
       "min           NaN          NaN     NaN       2.00           NaN   \n",
       "25%           NaN          NaN     NaN      32.00           NaN   \n",
       "50%           NaN          NaN     NaN      32.00           NaN   \n",
       "75%           NaN          NaN     NaN      32.00           NaN   \n",
       "max           NaN          NaN     NaN     128.00           NaN   \n",
       "\n",
       "               tourney_date  match_num  winner_id winner_entry  \\\n",
       "count                185490  185491.00  185463.00        25795   \n",
       "unique                  375        NaN        NaN           15   \n",
       "top     2019-08-26 00:00:00        NaN        NaN            Q   \n",
       "freq                   1440        NaN        NaN        13575   \n",
       "first   2016-01-04 00:00:00        NaN        NaN          NaN   \n",
       "last    2021-08-23 00:00:00        NaN        NaN          NaN   \n",
       "mean                    NaN     160.34  180061.10          NaN   \n",
       "std                     NaN     289.76   46595.80          NaN   \n",
       "min                     NaN       1.00  100644.00          NaN   \n",
       "25%                     NaN      17.00  122330.00          NaN   \n",
       "50%                     NaN     129.00  203521.00          NaN   \n",
       "75%                     NaN     273.00  214158.00          NaN   \n",
       "max                     NaN    8312.00  245099.00          NaN   \n",
       "\n",
       "           winner_name  ... l_bpSaved  l_bpFaced winner_rank  \\\n",
       "count           185491  ...  81715.00   81710.00   166123.00   \n",
       "unique            6179  ...       NaN        NaN         NaN   \n",
       "top     Novak Djokovic  ...       NaN        NaN         NaN   \n",
       "freq               289  ...       NaN        NaN         NaN   \n",
       "first              NaN  ...       NaN        NaN         NaN   \n",
       "last               NaN  ...       NaN        NaN         NaN   \n",
       "mean               NaN  ...      4.66       8.86      384.04   \n",
       "std                NaN  ...      3.15       3.97      314.38   \n",
       "min                NaN  ...      0.00       0.00        1.00   \n",
       "25%                NaN  ...      2.00       6.00      136.00   \n",
       "50%                NaN  ...      4.00       8.00      298.00   \n",
       "75%                NaN  ...      6.00      11.00      563.00   \n",
       "max                NaN  ...    120.00     190.00     2220.00   \n",
       "\n",
       "        winner_rank_points  loser_rank loser_rank_points tourney_spectators  \\\n",
       "count            166105.00   150283.00         150266.00          185491.00   \n",
       "unique                 NaN         NaN               NaN                NaN   \n",
       "top                    NaN         NaN               NaN                NaN   \n",
       "freq                   NaN         NaN               NaN                NaN   \n",
       "first                  NaN         NaN               NaN                NaN   \n",
       "last                   NaN         NaN               NaN                NaN   \n",
       "mean                471.42      434.26            357.14            4110.74   \n",
       "std                1042.72      356.11            703.78            2710.75   \n",
       "min                   1.00        1.00              1.00              91.00   \n",
       "25%                  49.00      156.00             35.00            2836.00   \n",
       "50%                 161.00      325.00            138.00            3340.00   \n",
       "75%                 440.00      642.00            379.00            4008.00   \n",
       "max               16950.00     2257.00          16950.00           18086.00   \n",
       "\n",
       "       tourney_revenue  winner_gender loser_gender  \n",
       "count        185492.00         182814       183389  \n",
       "unique             NaN              3            3  \n",
       "top                NaN              F            F  \n",
       "freq               NaN         124706       124679  \n",
       "first              NaN            NaN          NaN  \n",
       "last               NaN            NaN          NaN  \n",
       "mean         823055.37            NaN          NaN  \n",
       "std          601682.47            NaN          NaN  \n",
       "min           17865.74            NaN          NaN  \n",
       "25%          547366.24            NaN          NaN  \n",
       "50%          663176.83            NaN          NaN  \n",
       "75%          834652.60            NaN          NaN  \n",
       "max         5002793.97            NaN          NaN  \n",
       "\n",
       "[13 rows x 51 columns]"
      ]
     },
     "execution_count": 40,
     "metadata": {},
     "output_type": "execute_result"
    }
   ],
   "source": [
    "pd.options.display.float_format = '{:.2f}'.format # to visualize data through a table\n",
    "\n",
    "df.describe(include='all')#datetime_is_numeric=True) # a summary of statistical informations"
   ]
  },
  {
   "cell_type": "code",
   "execution_count": 41,
   "id": "379f6abd",
   "metadata": {},
   "outputs": [
    {
     "data": {
      "text/plain": [
       "Index                  5711256\n",
       "tourney_id            13733600\n",
       "tourney_name          12863133\n",
       "surface               11323852\n",
       "draw_size              1484144\n",
       "tourney_level         10864129\n",
       "tourney_date           1484144\n",
       "match_num              1484144\n",
       "winner_id              1484144\n",
       "winner_entry           6620394\n",
       "winner_name           13331745\n",
       "winner_hand           10758848\n",
       "winner_ht              1484144\n",
       "winner_ioc            11130268\n",
       "winner_age             1484144\n",
       "loser_id               1484144\n",
       "loser_entry            7106573\n",
       "loser_name            13327946\n",
       "loser_hand            10757496\n",
       "loser_ht               1484144\n",
       "loser_ioc             11130352\n",
       "loser_age              1484144\n",
       "score                 12261804\n",
       "best_of                1484144\n",
       "round                 11050541\n",
       "minutes                1484144\n",
       "w_ace                  1484144\n",
       "w_df                   1484144\n",
       "w_svpt                 1484144\n",
       "w_1stIn                1484144\n",
       "w_1stWon               1484144\n",
       "w_2ndWon               1484144\n",
       "w_SvGms                1484144\n",
       "w_bpSaved              1484144\n",
       "w_bpFaced              1484144\n",
       "l_ace                  1484144\n",
       "l_df                   1484144\n",
       "l_svpt                 1484144\n",
       "l_1stIn                1484144\n",
       "l_1stWon               1484144\n",
       "l_2ndWon               1484144\n",
       "l_SvGms                1484144\n",
       "l_bpSaved              1484144\n",
       "l_bpFaced              1484144\n",
       "winner_rank            1484144\n",
       "winner_rank_points     1484144\n",
       "loser_rank             1484144\n",
       "loser_rank_points      1484144\n",
       "tourney_spectators     1484144\n",
       "tourney_revenue        1484144\n",
       "winner_gender         10689740\n",
       "loser_gender          10704690\n",
       "dtype: int64"
      ]
     },
     "execution_count": 41,
     "metadata": {},
     "output_type": "execute_result"
    }
   ],
   "source": [
    "df.memory_usage(deep=True)"
   ]
  },
  {
   "cell_type": "markdown",
   "id": "196727df",
   "metadata": {},
   "source": [
    "### Tourney\n",
    "\n",
    "Analysis: tourney_level is an attribute that depends on the gender of the player, so we have to underline their relations. By the graph we conclude that there are some errors due to the 'U' gender that have to be fixed and are treated better in the 'handling of missing values' part. The good thing is that, as we can see, the majority of the matches have been played only between the same gender and so a consideration to be done is that of considering the 'U' value the same of the other member of the couple in which it appears; if the other value is 'M' and there is a 'U' then that 'U' has to be transformed in 'M', and vice versa. Considering also the fact that the tourney_level can be applied to that gender, otherwise also the known value has to be exchanged. Also by the graph we can see the distribution of levels according the gender of the players, and so i.e. the 'C' between the man."
   ]
  },
  {
   "cell_type": "code",
   "execution_count": 42,
   "id": "81a3f208",
   "metadata": {},
   "outputs": [
    {
     "data": {
      "text/plain": [
       "<AxesSubplot:title={'center':'Distribution of tourney_level values according to the gender of the player'}, xlabel='winner_gender,loser_gender'>"
      ]
     },
     "execution_count": 42,
     "metadata": {},
     "output_type": "execute_result"
    },
    {
     "data": {
      "image/png": "[encoded data removed]",
      "text/plain": [
       "<Figure size 1440x720 with 1 Axes>"
      ]
     },
     "metadata": {
      "needs_background": "light"
     },
     "output_type": "display_data"
    }
   ],
   "source": [
    "lf = df.groupby(['winner_gender', 'loser_gender', 'tourney_level']).size()\n",
    "lf = lf.unstack()\n",
    "lf.plot(\n",
    "    figsize=(20, 10), \n",
    "    title=\"Distribution of tourney_level values according to the gender of the player\", \n",
    "    #xlabel=\"Gender of the winner and loser player\",\n",
    "    #ylabel=\"Counting\",\n",
    "    kind='bar')"
   ]
  },
  {
   "cell_type": "markdown",
   "id": "06024fe5",
   "metadata": {},
   "source": [
    "We see the distribution of tourney_spectators and tourney_revenue and notice that they have a quite similar behavior. we could treat usefully these data by supposing for instance, an approximation of the cost of a ticket through the division of the avg revenue with the avg number of spectators"
   ]
  },
  {
   "cell_type": "code",
   "execution_count": 43,
   "id": "0949b916",
   "metadata": {},
   "outputs": [
    {
     "data": {
      "text/html": [
       "<div>\n",
       "<style scoped>\n",
       "    .dataframe tbody tr th:only-of-type {\n",
       "        vertical-align: middle;\n",
       "    }\n",
       "\n",
       "    .dataframe tbody tr th {\n",
       "        vertical-align: top;\n",
       "    }\n",
       "\n",
       "    .dataframe thead th {\n",
       "        text-align: right;\n",
       "    }\n",
       "</style>\n",
       "<table border=\"1\" class=\"dataframe\">\n",
       "  <thead>\n",
       "    <tr style=\"text-align: right;\">\n",
       "      <th></th>\n",
       "      <th>tourney_spectators</th>\n",
       "      <th>tourney_revenue</th>\n",
       "    </tr>\n",
       "  </thead>\n",
       "  <tbody>\n",
       "    <tr>\n",
       "      <th>count</th>\n",
       "      <td>185491.00</td>\n",
       "      <td>185492.00</td>\n",
       "    </tr>\n",
       "    <tr>\n",
       "      <th>mean</th>\n",
       "      <td>4110.74</td>\n",
       "      <td>823055.37</td>\n",
       "    </tr>\n",
       "    <tr>\n",
       "      <th>std</th>\n",
       "      <td>2710.75</td>\n",
       "      <td>601682.47</td>\n",
       "    </tr>\n",
       "    <tr>\n",
       "      <th>min</th>\n",
       "      <td>91.00</td>\n",
       "      <td>17865.74</td>\n",
       "    </tr>\n",
       "    <tr>\n",
       "      <th>25%</th>\n",
       "      <td>2836.00</td>\n",
       "      <td>547366.24</td>\n",
       "    </tr>\n",
       "    <tr>\n",
       "      <th>50%</th>\n",
       "      <td>3340.00</td>\n",
       "      <td>663176.83</td>\n",
       "    </tr>\n",
       "    <tr>\n",
       "      <th>75%</th>\n",
       "      <td>4008.00</td>\n",
       "      <td>834652.60</td>\n",
       "    </tr>\n",
       "    <tr>\n",
       "      <th>max</th>\n",
       "      <td>18086.00</td>\n",
       "      <td>5002793.97</td>\n",
       "    </tr>\n",
       "  </tbody>\n",
       "</table>\n",
       "</div>"
      ],
      "text/plain": [
       "       tourney_spectators  tourney_revenue\n",
       "count           185491.00        185492.00\n",
       "mean              4110.74        823055.37\n",
       "std               2710.75        601682.47\n",
       "min                 91.00         17865.74\n",
       "25%               2836.00        547366.24\n",
       "50%               3340.00        663176.83\n",
       "75%               4008.00        834652.60\n",
       "max              18086.00       5002793.97"
      ]
     },
     "execution_count": 43,
     "metadata": {},
     "output_type": "execute_result"
    }
   ],
   "source": [
    "df[['tourney_spectators', 'tourney_revenue']].describe()"
   ]
  },
  {
   "cell_type": "code",
   "execution_count": 44,
   "id": "a83c7703",
   "metadata": {},
   "outputs": [
    {
     "data": {
      "image/png": "[encoded data removed]",
      "text/plain": [
       "<Figure size 432x288 with 2 Axes>"
      ]
     },
     "metadata": {
      "needs_background": "light"
     },
     "output_type": "display_data"
    }
   ],
   "source": [
    "dl = pd.DataFrame({ 'tourney_spectators': df['tourney_spectators'], 'tourney_revenue': df['tourney_revenue']}, index=[0, 20000, 40000, 60000, 80000, 100000, 120000])\n",
    "lines = dl.plot.line(subplots=True)"
   ]
  },
  {
   "cell_type": "code",
   "execution_count": 45,
   "id": "b4234f44",
   "metadata": {},
   "outputs": [
    {
     "data": {
      "text/plain": [
       "200.2207856863259"
      ]
     },
     "execution_count": 45,
     "metadata": {},
     "output_type": "execute_result"
    }
   ],
   "source": [
    "df.tourney_revenue.mean() / df.tourney_spectators.mean()"
   ]
  },
  {
   "cell_type": "markdown",
   "id": "d1c71944",
   "metadata": {},
   "source": [
    "## Matches\n",
    "\n",
    "We see more deeply on surface since has few different values. To understand which type of surfaces has been used in the matches we put it in relations the years of the tourney_date values. Thanks to the visualization of their distribution we can conclude that they follow the same increasing way instead for the last year, denoted by 2021, there is an inversion of the 'Clay' with the 'Hard' surface type.\n"
   ]
  },
  {
   "cell_type": "code",
   "execution_count": 46,
   "id": "24433020",
   "metadata": {},
   "outputs": [
    {
     "data": {
      "text/plain": [
       "<AxesSubplot:title={'center':'Distribution of the surface values according to the years of the tourney_date values'}>"
      ]
     },
     "execution_count": 46,
     "metadata": {},
     "output_type": "execute_result"
    },
    {
     "data": {
      "image/png": "[encoded data removed]",
      "text/plain": [
       "<Figure size 1440x720 with 1 Axes>"
      ]
     },
     "metadata": {
      "needs_background": "light"
     },
     "output_type": "display_data"
    }
   ],
   "source": [
    "\n",
    "lf = df.groupby([ [x.year for x in df.tourney_date], 'surface']).size()\n",
    "lf = lf.unstack()\n",
    "lf.plot(\n",
    "    figsize=(20, 10), \n",
    "    title=\"Distribution of the surface values according to the years of the tourney_date values\", \n",
    "    kind='bar')"
   ]
  },
  {
   "cell_type": "markdown",
   "id": "365d8f62",
   "metadata": {},
   "source": [
    "According to the distribution of the matches through the months and the years we can note that they follow the same structure for the first 4 years, while for the last 2 they have more missing values. In those years we can say that July was the month with more matches played."
   ]
  },
  {
   "cell_type": "code",
   "execution_count": 47,
   "id": "8abc6aab",
   "metadata": {},
   "outputs": [
    {
     "data": {
      "text/plain": [
       "<AxesSubplot:title={'center':'Distribution of the matches according the months of the years'}>"
      ]
     },
     "execution_count": 47,
     "metadata": {},
     "output_type": "execute_result"
    },
    {
     "data": {
      "image/png": "[encoded data removed]",
      "text/plain": [
       "<Figure size 1440x720 with 1 Axes>"
      ]
     },
     "metadata": {
      "needs_background": "light"
     },
     "output_type": "display_data"
    }
   ],
   "source": [
    "lf = df.groupby([ [x.year for x in df.tourney_date], [x.month for x in df.tourney_date]]).size()\n",
    "lf = lf.unstack()\n",
    "lf.plot(\n",
    "    figsize=(20, 10), \n",
    "    title=\"Distribution of the matches according the months of the years\", \n",
    "    kind='bar')"
   ]
  },
  {
   "cell_type": "markdown",
   "id": "26583ae1",
   "metadata": {},
   "source": [
    "According to the distribution of the matches duration along the years, we note that there are a lot of matches played with less than 1 hour, 1 hour and some of 2 hours. THe bad thing is that there are also a lot of NaN values, this means that that data was not available for those matches and have to be treated in some way in the 'handling the missing values' part."
   ]
  },
  {
   "cell_type": "code",
   "execution_count": 48,
   "id": "64d79ebb",
   "metadata": {},
   "outputs": [
    {
     "data": {
      "text/plain": [
       "<AxesSubplot:title={'center':'Distribution of the duration of the matches during the years'}>"
      ]
     },
     "execution_count": 48,
     "metadata": {},
     "output_type": "execute_result"
    },
    {
     "data": {
      "image/png": "[encoded data removed]",
      "text/plain": [
       "<Figure size 1440x720 with 1 Axes>"
      ]
     },
     "metadata": {
      "needs_background": "light"
     },
     "output_type": "display_data"
    }
   ],
   "source": [
    "minutes = df['minutes']\n",
    "minutes = pd.to_numeric(minutes, errors='coerce') #for removing all non-numeric values use to_numeric with parameter errors='coerce' - to replace non-numeric values to NaNs\n",
    "minutes = minutes.fillna(-1)\n",
    "minutes = minutes.astype(int) #Last convert values to ints:\n",
    "\n",
    "lf = df.groupby([ [x.year for x in df.tourney_date], [ int( x // 60) for x in minutes]]).size()\n",
    "lf = lf.unstack()\n",
    "lf.plot(\n",
    "    figsize=(20, 10), \n",
    "    title=\"Distribution of the duration of the matches during the years\", \n",
    "    kind='box')"
   ]
  },
  {
   "cell_type": "markdown",
   "id": "3135add5",
   "metadata": {},
   "source": [
    "We note that the majority of the best_of attribute is the same for all the years, and so we could souppose for the missing values that will take the most used value too, which is the 3."
   ]
  },
  {
   "cell_type": "code",
   "execution_count": 49,
   "id": "1ac0a4a0",
   "metadata": {},
   "outputs": [
    {
     "data": {
      "text/plain": [
       "<AxesSubplot:title={'center':'Distribution of best_of matches during the years'}>"
      ]
     },
     "execution_count": 49,
     "metadata": {},
     "output_type": "execute_result"
    },
    {
     "data": {
      "image/png": "[encoded data removed]",
      "text/plain": [
       "<Figure size 432x288 with 1 Axes>"
      ]
     },
     "metadata": {
      "needs_background": "light"
     },
     "output_type": "display_data"
    }
   ],
   "source": [
    "lf = df.groupby([ [x.year for x in df.tourney_date], 'best_of']).size()\n",
    "lf = lf.unstack()\n",
    "lf.plot(\n",
    "    title=\"Distribution of best_of matches during the years\", \n",
    "    kind='box')"
   ]
  },
  {
   "cell_type": "markdown",
   "id": "870991c4",
   "metadata": {},
   "source": [
    "We see that there are some previous consideration then this means that there are same countries that are never qualified between the winners Moreover, by seeing their distribution graph we note they are similar."
   ]
  },
  {
   "cell_type": "code",
   "execution_count": 50,
   "id": "35706c4d",
   "metadata": {},
   "outputs": [
    {
     "data": {
      "text/plain": [
       "<AxesSubplot:title={'center':'Distribution of winner_ioc'}, xlabel='winner_ioc'>"
      ]
     },
     "execution_count": 50,
     "metadata": {},
     "output_type": "execute_result"
    },
    {
     "data": {
      "image/png": "[encoded data removed]",
      "text/plain": [
       "<Figure size 2880x720 with 1 Axes>"
      ]
     },
     "metadata": {
      "needs_background": "light"
     },
     "output_type": "display_data"
    }
   ],
   "source": [
    "lf = df.groupby([ df.winner_ioc]).size()\n",
    "lf.plot(\n",
    "    figsize=(40, 10), \n",
    "    title=\"Distribution of winner_ioc\", \n",
    "    kind='bar')"
   ]
  },
  {
   "cell_type": "code",
   "execution_count": 51,
   "id": "ffcade20",
   "metadata": {},
   "outputs": [
    {
     "data": {
      "text/plain": [
       "<AxesSubplot:title={'center':'Distribution of loser_ioc'}, xlabel='loser_ioc'>"
      ]
     },
     "execution_count": 51,
     "metadata": {},
     "output_type": "execute_result"
    },
    {
     "data": {
      "image/png": "[encoded data removed]",
      "text/plain": [
       "<Figure size 2880x720 with 1 Axes>"
      ]
     },
     "metadata": {
      "needs_background": "light"
     },
     "output_type": "display_data"
    }
   ],
   "source": [
    "lf = df.groupby([ df.loser_ioc]).size()\n",
    "lf.plot(\n",
    "    figsize=(40, 10), \n",
    "    title=\"Distribution of loser_ioc\", \n",
    "    kind='bar')"
   ]
  },
  {
   "cell_type": "markdown",
   "id": "bcfe24f6",
   "metadata": {},
   "source": [
    "We expected that the following attributes behave in the same way, they have 3 different values. Moreover, by their distribution graph we note that the majority of the players user the R hand, both the men and women players."
   ]
  },
  {
   "cell_type": "code",
   "execution_count": 52,
   "id": "13833758",
   "metadata": {},
   "outputs": [
    {
     "data": {
      "text/plain": [
       "<AxesSubplot:title={'center':'Distribution of the hand used on matches and their gender'}, xlabel='winner_hand,loser_hand,winner_gender'>"
      ]
     },
     "execution_count": 52,
     "metadata": {},
     "output_type": "execute_result"
    },
    {
     "data": {
      "image/png": "[encoded data removed]",
      "text/plain": [
       "<Figure size 432x288 with 1 Axes>"
      ]
     },
     "metadata": {
      "needs_background": "light"
     },
     "output_type": "display_data"
    }
   ],
   "source": [
    "lf = df.groupby([ 'winner_hand', 'loser_hand', 'winner_gender', 'loser_gender']).size()\n",
    "lf = lf.unstack()\n",
    "lf.plot(\n",
    "    title=\"Distribution of the hand used on matches and their gender\", \n",
    "    kind='bar')"
   ]
  },
  {
   "cell_type": "markdown",
   "id": "6518f3ca",
   "metadata": {},
   "source": [
    "By visualizing the distribution of winner_entry/loser_entry we note that some are present only with the losers and vice versa, some are present only with the winners. \n",
    "NOTA ?: There is some relation with the ranking of the player to discover"
   ]
  },
  {
   "cell_type": "code",
   "execution_count": 53,
   "id": "a2d04089",
   "metadata": {},
   "outputs": [
    {
     "data": {
      "text/plain": [
       "<AxesSubplot:title={'center':'Distribution of winner_entry'}, xlabel='winner_entry'>"
      ]
     },
     "execution_count": 53,
     "metadata": {},
     "output_type": "execute_result"
    },
    {
     "data": {
      "image/png": "[encoded data removed]",
      "text/plain": [
       "<Figure size 432x288 with 1 Axes>"
      ]
     },
     "metadata": {
      "needs_background": "light"
     },
     "output_type": "display_data"
    }
   ],
   "source": [
    "lf = df.groupby([ 'winner_entry']).size()\n",
    "lf.plot(\n",
    "    title=\"Distribution of winner_entry\",\n",
    "    kind='bar')"
   ]
  },
  {
   "cell_type": "code",
   "execution_count": 54,
   "id": "8f125865",
   "metadata": {},
   "outputs": [
    {
     "data": {
      "text/plain": [
       "<AxesSubplot:title={'center':'Distribution of loser_entry'}, xlabel='loser_entry'>"
      ]
     },
     "execution_count": 54,
     "metadata": {},
     "output_type": "execute_result"
    },
    {
     "data": {
      "image/png": "[encoded data removed]",
      "text/plain": [
       "<Figure size 432x288 with 1 Axes>"
      ]
     },
     "metadata": {
      "needs_background": "light"
     },
     "output_type": "display_data"
    }
   ],
   "source": [
    "rf = df.groupby([ 'loser_entry']).size()\n",
    "rf.plot(\n",
    "    title=\"Distribution of loser_entry\",\n",
    "    kind='bar')"
   ]
  },
  {
   "cell_type": "markdown",
   "id": "16c88bbe",
   "metadata": {},
   "source": [
    "### Players\n",
    "\n",
    "We represent different attributes by grouping them according to the relation of similarity of their meaning. So for instance, some that are specific of a player and some other that are specific of how a match was valued. They have to be treated again later with considerations specific of the preparation data phase."
   ]
  },
  {
   "cell_type": "code",
   "execution_count": 55,
   "id": "7dee2dbf",
   "metadata": {},
   "outputs": [
    {
     "data": {
      "text/html": [
       "<div>\n",
       "<style scoped>\n",
       "    .dataframe tbody tr th:only-of-type {\n",
       "        vertical-align: middle;\n",
       "    }\n",
       "\n",
       "    .dataframe tbody tr th {\n",
       "        vertical-align: top;\n",
       "    }\n",
       "\n",
       "    .dataframe thead th {\n",
       "        text-align: right;\n",
       "    }\n",
       "</style>\n",
       "<table border=\"1\" class=\"dataframe\">\n",
       "  <thead>\n",
       "    <tr style=\"text-align: right;\">\n",
       "      <th></th>\n",
       "      <th>winner_id</th>\n",
       "      <th>loser_id</th>\n",
       "      <th>winner_ht</th>\n",
       "      <th>loser_ht</th>\n",
       "      <th>winner_age</th>\n",
       "      <th>loser_age</th>\n",
       "      <th>winner_rank</th>\n",
       "      <th>loser_rank</th>\n",
       "      <th>winner_rank_points</th>\n",
       "      <th>loser_rank_points</th>\n",
       "    </tr>\n",
       "  </thead>\n",
       "  <tbody>\n",
       "    <tr>\n",
       "      <th>count</th>\n",
       "      <td>185463.00</td>\n",
       "      <td>185490.00</td>\n",
       "      <td>49265.00</td>\n",
       "      <td>38312.00</td>\n",
       "      <td>182665.00</td>\n",
       "      <td>178982.00</td>\n",
       "      <td>166123.00</td>\n",
       "      <td>150283.00</td>\n",
       "      <td>166105.00</td>\n",
       "      <td>150266.00</td>\n",
       "    </tr>\n",
       "    <tr>\n",
       "      <th>mean</th>\n",
       "      <td>180061.10</td>\n",
       "      <td>181573.93</td>\n",
       "      <td>181.42</td>\n",
       "      <td>181.57</td>\n",
       "      <td>23.96</td>\n",
       "      <td>23.76</td>\n",
       "      <td>384.04</td>\n",
       "      <td>434.26</td>\n",
       "      <td>471.42</td>\n",
       "      <td>357.14</td>\n",
       "    </tr>\n",
       "    <tr>\n",
       "      <th>std</th>\n",
       "      <td>46595.80</td>\n",
       "      <td>46668.02</td>\n",
       "      <td>11.63</td>\n",
       "      <td>10.82</td>\n",
       "      <td>4.46</td>\n",
       "      <td>4.63</td>\n",
       "      <td>314.38</td>\n",
       "      <td>356.11</td>\n",
       "      <td>1042.72</td>\n",
       "      <td>703.78</td>\n",
       "    </tr>\n",
       "    <tr>\n",
       "      <th>min</th>\n",
       "      <td>100644.00</td>\n",
       "      <td>100644.00</td>\n",
       "      <td>2.00</td>\n",
       "      <td>2.00</td>\n",
       "      <td>14.04</td>\n",
       "      <td>14.01</td>\n",
       "      <td>1.00</td>\n",
       "      <td>1.00</td>\n",
       "      <td>1.00</td>\n",
       "      <td>1.00</td>\n",
       "    </tr>\n",
       "    <tr>\n",
       "      <th>25%</th>\n",
       "      <td>122330.00</td>\n",
       "      <td>124045.00</td>\n",
       "      <td>175.00</td>\n",
       "      <td>175.00</td>\n",
       "      <td>20.49</td>\n",
       "      <td>20.13</td>\n",
       "      <td>136.00</td>\n",
       "      <td>156.00</td>\n",
       "      <td>49.00</td>\n",
       "      <td>35.00</td>\n",
       "    </tr>\n",
       "    <tr>\n",
       "      <th>50%</th>\n",
       "      <td>203521.00</td>\n",
       "      <td>205796.00</td>\n",
       "      <td>183.00</td>\n",
       "      <td>183.00</td>\n",
       "      <td>23.45</td>\n",
       "      <td>23.23</td>\n",
       "      <td>298.00</td>\n",
       "      <td>325.00</td>\n",
       "      <td>161.00</td>\n",
       "      <td>138.00</td>\n",
       "    </tr>\n",
       "    <tr>\n",
       "      <th>75%</th>\n",
       "      <td>214158.00</td>\n",
       "      <td>214821.00</td>\n",
       "      <td>188.00</td>\n",
       "      <td>188.00</td>\n",
       "      <td>26.87</td>\n",
       "      <td>26.77</td>\n",
       "      <td>563.00</td>\n",
       "      <td>642.00</td>\n",
       "      <td>440.00</td>\n",
       "      <td>379.00</td>\n",
       "    </tr>\n",
       "    <tr>\n",
       "      <th>max</th>\n",
       "      <td>245099.00</td>\n",
       "      <td>245099.00</td>\n",
       "      <td>211.00</td>\n",
       "      <td>211.00</td>\n",
       "      <td>95.00</td>\n",
       "      <td>74.49</td>\n",
       "      <td>2220.00</td>\n",
       "      <td>2257.00</td>\n",
       "      <td>16950.00</td>\n",
       "      <td>16950.00</td>\n",
       "    </tr>\n",
       "  </tbody>\n",
       "</table>\n",
       "</div>"
      ],
      "text/plain": [
       "       winner_id  loser_id  winner_ht  loser_ht  winner_age  loser_age  \\\n",
       "count  185463.00 185490.00   49265.00  38312.00   182665.00  178982.00   \n",
       "mean   180061.10 181573.93     181.42    181.57       23.96      23.76   \n",
       "std     46595.80  46668.02      11.63     10.82        4.46       4.63   \n",
       "min    100644.00 100644.00       2.00      2.00       14.04      14.01   \n",
       "25%    122330.00 124045.00     175.00    175.00       20.49      20.13   \n",
       "50%    203521.00 205796.00     183.00    183.00       23.45      23.23   \n",
       "75%    214158.00 214821.00     188.00    188.00       26.87      26.77   \n",
       "max    245099.00 245099.00     211.00    211.00       95.00      74.49   \n",
       "\n",
       "       winner_rank  loser_rank  winner_rank_points  loser_rank_points  \n",
       "count    166123.00   150283.00           166105.00          150266.00  \n",
       "mean        384.04      434.26              471.42             357.14  \n",
       "std         314.38      356.11             1042.72             703.78  \n",
       "min           1.00        1.00                1.00               1.00  \n",
       "25%         136.00      156.00               49.00              35.00  \n",
       "50%         298.00      325.00              161.00             138.00  \n",
       "75%         563.00      642.00              440.00             379.00  \n",
       "max        2220.00     2257.00            16950.00           16950.00  "
      ]
     },
     "execution_count": 55,
     "metadata": {},
     "output_type": "execute_result"
    }
   ],
   "source": [
    "df[['winner_id', 'loser_id', 'winner_ht', 'loser_ht', 'winner_age', 'loser_age', 'winner_rank', 'loser_rank', 'winner_rank_points', 'loser_rank_points']].describe()"
   ]
  },
  {
   "cell_type": "code",
   "execution_count": 56,
   "id": "4043f23c",
   "metadata": {
    "scrolled": true
   },
   "outputs": [
    {
     "data": {
      "text/html": [
       "<div>\n",
       "<style scoped>\n",
       "    .dataframe tbody tr th:only-of-type {\n",
       "        vertical-align: middle;\n",
       "    }\n",
       "\n",
       "    .dataframe tbody tr th {\n",
       "        vertical-align: top;\n",
       "    }\n",
       "\n",
       "    .dataframe thead th {\n",
       "        text-align: right;\n",
       "    }\n",
       "</style>\n",
       "<table border=\"1\" class=\"dataframe\">\n",
       "  <thead>\n",
       "    <tr style=\"text-align: right;\">\n",
       "      <th></th>\n",
       "      <th>w_svpt</th>\n",
       "      <th>l_svpt</th>\n",
       "      <th>w_1stIn</th>\n",
       "      <th>l_1stIn</th>\n",
       "      <th>w_1stWon</th>\n",
       "      <th>l_1stWon</th>\n",
       "      <th>w_2ndWon</th>\n",
       "      <th>l_2ndWon</th>\n",
       "      <th>w_SvGms</th>\n",
       "      <th>l_SvGms</th>\n",
       "      <th>w_bpSaved</th>\n",
       "      <th>l_bpSaved</th>\n",
       "      <th>w_bpFaced</th>\n",
       "      <th>l_bpFaced</th>\n",
       "      <th>w_ace</th>\n",
       "      <th>l_ace</th>\n",
       "      <th>w_df</th>\n",
       "      <th>l_df</th>\n",
       "    </tr>\n",
       "  </thead>\n",
       "  <tbody>\n",
       "    <tr>\n",
       "      <th>count</th>\n",
       "      <td>81714.00</td>\n",
       "      <td>81719.00</td>\n",
       "      <td>81714.00</td>\n",
       "      <td>81708.00</td>\n",
       "      <td>81716.00</td>\n",
       "      <td>81715.00</td>\n",
       "      <td>81713.00</td>\n",
       "      <td>81716.00</td>\n",
       "      <td>81715.00</td>\n",
       "      <td>81722.00</td>\n",
       "      <td>81719.00</td>\n",
       "      <td>81715.00</td>\n",
       "      <td>81716.00</td>\n",
       "      <td>81710.00</td>\n",
       "      <td>81714.00</td>\n",
       "      <td>81717.00</td>\n",
       "      <td>81716.00</td>\n",
       "      <td>81723.00</td>\n",
       "    </tr>\n",
       "    <tr>\n",
       "      <th>mean</th>\n",
       "      <td>71.31</td>\n",
       "      <td>73.59</td>\n",
       "      <td>44.28</td>\n",
       "      <td>44.57</td>\n",
       "      <td>32.16</td>\n",
       "      <td>28.06</td>\n",
       "      <td>14.47</td>\n",
       "      <td>12.73</td>\n",
       "      <td>11.12</td>\n",
       "      <td>10.95</td>\n",
       "      <td>3.54</td>\n",
       "      <td>4.66</td>\n",
       "      <td>5.40</td>\n",
       "      <td>8.86</td>\n",
       "      <td>4.83</td>\n",
       "      <td>3.54</td>\n",
       "      <td>2.85</td>\n",
       "      <td>3.61</td>\n",
       "    </tr>\n",
       "    <tr>\n",
       "      <th>std</th>\n",
       "      <td>25.54</td>\n",
       "      <td>25.00</td>\n",
       "      <td>16.95</td>\n",
       "      <td>16.78</td>\n",
       "      <td>11.42</td>\n",
       "      <td>12.28</td>\n",
       "      <td>5.94</td>\n",
       "      <td>6.32</td>\n",
       "      <td>3.52</td>\n",
       "      <td>3.50</td>\n",
       "      <td>3.11</td>\n",
       "      <td>3.15</td>\n",
       "      <td>4.20</td>\n",
       "      <td>3.97</td>\n",
       "      <td>4.39</td>\n",
       "      <td>3.83</td>\n",
       "      <td>2.42</td>\n",
       "      <td>2.61</td>\n",
       "    </tr>\n",
       "    <tr>\n",
       "      <th>min</th>\n",
       "      <td>0.00</td>\n",
       "      <td>0.00</td>\n",
       "      <td>0.00</td>\n",
       "      <td>0.00</td>\n",
       "      <td>0.00</td>\n",
       "      <td>0.00</td>\n",
       "      <td>0.00</td>\n",
       "      <td>0.00</td>\n",
       "      <td>0.00</td>\n",
       "      <td>0.00</td>\n",
       "      <td>0.00</td>\n",
       "      <td>0.00</td>\n",
       "      <td>0.00</td>\n",
       "      <td>0.00</td>\n",
       "      <td>0.00</td>\n",
       "      <td>0.00</td>\n",
       "      <td>0.00</td>\n",
       "      <td>0.00</td>\n",
       "    </tr>\n",
       "    <tr>\n",
       "      <th>25%</th>\n",
       "      <td>53.00</td>\n",
       "      <td>56.00</td>\n",
       "      <td>33.00</td>\n",
       "      <td>33.00</td>\n",
       "      <td>24.00</td>\n",
       "      <td>19.00</td>\n",
       "      <td>10.00</td>\n",
       "      <td>8.00</td>\n",
       "      <td>9.00</td>\n",
       "      <td>9.00</td>\n",
       "      <td>1.00</td>\n",
       "      <td>2.00</td>\n",
       "      <td>2.00</td>\n",
       "      <td>6.00</td>\n",
       "      <td>2.00</td>\n",
       "      <td>1.00</td>\n",
       "      <td>1.00</td>\n",
       "      <td>2.00</td>\n",
       "    </tr>\n",
       "    <tr>\n",
       "      <th>50%</th>\n",
       "      <td>67.00</td>\n",
       "      <td>70.00</td>\n",
       "      <td>42.00</td>\n",
       "      <td>42.00</td>\n",
       "      <td>30.00</td>\n",
       "      <td>26.00</td>\n",
       "      <td>14.00</td>\n",
       "      <td>12.00</td>\n",
       "      <td>10.00</td>\n",
       "      <td>10.00</td>\n",
       "      <td>3.00</td>\n",
       "      <td>4.00</td>\n",
       "      <td>5.00</td>\n",
       "      <td>8.00</td>\n",
       "      <td>4.00</td>\n",
       "      <td>2.00</td>\n",
       "      <td>2.00</td>\n",
       "      <td>3.00</td>\n",
       "    </tr>\n",
       "    <tr>\n",
       "      <th>75%</th>\n",
       "      <td>87.00</td>\n",
       "      <td>88.00</td>\n",
       "      <td>54.00</td>\n",
       "      <td>54.00</td>\n",
       "      <td>38.00</td>\n",
       "      <td>35.00</td>\n",
       "      <td>18.00</td>\n",
       "      <td>16.00</td>\n",
       "      <td>14.00</td>\n",
       "      <td>13.00</td>\n",
       "      <td>5.00</td>\n",
       "      <td>6.00</td>\n",
       "      <td>8.00</td>\n",
       "      <td>11.00</td>\n",
       "      <td>7.00</td>\n",
       "      <td>5.00</td>\n",
       "      <td>4.00</td>\n",
       "      <td>5.00</td>\n",
       "    </tr>\n",
       "    <tr>\n",
       "      <th>max</th>\n",
       "      <td>1957.00</td>\n",
       "      <td>1672.00</td>\n",
       "      <td>1330.00</td>\n",
       "      <td>893.00</td>\n",
       "      <td>836.00</td>\n",
       "      <td>532.00</td>\n",
       "      <td>304.00</td>\n",
       "      <td>399.00</td>\n",
       "      <td>49.00</td>\n",
       "      <td>50.00</td>\n",
       "      <td>209.00</td>\n",
       "      <td>120.00</td>\n",
       "      <td>266.00</td>\n",
       "      <td>190.00</td>\n",
       "      <td>75.00</td>\n",
       "      <td>67.00</td>\n",
       "      <td>114.00</td>\n",
       "      <td>114.00</td>\n",
       "    </tr>\n",
       "  </tbody>\n",
       "</table>\n",
       "</div>"
      ],
      "text/plain": [
       "        w_svpt   l_svpt  w_1stIn  l_1stIn  w_1stWon  l_1stWon  w_2ndWon  \\\n",
       "count 81714.00 81719.00 81714.00 81708.00  81716.00  81715.00  81713.00   \n",
       "mean     71.31    73.59    44.28    44.57     32.16     28.06     14.47   \n",
       "std      25.54    25.00    16.95    16.78     11.42     12.28      5.94   \n",
       "min       0.00     0.00     0.00     0.00      0.00      0.00      0.00   \n",
       "25%      53.00    56.00    33.00    33.00     24.00     19.00     10.00   \n",
       "50%      67.00    70.00    42.00    42.00     30.00     26.00     14.00   \n",
       "75%      87.00    88.00    54.00    54.00     38.00     35.00     18.00   \n",
       "max    1957.00  1672.00  1330.00   893.00    836.00    532.00    304.00   \n",
       "\n",
       "       l_2ndWon  w_SvGms  l_SvGms  w_bpSaved  l_bpSaved  w_bpFaced  l_bpFaced  \\\n",
       "count  81716.00 81715.00 81722.00   81719.00   81715.00   81716.00   81710.00   \n",
       "mean      12.73    11.12    10.95       3.54       4.66       5.40       8.86   \n",
       "std        6.32     3.52     3.50       3.11       3.15       4.20       3.97   \n",
       "min        0.00     0.00     0.00       0.00       0.00       0.00       0.00   \n",
       "25%        8.00     9.00     9.00       1.00       2.00       2.00       6.00   \n",
       "50%       12.00    10.00    10.00       3.00       4.00       5.00       8.00   \n",
       "75%       16.00    14.00    13.00       5.00       6.00       8.00      11.00   \n",
       "max      399.00    49.00    50.00     209.00     120.00     266.00     190.00   \n",
       "\n",
       "         w_ace    l_ace     w_df     l_df  \n",
       "count 81714.00 81717.00 81716.00 81723.00  \n",
       "mean      4.83     3.54     2.85     3.61  \n",
       "std       4.39     3.83     2.42     2.61  \n",
       "min       0.00     0.00     0.00     0.00  \n",
       "25%       2.00     1.00     1.00     2.00  \n",
       "50%       4.00     2.00     2.00     3.00  \n",
       "75%       7.00     5.00     4.00     5.00  \n",
       "max      75.00    67.00   114.00   114.00  "
      ]
     },
     "execution_count": 56,
     "metadata": {},
     "output_type": "execute_result"
    }
   ],
   "source": [
    "df[['w_svpt', 'l_svpt', 'w_1stIn', 'l_1stIn', 'w_1stWon', 'l_1stWon', 'w_2ndWon', 'l_2ndWon', 'w_SvGms', 'l_SvGms', 'w_bpSaved', 'l_bpSaved', 'w_bpFaced', 'l_bpFaced', 'w_ace', 'l_ace', 'w_df', 'l_df']].describe()"
   ]
  },
  {
   "cell_type": "markdown",
   "id": "adf8be60",
   "metadata": {},
   "source": [
    "## Data Correlation\n",
    "We compute the correlation matrix related to the numerical attributes of the dataset."
   ]
  },
  {
   "cell_type": "code",
   "execution_count": 57,
   "id": "693ebab9",
   "metadata": {},
   "outputs": [
    {
     "data": {
      "text/html": [
       "<div>\n",
       "<style scoped>\n",
       "    .dataframe tbody tr th:only-of-type {\n",
       "        vertical-align: middle;\n",
       "    }\n",
       "\n",
       "    .dataframe tbody tr th {\n",
       "        vertical-align: top;\n",
       "    }\n",
       "\n",
       "    .dataframe thead th {\n",
       "        text-align: right;\n",
       "    }\n",
       "</style>\n",
       "<table border=\"1\" class=\"dataframe\">\n",
       "  <thead>\n",
       "    <tr style=\"text-align: right;\">\n",
       "      <th></th>\n",
       "      <th>draw_size</th>\n",
       "      <th>match_num</th>\n",
       "      <th>winner_id</th>\n",
       "      <th>winner_ht</th>\n",
       "      <th>winner_age</th>\n",
       "      <th>loser_id</th>\n",
       "      <th>loser_ht</th>\n",
       "      <th>loser_age</th>\n",
       "      <th>best_of</th>\n",
       "      <th>minutes</th>\n",
       "      <th>...</th>\n",
       "      <th>l_2ndWon</th>\n",
       "      <th>l_SvGms</th>\n",
       "      <th>l_bpSaved</th>\n",
       "      <th>l_bpFaced</th>\n",
       "      <th>winner_rank</th>\n",
       "      <th>winner_rank_points</th>\n",
       "      <th>loser_rank</th>\n",
       "      <th>loser_rank_points</th>\n",
       "      <th>tourney_spectators</th>\n",
       "      <th>tourney_revenue</th>\n",
       "    </tr>\n",
       "  </thead>\n",
       "  <tbody>\n",
       "    <tr>\n",
       "      <th>draw_size</th>\n",
       "      <td>1.00</td>\n",
       "      <td>0.27</td>\n",
       "      <td>-0.21</td>\n",
       "      <td>0.02</td>\n",
       "      <td>0.20</td>\n",
       "      <td>-0.22</td>\n",
       "      <td>-0.01</td>\n",
       "      <td>0.21</td>\n",
       "      <td>0.38</td>\n",
       "      <td>0.12</td>\n",
       "      <td>...</td>\n",
       "      <td>0.09</td>\n",
       "      <td>0.08</td>\n",
       "      <td>0.07</td>\n",
       "      <td>0.10</td>\n",
       "      <td>-0.32</td>\n",
       "      <td>0.33</td>\n",
       "      <td>-0.32</td>\n",
       "      <td>0.28</td>\n",
       "      <td>0.93</td>\n",
       "      <td>0.84</td>\n",
       "    </tr>\n",
       "    <tr>\n",
       "      <th>match_num</th>\n",
       "      <td>0.27</td>\n",
       "      <td>1.00</td>\n",
       "      <td>-0.29</td>\n",
       "      <td>0.07</td>\n",
       "      <td>0.16</td>\n",
       "      <td>-0.29</td>\n",
       "      <td>0.05</td>\n",
       "      <td>0.18</td>\n",
       "      <td>0.03</td>\n",
       "      <td>0.00</td>\n",
       "      <td>...</td>\n",
       "      <td>-0.00</td>\n",
       "      <td>-0.00</td>\n",
       "      <td>0.00</td>\n",
       "      <td>0.00</td>\n",
       "      <td>-0.21</td>\n",
       "      <td>0.13</td>\n",
       "      <td>-0.19</td>\n",
       "      <td>0.13</td>\n",
       "      <td>0.27</td>\n",
       "      <td>0.18</td>\n",
       "    </tr>\n",
       "    <tr>\n",
       "      <th>winner_id</th>\n",
       "      <td>-0.21</td>\n",
       "      <td>-0.29</td>\n",
       "      <td>1.00</td>\n",
       "      <td>-0.50</td>\n",
       "      <td>-0.50</td>\n",
       "      <td>0.90</td>\n",
       "      <td>-0.54</td>\n",
       "      <td>-0.35</td>\n",
       "      <td>-0.20</td>\n",
       "      <td>-0.03</td>\n",
       "      <td>...</td>\n",
       "      <td>-0.16</td>\n",
       "      <td>-0.13</td>\n",
       "      <td>0.05</td>\n",
       "      <td>0.17</td>\n",
       "      <td>0.38</td>\n",
       "      <td>-0.17</td>\n",
       "      <td>0.29</td>\n",
       "      <td>-0.13</td>\n",
       "      <td>-0.20</td>\n",
       "      <td>-0.18</td>\n",
       "    </tr>\n",
       "    <tr>\n",
       "      <th>winner_ht</th>\n",
       "      <td>0.02</td>\n",
       "      <td>0.07</td>\n",
       "      <td>-0.50</td>\n",
       "      <td>1.00</td>\n",
       "      <td>0.12</td>\n",
       "      <td>-0.51</td>\n",
       "      <td>0.41</td>\n",
       "      <td>0.13</td>\n",
       "      <td>0.13</td>\n",
       "      <td>0.04</td>\n",
       "      <td>...</td>\n",
       "      <td>0.17</td>\n",
       "      <td>0.14</td>\n",
       "      <td>-0.06</td>\n",
       "      <td>-0.18</td>\n",
       "      <td>-0.05</td>\n",
       "      <td>0.03</td>\n",
       "      <td>-0.03</td>\n",
       "      <td>0.00</td>\n",
       "      <td>0.02</td>\n",
       "      <td>0.02</td>\n",
       "    </tr>\n",
       "    <tr>\n",
       "      <th>winner_age</th>\n",
       "      <td>0.20</td>\n",
       "      <td>0.16</td>\n",
       "      <td>-0.50</td>\n",
       "      <td>0.12</td>\n",
       "      <td>1.00</td>\n",
       "      <td>-0.36</td>\n",
       "      <td>0.13</td>\n",
       "      <td>0.24</td>\n",
       "      <td>0.12</td>\n",
       "      <td>0.04</td>\n",
       "      <td>...</td>\n",
       "      <td>0.05</td>\n",
       "      <td>0.05</td>\n",
       "      <td>0.01</td>\n",
       "      <td>-0.01</td>\n",
       "      <td>-0.39</td>\n",
       "      <td>0.25</td>\n",
       "      <td>-0.29</td>\n",
       "      <td>0.19</td>\n",
       "      <td>0.19</td>\n",
       "      <td>0.17</td>\n",
       "    </tr>\n",
       "    <tr>\n",
       "      <th>loser_id</th>\n",
       "      <td>-0.22</td>\n",
       "      <td>-0.29</td>\n",
       "      <td>0.90</td>\n",
       "      <td>-0.51</td>\n",
       "      <td>-0.36</td>\n",
       "      <td>1.00</td>\n",
       "      <td>-0.53</td>\n",
       "      <td>-0.51</td>\n",
       "      <td>-0.20</td>\n",
       "      <td>-0.05</td>\n",
       "      <td>...</td>\n",
       "      <td>-0.17</td>\n",
       "      <td>-0.14</td>\n",
       "      <td>0.05</td>\n",
       "      <td>0.17</td>\n",
       "      <td>0.38</td>\n",
       "      <td>-0.17</td>\n",
       "      <td>0.35</td>\n",
       "      <td>-0.15</td>\n",
       "      <td>-0.20</td>\n",
       "      <td>-0.19</td>\n",
       "    </tr>\n",
       "    <tr>\n",
       "      <th>loser_ht</th>\n",
       "      <td>-0.01</td>\n",
       "      <td>0.05</td>\n",
       "      <td>-0.54</td>\n",
       "      <td>0.41</td>\n",
       "      <td>0.13</td>\n",
       "      <td>-0.53</td>\n",
       "      <td>1.00</td>\n",
       "      <td>0.11</td>\n",
       "      <td>0.13</td>\n",
       "      <td>0.06</td>\n",
       "      <td>...</td>\n",
       "      <td>0.16</td>\n",
       "      <td>0.16</td>\n",
       "      <td>-0.05</td>\n",
       "      <td>-0.17</td>\n",
       "      <td>-0.01</td>\n",
       "      <td>0.00</td>\n",
       "      <td>0.00</td>\n",
       "      <td>-0.02</td>\n",
       "      <td>-0.01</td>\n",
       "      <td>-0.00</td>\n",
       "    </tr>\n",
       "    <tr>\n",
       "      <th>loser_age</th>\n",
       "      <td>0.21</td>\n",
       "      <td>0.18</td>\n",
       "      <td>-0.35</td>\n",
       "      <td>0.13</td>\n",
       "      <td>0.24</td>\n",
       "      <td>-0.51</td>\n",
       "      <td>0.11</td>\n",
       "      <td>1.00</td>\n",
       "      <td>0.11</td>\n",
       "      <td>0.06</td>\n",
       "      <td>...</td>\n",
       "      <td>0.04</td>\n",
       "      <td>0.06</td>\n",
       "      <td>0.00</td>\n",
       "      <td>-0.03</td>\n",
       "      <td>-0.34</td>\n",
       "      <td>0.21</td>\n",
       "      <td>-0.39</td>\n",
       "      <td>0.24</td>\n",
       "      <td>0.20</td>\n",
       "      <td>0.18</td>\n",
       "    </tr>\n",
       "    <tr>\n",
       "      <th>best_of</th>\n",
       "      <td>0.38</td>\n",
       "      <td>0.03</td>\n",
       "      <td>-0.20</td>\n",
       "      <td>0.13</td>\n",
       "      <td>0.12</td>\n",
       "      <td>-0.20</td>\n",
       "      <td>0.13</td>\n",
       "      <td>0.11</td>\n",
       "      <td>1.00</td>\n",
       "      <td>0.27</td>\n",
       "      <td>...</td>\n",
       "      <td>0.26</td>\n",
       "      <td>0.38</td>\n",
       "      <td>0.14</td>\n",
       "      <td>0.16</td>\n",
       "      <td>-0.14</td>\n",
       "      <td>0.25</td>\n",
       "      <td>-0.13</td>\n",
       "      <td>0.16</td>\n",
       "      <td>0.34</td>\n",
       "      <td>0.33</td>\n",
       "    </tr>\n",
       "    <tr>\n",
       "      <th>minutes</th>\n",
       "      <td>0.12</td>\n",
       "      <td>0.00</td>\n",
       "      <td>-0.03</td>\n",
       "      <td>0.04</td>\n",
       "      <td>0.04</td>\n",
       "      <td>-0.05</td>\n",
       "      <td>0.06</td>\n",
       "      <td>0.06</td>\n",
       "      <td>0.27</td>\n",
       "      <td>1.00</td>\n",
       "      <td>...</td>\n",
       "      <td>0.58</td>\n",
       "      <td>0.71</td>\n",
       "      <td>0.33</td>\n",
       "      <td>0.32</td>\n",
       "      <td>-0.08</td>\n",
       "      <td>0.06</td>\n",
       "      <td>-0.13</td>\n",
       "      <td>0.11</td>\n",
       "      <td>0.12</td>\n",
       "      <td>0.10</td>\n",
       "    </tr>\n",
       "    <tr>\n",
       "      <th>w_ace</th>\n",
       "      <td>0.07</td>\n",
       "      <td>-0.03</td>\n",
       "      <td>-0.25</td>\n",
       "      <td>0.47</td>\n",
       "      <td>0.08</td>\n",
       "      <td>-0.26</td>\n",
       "      <td>0.20</td>\n",
       "      <td>0.10</td>\n",
       "      <td>0.25</td>\n",
       "      <td>0.18</td>\n",
       "      <td>...</td>\n",
       "      <td>0.33</td>\n",
       "      <td>0.34</td>\n",
       "      <td>0.02</td>\n",
       "      <td>-0.11</td>\n",
       "      <td>-0.05</td>\n",
       "      <td>0.07</td>\n",
       "      <td>-0.05</td>\n",
       "      <td>0.04</td>\n",
       "      <td>0.06</td>\n",
       "      <td>0.06</td>\n",
       "    </tr>\n",
       "    <tr>\n",
       "      <th>w_df</th>\n",
       "      <td>0.05</td>\n",
       "      <td>-0.02</td>\n",
       "      <td>0.11</td>\n",
       "      <td>-0.00</td>\n",
       "      <td>-0.05</td>\n",
       "      <td>0.10</td>\n",
       "      <td>-0.07</td>\n",
       "      <td>-0.01</td>\n",
       "      <td>0.08</td>\n",
       "      <td>0.31</td>\n",
       "      <td>...</td>\n",
       "      <td>0.31</td>\n",
       "      <td>0.34</td>\n",
       "      <td>0.18</td>\n",
       "      <td>0.24</td>\n",
       "      <td>0.01</td>\n",
       "      <td>-0.01</td>\n",
       "      <td>-0.03</td>\n",
       "      <td>0.02</td>\n",
       "      <td>0.04</td>\n",
       "      <td>0.04</td>\n",
       "    </tr>\n",
       "    <tr>\n",
       "      <th>w_svpt</th>\n",
       "      <td>0.14</td>\n",
       "      <td>0.00</td>\n",
       "      <td>-0.04</td>\n",
       "      <td>0.07</td>\n",
       "      <td>0.03</td>\n",
       "      <td>-0.07</td>\n",
       "      <td>0.09</td>\n",
       "      <td>0.05</td>\n",
       "      <td>0.30</td>\n",
       "      <td>0.73</td>\n",
       "      <td>...</td>\n",
       "      <td>0.72</td>\n",
       "      <td>0.82</td>\n",
       "      <td>0.32</td>\n",
       "      <td>0.32</td>\n",
       "      <td>-0.06</td>\n",
       "      <td>0.03</td>\n",
       "      <td>-0.13</td>\n",
       "      <td>0.10</td>\n",
       "      <td>0.13</td>\n",
       "      <td>0.12</td>\n",
       "    </tr>\n",
       "    <tr>\n",
       "      <th>w_1stIn</th>\n",
       "      <td>0.14</td>\n",
       "      <td>0.01</td>\n",
       "      <td>-0.02</td>\n",
       "      <td>0.05</td>\n",
       "      <td>0.04</td>\n",
       "      <td>-0.05</td>\n",
       "      <td>0.08</td>\n",
       "      <td>0.05</td>\n",
       "      <td>0.29</td>\n",
       "      <td>0.68</td>\n",
       "      <td>...</td>\n",
       "      <td>0.66</td>\n",
       "      <td>0.77</td>\n",
       "      <td>0.30</td>\n",
       "      <td>0.30</td>\n",
       "      <td>-0.07</td>\n",
       "      <td>0.04</td>\n",
       "      <td>-0.14</td>\n",
       "      <td>0.10</td>\n",
       "      <td>0.13</td>\n",
       "      <td>0.12</td>\n",
       "    </tr>\n",
       "    <tr>\n",
       "      <th>w_1stWon</th>\n",
       "      <td>0.15</td>\n",
       "      <td>-0.00</td>\n",
       "      <td>-0.13</td>\n",
       "      <td>0.18</td>\n",
       "      <td>0.06</td>\n",
       "      <td>-0.15</td>\n",
       "      <td>0.18</td>\n",
       "      <td>0.07</td>\n",
       "      <td>0.35</td>\n",
       "      <td>0.64</td>\n",
       "      <td>...</td>\n",
       "      <td>0.70</td>\n",
       "      <td>0.78</td>\n",
       "      <td>0.25</td>\n",
       "      <td>0.19</td>\n",
       "      <td>-0.07</td>\n",
       "      <td>0.06</td>\n",
       "      <td>-0.12</td>\n",
       "      <td>0.10</td>\n",
       "      <td>0.13</td>\n",
       "      <td>0.13</td>\n",
       "    </tr>\n",
       "    <tr>\n",
       "      <th>w_2ndWon</th>\n",
       "      <td>0.10</td>\n",
       "      <td>-0.01</td>\n",
       "      <td>-0.14</td>\n",
       "      <td>0.14</td>\n",
       "      <td>0.03</td>\n",
       "      <td>-0.16</td>\n",
       "      <td>0.16</td>\n",
       "      <td>0.05</td>\n",
       "      <td>0.28</td>\n",
       "      <td>0.54</td>\n",
       "      <td>...</td>\n",
       "      <td>0.61</td>\n",
       "      <td>0.64</td>\n",
       "      <td>0.21</td>\n",
       "      <td>0.15</td>\n",
       "      <td>-0.02</td>\n",
       "      <td>0.01</td>\n",
       "      <td>-0.07</td>\n",
       "      <td>0.04</td>\n",
       "      <td>0.09</td>\n",
       "      <td>0.09</td>\n",
       "    </tr>\n",
       "    <tr>\n",
       "      <th>w_SvGms</th>\n",
       "      <td>0.09</td>\n",
       "      <td>0.00</td>\n",
       "      <td>-0.13</td>\n",
       "      <td>0.15</td>\n",
       "      <td>0.05</td>\n",
       "      <td>-0.15</td>\n",
       "      <td>0.17</td>\n",
       "      <td>0.06</td>\n",
       "      <td>0.39</td>\n",
       "      <td>0.70</td>\n",
       "      <td>...</td>\n",
       "      <td>0.69</td>\n",
       "      <td>0.98</td>\n",
       "      <td>0.28</td>\n",
       "      <td>0.24</td>\n",
       "      <td>-0.05</td>\n",
       "      <td>0.05</td>\n",
       "      <td>-0.11</td>\n",
       "      <td>0.08</td>\n",
       "      <td>0.07</td>\n",
       "      <td>0.04</td>\n",
       "    </tr>\n",
       "    <tr>\n",
       "      <th>w_bpSaved</th>\n",
       "      <td>0.06</td>\n",
       "      <td>0.01</td>\n",
       "      <td>0.09</td>\n",
       "      <td>-0.11</td>\n",
       "      <td>-0.01</td>\n",
       "      <td>0.07</td>\n",
       "      <td>-0.07</td>\n",
       "      <td>0.00</td>\n",
       "      <td>0.08</td>\n",
       "      <td>0.41</td>\n",
       "      <td>...</td>\n",
       "      <td>0.32</td>\n",
       "      <td>0.36</td>\n",
       "      <td>0.20</td>\n",
       "      <td>0.27</td>\n",
       "      <td>-0.02</td>\n",
       "      <td>-0.01</td>\n",
       "      <td>-0.08</td>\n",
       "      <td>0.06</td>\n",
       "      <td>0.06</td>\n",
       "      <td>0.05</td>\n",
       "    </tr>\n",
       "    <tr>\n",
       "      <th>w_bpFaced</th>\n",
       "      <td>0.07</td>\n",
       "      <td>0.02</td>\n",
       "      <td>0.16</td>\n",
       "      <td>-0.18</td>\n",
       "      <td>-0.03</td>\n",
       "      <td>0.14</td>\n",
       "      <td>-0.14</td>\n",
       "      <td>-0.01</td>\n",
       "      <td>0.08</td>\n",
       "      <td>0.51</td>\n",
       "      <td>...</td>\n",
       "      <td>0.37</td>\n",
       "      <td>0.47</td>\n",
       "      <td>0.28</td>\n",
       "      <td>0.42</td>\n",
       "      <td>-0.03</td>\n",
       "      <td>-0.01</td>\n",
       "      <td>-0.10</td>\n",
       "      <td>0.07</td>\n",
       "      <td>0.07</td>\n",
       "      <td>0.06</td>\n",
       "    </tr>\n",
       "    <tr>\n",
       "      <th>l_ace</th>\n",
       "      <td>0.06</td>\n",
       "      <td>-0.02</td>\n",
       "      <td>-0.24</td>\n",
       "      <td>0.21</td>\n",
       "      <td>0.08</td>\n",
       "      <td>-0.25</td>\n",
       "      <td>0.43</td>\n",
       "      <td>0.08</td>\n",
       "      <td>0.21</td>\n",
       "      <td>0.29</td>\n",
       "      <td>...</td>\n",
       "      <td>0.42</td>\n",
       "      <td>0.46</td>\n",
       "      <td>0.07</td>\n",
       "      <td>-0.07</td>\n",
       "      <td>-0.03</td>\n",
       "      <td>0.03</td>\n",
       "      <td>-0.08</td>\n",
       "      <td>0.08</td>\n",
       "      <td>0.05</td>\n",
       "      <td>0.05</td>\n",
       "    </tr>\n",
       "    <tr>\n",
       "      <th>l_df</th>\n",
       "      <td>0.04</td>\n",
       "      <td>-0.03</td>\n",
       "      <td>0.10</td>\n",
       "      <td>-0.06</td>\n",
       "      <td>-0.03</td>\n",
       "      <td>0.10</td>\n",
       "      <td>0.02</td>\n",
       "      <td>-0.06</td>\n",
       "      <td>0.08</td>\n",
       "      <td>0.20</td>\n",
       "      <td>...</td>\n",
       "      <td>0.27</td>\n",
       "      <td>0.23</td>\n",
       "      <td>0.24</td>\n",
       "      <td>0.29</td>\n",
       "      <td>0.04</td>\n",
       "      <td>-0.02</td>\n",
       "      <td>0.02</td>\n",
       "      <td>0.01</td>\n",
       "      <td>0.03</td>\n",
       "      <td>0.03</td>\n",
       "    </tr>\n",
       "    <tr>\n",
       "      <th>l_svpt</th>\n",
       "      <td>0.14</td>\n",
       "      <td>0.00</td>\n",
       "      <td>-0.06</td>\n",
       "      <td>0.09</td>\n",
       "      <td>0.04</td>\n",
       "      <td>-0.08</td>\n",
       "      <td>0.10</td>\n",
       "      <td>0.05</td>\n",
       "      <td>0.34</td>\n",
       "      <td>0.72</td>\n",
       "      <td>...</td>\n",
       "      <td>0.79</td>\n",
       "      <td>0.83</td>\n",
       "      <td>0.55</td>\n",
       "      <td>0.52</td>\n",
       "      <td>-0.06</td>\n",
       "      <td>0.05</td>\n",
       "      <td>-0.11</td>\n",
       "      <td>0.08</td>\n",
       "      <td>0.13</td>\n",
       "      <td>0.13</td>\n",
       "    </tr>\n",
       "    <tr>\n",
       "      <th>l_1stIn</th>\n",
       "      <td>0.14</td>\n",
       "      <td>0.01</td>\n",
       "      <td>-0.03</td>\n",
       "      <td>0.07</td>\n",
       "      <td>0.04</td>\n",
       "      <td>-0.05</td>\n",
       "      <td>0.07</td>\n",
       "      <td>0.06</td>\n",
       "      <td>0.31</td>\n",
       "      <td>0.68</td>\n",
       "      <td>...</td>\n",
       "      <td>0.58</td>\n",
       "      <td>0.78</td>\n",
       "      <td>0.51</td>\n",
       "      <td>0.47</td>\n",
       "      <td>-0.07</td>\n",
       "      <td>0.06</td>\n",
       "      <td>-0.12</td>\n",
       "      <td>0.09</td>\n",
       "      <td>0.13</td>\n",
       "      <td>0.12</td>\n",
       "    </tr>\n",
       "    <tr>\n",
       "      <th>l_1stWon</th>\n",
       "      <td>0.13</td>\n",
       "      <td>-0.00</td>\n",
       "      <td>-0.14</td>\n",
       "      <td>0.18</td>\n",
       "      <td>0.06</td>\n",
       "      <td>-0.17</td>\n",
       "      <td>0.20</td>\n",
       "      <td>0.08</td>\n",
       "      <td>0.31</td>\n",
       "      <td>0.67</td>\n",
       "      <td>...</td>\n",
       "      <td>0.63</td>\n",
       "      <td>0.82</td>\n",
       "      <td>0.41</td>\n",
       "      <td>0.29</td>\n",
       "      <td>-0.06</td>\n",
       "      <td>0.05</td>\n",
       "      <td>-0.12</td>\n",
       "      <td>0.09</td>\n",
       "      <td>0.11</td>\n",
       "      <td>0.11</td>\n",
       "    </tr>\n",
       "    <tr>\n",
       "      <th>l_2ndWon</th>\n",
       "      <td>0.09</td>\n",
       "      <td>-0.00</td>\n",
       "      <td>-0.16</td>\n",
       "      <td>0.17</td>\n",
       "      <td>0.05</td>\n",
       "      <td>-0.17</td>\n",
       "      <td>0.16</td>\n",
       "      <td>0.04</td>\n",
       "      <td>0.26</td>\n",
       "      <td>0.58</td>\n",
       "      <td>...</td>\n",
       "      <td>1.00</td>\n",
       "      <td>0.70</td>\n",
       "      <td>0.36</td>\n",
       "      <td>0.25</td>\n",
       "      <td>-0.02</td>\n",
       "      <td>0.01</td>\n",
       "      <td>-0.07</td>\n",
       "      <td>0.04</td>\n",
       "      <td>0.09</td>\n",
       "      <td>0.08</td>\n",
       "    </tr>\n",
       "    <tr>\n",
       "      <th>l_SvGms</th>\n",
       "      <td>0.08</td>\n",
       "      <td>-0.00</td>\n",
       "      <td>-0.13</td>\n",
       "      <td>0.14</td>\n",
       "      <td>0.05</td>\n",
       "      <td>-0.14</td>\n",
       "      <td>0.16</td>\n",
       "      <td>0.06</td>\n",
       "      <td>0.38</td>\n",
       "      <td>0.71</td>\n",
       "      <td>...</td>\n",
       "      <td>0.70</td>\n",
       "      <td>1.00</td>\n",
       "      <td>0.29</td>\n",
       "      <td>0.27</td>\n",
       "      <td>-0.05</td>\n",
       "      <td>0.04</td>\n",
       "      <td>-0.11</td>\n",
       "      <td>0.08</td>\n",
       "      <td>0.06</td>\n",
       "      <td>0.03</td>\n",
       "    </tr>\n",
       "    <tr>\n",
       "      <th>l_bpSaved</th>\n",
       "      <td>0.07</td>\n",
       "      <td>0.00</td>\n",
       "      <td>0.05</td>\n",
       "      <td>-0.06</td>\n",
       "      <td>0.01</td>\n",
       "      <td>0.05</td>\n",
       "      <td>-0.05</td>\n",
       "      <td>0.00</td>\n",
       "      <td>0.14</td>\n",
       "      <td>0.33</td>\n",
       "      <td>...</td>\n",
       "      <td>0.36</td>\n",
       "      <td>0.29</td>\n",
       "      <td>1.00</td>\n",
       "      <td>0.91</td>\n",
       "      <td>-0.03</td>\n",
       "      <td>0.03</td>\n",
       "      <td>-0.03</td>\n",
       "      <td>0.02</td>\n",
       "      <td>0.07</td>\n",
       "      <td>0.06</td>\n",
       "    </tr>\n",
       "    <tr>\n",
       "      <th>l_bpFaced</th>\n",
       "      <td>0.10</td>\n",
       "      <td>0.00</td>\n",
       "      <td>0.17</td>\n",
       "      <td>-0.18</td>\n",
       "      <td>-0.01</td>\n",
       "      <td>0.17</td>\n",
       "      <td>-0.17</td>\n",
       "      <td>-0.03</td>\n",
       "      <td>0.16</td>\n",
       "      <td>0.32</td>\n",
       "      <td>...</td>\n",
       "      <td>0.25</td>\n",
       "      <td>0.27</td>\n",
       "      <td>0.91</td>\n",
       "      <td>1.00</td>\n",
       "      <td>-0.05</td>\n",
       "      <td>0.05</td>\n",
       "      <td>-0.03</td>\n",
       "      <td>0.03</td>\n",
       "      <td>0.09</td>\n",
       "      <td>0.08</td>\n",
       "    </tr>\n",
       "    <tr>\n",
       "      <th>winner_rank</th>\n",
       "      <td>-0.32</td>\n",
       "      <td>-0.21</td>\n",
       "      <td>0.38</td>\n",
       "      <td>-0.05</td>\n",
       "      <td>-0.39</td>\n",
       "      <td>0.38</td>\n",
       "      <td>-0.01</td>\n",
       "      <td>-0.34</td>\n",
       "      <td>-0.14</td>\n",
       "      <td>-0.08</td>\n",
       "      <td>...</td>\n",
       "      <td>-0.02</td>\n",
       "      <td>-0.05</td>\n",
       "      <td>-0.03</td>\n",
       "      <td>-0.05</td>\n",
       "      <td>1.00</td>\n",
       "      <td>-0.43</td>\n",
       "      <td>0.63</td>\n",
       "      <td>-0.38</td>\n",
       "      <td>-0.30</td>\n",
       "      <td>-0.27</td>\n",
       "    </tr>\n",
       "    <tr>\n",
       "      <th>winner_rank_points</th>\n",
       "      <td>0.33</td>\n",
       "      <td>0.13</td>\n",
       "      <td>-0.17</td>\n",
       "      <td>0.03</td>\n",
       "      <td>0.25</td>\n",
       "      <td>-0.17</td>\n",
       "      <td>0.00</td>\n",
       "      <td>0.21</td>\n",
       "      <td>0.25</td>\n",
       "      <td>0.06</td>\n",
       "      <td>...</td>\n",
       "      <td>0.01</td>\n",
       "      <td>0.04</td>\n",
       "      <td>0.03</td>\n",
       "      <td>0.05</td>\n",
       "      <td>-0.43</td>\n",
       "      <td>1.00</td>\n",
       "      <td>-0.36</td>\n",
       "      <td>0.49</td>\n",
       "      <td>0.31</td>\n",
       "      <td>0.28</td>\n",
       "    </tr>\n",
       "    <tr>\n",
       "      <th>loser_rank</th>\n",
       "      <td>-0.32</td>\n",
       "      <td>-0.19</td>\n",
       "      <td>0.29</td>\n",
       "      <td>-0.03</td>\n",
       "      <td>-0.29</td>\n",
       "      <td>0.35</td>\n",
       "      <td>0.00</td>\n",
       "      <td>-0.39</td>\n",
       "      <td>-0.13</td>\n",
       "      <td>-0.13</td>\n",
       "      <td>...</td>\n",
       "      <td>-0.07</td>\n",
       "      <td>-0.11</td>\n",
       "      <td>-0.03</td>\n",
       "      <td>-0.03</td>\n",
       "      <td>0.63</td>\n",
       "      <td>-0.36</td>\n",
       "      <td>1.00</td>\n",
       "      <td>-0.46</td>\n",
       "      <td>-0.30</td>\n",
       "      <td>-0.27</td>\n",
       "    </tr>\n",
       "    <tr>\n",
       "      <th>loser_rank_points</th>\n",
       "      <td>0.28</td>\n",
       "      <td>0.13</td>\n",
       "      <td>-0.13</td>\n",
       "      <td>0.00</td>\n",
       "      <td>0.19</td>\n",
       "      <td>-0.15</td>\n",
       "      <td>-0.02</td>\n",
       "      <td>0.24</td>\n",
       "      <td>0.16</td>\n",
       "      <td>0.11</td>\n",
       "      <td>...</td>\n",
       "      <td>0.04</td>\n",
       "      <td>0.08</td>\n",
       "      <td>0.02</td>\n",
       "      <td>0.03</td>\n",
       "      <td>-0.38</td>\n",
       "      <td>0.49</td>\n",
       "      <td>-0.46</td>\n",
       "      <td>1.00</td>\n",
       "      <td>0.27</td>\n",
       "      <td>0.24</td>\n",
       "    </tr>\n",
       "    <tr>\n",
       "      <th>tourney_spectators</th>\n",
       "      <td>0.93</td>\n",
       "      <td>0.27</td>\n",
       "      <td>-0.20</td>\n",
       "      <td>0.02</td>\n",
       "      <td>0.19</td>\n",
       "      <td>-0.20</td>\n",
       "      <td>-0.01</td>\n",
       "      <td>0.20</td>\n",
       "      <td>0.34</td>\n",
       "      <td>0.12</td>\n",
       "      <td>...</td>\n",
       "      <td>0.09</td>\n",
       "      <td>0.06</td>\n",
       "      <td>0.07</td>\n",
       "      <td>0.09</td>\n",
       "      <td>-0.30</td>\n",
       "      <td>0.31</td>\n",
       "      <td>-0.30</td>\n",
       "      <td>0.27</td>\n",
       "      <td>1.00</td>\n",
       "      <td>0.90</td>\n",
       "    </tr>\n",
       "    <tr>\n",
       "      <th>tourney_revenue</th>\n",
       "      <td>0.84</td>\n",
       "      <td>0.18</td>\n",
       "      <td>-0.18</td>\n",
       "      <td>0.02</td>\n",
       "      <td>0.17</td>\n",
       "      <td>-0.19</td>\n",
       "      <td>-0.00</td>\n",
       "      <td>0.18</td>\n",
       "      <td>0.33</td>\n",
       "      <td>0.10</td>\n",
       "      <td>...</td>\n",
       "      <td>0.08</td>\n",
       "      <td>0.03</td>\n",
       "      <td>0.06</td>\n",
       "      <td>0.08</td>\n",
       "      <td>-0.27</td>\n",
       "      <td>0.28</td>\n",
       "      <td>-0.27</td>\n",
       "      <td>0.24</td>\n",
       "      <td>0.90</td>\n",
       "      <td>1.00</td>\n",
       "    </tr>\n",
       "  </tbody>\n",
       "</table>\n",
       "<p>34 rows × 34 columns</p>\n",
       "</div>"
      ],
      "text/plain": [
       "                    draw_size  match_num  winner_id  winner_ht  winner_age  \\\n",
       "draw_size                1.00       0.27      -0.21       0.02        0.20   \n",
       "match_num                0.27       1.00      -0.29       0.07        0.16   \n",
       "winner_id               -0.21      -0.29       1.00      -0.50       -0.50   \n",
       "winner_ht                0.02       0.07      -0.50       1.00        0.12   \n",
       "winner_age               0.20       0.16      -0.50       0.12        1.00   \n",
       "loser_id                -0.22      -0.29       0.90      -0.51       -0.36   \n",
       "loser_ht                -0.01       0.05      -0.54       0.41        0.13   \n",
       "loser_age                0.21       0.18      -0.35       0.13        0.24   \n",
       "best_of                  0.38       0.03      -0.20       0.13        0.12   \n",
       "minutes                  0.12       0.00      -0.03       0.04        0.04   \n",
       "w_ace                    0.07      -0.03      -0.25       0.47        0.08   \n",
       "w_df                     0.05      -0.02       0.11      -0.00       -0.05   \n",
       "w_svpt                   0.14       0.00      -0.04       0.07        0.03   \n",
       "w_1stIn                  0.14       0.01      -0.02       0.05        0.04   \n",
       "w_1stWon                 0.15      -0.00      -0.13       0.18        0.06   \n",
       "w_2ndWon                 0.10      -0.01      -0.14       0.14        0.03   \n",
       "w_SvGms                  0.09       0.00      -0.13       0.15        0.05   \n",
       "w_bpSaved                0.06       0.01       0.09      -0.11       -0.01   \n",
       "w_bpFaced                0.07       0.02       0.16      -0.18       -0.03   \n",
       "l_ace                    0.06      -0.02      -0.24       0.21        0.08   \n",
       "l_df                     0.04      -0.03       0.10      -0.06       -0.03   \n",
       "l_svpt                   0.14       0.00      -0.06       0.09        0.04   \n",
       "l_1stIn                  0.14       0.01      -0.03       0.07        0.04   \n",
       "l_1stWon                 0.13      -0.00      -0.14       0.18        0.06   \n",
       "l_2ndWon                 0.09      -0.00      -0.16       0.17        0.05   \n",
       "l_SvGms                  0.08      -0.00      -0.13       0.14        0.05   \n",
       "l_bpSaved                0.07       0.00       0.05      -0.06        0.01   \n",
       "l_bpFaced                0.10       0.00       0.17      -0.18       -0.01   \n",
       "winner_rank             -0.32      -0.21       0.38      -0.05       -0.39   \n",
       "winner_rank_points       0.33       0.13      -0.17       0.03        0.25   \n",
       "loser_rank              -0.32      -0.19       0.29      -0.03       -0.29   \n",
       "loser_rank_points        0.28       0.13      -0.13       0.00        0.19   \n",
       "tourney_spectators       0.93       0.27      -0.20       0.02        0.19   \n",
       "tourney_revenue          0.84       0.18      -0.18       0.02        0.17   \n",
       "\n",
       "                    loser_id  loser_ht  loser_age  best_of  minutes  ...  \\\n",
       "draw_size              -0.22     -0.01       0.21     0.38     0.12  ...   \n",
       "match_num              -0.29      0.05       0.18     0.03     0.00  ...   \n",
       "winner_id               0.90     -0.54      -0.35    -0.20    -0.03  ...   \n",
       "winner_ht              -0.51      0.41       0.13     0.13     0.04  ...   \n",
       "winner_age             -0.36      0.13       0.24     0.12     0.04  ...   \n",
       "loser_id                1.00     -0.53      -0.51    -0.20    -0.05  ...   \n",
       "loser_ht               -0.53      1.00       0.11     0.13     0.06  ...   \n",
       "loser_age              -0.51      0.11       1.00     0.11     0.06  ...   \n",
       "best_of                -0.20      0.13       0.11     1.00     0.27  ...   \n",
       "minutes                -0.05      0.06       0.06     0.27     1.00  ...   \n",
       "w_ace                  -0.26      0.20       0.10     0.25     0.18  ...   \n",
       "w_df                    0.10     -0.07      -0.01     0.08     0.31  ...   \n",
       "w_svpt                 -0.07      0.09       0.05     0.30     0.73  ...   \n",
       "w_1stIn                -0.05      0.08       0.05     0.29     0.68  ...   \n",
       "w_1stWon               -0.15      0.18       0.07     0.35     0.64  ...   \n",
       "w_2ndWon               -0.16      0.16       0.05     0.28     0.54  ...   \n",
       "w_SvGms                -0.15      0.17       0.06     0.39     0.70  ...   \n",
       "w_bpSaved               0.07     -0.07       0.00     0.08     0.41  ...   \n",
       "w_bpFaced               0.14     -0.14      -0.01     0.08     0.51  ...   \n",
       "l_ace                  -0.25      0.43       0.08     0.21     0.29  ...   \n",
       "l_df                    0.10      0.02      -0.06     0.08     0.20  ...   \n",
       "l_svpt                 -0.08      0.10       0.05     0.34     0.72  ...   \n",
       "l_1stIn                -0.05      0.07       0.06     0.31     0.68  ...   \n",
       "l_1stWon               -0.17      0.20       0.08     0.31     0.67  ...   \n",
       "l_2ndWon               -0.17      0.16       0.04     0.26     0.58  ...   \n",
       "l_SvGms                -0.14      0.16       0.06     0.38     0.71  ...   \n",
       "l_bpSaved               0.05     -0.05       0.00     0.14     0.33  ...   \n",
       "l_bpFaced               0.17     -0.17      -0.03     0.16     0.32  ...   \n",
       "winner_rank             0.38     -0.01      -0.34    -0.14    -0.08  ...   \n",
       "winner_rank_points     -0.17      0.00       0.21     0.25     0.06  ...   \n",
       "loser_rank              0.35      0.00      -0.39    -0.13    -0.13  ...   \n",
       "loser_rank_points      -0.15     -0.02       0.24     0.16     0.11  ...   \n",
       "tourney_spectators     -0.20     -0.01       0.20     0.34     0.12  ...   \n",
       "tourney_revenue        -0.19     -0.00       0.18     0.33     0.10  ...   \n",
       "\n",
       "                    l_2ndWon  l_SvGms  l_bpSaved  l_bpFaced  winner_rank  \\\n",
       "draw_size               0.09     0.08       0.07       0.10        -0.32   \n",
       "match_num              -0.00    -0.00       0.00       0.00        -0.21   \n",
       "winner_id              -0.16    -0.13       0.05       0.17         0.38   \n",
       "winner_ht               0.17     0.14      -0.06      -0.18        -0.05   \n",
       "winner_age              0.05     0.05       0.01      -0.01        -0.39   \n",
       "loser_id               -0.17    -0.14       0.05       0.17         0.38   \n",
       "loser_ht                0.16     0.16      -0.05      -0.17        -0.01   \n",
       "loser_age               0.04     0.06       0.00      -0.03        -0.34   \n",
       "best_of                 0.26     0.38       0.14       0.16        -0.14   \n",
       "minutes                 0.58     0.71       0.33       0.32        -0.08   \n",
       "w_ace                   0.33     0.34       0.02      -0.11        -0.05   \n",
       "w_df                    0.31     0.34       0.18       0.24         0.01   \n",
       "w_svpt                  0.72     0.82       0.32       0.32        -0.06   \n",
       "w_1stIn                 0.66     0.77       0.30       0.30        -0.07   \n",
       "w_1stWon                0.70     0.78       0.25       0.19        -0.07   \n",
       "w_2ndWon                0.61     0.64       0.21       0.15        -0.02   \n",
       "w_SvGms                 0.69     0.98       0.28       0.24        -0.05   \n",
       "w_bpSaved               0.32     0.36       0.20       0.27        -0.02   \n",
       "w_bpFaced               0.37     0.47       0.28       0.42        -0.03   \n",
       "l_ace                   0.42     0.46       0.07      -0.07        -0.03   \n",
       "l_df                    0.27     0.23       0.24       0.29         0.04   \n",
       "l_svpt                  0.79     0.83       0.55       0.52        -0.06   \n",
       "l_1stIn                 0.58     0.78       0.51       0.47        -0.07   \n",
       "l_1stWon                0.63     0.82       0.41       0.29        -0.06   \n",
       "l_2ndWon                1.00     0.70       0.36       0.25        -0.02   \n",
       "l_SvGms                 0.70     1.00       0.29       0.27        -0.05   \n",
       "l_bpSaved               0.36     0.29       1.00       0.91        -0.03   \n",
       "l_bpFaced               0.25     0.27       0.91       1.00        -0.05   \n",
       "winner_rank            -0.02    -0.05      -0.03      -0.05         1.00   \n",
       "winner_rank_points      0.01     0.04       0.03       0.05        -0.43   \n",
       "loser_rank             -0.07    -0.11      -0.03      -0.03         0.63   \n",
       "loser_rank_points       0.04     0.08       0.02       0.03        -0.38   \n",
       "tourney_spectators      0.09     0.06       0.07       0.09        -0.30   \n",
       "tourney_revenue         0.08     0.03       0.06       0.08        -0.27   \n",
       "\n",
       "                    winner_rank_points  loser_rank  loser_rank_points  \\\n",
       "draw_size                         0.33       -0.32               0.28   \n",
       "match_num                         0.13       -0.19               0.13   \n",
       "winner_id                        -0.17        0.29              -0.13   \n",
       "winner_ht                         0.03       -0.03               0.00   \n",
       "winner_age                        0.25       -0.29               0.19   \n",
       "loser_id                         -0.17        0.35              -0.15   \n",
       "loser_ht                          0.00        0.00              -0.02   \n",
       "loser_age                         0.21       -0.39               0.24   \n",
       "best_of                           0.25       -0.13               0.16   \n",
       "minutes                           0.06       -0.13               0.11   \n",
       "w_ace                             0.07       -0.05               0.04   \n",
       "w_df                             -0.01       -0.03               0.02   \n",
       "w_svpt                            0.03       -0.13               0.10   \n",
       "w_1stIn                           0.04       -0.14               0.10   \n",
       "w_1stWon                          0.06       -0.12               0.10   \n",
       "w_2ndWon                          0.01       -0.07               0.04   \n",
       "w_SvGms                           0.05       -0.11               0.08   \n",
       "w_bpSaved                        -0.01       -0.08               0.06   \n",
       "w_bpFaced                        -0.01       -0.10               0.07   \n",
       "l_ace                             0.03       -0.08               0.08   \n",
       "l_df                             -0.02        0.02               0.01   \n",
       "l_svpt                            0.05       -0.11               0.08   \n",
       "l_1stIn                           0.06       -0.12               0.09   \n",
       "l_1stWon                          0.05       -0.12               0.09   \n",
       "l_2ndWon                          0.01       -0.07               0.04   \n",
       "l_SvGms                           0.04       -0.11               0.08   \n",
       "l_bpSaved                         0.03       -0.03               0.02   \n",
       "l_bpFaced                         0.05       -0.03               0.03   \n",
       "winner_rank                      -0.43        0.63              -0.38   \n",
       "winner_rank_points                1.00       -0.36               0.49   \n",
       "loser_rank                       -0.36        1.00              -0.46   \n",
       "loser_rank_points                 0.49       -0.46               1.00   \n",
       "tourney_spectators                0.31       -0.30               0.27   \n",
       "tourney_revenue                   0.28       -0.27               0.24   \n",
       "\n",
       "                    tourney_spectators  tourney_revenue  \n",
       "draw_size                         0.93             0.84  \n",
       "match_num                         0.27             0.18  \n",
       "winner_id                        -0.20            -0.18  \n",
       "winner_ht                         0.02             0.02  \n",
       "winner_age                        0.19             0.17  \n",
       "loser_id                         -0.20            -0.19  \n",
       "loser_ht                         -0.01            -0.00  \n",
       "loser_age                         0.20             0.18  \n",
       "best_of                           0.34             0.33  \n",
       "minutes                           0.12             0.10  \n",
       "w_ace                             0.06             0.06  \n",
       "w_df                              0.04             0.04  \n",
       "w_svpt                            0.13             0.12  \n",
       "w_1stIn                           0.13             0.12  \n",
       "w_1stWon                          0.13             0.13  \n",
       "w_2ndWon                          0.09             0.09  \n",
       "w_SvGms                           0.07             0.04  \n",
       "w_bpSaved                         0.06             0.05  \n",
       "w_bpFaced                         0.07             0.06  \n",
       "l_ace                             0.05             0.05  \n",
       "l_df                              0.03             0.03  \n",
       "l_svpt                            0.13             0.13  \n",
       "l_1stIn                           0.13             0.12  \n",
       "l_1stWon                          0.11             0.11  \n",
       "l_2ndWon                          0.09             0.08  \n",
       "l_SvGms                           0.06             0.03  \n",
       "l_bpSaved                         0.07             0.06  \n",
       "l_bpFaced                         0.09             0.08  \n",
       "winner_rank                      -0.30            -0.27  \n",
       "winner_rank_points                0.31             0.28  \n",
       "loser_rank                       -0.30            -0.27  \n",
       "loser_rank_points                 0.27             0.24  \n",
       "tourney_spectators                1.00             0.90  \n",
       "tourney_revenue                   0.90             1.00  \n",
       "\n",
       "[34 rows x 34 columns]"
      ]
     },
     "execution_count": 57,
     "metadata": {},
     "output_type": "execute_result"
    }
   ],
   "source": [
    "matrix = df.corr() #use pearson\n",
    "matrix"
   ]
  },
  {
   "cell_type": "markdown",
   "id": "d4c4d5c7",
   "metadata": {},
   "source": [
    "To visualize in a better way the correlation between numerical attributes we use heatmap. Cell's colors represent intensity of correlection between two attributes."
   ]
  },
  {
   "cell_type": "code",
   "execution_count": 58,
   "id": "0eabf516",
   "metadata": {},
   "outputs": [
    {
     "ename": "NameError",
     "evalue": "name 'sn' is not defined",
     "output_type": "error",
     "traceback": [
      "\u001b[0;31m---------------------------------------------------------------------------\u001b[0m",
      "\u001b[0;31mNameError\u001b[0m                                 Traceback (most recent call last)",
      "\u001b[0;32m/var/folders/q3/n1kzrjss3rlcf4h0671f29640000gn/T/ipykernel_27304/1395786969.py\u001b[0m in \u001b[0;36m<module>\u001b[0;34m\u001b[0m\n\u001b[1;32m      1\u001b[0m \u001b[0mfig\u001b[0m\u001b[0;34m,\u001b[0m \u001b[0max\u001b[0m \u001b[0;34m=\u001b[0m \u001b[0mplt\u001b[0m\u001b[0;34m.\u001b[0m\u001b[0msubplots\u001b[0m\u001b[0;34m(\u001b[0m\u001b[0mfigsize\u001b[0m\u001b[0;34m=\u001b[0m\u001b[0;34m(\u001b[0m\u001b[0;36m30\u001b[0m\u001b[0;34m,\u001b[0m \u001b[0;36m30\u001b[0m\u001b[0;34m)\u001b[0m\u001b[0;34m)\u001b[0m         \u001b[0;31m# Sample figsize in inches\u001b[0m\u001b[0;34m\u001b[0m\u001b[0;34m\u001b[0m\u001b[0m\n\u001b[0;32m----> 2\u001b[0;31m \u001b[0msn\u001b[0m\u001b[0;34m.\u001b[0m\u001b[0mheatmap\u001b[0m\u001b[0;34m(\u001b[0m\u001b[0mmatrix\u001b[0m\u001b[0;34m,\u001b[0m \u001b[0mannot\u001b[0m\u001b[0;34m=\u001b[0m\u001b[0;32mTrue\u001b[0m\u001b[0;34m)\u001b[0m\u001b[0;34m\u001b[0m\u001b[0;34m\u001b[0m\u001b[0m\n\u001b[0m\u001b[1;32m      3\u001b[0m \u001b[0mplt\u001b[0m\u001b[0;34m.\u001b[0m\u001b[0mshow\u001b[0m\u001b[0;34m(\u001b[0m\u001b[0;34m)\u001b[0m\u001b[0;34m\u001b[0m\u001b[0;34m\u001b[0m\u001b[0m\n",
      "\u001b[0;31mNameError\u001b[0m: name 'sn' is not defined"
     ]
    },
    {
     "data": {
      "image/png": "[encoded data removed]",
      "text/plain": [
       "<Figure size 2160x2160 with 1 Axes>"
      ]
     },
     "metadata": {
      "needs_background": "light"
     },
     "output_type": "display_data"
    }
   ],
   "source": [
    "fig, ax = plt.subplots(figsize=(30, 30))         # Sample figsize in inches\n",
    "sn.heatmap(matrix, annot=True)\n",
    "plt.show()"
   ]
  },
  {
   "cell_type": "code",
   "execution_count": null,
   "id": "957ad3a6",
   "metadata": {},
   "outputs": [],
   "source": [
    "pd.plotting.scatter_matrix(df[['draw_size', 'tourney_revenue', 'tourney_spectators']], figsize = (15, 10))\n",
    "plt.show()"
   ]
  },
  {
   "cell_type": "code",
   "execution_count": 59,
   "id": "2395add6",
   "metadata": {},
   "outputs": [],
   "source": [
    "def scatter_subplots(cell, x, y, x_label, y_label):\n",
    "    cell.scatter(x, y)\n",
    "    cell.set_title('Corr(' + x_label + ',' + y_label +'): ' + str(x.corr(y)))\n",
    "    cell.set_xlabel(x_label)\n",
    "    cell.set_ylabel(y_label)\n"
   ]
  },
  {
   "cell_type": "code",
   "execution_count": 60,
   "id": "d8c1c0c4",
   "metadata": {},
   "outputs": [
    {
     "data": {
      "image/png": "[encoded data removed]",
      "text/plain": [
       "<Figure size 1080x360 with 2 Axes>"
      ]
     },
     "metadata": {
      "needs_background": "light"
     },
     "output_type": "display_data"
    }
   ],
   "source": [
    "f, axs = plt.subplots(nrows = 1, ncols = 2, figsize=(15,5))\n",
    "scatter_subplots(axs[0], df.l_bpSaved, df.l_bpFaced, 'l_bpSaved', 'l_bpFaced')\n",
    "scatter_subplots(axs[1], df.w_bpSaved, df.w_bpFaced, 'w_bpSaved', 'w_bpFaced')"
   ]
  },
  {
   "cell_type": "code",
   "execution_count": 61,
   "id": "387c343b",
   "metadata": {},
   "outputs": [
    {
     "name": "stdout",
     "output_type": "stream",
     "text": [
      "Corr( l_svpt, l_1stIn) = 0.9319417311913123 \n",
      "Corr( l_svpt, l_1stWon) = 0.910693844057097 \n",
      "Corr(l_1stIn, l_1stWon) = 0.9360085555764611 \n",
      "Corr(l_SvGms, l_1stIn) = 0.7838282688029007 \n",
      "Corr(l_SvGms, l_svpt) = 0.8137058970609681 \n",
      "Corr(l_SvGms, l_1stWon) = 0.8244147349087201\n"
     ]
    },
    {
     "data": {
      "image/png": "[encoded data removed]",
      "text/plain": [
       "<Figure size 1080x720 with 16 Axes>"
      ]
     },
     "metadata": {
      "needs_background": "light"
     },
     "output_type": "display_data"
    }
   ],
   "source": [
    "pd.plotting.scatter_matrix(df[['l_svpt', 'l_1stIn', 'l_1stWon', 'l_SvGms']], figsize = (15, 10))\n",
    "print(\"Corr( l_svpt, l_1stIn) =\", df.l_svpt.corr(df.l_1stIn), \"\\nCorr( l_svpt, l_1stWon) =\", df.l_svpt.corr(df.l_1stWon), \"\\nCorr(l_1stIn, l_1stWon) =\", df.l_1stIn.corr(df.l_1stWon),\n",
    "     \"\\nCorr(l_SvGms, l_1stIn) =\", df.l_SvGms.corr(df.l_1stIn),  \"\\nCorr(l_SvGms, l_svpt) =\", df.w_SvGms.corr(df.l_1stWon), \"\\nCorr(l_SvGms, l_1stWon) =\", df.l_SvGms.corr(df.l_1stWon),)\n",
    "plt.show()"
   ]
  },
  {
   "cell_type": "code",
   "execution_count": 62,
   "id": "f8dd48c2",
   "metadata": {},
   "outputs": [
    {
     "name": "stdout",
     "output_type": "stream",
     "text": [
      "Corr( w_svpt, w_1stIn) = 0.9388322600259309 \n",
      "Corr( w_svpt, w_1stWon) = 0.8959609753434058 \n",
      "Corr(w_1stIn, w_1stWon) = 0.9430301137263992 \n",
      "Corr(w_SvGms, w_1stIn) = 0.776190736978346 \n",
      "Corr(w_SvGms, w_svpt) = 0.7943667156021388 \n",
      "Corr(w_SvGms, w_1stWon) = 0.7943667156021388\n"
     ]
    },
    {
     "data": {
      "image/png": "[encoded data removed]",
      "text/plain": [
       "<Figure size 1080x720 with 16 Axes>"
      ]
     },
     "metadata": {
      "needs_background": "light"
     },
     "output_type": "display_data"
    }
   ],
   "source": [
    "pd.plotting.scatter_matrix(df[['w_svpt', 'w_1stIn', 'w_1stWon', 'w_SvGms']], figsize = (15, 10))\n",
    "print(\"Corr( w_svpt, w_1stIn) =\", df.w_svpt.corr(df.w_1stIn), \"\\nCorr( w_svpt, w_1stWon) =\", df.w_svpt.corr(df.w_1stWon), \"\\nCorr(w_1stIn, w_1stWon) =\", df.w_1stIn.corr(df.w_1stWon),\n",
    "     \"\\nCorr(w_SvGms, w_1stIn) =\", df.w_SvGms.corr(df.w_1stIn),  \"\\nCorr(w_SvGms, w_svpt) =\", df.w_SvGms.corr(df.w_1stWon), \"\\nCorr(w_SvGms, w_1stWon) =\", df.w_SvGms.corr(df.w_1stWon))\n",
    "plt.show()\n"
   ]
  },
  {
   "cell_type": "code",
   "execution_count": 63,
   "id": "7d83ec5a",
   "metadata": {},
   "outputs": [
    {
     "data": {
      "image/png": "[encoded data removed]",
      "text/plain": [
       "<Figure size 1656x1656 with 16 Axes>"
      ]
     },
     "metadata": {
      "needs_background": "light"
     },
     "output_type": "display_data"
    }
   ],
   "source": [
    "f, axs = plt.subplots(nrows = 4, ncols = 4, figsize=(23,23))\n",
    "scatter_subplots(axs[0][0], df.l_svpt, df.w_svpt, 'l_svpt', 'w_svpt')\n",
    "scatter_subplots(axs[0][1], df.l_svpt, df.w_1stIn, 'l_svpt', 'w_1stIn')\n",
    "scatter_subplots(axs[0][2], df.l_svpt, df.w_1stWon, 'l_svpt', 'w_1stWon')\n",
    "scatter_subplots(axs[0][3], df.l_svpt, df.w_1stWon, 'l_svpt', 'w_1stWon')\n",
    "\n",
    "scatter_subplots(axs[1][0], df.l_1stIn, df.w_svpt, 'l_1stIn', 'w_svpt')\n",
    "scatter_subplots(axs[1][1], df.l_1stIn, df.w_1stIn, 'l_1stIn', 'w_1stIn')\n",
    "scatter_subplots(axs[1][2], df.l_1stIn, df.w_1stWon, 'l_1stIn', 'w_1stWon')\n",
    "scatter_subplots(axs[1][3], df.l_1stIn, df.w_1stWon, 'l_1stIn', 'w_SvGms')\n",
    "\n",
    "\n",
    "scatter_subplots(axs[2][0], df.l_1stWon, df.w_svpt, 'l_1stWon', 'w_svpt')\n",
    "scatter_subplots(axs[2][1], df.l_1stWon, df.w_1stIn, 'l_1stWon', 'w_1stIn')\n",
    "scatter_subplots(axs[2][2], df.l_1stWon, df.w_1stWon, 'l_1stWon', 'w_1stWon')\n",
    "scatter_subplots(axs[2][3], df.l_1stWon, df.w_1stWon, 'l_1stWon', 'w_SvGms')\n",
    "\n",
    "scatter_subplots(axs[3][0], df.l_SvGms, df.w_svpt, 'l_SvGms', 'w_svpt')\n",
    "scatter_subplots(axs[3][1], df.l_SvGms, df.w_1stIn, 'l_SvGms', 'w_1stIn')\n",
    "scatter_subplots(axs[3][2], df.l_SvGms, df.w_1stWon, 'l_SvGms', 'w_1stWon')\n",
    "scatter_subplots(axs[3][3], df.l_SvGms, df.w_1stWon, 'l_SvGms', 'w_SvGms')\n",
    "\n",
    "plt.show()"
   ]
  },
  {
   "cell_type": "code",
   "execution_count": 64,
   "id": "aece8a72",
   "metadata": {},
   "outputs": [
    {
     "data": {
      "image/png": "[encoded data removed]",
      "text/plain": [
       "<Figure size 432x288 with 1 Axes>"
      ]
     },
     "metadata": {
      "needs_background": "light"
     },
     "output_type": "display_data"
    }
   ],
   "source": [
    "plot = df.plot.scatter(x = 'winner_id', y = 'loser_id')\n",
    "plot.set_title('Corr(winner_id, loser_id): ' + str(df.winner_id.corr(df.loser_id)))\n",
    "plt.show()"
   ]
  },
  {
   "cell_type": "markdown",
   "id": "888efc66",
   "metadata": {},
   "source": [
    "## Missing Value, Outliers"
   ]
  },
  {
   "cell_type": "markdown",
   "id": "67a28343",
   "metadata": {},
   "source": [
    "We identify players with their physical aspects that do not change among matches"
   ]
  },
  {
   "cell_type": "code",
   "execution_count": null,
   "id": "5490ee6c",
   "metadata": {
    "scrolled": true
   },
   "outputs": [],
   "source": [
    " df.groupby(['winner_name']).winner_hand.size() - df.groupby(['winner_name']).winner_hand.value_counts()"
   ]
  },
  {
   "cell_type": "code",
   "execution_count": null,
   "id": "a2eb2306",
   "metadata": {},
   "outputs": [],
   "source": [
    "df.groupby(['winner_name']).winner_hand.unique().value_counts()"
   ]
  },
  {
   "cell_type": "code",
   "execution_count": null,
   "id": "414ae0f7",
   "metadata": {},
   "outputs": [],
   "source": []
  }
 ],
 "metadata": {
  "interpreter": {
   "hash": "31f2aee4e71d21fbe5cf8b01ff0e069b9275f58929596ceb00d14d90e3e16cd6"
  },
  "kernelspec": {
   "display_name": "Python 3 (ipykernel)",
   "language": "python",
   "name": "python3"
  },
  "language_info": {
   "codemirror_mode": {
    "name": "ipython",
    "version": 3
   },
   "file_extension": ".py",
   "mimetype": "text/x-python",
   "name": "python",
   "nbconvert_exporter": "python",
   "pygments_lexer": "ipython3",
   "version": "3.8.2"
  }
 },
 "nbformat": 4,
 "nbformat_minor": 5
}
