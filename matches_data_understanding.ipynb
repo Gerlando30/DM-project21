{
 "cells": [
  {
   "cell_type": "markdown",
   "id": "fb6f876b",
   "metadata": {},
   "source": [
    "<span>\n",
    "<b>Authors:</b> \n",
    "<a href=\"http://------\">Ornela Danushi </a>\n",
    "<a href=\"http://------\">Gerlando Gramaglia </a>\n",
    "<a href=\"http://------\">Domenico Profumo </a><br/>\n",
    "<b>Python version:</b>  3.x<br/>\n",
    "</span>"
   ]
  },
  {
   "cell_type": "markdown",
   "id": "2eae0051",
   "metadata": {
    "tags": []
   },
   "source": [
    "# Data Understanding & Preparation on Tennis Matches dataset \n",
    "Explore the dataset by studying the data quality, their distribution among several different features and the correlations.\n",
    "\n",
    "The **central component** of the data science toolkit is **Pandas library** is a and it is used in conjunction with other libraries in that collection. Pandas is built on top of the **NumPy package**, meaning a lot of the structure of NumPy is used or replicated in Pandas. Data in pandas is often used to feed statistical analysis in **SciPy**, plotting functions from **Matplotlib**, and machine learning algorithms in Scikit-learn.\n"
   ]
  },
  {
   "cell_type": "code",
   "execution_count": 1,
   "id": "d010f341",
   "metadata": {},
   "outputs": [],
   "source": [
    "import pandas as pd\n",
    "import math\n",
    "import numpy as np\n",
    "import scipy.stats as stats\n",
    "import matplotlib.pyplot as plt\n",
    "from collections import defaultdict\n",
    "from scipy.stats.stats import pearsonr"
   ]
  },
  {
   "cell_type": "code",
   "execution_count": 2,
   "id": "ada3fc3f",
   "metadata": {},
   "outputs": [],
   "source": [
    "#df.dtypes #return the type of each attribute but is already included in the df.info() called later"
   ]
  },
  {
   "cell_type": "markdown",
   "id": "b6d917a0",
   "metadata": {},
   "source": [
    "# Types of Attributes and basic checks \n",
    "## Data Quality with reference to Syntactic Accuracy\n",
    "\n",
    "Check the data integrity, that is whether there are any empty cells or corrupted data. \n",
    "We will use for this purpose the Pandas function **info()**, which checks if there is any \n",
    "null value in any column. This function also checks data type for each column, as well as \n",
    "number of each data types and number of observations (rows).\n",
    "\n",
    "Moreover we check if each attribute is syntactically correct according to the specifications"
   ]
  },
  {
   "cell_type": "code",
   "execution_count": 56,
   "id": "b89625d5",
   "metadata": {
    "scrolled": true
   },
   "outputs": [
    {
     "name": "stdout",
     "output_type": "stream",
     "text": [
      "<class 'pandas.core.frame.DataFrame'>\n",
      "Int64Index: 186128 entries, 0 to 186127\n",
      "Data columns (total 51 columns):\n",
      " #   Column              Non-Null Count   Dtype  \n",
      "---  ------              --------------   -----  \n",
      " 0   tourney_id          186073 non-null  object \n",
      " 1   tourney_name        186103 non-null  object \n",
      " 2   surface             185940 non-null  object \n",
      " 3   draw_size           186099 non-null  float64\n",
      " 4   tourney_level       186099 non-null  object \n",
      " 5   tourney_date        186100 non-null  float64\n",
      " 6   match_num           186101 non-null  float64\n",
      " 7   winner_id           186073 non-null  float64\n",
      " 8   winner_entry        25827 non-null   object \n",
      " 9   winner_name         186101 non-null  object \n",
      " 10  winner_hand         186082 non-null  object \n",
      " 11  winner_ht           49341 non-null   float64\n",
      " 12  winner_ioc          186099 non-null  object \n",
      " 13  winner_age          183275 non-null  float64\n",
      " 14  loser_id            186100 non-null  float64\n",
      " 15  loser_entry         44154 non-null   object \n",
      " 16  loser_name          186097 non-null  object \n",
      " 17  loser_hand          186030 non-null  object \n",
      " 18  loser_ht            38348 non-null   float64\n",
      " 19  loser_ioc           186102 non-null  object \n",
      " 20  loser_age           179590 non-null  float64\n",
      " 21  score               185929 non-null  object \n",
      " 22  best_of             186099 non-null  float64\n",
      " 23  round               186098 non-null  object \n",
      " 24  minutes             81660 non-null   float64\n",
      " 25  w_ace               82310 non-null   float64\n",
      " 26  w_df                82312 non-null   float64\n",
      " 27  w_svpt              82310 non-null   float64\n",
      " 28  w_1stIn             82310 non-null   float64\n",
      " 29  w_1stWon            82312 non-null   float64\n",
      " 30  w_2ndWon            82309 non-null   float64\n",
      " 31  w_SvGms             82311 non-null   float64\n",
      " 32  w_bpSaved           82315 non-null   float64\n",
      " 33  w_bpFaced           82312 non-null   float64\n",
      " 34  l_ace               82313 non-null   float64\n",
      " 35  l_df                82319 non-null   float64\n",
      " 36  l_svpt              82315 non-null   float64\n",
      " 37  l_1stIn             82304 non-null   float64\n",
      " 38  l_1stWon            82311 non-null   float64\n",
      " 39  l_2ndWon            82312 non-null   float64\n",
      " 40  l_SvGms             82318 non-null   float64\n",
      " 41  l_bpSaved           82311 non-null   float64\n",
      " 42  l_bpFaced           82306 non-null   float64\n",
      " 43  winner_rank         166719 non-null  float64\n",
      " 44  winner_rank_points  166701 non-null  float64\n",
      " 45  loser_rank          150845 non-null  float64\n",
      " 46  loser_rank_points   150828 non-null  float64\n",
      " 47  tourney_spectators  186101 non-null  float64\n",
      " 48  tourney_revenue     186102 non-null  float64\n",
      " 49  winner_gender       183424 non-null  object \n",
      " 50  loser_gender        183999 non-null  object \n",
      "dtypes: float64(35), object(16)\n",
      "memory usage: 73.8+ MB\n"
     ]
    }
   ],
   "source": [
    "df = df = pd.read_csv('matches_with_gender.csv', index_col = 0)\n",
    "df.info()"
   ]
  },
  {
   "cell_type": "markdown",
   "id": "3eef7633",
   "metadata": {},
   "source": [
    "\n"
   ]
  },
  {
   "cell_type": "markdown",
   "id": "e9fe0db4",
   "metadata": {},
   "source": [
    "## Classification of Data Domain\n",
    "\n",
    "### Tourney\n",
    "\n",
    "   - *tourney_id* - ***object*** \n",
    "   - *tourney_name* - ***object*** \n",
    "   - *tourney_level* - ***object***\n",
    "   - *tourney_spectators* - ***float64*** \n",
    "   - *tourney_revenue* - ***float64***\n",
    "    \n",
    "### Matches\n",
    " \n",
    "   - *match_num*- ***float64***\n",
    "   - *surface* - ***object***\n",
    "   - *draw_size* - ***float64*** => ***int64*** \n",
    "   - *tourney_date* - ***float64*** => ***Datetime64***\n",
    "   - *minutes* - ***float64*** \n",
    "   - *score* - ***object***\n",
    "   - *round* - ***object*** \n",
    "   - *best_of* - ***float64***\n",
    "\n",
    "### Players\n",
    " \n",
    "   - *winner_id*- ***float64***          ||       *loser_id*- ***float64*** \n",
    "   - *winner_name* - ***object***        ||       *loser_name* - ***object***\n",
    "   - *winner_ioc* - ***object***         ||       *loser_ioc* - ***object*** \n",
    "   - *winner_ht*- ***float64***          ||       *loser_ht*- ***float64*** \n",
    "   - *winner_age*- ***float64***         ||       *loser_age*- ***float64*** \n",
    "   - *winner_hand* - ***object***        ||       *loser_hand* - ***object***\n",
    "   - *winner_entry* - ***object***       ||       *loser_entry* - ***object***\n",
    "   - *winner_rank* - ***float64***       ||       *loser_rank* - ***float64***\n",
    "   - *winner_rank_points* - ***float64***||       *loser_rank_points* - ***float64***\n",
    "   - *w_ace* - ***float64***             ||       *l_ace* - ***float64***\n",
    "   - *w_df* - ***float64***              ||       *l_df* - ***float64***\n",
    "   - *w_svpt* - ***float64***            ||       *l_svpt* - ***float64*** \n",
    "   - *w_1stIn* - ***float64***           ||       *l_1stIn* - ***float64***\n",
    "   - *w_1stWon* - ***float64***          ||       *l_1stWon* - ***float64***\n",
    "   - *w_2ndWon* - ***float64***          ||       *l_2ndWon* - ***float64***\n",
    "   - *w_SvGms* - ***float64***           ||       *l_SvGms* - ***float64***\n",
    "   - *w_bpSaved* - ***float64***         ||       *l_bpSaved* - ***float64***\n",
    "   - *w_bpFaced* - ***float64***         ||       *l_bpFaced* - ***float64*** \n",
    "   - *winner_gender* - ***object***      ||       *loser_gender* - ***object*** \n",
    " "
   ]
  },
  {
   "cell_type": "markdown",
   "id": "b16b444b",
   "metadata": {},
   "source": [
    "# Data Semantics\n",
    "\n",
    "In this part we analyze each attributes type, conversion type, relationship, NaN and negative values check"
   ]
  },
  {
   "cell_type": "markdown",
   "id": "55daf69c",
   "metadata": {},
   "source": [
    "## Tourney\n"
   ]
  },
  {
   "cell_type": "markdown",
   "id": "fbe70ce6",
   "metadata": {},
   "source": [
    "### tourney_id\n",
    "\n",
    "has to be unique and the first four characters are always the year while the remaining part is random\n",
    "\n",
    "Analysis:\n",
    "\n",
    "Split the value of the attribute in 2 parts, the first with 4 characters and the second with the remaing characters.\n",
    "For both the parts build a set inserting each different year and id. \n",
    "Count how many wrong years are inserted through a NaN value. \n",
    "To detect the wrong ids is more difficult since they are random and don't follow a known a structure.\n",
    "We can only conclude that the wrong id elements are those deriving from the wrong years.\n",
    "\n",
    "NOTE: The decision to take is to delete or edit all these attributes."
   ]
  },
  {
   "cell_type": "code",
   "execution_count": 4,
   "id": "f34b3d7a",
   "metadata": {},
   "outputs": [
    {
     "name": "stdout",
     "output_type": "stream",
     "text": [
      "description of tourney_id:\n",
      "count       186073\n",
      "unique        4853\n",
      "top       2018-560\n",
      "freq           478\n",
      "Name: tourney_id, dtype: object\n",
      "null_values: 55\n",
      "Present years: ['2019' '2018' '2017' '2016' '2020' '2021' nan]\n"
     ]
    }
   ],
   "source": [
    "print(\"description of tourney_id:\" + \"\\n\"+str(df['tourney_id'].describe()))\n",
    "\n",
    "print(\"null_values: \"+ str(df['tourney_id'].isnull().sum())) #55\n",
    "tourney_year= df['tourney_id'].str[:4]\n",
    "tourney_id= df['tourney_id'].str[5:]\n",
    "\n",
    "print(\"Present years: \"+ str(tourney_year.unique())) #['2019' '2018' '2017' '2016' '2020' '2021' nan]\n"
   ]
  },
  {
   "cell_type": "markdown",
   "id": "12471868",
   "metadata": {},
   "source": [
    "### tourney_name\n",
    "is the name of the tourney\n",
    "\n",
    "Analysis: non ci sono molti valori null, i nomi univoci risultano essere 2488, ciò mi fa pensare che in totale abbiamo 2488 torney diversi ma biosgna prima controllare la correttezza dei nomi. Per ogni torneo poso contare il numero di match diverse che si sono svolti e li salvo in tourney_match_dim"
   ]
  },
  {
   "cell_type": "code",
   "execution_count": 54,
   "id": "5634e4a5",
   "metadata": {},
   "outputs": [
    {
     "name": "stdout",
     "output_type": "stream",
     "text": [
      "description of tourney_name:\n",
      "count          186103\n",
      "unique           2488\n",
      "top       W15 Antalya\n",
      "freq             4634\n",
      "Name: tourney_name, dtype: object\n",
      "null_values: 25\n",
      "             tourney_name  size\n",
      "0        's Hertogenbosch    97\n",
      "1     ATP Next Gen Finals    16\n",
      "2               Abu Dhabi    87\n",
      "3                Acapulco   522\n",
      "4                Adelaide   128\n",
      "...                   ...   ...\n",
      "2483          Zhuhai $50K    31\n",
      "2484          Zhuhai $60K    62\n",
      "2485            Zhuhai CH   220\n",
      "2486      s Hertogenbosch   156\n",
      "2487      s-Hertogenbosch    52\n",
      "\n",
      "[2488 rows x 2 columns]\n"
     ]
    }
   ],
   "source": [
    "print(\"description of tourney_name:\" + \"\\n\"+str(df.tourney_name.describe()))\n",
    "print(\"null_values: \"+ str(df.tourney_name.isnull().sum())) #25\n",
    "\n",
    "tourney_match_dim=df.groupby(df.tourney_name,as_index=False).size()\n",
    "print(tourney_match_dim)"
   ]
  },
  {
   "cell_type": "markdown",
   "id": "0369fd38",
   "metadata": {},
   "source": [
    "### tourney_level\n",
    "they are split for men and women.\n",
    "\n",
    "○ For men: 'G' = Grand Slams, 'M' = Masters 1000s, 'A' = other tour-level\n",
    "events, 'C' = Challengers, 'S' = Satellites/ITFs, 'F' = Tour finals and other\n",
    "season-ending events, and 'D' = Davis Cup. F\n",
    "\n",
    "○ For women, there are several additional tourney_level codes, including 'P' =\n",
    "Premier, 'PM' = Premier Mandatory, and 'I' = International. The various levels\n",
    "of ITFs are given by the prize money (in thousands), such as '15' = ITF\n",
    "$15,000. Other codes, such as 'T1' for Tier I (and so on) are used for older\n",
    "WTA tournament designations. 'D' is used for the Federation/Fed/Billie Jean\n",
    "King Cup, and also for the Wightman Cup and Bonne Bell Cup.\n",
    "\n",
    "○ There is also some competition which can be for both men and women: 'E' =\n",
    "exhibition (events not sanctioned by the tour, though the definitions can be\n",
    "ambiguous), 'J' = juniors, and 'T' = team tennis, which does yet appear\n",
    "anywhere in the dataset but will at some point.\n",
    "\n",
    "\n",
    "Analisi: Abbiamo pochi valori null che possiamo rimpiazzare facendo un analisi sul tipo di torneo e il sesso dell'avversario. Possiamo inoltre utilizzare i range dei valori per scoprire info sul sesso del giocatore dato che i nomi univoci sono poco ed appartngono tutti a range specifici. Facciamo una scansione tramite for in cui identifico tutti i livelli delle donne dato che è l'unica categotia che contiene valori che altri non hanno"
   ]
  },
  {
   "cell_type": "code",
   "execution_count": 6,
   "id": "1fca9a8d",
   "metadata": {},
   "outputs": [
    {
     "name": "stdout",
     "output_type": "stream",
     "text": [
      "description of tourney_level:\n",
      "count     186099\n",
      "unique        19\n",
      "top           15\n",
      "freq       45807\n",
      "Name: tourney_level, dtype: object\n",
      "null_values: 29\n",
      "unique value:\n",
      "['A' 'P' 'G' 'I' 'M' 'PM' 'F' 'D' 'C' '15' '25' '60' '100' '80' '10' '50'\n",
      " '75' 'O' 'W' nan]\n",
      "iswomen: 18247\n",
      "unknown: 167881\n"
     ]
    }
   ],
   "source": [
    "print(\"description of tourney_level:\" + \"\\n\"+str(df.tourney_level.describe()))\n",
    "print(\"null_values: \"+ str(df.tourney_level.isnull().sum())) #29\n",
    "print(\"unique value:\" + \"\\n\"+str(df.tourney_level.unique())) \n",
    "\n",
    "#['A' 'P' 'G' 'I' 'M' 'PM' 'F' 'D' 'C' '15' '25' '60' '100' '80' '10' '50' '75' 'O' 'W' nan]\n",
    "\n",
    "men_levels=['G','M','A','C','S','F','D','E','J','T']\n",
    "women_levels=['G','M','A','C','S','F','D','E','J','T','P','PM','I','ITF','WTA','D']\n",
    "\n",
    "gender=[] #['M','W','-']\n",
    "\n",
    "test=df.tourney_level\n",
    "iswomen=0\n",
    "unknown=0\n",
    "\n",
    "for i in test:\n",
    "    if(i=='P' or i=='PM' or i=='I' or i=='ITF' or i=='WTA' or i=='D'):\n",
    "        iswomen +=1\n",
    "    else:\n",
    "        unknown +=1\n",
    "\n",
    "print(\"iswomen: \" + str(iswomen))\n",
    "print(\"unknown: \" + str(unknown))\n",
    "\n"
   ]
  },
  {
   "cell_type": "markdown",
   "id": "c8c6cdf1",
   "metadata": {},
   "source": [
    "### tourney_spectators     tourney_revenue\n",
    "\n",
    "Numero di spettatori del torneo e guadagno totale. \n",
    "\n",
    "Analisi: Anche qui abbiamo dei valori null che potremmo escludere dato che sono pochi, inoltre un analisi potrebbe essere quella di valutare le entrate in base al tipo di torneo e proporzionare il numero di spettatori con il guadagno ottenuto per capire il costo in media di una partita (utile a scopo statistico)"
   ]
  },
  {
   "cell_type": "code",
   "execution_count": 162,
   "id": "f495e49d",
   "metadata": {
    "scrolled": true
   },
   "outputs": [
    {
     "name": "stdout",
     "output_type": "stream",
     "text": [
      "\n",
      "description of:\n",
      "       tourney_spectators  tourney_revenue\n",
      "count       186101.000000     1.861020e+05\n",
      "mean          4108.569153     8.226442e+05\n",
      "std           2707.042984     6.008570e+05\n",
      "min             91.000000     1.786574e+04\n",
      "25%           2836.000000     5.473662e+05\n",
      "50%           3340.000000     6.633297e+05\n",
      "75%           4008.000000     8.340290e+05\n",
      "max          18086.000000     5.002794e+06\n",
      "null_values:\t       27\t\t26\n"
     ]
    }
   ],
   "source": [
    "print(\"\\ndescription of:\" + \"\\n\"+str(df[['tourney_spectators', 'tourney_revenue']].describe()))\n",
    "print(\"null_values:\\t       \"+ str(df.tourney_spectators.isnull().sum()) + \"\\t\\t\"\n",
    "      + str(df.tourney_revenue.isnull().sum())) #27 | 26\n"
   ]
  },
  {
   "cell_type": "markdown",
   "id": "d32afa93",
   "metadata": {},
   "source": [
    "## Matches"
   ]
  },
  {
   "cell_type": "markdown",
   "id": "01c33fd9",
   "metadata": {},
   "source": [
    "### match_num\n",
    "\n",
    "a match-specific identifier. Often starting from 1, sometimes counting down from 300, and sometimes arbitrary.\n",
    "\n",
    "Analysis: Anche qui abbiamo pochi valori null, il numero di match deve combaciare con il numero di valori del torneo"
   ]
  },
  {
   "cell_type": "code",
   "execution_count": 66,
   "id": "44f4fcbc",
   "metadata": {},
   "outputs": [
    {
     "name": "stdout",
     "output_type": "stream",
     "text": [
      "description of match_num:\n",
      "count    186101.000000\n",
      "mean        160.627992\n",
      "std         289.326473\n",
      "min           1.000000\n",
      "25%          17.000000\n",
      "50%         131.000000\n",
      "75%         272.000000\n",
      "max        8312.000000\n",
      "Name: match_num, dtype: float64\n",
      "null_values: 27\n",
      "match_num\n",
      "1.0       3530\n",
      "2.0       3532\n",
      "3.0       2726\n",
      "4.0       2955\n",
      "5.0       2802\n",
      "          ... \n",
      "8308.0       1\n",
      "8309.0       1\n",
      "8310.0       1\n",
      "8311.0       1\n",
      "8312.0       1\n",
      "Length: 929, dtype: int64\n"
     ]
    }
   ],
   "source": [
    "print(\"description of match_num:\" + \"\\n\"+str(df.match_num.describe()))\n",
    "print(\"null_values: \"+ str(df.match_num.isnull().sum())) #27\n",
    "\n",
    "match_dim=df.groupby(['match_num']).size()\n",
    "print(match_dim)"
   ]
  },
  {
   "cell_type": "markdown",
   "id": "e6be196e",
   "metadata": {},
   "source": [
    "### surface\n",
    "kind of surface for the match\n",
    "\n",
    "Analysis: le superfici sono sempre di quattro tipi 'Hard' 'Clay' 'Grass' 'Carpet', ci sono 188 valori null"
   ]
  },
  {
   "cell_type": "code",
   "execution_count": 9,
   "id": "73c447fa",
   "metadata": {},
   "outputs": [
    {
     "name": "stdout",
     "output_type": "stream",
     "text": [
      "description of surface:\n",
      "count     185940\n",
      "unique         4\n",
      "top         Hard\n",
      "freq       95243\n",
      "Name: surface, dtype: object\n",
      "null_values: 188\n",
      "unique value:\n",
      "['Hard' 'Clay' 'Grass' 'Carpet' nan]\n"
     ]
    }
   ],
   "source": [
    "print(\"description of surface:\" + \"\\n\"+str(df.surface.describe()))\n",
    "print(\"null_values: \"+ str(df.surface.isnull().sum())) #188\n",
    "print(\"unique value:\" + \"\\n\"+str(df.surface.unique()))  #['Hard' 'Clay' 'Grass' 'Carpet' nan]"
   ]
  },
  {
   "cell_type": "markdown",
   "id": "292f0312",
   "metadata": {},
   "source": [
    "### draw_size\n",
    "\n",
    "number of players in the draw, often rounded up to the nearest power of 2. (For instance, a tournament with 28 players may be shown as 32.)\n",
    "\n",
    "Analysis: since all powers of 2 are integers the idea is to convert to the 'int' format. Dopo averli convertiti in interi abbiamo utilizzato una funzione logaritmica per capire il giusto esponente che mi permettesse di ottenere i numeri con potenza di 2 più vicini ad esempio 15->16 23->32 ecc.."
   ]
  },
  {
   "cell_type": "code",
   "execution_count": 10,
   "id": "6f2ec4b1",
   "metadata": {},
   "outputs": [
    {
     "name": "stdout",
     "output_type": "stream",
     "text": [
      "description of draw_size:\n",
      "count    186099.000000\n",
      "mean         41.037276\n",
      "std          25.349017\n",
      "min           2.000000\n",
      "25%          32.000000\n",
      "50%          32.000000\n",
      "75%          32.000000\n",
      "max         128.000000\n",
      "Name: draw_size, dtype: float64\n",
      "null_values: 29\n",
      "unique value (before conversion):\n",
      "[ 32. 128.  64.   8.   4.  29.  16.  30.  31.  20.  28.  23.  25.  27.\n",
      "  26.  19.  10.  15.  24.  18.  12.   2.  54.  48.  nan]\n",
      "unique value (after conversion):\n",
      "[ 32. 128.  64.   8.   4.  16.   2.  nan]\n"
     ]
    }
   ],
   "source": [
    "print(\"description of draw_size:\" + \"\\n\"+str(df.draw_size.describe()))\n",
    "print(\"null_values: \"+ str(df.draw_size.isnull().sum())) #29\n",
    "print(\"unique value (before conversion):\" + \"\\n\"+str(df.draw_size.unique()))  \n",
    "\n",
    "\n",
    "#[ 32. 128.  64.   8.   4.  29.  16.  30.  31.  20.  28.  23.  25.  27.\n",
    "#  26.  19.  10.  15.  24.  18.  12.   2.  54.  48.  nan]\n",
    "\n",
    "\n",
    "dw = df['draw_size']\n",
    "log= np.log2(df['draw_size'])\n",
    "for i in range(0, len(log)):\n",
    "    dec, inter = math.modf(log[i])\n",
    "    if dec == 0:\n",
    "        log[i] = inter\n",
    "    else:\n",
    "        log[i] = inter + 1\n",
    "dw = pow(2, log)\n",
    "\n",
    "df.draw_size=dw\n",
    "print(\"unique value (after conversion):\" + \"\\n\"+str(df.draw_size.unique()))  \n",
    "\n",
    "# [ 32. 128.  64.   8.   4.  16.   2.  nan]"
   ]
  },
  {
   "cell_type": "markdown",
   "id": "96ac3888",
   "metadata": {},
   "source": [
    "### tourney_date\n",
    "\n",
    "tourney_date: eight digits, YYYYMMDD, usually the Monday of the tournament week.\n",
    "\n",
    "Analysis:\n",
    "we convert type of tourney_date in Datetime64. Un analisi potrebbe essere quella di raggruppare ogni torneo con i match per le date associate ad esso in modo da riuscire a capire per ordine temporale le performace di ogni giocatore con il passare del tempo"
   ]
  },
  {
   "cell_type": "code",
   "execution_count": 11,
   "id": "40eaedfb",
   "metadata": {},
   "outputs": [
    {
     "name": "stdout",
     "output_type": "stream",
     "text": [
      "null_values: 28\n"
     ]
    },
    {
     "data": {
      "text/plain": [
       "0   2018-12-31\n",
       "1   2018-12-31\n",
       "2   2018-12-31\n",
       "3   2018-12-31\n",
       "4   2018-12-31\n",
       "Name: tourney_date, dtype: datetime64[ns]"
      ]
     },
     "execution_count": 11,
     "metadata": {},
     "output_type": "execute_result"
    }
   ],
   "source": [
    "df.tourney_date.describe()\n",
    "print(\"null_values: \"+ str(df.tourney_date.isnull().sum())) #28\n",
    "\n",
    "df['tourney_date'] = pd.to_datetime(df['tourney_date'], format='%Y%m%d')\n",
    "\n",
    "df.tourney_date.head()"
   ]
  },
  {
   "cell_type": "markdown",
   "id": "94bc9956",
   "metadata": {},
   "source": [
    "### minutes \n",
    "\n",
    "match length, where available\n",
    "\n",
    "analisi: I minuti sono di tipo float, secondo noi è meglio lasciarli in questo formato senza convertirli ulteriolmente per facilitare i controllo statistico dei dati. Dalla descrizione possiamo notare la presenza di tantissmi valori null e la presenza di alcuni outliers da gestire."
   ]
  },
  {
   "cell_type": "code",
   "execution_count": 12,
   "id": "d870e924",
   "metadata": {},
   "outputs": [
    {
     "name": "stdout",
     "output_type": "stream",
     "text": [
      "description of draw_size:\n",
      "count    81660.000000\n",
      "mean        97.675753\n",
      "std         41.492701\n",
      "min          0.000000\n",
      "25%         72.000000\n",
      "50%         91.000000\n",
      "75%        119.000000\n",
      "max       4756.000000\n",
      "Name: minutes, dtype: float64\n",
      "null_values: 104468\n"
     ]
    }
   ],
   "source": [
    "print(\"description of draw_size:\" + \"\\n\"+str(df.minutes.describe()))\n",
    "print(\"null_values: \"+ str(df.minutes.isnull().sum())) #104468\n"
   ]
  },
  {
   "cell_type": "markdown",
   "id": "27a75b71",
   "metadata": {},
   "source": [
    "### Score\n",
    "\n",
    "Rappresenta il punteggio di ogni match?\n",
    "\n",
    "Analysis: Abbiamo tanti valori unici quindi ci fa pensare a molti punteggi diversi tra le varie partite, abbiamo 199 partite di cui non conosciamo i relativi punteggi ottenuti. \n",
    "\n",
    "Il punteggio potrebbe essere messo in relazione con altri attributi come ad esempio i minuti o il best_of (che vedremo dopo)"
   ]
  },
  {
   "cell_type": "code",
   "execution_count": 13,
   "id": "ebbc5a8e",
   "metadata": {
    "scrolled": true
   },
   "outputs": [
    {
     "name": "stdout",
     "output_type": "stream",
     "text": [
      "description of score:\n",
      "count      185929\n",
      "unique       9705\n",
      "top       6-3 6-4\n",
      "freq         5377\n",
      "Name: score, dtype: object\n",
      "null_values: 199\n"
     ]
    }
   ],
   "source": [
    "print(\"description of score:\" + \"\\n\"+str(df.score.describe()))\n",
    "print(\"null_values: \"+ str(df.score.isnull().sum())) #199"
   ]
  },
  {
   "cell_type": "markdown",
   "id": "30eba9cd",
   "metadata": {},
   "source": [
    "### Round\n",
    "\n",
    "Analysis: Cosa significano?"
   ]
  },
  {
   "cell_type": "code",
   "execution_count": 14,
   "id": "08d4e91b",
   "metadata": {
    "scrolled": false
   },
   "outputs": [
    {
     "name": "stdout",
     "output_type": "stream",
     "text": [
      "description of best_of:\n",
      "count     186098\n",
      "unique        12\n",
      "top          R32\n",
      "freq       63069\n",
      "Name: round, dtype: object\n",
      "null_values: 30\n",
      "unique value:\n",
      "['F' 'SF' 'QF' 'R16' 'R32' 'Q1' 'Q2' 'Q3' 'R64' 'R128' 'RR' 'BR' nan]\n"
     ]
    }
   ],
   "source": [
    "print(\"description of best_of:\" + \"\\n\"+str(df['round'].describe()))\n",
    "print(\"null_values: \"+ str(df['round'].isnull().sum())) #30\n",
    "print(\"unique value:\" + \"\\n\"+str(df['round'].unique())) \n",
    "# ['F' 'SF' 'QF' 'R16' 'R32' 'Q1' 'Q2' 'Q3' 'R64' 'R128' 'RR' 'BR' nan]\n"
   ]
  },
  {
   "cell_type": "markdown",
   "id": "1700fa8a",
   "metadata": {},
   "source": [
    "### best_of\n",
    "\n",
    "'3' or '5', indicating the number of set for this match\n",
    "\n",
    "Analisi: i valori sembrano entrare nel range specificato perchè sono tutti 3,5 con la presenza di alcuni valori null (29). "
   ]
  },
  {
   "cell_type": "code",
   "execution_count": 15,
   "id": "79ceac48",
   "metadata": {},
   "outputs": [
    {
     "name": "stdout",
     "output_type": "stream",
     "text": [
      "description of best_of:\n",
      "count    186099.000000\n",
      "mean          3.034100\n",
      "std           0.258917\n",
      "min           3.000000\n",
      "25%           3.000000\n",
      "50%           3.000000\n",
      "75%           3.000000\n",
      "max           5.000000\n",
      "Name: best_of, dtype: float64\n",
      "null_values: 29\n",
      "unique value:\n",
      "[ 3.  5. nan]\n"
     ]
    }
   ],
   "source": [
    "print(\"description of best_of:\" + \"\\n\"+str(df.best_of.describe()))\n",
    "print(\"null_values: \"+ str(df.best_of.isnull().sum())) #29\n",
    "print(\"unique value:\" + \"\\n\"+str(df.best_of.unique())) # [ 3.  5. nan]\n"
   ]
  },
  {
   "cell_type": "markdown",
   "id": "126324cf",
   "metadata": {},
   "source": [
    "## Players"
   ]
  },
  {
   "cell_type": "markdown",
   "id": "0d068be3",
   "metadata": {},
   "source": [
    "### winner_id and loser_id\n",
    "\n",
    "the player_id used in this repo for the winner of the match.\n",
    "\n",
    "Analisi: Potremmo raggrupare id di ogni giocatore con il proprio nome in modo da avere nella lista dei giocatori l'associazione player-id. Tramite la groupby possiamo notare soltanto 13 valori diversi per nome-id (possibili wrong values)"
   ]
  },
  {
   "cell_type": "code",
   "execution_count": 155,
   "id": "4fe8b19e",
   "metadata": {},
   "outputs": [
    {
     "name": "stdout",
     "output_type": "stream",
     "text": [
      "\n",
      "description of:\n",
      "           winner_id       loser_id\n",
      "count  186073.000000  186100.000000\n",
      "mean   180151.623529  181662.421397\n",
      "std     46547.170898   46618.084325\n",
      "min    100644.000000  100644.000000\n",
      "25%    122425.000000  124116.000000\n",
      "50%    203530.000000  205815.000000\n",
      "75%    214152.000000  214818.000000\n",
      "max    245099.000000  245099.000000\n",
      "null_values: \t  55\t\t 28\n",
      "1    6163\n",
      "2      13\n",
      "Name: winner_name, dtype: int64\n"
     ]
    }
   ],
   "source": [
    "print(\"\\ndescription of:\" + \"\\n\"+str(df[['winner_id', 'loser_id']].describe()))\n",
    "print(\"null_values: \\t  \"+ str(df.winner_id.isnull().sum()) + \"\\t\\t \"\n",
    "      + str(df.loser_id.isnull().sum())) #55 | 28 \n",
    "\n",
    "print(df.groupby(['winner_id']).winner_name.nunique().value_counts())\n",
    "\n",
    "# df.groupby(['winner_id']).winner_name.nunique() "
   ]
  },
  {
   "cell_type": "markdown",
   "id": "01f454aa",
   "metadata": {},
   "source": [
    "### winner_name and loser_name\n",
    "\n",
    "name of player that win \n",
    "\n",
    "Analisi: abbiamo già esaminato questi valori quando abbiamo fatto la parte di dataintegration quindi al momento rimane solo da gestire il problema dei null"
   ]
  },
  {
   "cell_type": "code",
   "execution_count": 151,
   "id": "2ab87eb3",
   "metadata": {},
   "outputs": [
    {
     "name": "stdout",
     "output_type": "stream",
     "text": [
      "\n",
      "description of:\n",
      "           winner_name     loser_name\n",
      "count           186101         186097\n",
      "unique            6180          10060\n",
      "top     Novak Djokovic  Federico Gaio\n",
      "freq               289            180\n",
      "null_values: \t    27\t\t   31\n"
     ]
    }
   ],
   "source": [
    "print(\"\\ndescription of:\" + \"\\n\"+str(df[['winner_name', 'loser_name']].describe()))\n",
    "print(\"null_values: \\t    \"+ str(df.winner_name.isnull().sum()) + \"\\t\\t   \"\n",
    "      + str(df.loser_name.isnull().sum())) #27 | 31 \n"
   ]
  },
  {
   "cell_type": "markdown",
   "id": "897f0c1d",
   "metadata": {},
   "source": [
    "### Winner and loser ioc \n",
    "\n",
    "three-character country code\n",
    "\n",
    "Analisi: ogni vincitore ha il proprio paese di riferimento, potremmo raggrupparli tutti per partecipanti e capire bene tutti i partecipanti del torneo di una determinata nazione. I Null sono pochi quindi volendo potrei fare una previsione controllando il nome del partecipante con gli scenari precedenti"
   ]
  },
  {
   "cell_type": "code",
   "execution_count": 145,
   "id": "89530b3d",
   "metadata": {},
   "outputs": [
    {
     "name": "stdout",
     "output_type": "stream",
     "text": [
      "\n",
      "description of:\n",
      "       winner_ioc loser_ioc\n",
      "count      186099    186102\n",
      "unique        124       154\n",
      "top           USA       USA\n",
      "freq        16464     16728\n",
      "null_values:    29\t   26\n",
      "\n",
      "different county names:\n",
      "          0\n",
      "count   154\n",
      "unique  154\n",
      "top     JPN\n",
      "freq      1\n"
     ]
    }
   ],
   "source": [
    "print(\"\\ndescription of:\" + \"\\n\"+str(df[['winner_ioc', 'loser_ioc']].describe()))\n",
    "print(\"null_values:    \"+ str(df.winner_ioc.isnull().sum()) + \"\\t   \"\n",
    "      + str(df.loser_ioc.isnull().sum())) #29 | 26 \n",
    "\n",
    "nation=np.concatenate((df.winner_ioc.unique(), df.loser_ioc.unique()),0)\n",
    "country = pd.DataFrame(nation)\n",
    "country = country.drop_duplicates()\n",
    "\n",
    "print(\"\\ndifferent county names:\" + \"\\n\" + str(country.describe()))"
   ]
  },
  {
   "cell_type": "markdown",
   "id": "47b9efd3",
   "metadata": {},
   "source": [
    "### winner and loser ht\n",
    "\n",
    "height in centimetres, where available\n",
    "\n",
    "Analysis: abbiamo tanti valori null, in questo caso potremmo andare ad analizzare il nome del vincitore e vedere la nazionalità associata precedentemente per poi fare sostituire i valori null. Dato che l'altezza è un numero intero potremmo convertirlo in interi ma in questo momento lo lasciamo in float"
   ]
  },
  {
   "cell_type": "code",
   "execution_count": 144,
   "id": "157a7ef1",
   "metadata": {},
   "outputs": [
    {
     "name": "stdout",
     "output_type": "stream",
     "text": [
      "\n",
      "description of:\n",
      "          winner_ht     loser_ht\n",
      "count  49341.000000  38348.00000\n",
      "mean     181.407106    181.56308\n",
      "std       11.630899     10.81565\n",
      "min        2.000000      2.00000\n",
      "25%      175.000000    175.00000\n",
      "50%      183.000000    183.00000\n",
      "75%      188.000000    188.00000\n",
      "max      211.000000    211.00000\n",
      "null_values:    136787\t   147780\n"
     ]
    }
   ],
   "source": [
    "print(\"\\ndescription of:\" + \"\\n\"+str(df[['winner_ht', 'loser_ht']].describe()))\n",
    "print(\"null_values:    \"+ str(df.winner_ht.isnull().sum()) + \"\\t   \"\n",
    "      + str(df.loser_ht.isnull().sum())) #136787 | 147780 \n",
    "\n",
    "#df['winner_ht']=df['winner_ht'].fillna(0).astype(np.int64)\n",
    "\n",
    "#print(\"description of winner_ht:\" + \"\\n\"+str(df['winner_ht'].describe()))"
   ]
  },
  {
   "cell_type": "markdown",
   "id": "adf6fc52",
   "metadata": {},
   "source": [
    "### winner and loser age\n",
    "\n",
    "the age of the player, in years, depending on the date of the\n",
    "tournament\n",
    "\n",
    "\n",
    "Analisi: Bisogna capire cosa rappresenta la parte decimale, io opterei per trasformare tutto in valori interi ed utilizzare quei valori, inoltre l'età del vincitore può cambiare in base al torneo quindi potrei trovare un valore precedente per sostituire uno null."
   ]
  },
  {
   "cell_type": "code",
   "execution_count": 143,
   "id": "a7e79a94",
   "metadata": {},
   "outputs": [
    {
     "name": "stdout",
     "output_type": "stream",
     "text": [
      "\n",
      "description of:\n",
      "          winner_age      loser_age\n",
      "count  183275.000000  179590.000000\n",
      "mean       23.963517      23.765932\n",
      "std         4.462318       4.629857\n",
      "min        14.042437      14.006845\n",
      "25%        20.492813      20.131417\n",
      "50%        23.457906      23.227926\n",
      "75%        26.869268      26.767967\n",
      "max        95.000000      74.485969\n",
      "null_values:    2853\t   6538\n"
     ]
    }
   ],
   "source": [
    "print(\"\\ndescription of:\" + \"\\n\"+str(df[['winner_age', 'loser_age']].describe()))\n",
    "print(\"null_values:    \"+ str(df.winner_age.isnull().sum()) + \"\\t   \"\n",
    "      + str(df.loser_age.isnull().sum())) #2853 | 6538 \n"
   ]
  },
  {
   "cell_type": "markdown",
   "id": "75c019d9",
   "metadata": {},
   "source": [
    "### winner_hand and loser_hand\n",
    "R= right, L = left, U = unknown. For ambidextrous players, this is their\n",
    "serving hand.\n",
    "\n",
    "Analisi: anche qui abbiamo pochi null che possiamo rimpiazzare con i valori precedenti. Analizzando gli attributi possiamo scoprire che gli elementi all'interno sono unici e di tre tipi soltanto (non considerando i valori null)\n"
   ]
  },
  {
   "cell_type": "code",
   "execution_count": 142,
   "id": "ef446eed",
   "metadata": {},
   "outputs": [
    {
     "name": "stdout",
     "output_type": "stream",
     "text": [
      "\n",
      "description of:\n",
      "       winner_hand loser_hand\n",
      "count       186082     186030\n",
      "unique           3          3\n",
      "top              R          R\n",
      "freq        120610     109264\n",
      "null_values:    46\t   98\n"
     ]
    }
   ],
   "source": [
    "print(\"\\ndescription of:\" + \"\\n\"+str(df[['winner_hand', 'loser_hand']].describe()))\n",
    "print(\"null_values:    \"+ str(df.winner_hand.isnull().sum()) + \"\\t   \"\n",
    "      + str(df.loser_hand.isnull().sum())) #46 | 98 \n",
    "\n",
    "#print(\"unique value:\" + \"\\n\"+str(df.winner_hand.unique()))  \n",
    "#['R' 'L' 'U' nan]\n",
    "\n",
    "#print(\"unique value:\" + \"\\n\"+str(df.loser_hand.unique()))  \n",
    "#['R' 'L' 'U' nan]\n"
   ]
  },
  {
   "cell_type": "markdown",
   "id": "9f349ef8",
   "metadata": {},
   "source": [
    "### winner_entry and loser_entry\n",
    "\n",
    "'WC' = wild card, 'Q' = qualifier, 'LL' = lucky loser, 'PR' = protected\n",
    "ranking, 'ITF' = ITF entry, and there are a few others that are occasionally used.\n",
    "\n",
    "loser_entry: analogous\n",
    "\n",
    "Analysis: Abbiamo tanti valori null ma l'insieme di valori unici è di 19 valori"
   ]
  },
  {
   "cell_type": "code",
   "execution_count": 139,
   "id": "5290ca30",
   "metadata": {},
   "outputs": [
    {
     "name": "stdout",
     "output_type": "stream",
     "text": [
      "\n",
      "description of:\n",
      "       winner_entry loser_entry\n",
      "count         25827       44154\n",
      "unique           15          19\n",
      "top               Q           Q\n",
      "freq          13575       20346\n",
      "null_values:  160301\t  141974\n",
      "\n",
      "different entry:\n",
      "         0\n",
      "count   19\n",
      "unique  19\n",
      "top     PR\n",
      "freq     1\n"
     ]
    }
   ],
   "source": [
    "print(\"\\ndescription of:\" + \"\\n\"+str(df[['winner_entry', 'loser_entry']].describe()))\n",
    "print(\"null_values:  \"+ str(df.winner_entry.isnull().sum()) + \"\\t  \"\n",
    "      + str(df.loser_entry.isnull().sum())) #160301 | 141974 \n",
    "\n",
    "\n",
    "#print(\"unique value:\" + \"\\n\"+str(df.winner_entry.unique())) \n",
    "\n",
    "#[nan 'PR' 'Q' 'WC' 'Alt' 'LL' 'SE' 'ALT' 'SR' 'JE' 'A' 'ITF' 'P' 'I' 'IR' 'JR']\n",
    "\n",
    "#print(\"unique value:\" + \"\\n\"+str(df.loser_entry.unique())) \n",
    "\n",
    "#[nan 'PR' 'Q' 'LL' 'WC' 'Alt' 'A' 'SE' 'ALT' 'SR' 'JE' '3' '4' '6' 'ITF' 'I' 'P' 'J' 'IR' 'JR']\n",
    "\n",
    "\n",
    "entry=np.concatenate((df.winner_entry.unique(), df.loser_entry.unique()),0)\n",
    "entry = pd.DataFrame(entry)\n",
    "entry = entry.drop_duplicates()\n",
    "\n",
    "print(\"\\ndifferent entry:\" + \"\\n\" + str(entry.describe()))"
   ]
  },
  {
   "cell_type": "markdown",
   "id": "7b332c11",
   "metadata": {},
   "source": [
    "### winner_rank     loser_rank       \n",
    "\n",
    "winner's ATP or WTA rank, as of the tourney_date, or the most recentranking date before the tourney_date\n",
    "\n",
    "Analisi: Molti null, possiamo usare il rank del vincitore per esaminare come cambia durante i vari tornei. Potremmo usare un associazione anche qui con id-nome-nazionalità-rank-ecc.. magari nella parte di data preparation"
   ]
  },
  {
   "cell_type": "code",
   "execution_count": 135,
   "id": "2e587dac",
   "metadata": {},
   "outputs": [
    {
     "name": "stdout",
     "output_type": "stream",
     "text": [
      "\n",
      "description of:\n",
      "         winner_rank     loser_rank\n",
      "count  166719.000000  150845.000000\n",
      "mean      383.810723     434.303736\n",
      "std       313.996466     355.803171\n",
      "min         1.000000       1.000000\n",
      "25%       137.000000     157.000000\n",
      "50%       298.000000     325.000000\n",
      "75%       562.000000     642.000000\n",
      "max      2220.000000    2257.000000\n",
      "null_values:   19409\t      35283\n"
     ]
    }
   ],
   "source": [
    "print(\"\\ndescription of:\" + \"\\n\"+str(df[['winner_rank', 'loser_rank']].describe()))\n",
    "print(\"null_values:   \"+ str(df.winner_rank.isnull().sum()) + \"\\t      \"\n",
    "      + str(df.loser_rank.isnull().sum())) #19409 | 35283 \n"
   ]
  },
  {
   "cell_type": "markdown",
   "id": "36987a88",
   "metadata": {},
   "source": [
    "### winner_rank_points     loser_rank_points\n",
    "\n",
    "number of ranking points, where available.\n",
    "\n",
    "Analisi: anche qui abbiamo dei null value, possiamo mettere in correlazione il rank con rank_point per capire in ordine quali sono i migliori giocatori\n",
    "\n",
    "Analisi: anche qui abbiamo dei null value, possiamo mettere in correlazione questi valori per capire le statistiche di ogni giocatore"
   ]
  },
  {
   "cell_type": "code",
   "execution_count": 126,
   "id": "f7731d90",
   "metadata": {},
   "outputs": [
    {
     "name": "stdout",
     "output_type": "stream",
     "text": [
      "\n",
      "description of:\n",
      "       winner_rank_points  loser_rank_points\n",
      "count       166701.000000      150828.000000\n",
      "mean           470.450789         356.328692\n",
      "std           1041.008107         702.626048\n",
      "min              1.000000           1.000000\n",
      "25%             49.000000          35.000000\n",
      "50%            161.000000         138.000000\n",
      "75%            438.000000         377.000000\n",
      "max          16950.000000       16950.000000\n",
      "null_values:\t    19427\t       35300\n"
     ]
    }
   ],
   "source": [
    "print(\"\\ndescription of:\" + \"\\n\"+str(df[['winner_rank_points', 'loser_rank_points']].describe()))\n",
    "print(\"null_values:\\t    \"+ str(df.winner_rank_points.isnull().sum()) + \"\\t       \"\n",
    "      + str(df.loser_rank_points.isnull().sum())) #19427 | 35300 \n"
   ]
  },
  {
   "cell_type": "markdown",
   "id": "254c4f2a",
   "metadata": {},
   "source": [
    "### w_ace l_ace\n",
    "\n",
    "winner's number of aces\n",
    "\n",
    "Analisi: anche qui abbiamo dei null value, possiamo mettere in correlazione questi valori per capire le statistiche di ogni giocatore"
   ]
  },
  {
   "cell_type": "code",
   "execution_count": 116,
   "id": "27e6d5c3",
   "metadata": {
    "scrolled": true
   },
   "outputs": [
    {
     "name": "stdout",
     "output_type": "stream",
     "text": [
      "\n",
      "description of:\n",
      "              w_ace         l_ace\n",
      "count  82310.000000  82313.000000\n",
      "mean       4.813425      3.527875\n",
      "std        4.387105      3.828217\n",
      "min        0.000000      0.000000\n",
      "25%        2.000000      1.000000\n",
      "50%        4.000000      2.000000\n",
      "75%        7.000000      5.000000\n",
      "max       75.000000     67.000000\n",
      "null_values: 103818\t   103815\n"
     ]
    }
   ],
   "source": [
    "print(\"\\ndescription of:\" + \"\\n\"+str(df[['w_ace', 'l_ace']].describe()))\n",
    "print(\"null_values: \"+ str(df.w_ace.isnull().sum()) + \"\\t   \"\n",
    "      + str(df.l_ace.isnull().sum())) #103818 | 103815 \n",
    "\n",
    "#print(\"unique value:\" + \"\\n\"+str(df.w_ace.unique())) \n",
    "\n",
    "#[ 3. 10.  2. 12.  5. 11.  1. 16. 21. 17. 15.  6.  7. 18. 44.  9.  8.  4.\n",
    "#  0. 14. 13. nan 33. 25. 20. 22. 26. 40. 19. 28. 29. 24. 30. 39. 23. 43.\n",
    "\n",
    "#print(\"unique value:\" + \"\\n\"+str(df.l_ace.unique())) \n",
    "\n",
    "#[ 8. 17. 10.  1. 29. 12.  3.  5.  6. 13.  7.  4. 27. 22.  2.  0. 11. 20.\n",
    "#  9. nan 14. 36. 26. 15. 16. 47. 24. 18. 25. 21. 59. 28. 19. 23. 67. 38.\n",
    "# 37. 30. 34. 33. 31. 32. 40. 35. 52. 61. 53. 44. 45. 46. 56. 43. 39.]"
   ]
  },
  {
   "cell_type": "markdown",
   "id": "4dca1fb9",
   "metadata": {},
   "source": [
    "###  w_df      l_df\n",
    "\n",
    "winner's number of doubles faults\n",
    "\n",
    "Analisi: anche qui abbiamo dei null value, possiamo mettere in correlazione questi valori per capire le statistiche di ogni giocatore"
   ]
  },
  {
   "cell_type": "code",
   "execution_count": 115,
   "id": "2518417d",
   "metadata": {},
   "outputs": [
    {
     "name": "stdout",
     "output_type": "stream",
     "text": [
      "\n",
      "description of:\n",
      "               w_df          l_df\n",
      "count  82312.000000  82319.000000\n",
      "mean       2.858174      3.612556\n",
      "std        2.421105      2.608092\n",
      "min        0.000000      0.000000\n",
      "25%        1.000000      2.000000\n",
      "50%        2.000000      3.000000\n",
      "75%        4.000000      5.000000\n",
      "max      114.000000    114.000000\n",
      "null_values: 103816\t   103809\n"
     ]
    }
   ],
   "source": [
    "print(\"\\ndescription of:\" + \"\\n\"+str(df[['w_df', 'l_df']].describe()))\n",
    "print(\"null_values: \"+ str(df.w_df.isnull().sum()) + \"\\t   \"\n",
    "      + str(df.l_df.isnull().sum())) #103816 | 103809 \n"
   ]
  },
  {
   "cell_type": "markdown",
   "id": "bb39a646",
   "metadata": {},
   "source": [
    "### w_svpt   l_svpt\n",
    "\n",
    "winner's number of serve points\n",
    "\n",
    "Analisi: anche qui abbiamo dei null value, possiamo mettere in correlazione questi valori per capire le statistiche di ogni giocatore"
   ]
  },
  {
   "cell_type": "code",
   "execution_count": 114,
   "id": "0014930d",
   "metadata": {},
   "outputs": [
    {
     "name": "stdout",
     "output_type": "stream",
     "text": [
      "\n",
      "description of:\n",
      "             w_svpt        l_svpt\n",
      "count  82310.000000  82315.000000\n",
      "mean      71.288069     73.557335\n",
      "std       25.524468     24.985696\n",
      "min        0.000000      0.000000\n",
      "25%       53.000000     56.000000\n",
      "50%       67.000000     69.000000\n",
      "75%       87.000000     88.000000\n",
      "max     1957.000000   1672.000000\n",
      "null_values: 103818\t   103813\n"
     ]
    }
   ],
   "source": [
    "print(\"\\ndescription of:\" + \"\\n\"+str(df[['w_svpt', 'l_svpt']].describe()))\n",
    "print(\"null_values: \"+ str(df.w_svpt.isnull().sum()) + \"\\t   \"\n",
    "      + str(df.l_svpt.isnull().sum())) #103818 | 103813 \n"
   ]
  },
  {
   "cell_type": "markdown",
   "id": "748f87c2",
   "metadata": {},
   "source": [
    "### w_1st    ln l_1stln\n",
    "\n",
    "winner’s number of first serves made\n",
    "\n",
    "Analisi: anche qui abbiamo dei null value, possiamo mettere in correlazione questi valori per capire le statistiche di ogni giocatore"
   ]
  },
  {
   "cell_type": "code",
   "execution_count": 112,
   "id": "b6076a6a",
   "metadata": {},
   "outputs": [
    {
     "name": "stdout",
     "output_type": "stream",
     "text": [
      "\n",
      "description of:\n",
      "            w_1stIn       l_1stIn\n",
      "count  82310.000000  82304.000000\n",
      "mean      44.270477     44.557737\n",
      "std       16.951922     16.776201\n",
      "min        0.000000      0.000000\n",
      "25%       32.000000     33.000000\n",
      "50%       42.000000     42.000000\n",
      "75%       54.000000     54.000000\n",
      "max     1330.000000    893.000000\n",
      "null_values: 103818\t   103824\n"
     ]
    }
   ],
   "source": [
    "print(\"\\ndescription of:\" + \"\\n\"+str(df[['w_1stIn', 'l_1stIn']].describe()))\n",
    "print(\"null_values: \"+ str(df.w_1stIn.isnull().sum()) + \"\\t   \"\n",
    "      + str(df.l_1stIn.isnull().sum())) #103818 | 103824 \n"
   ]
  },
  {
   "cell_type": "markdown",
   "id": "385d16a5",
   "metadata": {},
   "source": [
    "### w_1stWon    l_1stWon\n",
    "\n",
    "winner’s number of first-serve points won\n",
    "\n",
    "Analisi: anche qui abbiamo dei null value, possiamo mettere in correlazione questi valori per capire le statistiche di ogni giocatore"
   ]
  },
  {
   "cell_type": "code",
   "execution_count": 113,
   "id": "2d69b198",
   "metadata": {},
   "outputs": [
    {
     "name": "stdout",
     "output_type": "stream",
     "text": [
      "\n",
      "description of:\n",
      "           w_1stWon      l_1stWon\n",
      "count  82312.000000  82311.000000\n",
      "mean      32.130564     28.028903\n",
      "std       11.409554     12.270939\n",
      "min        0.000000      0.000000\n",
      "25%       24.000000     19.000000\n",
      "50%       30.000000     26.000000\n",
      "75%       38.000000     35.000000\n",
      "max      836.000000    532.000000\n",
      "null_values: 103816\t   103817\n"
     ]
    }
   ],
   "source": [
    "print(\"\\ndescription of:\" + \"\\n\"+str(df[['w_1stWon', 'l_1stWon']].describe()))\n",
    "print(\"null_values: \"+ str(df.w_1stWon.isnull().sum()) + \"\\t   \"\n",
    "      + str(df.l_1stWon.isnull().sum())) #103816 | 103817\n"
   ]
  },
  {
   "cell_type": "markdown",
   "id": "a35e6672",
   "metadata": {},
   "source": [
    "### w_2ndWon  l_2ndWon\n",
    "\n",
    "winner’s number of second-serve points won\n",
    "\n",
    "Analisi: anche qui abbiamo dei null value, possiamo mettere in correlazione questi valori per capire le statistiche di ogni giocatore"
   ]
  },
  {
   "cell_type": "code",
   "execution_count": 111,
   "id": "72e14292",
   "metadata": {},
   "outputs": [
    {
     "name": "stdout",
     "output_type": "stream",
     "text": [
      "\n",
      "description of:\n",
      "           w_2ndWon      l_2ndWon\n",
      "count  82309.000000  82312.000000\n",
      "mean      14.451251     12.705681\n",
      "std        5.933102      6.320212\n",
      "min        0.000000      0.000000\n",
      "25%       10.000000      8.000000\n",
      "50%       14.000000     12.000000\n",
      "75%       18.000000     16.000000\n",
      "max      304.000000    399.000000\n",
      "null_values: 103819\t   103816\n"
     ]
    }
   ],
   "source": [
    "print(\"\\ndescription of:\" + \"\\n\"+str(df[['w_2ndWon', 'l_2ndWon']].describe()))\n",
    "print(\"null_values: \"+ str(df.w_2ndWon.isnull().sum()) + \"\\t   \"\n",
    "      + str(df.l_2ndWon.isnull().sum())) #103819 | 103816 \n"
   ]
  },
  {
   "cell_type": "markdown",
   "id": "03906e32",
   "metadata": {},
   "source": [
    "### w_SvGms    l_SvGms\n",
    "\n",
    "winner’s number of serve games\n",
    "\n",
    "Analisi: anche qui abbiamo dei null value, possiamo mettere in correlazione questi valori per capire le statistiche di ogni giocatore"
   ]
  },
  {
   "cell_type": "code",
   "execution_count": 108,
   "id": "6863ae8a",
   "metadata": {},
   "outputs": [
    {
     "name": "stdout",
     "output_type": "stream",
     "text": [
      "\n",
      "description of:\n",
      "            w_SvGms       l_SvGms\n",
      "count  82311.000000  82318.000000\n",
      "mean      11.114784     10.940353\n",
      "std        3.512519      3.497649\n",
      "min        0.000000      0.000000\n",
      "25%        9.000000      9.000000\n",
      "50%       10.000000     10.000000\n",
      "75%       14.000000     13.000000\n",
      "max       49.000000     50.000000\n",
      "null_values: 103817\t   103810\n"
     ]
    }
   ],
   "source": [
    "print(\"\\ndescription of:\" + \"\\n\"+str(df[['w_SvGms', 'l_SvGms']].describe()))\n",
    "print(\"null_values: \"+ str(df.w_SvGms.isnull().sum()) + \"\\t   \"\n",
    "      + str(df.l_SvGms.isnull().sum())) #103817 | 103810 "
   ]
  },
  {
   "cell_type": "markdown",
   "id": "51f95c9b",
   "metadata": {},
   "source": [
    "### w_bpSaved   l_bpSaved\n",
    "\n",
    "winner's number of breakpoints saved\n",
    "\n",
    "Analisi: anche qui abbiamo dei null value, possiamo mettere in correlazione questi valori per capire le statistiche di ogni giocatore"
   ]
  },
  {
   "cell_type": "code",
   "execution_count": 109,
   "id": "f1193bbc",
   "metadata": {},
   "outputs": [
    {
     "name": "stdout",
     "output_type": "stream",
     "text": [
      "\n",
      "description of:\n",
      "          w_bpSaved     l_bpSaved\n",
      "count  82315.000000  82311.000000\n",
      "mean       3.540861      4.660641\n",
      "std        3.109012      3.148227\n",
      "min        0.000000      0.000000\n",
      "25%        1.000000      2.000000\n",
      "50%        3.000000      4.000000\n",
      "75%        5.000000      6.000000\n",
      "max      209.000000    120.000000\n",
      "null_values: 103813\t   103817\n"
     ]
    }
   ],
   "source": [
    "print(\"\\ndescription of:\" + \"\\n\"+str(df[['w_bpSaved', 'l_bpSaved']].describe()))\n",
    "print(\"null_values: \"+ str(df.w_bpSaved.isnull().sum()) + \"\\t   \"\n",
    "      + str(df.l_bpSaved.isnull().sum())) #103813 | 103817 "
   ]
  },
  {
   "cell_type": "markdown",
   "id": "066baa6b",
   "metadata": {},
   "source": [
    "### w_bpFaced   l_bpFaced\n",
    "\n",
    "winner's number of breakpoints faced\n",
    "\n",
    "Analisi: anche qui abbiamo dei null value, possiamo mettere in correlazione questi valori per capire le statistiche di ogni giocatore"
   ]
  },
  {
   "cell_type": "code",
   "execution_count": 106,
   "id": "cc9015f8",
   "metadata": {},
   "outputs": [
    {
     "name": "stdout",
     "output_type": "stream",
     "text": [
      "\n",
      "description of:\n",
      "          w_bpFaced     l_bpFaced\n",
      "count  82312.000000  82306.000000\n",
      "mean       5.410244      8.872124\n",
      "std        4.206825      3.969575\n",
      "min        0.000000      0.000000\n",
      "25%        2.000000      6.000000\n",
      "50%        5.000000      8.000000\n",
      "75%        8.000000     11.000000\n",
      "max      266.000000    190.000000\n",
      "null_values: 103816\t   103822\n"
     ]
    }
   ],
   "source": [
    "print(\"\\ndescription of:\" + \"\\n\"+str(df[['w_bpFaced', 'l_bpFaced']].describe()))\n",
    "print(\"null_values: \"+ str(df.w_bpFaced.isnull().sum()) + \"\\t   \"\n",
    "      + str(df.l_bpFaced.isnull().sum())) #103816 | 103822 \n",
    "\n",
    "#print(\"unique value:\" + \"\\n\"+str(df.w_bpFaced.unique())) \n",
    "\n",
    "#[  6.   1.   2.   5.   8.   7.   0.   3.   4.   9.  17.  12.  11.  10.\n",
    "#  14.  15.  13.  nan  18.  16.  22.  21.  19.  25.  23.  20.  27.  24.\n",
    "#26.  30.  28.  29.  33. 266.  70.  36. 180.  34.]\n",
    "\n",
    "#print(\"unique value:\" + \"\\n\"+str(df.l_bpFaced.unique())) \n",
    "\n",
    "#[ 15.  13.   5.   6.   4.   9.  11.   3.   2.   7.   8.   1.  18.  10.\n",
    "#  25.  19.  14.  17.  nan  12.   0.  16.  20.  21.  22.  23.  24.  29.\n",
    "#  26.  27.  28.  30.  31.  35. 190. 170.  48.  60. 180.]\n"
   ]
  },
  {
   "cell_type": "markdown",
   "id": "1c682095",
   "metadata": {},
   "source": [
    "### winner_gender  loser_gender\n",
    "\n",
    "gender of winner and loser\n",
    "\n",
    "Analisi: Avevamo già analizzato questi dati precedentemente con la parte di data integration."
   ]
  },
  {
   "cell_type": "code",
   "execution_count": 110,
   "id": "a6a40af7",
   "metadata": {},
   "outputs": [
    {
     "name": "stdout",
     "output_type": "stream",
     "text": [
      "\n",
      "description of:\n",
      "       winner_gender loser_gender\n",
      "count         183424       183999\n",
      "unique             3            3\n",
      "top                F            F\n",
      "freq          125314       125287\n",
      "null_values: \t2704\t     2129\n",
      "unique value:\n",
      "['M' nan 'F' 'U']\n",
      "unique value:\n",
      "['M' nan 'F' 'U']\n"
     ]
    }
   ],
   "source": [
    "print(\"\\ndescription of:\" + \"\\n\"+str(df[['winner_gender', 'loser_gender']].describe()))\n",
    "print(\"null_values: \\t\"+ str(df.winner_gender.isnull().sum()) + \"\\t     \"\n",
    "      + str(df.loser_gender.isnull().sum())) #2704 | 2129\n",
    "\n",
    "print(\"unique value:\" + \"\\n\"+str(df.winner_gender.unique())) #['M' nan 'F' 'U']\n",
    "print(\"unique value:\" + \"\\n\"+str(df.loser_gender.unique())) #['M' nan 'F' 'U']"
   ]
  }
 ],
 "metadata": {
  "kernelspec": {
   "display_name": "Python 3 (ipykernel)",
   "language": "python",
   "name": "python3"
  },
  "language_info": {
   "codemirror_mode": {
    "name": "ipython",
    "version": 3
   },
   "file_extension": ".py",
   "mimetype": "text/x-python",
   "name": "python",
   "nbconvert_exporter": "python",
   "pygments_lexer": "ipython3",
   "version": "3.9.6"
  }
 },
 "nbformat": 4,
 "nbformat_minor": 5
}
